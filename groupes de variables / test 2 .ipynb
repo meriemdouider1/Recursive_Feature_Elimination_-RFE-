{
  "nbformat": 4,
  "nbformat_minor": 0,
  "metadata": {
    "colab": {
      "name": "Untitled79.ipynb",
      "provenance": [],
      "authorship_tag": "ABX9TyP8iKNFanAifeNhA2T+GYKx",
      "include_colab_link": true
    },
    "kernelspec": {
      "name": "python3",
      "display_name": "Python 3"
    },
    "language_info": {
      "name": "python"
    }
  },
  "cells": [
    {
      "cell_type": "markdown",
      "metadata": {
        "id": "view-in-github",
        "colab_type": "text"
      },
      "source": [
        "<a href=\"https://colab.research.google.com/github/meriemdouider1/mois1-mois2/blob/main/groupes%20de%20variables%20/%20test%202%20.ipynb\" target=\"_parent\"><img src=\"https://colab.research.google.com/assets/colab-badge.svg\" alt=\"Open In Colab\"/></a>"
      ]
    },
    {
      "cell_type": "code",
      "metadata": {
        "id": "RlmUgAkuFdId"
      },
      "source": [
        "import sklearn\n",
        "import pandas as pd\n",
        "import numpy as np\n",
        "import matplotlib.pyplot as plt\n",
        "import seaborn as sns\n",
        "from sklearn.model_selection import train_test_split\n",
        "from sklearn.ensemble import RandomForestRegressor, RandomForestClassifier\n",
        "from sklearn.metrics import roc_auc_score, r2_score\n",
        "import sklearn\n",
        "import pandas as pd\n",
        "import numpy as np\n",
        "import matplotlib.pyplot as plt\n",
        "import seaborn as sns\n",
        "from sklearn.naive_bayes import GaussianNB\n",
        "from sklearn.ensemble import BaggingClassifier\n",
        "from sklearn.tree import DecisionTreeClassifier\n",
        "from xgboost import XGBClassifier\n",
        "from sklearn.metrics import accuracy_score\n",
        "from sklearn.metrics import precision_score\n",
        "from sklearn.metrics import recall_score\n",
        "from sklearn.metrics import f1_score\n",
        "from sklearn.metrics import confusion_matrix\n",
        "import numpy\n",
        "import sklearn.metrics as metrics\n",
        "from sklearn.ensemble import RandomForestClassifier\n",
        "from sklearn.neighbors import KNeighborsClassifier\n",
        "from sklearn import svm\n",
        "from sklearn.model_selection import StratifiedKFold\n",
        "from sklearn.model_selection import cross_val_score\n",
        "from sklearn.model_selection import LeaveOneOut\n",
        "from numpy import mean\n",
        "from numpy import std\n",
        "from sklearn.datasets import make_classification\n",
        "from sklearn.model_selection import KFold\n",
        "from sklearn.model_selection import cross_val_score\n",
        "from sklearn.linear_model import LogisticRegression\n",
        "from sklearn.metrics import make_scorer\n",
        "import matplotlib.pyplot as plt\n",
        "from sklearn.model_selection import LeaveOneOut\n",
        "from sklearn.datasets import make_classification\n",
        "from sklearn.ensemble import RandomForestClassifier\n",
        "from sklearn import datasets, metrics, model_selection, svm\n",
        "import numpy as np\n",
        "from sklearn import svm, datasets\n",
        "from sklearn.metrics import auc\n",
        "from sklearn.metrics import plot_roc_curve\n",
        "from sklearn.model_selection import StratifiedKFold\n",
        "from sklearn.datasets import make_classification\n",
        "from sklearn.ensemble import RandomForestClassifier\n",
        "from sklearn import datasets, metrics, model_selection, svm\n",
        "from sklearn.metrics import matthews_corrcoef\n",
        "from sklearn.svm import SVC\n",
        "from sklearn.metrics import cohen_kappa_score\n",
        "from sklearn.ensemble import GradientBoostingClassifier\n",
        "from sklearn.feature_selection import RFE\n",
        "from sklearn.pipeline import Pipeline\n",
        "from matplotlib import pyplot\n",
        "from sklearn.metrics import recall_score\n"
      ],
      "execution_count": 148,
      "outputs": []
    },
    {
      "cell_type": "code",
      "metadata": {
        "id": "eZpW8fsXFrh3"
      },
      "source": [
        "Cl = '/content/axe_app_2.xlsx' \n",
        "apprentissage= pd.read_excel(Cl, sheet_name=0,header=0,index_col=False, keep_default_na=True)"
      ],
      "execution_count": 149,
      "outputs": []
    },
    {
      "cell_type": "code",
      "source": [
        "apprentissage"
      ],
      "metadata": {
        "colab": {
          "base_uri": "https://localhost:8080/",
          "height": 487
        },
        "id": "vLoByxZ1jqnm",
        "outputId": "a398eadd-dc4e-415f-ef90-4dc2c3518729"
      },
      "execution_count": 150,
      "outputs": [
        {
          "output_type": "execute_result",
          "data": {
            "text/html": [
              "\n",
              "  <div id=\"df-97eea9be-e873-461b-ac1a-e5245c1572b3\">\n",
              "    <div class=\"colab-df-container\">\n",
              "      <div>\n",
              "<style scoped>\n",
              "    .dataframe tbody tr th:only-of-type {\n",
              "        vertical-align: middle;\n",
              "    }\n",
              "\n",
              "    .dataframe tbody tr th {\n",
              "        vertical-align: top;\n",
              "    }\n",
              "\n",
              "    .dataframe thead th {\n",
              "        text-align: right;\n",
              "    }\n",
              "</style>\n",
              "<table border=\"1\" class=\"dataframe\">\n",
              "  <thead>\n",
              "    <tr style=\"text-align: right;\">\n",
              "      <th></th>\n",
              "      <th>axe_groupett</th>\n",
              "      <th>axe_Distribution_des_animaux</th>\n",
              "      <th>axe_indices_de_vegetation</th>\n",
              "      <th>axe_IRM</th>\n",
              "      <th>axe_Occupation_du_Sol</th>\n",
              "      <th>axe_Precipitation</th>\n",
              "      <th>axe_Rad</th>\n",
              "      <th>axe_sol</th>\n",
              "      <th>axe_Temperature</th>\n",
              "      <th>axe_Topographique</th>\n",
              "      <th>axe_vap</th>\n",
              "      <th>axe_vent</th>\n",
              "      <th>Cs_longia</th>\n",
              "    </tr>\n",
              "  </thead>\n",
              "  <tbody>\n",
              "    <tr>\n",
              "      <th>0</th>\n",
              "      <td>-0.165011</td>\n",
              "      <td>-2.321794</td>\n",
              "      <td>5.899955</td>\n",
              "      <td>0.150247</td>\n",
              "      <td>0.724789</td>\n",
              "      <td>0.401111</td>\n",
              "      <td>-206.693527</td>\n",
              "      <td>2.161217</td>\n",
              "      <td>0.017691</td>\n",
              "      <td>-0.000714</td>\n",
              "      <td>-0.034906</td>\n",
              "      <td>-0.388808</td>\n",
              "      <td>1</td>\n",
              "    </tr>\n",
              "    <tr>\n",
              "      <th>1</th>\n",
              "      <td>-0.193088</td>\n",
              "      <td>-2.867319</td>\n",
              "      <td>5.196421</td>\n",
              "      <td>-1.296295</td>\n",
              "      <td>0.651971</td>\n",
              "      <td>0.383420</td>\n",
              "      <td>-96.371429</td>\n",
              "      <td>1.860189</td>\n",
              "      <td>0.026570</td>\n",
              "      <td>-0.000167</td>\n",
              "      <td>0.003787</td>\n",
              "      <td>-0.257363</td>\n",
              "      <td>1</td>\n",
              "    </tr>\n",
              "    <tr>\n",
              "      <th>2</th>\n",
              "      <td>-0.193088</td>\n",
              "      <td>-2.867319</td>\n",
              "      <td>5.196421</td>\n",
              "      <td>-1.296295</td>\n",
              "      <td>0.651971</td>\n",
              "      <td>0.383420</td>\n",
              "      <td>-96.371429</td>\n",
              "      <td>1.860189</td>\n",
              "      <td>0.026570</td>\n",
              "      <td>-0.000167</td>\n",
              "      <td>0.003787</td>\n",
              "      <td>-0.257363</td>\n",
              "      <td>1</td>\n",
              "    </tr>\n",
              "    <tr>\n",
              "      <th>3</th>\n",
              "      <td>0.285950</td>\n",
              "      <td>-2.547017</td>\n",
              "      <td>5.440320</td>\n",
              "      <td>1.837637</td>\n",
              "      <td>0.651971</td>\n",
              "      <td>0.426090</td>\n",
              "      <td>-99.787354</td>\n",
              "      <td>0.857919</td>\n",
              "      <td>-0.030156</td>\n",
              "      <td>-0.000411</td>\n",
              "      <td>0.005402</td>\n",
              "      <td>-0.254525</td>\n",
              "      <td>0</td>\n",
              "    </tr>\n",
              "    <tr>\n",
              "      <th>4</th>\n",
              "      <td>-0.093919</td>\n",
              "      <td>-2.620316</td>\n",
              "      <td>-4.604058</td>\n",
              "      <td>2.152867</td>\n",
              "      <td>0.472991</td>\n",
              "      <td>0.444080</td>\n",
              "      <td>-108.942622</td>\n",
              "      <td>3.265398</td>\n",
              "      <td>-0.053430</td>\n",
              "      <td>-0.000064</td>\n",
              "      <td>0.001216</td>\n",
              "      <td>-0.138054</td>\n",
              "      <td>0</td>\n",
              "    </tr>\n",
              "    <tr>\n",
              "      <th>...</th>\n",
              "      <td>...</td>\n",
              "      <td>...</td>\n",
              "      <td>...</td>\n",
              "      <td>...</td>\n",
              "      <td>...</td>\n",
              "      <td>...</td>\n",
              "      <td>...</td>\n",
              "      <td>...</td>\n",
              "      <td>...</td>\n",
              "      <td>...</td>\n",
              "      <td>...</td>\n",
              "      <td>...</td>\n",
              "      <td>...</td>\n",
              "    </tr>\n",
              "    <tr>\n",
              "      <th>198</th>\n",
              "      <td>-0.081910</td>\n",
              "      <td>-4.559007</td>\n",
              "      <td>-3.692556</td>\n",
              "      <td>0.065121</td>\n",
              "      <td>0.322407</td>\n",
              "      <td>0.257797</td>\n",
              "      <td>39.053289</td>\n",
              "      <td>1.430412</td>\n",
              "      <td>0.083341</td>\n",
              "      <td>-0.000780</td>\n",
              "      <td>-0.005571</td>\n",
              "      <td>-0.297145</td>\n",
              "      <td>1</td>\n",
              "    </tr>\n",
              "    <tr>\n",
              "      <th>199</th>\n",
              "      <td>-0.331927</td>\n",
              "      <td>-1.311407</td>\n",
              "      <td>-0.011768</td>\n",
              "      <td>-1.150864</td>\n",
              "      <td>-0.036415</td>\n",
              "      <td>0.044145</td>\n",
              "      <td>-23.278399</td>\n",
              "      <td>1.643435</td>\n",
              "      <td>0.046807</td>\n",
              "      <td>0.000064</td>\n",
              "      <td>0.004136</td>\n",
              "      <td>-0.168777</td>\n",
              "      <td>1</td>\n",
              "    </tr>\n",
              "    <tr>\n",
              "      <th>200</th>\n",
              "      <td>-0.022746</td>\n",
              "      <td>-3.766470</td>\n",
              "      <td>1.534883</td>\n",
              "      <td>-2.264725</td>\n",
              "      <td>-0.219881</td>\n",
              "      <td>0.229938</td>\n",
              "      <td>102.891674</td>\n",
              "      <td>2.755469</td>\n",
              "      <td>0.039194</td>\n",
              "      <td>-0.000110</td>\n",
              "      <td>-0.000774</td>\n",
              "      <td>-0.274955</td>\n",
              "      <td>1</td>\n",
              "    </tr>\n",
              "    <tr>\n",
              "      <th>201</th>\n",
              "      <td>0.245270</td>\n",
              "      <td>-3.641378</td>\n",
              "      <td>0.725889</td>\n",
              "      <td>0.454767</td>\n",
              "      <td>-0.296282</td>\n",
              "      <td>-0.321261</td>\n",
              "      <td>5.203596</td>\n",
              "      <td>0.659265</td>\n",
              "      <td>-0.036637</td>\n",
              "      <td>0.000210</td>\n",
              "      <td>-0.003457</td>\n",
              "      <td>-0.029365</td>\n",
              "      <td>1</td>\n",
              "    </tr>\n",
              "    <tr>\n",
              "      <th>202</th>\n",
              "      <td>0.008249</td>\n",
              "      <td>-3.170156</td>\n",
              "      <td>9.884708</td>\n",
              "      <td>-0.514727</td>\n",
              "      <td>0.699962</td>\n",
              "      <td>-0.144510</td>\n",
              "      <td>12.627139</td>\n",
              "      <td>2.096776</td>\n",
              "      <td>0.055092</td>\n",
              "      <td>-0.000379</td>\n",
              "      <td>-0.000377</td>\n",
              "      <td>-0.149439</td>\n",
              "      <td>1</td>\n",
              "    </tr>\n",
              "  </tbody>\n",
              "</table>\n",
              "<p>203 rows × 13 columns</p>\n",
              "</div>\n",
              "      <button class=\"colab-df-convert\" onclick=\"convertToInteractive('df-97eea9be-e873-461b-ac1a-e5245c1572b3')\"\n",
              "              title=\"Convert this dataframe to an interactive table.\"\n",
              "              style=\"display:none;\">\n",
              "        \n",
              "  <svg xmlns=\"http://www.w3.org/2000/svg\" height=\"24px\"viewBox=\"0 0 24 24\"\n",
              "       width=\"24px\">\n",
              "    <path d=\"M0 0h24v24H0V0z\" fill=\"none\"/>\n",
              "    <path d=\"M18.56 5.44l.94 2.06.94-2.06 2.06-.94-2.06-.94-.94-2.06-.94 2.06-2.06.94zm-11 1L8.5 8.5l.94-2.06 2.06-.94-2.06-.94L8.5 2.5l-.94 2.06-2.06.94zm10 10l.94 2.06.94-2.06 2.06-.94-2.06-.94-.94-2.06-.94 2.06-2.06.94z\"/><path d=\"M17.41 7.96l-1.37-1.37c-.4-.4-.92-.59-1.43-.59-.52 0-1.04.2-1.43.59L10.3 9.45l-7.72 7.72c-.78.78-.78 2.05 0 2.83L4 21.41c.39.39.9.59 1.41.59.51 0 1.02-.2 1.41-.59l7.78-7.78 2.81-2.81c.8-.78.8-2.07 0-2.86zM5.41 20L4 18.59l7.72-7.72 1.47 1.35L5.41 20z\"/>\n",
              "  </svg>\n",
              "      </button>\n",
              "      \n",
              "  <style>\n",
              "    .colab-df-container {\n",
              "      display:flex;\n",
              "      flex-wrap:wrap;\n",
              "      gap: 12px;\n",
              "    }\n",
              "\n",
              "    .colab-df-convert {\n",
              "      background-color: #E8F0FE;\n",
              "      border: none;\n",
              "      border-radius: 50%;\n",
              "      cursor: pointer;\n",
              "      display: none;\n",
              "      fill: #1967D2;\n",
              "      height: 32px;\n",
              "      padding: 0 0 0 0;\n",
              "      width: 32px;\n",
              "    }\n",
              "\n",
              "    .colab-df-convert:hover {\n",
              "      background-color: #E2EBFA;\n",
              "      box-shadow: 0px 1px 2px rgba(60, 64, 67, 0.3), 0px 1px 3px 1px rgba(60, 64, 67, 0.15);\n",
              "      fill: #174EA6;\n",
              "    }\n",
              "\n",
              "    [theme=dark] .colab-df-convert {\n",
              "      background-color: #3B4455;\n",
              "      fill: #D2E3FC;\n",
              "    }\n",
              "\n",
              "    [theme=dark] .colab-df-convert:hover {\n",
              "      background-color: #434B5C;\n",
              "      box-shadow: 0px 1px 3px 1px rgba(0, 0, 0, 0.15);\n",
              "      filter: drop-shadow(0px 1px 2px rgba(0, 0, 0, 0.3));\n",
              "      fill: #FFFFFF;\n",
              "    }\n",
              "  </style>\n",
              "\n",
              "      <script>\n",
              "        const buttonEl =\n",
              "          document.querySelector('#df-97eea9be-e873-461b-ac1a-e5245c1572b3 button.colab-df-convert');\n",
              "        buttonEl.style.display =\n",
              "          google.colab.kernel.accessAllowed ? 'block' : 'none';\n",
              "\n",
              "        async function convertToInteractive(key) {\n",
              "          const element = document.querySelector('#df-97eea9be-e873-461b-ac1a-e5245c1572b3');\n",
              "          const dataTable =\n",
              "            await google.colab.kernel.invokeFunction('convertToInteractive',\n",
              "                                                     [key], {});\n",
              "          if (!dataTable) return;\n",
              "\n",
              "          const docLinkHtml = 'Like what you see? Visit the ' +\n",
              "            '<a target=\"_blank\" href=https://colab.research.google.com/notebooks/data_table.ipynb>data table notebook</a>'\n",
              "            + ' to learn more about interactive tables.';\n",
              "          element.innerHTML = '';\n",
              "          dataTable['output_type'] = 'display_data';\n",
              "          await google.colab.output.renderOutput(dataTable, element);\n",
              "          const docLink = document.createElement('div');\n",
              "          docLink.innerHTML = docLinkHtml;\n",
              "          element.appendChild(docLink);\n",
              "        }\n",
              "      </script>\n",
              "    </div>\n",
              "  </div>\n",
              "  "
            ],
            "text/plain": [
              "     axe_groupett  axe_Distribution_des_animaux  ...  axe_vent  Cs_longia\n",
              "0       -0.165011                     -2.321794  ... -0.388808          1\n",
              "1       -0.193088                     -2.867319  ... -0.257363          1\n",
              "2       -0.193088                     -2.867319  ... -0.257363          1\n",
              "3        0.285950                     -2.547017  ... -0.254525          0\n",
              "4       -0.093919                     -2.620316  ... -0.138054          0\n",
              "..            ...                           ...  ...       ...        ...\n",
              "198     -0.081910                     -4.559007  ... -0.297145          1\n",
              "199     -0.331927                     -1.311407  ... -0.168777          1\n",
              "200     -0.022746                     -3.766470  ... -0.274955          1\n",
              "201      0.245270                     -3.641378  ... -0.029365          1\n",
              "202      0.008249                     -3.170156  ... -0.149439          1\n",
              "\n",
              "[203 rows x 13 columns]"
            ]
          },
          "metadata": {},
          "execution_count": 150
        }
      ]
    },
    {
      "cell_type": "code",
      "metadata": {
        "id": "sp6M2-Shj8tx"
      },
      "source": [
        "Cl2 = '/content/axe_test_2.xlsx' \n",
        "test= pd.read_excel(Cl2, sheet_name=0,header=0,index_col=False, keep_default_na=True)"
      ],
      "execution_count": 151,
      "outputs": []
    },
    {
      "cell_type": "code",
      "source": [
        "test"
      ],
      "metadata": {
        "colab": {
          "base_uri": "https://localhost:8080/",
          "height": 1000
        },
        "outputId": "354dcf81-9a5c-4631-84ae-26495aff076e",
        "id": "wzKdYPPMj8ty"
      },
      "execution_count": 152,
      "outputs": [
        {
          "output_type": "execute_result",
          "data": {
            "text/html": [
              "\n",
              "  <div id=\"df-7fa5891f-1175-46a9-aec9-ea4eda58378e\">\n",
              "    <div class=\"colab-df-container\">\n",
              "      <div>\n",
              "<style scoped>\n",
              "    .dataframe tbody tr th:only-of-type {\n",
              "        vertical-align: middle;\n",
              "    }\n",
              "\n",
              "    .dataframe tbody tr th {\n",
              "        vertical-align: top;\n",
              "    }\n",
              "\n",
              "    .dataframe thead th {\n",
              "        text-align: right;\n",
              "    }\n",
              "</style>\n",
              "<table border=\"1\" class=\"dataframe\">\n",
              "  <thead>\n",
              "    <tr style=\"text-align: right;\">\n",
              "      <th></th>\n",
              "      <th>axe_groupett</th>\n",
              "      <th>axe_Distribution_des_animaux</th>\n",
              "      <th>axe_indices_de_vegetation</th>\n",
              "      <th>axe_IRM</th>\n",
              "      <th>axe_Occupation_du_Sol</th>\n",
              "      <th>axe_Precipitation</th>\n",
              "      <th>axe_Rad</th>\n",
              "      <th>axe_sol</th>\n",
              "      <th>axe_Temperature</th>\n",
              "      <th>axe_Topographique</th>\n",
              "      <th>axe_vap</th>\n",
              "      <th>axe_vent</th>\n",
              "      <th>Cs_longia</th>\n",
              "    </tr>\n",
              "  </thead>\n",
              "  <tbody>\n",
              "    <tr>\n",
              "      <th>0</th>\n",
              "      <td>-0.096146</td>\n",
              "      <td>-2.647724</td>\n",
              "      <td>-0.262195</td>\n",
              "      <td>1.244304</td>\n",
              "      <td>0.651971</td>\n",
              "      <td>0.731714</td>\n",
              "      <td>-124.540514</td>\n",
              "      <td>2.822586</td>\n",
              "      <td>-0.182604</td>\n",
              "      <td>-0.000045</td>\n",
              "      <td>0.002403</td>\n",
              "      <td>-0.190374</td>\n",
              "      <td>0</td>\n",
              "    </tr>\n",
              "    <tr>\n",
              "      <th>1</th>\n",
              "      <td>0.153999</td>\n",
              "      <td>-2.600074</td>\n",
              "      <td>1.037366</td>\n",
              "      <td>1.204043</td>\n",
              "      <td>0.369733</td>\n",
              "      <td>0.417888</td>\n",
              "      <td>-135.917255</td>\n",
              "      <td>1.453176</td>\n",
              "      <td>0.000632</td>\n",
              "      <td>-0.000163</td>\n",
              "      <td>0.003688</td>\n",
              "      <td>-0.075983</td>\n",
              "      <td>1</td>\n",
              "    </tr>\n",
              "    <tr>\n",
              "      <th>2</th>\n",
              "      <td>0.153999</td>\n",
              "      <td>-2.600074</td>\n",
              "      <td>1.037366</td>\n",
              "      <td>1.204043</td>\n",
              "      <td>0.369733</td>\n",
              "      <td>0.417888</td>\n",
              "      <td>-135.917255</td>\n",
              "      <td>1.453176</td>\n",
              "      <td>0.000632</td>\n",
              "      <td>-0.000163</td>\n",
              "      <td>0.003688</td>\n",
              "      <td>-0.075983</td>\n",
              "      <td>1</td>\n",
              "    </tr>\n",
              "    <tr>\n",
              "      <th>3</th>\n",
              "      <td>-0.242689</td>\n",
              "      <td>-2.827135</td>\n",
              "      <td>4.058937</td>\n",
              "      <td>-2.522697</td>\n",
              "      <td>0.370334</td>\n",
              "      <td>-1.109566</td>\n",
              "      <td>-51.080330</td>\n",
              "      <td>1.033547</td>\n",
              "      <td>0.048900</td>\n",
              "      <td>-0.000362</td>\n",
              "      <td>0.024104</td>\n",
              "      <td>-0.305661</td>\n",
              "      <td>1</td>\n",
              "    </tr>\n",
              "    <tr>\n",
              "      <th>4</th>\n",
              "      <td>-0.132992</td>\n",
              "      <td>-2.379458</td>\n",
              "      <td>-1.306321</td>\n",
              "      <td>0.354219</td>\n",
              "      <td>-0.118170</td>\n",
              "      <td>-0.281966</td>\n",
              "      <td>27.926214</td>\n",
              "      <td>-1.019538</td>\n",
              "      <td>-0.003721</td>\n",
              "      <td>0.000169</td>\n",
              "      <td>-0.000768</td>\n",
              "      <td>-0.009398</td>\n",
              "      <td>0</td>\n",
              "    </tr>\n",
              "    <tr>\n",
              "      <th>5</th>\n",
              "      <td>-0.132992</td>\n",
              "      <td>-2.379458</td>\n",
              "      <td>-1.306321</td>\n",
              "      <td>0.354219</td>\n",
              "      <td>-0.118170</td>\n",
              "      <td>-0.281966</td>\n",
              "      <td>27.926214</td>\n",
              "      <td>-0.510742</td>\n",
              "      <td>-0.003721</td>\n",
              "      <td>0.000170</td>\n",
              "      <td>-0.000768</td>\n",
              "      <td>-0.009398</td>\n",
              "      <td>0</td>\n",
              "    </tr>\n",
              "    <tr>\n",
              "      <th>6</th>\n",
              "      <td>-0.061519</td>\n",
              "      <td>-2.526384</td>\n",
              "      <td>-4.374862</td>\n",
              "      <td>1.141346</td>\n",
              "      <td>-0.036415</td>\n",
              "      <td>-0.282783</td>\n",
              "      <td>86.230779</td>\n",
              "      <td>0.154979</td>\n",
              "      <td>-0.051543</td>\n",
              "      <td>0.000279</td>\n",
              "      <td>0.003605</td>\n",
              "      <td>0.001238</td>\n",
              "      <td>0</td>\n",
              "    </tr>\n",
              "    <tr>\n",
              "      <th>7</th>\n",
              "      <td>0.004458</td>\n",
              "      <td>-2.444617</td>\n",
              "      <td>0.272314</td>\n",
              "      <td>-0.646694</td>\n",
              "      <td>-0.199856</td>\n",
              "      <td>-0.277023</td>\n",
              "      <td>53.370259</td>\n",
              "      <td>-0.515781</td>\n",
              "      <td>-0.022922</td>\n",
              "      <td>0.000250</td>\n",
              "      <td>0.007066</td>\n",
              "      <td>0.007151</td>\n",
              "      <td>0</td>\n",
              "    </tr>\n",
              "    <tr>\n",
              "      <th>8</th>\n",
              "      <td>0.252522</td>\n",
              "      <td>-3.824134</td>\n",
              "      <td>-3.489503</td>\n",
              "      <td>1.421861</td>\n",
              "      <td>-0.759769</td>\n",
              "      <td>0.609257</td>\n",
              "      <td>49.847845</td>\n",
              "      <td>-0.733478</td>\n",
              "      <td>-0.061430</td>\n",
              "      <td>0.000247</td>\n",
              "      <td>-0.003505</td>\n",
              "      <td>0.172419</td>\n",
              "      <td>1</td>\n",
              "    </tr>\n",
              "    <tr>\n",
              "      <th>9</th>\n",
              "      <td>0.180465</td>\n",
              "      <td>-0.781471</td>\n",
              "      <td>-3.375298</td>\n",
              "      <td>-0.096036</td>\n",
              "      <td>-0.091033</td>\n",
              "      <td>0.645177</td>\n",
              "      <td>62.467914</td>\n",
              "      <td>-0.821854</td>\n",
              "      <td>-0.039834</td>\n",
              "      <td>0.000157</td>\n",
              "      <td>-0.003658</td>\n",
              "      <td>0.024988</td>\n",
              "      <td>0</td>\n",
              "    </tr>\n",
              "    <tr>\n",
              "      <th>10</th>\n",
              "      <td>-0.172365</td>\n",
              "      <td>-3.098300</td>\n",
              "      <td>-0.745302</td>\n",
              "      <td>-0.030259</td>\n",
              "      <td>-0.681831</td>\n",
              "      <td>-0.225907</td>\n",
              "      <td>-111.345146</td>\n",
              "      <td>1.319013</td>\n",
              "      <td>0.013794</td>\n",
              "      <td>-0.000144</td>\n",
              "      <td>0.013015</td>\n",
              "      <td>-0.396208</td>\n",
              "      <td>0</td>\n",
              "    </tr>\n",
              "    <tr>\n",
              "      <th>11</th>\n",
              "      <td>-0.010799</td>\n",
              "      <td>-1.749523</td>\n",
              "      <td>1.564732</td>\n",
              "      <td>-0.804141</td>\n",
              "      <td>0.631832</td>\n",
              "      <td>-0.335287</td>\n",
              "      <td>-136.704298</td>\n",
              "      <td>1.416765</td>\n",
              "      <td>0.032457</td>\n",
              "      <td>-0.000890</td>\n",
              "      <td>0.006932</td>\n",
              "      <td>-0.332457</td>\n",
              "      <td>1</td>\n",
              "    </tr>\n",
              "    <tr>\n",
              "      <th>12</th>\n",
              "      <td>-0.077599</td>\n",
              "      <td>-2.465885</td>\n",
              "      <td>3.722810</td>\n",
              "      <td>-0.554885</td>\n",
              "      <td>0.185844</td>\n",
              "      <td>-0.008093</td>\n",
              "      <td>-4.592342</td>\n",
              "      <td>1.428297</td>\n",
              "      <td>0.036505</td>\n",
              "      <td>-0.002696</td>\n",
              "      <td>0.008452</td>\n",
              "      <td>0.176059</td>\n",
              "      <td>0</td>\n",
              "    </tr>\n",
              "    <tr>\n",
              "      <th>13</th>\n",
              "      <td>0.030830</td>\n",
              "      <td>2.951375</td>\n",
              "      <td>-0.856890</td>\n",
              "      <td>-0.881847</td>\n",
              "      <td>-2.283244</td>\n",
              "      <td>0.149542</td>\n",
              "      <td>-26.788362</td>\n",
              "      <td>-1.038944</td>\n",
              "      <td>-0.004295</td>\n",
              "      <td>0.000067</td>\n",
              "      <td>-0.009687</td>\n",
              "      <td>0.209824</td>\n",
              "      <td>1</td>\n",
              "    </tr>\n",
              "    <tr>\n",
              "      <th>14</th>\n",
              "      <td>0.094010</td>\n",
              "      <td>5.265723</td>\n",
              "      <td>2.507574</td>\n",
              "      <td>0.306923</td>\n",
              "      <td>-0.071846</td>\n",
              "      <td>-0.052953</td>\n",
              "      <td>-35.735566</td>\n",
              "      <td>0.358672</td>\n",
              "      <td>0.015669</td>\n",
              "      <td>-0.001152</td>\n",
              "      <td>-0.010477</td>\n",
              "      <td>0.168731</td>\n",
              "      <td>0</td>\n",
              "    </tr>\n",
              "    <tr>\n",
              "      <th>15</th>\n",
              "      <td>0.162106</td>\n",
              "      <td>3.149862</td>\n",
              "      <td>-4.375075</td>\n",
              "      <td>2.148869</td>\n",
              "      <td>-0.779638</td>\n",
              "      <td>-0.097301</td>\n",
              "      <td>136.223264</td>\n",
              "      <td>-0.506321</td>\n",
              "      <td>-0.063205</td>\n",
              "      <td>0.000706</td>\n",
              "      <td>-0.006801</td>\n",
              "      <td>-0.006565</td>\n",
              "      <td>0</td>\n",
              "    </tr>\n",
              "    <tr>\n",
              "      <th>16</th>\n",
              "      <td>0.243055</td>\n",
              "      <td>17.743217</td>\n",
              "      <td>-3.215148</td>\n",
              "      <td>2.289648</td>\n",
              "      <td>-0.779638</td>\n",
              "      <td>-0.196128</td>\n",
              "      <td>91.839060</td>\n",
              "      <td>-1.103656</td>\n",
              "      <td>-0.016547</td>\n",
              "      <td>0.000374</td>\n",
              "      <td>-0.002421</td>\n",
              "      <td>0.077840</td>\n",
              "      <td>0</td>\n",
              "    </tr>\n",
              "    <tr>\n",
              "      <th>17</th>\n",
              "      <td>0.171345</td>\n",
              "      <td>16.727813</td>\n",
              "      <td>-7.657503</td>\n",
              "      <td>4.038852</td>\n",
              "      <td>-0.683019</td>\n",
              "      <td>-0.203811</td>\n",
              "      <td>50.032377</td>\n",
              "      <td>-0.688640</td>\n",
              "      <td>-0.020841</td>\n",
              "      <td>0.000313</td>\n",
              "      <td>-0.002326</td>\n",
              "      <td>0.010095</td>\n",
              "      <td>0</td>\n",
              "    </tr>\n",
              "    <tr>\n",
              "      <th>18</th>\n",
              "      <td>0.081045</td>\n",
              "      <td>-1.101351</td>\n",
              "      <td>-1.905202</td>\n",
              "      <td>2.052955</td>\n",
              "      <td>0.057054</td>\n",
              "      <td>0.518327</td>\n",
              "      <td>157.364759</td>\n",
              "      <td>-1.090374</td>\n",
              "      <td>-0.033420</td>\n",
              "      <td>-0.000084</td>\n",
              "      <td>-0.003066</td>\n",
              "      <td>0.262788</td>\n",
              "      <td>0</td>\n",
              "    </tr>\n",
              "    <tr>\n",
              "      <th>19</th>\n",
              "      <td>0.089859</td>\n",
              "      <td>6.574780</td>\n",
              "      <td>-3.009222</td>\n",
              "      <td>1.699826</td>\n",
              "      <td>1.525229</td>\n",
              "      <td>-0.132116</td>\n",
              "      <td>57.678729</td>\n",
              "      <td>0.527389</td>\n",
              "      <td>-0.036191</td>\n",
              "      <td>-0.000119</td>\n",
              "      <td>-0.007807</td>\n",
              "      <td>-0.010256</td>\n",
              "      <td>0</td>\n",
              "    </tr>\n",
              "    <tr>\n",
              "      <th>20</th>\n",
              "      <td>0.198397</td>\n",
              "      <td>10.135452</td>\n",
              "      <td>-0.458071</td>\n",
              "      <td>1.746799</td>\n",
              "      <td>-0.779638</td>\n",
              "      <td>-0.035077</td>\n",
              "      <td>174.569493</td>\n",
              "      <td>-1.155224</td>\n",
              "      <td>-0.042416</td>\n",
              "      <td>-0.000532</td>\n",
              "      <td>-0.005117</td>\n",
              "      <td>-0.008849</td>\n",
              "      <td>0</td>\n",
              "    </tr>\n",
              "    <tr>\n",
              "      <th>21</th>\n",
              "      <td>0.153315</td>\n",
              "      <td>3.969502</td>\n",
              "      <td>-3.854095</td>\n",
              "      <td>2.456379</td>\n",
              "      <td>-0.779638</td>\n",
              "      <td>0.119388</td>\n",
              "      <td>101.837966</td>\n",
              "      <td>-0.516492</td>\n",
              "      <td>-0.074867</td>\n",
              "      <td>0.000418</td>\n",
              "      <td>-0.003425</td>\n",
              "      <td>-0.111147</td>\n",
              "      <td>0</td>\n",
              "    </tr>\n",
              "    <tr>\n",
              "      <th>22</th>\n",
              "      <td>0.327793</td>\n",
              "      <td>4.066407</td>\n",
              "      <td>-4.619407</td>\n",
              "      <td>0.644238</td>\n",
              "      <td>-0.355742</td>\n",
              "      <td>0.680125</td>\n",
              "      <td>251.565824</td>\n",
              "      <td>-0.725585</td>\n",
              "      <td>-0.109333</td>\n",
              "      <td>0.000365</td>\n",
              "      <td>-0.015132</td>\n",
              "      <td>-0.071061</td>\n",
              "      <td>0</td>\n",
              "    </tr>\n",
              "    <tr>\n",
              "      <th>23</th>\n",
              "      <td>0.165883</td>\n",
              "      <td>10.101128</td>\n",
              "      <td>-1.818021</td>\n",
              "      <td>-0.447577</td>\n",
              "      <td>-0.302085</td>\n",
              "      <td>0.575704</td>\n",
              "      <td>61.408984</td>\n",
              "      <td>-1.120729</td>\n",
              "      <td>-0.008252</td>\n",
              "      <td>-0.000231</td>\n",
              "      <td>-0.012315</td>\n",
              "      <td>0.302346</td>\n",
              "      <td>0</td>\n",
              "    </tr>\n",
              "    <tr>\n",
              "      <th>24</th>\n",
              "      <td>0.036638</td>\n",
              "      <td>8.414571</td>\n",
              "      <td>-10.373962</td>\n",
              "      <td>0.721969</td>\n",
              "      <td>-0.779638</td>\n",
              "      <td>-0.262077</td>\n",
              "      <td>-0.490714</td>\n",
              "      <td>-1.749538</td>\n",
              "      <td>0.008918</td>\n",
              "      <td>-0.000447</td>\n",
              "      <td>-0.007415</td>\n",
              "      <td>0.113183</td>\n",
              "      <td>0</td>\n",
              "    </tr>\n",
              "    <tr>\n",
              "      <th>25</th>\n",
              "      <td>-0.112124</td>\n",
              "      <td>7.345657</td>\n",
              "      <td>0.390868</td>\n",
              "      <td>2.232338</td>\n",
              "      <td>-0.029362</td>\n",
              "      <td>-0.176097</td>\n",
              "      <td>-36.070611</td>\n",
              "      <td>-0.083549</td>\n",
              "      <td>-0.015423</td>\n",
              "      <td>0.001056</td>\n",
              "      <td>-0.000702</td>\n",
              "      <td>0.206349</td>\n",
              "      <td>0</td>\n",
              "    </tr>\n",
              "    <tr>\n",
              "      <th>26</th>\n",
              "      <td>0.269436</td>\n",
              "      <td>8.678994</td>\n",
              "      <td>-4.821432</td>\n",
              "      <td>6.070589</td>\n",
              "      <td>-1.154777</td>\n",
              "      <td>-0.436862</td>\n",
              "      <td>-100.546011</td>\n",
              "      <td>4.095260</td>\n",
              "      <td>0.049609</td>\n",
              "      <td>0.001039</td>\n",
              "      <td>0.000580</td>\n",
              "      <td>0.134912</td>\n",
              "      <td>0</td>\n",
              "    </tr>\n",
              "    <tr>\n",
              "      <th>27</th>\n",
              "      <td>0.011842</td>\n",
              "      <td>0.872063</td>\n",
              "      <td>3.968376</td>\n",
              "      <td>0.041701</td>\n",
              "      <td>0.136329</td>\n",
              "      <td>0.807119</td>\n",
              "      <td>182.176070</td>\n",
              "      <td>2.222992</td>\n",
              "      <td>0.002567</td>\n",
              "      <td>-0.003111</td>\n",
              "      <td>-0.013330</td>\n",
              "      <td>-0.017956</td>\n",
              "      <td>0</td>\n",
              "    </tr>\n",
              "    <tr>\n",
              "      <th>28</th>\n",
              "      <td>0.113567</td>\n",
              "      <td>4.681425</td>\n",
              "      <td>2.736349</td>\n",
              "      <td>-0.072327</td>\n",
              "      <td>-0.087781</td>\n",
              "      <td>0.715134</td>\n",
              "      <td>379.777328</td>\n",
              "      <td>-0.927702</td>\n",
              "      <td>-0.025243</td>\n",
              "      <td>0.001287</td>\n",
              "      <td>-0.024617</td>\n",
              "      <td>0.239043</td>\n",
              "      <td>0</td>\n",
              "    </tr>\n",
              "    <tr>\n",
              "      <th>29</th>\n",
              "      <td>-0.266099</td>\n",
              "      <td>-4.556856</td>\n",
              "      <td>-22.932135</td>\n",
              "      <td>2.399037</td>\n",
              "      <td>1.560389</td>\n",
              "      <td>-1.171279</td>\n",
              "      <td>-120.320898</td>\n",
              "      <td>2.759858</td>\n",
              "      <td>-0.088255</td>\n",
              "      <td>-0.001456</td>\n",
              "      <td>0.014453</td>\n",
              "      <td>0.220653</td>\n",
              "      <td>0</td>\n",
              "    </tr>\n",
              "    <tr>\n",
              "      <th>30</th>\n",
              "      <td>0.282864</td>\n",
              "      <td>1.221216</td>\n",
              "      <td>-4.106020</td>\n",
              "      <td>2.727416</td>\n",
              "      <td>-0.779638</td>\n",
              "      <td>0.976784</td>\n",
              "      <td>63.369938</td>\n",
              "      <td>-1.608169</td>\n",
              "      <td>-0.059993</td>\n",
              "      <td>0.000355</td>\n",
              "      <td>-0.004411</td>\n",
              "      <td>0.336051</td>\n",
              "      <td>0</td>\n",
              "    </tr>\n",
              "    <tr>\n",
              "      <th>31</th>\n",
              "      <td>0.282864</td>\n",
              "      <td>1.221216</td>\n",
              "      <td>-4.106020</td>\n",
              "      <td>2.727416</td>\n",
              "      <td>-0.779638</td>\n",
              "      <td>0.976784</td>\n",
              "      <td>63.369938</td>\n",
              "      <td>-1.608169</td>\n",
              "      <td>-0.059993</td>\n",
              "      <td>0.000355</td>\n",
              "      <td>-0.004411</td>\n",
              "      <td>0.336051</td>\n",
              "      <td>0</td>\n",
              "    </tr>\n",
              "    <tr>\n",
              "      <th>32</th>\n",
              "      <td>0.255258</td>\n",
              "      <td>-2.368437</td>\n",
              "      <td>-7.165641</td>\n",
              "      <td>3.753146</td>\n",
              "      <td>0.155793</td>\n",
              "      <td>0.663417</td>\n",
              "      <td>-10.265948</td>\n",
              "      <td>3.012515</td>\n",
              "      <td>-0.033238</td>\n",
              "      <td>0.000116</td>\n",
              "      <td>-0.005919</td>\n",
              "      <td>-0.257810</td>\n",
              "      <td>0</td>\n",
              "    </tr>\n",
              "    <tr>\n",
              "      <th>33</th>\n",
              "      <td>-0.150299</td>\n",
              "      <td>77.064348</td>\n",
              "      <td>9.546602</td>\n",
              "      <td>0.609685</td>\n",
              "      <td>-0.335855</td>\n",
              "      <td>-1.152635</td>\n",
              "      <td>102.839354</td>\n",
              "      <td>0.361453</td>\n",
              "      <td>0.130675</td>\n",
              "      <td>-0.001439</td>\n",
              "      <td>0.002657</td>\n",
              "      <td>-0.171046</td>\n",
              "      <td>0</td>\n",
              "    </tr>\n",
              "    <tr>\n",
              "      <th>34</th>\n",
              "      <td>0.199591</td>\n",
              "      <td>-3.008598</td>\n",
              "      <td>3.136491</td>\n",
              "      <td>-0.445856</td>\n",
              "      <td>0.651971</td>\n",
              "      <td>0.754294</td>\n",
              "      <td>46.690379</td>\n",
              "      <td>-0.971832</td>\n",
              "      <td>-0.130990</td>\n",
              "      <td>0.000167</td>\n",
              "      <td>0.010739</td>\n",
              "      <td>0.117154</td>\n",
              "      <td>0</td>\n",
              "    </tr>\n",
              "    <tr>\n",
              "      <th>35</th>\n",
              "      <td>0.228014</td>\n",
              "      <td>-3.106740</td>\n",
              "      <td>-0.527019</td>\n",
              "      <td>0.664722</td>\n",
              "      <td>-0.001291</td>\n",
              "      <td>0.912371</td>\n",
              "      <td>186.674597</td>\n",
              "      <td>-1.895577</td>\n",
              "      <td>-0.072338</td>\n",
              "      <td>0.000911</td>\n",
              "      <td>0.005667</td>\n",
              "      <td>0.035780</td>\n",
              "      <td>0</td>\n",
              "    </tr>\n",
              "    <tr>\n",
              "      <th>36</th>\n",
              "      <td>-0.047671</td>\n",
              "      <td>-2.919832</td>\n",
              "      <td>2.067763</td>\n",
              "      <td>-1.671908</td>\n",
              "      <td>-0.421927</td>\n",
              "      <td>0.344679</td>\n",
              "      <td>38.599483</td>\n",
              "      <td>1.240791</td>\n",
              "      <td>0.046111</td>\n",
              "      <td>0.000486</td>\n",
              "      <td>0.002168</td>\n",
              "      <td>-0.022357</td>\n",
              "      <td>0</td>\n",
              "    </tr>\n",
              "    <tr>\n",
              "      <th>37</th>\n",
              "      <td>-0.304457</td>\n",
              "      <td>-2.912104</td>\n",
              "      <td>2.926588</td>\n",
              "      <td>-3.264390</td>\n",
              "      <td>0.651971</td>\n",
              "      <td>-0.664185</td>\n",
              "      <td>-117.641856</td>\n",
              "      <td>3.065578</td>\n",
              "      <td>0.197069</td>\n",
              "      <td>0.000418</td>\n",
              "      <td>0.014951</td>\n",
              "      <td>-0.196587</td>\n",
              "      <td>1</td>\n",
              "    </tr>\n",
              "    <tr>\n",
              "      <th>38</th>\n",
              "      <td>-0.378594</td>\n",
              "      <td>-3.315568</td>\n",
              "      <td>5.698553</td>\n",
              "      <td>-3.433913</td>\n",
              "      <td>0.651971</td>\n",
              "      <td>-0.510456</td>\n",
              "      <td>-190.627145</td>\n",
              "      <td>0.535484</td>\n",
              "      <td>0.036059</td>\n",
              "      <td>0.000163</td>\n",
              "      <td>0.015370</td>\n",
              "      <td>-0.263177</td>\n",
              "      <td>1</td>\n",
              "    </tr>\n",
              "    <tr>\n",
              "      <th>39</th>\n",
              "      <td>-0.538442</td>\n",
              "      <td>-2.922441</td>\n",
              "      <td>2.582151</td>\n",
              "      <td>-3.994404</td>\n",
              "      <td>0.651971</td>\n",
              "      <td>-0.103287</td>\n",
              "      <td>-61.325975</td>\n",
              "      <td>1.343734</td>\n",
              "      <td>0.048444</td>\n",
              "      <td>0.000033</td>\n",
              "      <td>0.023389</td>\n",
              "      <td>-0.326240</td>\n",
              "      <td>1</td>\n",
              "    </tr>\n",
              "    <tr>\n",
              "      <th>40</th>\n",
              "      <td>-0.073504</td>\n",
              "      <td>-2.923537</td>\n",
              "      <td>4.543955</td>\n",
              "      <td>-2.272830</td>\n",
              "      <td>0.648031</td>\n",
              "      <td>0.556318</td>\n",
              "      <td>78.801061</td>\n",
              "      <td>-2.513930</td>\n",
              "      <td>-0.062442</td>\n",
              "      <td>-0.000057</td>\n",
              "      <td>0.011541</td>\n",
              "      <td>-0.567874</td>\n",
              "      <td>1</td>\n",
              "    </tr>\n",
              "    <tr>\n",
              "      <th>41</th>\n",
              "      <td>0.156052</td>\n",
              "      <td>3.700329</td>\n",
              "      <td>3.184600</td>\n",
              "      <td>-0.591110</td>\n",
              "      <td>0.388896</td>\n",
              "      <td>0.205621</td>\n",
              "      <td>-7.307742</td>\n",
              "      <td>2.715249</td>\n",
              "      <td>0.050228</td>\n",
              "      <td>0.000061</td>\n",
              "      <td>-0.007163</td>\n",
              "      <td>0.349036</td>\n",
              "      <td>1</td>\n",
              "    </tr>\n",
              "    <tr>\n",
              "      <th>42</th>\n",
              "      <td>0.030840</td>\n",
              "      <td>0.304631</td>\n",
              "      <td>-0.088355</td>\n",
              "      <td>0.688875</td>\n",
              "      <td>0.761204</td>\n",
              "      <td>-0.614393</td>\n",
              "      <td>69.930684</td>\n",
              "      <td>-0.478915</td>\n",
              "      <td>0.022608</td>\n",
              "      <td>0.000039</td>\n",
              "      <td>0.000511</td>\n",
              "      <td>-0.094331</td>\n",
              "      <td>1</td>\n",
              "    </tr>\n",
              "    <tr>\n",
              "      <th>43</th>\n",
              "      <td>-0.140444</td>\n",
              "      <td>4.260038</td>\n",
              "      <td>1.380268</td>\n",
              "      <td>-2.032596</td>\n",
              "      <td>-0.064217</td>\n",
              "      <td>0.088084</td>\n",
              "      <td>26.906315</td>\n",
              "      <td>0.209463</td>\n",
              "      <td>0.033832</td>\n",
              "      <td>0.000056</td>\n",
              "      <td>0.008982</td>\n",
              "      <td>0.243726</td>\n",
              "      <td>1</td>\n",
              "    </tr>\n",
              "    <tr>\n",
              "      <th>44</th>\n",
              "      <td>-0.349886</td>\n",
              "      <td>3.877299</td>\n",
              "      <td>2.859597</td>\n",
              "      <td>-0.092320</td>\n",
              "      <td>-0.028897</td>\n",
              "      <td>-0.983990</td>\n",
              "      <td>13.776360</td>\n",
              "      <td>-0.832159</td>\n",
              "      <td>0.059580</td>\n",
              "      <td>-0.002102</td>\n",
              "      <td>0.003001</td>\n",
              "      <td>0.170970</td>\n",
              "      <td>1</td>\n",
              "    </tr>\n",
              "    <tr>\n",
              "      <th>45</th>\n",
              "      <td>0.321932</td>\n",
              "      <td>23.138065</td>\n",
              "      <td>-5.017574</td>\n",
              "      <td>2.332937</td>\n",
              "      <td>-0.779638</td>\n",
              "      <td>-0.010013</td>\n",
              "      <td>153.461346</td>\n",
              "      <td>-1.302367</td>\n",
              "      <td>0.013019</td>\n",
              "      <td>0.000373</td>\n",
              "      <td>0.001676</td>\n",
              "      <td>-0.127255</td>\n",
              "      <td>1</td>\n",
              "    </tr>\n",
              "    <tr>\n",
              "      <th>46</th>\n",
              "      <td>0.071129</td>\n",
              "      <td>15.654456</td>\n",
              "      <td>-4.557654</td>\n",
              "      <td>0.285610</td>\n",
              "      <td>0.372259</td>\n",
              "      <td>0.252995</td>\n",
              "      <td>-73.101336</td>\n",
              "      <td>-1.213693</td>\n",
              "      <td>-0.020093</td>\n",
              "      <td>0.000385</td>\n",
              "      <td>-0.011365</td>\n",
              "      <td>-0.011407</td>\n",
              "      <td>1</td>\n",
              "    </tr>\n",
              "    <tr>\n",
              "      <th>47</th>\n",
              "      <td>0.197471</td>\n",
              "      <td>7.733651</td>\n",
              "      <td>-5.123506</td>\n",
              "      <td>-1.957329</td>\n",
              "      <td>-0.626977</td>\n",
              "      <td>-0.173223</td>\n",
              "      <td>163.037819</td>\n",
              "      <td>-1.229405</td>\n",
              "      <td>-0.008456</td>\n",
              "      <td>-0.000012</td>\n",
              "      <td>-0.005661</td>\n",
              "      <td>0.024848</td>\n",
              "      <td>1</td>\n",
              "    </tr>\n",
              "    <tr>\n",
              "      <th>48</th>\n",
              "      <td>-0.026267</td>\n",
              "      <td>-8.807864</td>\n",
              "      <td>4.276196</td>\n",
              "      <td>-0.510591</td>\n",
              "      <td>-0.334756</td>\n",
              "      <td>0.757743</td>\n",
              "      <td>-121.192206</td>\n",
              "      <td>0.217336</td>\n",
              "      <td>0.038858</td>\n",
              "      <td>0.000157</td>\n",
              "      <td>0.014261</td>\n",
              "      <td>0.184200</td>\n",
              "      <td>1</td>\n",
              "    </tr>\n",
              "    <tr>\n",
              "      <th>49</th>\n",
              "      <td>-0.224145</td>\n",
              "      <td>-12.198457</td>\n",
              "      <td>3.500341</td>\n",
              "      <td>-2.450743</td>\n",
              "      <td>0.136329</td>\n",
              "      <td>-0.440718</td>\n",
              "      <td>-78.033238</td>\n",
              "      <td>-0.598893</td>\n",
              "      <td>0.017516</td>\n",
              "      <td>-0.000286</td>\n",
              "      <td>0.005495</td>\n",
              "      <td>-0.492023</td>\n",
              "      <td>1</td>\n",
              "    </tr>\n",
              "    <tr>\n",
              "      <th>50</th>\n",
              "      <td>-0.016030</td>\n",
              "      <td>-8.324202</td>\n",
              "      <td>-1.887007</td>\n",
              "      <td>-2.290818</td>\n",
              "      <td>1.187209</td>\n",
              "      <td>-0.481954</td>\n",
              "      <td>-58.734285</td>\n",
              "      <td>-0.129414</td>\n",
              "      <td>-0.085638</td>\n",
              "      <td>0.000137</td>\n",
              "      <td>0.011801</td>\n",
              "      <td>-0.394005</td>\n",
              "      <td>1</td>\n",
              "    </tr>\n",
              "  </tbody>\n",
              "</table>\n",
              "</div>\n",
              "      <button class=\"colab-df-convert\" onclick=\"convertToInteractive('df-7fa5891f-1175-46a9-aec9-ea4eda58378e')\"\n",
              "              title=\"Convert this dataframe to an interactive table.\"\n",
              "              style=\"display:none;\">\n",
              "        \n",
              "  <svg xmlns=\"http://www.w3.org/2000/svg\" height=\"24px\"viewBox=\"0 0 24 24\"\n",
              "       width=\"24px\">\n",
              "    <path d=\"M0 0h24v24H0V0z\" fill=\"none\"/>\n",
              "    <path d=\"M18.56 5.44l.94 2.06.94-2.06 2.06-.94-2.06-.94-.94-2.06-.94 2.06-2.06.94zm-11 1L8.5 8.5l.94-2.06 2.06-.94-2.06-.94L8.5 2.5l-.94 2.06-2.06.94zm10 10l.94 2.06.94-2.06 2.06-.94-2.06-.94-.94-2.06-.94 2.06-2.06.94z\"/><path d=\"M17.41 7.96l-1.37-1.37c-.4-.4-.92-.59-1.43-.59-.52 0-1.04.2-1.43.59L10.3 9.45l-7.72 7.72c-.78.78-.78 2.05 0 2.83L4 21.41c.39.39.9.59 1.41.59.51 0 1.02-.2 1.41-.59l7.78-7.78 2.81-2.81c.8-.78.8-2.07 0-2.86zM5.41 20L4 18.59l7.72-7.72 1.47 1.35L5.41 20z\"/>\n",
              "  </svg>\n",
              "      </button>\n",
              "      \n",
              "  <style>\n",
              "    .colab-df-container {\n",
              "      display:flex;\n",
              "      flex-wrap:wrap;\n",
              "      gap: 12px;\n",
              "    }\n",
              "\n",
              "    .colab-df-convert {\n",
              "      background-color: #E8F0FE;\n",
              "      border: none;\n",
              "      border-radius: 50%;\n",
              "      cursor: pointer;\n",
              "      display: none;\n",
              "      fill: #1967D2;\n",
              "      height: 32px;\n",
              "      padding: 0 0 0 0;\n",
              "      width: 32px;\n",
              "    }\n",
              "\n",
              "    .colab-df-convert:hover {\n",
              "      background-color: #E2EBFA;\n",
              "      box-shadow: 0px 1px 2px rgba(60, 64, 67, 0.3), 0px 1px 3px 1px rgba(60, 64, 67, 0.15);\n",
              "      fill: #174EA6;\n",
              "    }\n",
              "\n",
              "    [theme=dark] .colab-df-convert {\n",
              "      background-color: #3B4455;\n",
              "      fill: #D2E3FC;\n",
              "    }\n",
              "\n",
              "    [theme=dark] .colab-df-convert:hover {\n",
              "      background-color: #434B5C;\n",
              "      box-shadow: 0px 1px 3px 1px rgba(0, 0, 0, 0.15);\n",
              "      filter: drop-shadow(0px 1px 2px rgba(0, 0, 0, 0.3));\n",
              "      fill: #FFFFFF;\n",
              "    }\n",
              "  </style>\n",
              "\n",
              "      <script>\n",
              "        const buttonEl =\n",
              "          document.querySelector('#df-7fa5891f-1175-46a9-aec9-ea4eda58378e button.colab-df-convert');\n",
              "        buttonEl.style.display =\n",
              "          google.colab.kernel.accessAllowed ? 'block' : 'none';\n",
              "\n",
              "        async function convertToInteractive(key) {\n",
              "          const element = document.querySelector('#df-7fa5891f-1175-46a9-aec9-ea4eda58378e');\n",
              "          const dataTable =\n",
              "            await google.colab.kernel.invokeFunction('convertToInteractive',\n",
              "                                                     [key], {});\n",
              "          if (!dataTable) return;\n",
              "\n",
              "          const docLinkHtml = 'Like what you see? Visit the ' +\n",
              "            '<a target=\"_blank\" href=https://colab.research.google.com/notebooks/data_table.ipynb>data table notebook</a>'\n",
              "            + ' to learn more about interactive tables.';\n",
              "          element.innerHTML = '';\n",
              "          dataTable['output_type'] = 'display_data';\n",
              "          await google.colab.output.renderOutput(dataTable, element);\n",
              "          const docLink = document.createElement('div');\n",
              "          docLink.innerHTML = docLinkHtml;\n",
              "          element.appendChild(docLink);\n",
              "        }\n",
              "      </script>\n",
              "    </div>\n",
              "  </div>\n",
              "  "
            ],
            "text/plain": [
              "    axe_groupett  axe_Distribution_des_animaux  ...  axe_vent  Cs_longia\n",
              "0      -0.096146                     -2.647724  ... -0.190374          0\n",
              "1       0.153999                     -2.600074  ... -0.075983          1\n",
              "2       0.153999                     -2.600074  ... -0.075983          1\n",
              "3      -0.242689                     -2.827135  ... -0.305661          1\n",
              "4      -0.132992                     -2.379458  ... -0.009398          0\n",
              "5      -0.132992                     -2.379458  ... -0.009398          0\n",
              "6      -0.061519                     -2.526384  ...  0.001238          0\n",
              "7       0.004458                     -2.444617  ...  0.007151          0\n",
              "8       0.252522                     -3.824134  ...  0.172419          1\n",
              "9       0.180465                     -0.781471  ...  0.024988          0\n",
              "10     -0.172365                     -3.098300  ... -0.396208          0\n",
              "11     -0.010799                     -1.749523  ... -0.332457          1\n",
              "12     -0.077599                     -2.465885  ...  0.176059          0\n",
              "13      0.030830                      2.951375  ...  0.209824          1\n",
              "14      0.094010                      5.265723  ...  0.168731          0\n",
              "15      0.162106                      3.149862  ... -0.006565          0\n",
              "16      0.243055                     17.743217  ...  0.077840          0\n",
              "17      0.171345                     16.727813  ...  0.010095          0\n",
              "18      0.081045                     -1.101351  ...  0.262788          0\n",
              "19      0.089859                      6.574780  ... -0.010256          0\n",
              "20      0.198397                     10.135452  ... -0.008849          0\n",
              "21      0.153315                      3.969502  ... -0.111147          0\n",
              "22      0.327793                      4.066407  ... -0.071061          0\n",
              "23      0.165883                     10.101128  ...  0.302346          0\n",
              "24      0.036638                      8.414571  ...  0.113183          0\n",
              "25     -0.112124                      7.345657  ...  0.206349          0\n",
              "26      0.269436                      8.678994  ...  0.134912          0\n",
              "27      0.011842                      0.872063  ... -0.017956          0\n",
              "28      0.113567                      4.681425  ...  0.239043          0\n",
              "29     -0.266099                     -4.556856  ...  0.220653          0\n",
              "30      0.282864                      1.221216  ...  0.336051          0\n",
              "31      0.282864                      1.221216  ...  0.336051          0\n",
              "32      0.255258                     -2.368437  ... -0.257810          0\n",
              "33     -0.150299                     77.064348  ... -0.171046          0\n",
              "34      0.199591                     -3.008598  ...  0.117154          0\n",
              "35      0.228014                     -3.106740  ...  0.035780          0\n",
              "36     -0.047671                     -2.919832  ... -0.022357          0\n",
              "37     -0.304457                     -2.912104  ... -0.196587          1\n",
              "38     -0.378594                     -3.315568  ... -0.263177          1\n",
              "39     -0.538442                     -2.922441  ... -0.326240          1\n",
              "40     -0.073504                     -2.923537  ... -0.567874          1\n",
              "41      0.156052                      3.700329  ...  0.349036          1\n",
              "42      0.030840                      0.304631  ... -0.094331          1\n",
              "43     -0.140444                      4.260038  ...  0.243726          1\n",
              "44     -0.349886                      3.877299  ...  0.170970          1\n",
              "45      0.321932                     23.138065  ... -0.127255          1\n",
              "46      0.071129                     15.654456  ... -0.011407          1\n",
              "47      0.197471                      7.733651  ...  0.024848          1\n",
              "48     -0.026267                     -8.807864  ...  0.184200          1\n",
              "49     -0.224145                    -12.198457  ... -0.492023          1\n",
              "50     -0.016030                     -8.324202  ... -0.394005          1\n",
              "\n",
              "[51 rows x 13 columns]"
            ]
          },
          "metadata": {},
          "execution_count": 152
        }
      ]
    },
    {
      "cell_type": "code",
      "metadata": {
        "id": "WlXmEfpym-Hm"
      },
      "source": [
        "X_app = apprentissage.loc[:, apprentissage.columns != 'Cs_longia']\n",
        "Y_app = apprentissage.Cs_longia\n",
        "X_test = test.loc[:, test.columns != 'Cs_longia']\n",
        "Y_test = test.Cs_longia"
      ],
      "execution_count": 153,
      "outputs": []
    },
    {
      "cell_type": "markdown",
      "source": [
        "# XGBOOST"
      ],
      "metadata": {
        "id": "THsA6X7josns"
      }
    },
    {
      "cell_type": "code",
      "source": [
        "Classifier = XGBClassifier(scale_pos_weight=1,learning_rate=0.5,max_depth=5,n_estimators=150,objective=\"binary:logistic\")"
      ],
      "metadata": {
        "id": "LvZVQSVTx91X"
      },
      "execution_count": 154,
      "outputs": []
    },
    {
      "cell_type": "code",
      "source": [
        "Classifier.fit(X_app,Y_app)"
      ],
      "metadata": {
        "colab": {
          "base_uri": "https://localhost:8080/"
        },
        "id": "kzx4dBDMx93d",
        "outputId": "3db7e0ec-850e-4530-f4d4-797cbb1eb5ae"
      },
      "execution_count": 155,
      "outputs": [
        {
          "output_type": "execute_result",
          "data": {
            "text/plain": [
              "XGBClassifier(learning_rate=0.5, max_depth=5, n_estimators=150)"
            ]
          },
          "metadata": {},
          "execution_count": 155
        }
      ]
    },
    {
      "cell_type": "code",
      "metadata": {
        "id": "mpZMF-EhTV0N"
      },
      "source": [
        "preds = Classifier.predict(X_test)"
      ],
      "execution_count": 156,
      "outputs": []
    },
    {
      "cell_type": "code",
      "metadata": {
        "id": "wfCXrkA0TV0O",
        "colab": {
          "base_uri": "https://localhost:8080/"
        },
        "outputId": "4c5c3726-7d4e-423f-839a-a482a51b818b"
      },
      "source": [
        "preds"
      ],
      "execution_count": 157,
      "outputs": [
        {
          "output_type": "execute_result",
          "data": {
            "text/plain": [
              "array([0, 1, 1, 1, 0, 0, 0, 0, 0, 0, 1, 1, 1, 1, 1, 0, 0, 0, 0, 0, 0, 0,\n",
              "       0, 1, 1, 0, 0, 1, 0, 0, 0, 0, 0, 1, 0, 0, 1, 1, 1, 1, 0, 1, 1, 1,\n",
              "       1, 0, 0, 1, 1, 1, 0])"
            ]
          },
          "metadata": {},
          "execution_count": 157
        }
      ]
    },
    {
      "cell_type": "code",
      "metadata": {
        "colab": {
          "base_uri": "https://localhost:8080/"
        },
        "outputId": "e50e86fa-9307-4a40-a872-2e64655e5167",
        "id": "-kxBDaKxzO2e"
      },
      "source": [
        "cf_matrix = confusion_matrix(Y_test, preds)\n",
        "print(cf_matrix)"
      ],
      "execution_count": 158,
      "outputs": [
        {
          "output_type": "stream",
          "name": "stdout",
          "text": [
            "[[23  8]\n",
            " [ 5 15]]\n"
          ]
        }
      ]
    },
    {
      "cell_type": "code",
      "source": [
        "###Recall\n",
        "def recall(y_test, preds):\n",
        "  recall=recall_score(y_test, preds)\n",
        "  return recall\n",
        "def MCC(y_test, preds):\n",
        "  MCC= matthews_corrcoef(y_test, preds) \n",
        "  return MCC\n",
        "### MCC\n",
        "def MCC(y_test, preds):\n",
        "  MCC= matthews_corrcoef(y_test, preds) \n",
        "  return MCC\n",
        "### sensibilite\n",
        "def sensibilite(y_test, preds):\n",
        "  cf_matrix = confusion_matrix(y_test, preds)\n",
        "  sensibilite =  (cf_matrix[1,1])/(cf_matrix[1,1]+cf_matrix[1,0])\n",
        "  return sensibilite\n",
        "### specifite \n",
        "def specifite(y_test, preds):\n",
        "  cf_matrix = confusion_matrix(y_test, preds)\n",
        "  specifite =  (cf_matrix[0,0])/(cf_matrix[0,0]+cf_matrix[0,1])\n",
        "  return specifite \n",
        "### kappa\n",
        "def kappa(y_test, preds):\n",
        "  value = cohen_kappa_score(y_test, preds)\n",
        "  return value\n",
        "### balancedacc\n",
        "def balancedacc(y_test, preds):\n",
        "  cf_matrix = confusion_matrix(y_test, preds)\n",
        "  sen = (cf_matrix[1,1])/(cf_matrix[1,1]+cf_matrix[0,1])\n",
        "  spe = (cf_matrix[0,0])/(cf_matrix[0,0]+cf_matrix[1,0])\n",
        "  value = (sen + spe)/2\n",
        "  return value\n",
        "def présicion_positive(y_test, preds):\n",
        "  cf_matrix = confusion_matrix(y_test, preds)\n",
        "  pre_pos =  (cf_matrix[1,1])/(cf_matrix[1,1]+cf_matrix[0,1])\n",
        "  return pre_pos\n",
        "def présicion_négative(y_test, preds):\n",
        "  cf_matrix = confusion_matrix(y_test, preds)\n",
        "  pre_pos =  (cf_matrix[0,0])/(cf_matrix[0,0]+cf_matrix[1,0])\n",
        "  return pre_pos\n",
        "  \n",
        "### courbe roc\n",
        "def plot_roc_curve(fper, tper):\n",
        "    plt.plot(fper, tper, color='red', label='ROC')\n",
        "    plt.plot([0, 1], [0, 1], color='green', linestyle='--')\n",
        "    plt.xlabel('False Positive Rate')\n",
        "    plt.ylabel('True Positive Rate')\n",
        "    plt.title('Receiver Operating Characteristic Curve')\n",
        "    plt.legend()\n",
        "    plt.show()"
      ],
      "metadata": {
        "id": "PT7afKHWJD6b"
      },
      "execution_count": 159,
      "outputs": []
    },
    {
      "cell_type": "code",
      "source": [
        "MCC(Y_test, preds)"
      ],
      "metadata": {
        "colab": {
          "base_uri": "https://localhost:8080/"
        },
        "id": "0YKjN3KXIaz7",
        "outputId": "ee18b7ce-75e9-42fb-cc4a-6fcc248993a9"
      },
      "execution_count": 160,
      "outputs": [
        {
          "output_type": "execute_result",
          "data": {
            "text/plain": [
              "0.4826819525953402"
            ]
          },
          "metadata": {},
          "execution_count": 160
        }
      ]
    },
    {
      "cell_type": "code",
      "source": [
        "recall(Y_test, preds)"
      ],
      "metadata": {
        "colab": {
          "base_uri": "https://localhost:8080/"
        },
        "id": "y5XZY6B2JD9D",
        "outputId": "608b1b3b-15f5-417c-fcd4-b4f55714de39"
      },
      "execution_count": 161,
      "outputs": [
        {
          "output_type": "execute_result",
          "data": {
            "text/plain": [
              "0.75"
            ]
          },
          "metadata": {},
          "execution_count": 161
        }
      ]
    },
    {
      "cell_type": "code",
      "source": [
        "sensibilite(Y_test, preds)"
      ],
      "metadata": {
        "colab": {
          "base_uri": "https://localhost:8080/"
        },
        "id": "kqSk6bUfJD_T",
        "outputId": "bf578e3b-fe04-4222-d161-a57854b67f57"
      },
      "execution_count": 162,
      "outputs": [
        {
          "output_type": "execute_result",
          "data": {
            "text/plain": [
              "0.75"
            ]
          },
          "metadata": {},
          "execution_count": 162
        }
      ]
    },
    {
      "cell_type": "code",
      "source": [
        "specifite(Y_test, preds)"
      ],
      "metadata": {
        "colab": {
          "base_uri": "https://localhost:8080/"
        },
        "id": "pNQ0SMEcJEBk",
        "outputId": "eabc4340-41fb-40f8-a439-2e40c5205bb9"
      },
      "execution_count": 163,
      "outputs": [
        {
          "output_type": "execute_result",
          "data": {
            "text/plain": [
              "0.7419354838709677"
            ]
          },
          "metadata": {},
          "execution_count": 163
        }
      ]
    },
    {
      "cell_type": "code",
      "source": [
        "présicion_négative(Y_test, preds)"
      ],
      "metadata": {
        "colab": {
          "base_uri": "https://localhost:8080/"
        },
        "id": "H2OR9PEknpHB",
        "outputId": "e38db2e0-169e-4868-daa5-30b26de92cea"
      },
      "execution_count": 164,
      "outputs": [
        {
          "output_type": "execute_result",
          "data": {
            "text/plain": [
              "0.8214285714285714"
            ]
          },
          "metadata": {},
          "execution_count": 164
        }
      ]
    },
    {
      "cell_type": "code",
      "source": [
        "présicion_positive(Y_test, preds)"
      ],
      "metadata": {
        "colab": {
          "base_uri": "https://localhost:8080/"
        },
        "id": "5F8mvboxno-8",
        "outputId": "20bf8584-4812-4192-e84a-67485b36eaee"
      },
      "execution_count": 165,
      "outputs": [
        {
          "output_type": "execute_result",
          "data": {
            "text/plain": [
              "0.6521739130434783"
            ]
          },
          "metadata": {},
          "execution_count": 165
        }
      ]
    },
    {
      "cell_type": "code",
      "source": [
        "balancedacc(Y_test, preds)"
      ],
      "metadata": {
        "colab": {
          "base_uri": "https://localhost:8080/"
        },
        "id": "ZBb1_XQDnxip",
        "outputId": "30091ef2-352b-47dd-8679-cca1a7377118"
      },
      "execution_count": 166,
      "outputs": [
        {
          "output_type": "execute_result",
          "data": {
            "text/plain": [
              "0.7368012422360248"
            ]
          },
          "metadata": {},
          "execution_count": 166
        }
      ]
    },
    {
      "cell_type": "code",
      "source": [
        "kappa(Y_test, preds)"
      ],
      "metadata": {
        "colab": {
          "base_uri": "https://localhost:8080/"
        },
        "id": "Oov8iFSGop2F",
        "outputId": "33d53f6b-d722-4593-8a4e-76c80777db75"
      },
      "execution_count": 167,
      "outputs": [
        {
          "output_type": "execute_result",
          "data": {
            "text/plain": [
              "0.4791830322073841"
            ]
          },
          "metadata": {},
          "execution_count": 167
        }
      ]
    },
    {
      "cell_type": "code",
      "source": [
        "y_pred_proba = Classifier.predict_proba(X_test)[::,1]\n",
        "fpr, tpr, _ = metrics.roc_curve(Y_test,  y_pred_proba)\n",
        "auc = metrics.roc_auc_score(Y_test, y_pred_proba)\n",
        "plt.plot(fpr,tpr,label=\"xgboost, auc=\"+str(auc))\n",
        "plt.legend(loc=4)\n",
        "plt.show()"
      ],
      "metadata": {
        "colab": {
          "base_uri": "https://localhost:8080/",
          "height": 265
        },
        "id": "eOzFa818Ia2R",
        "outputId": "7ce7e300-bea1-4da3-bd4d-6b1c41beac43"
      },
      "execution_count": 168,
      "outputs": [
        {
          "output_type": "display_data",
          "data": {
            "image/png": "[encoded data removed]",
            "text/plain": [
              "<Figure size 432x288 with 1 Axes>"
            ]
          },
          "metadata": {
            "needs_background": "light"
          }
        }
      ]
    },
    {
      "cell_type": "markdown",
      "source": [
        "# Logistic"
      ],
      "metadata": {
        "id": "y9aeHkxsorEv"
      }
    },
    {
      "cell_type": "code",
      "source": [
        "Classifier1 = LogisticRegression(max_iter=100, solver='lbfgs', class_weight='balanced')"
      ],
      "metadata": {
        "id": "BqdBNQ8OtRBK"
      },
      "execution_count": 169,
      "outputs": []
    },
    {
      "cell_type": "code",
      "source": [
        "Classifier1.fit(X_app,Y_app)"
      ],
      "metadata": {
        "colab": {
          "base_uri": "https://localhost:8080/"
        },
        "outputId": "909959f1-4a4b-4c0b-d17f-353c6dfc5c5b",
        "id": "cFamN3t7tRBN"
      },
      "execution_count": 170,
      "outputs": [
        {
          "output_type": "stream",
          "name": "stderr",
          "text": [
            "/usr/local/lib/python3.7/dist-packages/sklearn/linear_model/_logistic.py:818: ConvergenceWarning: lbfgs failed to converge (status=1):\n",
            "STOP: TOTAL NO. of ITERATIONS REACHED LIMIT.\n",
            "\n",
            "Increase the number of iterations (max_iter) or scale the data as shown in:\n",
            "    https://scikit-learn.org/stable/modules/preprocessing.html\n",
            "Please also refer to the documentation for alternative solver options:\n",
            "    https://scikit-learn.org/stable/modules/linear_model.html#logistic-regression\n",
            "  extra_warning_msg=_LOGISTIC_SOLVER_CONVERGENCE_MSG,\n"
          ]
        },
        {
          "output_type": "execute_result",
          "data": {
            "text/plain": [
              "LogisticRegression(class_weight='balanced')"
            ]
          },
          "metadata": {},
          "execution_count": 170
        }
      ]
    },
    {
      "cell_type": "code",
      "metadata": {
        "id": "WWCUVz41tRBN"
      },
      "source": [
        "preds1 = Classifier1.predict(X_test)"
      ],
      "execution_count": 171,
      "outputs": []
    },
    {
      "cell_type": "code",
      "metadata": {
        "colab": {
          "base_uri": "https://localhost:8080/"
        },
        "outputId": "bf1753c3-c620-48a8-9262-dec6db2b131b",
        "id": "cLbQ1a3ytRBO"
      },
      "source": [
        "preds1"
      ],
      "execution_count": 172,
      "outputs": [
        {
          "output_type": "execute_result",
          "data": {
            "text/plain": [
              "array([1, 1, 1, 1, 0, 0, 0, 1, 0, 0, 1, 1, 1, 0, 1, 0, 0, 0, 0, 0, 0, 0,\n",
              "       0, 0, 0, 0, 0, 0, 0, 0, 0, 0, 0, 1, 0, 0, 1, 1, 1, 1, 1, 1, 1, 1,\n",
              "       1, 0, 0, 0, 1, 1, 1])"
            ]
          },
          "metadata": {},
          "execution_count": 172
        }
      ]
    },
    {
      "cell_type": "code",
      "metadata": {
        "colab": {
          "base_uri": "https://localhost:8080/"
        },
        "outputId": "af468b5f-02bc-4129-b6fe-e67f56ceb7b0",
        "id": "jYdLZtC2tRBP"
      },
      "source": [
        "cf_matrix1 = confusion_matrix(Y_test, preds1)\n",
        "print(cf_matrix1)"
      ],
      "execution_count": 173,
      "outputs": [
        {
          "output_type": "stream",
          "name": "stdout",
          "text": [
            "[[24  7]\n",
            " [ 5 15]]\n"
          ]
        }
      ]
    },
    {
      "cell_type": "code",
      "source": [
        "MCC(Y_test, preds1)"
      ],
      "metadata": {
        "colab": {
          "base_uri": "https://localhost:8080/"
        },
        "outputId": "e0026dd7-c8f0-4346-81b1-d2ae98562bcb",
        "id": "r9gihGeYtxi3"
      },
      "execution_count": 174,
      "outputs": [
        {
          "output_type": "execute_result",
          "data": {
            "text/plain": [
              "0.516746063443483"
            ]
          },
          "metadata": {},
          "execution_count": 174
        }
      ]
    },
    {
      "cell_type": "code",
      "source": [
        "recall(Y_test, preds1)"
      ],
      "metadata": {
        "colab": {
          "base_uri": "https://localhost:8080/"
        },
        "outputId": "e05c1773-c801-485c-d343-7090aee6eca0",
        "id": "nEBoze-Ptxi6"
      },
      "execution_count": 175,
      "outputs": [
        {
          "output_type": "execute_result",
          "data": {
            "text/plain": [
              "0.75"
            ]
          },
          "metadata": {},
          "execution_count": 175
        }
      ]
    },
    {
      "cell_type": "code",
      "source": [
        "sensibilite(Y_test, preds1)"
      ],
      "metadata": {
        "colab": {
          "base_uri": "https://localhost:8080/"
        },
        "outputId": "a72ba9e7-c04a-4546-e550-c070ba8ccc30",
        "id": "FeSUU13Dtxi6"
      },
      "execution_count": 176,
      "outputs": [
        {
          "output_type": "execute_result",
          "data": {
            "text/plain": [
              "0.75"
            ]
          },
          "metadata": {},
          "execution_count": 176
        }
      ]
    },
    {
      "cell_type": "code",
      "source": [
        "specifite(Y_test, preds1)"
      ],
      "metadata": {
        "colab": {
          "base_uri": "https://localhost:8080/"
        },
        "outputId": "6d8704d6-0a52-4e56-e4d0-69baf69c25c3",
        "id": "dwQpig7Htxi6"
      },
      "execution_count": 177,
      "outputs": [
        {
          "output_type": "execute_result",
          "data": {
            "text/plain": [
              "0.7741935483870968"
            ]
          },
          "metadata": {},
          "execution_count": 177
        }
      ]
    },
    {
      "cell_type": "code",
      "source": [
        "présicion_négative(Y_test, preds1)"
      ],
      "metadata": {
        "colab": {
          "base_uri": "https://localhost:8080/"
        },
        "outputId": "823ec4e8-ad0c-4202-92eb-b84763b49e9d",
        "id": "6H7Fh0xYtxi8"
      },
      "execution_count": 178,
      "outputs": [
        {
          "output_type": "execute_result",
          "data": {
            "text/plain": [
              "0.8275862068965517"
            ]
          },
          "metadata": {},
          "execution_count": 178
        }
      ]
    },
    {
      "cell_type": "code",
      "source": [
        "présicion_positive(Y_test, preds1)"
      ],
      "metadata": {
        "colab": {
          "base_uri": "https://localhost:8080/"
        },
        "outputId": "cffe8967-68f1-447d-bb03-2ccc45a6effb",
        "id": "76_2PqsYtxi9"
      },
      "execution_count": 179,
      "outputs": [
        {
          "output_type": "execute_result",
          "data": {
            "text/plain": [
              "0.6818181818181818"
            ]
          },
          "metadata": {},
          "execution_count": 179
        }
      ]
    },
    {
      "cell_type": "code",
      "source": [
        "balancedacc(Y_test, preds1)"
      ],
      "metadata": {
        "colab": {
          "base_uri": "https://localhost:8080/"
        },
        "outputId": "42917506-214f-4129-cd9e-718f0b7aef43",
        "id": "GnAaGf7Ftxi9"
      },
      "execution_count": 180,
      "outputs": [
        {
          "output_type": "execute_result",
          "data": {
            "text/plain": [
              "0.7547021943573667"
            ]
          },
          "metadata": {},
          "execution_count": 180
        }
      ]
    },
    {
      "cell_type": "code",
      "source": [
        "kappa(Y_test, preds1)"
      ],
      "metadata": {
        "colab": {
          "base_uri": "https://localhost:8080/"
        },
        "outputId": "9b106928-0ebf-40b3-b2c4-097447281f85",
        "id": "qET4Gk3Jtxi-"
      },
      "execution_count": 181,
      "outputs": [
        {
          "output_type": "execute_result",
          "data": {
            "text/plain": [
              "0.5150554675118859"
            ]
          },
          "metadata": {},
          "execution_count": 181
        }
      ]
    },
    {
      "cell_type": "code",
      "source": [
        "y_pred_proba = Classifier1.predict_proba(X_test)[::,1]\n",
        "fpr, tpr, _ = metrics.roc_curve(Y_test,  y_pred_proba)\n",
        "auc = metrics.roc_auc_score(Y_test, y_pred_proba)\n",
        "plt.plot(fpr,tpr,label=\"logistique, auc=\"+str(auc))\n",
        "plt.legend(loc=4)\n",
        "plt.show()"
      ],
      "metadata": {
        "colab": {
          "base_uri": "https://localhost:8080/",
          "height": 265
        },
        "outputId": "b3df3377-24f7-4f92-d5b9-1b3080777477",
        "id": "7KQf8mPRtxi-"
      },
      "execution_count": 182,
      "outputs": [
        {
          "output_type": "display_data",
          "data": {
            "image/png": "[encoded data removed]",
            "text/plain": [
              "<Figure size 432x288 with 1 Axes>"
            ]
          },
          "metadata": {
            "needs_background": "light"
          }
        }
      ]
    },
    {
      "cell_type": "markdown",
      "source": [
        "# Random_forest"
      ],
      "metadata": {
        "id": "zGlIAvl7x7Kc"
      }
    },
    {
      "cell_type": "code",
      "source": [
        "Classifier2 = RandomForestClassifier(n_estimators=100, criterion='gini', max_depth=5 ,min_samples_split=3)"
      ],
      "metadata": {
        "id": "OnTVCOaQx7Ke"
      },
      "execution_count": 183,
      "outputs": []
    },
    {
      "cell_type": "code",
      "source": [
        "Classifier2.fit(X_app,Y_app)"
      ],
      "metadata": {
        "colab": {
          "base_uri": "https://localhost:8080/"
        },
        "outputId": "3ed194dc-cacf-4411-f840-c77e3c86165e",
        "id": "DXZaUbAOx7Kf"
      },
      "execution_count": 184,
      "outputs": [
        {
          "output_type": "execute_result",
          "data": {
            "text/plain": [
              "RandomForestClassifier(max_depth=5, min_samples_split=3)"
            ]
          },
          "metadata": {},
          "execution_count": 184
        }
      ]
    },
    {
      "cell_type": "code",
      "metadata": {
        "id": "gZ5dhlTJx7Kg"
      },
      "source": [
        "preds2 = Classifier2.predict(X_test)"
      ],
      "execution_count": 185,
      "outputs": []
    },
    {
      "cell_type": "code",
      "metadata": {
        "colab": {
          "base_uri": "https://localhost:8080/"
        },
        "outputId": "04ba27e8-f925-470f-cc64-66d75b60699e",
        "id": "3xri6EYkx7Kh"
      },
      "source": [
        "preds2"
      ],
      "execution_count": 186,
      "outputs": [
        {
          "output_type": "execute_result",
          "data": {
            "text/plain": [
              "array([0, 1, 1, 1, 0, 0, 0, 1, 0, 0, 1, 1, 1, 1, 1, 0, 0, 0, 0, 0, 0, 0,\n",
              "       0, 0, 1, 0, 0, 1, 0, 0, 0, 0, 0, 1, 0, 0, 1, 1, 1, 1, 0, 1, 1, 1,\n",
              "       1, 0, 0, 0, 1, 1, 0])"
            ]
          },
          "metadata": {},
          "execution_count": 186
        }
      ]
    },
    {
      "cell_type": "code",
      "metadata": {
        "colab": {
          "base_uri": "https://localhost:8080/"
        },
        "outputId": "edac302f-fa6f-4964-c2a5-99f111aba9d2",
        "id": "x_YXboonx7Kh"
      },
      "source": [
        "cf_matrix2 = confusion_matrix(Y_test, preds2)\n",
        "print(cf_matrix2)"
      ],
      "execution_count": 187,
      "outputs": [
        {
          "output_type": "stream",
          "name": "stdout",
          "text": [
            "[[23  8]\n",
            " [ 6 14]]\n"
          ]
        }
      ]
    },
    {
      "cell_type": "code",
      "source": [
        "MCC(Y_test, preds2)"
      ],
      "metadata": {
        "colab": {
          "base_uri": "https://localhost:8080/"
        },
        "outputId": "c2112295-6f4d-452a-d45b-47c424db2d9e",
        "id": "B7ku8BpLx7Ki"
      },
      "execution_count": 188,
      "outputs": [
        {
          "output_type": "execute_result",
          "data": {
            "text/plain": [
              "0.4356566811800441"
            ]
          },
          "metadata": {},
          "execution_count": 188
        }
      ]
    },
    {
      "cell_type": "code",
      "source": [
        "recall(Y_test, preds2)"
      ],
      "metadata": {
        "colab": {
          "base_uri": "https://localhost:8080/"
        },
        "outputId": "8880d370-fcdf-4b02-c906-1d3873cad664",
        "id": "0-gUEv9Kx7Kj"
      },
      "execution_count": 189,
      "outputs": [
        {
          "output_type": "execute_result",
          "data": {
            "text/plain": [
              "0.7"
            ]
          },
          "metadata": {},
          "execution_count": 189
        }
      ]
    },
    {
      "cell_type": "code",
      "source": [
        "sensibilite(Y_test, preds2)"
      ],
      "metadata": {
        "colab": {
          "base_uri": "https://localhost:8080/"
        },
        "outputId": "71da46e1-8d96-41fb-b166-a02ef33df2aa",
        "id": "_Hm4Xdv3x7Kk"
      },
      "execution_count": 190,
      "outputs": [
        {
          "output_type": "execute_result",
          "data": {
            "text/plain": [
              "0.7"
            ]
          },
          "metadata": {},
          "execution_count": 190
        }
      ]
    },
    {
      "cell_type": "code",
      "source": [
        "specifite(Y_test, preds2)"
      ],
      "metadata": {
        "colab": {
          "base_uri": "https://localhost:8080/"
        },
        "outputId": "ff396a83-2d6d-4a3f-aeb7-70b30c8227f1",
        "id": "rS3voaC9x7Kk"
      },
      "execution_count": 191,
      "outputs": [
        {
          "output_type": "execute_result",
          "data": {
            "text/plain": [
              "0.7419354838709677"
            ]
          },
          "metadata": {},
          "execution_count": 191
        }
      ]
    },
    {
      "cell_type": "code",
      "source": [
        "présicion_négative(Y_test, preds2)"
      ],
      "metadata": {
        "colab": {
          "base_uri": "https://localhost:8080/"
        },
        "outputId": "cfe2e13d-e636-460d-c41f-28b68ae442c6",
        "id": "aqcCGISAx7Kl"
      },
      "execution_count": 192,
      "outputs": [
        {
          "output_type": "execute_result",
          "data": {
            "text/plain": [
              "0.7931034482758621"
            ]
          },
          "metadata": {},
          "execution_count": 192
        }
      ]
    },
    {
      "cell_type": "code",
      "source": [
        "présicion_positive(Y_test, preds2)"
      ],
      "metadata": {
        "colab": {
          "base_uri": "https://localhost:8080/"
        },
        "outputId": "908e82b8-b77a-47da-a8d9-fdf87566f9b8",
        "id": "7pbTegOYx7Km"
      },
      "execution_count": 193,
      "outputs": [
        {
          "output_type": "execute_result",
          "data": {
            "text/plain": [
              "0.6363636363636364"
            ]
          },
          "metadata": {},
          "execution_count": 193
        }
      ]
    },
    {
      "cell_type": "code",
      "source": [
        "balancedacc(Y_test, preds2)"
      ],
      "metadata": {
        "colab": {
          "base_uri": "https://localhost:8080/"
        },
        "outputId": "8f3abaff-38d0-4790-ca3a-10c03e44ddb8",
        "id": "2svuWaynx7Kn"
      },
      "execution_count": 194,
      "outputs": [
        {
          "output_type": "execute_result",
          "data": {
            "text/plain": [
              "0.7147335423197492"
            ]
          },
          "metadata": {},
          "execution_count": 194
        }
      ]
    },
    {
      "cell_type": "code",
      "source": [
        "kappa(Y_test, preds2)"
      ],
      "metadata": {
        "colab": {
          "base_uri": "https://localhost:8080/"
        },
        "outputId": "eb77cfb4-794a-4040-d8f1-00dbe96d2ace",
        "id": "_fj8QvtYx7Kn"
      },
      "execution_count": 195,
      "outputs": [
        {
          "output_type": "execute_result",
          "data": {
            "text/plain": [
              "0.43423137876386686"
            ]
          },
          "metadata": {},
          "execution_count": 195
        }
      ]
    },
    {
      "cell_type": "code",
      "source": [
        "y_pred_proba = Classifier2.predict_proba(X_test)[::,1]\n",
        "fpr, tpr, _ = metrics.roc_curve(Y_test,  y_pred_proba)\n",
        "auc = metrics.roc_auc_score(Y_test, y_pred_proba)\n",
        "plt.plot(fpr,tpr,label=\"random_forest, auc=\"+str(auc))\n",
        "plt.legend(loc=4)\n",
        "plt.show()"
      ],
      "metadata": {
        "colab": {
          "base_uri": "https://localhost:8080/",
          "height": 265
        },
        "outputId": "f89fe1c3-6d47-406c-cb09-2ee204b2a640",
        "id": "m_3yw9xWx7Ko"
      },
      "execution_count": 196,
      "outputs": [
        {
          "output_type": "display_data",
          "data": {
            "image/png": "[encoded data removed]",
            "text/plain": [
              "<Figure size 432x288 with 1 Axes>"
            ]
          },
          "metadata": {
            "needs_background": "light"
          }
        }
      ]
    },
    {
      "cell_type": "markdown",
      "source": [
        "# Gradient_Boostnig"
      ],
      "metadata": {
        "id": "JI7145L2uHrL"
      }
    },
    {
      "cell_type": "code",
      "source": [
        "Classifier3 = GradientBoostingClassifier(n_estimators=225, learning_rate=0.1, max_features=2, max_depth=2, random_state=0,min_samples_leaf=2,subsample=1 )"
      ],
      "metadata": {
        "id": "qVCjVU68uGBZ"
      },
      "execution_count": 197,
      "outputs": []
    },
    {
      "cell_type": "code",
      "source": [
        "Classifier3.fit(X_app,Y_app)"
      ],
      "metadata": {
        "colab": {
          "base_uri": "https://localhost:8080/"
        },
        "outputId": "8a956ee6-db3d-4d4a-c2f7-2c207dcaa724",
        "id": "BIMZEAdVuGBb"
      },
      "execution_count": 198,
      "outputs": [
        {
          "output_type": "execute_result",
          "data": {
            "text/plain": [
              "GradientBoostingClassifier(max_depth=2, max_features=2, min_samples_leaf=2,\n",
              "                           n_estimators=225, random_state=0, subsample=1)"
            ]
          },
          "metadata": {},
          "execution_count": 198
        }
      ]
    },
    {
      "cell_type": "code",
      "metadata": {
        "id": "7hG6F5ZyuGBc"
      },
      "source": [
        "preds3 = Classifier3.predict(X_test)"
      ],
      "execution_count": 199,
      "outputs": []
    },
    {
      "cell_type": "code",
      "metadata": {
        "colab": {
          "base_uri": "https://localhost:8080/"
        },
        "outputId": "38f7d385-64e7-4cde-93fb-94ff8006fd7b",
        "id": "4k9JFc37uGBc"
      },
      "source": [
        "preds3"
      ],
      "execution_count": 200,
      "outputs": [
        {
          "output_type": "execute_result",
          "data": {
            "text/plain": [
              "array([0, 1, 1, 1, 0, 0, 0, 1, 0, 0, 1, 1, 1, 1, 1, 0, 0, 0, 0, 1, 0, 0,\n",
              "       0, 1, 1, 0, 0, 1, 0, 1, 0, 0, 0, 1, 0, 0, 1, 1, 1, 1, 1, 1, 1, 1,\n",
              "       1, 0, 0, 0, 1, 1, 1])"
            ]
          },
          "metadata": {},
          "execution_count": 200
        }
      ]
    },
    {
      "cell_type": "code",
      "metadata": {
        "colab": {
          "base_uri": "https://localhost:8080/"
        },
        "outputId": "9469bbc2-17ec-47df-ed0e-193ed67da86f",
        "id": "fVfK5rx0uGBd"
      },
      "source": [
        "cf_matrix3 = confusion_matrix(Y_test, preds3)\n",
        "print(cf_matrix3)"
      ],
      "execution_count": 201,
      "outputs": [
        {
          "output_type": "stream",
          "name": "stdout",
          "text": [
            "[[20 11]\n",
            " [ 4 16]]\n"
          ]
        }
      ]
    },
    {
      "cell_type": "code",
      "source": [
        "MCC(Y_test, preds3)"
      ],
      "metadata": {
        "colab": {
          "base_uri": "https://localhost:8080/"
        },
        "outputId": "854d8773-06b0-4b1f-8623-4045ae8a0a1e",
        "id": "vbOeDj1BuGBe"
      },
      "execution_count": 202,
      "outputs": [
        {
          "output_type": "execute_result",
          "data": {
            "text/plain": [
              "0.435437406256083"
            ]
          },
          "metadata": {},
          "execution_count": 202
        }
      ]
    },
    {
      "cell_type": "code",
      "source": [
        "recall(Y_test, preds3)"
      ],
      "metadata": {
        "colab": {
          "base_uri": "https://localhost:8080/"
        },
        "outputId": "6cd3e3c9-f363-4f97-d3b5-185f0a5dc8c6",
        "id": "C9aawbDzuGBe"
      },
      "execution_count": 203,
      "outputs": [
        {
          "output_type": "execute_result",
          "data": {
            "text/plain": [
              "0.8"
            ]
          },
          "metadata": {},
          "execution_count": 203
        }
      ]
    },
    {
      "cell_type": "code",
      "source": [
        "sensibilite(Y_test, preds3)"
      ],
      "metadata": {
        "colab": {
          "base_uri": "https://localhost:8080/"
        },
        "outputId": "cf4bffd1-f89b-4621-a212-a0fd2ff5bd3a",
        "id": "MQOsFFQ6uGBf"
      },
      "execution_count": 204,
      "outputs": [
        {
          "output_type": "execute_result",
          "data": {
            "text/plain": [
              "0.8"
            ]
          },
          "metadata": {},
          "execution_count": 204
        }
      ]
    },
    {
      "cell_type": "code",
      "source": [
        "specifite(Y_test, preds3)"
      ],
      "metadata": {
        "colab": {
          "base_uri": "https://localhost:8080/"
        },
        "outputId": "3cf7d0cf-1006-49b8-f7f0-5aa1bcf4eee9",
        "id": "mM4JBuWiuGBf"
      },
      "execution_count": 205,
      "outputs": [
        {
          "output_type": "execute_result",
          "data": {
            "text/plain": [
              "0.6451612903225806"
            ]
          },
          "metadata": {},
          "execution_count": 205
        }
      ]
    },
    {
      "cell_type": "code",
      "source": [
        "présicion_négative(Y_test, preds3)"
      ],
      "metadata": {
        "colab": {
          "base_uri": "https://localhost:8080/"
        },
        "outputId": "bbb19da8-e0c6-4efd-eedd-86506675a084",
        "id": "6_VmQRhwuGBg"
      },
      "execution_count": 206,
      "outputs": [
        {
          "output_type": "execute_result",
          "data": {
            "text/plain": [
              "0.8333333333333334"
            ]
          },
          "metadata": {},
          "execution_count": 206
        }
      ]
    },
    {
      "cell_type": "code",
      "source": [
        "présicion_positive(Y_test, preds3)"
      ],
      "metadata": {
        "colab": {
          "base_uri": "https://localhost:8080/"
        },
        "outputId": "7d3c5461-55f7-4848-b661-0853235f3983",
        "id": "WaWhbVz0uGBh"
      },
      "execution_count": 207,
      "outputs": [
        {
          "output_type": "execute_result",
          "data": {
            "text/plain": [
              "0.5925925925925926"
            ]
          },
          "metadata": {},
          "execution_count": 207
        }
      ]
    },
    {
      "cell_type": "code",
      "source": [
        "balancedacc(Y_test, preds3)"
      ],
      "metadata": {
        "colab": {
          "base_uri": "https://localhost:8080/"
        },
        "outputId": "49868718-2375-4914-c27c-ecfb75db09fd",
        "id": "vD0WviqluGBi"
      },
      "execution_count": 208,
      "outputs": [
        {
          "output_type": "execute_result",
          "data": {
            "text/plain": [
              "0.712962962962963"
            ]
          },
          "metadata": {},
          "execution_count": 208
        }
      ]
    },
    {
      "cell_type": "code",
      "source": [
        "kappa(Y_test, preds3)"
      ],
      "metadata": {
        "colab": {
          "base_uri": "https://localhost:8080/"
        },
        "outputId": "616ce637-0bb1-4ced-af1d-b94b678699d6",
        "id": "fkjFRlqVuGBj"
      },
      "execution_count": 209,
      "outputs": [
        {
          "output_type": "execute_result",
          "data": {
            "text/plain": [
              "0.419134396355353"
            ]
          },
          "metadata": {},
          "execution_count": 209
        }
      ]
    },
    {
      "cell_type": "code",
      "source": [
        "y_pred_proba = Classifier3.predict_proba(X_test)[::,1]\n",
        "fpr, tpr, _ = metrics.roc_curve(Y_test,  y_pred_proba)\n",
        "auc = metrics.roc_auc_score(Y_test, y_pred_proba)\n",
        "plt.plot(fpr,tpr,label=\"gradient_boosting, auc=\"+str(auc))\n",
        "plt.legend(loc=4)\n",
        "plt.show()"
      ],
      "metadata": {
        "colab": {
          "base_uri": "https://localhost:8080/",
          "height": 265
        },
        "outputId": "b92097b8-1d0f-452b-c5e9-815940795ed0",
        "id": "AIZJ2moWuGBj"
      },
      "execution_count": 210,
      "outputs": [
        {
          "output_type": "display_data",
          "data": {
            "image/png": "[encoded data removed]",
            "text/plain": [
              "<Figure size 432x288 with 1 Axes>"
            ]
          },
          "metadata": {
            "needs_background": "light"
          }
        }
      ]
    },
    {
      "cell_type": "markdown",
      "source": [
        "# Gaussian"
      ],
      "metadata": {
        "id": "M_oLoKwYyQ5r"
      }
    },
    {
      "cell_type": "code",
      "source": [
        "Classifier4 = GaussianNB()"
      ],
      "metadata": {
        "id": "R3n-YXTPyOrL"
      },
      "execution_count": 211,
      "outputs": []
    },
    {
      "cell_type": "code",
      "source": [
        "Classifier4.fit(X_app,Y_app)"
      ],
      "metadata": {
        "colab": {
          "base_uri": "https://localhost:8080/"
        },
        "outputId": "4be7e6e2-5cf8-4083-b60a-ce691b038b3c",
        "id": "CqAOx3ZxyOrM"
      },
      "execution_count": 212,
      "outputs": [
        {
          "output_type": "execute_result",
          "data": {
            "text/plain": [
              "GaussianNB()"
            ]
          },
          "metadata": {},
          "execution_count": 212
        }
      ]
    },
    {
      "cell_type": "code",
      "metadata": {
        "id": "sUQwDdgHyOrN"
      },
      "source": [
        "preds4 = Classifier4.predict(X_test)"
      ],
      "execution_count": 213,
      "outputs": []
    },
    {
      "cell_type": "code",
      "metadata": {
        "colab": {
          "base_uri": "https://localhost:8080/"
        },
        "outputId": "8ed4705c-2e0e-41eb-afe7-78a41a73c645",
        "id": "wgNGL6VZyOrN"
      },
      "source": [
        "preds4"
      ],
      "execution_count": 214,
      "outputs": [
        {
          "output_type": "execute_result",
          "data": {
            "text/plain": [
              "array([0, 1, 1, 1, 0, 0, 0, 0, 0, 0, 1, 1, 1, 0, 0, 0, 0, 0, 0, 0, 0, 0,\n",
              "       0, 0, 0, 0, 0, 1, 0, 0, 0, 0, 0, 0, 0, 0, 1, 1, 1, 1, 1, 1, 1, 1,\n",
              "       1, 0, 0, 0, 1, 1, 1])"
            ]
          },
          "metadata": {},
          "execution_count": 214
        }
      ]
    },
    {
      "cell_type": "code",
      "metadata": {
        "colab": {
          "base_uri": "https://localhost:8080/"
        },
        "outputId": "5cef8798-c808-4574-8fa3-0476540fc51e",
        "id": "lrM0H5CtyOrO"
      },
      "source": [
        "cf_matrix4 = confusion_matrix(Y_test, preds4)\n",
        "print(cf_matrix4)"
      ],
      "execution_count": 215,
      "outputs": [
        {
          "output_type": "stream",
          "name": "stdout",
          "text": [
            "[[27  4]\n",
            " [ 5 15]]\n"
          ]
        }
      ]
    },
    {
      "cell_type": "code",
      "source": [
        "MCC(Y_test, preds4)"
      ],
      "metadata": {
        "colab": {
          "base_uri": "https://localhost:8080/"
        },
        "outputId": "55a0df37-fc04-4b60-fcda-2fba7dd46ba1",
        "id": "saxhWxoLyOrP"
      },
      "execution_count": 216,
      "outputs": [
        {
          "output_type": "execute_result",
          "data": {
            "text/plain": [
              "0.6270657711311297"
            ]
          },
          "metadata": {},
          "execution_count": 216
        }
      ]
    },
    {
      "cell_type": "code",
      "source": [
        "recall(Y_test, preds4)"
      ],
      "metadata": {
        "colab": {
          "base_uri": "https://localhost:8080/"
        },
        "outputId": "b34ce15a-0ddd-47ff-d24f-5e9891ab9816",
        "id": "x3ajiHmiyOrP"
      },
      "execution_count": 217,
      "outputs": [
        {
          "output_type": "execute_result",
          "data": {
            "text/plain": [
              "0.75"
            ]
          },
          "metadata": {},
          "execution_count": 217
        }
      ]
    },
    {
      "cell_type": "code",
      "source": [
        "sensibilite(Y_test, preds4)"
      ],
      "metadata": {
        "colab": {
          "base_uri": "https://localhost:8080/"
        },
        "outputId": "a5d2518b-9f74-41e0-ed11-082b5e67fa0c",
        "id": "rhznxgVNyOrQ"
      },
      "execution_count": 218,
      "outputs": [
        {
          "output_type": "execute_result",
          "data": {
            "text/plain": [
              "0.75"
            ]
          },
          "metadata": {},
          "execution_count": 218
        }
      ]
    },
    {
      "cell_type": "code",
      "source": [
        "specifite(Y_test, preds4)"
      ],
      "metadata": {
        "colab": {
          "base_uri": "https://localhost:8080/"
        },
        "outputId": "e4dcfcd3-d2aa-405e-d050-59963e3f1b51",
        "id": "wH2MIF2XyOrR"
      },
      "execution_count": 219,
      "outputs": [
        {
          "output_type": "execute_result",
          "data": {
            "text/plain": [
              "0.8709677419354839"
            ]
          },
          "metadata": {},
          "execution_count": 219
        }
      ]
    },
    {
      "cell_type": "code",
      "source": [
        "présicion_négative(Y_test, preds4)"
      ],
      "metadata": {
        "colab": {
          "base_uri": "https://localhost:8080/"
        },
        "outputId": "4f80a414-9b32-43ed-88d0-50e99d2ac969",
        "id": "jDbUhczcyOrS"
      },
      "execution_count": 220,
      "outputs": [
        {
          "output_type": "execute_result",
          "data": {
            "text/plain": [
              "0.84375"
            ]
          },
          "metadata": {},
          "execution_count": 220
        }
      ]
    },
    {
      "cell_type": "code",
      "source": [
        "présicion_positive(Y_test, preds4)"
      ],
      "metadata": {
        "colab": {
          "base_uri": "https://localhost:8080/"
        },
        "outputId": "7bef33f8-19be-4ac9-9b35-f38eff2ff391",
        "id": "LT4yf35CyOrT"
      },
      "execution_count": 221,
      "outputs": [
        {
          "output_type": "execute_result",
          "data": {
            "text/plain": [
              "0.7894736842105263"
            ]
          },
          "metadata": {},
          "execution_count": 221
        }
      ]
    },
    {
      "cell_type": "code",
      "source": [
        "balancedacc(Y_test, preds4)"
      ],
      "metadata": {
        "colab": {
          "base_uri": "https://localhost:8080/"
        },
        "outputId": "e2d99da0-685a-4c19-8bbf-270e572c09a2",
        "id": "y9KqoG0eyOrU"
      },
      "execution_count": 222,
      "outputs": [
        {
          "output_type": "execute_result",
          "data": {
            "text/plain": [
              "0.8166118421052632"
            ]
          },
          "metadata": {},
          "execution_count": 222
        }
      ]
    },
    {
      "cell_type": "code",
      "source": [
        "kappa(Y_test, preds4)"
      ],
      "metadata": {
        "colab": {
          "base_uri": "https://localhost:8080/"
        },
        "outputId": "89af6c44-63c4-407f-c081-2c690f26a46b",
        "id": "4MwUWhdByOrU"
      },
      "execution_count": 223,
      "outputs": [
        {
          "output_type": "execute_result",
          "data": {
            "text/plain": [
              "0.6265256305939788"
            ]
          },
          "metadata": {},
          "execution_count": 223
        }
      ]
    },
    {
      "cell_type": "code",
      "source": [
        "y_pred_proba = Classifier4.predict_proba(X_test)[::,1]\n",
        "fpr, tpr, _ = metrics.roc_curve(Y_test,  y_pred_proba)\n",
        "auc = metrics.roc_auc_score(Y_test, y_pred_proba)\n",
        "plt.plot(fpr,tpr,label=\"gaussian, auc=\"+str(auc))\n",
        "plt.legend(loc=4)\n",
        "plt.show()"
      ],
      "metadata": {
        "colab": {
          "base_uri": "https://localhost:8080/",
          "height": 265
        },
        "outputId": "a1867696-ab40-41f1-e3dd-7d7d340ff8bf",
        "id": "8no7Z5gvyOrV"
      },
      "execution_count": 224,
      "outputs": [
        {
          "output_type": "display_data",
          "data": {
            "image/png": "[encoded data removed]",
            "text/plain": [
              "<Figure size 432x288 with 1 Axes>"
            ]
          },
          "metadata": {
            "needs_background": "light"
          }
        }
      ]
    },
    {
      "cell_type": "markdown",
      "source": [
        "# KNN"
      ],
      "metadata": {
        "id": "MjRfnmXjz57x"
      }
    },
    {
      "cell_type": "code",
      "source": [
        "Classifier5 = KNeighborsClassifier(n_neighbors=5)"
      ],
      "metadata": {
        "id": "OsjObBSfz4IN"
      },
      "execution_count": 225,
      "outputs": []
    },
    {
      "cell_type": "code",
      "source": [
        "Classifier5.fit(X_app,Y_app)"
      ],
      "metadata": {
        "colab": {
          "base_uri": "https://localhost:8080/"
        },
        "outputId": "10fcf76e-d37e-4675-c1c9-a87449f4591e",
        "id": "nB069cUFz4IP"
      },
      "execution_count": 226,
      "outputs": [
        {
          "output_type": "execute_result",
          "data": {
            "text/plain": [
              "KNeighborsClassifier()"
            ]
          },
          "metadata": {},
          "execution_count": 226
        }
      ]
    },
    {
      "cell_type": "code",
      "metadata": {
        "id": "ubEW3-dVz4IQ"
      },
      "source": [
        "preds5 = Classifier5.predict(X_test)"
      ],
      "execution_count": 227,
      "outputs": []
    },
    {
      "cell_type": "code",
      "metadata": {
        "colab": {
          "base_uri": "https://localhost:8080/"
        },
        "outputId": "4294e9e2-f218-4467-c667-7448766b0fa4",
        "id": "Jt1k3-_iz4IQ"
      },
      "source": [
        "preds5"
      ],
      "execution_count": 228,
      "outputs": [
        {
          "output_type": "execute_result",
          "data": {
            "text/plain": [
              "array([1, 1, 1, 1, 0, 0, 0, 1, 0, 1, 0, 1, 1, 1, 1, 0, 0, 0, 0, 1, 1, 1,\n",
              "       0, 1, 0, 1, 0, 1, 0, 0, 1, 1, 0, 0, 0, 0, 0, 1, 1, 0, 0, 1, 1, 1,\n",
              "       0, 0, 0, 0, 1, 1, 1])"
            ]
          },
          "metadata": {},
          "execution_count": 228
        }
      ]
    },
    {
      "cell_type": "code",
      "metadata": {
        "colab": {
          "base_uri": "https://localhost:8080/"
        },
        "outputId": "93bdbda7-bba8-4d5f-d3f2-7e38b8be6f3f",
        "id": "Cur8wap4z4IR"
      },
      "source": [
        "cf_matrix5 = confusion_matrix(Y_test, preds5)\n",
        "print(cf_matrix5)"
      ],
      "execution_count": 229,
      "outputs": [
        {
          "output_type": "stream",
          "name": "stdout",
          "text": [
            "[[18 13]\n",
            " [ 7 13]]\n"
          ]
        }
      ]
    },
    {
      "cell_type": "code",
      "source": [
        "MCC(Y_test, preds5)"
      ],
      "metadata": {
        "colab": {
          "base_uri": "https://localhost:8080/"
        },
        "outputId": "20d3f904-ccfc-435f-e3a5-191ee25bf795",
        "id": "CCCChR6jz4IS"
      },
      "execution_count": 230,
      "outputs": [
        {
          "output_type": "execute_result",
          "data": {
            "text/plain": [
              "0.22525970674728088"
            ]
          },
          "metadata": {},
          "execution_count": 230
        }
      ]
    },
    {
      "cell_type": "code",
      "source": [
        "recall(Y_test, preds5)"
      ],
      "metadata": {
        "colab": {
          "base_uri": "https://localhost:8080/"
        },
        "outputId": "2d391f80-8fef-45f6-99d1-2ecd37e5e1ae",
        "id": "7hSSJP_Dz4IS"
      },
      "execution_count": 231,
      "outputs": [
        {
          "output_type": "execute_result",
          "data": {
            "text/plain": [
              "0.65"
            ]
          },
          "metadata": {},
          "execution_count": 231
        }
      ]
    },
    {
      "cell_type": "code",
      "source": [
        "sensibilite(Y_test, preds5)"
      ],
      "metadata": {
        "colab": {
          "base_uri": "https://localhost:8080/"
        },
        "outputId": "1b41a397-f9a3-48b7-a16a-5a246b3088f8",
        "id": "AlNCQlajz4IT"
      },
      "execution_count": 232,
      "outputs": [
        {
          "output_type": "execute_result",
          "data": {
            "text/plain": [
              "0.65"
            ]
          },
          "metadata": {},
          "execution_count": 232
        }
      ]
    },
    {
      "cell_type": "code",
      "source": [
        "specifite(Y_test, preds5)"
      ],
      "metadata": {
        "colab": {
          "base_uri": "https://localhost:8080/"
        },
        "outputId": "b6835dde-91c7-4660-ffea-5820025bd826",
        "id": "fQZd8sYbz4IU"
      },
      "execution_count": 233,
      "outputs": [
        {
          "output_type": "execute_result",
          "data": {
            "text/plain": [
              "0.5806451612903226"
            ]
          },
          "metadata": {},
          "execution_count": 233
        }
      ]
    },
    {
      "cell_type": "code",
      "source": [
        "présicion_négative(Y_test, preds5)"
      ],
      "metadata": {
        "colab": {
          "base_uri": "https://localhost:8080/"
        },
        "outputId": "7896a190-d298-4ee0-85ad-954955cfda7b",
        "id": "eiy_lIEAz4IV"
      },
      "execution_count": 234,
      "outputs": [
        {
          "output_type": "execute_result",
          "data": {
            "text/plain": [
              "0.72"
            ]
          },
          "metadata": {},
          "execution_count": 234
        }
      ]
    },
    {
      "cell_type": "code",
      "source": [
        "présicion_positive(Y_test, preds5)"
      ],
      "metadata": {
        "colab": {
          "base_uri": "https://localhost:8080/"
        },
        "outputId": "de9eb8fd-de4c-4561-9d0b-d0a6619ccac7",
        "id": "yDxiQZ1oz4IW"
      },
      "execution_count": 235,
      "outputs": [
        {
          "output_type": "execute_result",
          "data": {
            "text/plain": [
              "0.5"
            ]
          },
          "metadata": {},
          "execution_count": 235
        }
      ]
    },
    {
      "cell_type": "code",
      "source": [
        "balancedacc(Y_test, preds5)"
      ],
      "metadata": {
        "colab": {
          "base_uri": "https://localhost:8080/"
        },
        "outputId": "fa0d20e0-1b82-4685-b4fb-abf46c4a07c9",
        "id": "4lrr3y6jz4IW"
      },
      "execution_count": 236,
      "outputs": [
        {
          "output_type": "execute_result",
          "data": {
            "text/plain": [
              "0.61"
            ]
          },
          "metadata": {},
          "execution_count": 236
        }
      ]
    },
    {
      "cell_type": "code",
      "source": [
        "kappa(Y_test, preds5)"
      ],
      "metadata": {
        "colab": {
          "base_uri": "https://localhost:8080/"
        },
        "outputId": "469347cc-2085-4002-f098-33a51d27974b",
        "id": "r0uSmog4z4IX"
      },
      "execution_count": 237,
      "outputs": [
        {
          "output_type": "execute_result",
          "data": {
            "text/plain": [
              "0.21898928024502307"
            ]
          },
          "metadata": {},
          "execution_count": 237
        }
      ]
    },
    {
      "cell_type": "code",
      "source": [
        "y_pred_proba = Classifier5.predict_proba(X_test)[::,1]\n",
        "fpr, tpr, _ = metrics.roc_curve(Y_test,  y_pred_proba)\n",
        "auc = metrics.roc_auc_score(Y_test, y_pred_proba)\n",
        "plt.plot(fpr,tpr,label=\"KNN, auc=\"+str(auc))\n",
        "plt.legend(loc=4)\n",
        "plt.show()"
      ],
      "metadata": {
        "colab": {
          "base_uri": "https://localhost:8080/",
          "height": 265
        },
        "outputId": "3e6fa76c-cbdc-41b0-989c-a7f60d2e129e",
        "id": "iQ65_5xLz4IX"
      },
      "execution_count": 238,
      "outputs": [
        {
          "output_type": "display_data",
          "data": {
            "image/png": "[encoded data removed]",
            "text/plain": [
              "<Figure size 432x288 with 1 Axes>"
            ]
          },
          "metadata": {
            "needs_background": "light"
          }
        }
      ]
    },
    {
      "cell_type": "markdown",
      "source": [
        "# MLPC"
      ],
      "metadata": {
        "id": "JSOjmzRT48EB"
      }
    },
    {
      "cell_type": "code",
      "source": [
        "from sklearn.neural_network import MLPClassifier"
      ],
      "metadata": {
        "id": "kTrWiH8BgHUe"
      },
      "execution_count": 239,
      "outputs": []
    },
    {
      "cell_type": "code",
      "source": [
        "Classifier6 = MLPClassifier(hidden_layer_sizes=100,max_iter=300)"
      ],
      "metadata": {
        "id": "u8ZCVkyH7au6"
      },
      "execution_count": 240,
      "outputs": []
    },
    {
      "cell_type": "code",
      "source": [
        "Classifier6.fit(X_app,Y_app)"
      ],
      "metadata": {
        "colab": {
          "base_uri": "https://localhost:8080/"
        },
        "outputId": "c4c2deff-0465-40e6-e1d5-25620b10cdf5",
        "id": "3q96K7k_7au7"
      },
      "execution_count": 241,
      "outputs": [
        {
          "output_type": "execute_result",
          "data": {
            "text/plain": [
              "MLPClassifier(hidden_layer_sizes=100, max_iter=300)"
            ]
          },
          "metadata": {},
          "execution_count": 241
        }
      ]
    },
    {
      "cell_type": "code",
      "metadata": {
        "id": "bmwFgVgZ7au9"
      },
      "source": [
        "preds6 = Classifier6.predict(X_test)"
      ],
      "execution_count": 242,
      "outputs": []
    },
    {
      "cell_type": "code",
      "metadata": {
        "colab": {
          "base_uri": "https://localhost:8080/"
        },
        "outputId": "0cce5cb4-0dcb-4210-901e-be2758f254b7",
        "id": "fw-in7Pn7au_"
      },
      "source": [
        "preds6"
      ],
      "execution_count": 243,
      "outputs": [
        {
          "output_type": "execute_result",
          "data": {
            "text/plain": [
              "array([1, 1, 1, 1, 0, 0, 0, 0, 0, 0, 1, 1, 1, 0, 1, 0, 0, 0, 0, 0, 0, 0,\n",
              "       0, 0, 0, 0, 0, 1, 0, 0, 0, 0, 0, 1, 0, 0, 1, 1, 1, 1, 1, 1, 0, 1,\n",
              "       1, 0, 0, 0, 1, 1, 1])"
            ]
          },
          "metadata": {},
          "execution_count": 243
        }
      ]
    },
    {
      "cell_type": "code",
      "metadata": {
        "colab": {
          "base_uri": "https://localhost:8080/"
        },
        "outputId": "90806f92-2c9c-4ea3-8c0f-d940a2c87993",
        "id": "_lfXsjfr7avA"
      },
      "source": [
        "cf_matrix6 = confusion_matrix(Y_test, preds6)\n",
        "print(cf_matrix6)"
      ],
      "execution_count": 244,
      "outputs": [
        {
          "output_type": "stream",
          "name": "stdout",
          "text": [
            "[[24  7]\n",
            " [ 6 14]]\n"
          ]
        }
      ]
    },
    {
      "cell_type": "code",
      "source": [
        "MCC(Y_test, preds6)"
      ],
      "metadata": {
        "colab": {
          "base_uri": "https://localhost:8080/"
        },
        "outputId": "cef352b1-0e96-4770-f751-4561ad836ecb",
        "id": "7pu_dMGr7avB"
      },
      "execution_count": 245,
      "outputs": [
        {
          "output_type": "execute_result",
          "data": {
            "text/plain": [
              "0.47041505352257296"
            ]
          },
          "metadata": {},
          "execution_count": 245
        }
      ]
    },
    {
      "cell_type": "code",
      "source": [
        "recall(Y_test, preds6)"
      ],
      "metadata": {
        "colab": {
          "base_uri": "https://localhost:8080/"
        },
        "outputId": "32c51efb-1ebc-408b-a0b7-e9b2efb776ee",
        "id": "q910vxIg7avC"
      },
      "execution_count": 246,
      "outputs": [
        {
          "output_type": "execute_result",
          "data": {
            "text/plain": [
              "0.7"
            ]
          },
          "metadata": {},
          "execution_count": 246
        }
      ]
    },
    {
      "cell_type": "code",
      "source": [
        "sensibilite(Y_test, preds6)"
      ],
      "metadata": {
        "colab": {
          "base_uri": "https://localhost:8080/"
        },
        "outputId": "ad717d7c-1d60-4c48-87ed-228756352bf9",
        "id": "-EHzWArf7avC"
      },
      "execution_count": 247,
      "outputs": [
        {
          "output_type": "execute_result",
          "data": {
            "text/plain": [
              "0.7"
            ]
          },
          "metadata": {},
          "execution_count": 247
        }
      ]
    },
    {
      "cell_type": "code",
      "source": [
        "specifite(Y_test, preds6)"
      ],
      "metadata": {
        "colab": {
          "base_uri": "https://localhost:8080/"
        },
        "outputId": "5a13f91e-5b07-4a85-f0db-30036f722777",
        "id": "Dht6FOif7avD"
      },
      "execution_count": 248,
      "outputs": [
        {
          "output_type": "execute_result",
          "data": {
            "text/plain": [
              "0.7741935483870968"
            ]
          },
          "metadata": {},
          "execution_count": 248
        }
      ]
    },
    {
      "cell_type": "code",
      "source": [
        "présicion_négative(Y_test, preds6)"
      ],
      "metadata": {
        "colab": {
          "base_uri": "https://localhost:8080/"
        },
        "outputId": "b0c45268-2e07-4d9a-a8ce-ff94eca01179",
        "id": "EvET3j2E7avD"
      },
      "execution_count": 249,
      "outputs": [
        {
          "output_type": "execute_result",
          "data": {
            "text/plain": [
              "0.8"
            ]
          },
          "metadata": {},
          "execution_count": 249
        }
      ]
    },
    {
      "cell_type": "code",
      "source": [
        "présicion_positive(Y_test, preds6)"
      ],
      "metadata": {
        "colab": {
          "base_uri": "https://localhost:8080/"
        },
        "outputId": "f6184172-5cdd-4a3d-9816-2c9639b066f3",
        "id": "swTtPanh7avE"
      },
      "execution_count": 250,
      "outputs": [
        {
          "output_type": "execute_result",
          "data": {
            "text/plain": [
              "0.6666666666666666"
            ]
          },
          "metadata": {},
          "execution_count": 250
        }
      ]
    },
    {
      "cell_type": "code",
      "source": [
        "balancedacc(Y_test, preds6)"
      ],
      "metadata": {
        "colab": {
          "base_uri": "https://localhost:8080/"
        },
        "outputId": "645d3744-157a-438e-85c0-c583b7ba70eb",
        "id": "sjrSKyAD7avF"
      },
      "execution_count": 251,
      "outputs": [
        {
          "output_type": "execute_result",
          "data": {
            "text/plain": [
              "0.7333333333333334"
            ]
          },
          "metadata": {},
          "execution_count": 251
        }
      ]
    },
    {
      "cell_type": "code",
      "source": [
        "kappa(Y_test, preds6)"
      ],
      "metadata": {
        "colab": {
          "base_uri": "https://localhost:8080/"
        },
        "outputId": "92e1a926-2c91-449f-9de2-5b33a0875bb8",
        "id": "yuImLPCt7avG"
      },
      "execution_count": 252,
      "outputs": [
        {
          "output_type": "execute_result",
          "data": {
            "text/plain": [
              "0.4700239808153478"
            ]
          },
          "metadata": {},
          "execution_count": 252
        }
      ]
    },
    {
      "cell_type": "code",
      "source": [
        "y_pred_proba = Classifier6.predict_proba(X_test)[::,1]\n",
        "fpr, tpr, _ = metrics.roc_curve(Y_test,  y_pred_proba)\n",
        "auc = metrics.roc_auc_score(Y_test, y_pred_proba)\n",
        "plt.plot(fpr,tpr,label=\"MLPC, auc=\"+str(auc))\n",
        "plt.legend(loc=4)\n",
        "plt.show()"
      ],
      "metadata": {
        "colab": {
          "base_uri": "https://localhost:8080/",
          "height": 265
        },
        "outputId": "c995b088-3960-4f37-d800-2243840c6d29",
        "id": "axoaIvAd7avG"
      },
      "execution_count": 253,
      "outputs": [
        {
          "output_type": "display_data",
          "data": {
            "image/png": "[encoded data removed]",
            "text/plain": [
              "<Figure size 432x288 with 1 Axes>"
            ]
          },
          "metadata": {
            "needs_background": "light"
          }
        }
      ]
    },
    {
      "cell_type": "markdown",
      "source": [
        "# SVM"
      ],
      "metadata": {
        "id": "ZrStCapd-xfv"
      }
    },
    {
      "cell_type": "code",
      "source": [
        "Classifier7 = svm.SVC(kernel='rbf',gamma=0.05,C=12)"
      ],
      "metadata": {
        "id": "bL7fPd6m-xfx"
      },
      "execution_count": 254,
      "outputs": []
    },
    {
      "cell_type": "code",
      "source": [
        "Classifier7.fit(X_app,Y_app)"
      ],
      "metadata": {
        "colab": {
          "base_uri": "https://localhost:8080/"
        },
        "outputId": "bcae1e45-0d71-4b7d-cfc1-41edbaa49783",
        "id": "-6xFLeXo-xfz"
      },
      "execution_count": 255,
      "outputs": [
        {
          "output_type": "execute_result",
          "data": {
            "text/plain": [
              "SVC(C=12, gamma=0.05)"
            ]
          },
          "metadata": {},
          "execution_count": 255
        }
      ]
    },
    {
      "cell_type": "code",
      "metadata": {
        "id": "RgkyEzm5-xf0"
      },
      "source": [
        "preds7 = Classifier7.predict(X_test)"
      ],
      "execution_count": 256,
      "outputs": []
    },
    {
      "cell_type": "code",
      "metadata": {
        "colab": {
          "base_uri": "https://localhost:8080/"
        },
        "outputId": "f8b00bbc-4941-4dc6-85d3-4229663cda81",
        "id": "NFvKopxU-xf0"
      },
      "source": [
        "preds7"
      ],
      "execution_count": 257,
      "outputs": [
        {
          "output_type": "execute_result",
          "data": {
            "text/plain": [
              "array([1, 1, 1, 1, 0, 0, 0, 1, 0, 1, 1, 1, 1, 1, 1, 0, 1, 1, 0, 1, 1, 1,\n",
              "       1, 1, 1, 0, 1, 1, 1, 1, 1, 1, 0, 1, 0, 1, 0, 1, 1, 0, 1, 0, 0, 1,\n",
              "       1, 1, 1, 1, 1, 1, 0])"
            ]
          },
          "metadata": {},
          "execution_count": 257
        }
      ]
    },
    {
      "cell_type": "code",
      "metadata": {
        "colab": {
          "base_uri": "https://localhost:8080/"
        },
        "outputId": "9cc57f10-f79d-40e2-ee87-485445c14ebd",
        "id": "-M83HpkZ-xf1"
      },
      "source": [
        "cf_matrix7 = confusion_matrix(Y_test, preds7)\n",
        "print(cf_matrix7)"
      ],
      "execution_count": 258,
      "outputs": [
        {
          "output_type": "stream",
          "name": "stdout",
          "text": [
            "[[ 9 22]\n",
            " [ 5 15]]\n"
          ]
        }
      ]
    },
    {
      "cell_type": "code",
      "source": [
        "MCC(Y_test, preds7)"
      ],
      "metadata": {
        "colab": {
          "base_uri": "https://localhost:8080/"
        },
        "outputId": "380345f6-8942-41b7-aebd-23a7845df663",
        "id": "ANDDZOPd-xf2"
      },
      "execution_count": 259,
      "outputs": [
        {
          "output_type": "execute_result",
          "data": {
            "text/plain": [
              "0.04411428900546388"
            ]
          },
          "metadata": {},
          "execution_count": 259
        }
      ]
    },
    {
      "cell_type": "code",
      "source": [
        "recall(Y_test, preds7)"
      ],
      "metadata": {
        "colab": {
          "base_uri": "https://localhost:8080/"
        },
        "outputId": "7dc16916-5915-4845-f4fe-ce0f0691f02b",
        "id": "lg9p7hmj-xf3"
      },
      "execution_count": 260,
      "outputs": [
        {
          "output_type": "execute_result",
          "data": {
            "text/plain": [
              "0.75"
            ]
          },
          "metadata": {},
          "execution_count": 260
        }
      ]
    },
    {
      "cell_type": "code",
      "source": [
        "sensibilite(Y_test, preds7)"
      ],
      "metadata": {
        "colab": {
          "base_uri": "https://localhost:8080/"
        },
        "outputId": "27989d34-9250-41d6-8b3a-9a4d719b475c",
        "id": "_WPsB_k_-xf3"
      },
      "execution_count": 261,
      "outputs": [
        {
          "output_type": "execute_result",
          "data": {
            "text/plain": [
              "0.75"
            ]
          },
          "metadata": {},
          "execution_count": 261
        }
      ]
    },
    {
      "cell_type": "code",
      "source": [
        "specifite(Y_test, preds7)"
      ],
      "metadata": {
        "id": "LD3aqdbx-xf4",
        "outputId": "20a127da-a112-4394-f2b0-b480eea879b9",
        "colab": {
          "base_uri": "https://localhost:8080/"
        }
      },
      "execution_count": 262,
      "outputs": [
        {
          "output_type": "execute_result",
          "data": {
            "text/plain": [
              "0.2903225806451613"
            ]
          },
          "metadata": {},
          "execution_count": 262
        }
      ]
    },
    {
      "cell_type": "code",
      "source": [
        "présicion_négative(Y_test, preds7)"
      ],
      "metadata": {
        "colab": {
          "base_uri": "https://localhost:8080/"
        },
        "outputId": "a59c905d-27ec-4004-bd09-e74116273fe9",
        "id": "oq8CHk5h-xf4"
      },
      "execution_count": 263,
      "outputs": [
        {
          "output_type": "execute_result",
          "data": {
            "text/plain": [
              "0.6428571428571429"
            ]
          },
          "metadata": {},
          "execution_count": 263
        }
      ]
    },
    {
      "cell_type": "code",
      "source": [
        "présicion_positive(Y_test, preds7)"
      ],
      "metadata": {
        "colab": {
          "base_uri": "https://localhost:8080/"
        },
        "outputId": "f7cbc45f-7cea-44b5-f36f-0a42120b48f8",
        "id": "7ExhWirz-xf5"
      },
      "execution_count": 264,
      "outputs": [
        {
          "output_type": "execute_result",
          "data": {
            "text/plain": [
              "0.40540540540540543"
            ]
          },
          "metadata": {},
          "execution_count": 264
        }
      ]
    },
    {
      "cell_type": "code",
      "source": [
        "balancedacc(Y_test, preds7)"
      ],
      "metadata": {
        "colab": {
          "base_uri": "https://localhost:8080/"
        },
        "outputId": "79572245-cdee-4115-d877-129df114db8f",
        "id": "3O2CWE-V-xf6"
      },
      "execution_count": 265,
      "outputs": [
        {
          "output_type": "execute_result",
          "data": {
            "text/plain": [
              "0.5241312741312741"
            ]
          },
          "metadata": {},
          "execution_count": 265
        }
      ]
    },
    {
      "cell_type": "code",
      "source": [
        "kappa(Y_test, preds7)"
      ],
      "metadata": {
        "colab": {
          "base_uri": "https://localhost:8080/"
        },
        "outputId": "710b9049-1491-4e35-84c2-675e120f0576",
        "id": "qa5wm9Y2-xf6"
      },
      "execution_count": 266,
      "outputs": [
        {
          "output_type": "execute_result",
          "data": {
            "text/plain": [
              "0.035038542396636174"
            ]
          },
          "metadata": {},
          "execution_count": 266
        }
      ]
    },
    {
      "cell_type": "code",
      "source": [
        "from sklearn.metrics import roc_auc_score"
      ],
      "metadata": {
        "id": "5gE_Ahhf5Wi2"
      },
      "execution_count": 267,
      "outputs": []
    },
    {
      "cell_type": "code",
      "source": [
        "roc_auc_score(Y_test, Classifier7.decision_function(X_test))"
      ],
      "metadata": {
        "id": "U3TC1DQW5Wmf",
        "outputId": "393b0baa-686c-4572-c1a0-64356c3e70ba",
        "colab": {
          "base_uri": "https://localhost:8080/"
        }
      },
      "execution_count": 268,
      "outputs": [
        {
          "output_type": "execute_result",
          "data": {
            "text/plain": [
              "0.632258064516129"
            ]
          },
          "metadata": {},
          "execution_count": 268
        }
      ]
    }
  ]
}