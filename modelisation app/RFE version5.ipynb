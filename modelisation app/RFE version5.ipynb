{
  "nbformat": 4,
  "nbformat_minor": 0,
  "metadata": {
    "colab": {
      "name": "Untitled82.ipynb",
      "provenance": [],
      "collapsed_sections": [],
      "authorship_tag": "ABX9TyP5IjDceYKvBzlXQ6Cl09hL",
      "include_colab_link": true
    },
    "kernelspec": {
      "name": "python3",
      "display_name": "Python 3"
    },
    "language_info": {
      "name": "python"
    }
  },
  "cells": [
    {
      "cell_type": "markdown",
      "metadata": {
        "id": "view-in-github",
        "colab_type": "text"
      },
      "source": [
        "<a href=\"https://colab.research.google.com/github/meriemdouider1/mois1-mois2/blob/main/modelisation%20app/RFE%20version5.ipynb\" target=\"_parent\"><img src=\"https://colab.research.google.com/assets/colab-badge.svg\" alt=\"Open In Colab\"/></a>"
      ]
    },
    {
      "cell_type": "code",
      "metadata": {
        "id": "RlmUgAkuFdId"
      },
      "source": [
        "import sklearn\n",
        "import pandas as pd\n",
        "import numpy as np\n",
        "import matplotlib.pyplot as plt\n",
        "import seaborn as sns\n",
        "from sklearn.model_selection import train_test_split\n",
        "from sklearn.ensemble import RandomForestRegressor, RandomForestClassifier\n",
        "from sklearn.metrics import roc_auc_score, r2_score\n",
        "import sklearn\n",
        "import pandas as pd\n",
        "import numpy as np\n",
        "import matplotlib.pyplot as plt\n",
        "import seaborn as sns\n",
        "from sklearn.naive_bayes import GaussianNB\n",
        "from sklearn.ensemble import BaggingClassifier\n",
        "from sklearn.tree import DecisionTreeClassifier\n",
        "from xgboost import XGBClassifier\n",
        "from sklearn.metrics import accuracy_score\n",
        "from sklearn.metrics import precision_score\n",
        "from sklearn.metrics import recall_score\n",
        "from sklearn.metrics import f1_score\n",
        "from sklearn.metrics import confusion_matrix\n",
        "import numpy\n",
        "import sklearn.metrics as metrics\n",
        "from sklearn.ensemble import RandomForestClassifier\n",
        "from sklearn.neighbors import KNeighborsClassifier\n",
        "from sklearn import svm\n",
        "from sklearn.model_selection import StratifiedKFold\n",
        "from sklearn.model_selection import cross_val_score\n",
        "from sklearn.model_selection import LeaveOneOut\n",
        "from numpy import mean\n",
        "from numpy import std\n",
        "from sklearn.datasets import make_classification\n",
        "from sklearn.model_selection import KFold\n",
        "from sklearn.model_selection import cross_val_score\n",
        "from sklearn.linear_model import LogisticRegression\n",
        "from sklearn.metrics import make_scorer\n",
        "import matplotlib.pyplot as plt\n",
        "from sklearn.model_selection import LeaveOneOut\n",
        "from sklearn.datasets import make_classification\n",
        "from sklearn.ensemble import RandomForestClassifier\n",
        "from sklearn import datasets, metrics, model_selection, svm\n",
        "import numpy as np\n",
        "from sklearn import svm, datasets\n",
        "from sklearn.metrics import auc\n",
        "from sklearn.metrics import plot_roc_curve\n",
        "from sklearn.model_selection import StratifiedKFold\n",
        "from sklearn.datasets import make_classification\n",
        "from sklearn.ensemble import RandomForestClassifier\n",
        "from sklearn import datasets, metrics, model_selection, svm\n",
        "from sklearn.metrics import matthews_corrcoef\n",
        "from sklearn.svm import SVC\n",
        "from sklearn.metrics import cohen_kappa_score\n",
        "from sklearn.ensemble import GradientBoostingClassifier\n",
        "from sklearn.feature_selection import RFE\n",
        "from sklearn.pipeline import Pipeline\n",
        "from matplotlib import pyplot"
      ],
      "execution_count": 35,
      "outputs": []
    },
    {
      "cell_type": "code",
      "metadata": {
        "id": "eZpW8fsXFrh3"
      },
      "source": [
        "Cl = '/content/AXEAPP.xlsx' \n",
        "apprentissage= pd.read_excel(Cl, sheet_name=0,header=0,index_col=False, keep_default_na=True)"
      ],
      "execution_count": 36,
      "outputs": []
    },
    {
      "cell_type": "code",
      "source": [
        "apprentissage"
      ],
      "metadata": {
        "colab": {
          "base_uri": "https://localhost:8080/",
          "height": 423
        },
        "id": "vLoByxZ1jqnm",
        "outputId": "aa999bc4-a989-44b7-ef51-f14e3d7a7934"
      },
      "execution_count": 37,
      "outputs": [
        {
          "output_type": "execute_result",
          "data": {
            "text/html": [
              "\n",
              "  <div id=\"df-f8418509-19fe-474d-8801-2adda2c3dcdb\">\n",
              "    <div class=\"colab-df-container\">\n",
              "      <div>\n",
              "<style scoped>\n",
              "    .dataframe tbody tr th:only-of-type {\n",
              "        vertical-align: middle;\n",
              "    }\n",
              "\n",
              "    .dataframe tbody tr th {\n",
              "        vertical-align: top;\n",
              "    }\n",
              "\n",
              "    .dataframe thead th {\n",
              "        text-align: right;\n",
              "    }\n",
              "</style>\n",
              "<table border=\"1\" class=\"dataframe\">\n",
              "  <thead>\n",
              "    <tr style=\"text-align: right;\">\n",
              "      <th></th>\n",
              "      <th>Cs_longia</th>\n",
              "      <th>AXE11</th>\n",
              "      <th>AXE12</th>\n",
              "      <th>AXE2</th>\n",
              "      <th>AXE3</th>\n",
              "      <th>AXE4</th>\n",
              "      <th>AXE5</th>\n",
              "    </tr>\n",
              "  </thead>\n",
              "  <tbody>\n",
              "    <tr>\n",
              "      <th>0</th>\n",
              "      <td>1</td>\n",
              "      <td>0.001424</td>\n",
              "      <td>0.031177</td>\n",
              "      <td>-0.059472</td>\n",
              "      <td>-3.681616</td>\n",
              "      <td>-2.401045</td>\n",
              "      <td>-0.173420</td>\n",
              "    </tr>\n",
              "    <tr>\n",
              "      <th>1</th>\n",
              "      <td>1</td>\n",
              "      <td>0.001859</td>\n",
              "      <td>0.007034</td>\n",
              "      <td>-0.032365</td>\n",
              "      <td>-0.780750</td>\n",
              "      <td>-0.885475</td>\n",
              "      <td>-0.161534</td>\n",
              "    </tr>\n",
              "    <tr>\n",
              "      <th>2</th>\n",
              "      <td>1</td>\n",
              "      <td>0.001859</td>\n",
              "      <td>0.007034</td>\n",
              "      <td>-0.032365</td>\n",
              "      <td>-0.780750</td>\n",
              "      <td>-0.885475</td>\n",
              "      <td>-0.161534</td>\n",
              "    </tr>\n",
              "    <tr>\n",
              "      <th>3</th>\n",
              "      <td>0</td>\n",
              "      <td>-0.001565</td>\n",
              "      <td>0.007444</td>\n",
              "      <td>0.052511</td>\n",
              "      <td>-0.575102</td>\n",
              "      <td>-0.089102</td>\n",
              "      <td>-0.036805</td>\n",
              "    </tr>\n",
              "    <tr>\n",
              "      <th>4</th>\n",
              "      <td>0</td>\n",
              "      <td>-0.001238</td>\n",
              "      <td>0.010596</td>\n",
              "      <td>0.047796</td>\n",
              "      <td>-1.674400</td>\n",
              "      <td>0.216223</td>\n",
              "      <td>0.038151</td>\n",
              "    </tr>\n",
              "    <tr>\n",
              "      <th>...</th>\n",
              "      <td>...</td>\n",
              "      <td>...</td>\n",
              "      <td>...</td>\n",
              "      <td>...</td>\n",
              "      <td>...</td>\n",
              "      <td>...</td>\n",
              "      <td>...</td>\n",
              "    </tr>\n",
              "    <tr>\n",
              "      <th>198</th>\n",
              "      <td>1</td>\n",
              "      <td>0.002694</td>\n",
              "      <td>-0.011021</td>\n",
              "      <td>-0.107134</td>\n",
              "      <td>-1.678789</td>\n",
              "      <td>-0.626739</td>\n",
              "      <td>-0.093039</td>\n",
              "    </tr>\n",
              "    <tr>\n",
              "      <th>199</th>\n",
              "      <td>1</td>\n",
              "      <td>0.001341</td>\n",
              "      <td>-0.016060</td>\n",
              "      <td>-0.078564</td>\n",
              "      <td>-1.584375</td>\n",
              "      <td>0.421137</td>\n",
              "      <td>-0.297170</td>\n",
              "    </tr>\n",
              "    <tr>\n",
              "      <th>200</th>\n",
              "      <td>1</td>\n",
              "      <td>0.001998</td>\n",
              "      <td>-0.013530</td>\n",
              "      <td>-0.123163</td>\n",
              "      <td>-1.309588</td>\n",
              "      <td>-0.722200</td>\n",
              "      <td>-0.279362</td>\n",
              "    </tr>\n",
              "    <tr>\n",
              "      <th>201</th>\n",
              "      <td>1</td>\n",
              "      <td>-0.000923</td>\n",
              "      <td>-0.014214</td>\n",
              "      <td>0.010676</td>\n",
              "      <td>-1.404706</td>\n",
              "      <td>1.443951</td>\n",
              "      <td>0.121188</td>\n",
              "    </tr>\n",
              "    <tr>\n",
              "      <th>202</th>\n",
              "      <td>1</td>\n",
              "      <td>0.001179</td>\n",
              "      <td>-0.000708</td>\n",
              "      <td>-0.015548</td>\n",
              "      <td>-1.784350</td>\n",
              "      <td>-0.306687</td>\n",
              "      <td>0.200396</td>\n",
              "    </tr>\n",
              "  </tbody>\n",
              "</table>\n",
              "<p>203 rows × 7 columns</p>\n",
              "</div>\n",
              "      <button class=\"colab-df-convert\" onclick=\"convertToInteractive('df-f8418509-19fe-474d-8801-2adda2c3dcdb')\"\n",
              "              title=\"Convert this dataframe to an interactive table.\"\n",
              "              style=\"display:none;\">\n",
              "        \n",
              "  <svg xmlns=\"http://www.w3.org/2000/svg\" height=\"24px\"viewBox=\"0 0 24 24\"\n",
              "       width=\"24px\">\n",
              "    <path d=\"M0 0h24v24H0V0z\" fill=\"none\"/>\n",
              "    <path d=\"M18.56 5.44l.94 2.06.94-2.06 2.06-.94-2.06-.94-.94-2.06-.94 2.06-2.06.94zm-11 1L8.5 8.5l.94-2.06 2.06-.94-2.06-.94L8.5 2.5l-.94 2.06-2.06.94zm10 10l.94 2.06.94-2.06 2.06-.94-2.06-.94-.94-2.06-.94 2.06-2.06.94z\"/><path d=\"M17.41 7.96l-1.37-1.37c-.4-.4-.92-.59-1.43-.59-.52 0-1.04.2-1.43.59L10.3 9.45l-7.72 7.72c-.78.78-.78 2.05 0 2.83L4 21.41c.39.39.9.59 1.41.59.51 0 1.02-.2 1.41-.59l7.78-7.78 2.81-2.81c.8-.78.8-2.07 0-2.86zM5.41 20L4 18.59l7.72-7.72 1.47 1.35L5.41 20z\"/>\n",
              "  </svg>\n",
              "      </button>\n",
              "      \n",
              "  <style>\n",
              "    .colab-df-container {\n",
              "      display:flex;\n",
              "      flex-wrap:wrap;\n",
              "      gap: 12px;\n",
              "    }\n",
              "\n",
              "    .colab-df-convert {\n",
              "      background-color: #E8F0FE;\n",
              "      border: none;\n",
              "      border-radius: 50%;\n",
              "      cursor: pointer;\n",
              "      display: none;\n",
              "      fill: #1967D2;\n",
              "      height: 32px;\n",
              "      padding: 0 0 0 0;\n",
              "      width: 32px;\n",
              "    }\n",
              "\n",
              "    .colab-df-convert:hover {\n",
              "      background-color: #E2EBFA;\n",
              "      box-shadow: 0px 1px 2px rgba(60, 64, 67, 0.3), 0px 1px 3px 1px rgba(60, 64, 67, 0.15);\n",
              "      fill: #174EA6;\n",
              "    }\n",
              "\n",
              "    [theme=dark] .colab-df-convert {\n",
              "      background-color: #3B4455;\n",
              "      fill: #D2E3FC;\n",
              "    }\n",
              "\n",
              "    [theme=dark] .colab-df-convert:hover {\n",
              "      background-color: #434B5C;\n",
              "      box-shadow: 0px 1px 3px 1px rgba(0, 0, 0, 0.15);\n",
              "      filter: drop-shadow(0px 1px 2px rgba(0, 0, 0, 0.3));\n",
              "      fill: #FFFFFF;\n",
              "    }\n",
              "  </style>\n",
              "\n",
              "      <script>\n",
              "        const buttonEl =\n",
              "          document.querySelector('#df-f8418509-19fe-474d-8801-2adda2c3dcdb button.colab-df-convert');\n",
              "        buttonEl.style.display =\n",
              "          google.colab.kernel.accessAllowed ? 'block' : 'none';\n",
              "\n",
              "        async function convertToInteractive(key) {\n",
              "          const element = document.querySelector('#df-f8418509-19fe-474d-8801-2adda2c3dcdb');\n",
              "          const dataTable =\n",
              "            await google.colab.kernel.invokeFunction('convertToInteractive',\n",
              "                                                     [key], {});\n",
              "          if (!dataTable) return;\n",
              "\n",
              "          const docLinkHtml = 'Like what you see? Visit the ' +\n",
              "            '<a target=\"_blank\" href=https://colab.research.google.com/notebooks/data_table.ipynb>data table notebook</a>'\n",
              "            + ' to learn more about interactive tables.';\n",
              "          element.innerHTML = '';\n",
              "          dataTable['output_type'] = 'display_data';\n",
              "          await google.colab.output.renderOutput(dataTable, element);\n",
              "          const docLink = document.createElement('div');\n",
              "          docLink.innerHTML = docLinkHtml;\n",
              "          element.appendChild(docLink);\n",
              "        }\n",
              "      </script>\n",
              "    </div>\n",
              "  </div>\n",
              "  "
            ],
            "text/plain": [
              "     Cs_longia     AXE11     AXE12      AXE2      AXE3      AXE4      AXE5\n",
              "0            1  0.001424  0.031177 -0.059472 -3.681616 -2.401045 -0.173420\n",
              "1            1  0.001859  0.007034 -0.032365 -0.780750 -0.885475 -0.161534\n",
              "2            1  0.001859  0.007034 -0.032365 -0.780750 -0.885475 -0.161534\n",
              "3            0 -0.001565  0.007444  0.052511 -0.575102 -0.089102 -0.036805\n",
              "4            0 -0.001238  0.010596  0.047796 -1.674400  0.216223  0.038151\n",
              "..         ...       ...       ...       ...       ...       ...       ...\n",
              "198          1  0.002694 -0.011021 -0.107134 -1.678789 -0.626739 -0.093039\n",
              "199          1  0.001341 -0.016060 -0.078564 -1.584375  0.421137 -0.297170\n",
              "200          1  0.001998 -0.013530 -0.123163 -1.309588 -0.722200 -0.279362\n",
              "201          1 -0.000923 -0.014214  0.010676 -1.404706  1.443951  0.121188\n",
              "202          1  0.001179 -0.000708 -0.015548 -1.784350 -0.306687  0.200396\n",
              "\n",
              "[203 rows x 7 columns]"
            ]
          },
          "metadata": {},
          "execution_count": 37
        }
      ]
    },
    {
      "cell_type": "code",
      "metadata": {
        "id": "sp6M2-Shj8tx"
      },
      "source": [
        "Cl2 = '/content/AXETEST.xlsx' \n",
        "test= pd.read_excel(Cl2, sheet_name=0,header=0,index_col=False, keep_default_na=True)"
      ],
      "execution_count": 38,
      "outputs": []
    },
    {
      "cell_type": "code",
      "source": [
        "test"
      ],
      "metadata": {
        "colab": {
          "base_uri": "https://localhost:8080/",
          "height": 1000
        },
        "outputId": "4f6ea6fb-1b22-46dd-a786-7d13825110b4",
        "id": "wzKdYPPMj8ty"
      },
      "execution_count": 39,
      "outputs": [
        {
          "output_type": "execute_result",
          "data": {
            "text/html": [
              "\n",
              "  <div id=\"df-2d917b19-6893-4c7f-99a6-ba8d04ec180a\">\n",
              "    <div class=\"colab-df-container\">\n",
              "      <div>\n",
              "<style scoped>\n",
              "    .dataframe tbody tr th:only-of-type {\n",
              "        vertical-align: middle;\n",
              "    }\n",
              "\n",
              "    .dataframe tbody tr th {\n",
              "        vertical-align: top;\n",
              "    }\n",
              "\n",
              "    .dataframe thead th {\n",
              "        text-align: right;\n",
              "    }\n",
              "</style>\n",
              "<table border=\"1\" class=\"dataframe\">\n",
              "  <thead>\n",
              "    <tr style=\"text-align: right;\">\n",
              "      <th></th>\n",
              "      <th>Cs_longia</th>\n",
              "      <th>AXE11</th>\n",
              "      <th>AXE12</th>\n",
              "      <th>AXE2</th>\n",
              "      <th>AXE3</th>\n",
              "      <th>AXE4</th>\n",
              "      <th>AXE5</th>\n",
              "    </tr>\n",
              "  </thead>\n",
              "  <tbody>\n",
              "    <tr>\n",
              "      <th>0</th>\n",
              "      <td>0</td>\n",
              "      <td>-0.001640</td>\n",
              "      <td>0.011923</td>\n",
              "      <td>0.102308</td>\n",
              "      <td>-1.801407</td>\n",
              "      <td>-0.832450</td>\n",
              "      <td>0.062173</td>\n",
              "    </tr>\n",
              "    <tr>\n",
              "      <th>1</th>\n",
              "      <td>1</td>\n",
              "      <td>-0.005890</td>\n",
              "      <td>0.007865</td>\n",
              "      <td>0.008081</td>\n",
              "      <td>-1.369971</td>\n",
              "      <td>-0.792410</td>\n",
              "      <td>-0.012560</td>\n",
              "    </tr>\n",
              "    <tr>\n",
              "      <th>2</th>\n",
              "      <td>1</td>\n",
              "      <td>-0.005890</td>\n",
              "      <td>0.007865</td>\n",
              "      <td>0.008081</td>\n",
              "      <td>-1.369971</td>\n",
              "      <td>-0.792410</td>\n",
              "      <td>-0.012560</td>\n",
              "    </tr>\n",
              "    <tr>\n",
              "      <th>3</th>\n",
              "      <td>1</td>\n",
              "      <td>0.000629</td>\n",
              "      <td>0.013577</td>\n",
              "      <td>-0.077555</td>\n",
              "      <td>-2.480820</td>\n",
              "      <td>-0.756910</td>\n",
              "      <td>-0.121500</td>\n",
              "    </tr>\n",
              "    <tr>\n",
              "      <th>4</th>\n",
              "      <td>0</td>\n",
              "      <td>-0.002810</td>\n",
              "      <td>0.005402</td>\n",
              "      <td>0.016373</td>\n",
              "      <td>-0.059747</td>\n",
              "      <td>0.577835</td>\n",
              "      <td>0.278006</td>\n",
              "    </tr>\n",
              "    <tr>\n",
              "      <th>5</th>\n",
              "      <td>0</td>\n",
              "      <td>-0.002760</td>\n",
              "      <td>0.005402</td>\n",
              "      <td>0.021959</td>\n",
              "      <td>-0.262708</td>\n",
              "      <td>0.577835</td>\n",
              "      <td>0.273379</td>\n",
              "    </tr>\n",
              "    <tr>\n",
              "      <th>6</th>\n",
              "      <td>0</td>\n",
              "      <td>-0.000010</td>\n",
              "      <td>0.006071</td>\n",
              "      <td>0.030925</td>\n",
              "      <td>0.381259</td>\n",
              "      <td>-0.687890</td>\n",
              "      <td>-0.080940</td>\n",
              "    </tr>\n",
              "    <tr>\n",
              "      <th>7</th>\n",
              "      <td>0</td>\n",
              "      <td>0.001179</td>\n",
              "      <td>0.004634</td>\n",
              "      <td>-0.022492</td>\n",
              "      <td>0.806717</td>\n",
              "      <td>-0.719120</td>\n",
              "      <td>0.224582</td>\n",
              "    </tr>\n",
              "    <tr>\n",
              "      <th>8</th>\n",
              "      <td>1</td>\n",
              "      <td>-0.002400</td>\n",
              "      <td>0.006000</td>\n",
              "      <td>0.109514</td>\n",
              "      <td>0.845323</td>\n",
              "      <td>1.029173</td>\n",
              "      <td>0.228331</td>\n",
              "    </tr>\n",
              "    <tr>\n",
              "      <th>9</th>\n",
              "      <td>0</td>\n",
              "      <td>-0.001750</td>\n",
              "      <td>0.005932</td>\n",
              "      <td>0.090288</td>\n",
              "      <td>0.493467</td>\n",
              "      <td>1.097954</td>\n",
              "      <td>0.133737</td>\n",
              "    </tr>\n",
              "    <tr>\n",
              "      <th>10</th>\n",
              "      <td>0</td>\n",
              "      <td>0.001006</td>\n",
              "      <td>0.009563</td>\n",
              "      <td>-0.015819</td>\n",
              "      <td>-0.476458</td>\n",
              "      <td>-0.824670</td>\n",
              "      <td>-0.195530</td>\n",
              "    </tr>\n",
              "    <tr>\n",
              "      <th>11</th>\n",
              "      <td>1</td>\n",
              "      <td>0.001603</td>\n",
              "      <td>0.005571</td>\n",
              "      <td>-0.067299</td>\n",
              "      <td>-0.847488</td>\n",
              "      <td>-0.704960</td>\n",
              "      <td>-0.311720</td>\n",
              "    </tr>\n",
              "    <tr>\n",
              "      <th>12</th>\n",
              "      <td>0</td>\n",
              "      <td>0.001609</td>\n",
              "      <td>0.015821</td>\n",
              "      <td>-0.008849</td>\n",
              "      <td>-1.950413</td>\n",
              "      <td>-0.678720</td>\n",
              "      <td>-0.131960</td>\n",
              "    </tr>\n",
              "    <tr>\n",
              "      <th>13</th>\n",
              "      <td>1</td>\n",
              "      <td>-0.004120</td>\n",
              "      <td>0.006150</td>\n",
              "      <td>0.113729</td>\n",
              "      <td>0.732956</td>\n",
              "      <td>1.585313</td>\n",
              "      <td>0.146234</td>\n",
              "    </tr>\n",
              "    <tr>\n",
              "      <th>14</th>\n",
              "      <td>0</td>\n",
              "      <td>-0.000340</td>\n",
              "      <td>0.006167</td>\n",
              "      <td>-0.003732</td>\n",
              "      <td>0.196173</td>\n",
              "      <td>0.305641</td>\n",
              "      <td>-0.340590</td>\n",
              "    </tr>\n",
              "    <tr>\n",
              "      <th>15</th>\n",
              "      <td>0</td>\n",
              "      <td>-0.001760</td>\n",
              "      <td>-0.014193</td>\n",
              "      <td>0.075740</td>\n",
              "      <td>1.802629</td>\n",
              "      <td>0.312447</td>\n",
              "      <td>0.213932</td>\n",
              "    </tr>\n",
              "    <tr>\n",
              "      <th>16</th>\n",
              "      <td>0</td>\n",
              "      <td>-0.000031</td>\n",
              "      <td>-0.013794</td>\n",
              "      <td>-0.018632</td>\n",
              "      <td>2.880967</td>\n",
              "      <td>1.697339</td>\n",
              "      <td>0.090486</td>\n",
              "    </tr>\n",
              "    <tr>\n",
              "      <th>17</th>\n",
              "      <td>0</td>\n",
              "      <td>0.000560</td>\n",
              "      <td>-0.014390</td>\n",
              "      <td>-0.012611</td>\n",
              "      <td>2.007770</td>\n",
              "      <td>1.880980</td>\n",
              "      <td>0.058737</td>\n",
              "    </tr>\n",
              "    <tr>\n",
              "      <th>18</th>\n",
              "      <td>0</td>\n",
              "      <td>-0.000240</td>\n",
              "      <td>-0.013936</td>\n",
              "      <td>0.002100</td>\n",
              "      <td>1.657517</td>\n",
              "      <td>1.148936</td>\n",
              "      <td>0.056395</td>\n",
              "    </tr>\n",
              "    <tr>\n",
              "      <th>19</th>\n",
              "      <td>0</td>\n",
              "      <td>0.002838</td>\n",
              "      <td>-0.016823</td>\n",
              "      <td>0.019787</td>\n",
              "      <td>0.975107</td>\n",
              "      <td>1.003646</td>\n",
              "      <td>0.048942</td>\n",
              "    </tr>\n",
              "    <tr>\n",
              "      <th>20</th>\n",
              "      <td>0</td>\n",
              "      <td>-0.001240</td>\n",
              "      <td>-0.017717</td>\n",
              "      <td>0.030422</td>\n",
              "      <td>2.479246</td>\n",
              "      <td>0.928460</td>\n",
              "      <td>0.127419</td>\n",
              "    </tr>\n",
              "    <tr>\n",
              "      <th>21</th>\n",
              "      <td>0</td>\n",
              "      <td>-0.000910</td>\n",
              "      <td>-0.013483</td>\n",
              "      <td>0.103213</td>\n",
              "      <td>1.787943</td>\n",
              "      <td>0.703941</td>\n",
              "      <td>0.169502</td>\n",
              "    </tr>\n",
              "    <tr>\n",
              "      <th>22</th>\n",
              "      <td>0</td>\n",
              "      <td>0.000051</td>\n",
              "      <td>-0.008201</td>\n",
              "      <td>0.112808</td>\n",
              "      <td>2.505752</td>\n",
              "      <td>1.960587</td>\n",
              "      <td>-0.013740</td>\n",
              "    </tr>\n",
              "    <tr>\n",
              "      <th>23</th>\n",
              "      <td>0</td>\n",
              "      <td>-0.003130</td>\n",
              "      <td>-0.001511</td>\n",
              "      <td>0.109717</td>\n",
              "      <td>2.485413</td>\n",
              "      <td>2.183233</td>\n",
              "      <td>-0.069070</td>\n",
              "    </tr>\n",
              "    <tr>\n",
              "      <th>24</th>\n",
              "      <td>0</td>\n",
              "      <td>-0.000820</td>\n",
              "      <td>0.002606</td>\n",
              "      <td>-0.100164</td>\n",
              "      <td>1.301775</td>\n",
              "      <td>0.092805</td>\n",
              "      <td>0.213304</td>\n",
              "    </tr>\n",
              "    <tr>\n",
              "      <th>25</th>\n",
              "      <td>0</td>\n",
              "      <td>-0.001080</td>\n",
              "      <td>0.004192</td>\n",
              "      <td>0.048052</td>\n",
              "      <td>0.630137</td>\n",
              "      <td>-0.224920</td>\n",
              "      <td>-0.055740</td>\n",
              "    </tr>\n",
              "    <tr>\n",
              "      <th>26</th>\n",
              "      <td>0</td>\n",
              "      <td>-0.001990</td>\n",
              "      <td>0.007959</td>\n",
              "      <td>-0.021120</td>\n",
              "      <td>-0.330718</td>\n",
              "      <td>0.313012</td>\n",
              "      <td>0.195129</td>\n",
              "    </tr>\n",
              "    <tr>\n",
              "      <th>27</th>\n",
              "      <td>0</td>\n",
              "      <td>-0.002620</td>\n",
              "      <td>-0.003645</td>\n",
              "      <td>0.062814</td>\n",
              "      <td>-0.784803</td>\n",
              "      <td>-1.141370</td>\n",
              "      <td>-0.761250</td>\n",
              "    </tr>\n",
              "    <tr>\n",
              "      <th>28</th>\n",
              "      <td>0</td>\n",
              "      <td>-0.003280</td>\n",
              "      <td>-0.025240</td>\n",
              "      <td>0.146760</td>\n",
              "      <td>0.435716</td>\n",
              "      <td>0.956744</td>\n",
              "      <td>0.375518</td>\n",
              "    </tr>\n",
              "    <tr>\n",
              "      <th>29</th>\n",
              "      <td>0</td>\n",
              "      <td>0.002210</td>\n",
              "      <td>-0.000530</td>\n",
              "      <td>0.055754</td>\n",
              "      <td>1.249337</td>\n",
              "      <td>-0.519240</td>\n",
              "      <td>0.693649</td>\n",
              "    </tr>\n",
              "    <tr>\n",
              "      <th>30</th>\n",
              "      <td>0</td>\n",
              "      <td>-0.003510</td>\n",
              "      <td>-0.012668</td>\n",
              "      <td>0.045481</td>\n",
              "      <td>2.580335</td>\n",
              "      <td>1.539671</td>\n",
              "      <td>0.319655</td>\n",
              "    </tr>\n",
              "    <tr>\n",
              "      <th>31</th>\n",
              "      <td>0</td>\n",
              "      <td>-0.003510</td>\n",
              "      <td>-0.012668</td>\n",
              "      <td>0.045481</td>\n",
              "      <td>2.580335</td>\n",
              "      <td>1.539671</td>\n",
              "      <td>0.319764</td>\n",
              "    </tr>\n",
              "    <tr>\n",
              "      <th>32</th>\n",
              "      <td>0</td>\n",
              "      <td>-0.001820</td>\n",
              "      <td>-0.017053</td>\n",
              "      <td>0.064932</td>\n",
              "      <td>-1.441880</td>\n",
              "      <td>1.683146</td>\n",
              "      <td>0.417060</td>\n",
              "    </tr>\n",
              "    <tr>\n",
              "      <th>33</th>\n",
              "      <td>0</td>\n",
              "      <td>0.003424</td>\n",
              "      <td>0.005687</td>\n",
              "      <td>0.016161</td>\n",
              "      <td>-2.054705</td>\n",
              "      <td>3.828315</td>\n",
              "      <td>0.193179</td>\n",
              "    </tr>\n",
              "    <tr>\n",
              "      <th>34</th>\n",
              "      <td>0</td>\n",
              "      <td>-0.001870</td>\n",
              "      <td>0.013852</td>\n",
              "      <td>0.003016</td>\n",
              "      <td>0.267022</td>\n",
              "      <td>0.396368</td>\n",
              "      <td>-0.212040</td>\n",
              "    </tr>\n",
              "    <tr>\n",
              "      <th>35</th>\n",
              "      <td>0</td>\n",
              "      <td>-0.003410</td>\n",
              "      <td>0.015385</td>\n",
              "      <td>0.055900</td>\n",
              "      <td>1.350126</td>\n",
              "      <td>0.418147</td>\n",
              "      <td>0.318408</td>\n",
              "    </tr>\n",
              "    <tr>\n",
              "      <th>36</th>\n",
              "      <td>0</td>\n",
              "      <td>0.001568</td>\n",
              "      <td>0.016149</td>\n",
              "      <td>-0.034828</td>\n",
              "      <td>-0.639231</td>\n",
              "      <td>0.915747</td>\n",
              "      <td>0.012555</td>\n",
              "    </tr>\n",
              "    <tr>\n",
              "      <th>37</th>\n",
              "      <td>1</td>\n",
              "      <td>0.003009</td>\n",
              "      <td>0.010352</td>\n",
              "      <td>-0.071017</td>\n",
              "      <td>-3.011023</td>\n",
              "      <td>-0.857600</td>\n",
              "      <td>-0.362020</td>\n",
              "    </tr>\n",
              "    <tr>\n",
              "      <th>38</th>\n",
              "      <td>1</td>\n",
              "      <td>0.000970</td>\n",
              "      <td>0.007907</td>\n",
              "      <td>-0.021193</td>\n",
              "      <td>-1.891990</td>\n",
              "      <td>-1.568720</td>\n",
              "      <td>-0.233540</td>\n",
              "    </tr>\n",
              "    <tr>\n",
              "      <th>39</th>\n",
              "      <td>1</td>\n",
              "      <td>0.004510</td>\n",
              "      <td>0.010531</td>\n",
              "      <td>-0.092814</td>\n",
              "      <td>-2.897358</td>\n",
              "      <td>-0.419090</td>\n",
              "      <td>-0.360670</td>\n",
              "    </tr>\n",
              "    <tr>\n",
              "      <th>40</th>\n",
              "      <td>1</td>\n",
              "      <td>-0.002490</td>\n",
              "      <td>0.016458</td>\n",
              "      <td>0.065449</td>\n",
              "      <td>-0.674093</td>\n",
              "      <td>0.423211</td>\n",
              "      <td>-0.104530</td>\n",
              "    </tr>\n",
              "    <tr>\n",
              "      <th>41</th>\n",
              "      <td>1</td>\n",
              "      <td>0.002015</td>\n",
              "      <td>-0.005469</td>\n",
              "      <td>0.013261</td>\n",
              "      <td>1.686153</td>\n",
              "      <td>2.712957</td>\n",
              "      <td>0.094912</td>\n",
              "    </tr>\n",
              "    <tr>\n",
              "      <th>42</th>\n",
              "      <td>1</td>\n",
              "      <td>0.000355</td>\n",
              "      <td>0.008073</td>\n",
              "      <td>-0.118880</td>\n",
              "      <td>0.573251</td>\n",
              "      <td>-0.208240</td>\n",
              "      <td>0.550143</td>\n",
              "    </tr>\n",
              "    <tr>\n",
              "      <th>43</th>\n",
              "      <td>1</td>\n",
              "      <td>0.001272</td>\n",
              "      <td>0.002914</td>\n",
              "      <td>-0.013157</td>\n",
              "      <td>-0.172361</td>\n",
              "      <td>-1.963790</td>\n",
              "      <td>-0.269870</td>\n",
              "    </tr>\n",
              "    <tr>\n",
              "      <th>44</th>\n",
              "      <td>1</td>\n",
              "      <td>0.005844</td>\n",
              "      <td>0.006917</td>\n",
              "      <td>-0.068927</td>\n",
              "      <td>0.860664</td>\n",
              "      <td>-2.555320</td>\n",
              "      <td>-0.327000</td>\n",
              "    </tr>\n",
              "    <tr>\n",
              "      <th>45</th>\n",
              "      <td>1</td>\n",
              "      <td>0.000196</td>\n",
              "      <td>-0.012860</td>\n",
              "      <td>-0.033680</td>\n",
              "      <td>1.991456</td>\n",
              "      <td>2.090065</td>\n",
              "      <td>0.204619</td>\n",
              "    </tr>\n",
              "    <tr>\n",
              "      <th>46</th>\n",
              "      <td>1</td>\n",
              "      <td>-0.000690</td>\n",
              "      <td>0.000682</td>\n",
              "      <td>-0.066152</td>\n",
              "      <td>1.976231</td>\n",
              "      <td>0.679674</td>\n",
              "      <td>0.318243</td>\n",
              "    </tr>\n",
              "    <tr>\n",
              "      <th>47</th>\n",
              "      <td>1</td>\n",
              "      <td>-0.001120</td>\n",
              "      <td>-0.016118</td>\n",
              "      <td>0.049230</td>\n",
              "      <td>0.860964</td>\n",
              "      <td>0.915314</td>\n",
              "      <td>0.000863</td>\n",
              "    </tr>\n",
              "    <tr>\n",
              "      <th>48</th>\n",
              "      <td>1</td>\n",
              "      <td>-0.001530</td>\n",
              "      <td>-0.005692</td>\n",
              "      <td>-0.106042</td>\n",
              "      <td>-0.435856</td>\n",
              "      <td>0.556777</td>\n",
              "      <td>-0.108280</td>\n",
              "    </tr>\n",
              "    <tr>\n",
              "      <th>49</th>\n",
              "      <td>1</td>\n",
              "      <td>0.001075</td>\n",
              "      <td>-0.004181</td>\n",
              "      <td>-0.096706</td>\n",
              "      <td>-1.371843</td>\n",
              "      <td>-0.844430</td>\n",
              "      <td>-0.177130</td>\n",
              "    </tr>\n",
              "    <tr>\n",
              "      <th>50</th>\n",
              "      <td>1</td>\n",
              "      <td>-0.005070</td>\n",
              "      <td>0.005909</td>\n",
              "      <td>0.029881</td>\n",
              "      <td>-1.150525</td>\n",
              "      <td>-2.275600</td>\n",
              "      <td>-0.125230</td>\n",
              "    </tr>\n",
              "  </tbody>\n",
              "</table>\n",
              "</div>\n",
              "      <button class=\"colab-df-convert\" onclick=\"convertToInteractive('df-2d917b19-6893-4c7f-99a6-ba8d04ec180a')\"\n",
              "              title=\"Convert this dataframe to an interactive table.\"\n",
              "              style=\"display:none;\">\n",
              "        \n",
              "  <svg xmlns=\"http://www.w3.org/2000/svg\" height=\"24px\"viewBox=\"0 0 24 24\"\n",
              "       width=\"24px\">\n",
              "    <path d=\"M0 0h24v24H0V0z\" fill=\"none\"/>\n",
              "    <path d=\"M18.56 5.44l.94 2.06.94-2.06 2.06-.94-2.06-.94-.94-2.06-.94 2.06-2.06.94zm-11 1L8.5 8.5l.94-2.06 2.06-.94-2.06-.94L8.5 2.5l-.94 2.06-2.06.94zm10 10l.94 2.06.94-2.06 2.06-.94-2.06-.94-.94-2.06-.94 2.06-2.06.94z\"/><path d=\"M17.41 7.96l-1.37-1.37c-.4-.4-.92-.59-1.43-.59-.52 0-1.04.2-1.43.59L10.3 9.45l-7.72 7.72c-.78.78-.78 2.05 0 2.83L4 21.41c.39.39.9.59 1.41.59.51 0 1.02-.2 1.41-.59l7.78-7.78 2.81-2.81c.8-.78.8-2.07 0-2.86zM5.41 20L4 18.59l7.72-7.72 1.47 1.35L5.41 20z\"/>\n",
              "  </svg>\n",
              "      </button>\n",
              "      \n",
              "  <style>\n",
              "    .colab-df-container {\n",
              "      display:flex;\n",
              "      flex-wrap:wrap;\n",
              "      gap: 12px;\n",
              "    }\n",
              "\n",
              "    .colab-df-convert {\n",
              "      background-color: #E8F0FE;\n",
              "      border: none;\n",
              "      border-radius: 50%;\n",
              "      cursor: pointer;\n",
              "      display: none;\n",
              "      fill: #1967D2;\n",
              "      height: 32px;\n",
              "      padding: 0 0 0 0;\n",
              "      width: 32px;\n",
              "    }\n",
              "\n",
              "    .colab-df-convert:hover {\n",
              "      background-color: #E2EBFA;\n",
              "      box-shadow: 0px 1px 2px rgba(60, 64, 67, 0.3), 0px 1px 3px 1px rgba(60, 64, 67, 0.15);\n",
              "      fill: #174EA6;\n",
              "    }\n",
              "\n",
              "    [theme=dark] .colab-df-convert {\n",
              "      background-color: #3B4455;\n",
              "      fill: #D2E3FC;\n",
              "    }\n",
              "\n",
              "    [theme=dark] .colab-df-convert:hover {\n",
              "      background-color: #434B5C;\n",
              "      box-shadow: 0px 1px 3px 1px rgba(0, 0, 0, 0.15);\n",
              "      filter: drop-shadow(0px 1px 2px rgba(0, 0, 0, 0.3));\n",
              "      fill: #FFFFFF;\n",
              "    }\n",
              "  </style>\n",
              "\n",
              "      <script>\n",
              "        const buttonEl =\n",
              "          document.querySelector('#df-2d917b19-6893-4c7f-99a6-ba8d04ec180a button.colab-df-convert');\n",
              "        buttonEl.style.display =\n",
              "          google.colab.kernel.accessAllowed ? 'block' : 'none';\n",
              "\n",
              "        async function convertToInteractive(key) {\n",
              "          const element = document.querySelector('#df-2d917b19-6893-4c7f-99a6-ba8d04ec180a');\n",
              "          const dataTable =\n",
              "            await google.colab.kernel.invokeFunction('convertToInteractive',\n",
              "                                                     [key], {});\n",
              "          if (!dataTable) return;\n",
              "\n",
              "          const docLinkHtml = 'Like what you see? Visit the ' +\n",
              "            '<a target=\"_blank\" href=https://colab.research.google.com/notebooks/data_table.ipynb>data table notebook</a>'\n",
              "            + ' to learn more about interactive tables.';\n",
              "          element.innerHTML = '';\n",
              "          dataTable['output_type'] = 'display_data';\n",
              "          await google.colab.output.renderOutput(dataTable, element);\n",
              "          const docLink = document.createElement('div');\n",
              "          docLink.innerHTML = docLinkHtml;\n",
              "          element.appendChild(docLink);\n",
              "        }\n",
              "      </script>\n",
              "    </div>\n",
              "  </div>\n",
              "  "
            ],
            "text/plain": [
              "    Cs_longia     AXE11     AXE12      AXE2      AXE3      AXE4      AXE5\n",
              "0           0 -0.001640  0.011923  0.102308 -1.801407 -0.832450  0.062173\n",
              "1           1 -0.005890  0.007865  0.008081 -1.369971 -0.792410 -0.012560\n",
              "2           1 -0.005890  0.007865  0.008081 -1.369971 -0.792410 -0.012560\n",
              "3           1  0.000629  0.013577 -0.077555 -2.480820 -0.756910 -0.121500\n",
              "4           0 -0.002810  0.005402  0.016373 -0.059747  0.577835  0.278006\n",
              "5           0 -0.002760  0.005402  0.021959 -0.262708  0.577835  0.273379\n",
              "6           0 -0.000010  0.006071  0.030925  0.381259 -0.687890 -0.080940\n",
              "7           0  0.001179  0.004634 -0.022492  0.806717 -0.719120  0.224582\n",
              "8           1 -0.002400  0.006000  0.109514  0.845323  1.029173  0.228331\n",
              "9           0 -0.001750  0.005932  0.090288  0.493467  1.097954  0.133737\n",
              "10          0  0.001006  0.009563 -0.015819 -0.476458 -0.824670 -0.195530\n",
              "11          1  0.001603  0.005571 -0.067299 -0.847488 -0.704960 -0.311720\n",
              "12          0  0.001609  0.015821 -0.008849 -1.950413 -0.678720 -0.131960\n",
              "13          1 -0.004120  0.006150  0.113729  0.732956  1.585313  0.146234\n",
              "14          0 -0.000340  0.006167 -0.003732  0.196173  0.305641 -0.340590\n",
              "15          0 -0.001760 -0.014193  0.075740  1.802629  0.312447  0.213932\n",
              "16          0 -0.000031 -0.013794 -0.018632  2.880967  1.697339  0.090486\n",
              "17          0  0.000560 -0.014390 -0.012611  2.007770  1.880980  0.058737\n",
              "18          0 -0.000240 -0.013936  0.002100  1.657517  1.148936  0.056395\n",
              "19          0  0.002838 -0.016823  0.019787  0.975107  1.003646  0.048942\n",
              "20          0 -0.001240 -0.017717  0.030422  2.479246  0.928460  0.127419\n",
              "21          0 -0.000910 -0.013483  0.103213  1.787943  0.703941  0.169502\n",
              "22          0  0.000051 -0.008201  0.112808  2.505752  1.960587 -0.013740\n",
              "23          0 -0.003130 -0.001511  0.109717  2.485413  2.183233 -0.069070\n",
              "24          0 -0.000820  0.002606 -0.100164  1.301775  0.092805  0.213304\n",
              "25          0 -0.001080  0.004192  0.048052  0.630137 -0.224920 -0.055740\n",
              "26          0 -0.001990  0.007959 -0.021120 -0.330718  0.313012  0.195129\n",
              "27          0 -0.002620 -0.003645  0.062814 -0.784803 -1.141370 -0.761250\n",
              "28          0 -0.003280 -0.025240  0.146760  0.435716  0.956744  0.375518\n",
              "29          0  0.002210 -0.000530  0.055754  1.249337 -0.519240  0.693649\n",
              "30          0 -0.003510 -0.012668  0.045481  2.580335  1.539671  0.319655\n",
              "31          0 -0.003510 -0.012668  0.045481  2.580335  1.539671  0.319764\n",
              "32          0 -0.001820 -0.017053  0.064932 -1.441880  1.683146  0.417060\n",
              "33          0  0.003424  0.005687  0.016161 -2.054705  3.828315  0.193179\n",
              "34          0 -0.001870  0.013852  0.003016  0.267022  0.396368 -0.212040\n",
              "35          0 -0.003410  0.015385  0.055900  1.350126  0.418147  0.318408\n",
              "36          0  0.001568  0.016149 -0.034828 -0.639231  0.915747  0.012555\n",
              "37          1  0.003009  0.010352 -0.071017 -3.011023 -0.857600 -0.362020\n",
              "38          1  0.000970  0.007907 -0.021193 -1.891990 -1.568720 -0.233540\n",
              "39          1  0.004510  0.010531 -0.092814 -2.897358 -0.419090 -0.360670\n",
              "40          1 -0.002490  0.016458  0.065449 -0.674093  0.423211 -0.104530\n",
              "41          1  0.002015 -0.005469  0.013261  1.686153  2.712957  0.094912\n",
              "42          1  0.000355  0.008073 -0.118880  0.573251 -0.208240  0.550143\n",
              "43          1  0.001272  0.002914 -0.013157 -0.172361 -1.963790 -0.269870\n",
              "44          1  0.005844  0.006917 -0.068927  0.860664 -2.555320 -0.327000\n",
              "45          1  0.000196 -0.012860 -0.033680  1.991456  2.090065  0.204619\n",
              "46          1 -0.000690  0.000682 -0.066152  1.976231  0.679674  0.318243\n",
              "47          1 -0.001120 -0.016118  0.049230  0.860964  0.915314  0.000863\n",
              "48          1 -0.001530 -0.005692 -0.106042 -0.435856  0.556777 -0.108280\n",
              "49          1  0.001075 -0.004181 -0.096706 -1.371843 -0.844430 -0.177130\n",
              "50          1 -0.005070  0.005909  0.029881 -1.150525 -2.275600 -0.125230"
            ]
          },
          "metadata": {},
          "execution_count": 39
        }
      ]
    },
    {
      "cell_type": "code",
      "metadata": {
        "id": "WlXmEfpym-Hm"
      },
      "source": [
        "X_app = apprentissage.loc[:, apprentissage.columns != 'Cs_longia']\n",
        "Y_app = apprentissage.Cs_longia\n",
        "X_test = test.loc[:, test.columns != 'Cs_longia']\n",
        "Y_test = test.Cs_longia"
      ],
      "execution_count": 40,
      "outputs": []
    },
    {
      "cell_type": "code",
      "source": [
        "###Recall\n",
        "def recall(y_test, preds):\n",
        "  recall=recall_score(y_test, preds)\n",
        "  return recall\n",
        "def MCC(y_test, preds):\n",
        "  MCC= matthews_corrcoef(y_test, preds) \n",
        "  return MCC\n",
        "### MCC\n",
        "def MCC(y_test, preds):\n",
        "  MCC= matthews_corrcoef(y_test, preds) \n",
        "  return MCC\n",
        "### sensibilite\n",
        "def sensibilite(y_test, preds):\n",
        "  cf_matrix = confusion_matrix(y_test, preds)\n",
        "  sensibilite =  (cf_matrix[1,1])/(cf_matrix[1,1]+cf_matrix[1,0])\n",
        "  return sensibilite\n",
        "### specifite \n",
        "def specifite(y_test, preds):\n",
        "  cf_matrix = confusion_matrix(y_test, preds)\n",
        "  specifite =  (cf_matrix[0,0])/(cf_matrix[0,0]+cf_matrix[0,1])\n",
        "  return specifite \n",
        "### kappa\n",
        "def kappa(y_test, preds):\n",
        "  value = cohen_kappa_score(y_test, preds)\n",
        "  return value\n",
        "### balancedacc\n",
        "def balancedacc(y_test, preds):\n",
        "  cf_matrix = confusion_matrix(y_test, preds)\n",
        "  sen = (cf_matrix[1,1])/(cf_matrix[1,1]+cf_matrix[0,1])\n",
        "  spe = (cf_matrix[0,0])/(cf_matrix[0,0]+cf_matrix[1,0])\n",
        "  value = (sen + spe)/2\n",
        "  return value\n",
        "def présicion_positive(y_test, preds):\n",
        "  cf_matrix = confusion_matrix(y_test, preds)\n",
        "  pre_pos =  (cf_matrix[1,1])/(cf_matrix[1,1]+cf_matrix[0,1])\n",
        "  return pre_pos\n",
        "def présicion_négative(y_test, preds):\n",
        "  cf_matrix = confusion_matrix(y_test, preds)\n",
        "  pre_pos =  (cf_matrix[0,0])/(cf_matrix[0,0]+cf_matrix[1,0])\n",
        "  return pre_pos\n",
        "  \n",
        "### courbe roc\n",
        "def plot_roc_curve(fper, tper):\n",
        "    plt.plot(fper, tper, color='red', label='ROC')\n",
        "    plt.plot([0, 1], [0, 1], color='green', linestyle='--')\n",
        "    plt.xlabel('False Positive Rate')\n",
        "    plt.ylabel('True Positive Rate')\n",
        "    plt.title('Receiver Operating Characteristic Curve')\n",
        "    plt.legend()\n",
        "    plt.show()"
      ],
      "metadata": {
        "id": "qrC7O3EJrsW1"
      },
      "execution_count": 41,
      "outputs": []
    },
    {
      "cell_type": "markdown",
      "source": [
        "# Xgboost"
      ],
      "metadata": {
        "id": "EoDDOOV9ryOR"
      }
    },
    {
      "cell_type": "code",
      "source": [
        "Classifier1 = XGBClassifier(scale_pos_weight=1,learning_rate=0.5,max_depth=5,n_estimators=150,objective=\"binary:logistic\")"
      ],
      "metadata": {
        "id": "1SJ1uJTusZuA"
      },
      "execution_count": 42,
      "outputs": []
    },
    {
      "cell_type": "code",
      "source": [
        "# get a list of models to evaluate\n",
        "def get_models1():\n",
        "\tmodels = dict()\n",
        "\tfor i in range(1, 7):\n",
        "\t\trfe = RFE(Classifier1, n_features_to_select=i)\n",
        "\t\tmodels[str(i)] = Pipeline(steps=[('s',rfe),('m',Classifier1)])\n",
        "\treturn models"
      ],
      "metadata": {
        "id": "cgNWt7OuvN8t"
      },
      "execution_count": 43,
      "outputs": []
    },
    {
      "cell_type": "code",
      "source": [
        "# get the models to evaluate\n",
        "models1 = get_models1()\n",
        "# evaluate the models and store results\n",
        "results, names = list(), list()\n",
        "for name, model in models1.items():\n",
        "  model.fit(X_app, Y_app)\n",
        "  preds = model.predict(X_test)\n",
        "  score = MCC(Y_test, preds)\n",
        "  results.append(score)\n",
        "  names.append(name)\n",
        "  print('- %s :  %.3f' % (name,score))"
      ],
      "metadata": {
        "colab": {
          "base_uri": "https://localhost:8080/"
        },
        "id": "8xgEl1pSvTUN",
        "outputId": "d796ac72-ec4b-42fe-da0c-73a9bd1cb5c1"
      },
      "execution_count": 44,
      "outputs": [
        {
          "output_type": "stream",
          "name": "stdout",
          "text": [
            "- 1 :  0.192\n",
            "- 2 :  0.331\n",
            "- 3 :  0.342\n",
            "- 4 :  0.260\n",
            "- 5 :  0.260\n",
            "- 6 :  0.295\n"
          ]
        }
      ]
    },
    {
      "cell_type": "code",
      "source": [
        "# create pipeline\n",
        "rfe1 = RFE(estimator=Classifier1, n_features_to_select=3)\n",
        "pipeline1 = Pipeline(steps=[('s',rfe1),('m',Classifier1)])\n",
        "# fit the model \n",
        "pipeline1.fit(X_app, Y_app)"
      ],
      "metadata": {
        "colab": {
          "base_uri": "https://localhost:8080/"
        },
        "id": "xVv0V37CrsZS",
        "outputId": "942fef9b-8e2c-4f71-aa49-85646f293e20"
      },
      "execution_count": 45,
      "outputs": [
        {
          "output_type": "execute_result",
          "data": {
            "text/plain": [
              "Pipeline(steps=[('s',\n",
              "                 RFE(estimator=XGBClassifier(learning_rate=0.5, max_depth=5,\n",
              "                                             n_estimators=150),\n",
              "                     n_features_to_select=3)),\n",
              "                ('m',\n",
              "                 XGBClassifier(learning_rate=0.5, max_depth=5,\n",
              "                               n_estimators=150))])"
            ]
          },
          "metadata": {},
          "execution_count": 45
        }
      ]
    },
    {
      "cell_type": "code",
      "source": [
        "pipeline1[\"s\"].support_"
      ],
      "metadata": {
        "colab": {
          "base_uri": "https://localhost:8080/"
        },
        "id": "qLXozSSZssfU",
        "outputId": "203eef34-b8af-436c-ba73-dfd533f22a3a"
      },
      "execution_count": 46,
      "outputs": [
        {
          "output_type": "execute_result",
          "data": {
            "text/plain": [
              "array([ True, False,  True, False, False,  True])"
            ]
          },
          "metadata": {},
          "execution_count": 46
        }
      ]
    },
    {
      "cell_type": "code",
      "metadata": {
        "id": "mpZMF-EhTV0N"
      },
      "source": [
        "preds1 = pipeline1.predict(X_test)"
      ],
      "execution_count": 47,
      "outputs": []
    },
    {
      "cell_type": "code",
      "metadata": {
        "id": "wfCXrkA0TV0O",
        "colab": {
          "base_uri": "https://localhost:8080/"
        },
        "outputId": "3f35dc33-8d8a-4486-c646-1b6eb8ab91b9"
      },
      "source": [
        "preds1"
      ],
      "execution_count": 48,
      "outputs": [
        {
          "output_type": "execute_result",
          "data": {
            "text/plain": [
              "array([0, 0, 0, 1, 0, 0, 0, 1, 0, 0, 1, 1, 1, 0, 1, 0, 1, 0, 0, 1, 0, 0,\n",
              "       0, 0, 0, 0, 0, 0, 0, 0, 0, 0, 0, 1, 0, 0, 1, 1, 1, 1, 0, 1, 1, 1,\n",
              "       1, 1, 0, 0, 1, 1, 0])"
            ]
          },
          "metadata": {},
          "execution_count": 48
        }
      ]
    },
    {
      "cell_type": "code",
      "metadata": {
        "colab": {
          "base_uri": "https://localhost:8080/"
        },
        "outputId": "c9bfd87d-0d69-4478-ea4f-ca05fbdab2d3",
        "id": "-kxBDaKxzO2e"
      },
      "source": [
        "cf_matrix = confusion_matrix(Y_test, preds1)\n",
        "print(cf_matrix)"
      ],
      "execution_count": 49,
      "outputs": [
        {
          "output_type": "stream",
          "name": "stdout",
          "text": [
            "[[23  8]\n",
            " [ 8 12]]\n"
          ]
        }
      ]
    },
    {
      "cell_type": "code",
      "source": [
        "MCC(Y_test, preds1)"
      ],
      "metadata": {
        "colab": {
          "base_uri": "https://localhost:8080/"
        },
        "id": "0YKjN3KXIaz7",
        "outputId": "dcd35f67-4d4e-405b-b053-a26bd8d63e58"
      },
      "execution_count": 50,
      "outputs": [
        {
          "output_type": "execute_result",
          "data": {
            "text/plain": [
              "0.3419354838709677"
            ]
          },
          "metadata": {},
          "execution_count": 50
        }
      ]
    },
    {
      "cell_type": "code",
      "source": [
        "recall(Y_test, preds1)"
      ],
      "metadata": {
        "colab": {
          "base_uri": "https://localhost:8080/"
        },
        "id": "y5XZY6B2JD9D",
        "outputId": "9b49b8ed-7f45-4194-fb48-39c6bc402bdc"
      },
      "execution_count": 51,
      "outputs": [
        {
          "output_type": "execute_result",
          "data": {
            "text/plain": [
              "0.6"
            ]
          },
          "metadata": {},
          "execution_count": 51
        }
      ]
    },
    {
      "cell_type": "code",
      "source": [
        "sensibilite(Y_test, preds1)"
      ],
      "metadata": {
        "colab": {
          "base_uri": "https://localhost:8080/"
        },
        "id": "kqSk6bUfJD_T",
        "outputId": "e4923267-ba42-4954-9600-0fab3ec61fbf"
      },
      "execution_count": 52,
      "outputs": [
        {
          "output_type": "execute_result",
          "data": {
            "text/plain": [
              "0.6"
            ]
          },
          "metadata": {},
          "execution_count": 52
        }
      ]
    },
    {
      "cell_type": "code",
      "source": [
        "specifite(Y_test, preds1)"
      ],
      "metadata": {
        "colab": {
          "base_uri": "https://localhost:8080/"
        },
        "id": "pNQ0SMEcJEBk",
        "outputId": "3c4b8aaf-cb46-46a2-aa32-fe7ce8cc2432"
      },
      "execution_count": 53,
      "outputs": [
        {
          "output_type": "execute_result",
          "data": {
            "text/plain": [
              "0.7419354838709677"
            ]
          },
          "metadata": {},
          "execution_count": 53
        }
      ]
    },
    {
      "cell_type": "code",
      "source": [
        "présicion_négative(Y_test, preds1)"
      ],
      "metadata": {
        "colab": {
          "base_uri": "https://localhost:8080/"
        },
        "id": "H2OR9PEknpHB",
        "outputId": "423d21b2-038e-4343-be4c-d583272cc3b1"
      },
      "execution_count": 54,
      "outputs": [
        {
          "output_type": "execute_result",
          "data": {
            "text/plain": [
              "0.7419354838709677"
            ]
          },
          "metadata": {},
          "execution_count": 54
        }
      ]
    },
    {
      "cell_type": "code",
      "source": [
        "présicion_positive(Y_test, preds1)"
      ],
      "metadata": {
        "colab": {
          "base_uri": "https://localhost:8080/"
        },
        "id": "5F8mvboxno-8",
        "outputId": "4987263e-0b8c-441d-b18f-c0d511f3f9d6"
      },
      "execution_count": 55,
      "outputs": [
        {
          "output_type": "execute_result",
          "data": {
            "text/plain": [
              "0.6"
            ]
          },
          "metadata": {},
          "execution_count": 55
        }
      ]
    },
    {
      "cell_type": "code",
      "source": [
        "balancedacc(Y_test, preds1)"
      ],
      "metadata": {
        "colab": {
          "base_uri": "https://localhost:8080/"
        },
        "id": "ZBb1_XQDnxip",
        "outputId": "d3a26f8d-74ea-4e32-b282-e224daaf2d0b"
      },
      "execution_count": 56,
      "outputs": [
        {
          "output_type": "execute_result",
          "data": {
            "text/plain": [
              "0.6709677419354838"
            ]
          },
          "metadata": {},
          "execution_count": 56
        }
      ]
    },
    {
      "cell_type": "code",
      "source": [
        "kappa(Y_test, preds1)"
      ],
      "metadata": {
        "colab": {
          "base_uri": "https://localhost:8080/"
        },
        "id": "Oov8iFSGop2F",
        "outputId": "dbc6c1ab-75ff-4082-9ab4-4ba1e9619df4"
      },
      "execution_count": 57,
      "outputs": [
        {
          "output_type": "execute_result",
          "data": {
            "text/plain": [
              "0.3419354838709677"
            ]
          },
          "metadata": {},
          "execution_count": 57
        }
      ]
    },
    {
      "cell_type": "code",
      "source": [
        "y_pred_proba = pipeline1.predict_proba(X_test)[::,1]\n",
        "fpr, tpr, _ = metrics.roc_curve(Y_test,  y_pred_proba)\n",
        "auc = metrics.roc_auc_score(Y_test, y_pred_proba)\n",
        "plt.plot(fpr,tpr,label=\"xgboost, auc=\"+str(auc))\n",
        "plt.legend(loc=4)\n",
        "plt.show()"
      ],
      "metadata": {
        "colab": {
          "base_uri": "https://localhost:8080/",
          "height": 265
        },
        "id": "eOzFa818Ia2R",
        "outputId": "600db630-b1e6-424a-ab56-c8f48a8c95c4"
      },
      "execution_count": 58,
      "outputs": [
        {
          "output_type": "display_data",
          "data": {
            "image/png": "[encoded data removed]",
            "text/plain": [
              "<Figure size 432x288 with 1 Axes>"
            ]
          },
          "metadata": {
            "needs_background": "light"
          }
        }
      ]
    },
    {
      "cell_type": "code",
      "source": [
        "variable1=pipeline1[\"s\"].support_"
      ],
      "metadata": {
        "id": "-WxUxf0B9T1c"
      },
      "execution_count": 59,
      "outputs": []
    },
    {
      "cell_type": "code",
      "source": [
        "variable1"
      ],
      "metadata": {
        "colab": {
          "base_uri": "https://localhost:8080/"
        },
        "id": "lR2ft4249XG5",
        "outputId": "95ef0842-c358-4139-851d-9d650771ba6b"
      },
      "execution_count": 60,
      "outputs": [
        {
          "output_type": "execute_result",
          "data": {
            "text/plain": [
              "array([ True, False,  True, False, False,  True])"
            ]
          },
          "metadata": {},
          "execution_count": 60
        }
      ]
    },
    {
      "cell_type": "code",
      "source": [
        "X_app1 = X_app.loc[:, X_app.columns != \"AXE12\"]\n",
        "X_app1 = X_app1.loc[:, X_app1.columns != \"AXE3\"]\n",
        "X_app1 = X_app1.loc[:, X_app1.columns != \"AXE4\"]"
      ],
      "metadata": {
        "id": "rkInqIfc9LAx"
      },
      "execution_count": 61,
      "outputs": []
    },
    {
      "cell_type": "code",
      "source": [
        "X_app1"
      ],
      "metadata": {
        "id": "KtTz4Fgp9kIJ",
        "outputId": "3422e2fb-8a9e-43d6-e2a5-19855fb4bdcf",
        "colab": {
          "base_uri": "https://localhost:8080/",
          "height": 423
        }
      },
      "execution_count": 62,
      "outputs": [
        {
          "output_type": "execute_result",
          "data": {
            "text/html": [
              "\n",
              "  <div id=\"df-d40706f9-6bbb-4e68-9b1e-4409cb33bf8d\">\n",
              "    <div class=\"colab-df-container\">\n",
              "      <div>\n",
              "<style scoped>\n",
              "    .dataframe tbody tr th:only-of-type {\n",
              "        vertical-align: middle;\n",
              "    }\n",
              "\n",
              "    .dataframe tbody tr th {\n",
              "        vertical-align: top;\n",
              "    }\n",
              "\n",
              "    .dataframe thead th {\n",
              "        text-align: right;\n",
              "    }\n",
              "</style>\n",
              "<table border=\"1\" class=\"dataframe\">\n",
              "  <thead>\n",
              "    <tr style=\"text-align: right;\">\n",
              "      <th></th>\n",
              "      <th>AXE11</th>\n",
              "      <th>AXE2</th>\n",
              "      <th>AXE5</th>\n",
              "    </tr>\n",
              "  </thead>\n",
              "  <tbody>\n",
              "    <tr>\n",
              "      <th>0</th>\n",
              "      <td>0.001424</td>\n",
              "      <td>-0.059472</td>\n",
              "      <td>-0.173420</td>\n",
              "    </tr>\n",
              "    <tr>\n",
              "      <th>1</th>\n",
              "      <td>0.001859</td>\n",
              "      <td>-0.032365</td>\n",
              "      <td>-0.161534</td>\n",
              "    </tr>\n",
              "    <tr>\n",
              "      <th>2</th>\n",
              "      <td>0.001859</td>\n",
              "      <td>-0.032365</td>\n",
              "      <td>-0.161534</td>\n",
              "    </tr>\n",
              "    <tr>\n",
              "      <th>3</th>\n",
              "      <td>-0.001565</td>\n",
              "      <td>0.052511</td>\n",
              "      <td>-0.036805</td>\n",
              "    </tr>\n",
              "    <tr>\n",
              "      <th>4</th>\n",
              "      <td>-0.001238</td>\n",
              "      <td>0.047796</td>\n",
              "      <td>0.038151</td>\n",
              "    </tr>\n",
              "    <tr>\n",
              "      <th>...</th>\n",
              "      <td>...</td>\n",
              "      <td>...</td>\n",
              "      <td>...</td>\n",
              "    </tr>\n",
              "    <tr>\n",
              "      <th>198</th>\n",
              "      <td>0.002694</td>\n",
              "      <td>-0.107134</td>\n",
              "      <td>-0.093039</td>\n",
              "    </tr>\n",
              "    <tr>\n",
              "      <th>199</th>\n",
              "      <td>0.001341</td>\n",
              "      <td>-0.078564</td>\n",
              "      <td>-0.297170</td>\n",
              "    </tr>\n",
              "    <tr>\n",
              "      <th>200</th>\n",
              "      <td>0.001998</td>\n",
              "      <td>-0.123163</td>\n",
              "      <td>-0.279362</td>\n",
              "    </tr>\n",
              "    <tr>\n",
              "      <th>201</th>\n",
              "      <td>-0.000923</td>\n",
              "      <td>0.010676</td>\n",
              "      <td>0.121188</td>\n",
              "    </tr>\n",
              "    <tr>\n",
              "      <th>202</th>\n",
              "      <td>0.001179</td>\n",
              "      <td>-0.015548</td>\n",
              "      <td>0.200396</td>\n",
              "    </tr>\n",
              "  </tbody>\n",
              "</table>\n",
              "<p>203 rows × 3 columns</p>\n",
              "</div>\n",
              "      <button class=\"colab-df-convert\" onclick=\"convertToInteractive('df-d40706f9-6bbb-4e68-9b1e-4409cb33bf8d')\"\n",
              "              title=\"Convert this dataframe to an interactive table.\"\n",
              "              style=\"display:none;\">\n",
              "        \n",
              "  <svg xmlns=\"http://www.w3.org/2000/svg\" height=\"24px\"viewBox=\"0 0 24 24\"\n",
              "       width=\"24px\">\n",
              "    <path d=\"M0 0h24v24H0V0z\" fill=\"none\"/>\n",
              "    <path d=\"M18.56 5.44l.94 2.06.94-2.06 2.06-.94-2.06-.94-.94-2.06-.94 2.06-2.06.94zm-11 1L8.5 8.5l.94-2.06 2.06-.94-2.06-.94L8.5 2.5l-.94 2.06-2.06.94zm10 10l.94 2.06.94-2.06 2.06-.94-2.06-.94-.94-2.06-.94 2.06-2.06.94z\"/><path d=\"M17.41 7.96l-1.37-1.37c-.4-.4-.92-.59-1.43-.59-.52 0-1.04.2-1.43.59L10.3 9.45l-7.72 7.72c-.78.78-.78 2.05 0 2.83L4 21.41c.39.39.9.59 1.41.59.51 0 1.02-.2 1.41-.59l7.78-7.78 2.81-2.81c.8-.78.8-2.07 0-2.86zM5.41 20L4 18.59l7.72-7.72 1.47 1.35L5.41 20z\"/>\n",
              "  </svg>\n",
              "      </button>\n",
              "      \n",
              "  <style>\n",
              "    .colab-df-container {\n",
              "      display:flex;\n",
              "      flex-wrap:wrap;\n",
              "      gap: 12px;\n",
              "    }\n",
              "\n",
              "    .colab-df-convert {\n",
              "      background-color: #E8F0FE;\n",
              "      border: none;\n",
              "      border-radius: 50%;\n",
              "      cursor: pointer;\n",
              "      display: none;\n",
              "      fill: #1967D2;\n",
              "      height: 32px;\n",
              "      padding: 0 0 0 0;\n",
              "      width: 32px;\n",
              "    }\n",
              "\n",
              "    .colab-df-convert:hover {\n",
              "      background-color: #E2EBFA;\n",
              "      box-shadow: 0px 1px 2px rgba(60, 64, 67, 0.3), 0px 1px 3px 1px rgba(60, 64, 67, 0.15);\n",
              "      fill: #174EA6;\n",
              "    }\n",
              "\n",
              "    [theme=dark] .colab-df-convert {\n",
              "      background-color: #3B4455;\n",
              "      fill: #D2E3FC;\n",
              "    }\n",
              "\n",
              "    [theme=dark] .colab-df-convert:hover {\n",
              "      background-color: #434B5C;\n",
              "      box-shadow: 0px 1px 3px 1px rgba(0, 0, 0, 0.15);\n",
              "      filter: drop-shadow(0px 1px 2px rgba(0, 0, 0, 0.3));\n",
              "      fill: #FFFFFF;\n",
              "    }\n",
              "  </style>\n",
              "\n",
              "      <script>\n",
              "        const buttonEl =\n",
              "          document.querySelector('#df-d40706f9-6bbb-4e68-9b1e-4409cb33bf8d button.colab-df-convert');\n",
              "        buttonEl.style.display =\n",
              "          google.colab.kernel.accessAllowed ? 'block' : 'none';\n",
              "\n",
              "        async function convertToInteractive(key) {\n",
              "          const element = document.querySelector('#df-d40706f9-6bbb-4e68-9b1e-4409cb33bf8d');\n",
              "          const dataTable =\n",
              "            await google.colab.kernel.invokeFunction('convertToInteractive',\n",
              "                                                     [key], {});\n",
              "          if (!dataTable) return;\n",
              "\n",
              "          const docLinkHtml = 'Like what you see? Visit the ' +\n",
              "            '<a target=\"_blank\" href=https://colab.research.google.com/notebooks/data_table.ipynb>data table notebook</a>'\n",
              "            + ' to learn more about interactive tables.';\n",
              "          element.innerHTML = '';\n",
              "          dataTable['output_type'] = 'display_data';\n",
              "          await google.colab.output.renderOutput(dataTable, element);\n",
              "          const docLink = document.createElement('div');\n",
              "          docLink.innerHTML = docLinkHtml;\n",
              "          element.appendChild(docLink);\n",
              "        }\n",
              "      </script>\n",
              "    </div>\n",
              "  </div>\n",
              "  "
            ],
            "text/plain": [
              "        AXE11      AXE2      AXE5\n",
              "0    0.001424 -0.059472 -0.173420\n",
              "1    0.001859 -0.032365 -0.161534\n",
              "2    0.001859 -0.032365 -0.161534\n",
              "3   -0.001565  0.052511 -0.036805\n",
              "4   -0.001238  0.047796  0.038151\n",
              "..        ...       ...       ...\n",
              "198  0.002694 -0.107134 -0.093039\n",
              "199  0.001341 -0.078564 -0.297170\n",
              "200  0.001998 -0.123163 -0.279362\n",
              "201 -0.000923  0.010676  0.121188\n",
              "202  0.001179 -0.015548  0.200396\n",
              "\n",
              "[203 rows x 3 columns]"
            ]
          },
          "metadata": {},
          "execution_count": 62
        }
      ]
    },
    {
      "cell_type": "code",
      "source": [
        "X_test1 = X_test.loc[:, X_test.columns != \"AXE12\"]\n",
        "X_test1 = X_test1.loc[:, X_test1.columns != \"AXE3\"]\n",
        "X_test1 = X_test1.loc[:, X_test1.columns != \"AXE4\"]"
      ],
      "metadata": {
        "id": "3xgFOerI-cHe"
      },
      "execution_count": 63,
      "outputs": []
    },
    {
      "cell_type": "code",
      "source": [
        "X_test1"
      ],
      "metadata": {
        "id": "6dKKmM0A-luy",
        "outputId": "cf951a86-d809-41d2-860f-80242382ab12",
        "colab": {
          "base_uri": "https://localhost:8080/",
          "height": 1000
        }
      },
      "execution_count": 64,
      "outputs": [
        {
          "output_type": "execute_result",
          "data": {
            "text/html": [
              "\n",
              "  <div id=\"df-aa51a87b-c58d-46b4-82b3-3ef2d3411103\">\n",
              "    <div class=\"colab-df-container\">\n",
              "      <div>\n",
              "<style scoped>\n",
              "    .dataframe tbody tr th:only-of-type {\n",
              "        vertical-align: middle;\n",
              "    }\n",
              "\n",
              "    .dataframe tbody tr th {\n",
              "        vertical-align: top;\n",
              "    }\n",
              "\n",
              "    .dataframe thead th {\n",
              "        text-align: right;\n",
              "    }\n",
              "</style>\n",
              "<table border=\"1\" class=\"dataframe\">\n",
              "  <thead>\n",
              "    <tr style=\"text-align: right;\">\n",
              "      <th></th>\n",
              "      <th>AXE11</th>\n",
              "      <th>AXE2</th>\n",
              "      <th>AXE5</th>\n",
              "    </tr>\n",
              "  </thead>\n",
              "  <tbody>\n",
              "    <tr>\n",
              "      <th>0</th>\n",
              "      <td>-0.001640</td>\n",
              "      <td>0.102308</td>\n",
              "      <td>0.062173</td>\n",
              "    </tr>\n",
              "    <tr>\n",
              "      <th>1</th>\n",
              "      <td>-0.005890</td>\n",
              "      <td>0.008081</td>\n",
              "      <td>-0.012560</td>\n",
              "    </tr>\n",
              "    <tr>\n",
              "      <th>2</th>\n",
              "      <td>-0.005890</td>\n",
              "      <td>0.008081</td>\n",
              "      <td>-0.012560</td>\n",
              "    </tr>\n",
              "    <tr>\n",
              "      <th>3</th>\n",
              "      <td>0.000629</td>\n",
              "      <td>-0.077555</td>\n",
              "      <td>-0.121500</td>\n",
              "    </tr>\n",
              "    <tr>\n",
              "      <th>4</th>\n",
              "      <td>-0.002810</td>\n",
              "      <td>0.016373</td>\n",
              "      <td>0.278006</td>\n",
              "    </tr>\n",
              "    <tr>\n",
              "      <th>5</th>\n",
              "      <td>-0.002760</td>\n",
              "      <td>0.021959</td>\n",
              "      <td>0.273379</td>\n",
              "    </tr>\n",
              "    <tr>\n",
              "      <th>6</th>\n",
              "      <td>-0.000010</td>\n",
              "      <td>0.030925</td>\n",
              "      <td>-0.080940</td>\n",
              "    </tr>\n",
              "    <tr>\n",
              "      <th>7</th>\n",
              "      <td>0.001179</td>\n",
              "      <td>-0.022492</td>\n",
              "      <td>0.224582</td>\n",
              "    </tr>\n",
              "    <tr>\n",
              "      <th>8</th>\n",
              "      <td>-0.002400</td>\n",
              "      <td>0.109514</td>\n",
              "      <td>0.228331</td>\n",
              "    </tr>\n",
              "    <tr>\n",
              "      <th>9</th>\n",
              "      <td>-0.001750</td>\n",
              "      <td>0.090288</td>\n",
              "      <td>0.133737</td>\n",
              "    </tr>\n",
              "    <tr>\n",
              "      <th>10</th>\n",
              "      <td>0.001006</td>\n",
              "      <td>-0.015819</td>\n",
              "      <td>-0.195530</td>\n",
              "    </tr>\n",
              "    <tr>\n",
              "      <th>11</th>\n",
              "      <td>0.001603</td>\n",
              "      <td>-0.067299</td>\n",
              "      <td>-0.311720</td>\n",
              "    </tr>\n",
              "    <tr>\n",
              "      <th>12</th>\n",
              "      <td>0.001609</td>\n",
              "      <td>-0.008849</td>\n",
              "      <td>-0.131960</td>\n",
              "    </tr>\n",
              "    <tr>\n",
              "      <th>13</th>\n",
              "      <td>-0.004120</td>\n",
              "      <td>0.113729</td>\n",
              "      <td>0.146234</td>\n",
              "    </tr>\n",
              "    <tr>\n",
              "      <th>14</th>\n",
              "      <td>-0.000340</td>\n",
              "      <td>-0.003732</td>\n",
              "      <td>-0.340590</td>\n",
              "    </tr>\n",
              "    <tr>\n",
              "      <th>15</th>\n",
              "      <td>-0.001760</td>\n",
              "      <td>0.075740</td>\n",
              "      <td>0.213932</td>\n",
              "    </tr>\n",
              "    <tr>\n",
              "      <th>16</th>\n",
              "      <td>-0.000031</td>\n",
              "      <td>-0.018632</td>\n",
              "      <td>0.090486</td>\n",
              "    </tr>\n",
              "    <tr>\n",
              "      <th>17</th>\n",
              "      <td>0.000560</td>\n",
              "      <td>-0.012611</td>\n",
              "      <td>0.058737</td>\n",
              "    </tr>\n",
              "    <tr>\n",
              "      <th>18</th>\n",
              "      <td>-0.000240</td>\n",
              "      <td>0.002100</td>\n",
              "      <td>0.056395</td>\n",
              "    </tr>\n",
              "    <tr>\n",
              "      <th>19</th>\n",
              "      <td>0.002838</td>\n",
              "      <td>0.019787</td>\n",
              "      <td>0.048942</td>\n",
              "    </tr>\n",
              "    <tr>\n",
              "      <th>20</th>\n",
              "      <td>-0.001240</td>\n",
              "      <td>0.030422</td>\n",
              "      <td>0.127419</td>\n",
              "    </tr>\n",
              "    <tr>\n",
              "      <th>21</th>\n",
              "      <td>-0.000910</td>\n",
              "      <td>0.103213</td>\n",
              "      <td>0.169502</td>\n",
              "    </tr>\n",
              "    <tr>\n",
              "      <th>22</th>\n",
              "      <td>0.000051</td>\n",
              "      <td>0.112808</td>\n",
              "      <td>-0.013740</td>\n",
              "    </tr>\n",
              "    <tr>\n",
              "      <th>23</th>\n",
              "      <td>-0.003130</td>\n",
              "      <td>0.109717</td>\n",
              "      <td>-0.069070</td>\n",
              "    </tr>\n",
              "    <tr>\n",
              "      <th>24</th>\n",
              "      <td>-0.000820</td>\n",
              "      <td>-0.100164</td>\n",
              "      <td>0.213304</td>\n",
              "    </tr>\n",
              "    <tr>\n",
              "      <th>25</th>\n",
              "      <td>-0.001080</td>\n",
              "      <td>0.048052</td>\n",
              "      <td>-0.055740</td>\n",
              "    </tr>\n",
              "    <tr>\n",
              "      <th>26</th>\n",
              "      <td>-0.001990</td>\n",
              "      <td>-0.021120</td>\n",
              "      <td>0.195129</td>\n",
              "    </tr>\n",
              "    <tr>\n",
              "      <th>27</th>\n",
              "      <td>-0.002620</td>\n",
              "      <td>0.062814</td>\n",
              "      <td>-0.761250</td>\n",
              "    </tr>\n",
              "    <tr>\n",
              "      <th>28</th>\n",
              "      <td>-0.003280</td>\n",
              "      <td>0.146760</td>\n",
              "      <td>0.375518</td>\n",
              "    </tr>\n",
              "    <tr>\n",
              "      <th>29</th>\n",
              "      <td>0.002210</td>\n",
              "      <td>0.055754</td>\n",
              "      <td>0.693649</td>\n",
              "    </tr>\n",
              "    <tr>\n",
              "      <th>30</th>\n",
              "      <td>-0.003510</td>\n",
              "      <td>0.045481</td>\n",
              "      <td>0.319655</td>\n",
              "    </tr>\n",
              "    <tr>\n",
              "      <th>31</th>\n",
              "      <td>-0.003510</td>\n",
              "      <td>0.045481</td>\n",
              "      <td>0.319764</td>\n",
              "    </tr>\n",
              "    <tr>\n",
              "      <th>32</th>\n",
              "      <td>-0.001820</td>\n",
              "      <td>0.064932</td>\n",
              "      <td>0.417060</td>\n",
              "    </tr>\n",
              "    <tr>\n",
              "      <th>33</th>\n",
              "      <td>0.003424</td>\n",
              "      <td>0.016161</td>\n",
              "      <td>0.193179</td>\n",
              "    </tr>\n",
              "    <tr>\n",
              "      <th>34</th>\n",
              "      <td>-0.001870</td>\n",
              "      <td>0.003016</td>\n",
              "      <td>-0.212040</td>\n",
              "    </tr>\n",
              "    <tr>\n",
              "      <th>35</th>\n",
              "      <td>-0.003410</td>\n",
              "      <td>0.055900</td>\n",
              "      <td>0.318408</td>\n",
              "    </tr>\n",
              "    <tr>\n",
              "      <th>36</th>\n",
              "      <td>0.001568</td>\n",
              "      <td>-0.034828</td>\n",
              "      <td>0.012555</td>\n",
              "    </tr>\n",
              "    <tr>\n",
              "      <th>37</th>\n",
              "      <td>0.003009</td>\n",
              "      <td>-0.071017</td>\n",
              "      <td>-0.362020</td>\n",
              "    </tr>\n",
              "    <tr>\n",
              "      <th>38</th>\n",
              "      <td>0.000970</td>\n",
              "      <td>-0.021193</td>\n",
              "      <td>-0.233540</td>\n",
              "    </tr>\n",
              "    <tr>\n",
              "      <th>39</th>\n",
              "      <td>0.004510</td>\n",
              "      <td>-0.092814</td>\n",
              "      <td>-0.360670</td>\n",
              "    </tr>\n",
              "    <tr>\n",
              "      <th>40</th>\n",
              "      <td>-0.002490</td>\n",
              "      <td>0.065449</td>\n",
              "      <td>-0.104530</td>\n",
              "    </tr>\n",
              "    <tr>\n",
              "      <th>41</th>\n",
              "      <td>0.002015</td>\n",
              "      <td>0.013261</td>\n",
              "      <td>0.094912</td>\n",
              "    </tr>\n",
              "    <tr>\n",
              "      <th>42</th>\n",
              "      <td>0.000355</td>\n",
              "      <td>-0.118880</td>\n",
              "      <td>0.550143</td>\n",
              "    </tr>\n",
              "    <tr>\n",
              "      <th>43</th>\n",
              "      <td>0.001272</td>\n",
              "      <td>-0.013157</td>\n",
              "      <td>-0.269870</td>\n",
              "    </tr>\n",
              "    <tr>\n",
              "      <th>44</th>\n",
              "      <td>0.005844</td>\n",
              "      <td>-0.068927</td>\n",
              "      <td>-0.327000</td>\n",
              "    </tr>\n",
              "    <tr>\n",
              "      <th>45</th>\n",
              "      <td>0.000196</td>\n",
              "      <td>-0.033680</td>\n",
              "      <td>0.204619</td>\n",
              "    </tr>\n",
              "    <tr>\n",
              "      <th>46</th>\n",
              "      <td>-0.000690</td>\n",
              "      <td>-0.066152</td>\n",
              "      <td>0.318243</td>\n",
              "    </tr>\n",
              "    <tr>\n",
              "      <th>47</th>\n",
              "      <td>-0.001120</td>\n",
              "      <td>0.049230</td>\n",
              "      <td>0.000863</td>\n",
              "    </tr>\n",
              "    <tr>\n",
              "      <th>48</th>\n",
              "      <td>-0.001530</td>\n",
              "      <td>-0.106042</td>\n",
              "      <td>-0.108280</td>\n",
              "    </tr>\n",
              "    <tr>\n",
              "      <th>49</th>\n",
              "      <td>0.001075</td>\n",
              "      <td>-0.096706</td>\n",
              "      <td>-0.177130</td>\n",
              "    </tr>\n",
              "    <tr>\n",
              "      <th>50</th>\n",
              "      <td>-0.005070</td>\n",
              "      <td>0.029881</td>\n",
              "      <td>-0.125230</td>\n",
              "    </tr>\n",
              "  </tbody>\n",
              "</table>\n",
              "</div>\n",
              "      <button class=\"colab-df-convert\" onclick=\"convertToInteractive('df-aa51a87b-c58d-46b4-82b3-3ef2d3411103')\"\n",
              "              title=\"Convert this dataframe to an interactive table.\"\n",
              "              style=\"display:none;\">\n",
              "        \n",
              "  <svg xmlns=\"http://www.w3.org/2000/svg\" height=\"24px\"viewBox=\"0 0 24 24\"\n",
              "       width=\"24px\">\n",
              "    <path d=\"M0 0h24v24H0V0z\" fill=\"none\"/>\n",
              "    <path d=\"M18.56 5.44l.94 2.06.94-2.06 2.06-.94-2.06-.94-.94-2.06-.94 2.06-2.06.94zm-11 1L8.5 8.5l.94-2.06 2.06-.94-2.06-.94L8.5 2.5l-.94 2.06-2.06.94zm10 10l.94 2.06.94-2.06 2.06-.94-2.06-.94-.94-2.06-.94 2.06-2.06.94z\"/><path d=\"M17.41 7.96l-1.37-1.37c-.4-.4-.92-.59-1.43-.59-.52 0-1.04.2-1.43.59L10.3 9.45l-7.72 7.72c-.78.78-.78 2.05 0 2.83L4 21.41c.39.39.9.59 1.41.59.51 0 1.02-.2 1.41-.59l7.78-7.78 2.81-2.81c.8-.78.8-2.07 0-2.86zM5.41 20L4 18.59l7.72-7.72 1.47 1.35L5.41 20z\"/>\n",
              "  </svg>\n",
              "      </button>\n",
              "      \n",
              "  <style>\n",
              "    .colab-df-container {\n",
              "      display:flex;\n",
              "      flex-wrap:wrap;\n",
              "      gap: 12px;\n",
              "    }\n",
              "\n",
              "    .colab-df-convert {\n",
              "      background-color: #E8F0FE;\n",
              "      border: none;\n",
              "      border-radius: 50%;\n",
              "      cursor: pointer;\n",
              "      display: none;\n",
              "      fill: #1967D2;\n",
              "      height: 32px;\n",
              "      padding: 0 0 0 0;\n",
              "      width: 32px;\n",
              "    }\n",
              "\n",
              "    .colab-df-convert:hover {\n",
              "      background-color: #E2EBFA;\n",
              "      box-shadow: 0px 1px 2px rgba(60, 64, 67, 0.3), 0px 1px 3px 1px rgba(60, 64, 67, 0.15);\n",
              "      fill: #174EA6;\n",
              "    }\n",
              "\n",
              "    [theme=dark] .colab-df-convert {\n",
              "      background-color: #3B4455;\n",
              "      fill: #D2E3FC;\n",
              "    }\n",
              "\n",
              "    [theme=dark] .colab-df-convert:hover {\n",
              "      background-color: #434B5C;\n",
              "      box-shadow: 0px 1px 3px 1px rgba(0, 0, 0, 0.15);\n",
              "      filter: drop-shadow(0px 1px 2px rgba(0, 0, 0, 0.3));\n",
              "      fill: #FFFFFF;\n",
              "    }\n",
              "  </style>\n",
              "\n",
              "      <script>\n",
              "        const buttonEl =\n",
              "          document.querySelector('#df-aa51a87b-c58d-46b4-82b3-3ef2d3411103 button.colab-df-convert');\n",
              "        buttonEl.style.display =\n",
              "          google.colab.kernel.accessAllowed ? 'block' : 'none';\n",
              "\n",
              "        async function convertToInteractive(key) {\n",
              "          const element = document.querySelector('#df-aa51a87b-c58d-46b4-82b3-3ef2d3411103');\n",
              "          const dataTable =\n",
              "            await google.colab.kernel.invokeFunction('convertToInteractive',\n",
              "                                                     [key], {});\n",
              "          if (!dataTable) return;\n",
              "\n",
              "          const docLinkHtml = 'Like what you see? Visit the ' +\n",
              "            '<a target=\"_blank\" href=https://colab.research.google.com/notebooks/data_table.ipynb>data table notebook</a>'\n",
              "            + ' to learn more about interactive tables.';\n",
              "          element.innerHTML = '';\n",
              "          dataTable['output_type'] = 'display_data';\n",
              "          await google.colab.output.renderOutput(dataTable, element);\n",
              "          const docLink = document.createElement('div');\n",
              "          docLink.innerHTML = docLinkHtml;\n",
              "          element.appendChild(docLink);\n",
              "        }\n",
              "      </script>\n",
              "    </div>\n",
              "  </div>\n",
              "  "
            ],
            "text/plain": [
              "       AXE11      AXE2      AXE5\n",
              "0  -0.001640  0.102308  0.062173\n",
              "1  -0.005890  0.008081 -0.012560\n",
              "2  -0.005890  0.008081 -0.012560\n",
              "3   0.000629 -0.077555 -0.121500\n",
              "4  -0.002810  0.016373  0.278006\n",
              "5  -0.002760  0.021959  0.273379\n",
              "6  -0.000010  0.030925 -0.080940\n",
              "7   0.001179 -0.022492  0.224582\n",
              "8  -0.002400  0.109514  0.228331\n",
              "9  -0.001750  0.090288  0.133737\n",
              "10  0.001006 -0.015819 -0.195530\n",
              "11  0.001603 -0.067299 -0.311720\n",
              "12  0.001609 -0.008849 -0.131960\n",
              "13 -0.004120  0.113729  0.146234\n",
              "14 -0.000340 -0.003732 -0.340590\n",
              "15 -0.001760  0.075740  0.213932\n",
              "16 -0.000031 -0.018632  0.090486\n",
              "17  0.000560 -0.012611  0.058737\n",
              "18 -0.000240  0.002100  0.056395\n",
              "19  0.002838  0.019787  0.048942\n",
              "20 -0.001240  0.030422  0.127419\n",
              "21 -0.000910  0.103213  0.169502\n",
              "22  0.000051  0.112808 -0.013740\n",
              "23 -0.003130  0.109717 -0.069070\n",
              "24 -0.000820 -0.100164  0.213304\n",
              "25 -0.001080  0.048052 -0.055740\n",
              "26 -0.001990 -0.021120  0.195129\n",
              "27 -0.002620  0.062814 -0.761250\n",
              "28 -0.003280  0.146760  0.375518\n",
              "29  0.002210  0.055754  0.693649\n",
              "30 -0.003510  0.045481  0.319655\n",
              "31 -0.003510  0.045481  0.319764\n",
              "32 -0.001820  0.064932  0.417060\n",
              "33  0.003424  0.016161  0.193179\n",
              "34 -0.001870  0.003016 -0.212040\n",
              "35 -0.003410  0.055900  0.318408\n",
              "36  0.001568 -0.034828  0.012555\n",
              "37  0.003009 -0.071017 -0.362020\n",
              "38  0.000970 -0.021193 -0.233540\n",
              "39  0.004510 -0.092814 -0.360670\n",
              "40 -0.002490  0.065449 -0.104530\n",
              "41  0.002015  0.013261  0.094912\n",
              "42  0.000355 -0.118880  0.550143\n",
              "43  0.001272 -0.013157 -0.269870\n",
              "44  0.005844 -0.068927 -0.327000\n",
              "45  0.000196 -0.033680  0.204619\n",
              "46 -0.000690 -0.066152  0.318243\n",
              "47 -0.001120  0.049230  0.000863\n",
              "48 -0.001530 -0.106042 -0.108280\n",
              "49  0.001075 -0.096706 -0.177130\n",
              "50 -0.005070  0.029881 -0.125230"
            ]
          },
          "metadata": {},
          "execution_count": 64
        }
      ]
    },
    {
      "cell_type": "code",
      "source": [
        "from sklearn.neural_network import MLPClassifier\n"
      ],
      "metadata": {
        "id": "2C7B6DViDnoY"
      },
      "execution_count": 65,
      "outputs": []
    },
    {
      "cell_type": "code",
      "source": [
        "classifiers = {\n",
        "\"XGBClassifier\": XGBClassifier(scale_pos_weight=1,learning_rate=0.5,max_depth=5,n_estimators=150,objective=\"binary:logistic\"),\n",
        "\"LogisticRegression\": LogisticRegression(max_iter=100, solver='lbfgs', class_weight='balanced'),\n",
        "\"RandomForestClassifier\": RandomForestClassifier(n_estimators=100, criterion='gini', max_depth=5 ,min_samples_split=3),\n",
        "\"GradientBoostingClassifier\":GradientBoostingClassifier(n_estimators=225, learning_rate=0.1, max_features=2, max_depth=2, random_state=0,min_samples_leaf=2,subsample=1),\n",
        "\"Gaussian\":GaussianNB(),\n",
        "\"KNN\":KNeighborsClassifier(n_neighbors=6),\n",
        "\"MLPC\":MLPClassifier(hidden_layer_sizes=100,max_iter=300)\n",
        "}\n",
        "for name, clf in classifiers.items():\n",
        "    print(\"############################\")\n",
        "    print(name)\n",
        "    # fit the model\n",
        "    clf.fit(X_app1,Y_app)\n",
        "    # fit the model \n",
        "    preds = clf.predict(X_test1)\n",
        "    cf_matrix = confusion_matrix(Y_test, preds)\n",
        "    print(cf_matrix)\n",
        "    # report performance\n",
        "    print('MCC:', MCC(Y_test, preds))\n",
        "    print('sensibilité :',sensibilite(Y_test, preds))\n",
        "    print('spécificité :',specifite(Y_test, preds))\n",
        "    print('balanced_accuracy :',balancedacc(Y_test, preds))\n",
        "    print('présicion_négative :',présicion_négative(Y_test, preds))\n",
        "    print('présicion_positive :',présicion_positive(Y_test, preds))\n",
        "    print('cohen_kappa_scorec :',kappa(Y_test, preds))\n",
        "    y_pred_proba = clf.predict_proba(X_test1)[::,1]\n",
        "    fpr, tpr, _ = metrics.roc_curve(Y_test,  y_pred_proba)\n",
        "    auc = metrics.roc_auc_score(Y_test, y_pred_proba)\n",
        "    plt.plot(fpr,tpr,label=\"courbe roc, auc=\"+str(auc))\n",
        "    plt.legend(loc=4)\n",
        "    plt.show()\n"
      ],
      "metadata": {
        "colab": {
          "base_uri": "https://localhost:8080/",
          "height": 1000
        },
        "id": "0J4BqzJU6wBZ",
        "outputId": "45d676f5-20c1-496d-b2e9-f5220e4fa6f8"
      },
      "execution_count": 66,
      "outputs": [
        {
          "output_type": "stream",
          "name": "stdout",
          "text": [
            "############################\n",
            "XGBClassifier\n",
            "[[23  8]\n",
            " [ 8 12]]\n",
            "MCC: 0.3419354838709677\n",
            "sensibilité : 0.6\n",
            "spécificité : 0.7419354838709677\n",
            "balanced_accuracy : 0.6709677419354838\n",
            "présicion_négative : 0.7419354838709677\n",
            "présicion_positive : 0.6\n",
            "cohen_kappa_scorec : 0.3419354838709677\n"
          ]
        },
        {
          "output_type": "display_data",
          "data": {
            "image/png": "[encoded data removed]",
            "text/plain": [
              "<Figure size 432x288 with 1 Axes>"
            ]
          },
          "metadata": {
            "needs_background": "light"
          }
        },
        {
          "output_type": "stream",
          "name": "stdout",
          "text": [
            "############################\n",
            "LogisticRegression\n",
            "[[22  9]\n",
            " [ 7 13]]\n",
            "MCC: 0.3545672989166052\n",
            "sensibilité : 0.65\n",
            "spécificité : 0.7096774193548387\n",
            "balanced_accuracy : 0.6747648902821317\n",
            "présicion_négative : 0.7586206896551724\n",
            "présicion_positive : 0.5909090909090909\n",
            "cohen_kappa_scorec : 0.3534072900158479\n"
          ]
        },
        {
          "output_type": "display_data",
          "data": {
            "image/png": "[encoded data removed]",
            "text/plain": [
              "<Figure size 432x288 with 1 Axes>"
            ]
          },
          "metadata": {
            "needs_background": "light"
          }
        },
        {
          "output_type": "stream",
          "name": "stdout",
          "text": [
            "############################\n",
            "RandomForestClassifier\n",
            "[[22  9]\n",
            " [ 8 12]]\n",
            "MCC: 0.30720983087188436\n",
            "sensibilité : 0.6\n",
            "spécificité : 0.7096774193548387\n",
            "balanced_accuracy : 0.6523809523809523\n",
            "présicion_négative : 0.7333333333333333\n",
            "présicion_positive : 0.5714285714285714\n",
            "cohen_kappa_scorec : 0.3069544364508394\n"
          ]
        },
        {
          "output_type": "display_data",
          "data": {
            "image/png": "[encoded data removed]",
            "text/plain": [
              "<Figure size 432x288 with 1 Axes>"
            ]
          },
          "metadata": {
            "needs_background": "light"
          }
        },
        {
          "output_type": "stream",
          "name": "stdout",
          "text": [
            "############################\n",
            "GradientBoostingClassifier\n",
            "[[21 10]\n",
            " [ 9 11]]\n",
            "MCC: 0.2256072195465401\n",
            "sensibilité : 0.55\n",
            "spécificité : 0.6774193548387096\n",
            "balanced_accuracy : 0.611904761904762\n",
            "présicion_négative : 0.7\n",
            "présicion_positive : 0.5238095238095238\n",
            "cohen_kappa_scorec : 0.22541966426858517\n"
          ]
        },
        {
          "output_type": "display_data",
          "data": {
            "image/png": "[encoded data removed]",
            "text/plain": [
              "<Figure size 432x288 with 1 Axes>"
            ]
          },
          "metadata": {
            "needs_background": "light"
          }
        },
        {
          "output_type": "stream",
          "name": "stdout",
          "text": [
            "############################\n",
            "Gaussian\n",
            "[[20 11]\n",
            " [ 7 13]]\n",
            "MCC: 0.2887139324089246\n",
            "sensibilité : 0.65\n",
            "spécificité : 0.6451612903225806\n",
            "balanced_accuracy : 0.6412037037037037\n",
            "présicion_négative : 0.7407407407407407\n",
            "présicion_positive : 0.5416666666666666\n",
            "cohen_kappa_scorec : 0.2850467289719626\n"
          ]
        },
        {
          "output_type": "display_data",
          "data": {
            "image/png": "[encoded data removed]",
            "text/plain": [
              "<Figure size 432x288 with 1 Axes>"
            ]
          },
          "metadata": {
            "needs_background": "light"
          }
        },
        {
          "output_type": "stream",
          "name": "stdout",
          "text": [
            "############################\n",
            "KNN\n",
            "[[21 10]\n",
            " [ 7 13]]\n",
            "MCC: 0.3212604471372264\n",
            "sensibilité : 0.65\n",
            "spécificité : 0.6774193548387096\n",
            "balanced_accuracy : 0.6576086956521738\n",
            "présicion_négative : 0.75\n",
            "présicion_positive : 0.5652173913043478\n",
            "cohen_kappa_scorec : 0.31893165750196384\n"
          ]
        },
        {
          "output_type": "display_data",
          "data": {
            "image/png": "[encoded data removed]",
            "text/plain": [
              "<Figure size 432x288 with 1 Axes>"
            ]
          },
          "metadata": {
            "needs_background": "light"
          }
        },
        {
          "output_type": "stream",
          "name": "stdout",
          "text": [
            "############################\n",
            "MLPC\n",
            "[[23  8]\n",
            " [ 7 13]]\n",
            "MCC: 0.38881244219722866\n",
            "sensibilité : 0.65\n",
            "spécificité : 0.7419354838709677\n",
            "balanced_accuracy : 0.6928571428571428\n",
            "présicion_négative : 0.7666666666666667\n",
            "présicion_positive : 0.6190476190476191\n",
            "cohen_kappa_scorec : 0.38848920863309355\n"
          ]
        },
        {
          "output_type": "stream",
          "name": "stderr",
          "text": [
            "/usr/local/lib/python3.7/dist-packages/sklearn/neural_network/_multilayer_perceptron.py:696: ConvergenceWarning: Stochastic Optimizer: Maximum iterations (300) reached and the optimization hasn't converged yet.\n",
            "  ConvergenceWarning,\n"
          ]
        },
        {
          "output_type": "display_data",
          "data": {
            "image/png": "[encoded data removed]",
            "text/plain": [
              "<Figure size 432x288 with 1 Axes>"
            ]
          },
          "metadata": {
            "needs_background": "light"
          }
        }
      ]
    },
    {
      "cell_type": "markdown",
      "source": [
        "*SVM*"
      ],
      "metadata": {
        "id": "gfgijmuzEMx9"
      }
    },
    {
      "cell_type": "code",
      "source": [
        "Classifier_SVM = svm.SVC(kernel='rbf',gamma=0.05,C=12)\n",
        "Classifier_SVM.fit(X_app1, Y_app)\n",
        "preds_svm = Classifier_SVM.predict(X_test1)"
      ],
      "metadata": {
        "id": "O1kw7H75Eaja"
      },
      "execution_count": 67,
      "outputs": []
    },
    {
      "cell_type": "code",
      "metadata": {
        "colab": {
          "base_uri": "https://localhost:8080/"
        },
        "outputId": "652cb98f-66a1-4ba9-bcc2-027dfa2fcc4c",
        "id": "CDgNGdDMEajc"
      },
      "source": [
        "preds_svm"
      ],
      "execution_count": 68,
      "outputs": [
        {
          "output_type": "execute_result",
          "data": {
            "text/plain": [
              "array([0, 1, 1, 1, 0, 0, 1, 0, 0, 0, 1, 1, 1, 0, 1, 0, 0, 0, 0, 0, 0, 0,\n",
              "       0, 0, 0, 1, 0, 1, 0, 0, 0, 0, 0, 0, 1, 0, 1, 1, 1, 1, 1, 0, 0, 1,\n",
              "       1, 0, 0, 0, 1, 1, 1])"
            ]
          },
          "metadata": {},
          "execution_count": 68
        }
      ]
    },
    {
      "cell_type": "code",
      "source": [
        "cf_matrix = confusion_matrix(Y_test, preds_svm)\n",
        "print(cf_matrix)\n",
        "# report performance\n",
        "print('MCC:', MCC(Y_test, preds_svm))\n",
        "print('sensibilité :',sensibilite(Y_test, preds_svm))\n",
        "print('spécificité :',specifite(Y_test, preds_svm))\n",
        "print('balanced_accuracy :',balancedacc(Y_test, preds_svm))\n",
        "print('présicion_négative :',présicion_négative(Y_test, preds_svm))\n",
        "print('présicion_positive :',présicion_positive(Y_test, preds_svm))\n",
        "print('cohen_kappa_scorec :',kappa(Y_test, preds_svm))\n",
        "print('AUC :',roc_auc_score(Y_test, Classifier_SVM.decision_function(X_test1)))\n"
      ],
      "metadata": {
        "colab": {
          "base_uri": "https://localhost:8080/"
        },
        "id": "ryFuUXr6Fb9e",
        "outputId": "226d1d0e-16ef-4be0-fb8e-993d7c29bb46"
      },
      "execution_count": 69,
      "outputs": [
        {
          "output_type": "stream",
          "name": "stdout",
          "text": [
            "[[23  8]\n",
            " [ 7 13]]\n",
            "MCC: 0.38881244219722866\n",
            "sensibilité : 0.65\n",
            "spécificité : 0.7419354838709677\n",
            "balanced_accuracy : 0.6928571428571428\n",
            "présicion_négative : 0.7666666666666667\n",
            "présicion_positive : 0.6190476190476191\n",
            "cohen_kappa_scorec : 0.38848920863309355\n",
            "AUC : 0.7096774193548386\n"
          ]
        }
      ]
    },
    {
      "cell_type": "markdown",
      "source": [
        "# Logistique"
      ],
      "metadata": {
        "id": "yuZrcmR48gGR"
      }
    },
    {
      "cell_type": "code",
      "source": [
        "Classifier2 = LogisticRegression(max_iter=100, solver='lbfgs', class_weight='balanced')"
      ],
      "metadata": {
        "id": "Wbqzw4Yw8e87"
      },
      "execution_count": 70,
      "outputs": []
    },
    {
      "cell_type": "code",
      "source": [
        "# get a list of models to evaluate\n",
        "def get_models2():\n",
        "\tmodels = dict()\n",
        "\tfor i in range(1, 7):\n",
        "\t\trfe = RFE(Classifier2, n_features_to_select=i)\n",
        "\t\tmodels[str(i)] = Pipeline(steps=[('s',rfe),('m',Classifier2)])\n",
        "\treturn models"
      ],
      "metadata": {
        "id": "uccYZbj78e88"
      },
      "execution_count": 71,
      "outputs": []
    },
    {
      "cell_type": "code",
      "source": [
        "# get the models to evaluate\n",
        "models2 = get_models2()\n",
        "# evaluate the models and store results\n",
        "results, names = list(), list()\n",
        "for name, model in models2.items():\n",
        "  model.fit(X_app, Y_app)\n",
        "  preds = model.predict(X_test)\n",
        "  score = MCC(Y_test, preds)\n",
        "  results.append(score)\n",
        "  names.append(name)\n",
        "  print('- %s :  %.3f' % (name,score))"
      ],
      "metadata": {
        "colab": {
          "base_uri": "https://localhost:8080/"
        },
        "outputId": "7dfcae44-8a8e-4555-fef7-ba2baa10ec60",
        "id": "UmucjM_z8e88"
      },
      "execution_count": 72,
      "outputs": [
        {
          "output_type": "stream",
          "name": "stdout",
          "text": [
            "- 1 :  0.402\n",
            "- 2 :  0.355\n",
            "- 3 :  0.389\n",
            "- 4 :  0.389\n",
            "- 5 :  0.389\n",
            "- 6 :  0.389\n"
          ]
        }
      ]
    },
    {
      "cell_type": "code",
      "source": [
        "# create pipeline\n",
        "rfe2 = RFE(estimator=Classifier2, n_features_to_select=1)\n",
        "pipeline2 = Pipeline(steps=[('s',rfe2),('m',Classifier2)])\n",
        "# fit the model \n",
        "pipeline2.fit(X_app, Y_app)"
      ],
      "metadata": {
        "colab": {
          "base_uri": "https://localhost:8080/"
        },
        "outputId": "44945879-70fc-4728-d7ca-734cf7296125",
        "id": "sJJ_hGdI8e88"
      },
      "execution_count": 73,
      "outputs": [
        {
          "output_type": "execute_result",
          "data": {
            "text/plain": [
              "Pipeline(steps=[('s',\n",
              "                 RFE(estimator=LogisticRegression(class_weight='balanced'),\n",
              "                     n_features_to_select=1)),\n",
              "                ('m', LogisticRegression(class_weight='balanced'))])"
            ]
          },
          "metadata": {},
          "execution_count": 73
        }
      ]
    },
    {
      "cell_type": "code",
      "source": [
        "pipeline2[\"s\"].support_"
      ],
      "metadata": {
        "colab": {
          "base_uri": "https://localhost:8080/"
        },
        "outputId": "4645c5ac-e2c5-491c-bac7-0f6275ddaed8",
        "id": "ccLBbbnB8e8-"
      },
      "execution_count": 74,
      "outputs": [
        {
          "output_type": "execute_result",
          "data": {
            "text/plain": [
              "array([False, False, False, False, False,  True])"
            ]
          },
          "metadata": {},
          "execution_count": 74
        }
      ]
    },
    {
      "cell_type": "code",
      "metadata": {
        "id": "4bczmFHG8e8-"
      },
      "source": [
        "preds2 = pipeline2.predict(X_test)"
      ],
      "execution_count": 75,
      "outputs": []
    },
    {
      "cell_type": "code",
      "metadata": {
        "colab": {
          "base_uri": "https://localhost:8080/"
        },
        "outputId": "d2c74e3e-5234-42c2-8ff0-9338a019c18a",
        "id": "5cVqLxPC8e8-"
      },
      "source": [
        "preds2"
      ],
      "execution_count": 76,
      "outputs": [
        {
          "output_type": "execute_result",
          "data": {
            "text/plain": [
              "array([0, 1, 1, 1, 0, 0, 1, 0, 0, 0, 1, 1, 1, 0, 1, 0, 0, 0, 0, 0, 0, 0,\n",
              "       1, 1, 0, 1, 0, 1, 0, 0, 0, 0, 0, 0, 1, 0, 0, 1, 1, 1, 1, 0, 0, 1,\n",
              "       1, 0, 0, 1, 1, 1, 1])"
            ]
          },
          "metadata": {},
          "execution_count": 76
        }
      ]
    },
    {
      "cell_type": "code",
      "metadata": {
        "colab": {
          "base_uri": "https://localhost:8080/"
        },
        "outputId": "b8c27701-caa6-4e9c-a078-f28480e28672",
        "id": "G_jj0nRr8e8_"
      },
      "source": [
        "cf_matrix = confusion_matrix(Y_test, preds2)\n",
        "print(cf_matrix)"
      ],
      "execution_count": 77,
      "outputs": [
        {
          "output_type": "stream",
          "name": "stdout",
          "text": [
            "[[22  9]\n",
            " [ 6 14]]\n"
          ]
        }
      ]
    },
    {
      "cell_type": "code",
      "source": [
        "MCC(Y_test, preds2)"
      ],
      "metadata": {
        "colab": {
          "base_uri": "https://localhost:8080/"
        },
        "outputId": "3671e59c-dd73-4659-8530-644ebde9b952",
        "id": "fCycv5Aw8e8_"
      },
      "execution_count": 78,
      "outputs": [
        {
          "output_type": "execute_result",
          "data": {
            "text/plain": [
              "0.4019711998662833"
            ]
          },
          "metadata": {},
          "execution_count": 78
        }
      ]
    },
    {
      "cell_type": "code",
      "source": [
        "recall(Y_test, preds2)"
      ],
      "metadata": {
        "colab": {
          "base_uri": "https://localhost:8080/"
        },
        "outputId": "4f17c21f-0be7-4ac9-b556-2513c66c3bc3",
        "id": "kcr4pjWi8e8_"
      },
      "execution_count": 79,
      "outputs": [
        {
          "output_type": "execute_result",
          "data": {
            "text/plain": [
              "0.7"
            ]
          },
          "metadata": {},
          "execution_count": 79
        }
      ]
    },
    {
      "cell_type": "code",
      "source": [
        "sensibilite(Y_test, preds2)"
      ],
      "metadata": {
        "colab": {
          "base_uri": "https://localhost:8080/"
        },
        "outputId": "266a29fb-a380-40e9-cd29-d7edacd66c25",
        "id": "k-v1iZRv8e9A"
      },
      "execution_count": 80,
      "outputs": [
        {
          "output_type": "execute_result",
          "data": {
            "text/plain": [
              "0.7"
            ]
          },
          "metadata": {},
          "execution_count": 80
        }
      ]
    },
    {
      "cell_type": "code",
      "source": [
        "specifite(Y_test, preds2)"
      ],
      "metadata": {
        "colab": {
          "base_uri": "https://localhost:8080/"
        },
        "outputId": "4b02b90c-d867-4fd6-ed21-1d857888a323",
        "id": "ez9K_IRT8e9A"
      },
      "execution_count": 81,
      "outputs": [
        {
          "output_type": "execute_result",
          "data": {
            "text/plain": [
              "0.7096774193548387"
            ]
          },
          "metadata": {},
          "execution_count": 81
        }
      ]
    },
    {
      "cell_type": "code",
      "source": [
        "présicion_négative(Y_test, preds2)"
      ],
      "metadata": {
        "colab": {
          "base_uri": "https://localhost:8080/"
        },
        "outputId": "5719819a-a23c-40c2-be7b-4bf8194e53a0",
        "id": "t1WLtMh18e9B"
      },
      "execution_count": 82,
      "outputs": [
        {
          "output_type": "execute_result",
          "data": {
            "text/plain": [
              "0.7857142857142857"
            ]
          },
          "metadata": {},
          "execution_count": 82
        }
      ]
    },
    {
      "cell_type": "code",
      "source": [
        "présicion_positive(Y_test, preds2)"
      ],
      "metadata": {
        "colab": {
          "base_uri": "https://localhost:8080/"
        },
        "outputId": "05448c72-f906-4f13-8771-a9bc5fe31ecb",
        "id": "u2cwsLE48e9B"
      },
      "execution_count": 83,
      "outputs": [
        {
          "output_type": "execute_result",
          "data": {
            "text/plain": [
              "0.6086956521739131"
            ]
          },
          "metadata": {},
          "execution_count": 83
        }
      ]
    },
    {
      "cell_type": "code",
      "source": [
        "balancedacc(Y_test, preds2)"
      ],
      "metadata": {
        "colab": {
          "base_uri": "https://localhost:8080/"
        },
        "outputId": "05f1b937-4c2e-4647-d955-b48542dab336",
        "id": "TrZ4tan78e9B"
      },
      "execution_count": 84,
      "outputs": [
        {
          "output_type": "execute_result",
          "data": {
            "text/plain": [
              "0.6972049689440993"
            ]
          },
          "metadata": {},
          "execution_count": 84
        }
      ]
    },
    {
      "cell_type": "code",
      "source": [
        "kappa(Y_test, preds2)"
      ],
      "metadata": {
        "colab": {
          "base_uri": "https://localhost:8080/"
        },
        "outputId": "9793bc42-feda-446c-b7ad-9a0906c7cf78",
        "id": "mz7CHLMC8e9C"
      },
      "execution_count": 85,
      "outputs": [
        {
          "output_type": "execute_result",
          "data": {
            "text/plain": [
              "0.39905734485467403"
            ]
          },
          "metadata": {},
          "execution_count": 85
        }
      ]
    },
    {
      "cell_type": "code",
      "source": [
        "y_pred_proba = pipeline2.predict_proba(X_test)[::,1]\n",
        "fpr, tpr, _ = metrics.roc_curve(Y_test,  y_pred_proba)\n",
        "auc = metrics.roc_auc_score(Y_test, y_pred_proba)\n",
        "plt.plot(fpr,tpr,label=\"logistique, auc=\"+str(auc))\n",
        "plt.legend(loc=4)\n",
        "plt.show()"
      ],
      "metadata": {
        "colab": {
          "base_uri": "https://localhost:8080/",
          "height": 265
        },
        "outputId": "d9729139-c2e9-40df-8fb9-6843e872e9fd",
        "id": "rNP9NIG78e9C"
      },
      "execution_count": 86,
      "outputs": [
        {
          "output_type": "display_data",
          "data": {
            "image/png": "[encoded data removed]",
            "text/plain": [
              "<Figure size 432x288 with 1 Axes>"
            ]
          },
          "metadata": {
            "needs_background": "light"
          }
        }
      ]
    },
    {
      "cell_type": "code",
      "source": [
        "variable2=pipeline2[\"s\"].support_"
      ],
      "metadata": {
        "id": "EazgGnttJPga"
      },
      "execution_count": 87,
      "outputs": []
    },
    {
      "cell_type": "code",
      "source": [
        "variable2"
      ],
      "metadata": {
        "outputId": "33f374fd-3a88-4f9f-ed6a-3f4aa13040d1",
        "colab": {
          "base_uri": "https://localhost:8080/"
        },
        "id": "jgiu3ob9JPgb"
      },
      "execution_count": 88,
      "outputs": [
        {
          "output_type": "execute_result",
          "data": {
            "text/plain": [
              "array([False, False, False, False, False,  True])"
            ]
          },
          "metadata": {},
          "execution_count": 88
        }
      ]
    },
    {
      "cell_type": "code",
      "source": [
        "X_app2 = X_app.loc[:, X_app.columns != \"AXE11\"]\n",
        "X_app2 = X_app2.loc[:, X_app2.columns != \"AXE12\"]\n",
        "X_app2 = X_app2.loc[:, X_app2.columns != \"AXE2\"]\n",
        "X_app2 = X_app2.loc[:, X_app2.columns != \"AXE3\"]\n",
        "X_app2 = X_app2.loc[:, X_app2.columns != \"AXE4\"]"
      ],
      "metadata": {
        "id": "3Dws4LSSJPgc"
      },
      "execution_count": 89,
      "outputs": []
    },
    {
      "cell_type": "code",
      "source": [
        "X_app2"
      ],
      "metadata": {
        "id": "ibomTy9VJPgd",
        "outputId": "8eb7d3f3-918d-4893-8cc9-efc18ca8b976",
        "colab": {
          "base_uri": "https://localhost:8080/",
          "height": 423
        }
      },
      "execution_count": 90,
      "outputs": [
        {
          "output_type": "execute_result",
          "data": {
            "text/html": [
              "\n",
              "  <div id=\"df-2694c57c-8afa-4676-b820-f097e90eb48e\">\n",
              "    <div class=\"colab-df-container\">\n",
              "      <div>\n",
              "<style scoped>\n",
              "    .dataframe tbody tr th:only-of-type {\n",
              "        vertical-align: middle;\n",
              "    }\n",
              "\n",
              "    .dataframe tbody tr th {\n",
              "        vertical-align: top;\n",
              "    }\n",
              "\n",
              "    .dataframe thead th {\n",
              "        text-align: right;\n",
              "    }\n",
              "</style>\n",
              "<table border=\"1\" class=\"dataframe\">\n",
              "  <thead>\n",
              "    <tr style=\"text-align: right;\">\n",
              "      <th></th>\n",
              "      <th>AXE5</th>\n",
              "    </tr>\n",
              "  </thead>\n",
              "  <tbody>\n",
              "    <tr>\n",
              "      <th>0</th>\n",
              "      <td>-0.173420</td>\n",
              "    </tr>\n",
              "    <tr>\n",
              "      <th>1</th>\n",
              "      <td>-0.161534</td>\n",
              "    </tr>\n",
              "    <tr>\n",
              "      <th>2</th>\n",
              "      <td>-0.161534</td>\n",
              "    </tr>\n",
              "    <tr>\n",
              "      <th>3</th>\n",
              "      <td>-0.036805</td>\n",
              "    </tr>\n",
              "    <tr>\n",
              "      <th>4</th>\n",
              "      <td>0.038151</td>\n",
              "    </tr>\n",
              "    <tr>\n",
              "      <th>...</th>\n",
              "      <td>...</td>\n",
              "    </tr>\n",
              "    <tr>\n",
              "      <th>198</th>\n",
              "      <td>-0.093039</td>\n",
              "    </tr>\n",
              "    <tr>\n",
              "      <th>199</th>\n",
              "      <td>-0.297170</td>\n",
              "    </tr>\n",
              "    <tr>\n",
              "      <th>200</th>\n",
              "      <td>-0.279362</td>\n",
              "    </tr>\n",
              "    <tr>\n",
              "      <th>201</th>\n",
              "      <td>0.121188</td>\n",
              "    </tr>\n",
              "    <tr>\n",
              "      <th>202</th>\n",
              "      <td>0.200396</td>\n",
              "    </tr>\n",
              "  </tbody>\n",
              "</table>\n",
              "<p>203 rows × 1 columns</p>\n",
              "</div>\n",
              "      <button class=\"colab-df-convert\" onclick=\"convertToInteractive('df-2694c57c-8afa-4676-b820-f097e90eb48e')\"\n",
              "              title=\"Convert this dataframe to an interactive table.\"\n",
              "              style=\"display:none;\">\n",
              "        \n",
              "  <svg xmlns=\"http://www.w3.org/2000/svg\" height=\"24px\"viewBox=\"0 0 24 24\"\n",
              "       width=\"24px\">\n",
              "    <path d=\"M0 0h24v24H0V0z\" fill=\"none\"/>\n",
              "    <path d=\"M18.56 5.44l.94 2.06.94-2.06 2.06-.94-2.06-.94-.94-2.06-.94 2.06-2.06.94zm-11 1L8.5 8.5l.94-2.06 2.06-.94-2.06-.94L8.5 2.5l-.94 2.06-2.06.94zm10 10l.94 2.06.94-2.06 2.06-.94-2.06-.94-.94-2.06-.94 2.06-2.06.94z\"/><path d=\"M17.41 7.96l-1.37-1.37c-.4-.4-.92-.59-1.43-.59-.52 0-1.04.2-1.43.59L10.3 9.45l-7.72 7.72c-.78.78-.78 2.05 0 2.83L4 21.41c.39.39.9.59 1.41.59.51 0 1.02-.2 1.41-.59l7.78-7.78 2.81-2.81c.8-.78.8-2.07 0-2.86zM5.41 20L4 18.59l7.72-7.72 1.47 1.35L5.41 20z\"/>\n",
              "  </svg>\n",
              "      </button>\n",
              "      \n",
              "  <style>\n",
              "    .colab-df-container {\n",
              "      display:flex;\n",
              "      flex-wrap:wrap;\n",
              "      gap: 12px;\n",
              "    }\n",
              "\n",
              "    .colab-df-convert {\n",
              "      background-color: #E8F0FE;\n",
              "      border: none;\n",
              "      border-radius: 50%;\n",
              "      cursor: pointer;\n",
              "      display: none;\n",
              "      fill: #1967D2;\n",
              "      height: 32px;\n",
              "      padding: 0 0 0 0;\n",
              "      width: 32px;\n",
              "    }\n",
              "\n",
              "    .colab-df-convert:hover {\n",
              "      background-color: #E2EBFA;\n",
              "      box-shadow: 0px 1px 2px rgba(60, 64, 67, 0.3), 0px 1px 3px 1px rgba(60, 64, 67, 0.15);\n",
              "      fill: #174EA6;\n",
              "    }\n",
              "\n",
              "    [theme=dark] .colab-df-convert {\n",
              "      background-color: #3B4455;\n",
              "      fill: #D2E3FC;\n",
              "    }\n",
              "\n",
              "    [theme=dark] .colab-df-convert:hover {\n",
              "      background-color: #434B5C;\n",
              "      box-shadow: 0px 1px 3px 1px rgba(0, 0, 0, 0.15);\n",
              "      filter: drop-shadow(0px 1px 2px rgba(0, 0, 0, 0.3));\n",
              "      fill: #FFFFFF;\n",
              "    }\n",
              "  </style>\n",
              "\n",
              "      <script>\n",
              "        const buttonEl =\n",
              "          document.querySelector('#df-2694c57c-8afa-4676-b820-f097e90eb48e button.colab-df-convert');\n",
              "        buttonEl.style.display =\n",
              "          google.colab.kernel.accessAllowed ? 'block' : 'none';\n",
              "\n",
              "        async function convertToInteractive(key) {\n",
              "          const element = document.querySelector('#df-2694c57c-8afa-4676-b820-f097e90eb48e');\n",
              "          const dataTable =\n",
              "            await google.colab.kernel.invokeFunction('convertToInteractive',\n",
              "                                                     [key], {});\n",
              "          if (!dataTable) return;\n",
              "\n",
              "          const docLinkHtml = 'Like what you see? Visit the ' +\n",
              "            '<a target=\"_blank\" href=https://colab.research.google.com/notebooks/data_table.ipynb>data table notebook</a>'\n",
              "            + ' to learn more about interactive tables.';\n",
              "          element.innerHTML = '';\n",
              "          dataTable['output_type'] = 'display_data';\n",
              "          await google.colab.output.renderOutput(dataTable, element);\n",
              "          const docLink = document.createElement('div');\n",
              "          docLink.innerHTML = docLinkHtml;\n",
              "          element.appendChild(docLink);\n",
              "        }\n",
              "      </script>\n",
              "    </div>\n",
              "  </div>\n",
              "  "
            ],
            "text/plain": [
              "         AXE5\n",
              "0   -0.173420\n",
              "1   -0.161534\n",
              "2   -0.161534\n",
              "3   -0.036805\n",
              "4    0.038151\n",
              "..        ...\n",
              "198 -0.093039\n",
              "199 -0.297170\n",
              "200 -0.279362\n",
              "201  0.121188\n",
              "202  0.200396\n",
              "\n",
              "[203 rows x 1 columns]"
            ]
          },
          "metadata": {},
          "execution_count": 90
        }
      ]
    },
    {
      "cell_type": "code",
      "source": [
        "X_test2 = X_test.loc[:, X_test.columns != \"AXE11\"]\n",
        "X_test2 = X_test2.loc[:, X_test2.columns != \"AXE12\"]\n",
        "X_test2 = X_test2.loc[:, X_test2.columns != \"AXE2\"]\n",
        "X_test2 = X_test2.loc[:, X_test2.columns != \"AXE3\"]\n",
        "X_test2 = X_test2.loc[:, X_test2.columns != \"AXE4\"]"
      ],
      "metadata": {
        "id": "5AL5j0RQJPgd"
      },
      "execution_count": 91,
      "outputs": []
    },
    {
      "cell_type": "code",
      "source": [
        "X_test2"
      ],
      "metadata": {
        "id": "6LVvngFBJPge",
        "outputId": "73af85b7-857d-4d7b-d8db-e5175e715d83",
        "colab": {
          "base_uri": "https://localhost:8080/",
          "height": 1000
        }
      },
      "execution_count": 92,
      "outputs": [
        {
          "output_type": "execute_result",
          "data": {
            "text/html": [
              "\n",
              "  <div id=\"df-647bc3fb-3894-40c8-974c-9cc8bad8a527\">\n",
              "    <div class=\"colab-df-container\">\n",
              "      <div>\n",
              "<style scoped>\n",
              "    .dataframe tbody tr th:only-of-type {\n",
              "        vertical-align: middle;\n",
              "    }\n",
              "\n",
              "    .dataframe tbody tr th {\n",
              "        vertical-align: top;\n",
              "    }\n",
              "\n",
              "    .dataframe thead th {\n",
              "        text-align: right;\n",
              "    }\n",
              "</style>\n",
              "<table border=\"1\" class=\"dataframe\">\n",
              "  <thead>\n",
              "    <tr style=\"text-align: right;\">\n",
              "      <th></th>\n",
              "      <th>AXE5</th>\n",
              "    </tr>\n",
              "  </thead>\n",
              "  <tbody>\n",
              "    <tr>\n",
              "      <th>0</th>\n",
              "      <td>0.062173</td>\n",
              "    </tr>\n",
              "    <tr>\n",
              "      <th>1</th>\n",
              "      <td>-0.012560</td>\n",
              "    </tr>\n",
              "    <tr>\n",
              "      <th>2</th>\n",
              "      <td>-0.012560</td>\n",
              "    </tr>\n",
              "    <tr>\n",
              "      <th>3</th>\n",
              "      <td>-0.121500</td>\n",
              "    </tr>\n",
              "    <tr>\n",
              "      <th>4</th>\n",
              "      <td>0.278006</td>\n",
              "    </tr>\n",
              "    <tr>\n",
              "      <th>5</th>\n",
              "      <td>0.273379</td>\n",
              "    </tr>\n",
              "    <tr>\n",
              "      <th>6</th>\n",
              "      <td>-0.080940</td>\n",
              "    </tr>\n",
              "    <tr>\n",
              "      <th>7</th>\n",
              "      <td>0.224582</td>\n",
              "    </tr>\n",
              "    <tr>\n",
              "      <th>8</th>\n",
              "      <td>0.228331</td>\n",
              "    </tr>\n",
              "    <tr>\n",
              "      <th>9</th>\n",
              "      <td>0.133737</td>\n",
              "    </tr>\n",
              "    <tr>\n",
              "      <th>10</th>\n",
              "      <td>-0.195530</td>\n",
              "    </tr>\n",
              "    <tr>\n",
              "      <th>11</th>\n",
              "      <td>-0.311720</td>\n",
              "    </tr>\n",
              "    <tr>\n",
              "      <th>12</th>\n",
              "      <td>-0.131960</td>\n",
              "    </tr>\n",
              "    <tr>\n",
              "      <th>13</th>\n",
              "      <td>0.146234</td>\n",
              "    </tr>\n",
              "    <tr>\n",
              "      <th>14</th>\n",
              "      <td>-0.340590</td>\n",
              "    </tr>\n",
              "    <tr>\n",
              "      <th>15</th>\n",
              "      <td>0.213932</td>\n",
              "    </tr>\n",
              "    <tr>\n",
              "      <th>16</th>\n",
              "      <td>0.090486</td>\n",
              "    </tr>\n",
              "    <tr>\n",
              "      <th>17</th>\n",
              "      <td>0.058737</td>\n",
              "    </tr>\n",
              "    <tr>\n",
              "      <th>18</th>\n",
              "      <td>0.056395</td>\n",
              "    </tr>\n",
              "    <tr>\n",
              "      <th>19</th>\n",
              "      <td>0.048942</td>\n",
              "    </tr>\n",
              "    <tr>\n",
              "      <th>20</th>\n",
              "      <td>0.127419</td>\n",
              "    </tr>\n",
              "    <tr>\n",
              "      <th>21</th>\n",
              "      <td>0.169502</td>\n",
              "    </tr>\n",
              "    <tr>\n",
              "      <th>22</th>\n",
              "      <td>-0.013740</td>\n",
              "    </tr>\n",
              "    <tr>\n",
              "      <th>23</th>\n",
              "      <td>-0.069070</td>\n",
              "    </tr>\n",
              "    <tr>\n",
              "      <th>24</th>\n",
              "      <td>0.213304</td>\n",
              "    </tr>\n",
              "    <tr>\n",
              "      <th>25</th>\n",
              "      <td>-0.055740</td>\n",
              "    </tr>\n",
              "    <tr>\n",
              "      <th>26</th>\n",
              "      <td>0.195129</td>\n",
              "    </tr>\n",
              "    <tr>\n",
              "      <th>27</th>\n",
              "      <td>-0.761250</td>\n",
              "    </tr>\n",
              "    <tr>\n",
              "      <th>28</th>\n",
              "      <td>0.375518</td>\n",
              "    </tr>\n",
              "    <tr>\n",
              "      <th>29</th>\n",
              "      <td>0.693649</td>\n",
              "    </tr>\n",
              "    <tr>\n",
              "      <th>30</th>\n",
              "      <td>0.319655</td>\n",
              "    </tr>\n",
              "    <tr>\n",
              "      <th>31</th>\n",
              "      <td>0.319764</td>\n",
              "    </tr>\n",
              "    <tr>\n",
              "      <th>32</th>\n",
              "      <td>0.417060</td>\n",
              "    </tr>\n",
              "    <tr>\n",
              "      <th>33</th>\n",
              "      <td>0.193179</td>\n",
              "    </tr>\n",
              "    <tr>\n",
              "      <th>34</th>\n",
              "      <td>-0.212040</td>\n",
              "    </tr>\n",
              "    <tr>\n",
              "      <th>35</th>\n",
              "      <td>0.318408</td>\n",
              "    </tr>\n",
              "    <tr>\n",
              "      <th>36</th>\n",
              "      <td>0.012555</td>\n",
              "    </tr>\n",
              "    <tr>\n",
              "      <th>37</th>\n",
              "      <td>-0.362020</td>\n",
              "    </tr>\n",
              "    <tr>\n",
              "      <th>38</th>\n",
              "      <td>-0.233540</td>\n",
              "    </tr>\n",
              "    <tr>\n",
              "      <th>39</th>\n",
              "      <td>-0.360670</td>\n",
              "    </tr>\n",
              "    <tr>\n",
              "      <th>40</th>\n",
              "      <td>-0.104530</td>\n",
              "    </tr>\n",
              "    <tr>\n",
              "      <th>41</th>\n",
              "      <td>0.094912</td>\n",
              "    </tr>\n",
              "    <tr>\n",
              "      <th>42</th>\n",
              "      <td>0.550143</td>\n",
              "    </tr>\n",
              "    <tr>\n",
              "      <th>43</th>\n",
              "      <td>-0.269870</td>\n",
              "    </tr>\n",
              "    <tr>\n",
              "      <th>44</th>\n",
              "      <td>-0.327000</td>\n",
              "    </tr>\n",
              "    <tr>\n",
              "      <th>45</th>\n",
              "      <td>0.204619</td>\n",
              "    </tr>\n",
              "    <tr>\n",
              "      <th>46</th>\n",
              "      <td>0.318243</td>\n",
              "    </tr>\n",
              "    <tr>\n",
              "      <th>47</th>\n",
              "      <td>0.000863</td>\n",
              "    </tr>\n",
              "    <tr>\n",
              "      <th>48</th>\n",
              "      <td>-0.108280</td>\n",
              "    </tr>\n",
              "    <tr>\n",
              "      <th>49</th>\n",
              "      <td>-0.177130</td>\n",
              "    </tr>\n",
              "    <tr>\n",
              "      <th>50</th>\n",
              "      <td>-0.125230</td>\n",
              "    </tr>\n",
              "  </tbody>\n",
              "</table>\n",
              "</div>\n",
              "      <button class=\"colab-df-convert\" onclick=\"convertToInteractive('df-647bc3fb-3894-40c8-974c-9cc8bad8a527')\"\n",
              "              title=\"Convert this dataframe to an interactive table.\"\n",
              "              style=\"display:none;\">\n",
              "        \n",
              "  <svg xmlns=\"http://www.w3.org/2000/svg\" height=\"24px\"viewBox=\"0 0 24 24\"\n",
              "       width=\"24px\">\n",
              "    <path d=\"M0 0h24v24H0V0z\" fill=\"none\"/>\n",
              "    <path d=\"M18.56 5.44l.94 2.06.94-2.06 2.06-.94-2.06-.94-.94-2.06-.94 2.06-2.06.94zm-11 1L8.5 8.5l.94-2.06 2.06-.94-2.06-.94L8.5 2.5l-.94 2.06-2.06.94zm10 10l.94 2.06.94-2.06 2.06-.94-2.06-.94-.94-2.06-.94 2.06-2.06.94z\"/><path d=\"M17.41 7.96l-1.37-1.37c-.4-.4-.92-.59-1.43-.59-.52 0-1.04.2-1.43.59L10.3 9.45l-7.72 7.72c-.78.78-.78 2.05 0 2.83L4 21.41c.39.39.9.59 1.41.59.51 0 1.02-.2 1.41-.59l7.78-7.78 2.81-2.81c.8-.78.8-2.07 0-2.86zM5.41 20L4 18.59l7.72-7.72 1.47 1.35L5.41 20z\"/>\n",
              "  </svg>\n",
              "      </button>\n",
              "      \n",
              "  <style>\n",
              "    .colab-df-container {\n",
              "      display:flex;\n",
              "      flex-wrap:wrap;\n",
              "      gap: 12px;\n",
              "    }\n",
              "\n",
              "    .colab-df-convert {\n",
              "      background-color: #E8F0FE;\n",
              "      border: none;\n",
              "      border-radius: 50%;\n",
              "      cursor: pointer;\n",
              "      display: none;\n",
              "      fill: #1967D2;\n",
              "      height: 32px;\n",
              "      padding: 0 0 0 0;\n",
              "      width: 32px;\n",
              "    }\n",
              "\n",
              "    .colab-df-convert:hover {\n",
              "      background-color: #E2EBFA;\n",
              "      box-shadow: 0px 1px 2px rgba(60, 64, 67, 0.3), 0px 1px 3px 1px rgba(60, 64, 67, 0.15);\n",
              "      fill: #174EA6;\n",
              "    }\n",
              "\n",
              "    [theme=dark] .colab-df-convert {\n",
              "      background-color: #3B4455;\n",
              "      fill: #D2E3FC;\n",
              "    }\n",
              "\n",
              "    [theme=dark] .colab-df-convert:hover {\n",
              "      background-color: #434B5C;\n",
              "      box-shadow: 0px 1px 3px 1px rgba(0, 0, 0, 0.15);\n",
              "      filter: drop-shadow(0px 1px 2px rgba(0, 0, 0, 0.3));\n",
              "      fill: #FFFFFF;\n",
              "    }\n",
              "  </style>\n",
              "\n",
              "      <script>\n",
              "        const buttonEl =\n",
              "          document.querySelector('#df-647bc3fb-3894-40c8-974c-9cc8bad8a527 button.colab-df-convert');\n",
              "        buttonEl.style.display =\n",
              "          google.colab.kernel.accessAllowed ? 'block' : 'none';\n",
              "\n",
              "        async function convertToInteractive(key) {\n",
              "          const element = document.querySelector('#df-647bc3fb-3894-40c8-974c-9cc8bad8a527');\n",
              "          const dataTable =\n",
              "            await google.colab.kernel.invokeFunction('convertToInteractive',\n",
              "                                                     [key], {});\n",
              "          if (!dataTable) return;\n",
              "\n",
              "          const docLinkHtml = 'Like what you see? Visit the ' +\n",
              "            '<a target=\"_blank\" href=https://colab.research.google.com/notebooks/data_table.ipynb>data table notebook</a>'\n",
              "            + ' to learn more about interactive tables.';\n",
              "          element.innerHTML = '';\n",
              "          dataTable['output_type'] = 'display_data';\n",
              "          await google.colab.output.renderOutput(dataTable, element);\n",
              "          const docLink = document.createElement('div');\n",
              "          docLink.innerHTML = docLinkHtml;\n",
              "          element.appendChild(docLink);\n",
              "        }\n",
              "      </script>\n",
              "    </div>\n",
              "  </div>\n",
              "  "
            ],
            "text/plain": [
              "        AXE5\n",
              "0   0.062173\n",
              "1  -0.012560\n",
              "2  -0.012560\n",
              "3  -0.121500\n",
              "4   0.278006\n",
              "5   0.273379\n",
              "6  -0.080940\n",
              "7   0.224582\n",
              "8   0.228331\n",
              "9   0.133737\n",
              "10 -0.195530\n",
              "11 -0.311720\n",
              "12 -0.131960\n",
              "13  0.146234\n",
              "14 -0.340590\n",
              "15  0.213932\n",
              "16  0.090486\n",
              "17  0.058737\n",
              "18  0.056395\n",
              "19  0.048942\n",
              "20  0.127419\n",
              "21  0.169502\n",
              "22 -0.013740\n",
              "23 -0.069070\n",
              "24  0.213304\n",
              "25 -0.055740\n",
              "26  0.195129\n",
              "27 -0.761250\n",
              "28  0.375518\n",
              "29  0.693649\n",
              "30  0.319655\n",
              "31  0.319764\n",
              "32  0.417060\n",
              "33  0.193179\n",
              "34 -0.212040\n",
              "35  0.318408\n",
              "36  0.012555\n",
              "37 -0.362020\n",
              "38 -0.233540\n",
              "39 -0.360670\n",
              "40 -0.104530\n",
              "41  0.094912\n",
              "42  0.550143\n",
              "43 -0.269870\n",
              "44 -0.327000\n",
              "45  0.204619\n",
              "46  0.318243\n",
              "47  0.000863\n",
              "48 -0.108280\n",
              "49 -0.177130\n",
              "50 -0.125230"
            ]
          },
          "metadata": {},
          "execution_count": 92
        }
      ]
    },
    {
      "cell_type": "code",
      "source": [
        "classifiers = {\n",
        "\"XGBClassifier\": XGBClassifier(scale_pos_weight=1,learning_rate=0.5,max_depth=5,n_estimators=150,objective=\"binary:logistic\"),\n",
        "\"LogisticRegression\": LogisticRegression(max_iter=100, solver='lbfgs', class_weight='balanced'),\n",
        "\"RandomForestClassifier\": RandomForestClassifier(n_estimators=100, criterion='gini', max_depth=3 ,min_samples_split=3),\n",
        "\"GradientBoostingClassifier\":GradientBoostingClassifier(n_estimators=225, learning_rate=0.1,  max_depth=2, random_state=0,min_samples_leaf=2,subsample=1),\n",
        "\"Gaussian\":GaussianNB(),\n",
        "\"KNN\":KNeighborsClassifier(n_neighbors=6),\n",
        "\"MLPC\":MLPClassifier(hidden_layer_sizes=100,max_iter=300)\n",
        "}\n",
        "for name, clf in classifiers.items():\n",
        "    print(\"############################\")\n",
        "    print(name)\n",
        "    # fit the model\n",
        "    clf.fit(X_app2,Y_app)\n",
        "    # fit the model \n",
        "    preds = clf.predict(X_test2)\n",
        "    cf_matrix = confusion_matrix(Y_test, preds)\n",
        "    print(cf_matrix)\n",
        "    # report performance\n",
        "    print('MCC:', MCC(Y_test, preds))\n",
        "    print('sensibilité :',sensibilite(Y_test, preds))\n",
        "    print('spécificité :',specifite(Y_test, preds))\n",
        "    print('balanced_accuracy :',balancedacc(Y_test, preds))\n",
        "    print('présicion_négative :',présicion_négative(Y_test, preds))\n",
        "    print('présicion_positive :',présicion_positive(Y_test, preds))\n",
        "    print('cohen_kappa_scorec :',kappa(Y_test, preds))\n",
        "    y_pred_proba = clf.predict_proba(X_test2)[::,1]\n",
        "    fpr, tpr, _ = metrics.roc_curve(Y_test,  y_pred_proba)\n",
        "    auc = metrics.roc_auc_score(Y_test, y_pred_proba)\n",
        "    plt.plot(fpr,tpr,label=\"courbe roc, auc=\"+str(auc))\n",
        "    plt.legend(loc=4)\n",
        "    plt.show()\n"
      ],
      "metadata": {
        "id": "JRa0_EzOJPgf",
        "colab": {
          "base_uri": "https://localhost:8080/",
          "height": 1000
        },
        "outputId": "09ecef51-05af-4197-e205-ab261e83e145"
      },
      "execution_count": 93,
      "outputs": [
        {
          "output_type": "stream",
          "name": "stdout",
          "text": [
            "############################\n",
            "XGBClassifier\n",
            "[[17 14]\n",
            " [ 7 13]]\n",
            "MCC: 0.19405362670108048\n",
            "sensibilité : 0.65\n",
            "spécificité : 0.5483870967741935\n",
            "balanced_accuracy : 0.5949074074074074\n",
            "présicion_négative : 0.7083333333333334\n",
            "présicion_positive : 0.48148148148148145\n",
            "cohen_kappa_scorec : 0.18678815489749423\n"
          ]
        },
        {
          "output_type": "display_data",
          "data": {
            "image/png": "[encoded data removed]",
            "text/plain": [
              "<Figure size 432x288 with 1 Axes>"
            ]
          },
          "metadata": {
            "needs_background": "light"
          }
        },
        {
          "output_type": "stream",
          "name": "stdout",
          "text": [
            "############################\n",
            "LogisticRegression\n",
            "[[22  9]\n",
            " [ 6 14]]\n",
            "MCC: 0.4019711998662833\n",
            "sensibilité : 0.7\n",
            "spécificité : 0.7096774193548387\n",
            "balanced_accuracy : 0.6972049689440993\n",
            "présicion_négative : 0.7857142857142857\n",
            "présicion_positive : 0.6086956521739131\n",
            "cohen_kappa_scorec : 0.39905734485467403\n"
          ]
        },
        {
          "output_type": "display_data",
          "data": {
            "image/png": "[encoded data removed]",
            "text/plain": [
              "<Figure size 432x288 with 1 Axes>"
            ]
          },
          "metadata": {
            "needs_background": "light"
          }
        },
        {
          "output_type": "stream",
          "name": "stdout",
          "text": [
            "############################\n",
            "RandomForestClassifier\n",
            "[[17 14]\n",
            " [ 6 14]]\n",
            "MCC: 0.24371482196617178\n",
            "sensibilité : 0.7\n",
            "spécificité : 0.5483870967741935\n",
            "balanced_accuracy : 0.6195652173913043\n",
            "présicion_négative : 0.7391304347826086\n",
            "présicion_positive : 0.5\n",
            "cohen_kappa_scorec : 0.2319277108433735\n"
          ]
        },
        {
          "output_type": "display_data",
          "data": {
            "image/png": "[encoded data removed]",
            "text/plain": [
              "<Figure size 432x288 with 1 Axes>"
            ]
          },
          "metadata": {
            "needs_background": "light"
          }
        },
        {
          "output_type": "stream",
          "name": "stdout",
          "text": [
            "############################\n",
            "GradientBoostingClassifier\n",
            "[[17 14]\n",
            " [ 8 12]]\n",
            "MCC: 0.14492232881643244\n",
            "sensibilité : 0.6\n",
            "spécificité : 0.5483870967741935\n",
            "balanced_accuracy : 0.5707692307692308\n",
            "présicion_négative : 0.68\n",
            "présicion_positive : 0.46153846153846156\n",
            "cohen_kappa_scorec : 0.1408882082695253\n"
          ]
        },
        {
          "output_type": "display_data",
          "data": {
            "image/png": "[encoded data removed]",
            "text/plain": [
              "<Figure size 432x288 with 1 Axes>"
            ]
          },
          "metadata": {
            "needs_background": "light"
          }
        },
        {
          "output_type": "stream",
          "name": "stdout",
          "text": [
            "############################\n",
            "Gaussian\n",
            "[[22  9]\n",
            " [ 6 14]]\n",
            "MCC: 0.4019711998662833\n",
            "sensibilité : 0.7\n",
            "spécificité : 0.7096774193548387\n",
            "balanced_accuracy : 0.6972049689440993\n",
            "présicion_négative : 0.7857142857142857\n",
            "présicion_positive : 0.6086956521739131\n",
            "cohen_kappa_scorec : 0.39905734485467403\n"
          ]
        },
        {
          "output_type": "display_data",
          "data": {
            "image/png": "[encoded data removed]",
            "text/plain": [
              "<Figure size 432x288 with 1 Axes>"
            ]
          },
          "metadata": {
            "needs_background": "light"
          }
        },
        {
          "output_type": "stream",
          "name": "stdout",
          "text": [
            "############################\n",
            "KNN\n",
            "[[19 12]\n",
            " [ 7 13]]\n",
            "MCC: 0.2567645608378097\n",
            "sensibilité : 0.65\n",
            "spécificité : 0.6129032258064516\n",
            "balanced_accuracy : 0.6253846153846154\n",
            "présicion_négative : 0.7307692307692307\n",
            "présicion_positive : 0.52\n",
            "cohen_kappa_scorec : 0.25173745173745166\n"
          ]
        },
        {
          "output_type": "display_data",
          "data": {
            "image/png": "[encoded data removed]",
            "text/plain": [
              "<Figure size 432x288 with 1 Axes>"
            ]
          },
          "metadata": {
            "needs_background": "light"
          }
        },
        {
          "output_type": "stream",
          "name": "stdout",
          "text": [
            "############################\n",
            "MLPC\n",
            "[[17 14]\n",
            " [ 6 14]]\n",
            "MCC: 0.24371482196617178\n",
            "sensibilité : 0.7\n",
            "spécificité : 0.5483870967741935\n",
            "balanced_accuracy : 0.6195652173913043\n",
            "présicion_négative : 0.7391304347826086\n",
            "présicion_positive : 0.5\n",
            "cohen_kappa_scorec : 0.2319277108433735\n"
          ]
        },
        {
          "output_type": "display_data",
          "data": {
            "image/png": "[encoded data removed]",
            "text/plain": [
              "<Figure size 432x288 with 1 Axes>"
            ]
          },
          "metadata": {
            "needs_background": "light"
          }
        }
      ]
    },
    {
      "cell_type": "markdown",
      "source": [
        "*SVM*"
      ],
      "metadata": {
        "id": "iQxU6j8xJPgg"
      }
    },
    {
      "cell_type": "code",
      "source": [
        "Classifier_SVM = svm.SVC(kernel='rbf',gamma=0.05,C=12)\n",
        "Classifier_SVM.fit(X_app2, Y_app)\n",
        "preds_svm = Classifier_SVM.predict(X_test2)"
      ],
      "metadata": {
        "id": "ZtqMoe4qJPgh"
      },
      "execution_count": 94,
      "outputs": []
    },
    {
      "cell_type": "code",
      "metadata": {
        "colab": {
          "base_uri": "https://localhost:8080/"
        },
        "outputId": "a209086d-4c10-42cf-dc74-63bbd7d90c97",
        "id": "V9EdsnGKJPgh"
      },
      "source": [
        "preds_svm"
      ],
      "execution_count": 95,
      "outputs": [
        {
          "output_type": "execute_result",
          "data": {
            "text/plain": [
              "array([0, 1, 1, 1, 0, 0, 1, 0, 0, 0, 1, 1, 1, 0, 1, 0, 0, 0, 0, 0, 0, 0,\n",
              "       1, 1, 0, 1, 0, 1, 0, 0, 0, 0, 0, 0, 1, 0, 1, 1, 1, 1, 1, 0, 0, 1,\n",
              "       1, 0, 0, 1, 1, 1, 1])"
            ]
          },
          "metadata": {},
          "execution_count": 95
        }
      ]
    },
    {
      "cell_type": "code",
      "source": [
        "cf_matrix = confusion_matrix(Y_test, preds_svm)\n",
        "print(cf_matrix)\n",
        "# report performance\n",
        "print('MCC:', MCC(Y_test, preds_svm))\n",
        "print('sensibilité :',sensibilite(Y_test, preds_svm))\n",
        "print('spécificité :',specifite(Y_test, preds_svm))\n",
        "print('balanced_accuracy :',balancedacc(Y_test, preds_svm))\n",
        "print('présicion_négative :',présicion_négative(Y_test, preds_svm))\n",
        "print('présicion_positive :',présicion_positive(Y_test, preds_svm))\n",
        "print('cohen_kappa_scorec :',kappa(Y_test, preds_svm))\n",
        "print('AUC :',roc_auc_score(Y_test, Classifier_SVM.decision_function(X_test2)))\n"
      ],
      "metadata": {
        "outputId": "6b8b2ac0-2df6-4179-fcb9-bee815171dfb",
        "colab": {
          "base_uri": "https://localhost:8080/"
        },
        "id": "KcHNhsPGJPgi"
      },
      "execution_count": 96,
      "outputs": [
        {
          "output_type": "stream",
          "name": "stdout",
          "text": [
            "[[21 10]\n",
            " [ 6 14]]\n",
            "MCC: 0.3691751922605921\n",
            "sensibilité : 0.7\n",
            "spécificité : 0.6774193548387096\n",
            "balanced_accuracy : 0.6805555555555556\n",
            "présicion_négative : 0.7777777777777778\n",
            "présicion_positive : 0.5833333333333334\n",
            "cohen_kappa_scorec : 0.36448598130841114\n",
            "AUC : 0.6919354838709677\n"
          ]
        }
      ]
    },
    {
      "cell_type": "markdown",
      "source": [
        "# Random_forest \n",
        "\n",
        "\n"
      ],
      "metadata": {
        "id": "g6cdNaJm-0_H"
      }
    },
    {
      "cell_type": "code",
      "source": [
        "Classifier3 = RandomForestClassifier(n_estimators=100, criterion='gini', max_depth=3 ,min_samples_split=3)"
      ],
      "metadata": {
        "id": "Y1s4SqZi-0_I"
      },
      "execution_count": 97,
      "outputs": []
    },
    {
      "cell_type": "code",
      "source": [
        "# get a list of models to evaluate\n",
        "def get_models3():\n",
        "\tmodels = dict()\n",
        "\tfor i in range(1, 7):\n",
        "\t\trfe = RFE(Classifier3, n_features_to_select=i)\n",
        "\t\tmodels[str(i)] = Pipeline(steps=[('s',rfe),('m',Classifier3)])\n",
        "\treturn models"
      ],
      "metadata": {
        "id": "x05FZLZg-0_J"
      },
      "execution_count": 98,
      "outputs": []
    },
    {
      "cell_type": "code",
      "source": [
        "# get the models to evaluate\n",
        "models3 = get_models3()\n",
        "# evaluate the models and store results\n",
        "results, names = list(), list()\n",
        "for name, model in models3.items():\n",
        "  model.fit(X_app, Y_app)\n",
        "  preds = model.predict(X_test)\n",
        "  score = MCC(Y_test, preds)\n",
        "  results.append(score)\n",
        "  names.append(name)\n",
        "  print('- %s :  %.3f' % (name,score))"
      ],
      "metadata": {
        "colab": {
          "base_uri": "https://localhost:8080/"
        },
        "outputId": "b91f84b9-e59e-49ee-c43c-357324d92a5a",
        "id": "jh0DuccA-0_J"
      },
      "execution_count": 99,
      "outputs": [
        {
          "output_type": "stream",
          "name": "stdout",
          "text": [
            "- 1 :  0.226\n",
            "- 2 :  0.307\n",
            "- 3 :  0.273\n",
            "- 4 :  0.307\n",
            "- 5 :  0.307\n",
            "- 6 :  0.342\n"
          ]
        }
      ]
    },
    {
      "cell_type": "code",
      "source": [
        "# create pipeline\n",
        "rfe3 = RFE(estimator=Classifier3, n_features_to_select=2)\n",
        "pipeline3 = Pipeline(steps=[('s',rfe3),('m',Classifier3)])\n",
        "# fit the model \n",
        "pipeline3.fit(X_app, Y_app)"
      ],
      "metadata": {
        "colab": {
          "base_uri": "https://localhost:8080/"
        },
        "outputId": "f2c55081-21c8-4516-90be-12abb5f2c00b",
        "id": "a3WHB-98-0_K"
      },
      "execution_count": 100,
      "outputs": [
        {
          "output_type": "execute_result",
          "data": {
            "text/plain": [
              "Pipeline(steps=[('s',\n",
              "                 RFE(estimator=RandomForestClassifier(max_depth=3,\n",
              "                                                      min_samples_split=3),\n",
              "                     n_features_to_select=2)),\n",
              "                ('m',\n",
              "                 RandomForestClassifier(max_depth=3, min_samples_split=3))])"
            ]
          },
          "metadata": {},
          "execution_count": 100
        }
      ]
    },
    {
      "cell_type": "code",
      "source": [
        "pipeline3[\"s\"].support_"
      ],
      "metadata": {
        "colab": {
          "base_uri": "https://localhost:8080/"
        },
        "outputId": "ebc89f24-0730-49ac-9698-367d992ad90a",
        "id": "d_azpNXz-0_K"
      },
      "execution_count": 101,
      "outputs": [
        {
          "output_type": "execute_result",
          "data": {
            "text/plain": [
              "array([ True, False,  True, False, False, False])"
            ]
          },
          "metadata": {},
          "execution_count": 101
        }
      ]
    },
    {
      "cell_type": "code",
      "metadata": {
        "id": "ii1FpLMg-0_L"
      },
      "source": [
        "preds3 = pipeline3.predict(X_test)"
      ],
      "execution_count": 102,
      "outputs": []
    },
    {
      "cell_type": "code",
      "metadata": {
        "colab": {
          "base_uri": "https://localhost:8080/"
        },
        "outputId": "cf296c58-0d85-464e-d32c-0a63ebfbbb2c",
        "id": "33wiMcQb-0_L"
      },
      "source": [
        "preds3"
      ],
      "execution_count": 103,
      "outputs": [
        {
          "output_type": "execute_result",
          "data": {
            "text/plain": [
              "array([0, 0, 0, 1, 0, 0, 0, 1, 0, 0, 1, 1, 1, 0, 0, 0, 1, 1, 0, 1, 0, 0,\n",
              "       0, 0, 1, 0, 0, 0, 0, 0, 0, 0, 0, 1, 0, 0, 1, 1, 1, 1, 0, 1, 1, 1,\n",
              "       1, 1, 1, 0, 0, 1, 0])"
            ]
          },
          "metadata": {},
          "execution_count": 103
        }
      ]
    },
    {
      "cell_type": "code",
      "metadata": {
        "colab": {
          "base_uri": "https://localhost:8080/"
        },
        "outputId": "a23c5fad-7c37-4097-997f-c13590af37e5",
        "id": "iI3_jea2-0_L"
      },
      "source": [
        "cf_matrix = confusion_matrix(Y_test, preds3)\n",
        "print(cf_matrix)"
      ],
      "execution_count": 104,
      "outputs": [
        {
          "output_type": "stream",
          "name": "stdout",
          "text": [
            "[[22  9]\n",
            " [ 8 12]]\n"
          ]
        }
      ]
    },
    {
      "cell_type": "code",
      "source": [
        "MCC(Y_test, preds3)"
      ],
      "metadata": {
        "colab": {
          "base_uri": "https://localhost:8080/"
        },
        "outputId": "ae8b37b4-bd94-4e45-bd02-2e06973d2409",
        "id": "xJUvxQZg-0_M"
      },
      "execution_count": 105,
      "outputs": [
        {
          "output_type": "execute_result",
          "data": {
            "text/plain": [
              "0.30720983087188436"
            ]
          },
          "metadata": {},
          "execution_count": 105
        }
      ]
    },
    {
      "cell_type": "code",
      "source": [
        "recall(Y_test, preds3)"
      ],
      "metadata": {
        "colab": {
          "base_uri": "https://localhost:8080/"
        },
        "outputId": "48a8bece-0afb-4e2c-a296-dc190ec654df",
        "id": "LVem0ZRb-0_M"
      },
      "execution_count": 106,
      "outputs": [
        {
          "output_type": "execute_result",
          "data": {
            "text/plain": [
              "0.6"
            ]
          },
          "metadata": {},
          "execution_count": 106
        }
      ]
    },
    {
      "cell_type": "code",
      "source": [
        "sensibilite(Y_test, preds3)"
      ],
      "metadata": {
        "colab": {
          "base_uri": "https://localhost:8080/"
        },
        "outputId": "83a7c1c8-c8d8-46f5-f12c-20c145d28ade",
        "id": "L_An5YFU-0_N"
      },
      "execution_count": 107,
      "outputs": [
        {
          "output_type": "execute_result",
          "data": {
            "text/plain": [
              "0.6"
            ]
          },
          "metadata": {},
          "execution_count": 107
        }
      ]
    },
    {
      "cell_type": "code",
      "source": [
        "specifite(Y_test, preds3)"
      ],
      "metadata": {
        "colab": {
          "base_uri": "https://localhost:8080/"
        },
        "outputId": "866d48ab-9976-469f-eb9c-98b264a87ac8",
        "id": "0WBPFWYm-0_N"
      },
      "execution_count": 108,
      "outputs": [
        {
          "output_type": "execute_result",
          "data": {
            "text/plain": [
              "0.7096774193548387"
            ]
          },
          "metadata": {},
          "execution_count": 108
        }
      ]
    },
    {
      "cell_type": "code",
      "source": [
        "présicion_négative(Y_test, preds3)"
      ],
      "metadata": {
        "colab": {
          "base_uri": "https://localhost:8080/"
        },
        "outputId": "518a755f-a391-4082-ea46-43235b0a6f14",
        "id": "0ycZDgBu-0_P"
      },
      "execution_count": 109,
      "outputs": [
        {
          "output_type": "execute_result",
          "data": {
            "text/plain": [
              "0.7333333333333333"
            ]
          },
          "metadata": {},
          "execution_count": 109
        }
      ]
    },
    {
      "cell_type": "code",
      "source": [
        "présicion_positive(Y_test, preds3)"
      ],
      "metadata": {
        "colab": {
          "base_uri": "https://localhost:8080/"
        },
        "outputId": "badcf806-36b4-44c7-e77c-bee433761293",
        "id": "svj5cFed-0_P"
      },
      "execution_count": 110,
      "outputs": [
        {
          "output_type": "execute_result",
          "data": {
            "text/plain": [
              "0.5714285714285714"
            ]
          },
          "metadata": {},
          "execution_count": 110
        }
      ]
    },
    {
      "cell_type": "code",
      "source": [
        "balancedacc(Y_test, preds3)"
      ],
      "metadata": {
        "colab": {
          "base_uri": "https://localhost:8080/"
        },
        "outputId": "8817aa2b-b518-4b3a-c002-38728fbe578f",
        "id": "9TrRwLzx-0_P"
      },
      "execution_count": 111,
      "outputs": [
        {
          "output_type": "execute_result",
          "data": {
            "text/plain": [
              "0.6523809523809523"
            ]
          },
          "metadata": {},
          "execution_count": 111
        }
      ]
    },
    {
      "cell_type": "code",
      "source": [
        "kappa(Y_test, preds3)"
      ],
      "metadata": {
        "colab": {
          "base_uri": "https://localhost:8080/"
        },
        "outputId": "165a6ceb-b74f-47be-ba4f-93bc807f2964",
        "id": "sTtR1ghs-0_Q"
      },
      "execution_count": 112,
      "outputs": [
        {
          "output_type": "execute_result",
          "data": {
            "text/plain": [
              "0.3069544364508394"
            ]
          },
          "metadata": {},
          "execution_count": 112
        }
      ]
    },
    {
      "cell_type": "code",
      "source": [
        "y_pred_proba = pipeline3.predict_proba(X_test)[::,1]\n",
        "fpr, tpr, _ = metrics.roc_curve(Y_test,  y_pred_proba)\n",
        "auc = metrics.roc_auc_score(Y_test, y_pred_proba)\n",
        "plt.plot(fpr,tpr,label=\"Random_forest, auc=\"+str(auc))\n",
        "plt.legend(loc=4)\n",
        "plt.show()"
      ],
      "metadata": {
        "colab": {
          "base_uri": "https://localhost:8080/",
          "height": 265
        },
        "outputId": "ca1872dc-d0fe-4c6c-d366-952abdf97ec3",
        "id": "LGQZqpTy-0_Q"
      },
      "execution_count": 113,
      "outputs": [
        {
          "output_type": "display_data",
          "data": {
            "image/png": "[encoded data removed]",
            "text/plain": [
              "<Figure size 432x288 with 1 Axes>"
            ]
          },
          "metadata": {
            "needs_background": "light"
          }
        }
      ]
    },
    {
      "cell_type": "code",
      "source": [
        "variable3=pipeline3[\"s\"].support_"
      ],
      "metadata": {
        "id": "rVpT4y9TLQBY"
      },
      "execution_count": 114,
      "outputs": []
    },
    {
      "cell_type": "code",
      "source": [
        "variable3"
      ],
      "metadata": {
        "outputId": "9d64e71f-4d52-4d9b-c247-885a8f1480ea",
        "colab": {
          "base_uri": "https://localhost:8080/"
        },
        "id": "cI-YNMQ1LQBY"
      },
      "execution_count": 115,
      "outputs": [
        {
          "output_type": "execute_result",
          "data": {
            "text/plain": [
              "array([ True, False,  True, False, False, False])"
            ]
          },
          "metadata": {},
          "execution_count": 115
        }
      ]
    },
    {
      "cell_type": "code",
      "source": [
        "X_app3 = X_app.loc[:, X_app.columns != \"AXE12\"]\n",
        "X_app3 = X_app3.loc[:, X_app3.columns != \"AXE3\"]\n",
        "X_app3 = X_app3.loc[:, X_app3.columns != \"AXE4\"]\n",
        "X_app3 = X_app3.loc[:, X_app3.columns != \"AXE5\"]"
      ],
      "metadata": {
        "id": "ewMZnfUxLQBa"
      },
      "execution_count": 116,
      "outputs": []
    },
    {
      "cell_type": "code",
      "source": [
        "X_app3"
      ],
      "metadata": {
        "outputId": "3bdbfd05-116b-402d-aafe-faa4ca01001b",
        "colab": {
          "base_uri": "https://localhost:8080/",
          "height": 423
        },
        "id": "U5Xpo68cLQBa"
      },
      "execution_count": 117,
      "outputs": [
        {
          "output_type": "execute_result",
          "data": {
            "text/html": [
              "\n",
              "  <div id=\"df-4206c9b4-8ab1-425d-91d5-579e269cf2f2\">\n",
              "    <div class=\"colab-df-container\">\n",
              "      <div>\n",
              "<style scoped>\n",
              "    .dataframe tbody tr th:only-of-type {\n",
              "        vertical-align: middle;\n",
              "    }\n",
              "\n",
              "    .dataframe tbody tr th {\n",
              "        vertical-align: top;\n",
              "    }\n",
              "\n",
              "    .dataframe thead th {\n",
              "        text-align: right;\n",
              "    }\n",
              "</style>\n",
              "<table border=\"1\" class=\"dataframe\">\n",
              "  <thead>\n",
              "    <tr style=\"text-align: right;\">\n",
              "      <th></th>\n",
              "      <th>AXE11</th>\n",
              "      <th>AXE2</th>\n",
              "    </tr>\n",
              "  </thead>\n",
              "  <tbody>\n",
              "    <tr>\n",
              "      <th>0</th>\n",
              "      <td>0.001424</td>\n",
              "      <td>-0.059472</td>\n",
              "    </tr>\n",
              "    <tr>\n",
              "      <th>1</th>\n",
              "      <td>0.001859</td>\n",
              "      <td>-0.032365</td>\n",
              "    </tr>\n",
              "    <tr>\n",
              "      <th>2</th>\n",
              "      <td>0.001859</td>\n",
              "      <td>-0.032365</td>\n",
              "    </tr>\n",
              "    <tr>\n",
              "      <th>3</th>\n",
              "      <td>-0.001565</td>\n",
              "      <td>0.052511</td>\n",
              "    </tr>\n",
              "    <tr>\n",
              "      <th>4</th>\n",
              "      <td>-0.001238</td>\n",
              "      <td>0.047796</td>\n",
              "    </tr>\n",
              "    <tr>\n",
              "      <th>...</th>\n",
              "      <td>...</td>\n",
              "      <td>...</td>\n",
              "    </tr>\n",
              "    <tr>\n",
              "      <th>198</th>\n",
              "      <td>0.002694</td>\n",
              "      <td>-0.107134</td>\n",
              "    </tr>\n",
              "    <tr>\n",
              "      <th>199</th>\n",
              "      <td>0.001341</td>\n",
              "      <td>-0.078564</td>\n",
              "    </tr>\n",
              "    <tr>\n",
              "      <th>200</th>\n",
              "      <td>0.001998</td>\n",
              "      <td>-0.123163</td>\n",
              "    </tr>\n",
              "    <tr>\n",
              "      <th>201</th>\n",
              "      <td>-0.000923</td>\n",
              "      <td>0.010676</td>\n",
              "    </tr>\n",
              "    <tr>\n",
              "      <th>202</th>\n",
              "      <td>0.001179</td>\n",
              "      <td>-0.015548</td>\n",
              "    </tr>\n",
              "  </tbody>\n",
              "</table>\n",
              "<p>203 rows × 2 columns</p>\n",
              "</div>\n",
              "      <button class=\"colab-df-convert\" onclick=\"convertToInteractive('df-4206c9b4-8ab1-425d-91d5-579e269cf2f2')\"\n",
              "              title=\"Convert this dataframe to an interactive table.\"\n",
              "              style=\"display:none;\">\n",
              "        \n",
              "  <svg xmlns=\"http://www.w3.org/2000/svg\" height=\"24px\"viewBox=\"0 0 24 24\"\n",
              "       width=\"24px\">\n",
              "    <path d=\"M0 0h24v24H0V0z\" fill=\"none\"/>\n",
              "    <path d=\"M18.56 5.44l.94 2.06.94-2.06 2.06-.94-2.06-.94-.94-2.06-.94 2.06-2.06.94zm-11 1L8.5 8.5l.94-2.06 2.06-.94-2.06-.94L8.5 2.5l-.94 2.06-2.06.94zm10 10l.94 2.06.94-2.06 2.06-.94-2.06-.94-.94-2.06-.94 2.06-2.06.94z\"/><path d=\"M17.41 7.96l-1.37-1.37c-.4-.4-.92-.59-1.43-.59-.52 0-1.04.2-1.43.59L10.3 9.45l-7.72 7.72c-.78.78-.78 2.05 0 2.83L4 21.41c.39.39.9.59 1.41.59.51 0 1.02-.2 1.41-.59l7.78-7.78 2.81-2.81c.8-.78.8-2.07 0-2.86zM5.41 20L4 18.59l7.72-7.72 1.47 1.35L5.41 20z\"/>\n",
              "  </svg>\n",
              "      </button>\n",
              "      \n",
              "  <style>\n",
              "    .colab-df-container {\n",
              "      display:flex;\n",
              "      flex-wrap:wrap;\n",
              "      gap: 12px;\n",
              "    }\n",
              "\n",
              "    .colab-df-convert {\n",
              "      background-color: #E8F0FE;\n",
              "      border: none;\n",
              "      border-radius: 50%;\n",
              "      cursor: pointer;\n",
              "      display: none;\n",
              "      fill: #1967D2;\n",
              "      height: 32px;\n",
              "      padding: 0 0 0 0;\n",
              "      width: 32px;\n",
              "    }\n",
              "\n",
              "    .colab-df-convert:hover {\n",
              "      background-color: #E2EBFA;\n",
              "      box-shadow: 0px 1px 2px rgba(60, 64, 67, 0.3), 0px 1px 3px 1px rgba(60, 64, 67, 0.15);\n",
              "      fill: #174EA6;\n",
              "    }\n",
              "\n",
              "    [theme=dark] .colab-df-convert {\n",
              "      background-color: #3B4455;\n",
              "      fill: #D2E3FC;\n",
              "    }\n",
              "\n",
              "    [theme=dark] .colab-df-convert:hover {\n",
              "      background-color: #434B5C;\n",
              "      box-shadow: 0px 1px 3px 1px rgba(0, 0, 0, 0.15);\n",
              "      filter: drop-shadow(0px 1px 2px rgba(0, 0, 0, 0.3));\n",
              "      fill: #FFFFFF;\n",
              "    }\n",
              "  </style>\n",
              "\n",
              "      <script>\n",
              "        const buttonEl =\n",
              "          document.querySelector('#df-4206c9b4-8ab1-425d-91d5-579e269cf2f2 button.colab-df-convert');\n",
              "        buttonEl.style.display =\n",
              "          google.colab.kernel.accessAllowed ? 'block' : 'none';\n",
              "\n",
              "        async function convertToInteractive(key) {\n",
              "          const element = document.querySelector('#df-4206c9b4-8ab1-425d-91d5-579e269cf2f2');\n",
              "          const dataTable =\n",
              "            await google.colab.kernel.invokeFunction('convertToInteractive',\n",
              "                                                     [key], {});\n",
              "          if (!dataTable) return;\n",
              "\n",
              "          const docLinkHtml = 'Like what you see? Visit the ' +\n",
              "            '<a target=\"_blank\" href=https://colab.research.google.com/notebooks/data_table.ipynb>data table notebook</a>'\n",
              "            + ' to learn more about interactive tables.';\n",
              "          element.innerHTML = '';\n",
              "          dataTable['output_type'] = 'display_data';\n",
              "          await google.colab.output.renderOutput(dataTable, element);\n",
              "          const docLink = document.createElement('div');\n",
              "          docLink.innerHTML = docLinkHtml;\n",
              "          element.appendChild(docLink);\n",
              "        }\n",
              "      </script>\n",
              "    </div>\n",
              "  </div>\n",
              "  "
            ],
            "text/plain": [
              "        AXE11      AXE2\n",
              "0    0.001424 -0.059472\n",
              "1    0.001859 -0.032365\n",
              "2    0.001859 -0.032365\n",
              "3   -0.001565  0.052511\n",
              "4   -0.001238  0.047796\n",
              "..        ...       ...\n",
              "198  0.002694 -0.107134\n",
              "199  0.001341 -0.078564\n",
              "200  0.001998 -0.123163\n",
              "201 -0.000923  0.010676\n",
              "202  0.001179 -0.015548\n",
              "\n",
              "[203 rows x 2 columns]"
            ]
          },
          "metadata": {},
          "execution_count": 117
        }
      ]
    },
    {
      "cell_type": "code",
      "source": [
        "X_test3 = X_test.loc[:, X_test.columns != \"AXE12\"]\n",
        "X_test3 = X_test3.loc[:, X_test3.columns != \"AXE3\"]\n",
        "X_test3 = X_test3.loc[:, X_test3.columns != \"AXE4\"]\n",
        "X_test3 = X_test3.loc[:, X_test3.columns != \"AXE5\"]"
      ],
      "metadata": {
        "id": "ACYf_doFLQBb"
      },
      "execution_count": 118,
      "outputs": []
    },
    {
      "cell_type": "code",
      "source": [
        "X_test3"
      ],
      "metadata": {
        "outputId": "a0ea1dd7-1350-4f1a-936b-13c3d2f0b0a7",
        "colab": {
          "base_uri": "https://localhost:8080/",
          "height": 1000
        },
        "id": "z_J6SDlmLQBb"
      },
      "execution_count": 119,
      "outputs": [
        {
          "output_type": "execute_result",
          "data": {
            "text/html": [
              "\n",
              "  <div id=\"df-3cc9eb91-dda0-40cf-b46c-24e3501af812\">\n",
              "    <div class=\"colab-df-container\">\n",
              "      <div>\n",
              "<style scoped>\n",
              "    .dataframe tbody tr th:only-of-type {\n",
              "        vertical-align: middle;\n",
              "    }\n",
              "\n",
              "    .dataframe tbody tr th {\n",
              "        vertical-align: top;\n",
              "    }\n",
              "\n",
              "    .dataframe thead th {\n",
              "        text-align: right;\n",
              "    }\n",
              "</style>\n",
              "<table border=\"1\" class=\"dataframe\">\n",
              "  <thead>\n",
              "    <tr style=\"text-align: right;\">\n",
              "      <th></th>\n",
              "      <th>AXE11</th>\n",
              "      <th>AXE2</th>\n",
              "    </tr>\n",
              "  </thead>\n",
              "  <tbody>\n",
              "    <tr>\n",
              "      <th>0</th>\n",
              "      <td>-0.001640</td>\n",
              "      <td>0.102308</td>\n",
              "    </tr>\n",
              "    <tr>\n",
              "      <th>1</th>\n",
              "      <td>-0.005890</td>\n",
              "      <td>0.008081</td>\n",
              "    </tr>\n",
              "    <tr>\n",
              "      <th>2</th>\n",
              "      <td>-0.005890</td>\n",
              "      <td>0.008081</td>\n",
              "    </tr>\n",
              "    <tr>\n",
              "      <th>3</th>\n",
              "      <td>0.000629</td>\n",
              "      <td>-0.077555</td>\n",
              "    </tr>\n",
              "    <tr>\n",
              "      <th>4</th>\n",
              "      <td>-0.002810</td>\n",
              "      <td>0.016373</td>\n",
              "    </tr>\n",
              "    <tr>\n",
              "      <th>5</th>\n",
              "      <td>-0.002760</td>\n",
              "      <td>0.021959</td>\n",
              "    </tr>\n",
              "    <tr>\n",
              "      <th>6</th>\n",
              "      <td>-0.000010</td>\n",
              "      <td>0.030925</td>\n",
              "    </tr>\n",
              "    <tr>\n",
              "      <th>7</th>\n",
              "      <td>0.001179</td>\n",
              "      <td>-0.022492</td>\n",
              "    </tr>\n",
              "    <tr>\n",
              "      <th>8</th>\n",
              "      <td>-0.002400</td>\n",
              "      <td>0.109514</td>\n",
              "    </tr>\n",
              "    <tr>\n",
              "      <th>9</th>\n",
              "      <td>-0.001750</td>\n",
              "      <td>0.090288</td>\n",
              "    </tr>\n",
              "    <tr>\n",
              "      <th>10</th>\n",
              "      <td>0.001006</td>\n",
              "      <td>-0.015819</td>\n",
              "    </tr>\n",
              "    <tr>\n",
              "      <th>11</th>\n",
              "      <td>0.001603</td>\n",
              "      <td>-0.067299</td>\n",
              "    </tr>\n",
              "    <tr>\n",
              "      <th>12</th>\n",
              "      <td>0.001609</td>\n",
              "      <td>-0.008849</td>\n",
              "    </tr>\n",
              "    <tr>\n",
              "      <th>13</th>\n",
              "      <td>-0.004120</td>\n",
              "      <td>0.113729</td>\n",
              "    </tr>\n",
              "    <tr>\n",
              "      <th>14</th>\n",
              "      <td>-0.000340</td>\n",
              "      <td>-0.003732</td>\n",
              "    </tr>\n",
              "    <tr>\n",
              "      <th>15</th>\n",
              "      <td>-0.001760</td>\n",
              "      <td>0.075740</td>\n",
              "    </tr>\n",
              "    <tr>\n",
              "      <th>16</th>\n",
              "      <td>-0.000031</td>\n",
              "      <td>-0.018632</td>\n",
              "    </tr>\n",
              "    <tr>\n",
              "      <th>17</th>\n",
              "      <td>0.000560</td>\n",
              "      <td>-0.012611</td>\n",
              "    </tr>\n",
              "    <tr>\n",
              "      <th>18</th>\n",
              "      <td>-0.000240</td>\n",
              "      <td>0.002100</td>\n",
              "    </tr>\n",
              "    <tr>\n",
              "      <th>19</th>\n",
              "      <td>0.002838</td>\n",
              "      <td>0.019787</td>\n",
              "    </tr>\n",
              "    <tr>\n",
              "      <th>20</th>\n",
              "      <td>-0.001240</td>\n",
              "      <td>0.030422</td>\n",
              "    </tr>\n",
              "    <tr>\n",
              "      <th>21</th>\n",
              "      <td>-0.000910</td>\n",
              "      <td>0.103213</td>\n",
              "    </tr>\n",
              "    <tr>\n",
              "      <th>22</th>\n",
              "      <td>0.000051</td>\n",
              "      <td>0.112808</td>\n",
              "    </tr>\n",
              "    <tr>\n",
              "      <th>23</th>\n",
              "      <td>-0.003130</td>\n",
              "      <td>0.109717</td>\n",
              "    </tr>\n",
              "    <tr>\n",
              "      <th>24</th>\n",
              "      <td>-0.000820</td>\n",
              "      <td>-0.100164</td>\n",
              "    </tr>\n",
              "    <tr>\n",
              "      <th>25</th>\n",
              "      <td>-0.001080</td>\n",
              "      <td>0.048052</td>\n",
              "    </tr>\n",
              "    <tr>\n",
              "      <th>26</th>\n",
              "      <td>-0.001990</td>\n",
              "      <td>-0.021120</td>\n",
              "    </tr>\n",
              "    <tr>\n",
              "      <th>27</th>\n",
              "      <td>-0.002620</td>\n",
              "      <td>0.062814</td>\n",
              "    </tr>\n",
              "    <tr>\n",
              "      <th>28</th>\n",
              "      <td>-0.003280</td>\n",
              "      <td>0.146760</td>\n",
              "    </tr>\n",
              "    <tr>\n",
              "      <th>29</th>\n",
              "      <td>0.002210</td>\n",
              "      <td>0.055754</td>\n",
              "    </tr>\n",
              "    <tr>\n",
              "      <th>30</th>\n",
              "      <td>-0.003510</td>\n",
              "      <td>0.045481</td>\n",
              "    </tr>\n",
              "    <tr>\n",
              "      <th>31</th>\n",
              "      <td>-0.003510</td>\n",
              "      <td>0.045481</td>\n",
              "    </tr>\n",
              "    <tr>\n",
              "      <th>32</th>\n",
              "      <td>-0.001820</td>\n",
              "      <td>0.064932</td>\n",
              "    </tr>\n",
              "    <tr>\n",
              "      <th>33</th>\n",
              "      <td>0.003424</td>\n",
              "      <td>0.016161</td>\n",
              "    </tr>\n",
              "    <tr>\n",
              "      <th>34</th>\n",
              "      <td>-0.001870</td>\n",
              "      <td>0.003016</td>\n",
              "    </tr>\n",
              "    <tr>\n",
              "      <th>35</th>\n",
              "      <td>-0.003410</td>\n",
              "      <td>0.055900</td>\n",
              "    </tr>\n",
              "    <tr>\n",
              "      <th>36</th>\n",
              "      <td>0.001568</td>\n",
              "      <td>-0.034828</td>\n",
              "    </tr>\n",
              "    <tr>\n",
              "      <th>37</th>\n",
              "      <td>0.003009</td>\n",
              "      <td>-0.071017</td>\n",
              "    </tr>\n",
              "    <tr>\n",
              "      <th>38</th>\n",
              "      <td>0.000970</td>\n",
              "      <td>-0.021193</td>\n",
              "    </tr>\n",
              "    <tr>\n",
              "      <th>39</th>\n",
              "      <td>0.004510</td>\n",
              "      <td>-0.092814</td>\n",
              "    </tr>\n",
              "    <tr>\n",
              "      <th>40</th>\n",
              "      <td>-0.002490</td>\n",
              "      <td>0.065449</td>\n",
              "    </tr>\n",
              "    <tr>\n",
              "      <th>41</th>\n",
              "      <td>0.002015</td>\n",
              "      <td>0.013261</td>\n",
              "    </tr>\n",
              "    <tr>\n",
              "      <th>42</th>\n",
              "      <td>0.000355</td>\n",
              "      <td>-0.118880</td>\n",
              "    </tr>\n",
              "    <tr>\n",
              "      <th>43</th>\n",
              "      <td>0.001272</td>\n",
              "      <td>-0.013157</td>\n",
              "    </tr>\n",
              "    <tr>\n",
              "      <th>44</th>\n",
              "      <td>0.005844</td>\n",
              "      <td>-0.068927</td>\n",
              "    </tr>\n",
              "    <tr>\n",
              "      <th>45</th>\n",
              "      <td>0.000196</td>\n",
              "      <td>-0.033680</td>\n",
              "    </tr>\n",
              "    <tr>\n",
              "      <th>46</th>\n",
              "      <td>-0.000690</td>\n",
              "      <td>-0.066152</td>\n",
              "    </tr>\n",
              "    <tr>\n",
              "      <th>47</th>\n",
              "      <td>-0.001120</td>\n",
              "      <td>0.049230</td>\n",
              "    </tr>\n",
              "    <tr>\n",
              "      <th>48</th>\n",
              "      <td>-0.001530</td>\n",
              "      <td>-0.106042</td>\n",
              "    </tr>\n",
              "    <tr>\n",
              "      <th>49</th>\n",
              "      <td>0.001075</td>\n",
              "      <td>-0.096706</td>\n",
              "    </tr>\n",
              "    <tr>\n",
              "      <th>50</th>\n",
              "      <td>-0.005070</td>\n",
              "      <td>0.029881</td>\n",
              "    </tr>\n",
              "  </tbody>\n",
              "</table>\n",
              "</div>\n",
              "      <button class=\"colab-df-convert\" onclick=\"convertToInteractive('df-3cc9eb91-dda0-40cf-b46c-24e3501af812')\"\n",
              "              title=\"Convert this dataframe to an interactive table.\"\n",
              "              style=\"display:none;\">\n",
              "        \n",
              "  <svg xmlns=\"http://www.w3.org/2000/svg\" height=\"24px\"viewBox=\"0 0 24 24\"\n",
              "       width=\"24px\">\n",
              "    <path d=\"M0 0h24v24H0V0z\" fill=\"none\"/>\n",
              "    <path d=\"M18.56 5.44l.94 2.06.94-2.06 2.06-.94-2.06-.94-.94-2.06-.94 2.06-2.06.94zm-11 1L8.5 8.5l.94-2.06 2.06-.94-2.06-.94L8.5 2.5l-.94 2.06-2.06.94zm10 10l.94 2.06.94-2.06 2.06-.94-2.06-.94-.94-2.06-.94 2.06-2.06.94z\"/><path d=\"M17.41 7.96l-1.37-1.37c-.4-.4-.92-.59-1.43-.59-.52 0-1.04.2-1.43.59L10.3 9.45l-7.72 7.72c-.78.78-.78 2.05 0 2.83L4 21.41c.39.39.9.59 1.41.59.51 0 1.02-.2 1.41-.59l7.78-7.78 2.81-2.81c.8-.78.8-2.07 0-2.86zM5.41 20L4 18.59l7.72-7.72 1.47 1.35L5.41 20z\"/>\n",
              "  </svg>\n",
              "      </button>\n",
              "      \n",
              "  <style>\n",
              "    .colab-df-container {\n",
              "      display:flex;\n",
              "      flex-wrap:wrap;\n",
              "      gap: 12px;\n",
              "    }\n",
              "\n",
              "    .colab-df-convert {\n",
              "      background-color: #E8F0FE;\n",
              "      border: none;\n",
              "      border-radius: 50%;\n",
              "      cursor: pointer;\n",
              "      display: none;\n",
              "      fill: #1967D2;\n",
              "      height: 32px;\n",
              "      padding: 0 0 0 0;\n",
              "      width: 32px;\n",
              "    }\n",
              "\n",
              "    .colab-df-convert:hover {\n",
              "      background-color: #E2EBFA;\n",
              "      box-shadow: 0px 1px 2px rgba(60, 64, 67, 0.3), 0px 1px 3px 1px rgba(60, 64, 67, 0.15);\n",
              "      fill: #174EA6;\n",
              "    }\n",
              "\n",
              "    [theme=dark] .colab-df-convert {\n",
              "      background-color: #3B4455;\n",
              "      fill: #D2E3FC;\n",
              "    }\n",
              "\n",
              "    [theme=dark] .colab-df-convert:hover {\n",
              "      background-color: #434B5C;\n",
              "      box-shadow: 0px 1px 3px 1px rgba(0, 0, 0, 0.15);\n",
              "      filter: drop-shadow(0px 1px 2px rgba(0, 0, 0, 0.3));\n",
              "      fill: #FFFFFF;\n",
              "    }\n",
              "  </style>\n",
              "\n",
              "      <script>\n",
              "        const buttonEl =\n",
              "          document.querySelector('#df-3cc9eb91-dda0-40cf-b46c-24e3501af812 button.colab-df-convert');\n",
              "        buttonEl.style.display =\n",
              "          google.colab.kernel.accessAllowed ? 'block' : 'none';\n",
              "\n",
              "        async function convertToInteractive(key) {\n",
              "          const element = document.querySelector('#df-3cc9eb91-dda0-40cf-b46c-24e3501af812');\n",
              "          const dataTable =\n",
              "            await google.colab.kernel.invokeFunction('convertToInteractive',\n",
              "                                                     [key], {});\n",
              "          if (!dataTable) return;\n",
              "\n",
              "          const docLinkHtml = 'Like what you see? Visit the ' +\n",
              "            '<a target=\"_blank\" href=https://colab.research.google.com/notebooks/data_table.ipynb>data table notebook</a>'\n",
              "            + ' to learn more about interactive tables.';\n",
              "          element.innerHTML = '';\n",
              "          dataTable['output_type'] = 'display_data';\n",
              "          await google.colab.output.renderOutput(dataTable, element);\n",
              "          const docLink = document.createElement('div');\n",
              "          docLink.innerHTML = docLinkHtml;\n",
              "          element.appendChild(docLink);\n",
              "        }\n",
              "      </script>\n",
              "    </div>\n",
              "  </div>\n",
              "  "
            ],
            "text/plain": [
              "       AXE11      AXE2\n",
              "0  -0.001640  0.102308\n",
              "1  -0.005890  0.008081\n",
              "2  -0.005890  0.008081\n",
              "3   0.000629 -0.077555\n",
              "4  -0.002810  0.016373\n",
              "5  -0.002760  0.021959\n",
              "6  -0.000010  0.030925\n",
              "7   0.001179 -0.022492\n",
              "8  -0.002400  0.109514\n",
              "9  -0.001750  0.090288\n",
              "10  0.001006 -0.015819\n",
              "11  0.001603 -0.067299\n",
              "12  0.001609 -0.008849\n",
              "13 -0.004120  0.113729\n",
              "14 -0.000340 -0.003732\n",
              "15 -0.001760  0.075740\n",
              "16 -0.000031 -0.018632\n",
              "17  0.000560 -0.012611\n",
              "18 -0.000240  0.002100\n",
              "19  0.002838  0.019787\n",
              "20 -0.001240  0.030422\n",
              "21 -0.000910  0.103213\n",
              "22  0.000051  0.112808\n",
              "23 -0.003130  0.109717\n",
              "24 -0.000820 -0.100164\n",
              "25 -0.001080  0.048052\n",
              "26 -0.001990 -0.021120\n",
              "27 -0.002620  0.062814\n",
              "28 -0.003280  0.146760\n",
              "29  0.002210  0.055754\n",
              "30 -0.003510  0.045481\n",
              "31 -0.003510  0.045481\n",
              "32 -0.001820  0.064932\n",
              "33  0.003424  0.016161\n",
              "34 -0.001870  0.003016\n",
              "35 -0.003410  0.055900\n",
              "36  0.001568 -0.034828\n",
              "37  0.003009 -0.071017\n",
              "38  0.000970 -0.021193\n",
              "39  0.004510 -0.092814\n",
              "40 -0.002490  0.065449\n",
              "41  0.002015  0.013261\n",
              "42  0.000355 -0.118880\n",
              "43  0.001272 -0.013157\n",
              "44  0.005844 -0.068927\n",
              "45  0.000196 -0.033680\n",
              "46 -0.000690 -0.066152\n",
              "47 -0.001120  0.049230\n",
              "48 -0.001530 -0.106042\n",
              "49  0.001075 -0.096706\n",
              "50 -0.005070  0.029881"
            ]
          },
          "metadata": {},
          "execution_count": 119
        }
      ]
    },
    {
      "cell_type": "code",
      "source": [
        "classifiers = {\n",
        "\"XGBClassifier\": XGBClassifier(scale_pos_weight=1,learning_rate=0.5,max_depth=5,n_estimators=150,objective=\"binary:logistic\"),\n",
        "\"LogisticRegression\": LogisticRegression(max_iter=100, solver='lbfgs', class_weight='balanced'),\n",
        "\"RandomForestClassifier\": RandomForestClassifier(n_estimators=100, criterion='gini', max_depth=5 ,min_samples_split=2),\n",
        "\"GradientBoostingClassifier\":GradientBoostingClassifier(n_estimators=225, learning_rate=0.1, max_features=2, max_depth=2, random_state=0,min_samples_leaf=2,subsample=1),\n",
        "\"Gaussian\":GaussianNB(),\n",
        "\"KNN\":KNeighborsClassifier(n_neighbors=6),\n",
        "\"MLPC\":MLPClassifier(hidden_layer_sizes=100,max_iter=300)\n",
        "}\n",
        "for name, clf in classifiers.items():\n",
        "    print(\"############################\")\n",
        "    print(name)\n",
        "    # fit the model\n",
        "    clf.fit(X_app3,Y_app)\n",
        "    # fit the model \n",
        "    preds = clf.predict(X_test3)\n",
        "    cf_matrix = confusion_matrix(Y_test, preds)\n",
        "    print(cf_matrix)\n",
        "    # report performance\n",
        "    print('MCC:', MCC(Y_test, preds))\n",
        "    print('sensibilité :',sensibilite(Y_test, preds))\n",
        "    print('spécificité :',specifite(Y_test, preds))\n",
        "    print('balanced_accuracy :',balancedacc(Y_test, preds))\n",
        "    print('présicion_négative :',présicion_négative(Y_test, preds))\n",
        "    print('présicion_positive :',présicion_positive(Y_test, preds))\n",
        "    print('cohen_kappa_scorec :',kappa(Y_test, preds))\n",
        "    y_pred_proba = clf.predict_proba(X_test3)[::,1]\n",
        "    fpr, tpr, _ = metrics.roc_curve(Y_test,  y_pred_proba)\n",
        "    auc = metrics.roc_auc_score(Y_test, y_pred_proba)\n",
        "    plt.plot(fpr,tpr,label=\"courbe roc, auc=\"+str(auc))\n",
        "    plt.legend(loc=4)\n",
        "    plt.show()\n"
      ],
      "metadata": {
        "colab": {
          "base_uri": "https://localhost:8080/",
          "height": 1000
        },
        "id": "LojUc0NiLQBc",
        "outputId": "e5aeb22a-196c-40cf-bb40-f0902268b622"
      },
      "execution_count": 120,
      "outputs": [
        {
          "output_type": "stream",
          "name": "stdout",
          "text": [
            "############################\n",
            "XGBClassifier\n",
            "[[24  7]\n",
            " [ 9 11]]\n",
            "MCC: 0.33121270700639255\n",
            "sensibilité : 0.55\n",
            "spécificité : 0.7741935483870968\n",
            "balanced_accuracy : 0.6691919191919192\n",
            "présicion_négative : 0.7272727272727273\n",
            "présicion_positive : 0.6111111111111112\n",
            "cohen_kappa_scorec : 0.3300492610837439\n"
          ]
        },
        {
          "output_type": "display_data",
          "data": {
            "image/png": "[encoded data removed]",
            "text/plain": [
              "<Figure size 432x288 with 1 Axes>"
            ]
          },
          "metadata": {
            "needs_background": "light"
          }
        },
        {
          "output_type": "stream",
          "name": "stdout",
          "text": [
            "############################\n",
            "LogisticRegression\n",
            "[[21 10]\n",
            " [ 8 12]]\n",
            "MCC: 0.2734779166531664\n",
            "sensibilité : 0.6\n",
            "spécificité : 0.6774193548387096\n",
            "balanced_accuracy : 0.634796238244514\n",
            "présicion_négative : 0.7241379310344828\n",
            "présicion_positive : 0.5454545454545454\n",
            "cohen_kappa_scorec : 0.27258320126782887\n"
          ]
        },
        {
          "output_type": "display_data",
          "data": {
            "image/png": "[encoded data removed]",
            "text/plain": [
              "<Figure size 432x288 with 1 Axes>"
            ]
          },
          "metadata": {
            "needs_background": "light"
          }
        },
        {
          "output_type": "stream",
          "name": "stdout",
          "text": [
            "############################\n",
            "RandomForestClassifier\n",
            "[[22  9]\n",
            " [ 9 11]]\n",
            "MCC: 0.25967741935483873\n",
            "sensibilité : 0.55\n",
            "spécificité : 0.7096774193548387\n",
            "balanced_accuracy : 0.6298387096774194\n",
            "présicion_négative : 0.7096774193548387\n",
            "présicion_positive : 0.55\n",
            "cohen_kappa_scorec : 0.2596774193548387\n"
          ]
        },
        {
          "output_type": "display_data",
          "data": {
            "image/png": "[encoded data removed]",
            "text/plain": [
              "<Figure size 432x288 with 1 Axes>"
            ]
          },
          "metadata": {
            "needs_background": "light"
          }
        },
        {
          "output_type": "stream",
          "name": "stdout",
          "text": [
            "############################\n",
            "GradientBoostingClassifier\n",
            "[[23  8]\n",
            " [ 9 11]]\n",
            "MCC: 0.29480234954476486\n",
            "sensibilité : 0.55\n",
            "spécificité : 0.7419354838709677\n",
            "balanced_accuracy : 0.6488486842105263\n",
            "présicion_négative : 0.71875\n",
            "présicion_positive : 0.5789473684210527\n",
            "cohen_kappa_scorec : 0.29454841334418225\n"
          ]
        },
        {
          "output_type": "display_data",
          "data": {
            "image/png": "[encoded data removed]",
            "text/plain": [
              "<Figure size 432x288 with 1 Axes>"
            ]
          },
          "metadata": {
            "needs_background": "light"
          }
        },
        {
          "output_type": "stream",
          "name": "stdout",
          "text": [
            "############################\n",
            "Gaussian\n",
            "[[21 10]\n",
            " [ 7 13]]\n",
            "MCC: 0.3212604471372264\n",
            "sensibilité : 0.65\n",
            "spécificité : 0.6774193548387096\n",
            "balanced_accuracy : 0.6576086956521738\n",
            "présicion_négative : 0.75\n",
            "présicion_positive : 0.5652173913043478\n",
            "cohen_kappa_scorec : 0.31893165750196384\n"
          ]
        },
        {
          "output_type": "display_data",
          "data": {
            "image/png": "[encoded data removed]",
            "text/plain": [
              "<Figure size 432x288 with 1 Axes>"
            ]
          },
          "metadata": {
            "needs_background": "light"
          }
        },
        {
          "output_type": "stream",
          "name": "stdout",
          "text": [
            "############################\n",
            "KNN\n",
            "[[20 11]\n",
            " [ 7 13]]\n",
            "MCC: 0.2887139324089246\n",
            "sensibilité : 0.65\n",
            "spécificité : 0.6451612903225806\n",
            "balanced_accuracy : 0.6412037037037037\n",
            "présicion_négative : 0.7407407407407407\n",
            "présicion_positive : 0.5416666666666666\n",
            "cohen_kappa_scorec : 0.2850467289719626\n"
          ]
        },
        {
          "output_type": "display_data",
          "data": {
            "image/png": "[encoded data removed]",
            "text/plain": [
              "<Figure size 432x288 with 1 Axes>"
            ]
          },
          "metadata": {
            "needs_background": "light"
          }
        },
        {
          "output_type": "stream",
          "name": "stdout",
          "text": [
            "############################\n",
            "MLPC\n",
            "[[20 11]\n",
            " [ 8 12]]\n",
            "MCC: 0.24054969440816953\n",
            "sensibilité : 0.6\n",
            "spécificité : 0.6451612903225806\n",
            "balanced_accuracy : 0.6180124223602484\n",
            "présicion_négative : 0.7142857142857143\n",
            "présicion_positive : 0.5217391304347826\n",
            "cohen_kappa_scorec : 0.23880597014925375\n"
          ]
        },
        {
          "output_type": "stream",
          "name": "stderr",
          "text": [
            "/usr/local/lib/python3.7/dist-packages/sklearn/neural_network/_multilayer_perceptron.py:696: ConvergenceWarning: Stochastic Optimizer: Maximum iterations (300) reached and the optimization hasn't converged yet.\n",
            "  ConvergenceWarning,\n"
          ]
        },
        {
          "output_type": "display_data",
          "data": {
            "image/png": "[encoded data removed]",
            "text/plain": [
              "<Figure size 432x288 with 1 Axes>"
            ]
          },
          "metadata": {
            "needs_background": "light"
          }
        }
      ]
    },
    {
      "cell_type": "markdown",
      "source": [
        "*SVM*"
      ],
      "metadata": {
        "id": "whvogIdhMjfu"
      }
    },
    {
      "cell_type": "code",
      "source": [
        "Classifier_SVM = svm.SVC(kernel='rbf',gamma=0.05,C=12)\n",
        "Classifier_SVM.fit(X_app3, Y_app)\n",
        "preds_svm = Classifier_SVM.predict(X_test3)"
      ],
      "metadata": {
        "id": "7jsAFdoWMjfw"
      },
      "execution_count": 121,
      "outputs": []
    },
    {
      "cell_type": "code",
      "metadata": {
        "colab": {
          "base_uri": "https://localhost:8080/"
        },
        "outputId": "1a809e32-a485-4033-910b-e2da5cc31ac0",
        "id": "7cm0KQqzMjfw"
      },
      "source": [
        "preds_svm"
      ],
      "execution_count": 122,
      "outputs": [
        {
          "output_type": "execute_result",
          "data": {
            "text/plain": [
              "array([0, 1, 1, 1, 1, 1, 0, 1, 0, 0, 1, 1, 1, 0, 1, 0, 1, 1, 1, 1, 0, 0,\n",
              "       0, 0, 1, 0, 1, 0, 0, 0, 0, 0, 0, 1, 1, 0, 1, 1, 1, 1, 0, 1, 1, 1,\n",
              "       1, 1, 1, 0, 1, 1, 0])"
            ]
          },
          "metadata": {},
          "execution_count": 122
        }
      ]
    },
    {
      "cell_type": "code",
      "source": [
        "cf_matrix = confusion_matrix(Y_test, preds_svm)\n",
        "print(cf_matrix)\n",
        "# report performance\n",
        "print('MCC:', MCC(Y_test, preds_svm))\n",
        "print('sensibilité :',sensibilite(Y_test, preds_svm))\n",
        "print('spécificité :',specifite(Y_test, preds_svm))\n",
        "print('balanced_accuracy :',balancedacc(Y_test, preds_svm))\n",
        "print('présicion_négative :',présicion_négative(Y_test, preds_svm))\n",
        "print('présicion_positive :',présicion_positive(Y_test, preds_svm))\n",
        "print('cohen_kappa_scorec :',kappa(Y_test, preds_svm))\n",
        "print('AUC :',roc_auc_score(Y_test, Classifier_SVM.decision_function(X_test3)))\n"
      ],
      "metadata": {
        "outputId": "e5ff8727-a105-4fb9-d6a8-0829eaaf1e7c",
        "colab": {
          "base_uri": "https://localhost:8080/"
        },
        "id": "AV9sE00nMjfy"
      },
      "execution_count": 123,
      "outputs": [
        {
          "output_type": "stream",
          "name": "stdout",
          "text": [
            "[[16 15]\n",
            " [ 5 15]]\n",
            "MCC: 0.2640084484055256\n",
            "sensibilité : 0.75\n",
            "spécificité : 0.5161290322580645\n",
            "balanced_accuracy : 0.6309523809523809\n",
            "présicion_négative : 0.7619047619047619\n",
            "présicion_positive : 0.5\n",
            "cohen_kappa_scorec : 0.24444444444444435\n",
            "AUC : 0.7290322580645161\n"
          ]
        }
      ]
    },
    {
      "cell_type": "markdown",
      "source": [
        "# Gradient_boosting\n",
        "\n",
        "\n"
      ],
      "metadata": {
        "id": "h_kH9F1ECgU7"
      }
    },
    {
      "cell_type": "code",
      "source": [
        "Classifier4 = GradientBoostingClassifier(n_estimators=225, learning_rate=0.1, max_depth=2, random_state=0,min_samples_leaf=2,subsample=1 )"
      ],
      "metadata": {
        "id": "BPI9aV-mCgU8"
      },
      "execution_count": 124,
      "outputs": []
    },
    {
      "cell_type": "code",
      "source": [
        "# get a list of models to evaluate\n",
        "def get_models4():\n",
        "\tmodels = dict()\n",
        "\tfor i in range(1, 7):\n",
        "\t\trfe = RFE(Classifier4, n_features_to_select=i)\n",
        "\t\tmodels[str(i)] = Pipeline(steps=[('s',rfe),('m',Classifier4)])\n",
        "\treturn models"
      ],
      "metadata": {
        "id": "r5XvPhZzCgU9"
      },
      "execution_count": 125,
      "outputs": []
    },
    {
      "cell_type": "code",
      "source": [
        "X_app"
      ],
      "metadata": {
        "id": "Zz8L8jopOCCp",
        "outputId": "e7bebb67-7b5c-4db3-c404-bebcfdd8a159",
        "colab": {
          "base_uri": "https://localhost:8080/",
          "height": 423
        }
      },
      "execution_count": 126,
      "outputs": [
        {
          "output_type": "execute_result",
          "data": {
            "text/html": [
              "\n",
              "  <div id=\"df-df4973da-d39b-4e63-9016-dbbe7f41424c\">\n",
              "    <div class=\"colab-df-container\">\n",
              "      <div>\n",
              "<style scoped>\n",
              "    .dataframe tbody tr th:only-of-type {\n",
              "        vertical-align: middle;\n",
              "    }\n",
              "\n",
              "    .dataframe tbody tr th {\n",
              "        vertical-align: top;\n",
              "    }\n",
              "\n",
              "    .dataframe thead th {\n",
              "        text-align: right;\n",
              "    }\n",
              "</style>\n",
              "<table border=\"1\" class=\"dataframe\">\n",
              "  <thead>\n",
              "    <tr style=\"text-align: right;\">\n",
              "      <th></th>\n",
              "      <th>AXE11</th>\n",
              "      <th>AXE12</th>\n",
              "      <th>AXE2</th>\n",
              "      <th>AXE3</th>\n",
              "      <th>AXE4</th>\n",
              "      <th>AXE5</th>\n",
              "    </tr>\n",
              "  </thead>\n",
              "  <tbody>\n",
              "    <tr>\n",
              "      <th>0</th>\n",
              "      <td>0.001424</td>\n",
              "      <td>0.031177</td>\n",
              "      <td>-0.059472</td>\n",
              "      <td>-3.681616</td>\n",
              "      <td>-2.401045</td>\n",
              "      <td>-0.173420</td>\n",
              "    </tr>\n",
              "    <tr>\n",
              "      <th>1</th>\n",
              "      <td>0.001859</td>\n",
              "      <td>0.007034</td>\n",
              "      <td>-0.032365</td>\n",
              "      <td>-0.780750</td>\n",
              "      <td>-0.885475</td>\n",
              "      <td>-0.161534</td>\n",
              "    </tr>\n",
              "    <tr>\n",
              "      <th>2</th>\n",
              "      <td>0.001859</td>\n",
              "      <td>0.007034</td>\n",
              "      <td>-0.032365</td>\n",
              "      <td>-0.780750</td>\n",
              "      <td>-0.885475</td>\n",
              "      <td>-0.161534</td>\n",
              "    </tr>\n",
              "    <tr>\n",
              "      <th>3</th>\n",
              "      <td>-0.001565</td>\n",
              "      <td>0.007444</td>\n",
              "      <td>0.052511</td>\n",
              "      <td>-0.575102</td>\n",
              "      <td>-0.089102</td>\n",
              "      <td>-0.036805</td>\n",
              "    </tr>\n",
              "    <tr>\n",
              "      <th>4</th>\n",
              "      <td>-0.001238</td>\n",
              "      <td>0.010596</td>\n",
              "      <td>0.047796</td>\n",
              "      <td>-1.674400</td>\n",
              "      <td>0.216223</td>\n",
              "      <td>0.038151</td>\n",
              "    </tr>\n",
              "    <tr>\n",
              "      <th>...</th>\n",
              "      <td>...</td>\n",
              "      <td>...</td>\n",
              "      <td>...</td>\n",
              "      <td>...</td>\n",
              "      <td>...</td>\n",
              "      <td>...</td>\n",
              "    </tr>\n",
              "    <tr>\n",
              "      <th>198</th>\n",
              "      <td>0.002694</td>\n",
              "      <td>-0.011021</td>\n",
              "      <td>-0.107134</td>\n",
              "      <td>-1.678789</td>\n",
              "      <td>-0.626739</td>\n",
              "      <td>-0.093039</td>\n",
              "    </tr>\n",
              "    <tr>\n",
              "      <th>199</th>\n",
              "      <td>0.001341</td>\n",
              "      <td>-0.016060</td>\n",
              "      <td>-0.078564</td>\n",
              "      <td>-1.584375</td>\n",
              "      <td>0.421137</td>\n",
              "      <td>-0.297170</td>\n",
              "    </tr>\n",
              "    <tr>\n",
              "      <th>200</th>\n",
              "      <td>0.001998</td>\n",
              "      <td>-0.013530</td>\n",
              "      <td>-0.123163</td>\n",
              "      <td>-1.309588</td>\n",
              "      <td>-0.722200</td>\n",
              "      <td>-0.279362</td>\n",
              "    </tr>\n",
              "    <tr>\n",
              "      <th>201</th>\n",
              "      <td>-0.000923</td>\n",
              "      <td>-0.014214</td>\n",
              "      <td>0.010676</td>\n",
              "      <td>-1.404706</td>\n",
              "      <td>1.443951</td>\n",
              "      <td>0.121188</td>\n",
              "    </tr>\n",
              "    <tr>\n",
              "      <th>202</th>\n",
              "      <td>0.001179</td>\n",
              "      <td>-0.000708</td>\n",
              "      <td>-0.015548</td>\n",
              "      <td>-1.784350</td>\n",
              "      <td>-0.306687</td>\n",
              "      <td>0.200396</td>\n",
              "    </tr>\n",
              "  </tbody>\n",
              "</table>\n",
              "<p>203 rows × 6 columns</p>\n",
              "</div>\n",
              "      <button class=\"colab-df-convert\" onclick=\"convertToInteractive('df-df4973da-d39b-4e63-9016-dbbe7f41424c')\"\n",
              "              title=\"Convert this dataframe to an interactive table.\"\n",
              "              style=\"display:none;\">\n",
              "        \n",
              "  <svg xmlns=\"http://www.w3.org/2000/svg\" height=\"24px\"viewBox=\"0 0 24 24\"\n",
              "       width=\"24px\">\n",
              "    <path d=\"M0 0h24v24H0V0z\" fill=\"none\"/>\n",
              "    <path d=\"M18.56 5.44l.94 2.06.94-2.06 2.06-.94-2.06-.94-.94-2.06-.94 2.06-2.06.94zm-11 1L8.5 8.5l.94-2.06 2.06-.94-2.06-.94L8.5 2.5l-.94 2.06-2.06.94zm10 10l.94 2.06.94-2.06 2.06-.94-2.06-.94-.94-2.06-.94 2.06-2.06.94z\"/><path d=\"M17.41 7.96l-1.37-1.37c-.4-.4-.92-.59-1.43-.59-.52 0-1.04.2-1.43.59L10.3 9.45l-7.72 7.72c-.78.78-.78 2.05 0 2.83L4 21.41c.39.39.9.59 1.41.59.51 0 1.02-.2 1.41-.59l7.78-7.78 2.81-2.81c.8-.78.8-2.07 0-2.86zM5.41 20L4 18.59l7.72-7.72 1.47 1.35L5.41 20z\"/>\n",
              "  </svg>\n",
              "      </button>\n",
              "      \n",
              "  <style>\n",
              "    .colab-df-container {\n",
              "      display:flex;\n",
              "      flex-wrap:wrap;\n",
              "      gap: 12px;\n",
              "    }\n",
              "\n",
              "    .colab-df-convert {\n",
              "      background-color: #E8F0FE;\n",
              "      border: none;\n",
              "      border-radius: 50%;\n",
              "      cursor: pointer;\n",
              "      display: none;\n",
              "      fill: #1967D2;\n",
              "      height: 32px;\n",
              "      padding: 0 0 0 0;\n",
              "      width: 32px;\n",
              "    }\n",
              "\n",
              "    .colab-df-convert:hover {\n",
              "      background-color: #E2EBFA;\n",
              "      box-shadow: 0px 1px 2px rgba(60, 64, 67, 0.3), 0px 1px 3px 1px rgba(60, 64, 67, 0.15);\n",
              "      fill: #174EA6;\n",
              "    }\n",
              "\n",
              "    [theme=dark] .colab-df-convert {\n",
              "      background-color: #3B4455;\n",
              "      fill: #D2E3FC;\n",
              "    }\n",
              "\n",
              "    [theme=dark] .colab-df-convert:hover {\n",
              "      background-color: #434B5C;\n",
              "      box-shadow: 0px 1px 3px 1px rgba(0, 0, 0, 0.15);\n",
              "      filter: drop-shadow(0px 1px 2px rgba(0, 0, 0, 0.3));\n",
              "      fill: #FFFFFF;\n",
              "    }\n",
              "  </style>\n",
              "\n",
              "      <script>\n",
              "        const buttonEl =\n",
              "          document.querySelector('#df-df4973da-d39b-4e63-9016-dbbe7f41424c button.colab-df-convert');\n",
              "        buttonEl.style.display =\n",
              "          google.colab.kernel.accessAllowed ? 'block' : 'none';\n",
              "\n",
              "        async function convertToInteractive(key) {\n",
              "          const element = document.querySelector('#df-df4973da-d39b-4e63-9016-dbbe7f41424c');\n",
              "          const dataTable =\n",
              "            await google.colab.kernel.invokeFunction('convertToInteractive',\n",
              "                                                     [key], {});\n",
              "          if (!dataTable) return;\n",
              "\n",
              "          const docLinkHtml = 'Like what you see? Visit the ' +\n",
              "            '<a target=\"_blank\" href=https://colab.research.google.com/notebooks/data_table.ipynb>data table notebook</a>'\n",
              "            + ' to learn more about interactive tables.';\n",
              "          element.innerHTML = '';\n",
              "          dataTable['output_type'] = 'display_data';\n",
              "          await google.colab.output.renderOutput(dataTable, element);\n",
              "          const docLink = document.createElement('div');\n",
              "          docLink.innerHTML = docLinkHtml;\n",
              "          element.appendChild(docLink);\n",
              "        }\n",
              "      </script>\n",
              "    </div>\n",
              "  </div>\n",
              "  "
            ],
            "text/plain": [
              "        AXE11     AXE12      AXE2      AXE3      AXE4      AXE5\n",
              "0    0.001424  0.031177 -0.059472 -3.681616 -2.401045 -0.173420\n",
              "1    0.001859  0.007034 -0.032365 -0.780750 -0.885475 -0.161534\n",
              "2    0.001859  0.007034 -0.032365 -0.780750 -0.885475 -0.161534\n",
              "3   -0.001565  0.007444  0.052511 -0.575102 -0.089102 -0.036805\n",
              "4   -0.001238  0.010596  0.047796 -1.674400  0.216223  0.038151\n",
              "..        ...       ...       ...       ...       ...       ...\n",
              "198  0.002694 -0.011021 -0.107134 -1.678789 -0.626739 -0.093039\n",
              "199  0.001341 -0.016060 -0.078564 -1.584375  0.421137 -0.297170\n",
              "200  0.001998 -0.013530 -0.123163 -1.309588 -0.722200 -0.279362\n",
              "201 -0.000923 -0.014214  0.010676 -1.404706  1.443951  0.121188\n",
              "202  0.001179 -0.000708 -0.015548 -1.784350 -0.306687  0.200396\n",
              "\n",
              "[203 rows x 6 columns]"
            ]
          },
          "metadata": {},
          "execution_count": 126
        }
      ]
    },
    {
      "cell_type": "code",
      "source": [
        "# get the models to evaluate\n",
        "models4 = get_models4()\n",
        "# evaluate the models and store results\n",
        "results, names = list(), list()\n",
        "for name, model in models4.items():\n",
        "  model.fit(X_app, Y_app)\n",
        "  preds = model.predict(X_test)\n",
        "  score = MCC(Y_test, preds)\n",
        "  results.append(score)\n",
        "  names.append(name)\n",
        "  print('- %s :  %.3f' % (name,score))"
      ],
      "metadata": {
        "colab": {
          "base_uri": "https://localhost:8080/"
        },
        "outputId": "9460d803-c133-4104-f1c3-91475421bceb",
        "id": "9X4ex9JYCgU9"
      },
      "execution_count": 127,
      "outputs": [
        {
          "output_type": "stream",
          "name": "stdout",
          "text": [
            "- 1 :  0.192\n",
            "- 2 :  0.295\n",
            "- 3 :  0.212\n",
            "- 4 :  0.260\n",
            "- 5 :  0.295\n",
            "- 6 :  0.295\n"
          ]
        }
      ]
    },
    {
      "cell_type": "code",
      "source": [
        "# create pipeline\n",
        "rfe4 = RFE(estimator=Classifier4, n_features_to_select=2)\n",
        "pipeline4 = Pipeline(steps=[('s',rfe4),('m',Classifier4)])\n",
        "# fit the model \n",
        "pipeline4.fit(X_app, Y_app)"
      ],
      "metadata": {
        "colab": {
          "base_uri": "https://localhost:8080/"
        },
        "outputId": "ddb74a28-e4e2-4fc3-d130-74ffb77bc159",
        "id": "EM82_q9yCgU-"
      },
      "execution_count": 128,
      "outputs": [
        {
          "output_type": "execute_result",
          "data": {
            "text/plain": [
              "Pipeline(steps=[('s',\n",
              "                 RFE(estimator=GradientBoostingClassifier(max_depth=2,\n",
              "                                                          min_samples_leaf=2,\n",
              "                                                          n_estimators=225,\n",
              "                                                          random_state=0,\n",
              "                                                          subsample=1),\n",
              "                     n_features_to_select=2)),\n",
              "                ('m',\n",
              "                 GradientBoostingClassifier(max_depth=2, min_samples_leaf=2,\n",
              "                                            n_estimators=225, random_state=0,\n",
              "                                            subsample=1))])"
            ]
          },
          "metadata": {},
          "execution_count": 128
        }
      ]
    },
    {
      "cell_type": "code",
      "source": [
        "pipeline4[\"s\"].support_"
      ],
      "metadata": {
        "colab": {
          "base_uri": "https://localhost:8080/"
        },
        "outputId": "85b95b16-a3e2-4235-b8a0-23876d790dae",
        "id": "KCXjru-PCgU_"
      },
      "execution_count": 129,
      "outputs": [
        {
          "output_type": "execute_result",
          "data": {
            "text/plain": [
              "array([ True, False,  True, False, False, False])"
            ]
          },
          "metadata": {},
          "execution_count": 129
        }
      ]
    },
    {
      "cell_type": "code",
      "metadata": {
        "id": "M102jy7NCgU_"
      },
      "source": [
        "preds4 = pipeline4.predict(X_test)"
      ],
      "execution_count": 130,
      "outputs": []
    },
    {
      "cell_type": "code",
      "metadata": {
        "colab": {
          "base_uri": "https://localhost:8080/"
        },
        "outputId": "eea98b75-c160-456c-86eb-8968c11e3b2a",
        "id": "7b6VcW8FCgVA"
      },
      "source": [
        "preds4"
      ],
      "execution_count": 131,
      "outputs": [
        {
          "output_type": "execute_result",
          "data": {
            "text/plain": [
              "array([0, 0, 0, 1, 0, 0, 0, 1, 0, 0, 1, 1, 1, 0, 0, 0, 0, 1, 0, 1, 0, 0,\n",
              "       0, 0, 0, 1, 0, 0, 0, 0, 0, 0, 0, 1, 0, 0, 1, 1, 0, 1, 0, 1, 1, 1,\n",
              "       1, 1, 1, 0, 0, 1, 0])"
            ]
          },
          "metadata": {},
          "execution_count": 131
        }
      ]
    },
    {
      "cell_type": "code",
      "metadata": {
        "colab": {
          "base_uri": "https://localhost:8080/"
        },
        "outputId": "faec26cb-525e-497f-e675-bf4e98170897",
        "id": "elZEzHU_CgVA"
      },
      "source": [
        "cf_matrix = confusion_matrix(Y_test, preds4)\n",
        "print(cf_matrix)"
      ],
      "execution_count": 132,
      "outputs": [
        {
          "output_type": "stream",
          "name": "stdout",
          "text": [
            "[[23  8]\n",
            " [ 9 11]]\n"
          ]
        }
      ]
    },
    {
      "cell_type": "code",
      "source": [
        "MCC(Y_test, preds4)"
      ],
      "metadata": {
        "colab": {
          "base_uri": "https://localhost:8080/"
        },
        "outputId": "2961ae8c-106a-416e-90b6-57d19f67a82d",
        "id": "jFfjK2ATCgVB"
      },
      "execution_count": 133,
      "outputs": [
        {
          "output_type": "execute_result",
          "data": {
            "text/plain": [
              "0.29480234954476486"
            ]
          },
          "metadata": {},
          "execution_count": 133
        }
      ]
    },
    {
      "cell_type": "code",
      "source": [
        "recall(Y_test, preds4)"
      ],
      "metadata": {
        "colab": {
          "base_uri": "https://localhost:8080/"
        },
        "outputId": "8f9c98f6-405e-42cf-c252-693ed02d12b0",
        "id": "8KUJcv-WCgVB"
      },
      "execution_count": 134,
      "outputs": [
        {
          "output_type": "execute_result",
          "data": {
            "text/plain": [
              "0.55"
            ]
          },
          "metadata": {},
          "execution_count": 134
        }
      ]
    },
    {
      "cell_type": "code",
      "source": [
        "sensibilite(Y_test, preds4)"
      ],
      "metadata": {
        "colab": {
          "base_uri": "https://localhost:8080/"
        },
        "outputId": "5370c5b1-e54a-4010-8fea-d787e29967ca",
        "id": "SeZrFo1CCgVB"
      },
      "execution_count": 135,
      "outputs": [
        {
          "output_type": "execute_result",
          "data": {
            "text/plain": [
              "0.55"
            ]
          },
          "metadata": {},
          "execution_count": 135
        }
      ]
    },
    {
      "cell_type": "code",
      "source": [
        "specifite(Y_test, preds4)"
      ],
      "metadata": {
        "colab": {
          "base_uri": "https://localhost:8080/"
        },
        "outputId": "55e28015-9173-496a-c603-b85d7d501ef8",
        "id": "vyR2SKDdCgVC"
      },
      "execution_count": 136,
      "outputs": [
        {
          "output_type": "execute_result",
          "data": {
            "text/plain": [
              "0.7419354838709677"
            ]
          },
          "metadata": {},
          "execution_count": 136
        }
      ]
    },
    {
      "cell_type": "code",
      "source": [
        "présicion_négative(Y_test, preds4)"
      ],
      "metadata": {
        "colab": {
          "base_uri": "https://localhost:8080/"
        },
        "outputId": "358a637a-7eee-494e-8169-66cf0132b1a9",
        "id": "58rpWwYCCgVC"
      },
      "execution_count": 137,
      "outputs": [
        {
          "output_type": "execute_result",
          "data": {
            "text/plain": [
              "0.71875"
            ]
          },
          "metadata": {},
          "execution_count": 137
        }
      ]
    },
    {
      "cell_type": "code",
      "source": [
        "présicion_positive(Y_test, preds4)"
      ],
      "metadata": {
        "colab": {
          "base_uri": "https://localhost:8080/"
        },
        "outputId": "400a6707-865b-4716-fa95-c99eaa7839cc",
        "id": "YHR3QXGwCgVC"
      },
      "execution_count": 138,
      "outputs": [
        {
          "output_type": "execute_result",
          "data": {
            "text/plain": [
              "0.5789473684210527"
            ]
          },
          "metadata": {},
          "execution_count": 138
        }
      ]
    },
    {
      "cell_type": "code",
      "source": [
        "balancedacc(Y_test, preds4)"
      ],
      "metadata": {
        "colab": {
          "base_uri": "https://localhost:8080/"
        },
        "outputId": "2c9d219a-5aab-4964-8bee-ddd55a9705f2",
        "id": "O19PbLkqCgVD"
      },
      "execution_count": 139,
      "outputs": [
        {
          "output_type": "execute_result",
          "data": {
            "text/plain": [
              "0.6488486842105263"
            ]
          },
          "metadata": {},
          "execution_count": 139
        }
      ]
    },
    {
      "cell_type": "code",
      "source": [
        "kappa(Y_test, preds4)"
      ],
      "metadata": {
        "colab": {
          "base_uri": "https://localhost:8080/"
        },
        "outputId": "8535ec0f-e932-47ae-f932-d38c96ee2bd9",
        "id": "CaTtkoURCgVD"
      },
      "execution_count": 140,
      "outputs": [
        {
          "output_type": "execute_result",
          "data": {
            "text/plain": [
              "0.29454841334418225"
            ]
          },
          "metadata": {},
          "execution_count": 140
        }
      ]
    },
    {
      "cell_type": "code",
      "source": [
        "y_pred_proba = pipeline4.predict_proba(X_test)[::,1]\n",
        "fpr, tpr, _ = metrics.roc_curve(Y_test,  y_pred_proba)\n",
        "auc = metrics.roc_auc_score(Y_test, y_pred_proba)\n",
        "plt.plot(fpr,tpr,label=\"Gradient boostnig, auc=\"+str(auc))\n",
        "plt.legend(loc=4)\n",
        "plt.show()"
      ],
      "metadata": {
        "colab": {
          "base_uri": "https://localhost:8080/",
          "height": 265
        },
        "outputId": "04a65a00-d1b4-4f38-dad0-589adef7538b",
        "id": "BJICgMJ-CgVE"
      },
      "execution_count": 141,
      "outputs": [
        {
          "output_type": "display_data",
          "data": {
            "image/png": "[encoded data removed]",
            "text/plain": [
              "<Figure size 432x288 with 1 Axes>"
            ]
          },
          "metadata": {
            "needs_background": "light"
          }
        }
      ]
    },
    {
      "cell_type": "code",
      "source": [
        "variable4=pipeline4[\"s\"].support_"
      ],
      "metadata": {
        "id": "y1f-dLAxPpho"
      },
      "execution_count": 142,
      "outputs": []
    },
    {
      "cell_type": "code",
      "source": [
        "variable4"
      ],
      "metadata": {
        "outputId": "dfee2c8c-21fd-4be5-87fe-372c760852c4",
        "colab": {
          "base_uri": "https://localhost:8080/"
        },
        "id": "StPSOR9sPphp"
      },
      "execution_count": 143,
      "outputs": [
        {
          "output_type": "execute_result",
          "data": {
            "text/plain": [
              "array([ True, False,  True, False, False, False])"
            ]
          },
          "metadata": {},
          "execution_count": 143
        }
      ]
    },
    {
      "cell_type": "code",
      "source": [
        "X_app4 = X_app.loc[:, X_app.columns != \"AXE12\"]\n",
        "X_app4 = X_app4.loc[:, X_app4.columns != \"AXE3\"]\n",
        "X_app4 = X_app4.loc[:, X_app4.columns != \"AXE4\"]\n",
        "X_app4 = X_app4.loc[:, X_app4.columns != \"AXE5\"]"
      ],
      "metadata": {
        "id": "_4oEFBXQPphq"
      },
      "execution_count": 144,
      "outputs": []
    },
    {
      "cell_type": "code",
      "source": [
        "X_app4"
      ],
      "metadata": {
        "outputId": "f8bc469f-ca01-4142-8313-6e3c6a51f874",
        "colab": {
          "base_uri": "https://localhost:8080/",
          "height": 423
        },
        "id": "wtmlx3n-Pphq"
      },
      "execution_count": 145,
      "outputs": [
        {
          "output_type": "execute_result",
          "data": {
            "text/html": [
              "\n",
              "  <div id=\"df-443136b5-fb76-43af-ba20-1cd3d82a5498\">\n",
              "    <div class=\"colab-df-container\">\n",
              "      <div>\n",
              "<style scoped>\n",
              "    .dataframe tbody tr th:only-of-type {\n",
              "        vertical-align: middle;\n",
              "    }\n",
              "\n",
              "    .dataframe tbody tr th {\n",
              "        vertical-align: top;\n",
              "    }\n",
              "\n",
              "    .dataframe thead th {\n",
              "        text-align: right;\n",
              "    }\n",
              "</style>\n",
              "<table border=\"1\" class=\"dataframe\">\n",
              "  <thead>\n",
              "    <tr style=\"text-align: right;\">\n",
              "      <th></th>\n",
              "      <th>AXE11</th>\n",
              "      <th>AXE2</th>\n",
              "    </tr>\n",
              "  </thead>\n",
              "  <tbody>\n",
              "    <tr>\n",
              "      <th>0</th>\n",
              "      <td>0.001424</td>\n",
              "      <td>-0.059472</td>\n",
              "    </tr>\n",
              "    <tr>\n",
              "      <th>1</th>\n",
              "      <td>0.001859</td>\n",
              "      <td>-0.032365</td>\n",
              "    </tr>\n",
              "    <tr>\n",
              "      <th>2</th>\n",
              "      <td>0.001859</td>\n",
              "      <td>-0.032365</td>\n",
              "    </tr>\n",
              "    <tr>\n",
              "      <th>3</th>\n",
              "      <td>-0.001565</td>\n",
              "      <td>0.052511</td>\n",
              "    </tr>\n",
              "    <tr>\n",
              "      <th>4</th>\n",
              "      <td>-0.001238</td>\n",
              "      <td>0.047796</td>\n",
              "    </tr>\n",
              "    <tr>\n",
              "      <th>...</th>\n",
              "      <td>...</td>\n",
              "      <td>...</td>\n",
              "    </tr>\n",
              "    <tr>\n",
              "      <th>198</th>\n",
              "      <td>0.002694</td>\n",
              "      <td>-0.107134</td>\n",
              "    </tr>\n",
              "    <tr>\n",
              "      <th>199</th>\n",
              "      <td>0.001341</td>\n",
              "      <td>-0.078564</td>\n",
              "    </tr>\n",
              "    <tr>\n",
              "      <th>200</th>\n",
              "      <td>0.001998</td>\n",
              "      <td>-0.123163</td>\n",
              "    </tr>\n",
              "    <tr>\n",
              "      <th>201</th>\n",
              "      <td>-0.000923</td>\n",
              "      <td>0.010676</td>\n",
              "    </tr>\n",
              "    <tr>\n",
              "      <th>202</th>\n",
              "      <td>0.001179</td>\n",
              "      <td>-0.015548</td>\n",
              "    </tr>\n",
              "  </tbody>\n",
              "</table>\n",
              "<p>203 rows × 2 columns</p>\n",
              "</div>\n",
              "      <button class=\"colab-df-convert\" onclick=\"convertToInteractive('df-443136b5-fb76-43af-ba20-1cd3d82a5498')\"\n",
              "              title=\"Convert this dataframe to an interactive table.\"\n",
              "              style=\"display:none;\">\n",
              "        \n",
              "  <svg xmlns=\"http://www.w3.org/2000/svg\" height=\"24px\"viewBox=\"0 0 24 24\"\n",
              "       width=\"24px\">\n",
              "    <path d=\"M0 0h24v24H0V0z\" fill=\"none\"/>\n",
              "    <path d=\"M18.56 5.44l.94 2.06.94-2.06 2.06-.94-2.06-.94-.94-2.06-.94 2.06-2.06.94zm-11 1L8.5 8.5l.94-2.06 2.06-.94-2.06-.94L8.5 2.5l-.94 2.06-2.06.94zm10 10l.94 2.06.94-2.06 2.06-.94-2.06-.94-.94-2.06-.94 2.06-2.06.94z\"/><path d=\"M17.41 7.96l-1.37-1.37c-.4-.4-.92-.59-1.43-.59-.52 0-1.04.2-1.43.59L10.3 9.45l-7.72 7.72c-.78.78-.78 2.05 0 2.83L4 21.41c.39.39.9.59 1.41.59.51 0 1.02-.2 1.41-.59l7.78-7.78 2.81-2.81c.8-.78.8-2.07 0-2.86zM5.41 20L4 18.59l7.72-7.72 1.47 1.35L5.41 20z\"/>\n",
              "  </svg>\n",
              "      </button>\n",
              "      \n",
              "  <style>\n",
              "    .colab-df-container {\n",
              "      display:flex;\n",
              "      flex-wrap:wrap;\n",
              "      gap: 12px;\n",
              "    }\n",
              "\n",
              "    .colab-df-convert {\n",
              "      background-color: #E8F0FE;\n",
              "      border: none;\n",
              "      border-radius: 50%;\n",
              "      cursor: pointer;\n",
              "      display: none;\n",
              "      fill: #1967D2;\n",
              "      height: 32px;\n",
              "      padding: 0 0 0 0;\n",
              "      width: 32px;\n",
              "    }\n",
              "\n",
              "    .colab-df-convert:hover {\n",
              "      background-color: #E2EBFA;\n",
              "      box-shadow: 0px 1px 2px rgba(60, 64, 67, 0.3), 0px 1px 3px 1px rgba(60, 64, 67, 0.15);\n",
              "      fill: #174EA6;\n",
              "    }\n",
              "\n",
              "    [theme=dark] .colab-df-convert {\n",
              "      background-color: #3B4455;\n",
              "      fill: #D2E3FC;\n",
              "    }\n",
              "\n",
              "    [theme=dark] .colab-df-convert:hover {\n",
              "      background-color: #434B5C;\n",
              "      box-shadow: 0px 1px 3px 1px rgba(0, 0, 0, 0.15);\n",
              "      filter: drop-shadow(0px 1px 2px rgba(0, 0, 0, 0.3));\n",
              "      fill: #FFFFFF;\n",
              "    }\n",
              "  </style>\n",
              "\n",
              "      <script>\n",
              "        const buttonEl =\n",
              "          document.querySelector('#df-443136b5-fb76-43af-ba20-1cd3d82a5498 button.colab-df-convert');\n",
              "        buttonEl.style.display =\n",
              "          google.colab.kernel.accessAllowed ? 'block' : 'none';\n",
              "\n",
              "        async function convertToInteractive(key) {\n",
              "          const element = document.querySelector('#df-443136b5-fb76-43af-ba20-1cd3d82a5498');\n",
              "          const dataTable =\n",
              "            await google.colab.kernel.invokeFunction('convertToInteractive',\n",
              "                                                     [key], {});\n",
              "          if (!dataTable) return;\n",
              "\n",
              "          const docLinkHtml = 'Like what you see? Visit the ' +\n",
              "            '<a target=\"_blank\" href=https://colab.research.google.com/notebooks/data_table.ipynb>data table notebook</a>'\n",
              "            + ' to learn more about interactive tables.';\n",
              "          element.innerHTML = '';\n",
              "          dataTable['output_type'] = 'display_data';\n",
              "          await google.colab.output.renderOutput(dataTable, element);\n",
              "          const docLink = document.createElement('div');\n",
              "          docLink.innerHTML = docLinkHtml;\n",
              "          element.appendChild(docLink);\n",
              "        }\n",
              "      </script>\n",
              "    </div>\n",
              "  </div>\n",
              "  "
            ],
            "text/plain": [
              "        AXE11      AXE2\n",
              "0    0.001424 -0.059472\n",
              "1    0.001859 -0.032365\n",
              "2    0.001859 -0.032365\n",
              "3   -0.001565  0.052511\n",
              "4   -0.001238  0.047796\n",
              "..        ...       ...\n",
              "198  0.002694 -0.107134\n",
              "199  0.001341 -0.078564\n",
              "200  0.001998 -0.123163\n",
              "201 -0.000923  0.010676\n",
              "202  0.001179 -0.015548\n",
              "\n",
              "[203 rows x 2 columns]"
            ]
          },
          "metadata": {},
          "execution_count": 145
        }
      ]
    },
    {
      "cell_type": "code",
      "source": [
        "X_test4 = X_test.loc[:, X_test.columns != \"AXE12\"]\n",
        "X_test4 = X_test4.loc[:, X_test4.columns != \"AXE3\"]\n",
        "X_test4 = X_test4.loc[:, X_test4.columns != \"AXE4\"]\n",
        "X_test4 = X_test4.loc[:, X_test4.columns != \"AXE5\"]"
      ],
      "metadata": {
        "id": "BHbPJVE-Pphr"
      },
      "execution_count": 146,
      "outputs": []
    },
    {
      "cell_type": "code",
      "source": [
        "X_test4"
      ],
      "metadata": {
        "outputId": "0070a3fe-cb99-43e2-b3bb-d45b7d7a34a3",
        "colab": {
          "base_uri": "https://localhost:8080/",
          "height": 1000
        },
        "id": "v87j2CZXPphr"
      },
      "execution_count": 147,
      "outputs": [
        {
          "output_type": "execute_result",
          "data": {
            "text/html": [
              "\n",
              "  <div id=\"df-27f2ec57-92cc-424c-8d01-eea714d5b745\">\n",
              "    <div class=\"colab-df-container\">\n",
              "      <div>\n",
              "<style scoped>\n",
              "    .dataframe tbody tr th:only-of-type {\n",
              "        vertical-align: middle;\n",
              "    }\n",
              "\n",
              "    .dataframe tbody tr th {\n",
              "        vertical-align: top;\n",
              "    }\n",
              "\n",
              "    .dataframe thead th {\n",
              "        text-align: right;\n",
              "    }\n",
              "</style>\n",
              "<table border=\"1\" class=\"dataframe\">\n",
              "  <thead>\n",
              "    <tr style=\"text-align: right;\">\n",
              "      <th></th>\n",
              "      <th>AXE11</th>\n",
              "      <th>AXE2</th>\n",
              "    </tr>\n",
              "  </thead>\n",
              "  <tbody>\n",
              "    <tr>\n",
              "      <th>0</th>\n",
              "      <td>-0.001640</td>\n",
              "      <td>0.102308</td>\n",
              "    </tr>\n",
              "    <tr>\n",
              "      <th>1</th>\n",
              "      <td>-0.005890</td>\n",
              "      <td>0.008081</td>\n",
              "    </tr>\n",
              "    <tr>\n",
              "      <th>2</th>\n",
              "      <td>-0.005890</td>\n",
              "      <td>0.008081</td>\n",
              "    </tr>\n",
              "    <tr>\n",
              "      <th>3</th>\n",
              "      <td>0.000629</td>\n",
              "      <td>-0.077555</td>\n",
              "    </tr>\n",
              "    <tr>\n",
              "      <th>4</th>\n",
              "      <td>-0.002810</td>\n",
              "      <td>0.016373</td>\n",
              "    </tr>\n",
              "    <tr>\n",
              "      <th>5</th>\n",
              "      <td>-0.002760</td>\n",
              "      <td>0.021959</td>\n",
              "    </tr>\n",
              "    <tr>\n",
              "      <th>6</th>\n",
              "      <td>-0.000010</td>\n",
              "      <td>0.030925</td>\n",
              "    </tr>\n",
              "    <tr>\n",
              "      <th>7</th>\n",
              "      <td>0.001179</td>\n",
              "      <td>-0.022492</td>\n",
              "    </tr>\n",
              "    <tr>\n",
              "      <th>8</th>\n",
              "      <td>-0.002400</td>\n",
              "      <td>0.109514</td>\n",
              "    </tr>\n",
              "    <tr>\n",
              "      <th>9</th>\n",
              "      <td>-0.001750</td>\n",
              "      <td>0.090288</td>\n",
              "    </tr>\n",
              "    <tr>\n",
              "      <th>10</th>\n",
              "      <td>0.001006</td>\n",
              "      <td>-0.015819</td>\n",
              "    </tr>\n",
              "    <tr>\n",
              "      <th>11</th>\n",
              "      <td>0.001603</td>\n",
              "      <td>-0.067299</td>\n",
              "    </tr>\n",
              "    <tr>\n",
              "      <th>12</th>\n",
              "      <td>0.001609</td>\n",
              "      <td>-0.008849</td>\n",
              "    </tr>\n",
              "    <tr>\n",
              "      <th>13</th>\n",
              "      <td>-0.004120</td>\n",
              "      <td>0.113729</td>\n",
              "    </tr>\n",
              "    <tr>\n",
              "      <th>14</th>\n",
              "      <td>-0.000340</td>\n",
              "      <td>-0.003732</td>\n",
              "    </tr>\n",
              "    <tr>\n",
              "      <th>15</th>\n",
              "      <td>-0.001760</td>\n",
              "      <td>0.075740</td>\n",
              "    </tr>\n",
              "    <tr>\n",
              "      <th>16</th>\n",
              "      <td>-0.000031</td>\n",
              "      <td>-0.018632</td>\n",
              "    </tr>\n",
              "    <tr>\n",
              "      <th>17</th>\n",
              "      <td>0.000560</td>\n",
              "      <td>-0.012611</td>\n",
              "    </tr>\n",
              "    <tr>\n",
              "      <th>18</th>\n",
              "      <td>-0.000240</td>\n",
              "      <td>0.002100</td>\n",
              "    </tr>\n",
              "    <tr>\n",
              "      <th>19</th>\n",
              "      <td>0.002838</td>\n",
              "      <td>0.019787</td>\n",
              "    </tr>\n",
              "    <tr>\n",
              "      <th>20</th>\n",
              "      <td>-0.001240</td>\n",
              "      <td>0.030422</td>\n",
              "    </tr>\n",
              "    <tr>\n",
              "      <th>21</th>\n",
              "      <td>-0.000910</td>\n",
              "      <td>0.103213</td>\n",
              "    </tr>\n",
              "    <tr>\n",
              "      <th>22</th>\n",
              "      <td>0.000051</td>\n",
              "      <td>0.112808</td>\n",
              "    </tr>\n",
              "    <tr>\n",
              "      <th>23</th>\n",
              "      <td>-0.003130</td>\n",
              "      <td>0.109717</td>\n",
              "    </tr>\n",
              "    <tr>\n",
              "      <th>24</th>\n",
              "      <td>-0.000820</td>\n",
              "      <td>-0.100164</td>\n",
              "    </tr>\n",
              "    <tr>\n",
              "      <th>25</th>\n",
              "      <td>-0.001080</td>\n",
              "      <td>0.048052</td>\n",
              "    </tr>\n",
              "    <tr>\n",
              "      <th>26</th>\n",
              "      <td>-0.001990</td>\n",
              "      <td>-0.021120</td>\n",
              "    </tr>\n",
              "    <tr>\n",
              "      <th>27</th>\n",
              "      <td>-0.002620</td>\n",
              "      <td>0.062814</td>\n",
              "    </tr>\n",
              "    <tr>\n",
              "      <th>28</th>\n",
              "      <td>-0.003280</td>\n",
              "      <td>0.146760</td>\n",
              "    </tr>\n",
              "    <tr>\n",
              "      <th>29</th>\n",
              "      <td>0.002210</td>\n",
              "      <td>0.055754</td>\n",
              "    </tr>\n",
              "    <tr>\n",
              "      <th>30</th>\n",
              "      <td>-0.003510</td>\n",
              "      <td>0.045481</td>\n",
              "    </tr>\n",
              "    <tr>\n",
              "      <th>31</th>\n",
              "      <td>-0.003510</td>\n",
              "      <td>0.045481</td>\n",
              "    </tr>\n",
              "    <tr>\n",
              "      <th>32</th>\n",
              "      <td>-0.001820</td>\n",
              "      <td>0.064932</td>\n",
              "    </tr>\n",
              "    <tr>\n",
              "      <th>33</th>\n",
              "      <td>0.003424</td>\n",
              "      <td>0.016161</td>\n",
              "    </tr>\n",
              "    <tr>\n",
              "      <th>34</th>\n",
              "      <td>-0.001870</td>\n",
              "      <td>0.003016</td>\n",
              "    </tr>\n",
              "    <tr>\n",
              "      <th>35</th>\n",
              "      <td>-0.003410</td>\n",
              "      <td>0.055900</td>\n",
              "    </tr>\n",
              "    <tr>\n",
              "      <th>36</th>\n",
              "      <td>0.001568</td>\n",
              "      <td>-0.034828</td>\n",
              "    </tr>\n",
              "    <tr>\n",
              "      <th>37</th>\n",
              "      <td>0.003009</td>\n",
              "      <td>-0.071017</td>\n",
              "    </tr>\n",
              "    <tr>\n",
              "      <th>38</th>\n",
              "      <td>0.000970</td>\n",
              "      <td>-0.021193</td>\n",
              "    </tr>\n",
              "    <tr>\n",
              "      <th>39</th>\n",
              "      <td>0.004510</td>\n",
              "      <td>-0.092814</td>\n",
              "    </tr>\n",
              "    <tr>\n",
              "      <th>40</th>\n",
              "      <td>-0.002490</td>\n",
              "      <td>0.065449</td>\n",
              "    </tr>\n",
              "    <tr>\n",
              "      <th>41</th>\n",
              "      <td>0.002015</td>\n",
              "      <td>0.013261</td>\n",
              "    </tr>\n",
              "    <tr>\n",
              "      <th>42</th>\n",
              "      <td>0.000355</td>\n",
              "      <td>-0.118880</td>\n",
              "    </tr>\n",
              "    <tr>\n",
              "      <th>43</th>\n",
              "      <td>0.001272</td>\n",
              "      <td>-0.013157</td>\n",
              "    </tr>\n",
              "    <tr>\n",
              "      <th>44</th>\n",
              "      <td>0.005844</td>\n",
              "      <td>-0.068927</td>\n",
              "    </tr>\n",
              "    <tr>\n",
              "      <th>45</th>\n",
              "      <td>0.000196</td>\n",
              "      <td>-0.033680</td>\n",
              "    </tr>\n",
              "    <tr>\n",
              "      <th>46</th>\n",
              "      <td>-0.000690</td>\n",
              "      <td>-0.066152</td>\n",
              "    </tr>\n",
              "    <tr>\n",
              "      <th>47</th>\n",
              "      <td>-0.001120</td>\n",
              "      <td>0.049230</td>\n",
              "    </tr>\n",
              "    <tr>\n",
              "      <th>48</th>\n",
              "      <td>-0.001530</td>\n",
              "      <td>-0.106042</td>\n",
              "    </tr>\n",
              "    <tr>\n",
              "      <th>49</th>\n",
              "      <td>0.001075</td>\n",
              "      <td>-0.096706</td>\n",
              "    </tr>\n",
              "    <tr>\n",
              "      <th>50</th>\n",
              "      <td>-0.005070</td>\n",
              "      <td>0.029881</td>\n",
              "    </tr>\n",
              "  </tbody>\n",
              "</table>\n",
              "</div>\n",
              "      <button class=\"colab-df-convert\" onclick=\"convertToInteractive('df-27f2ec57-92cc-424c-8d01-eea714d5b745')\"\n",
              "              title=\"Convert this dataframe to an interactive table.\"\n",
              "              style=\"display:none;\">\n",
              "        \n",
              "  <svg xmlns=\"http://www.w3.org/2000/svg\" height=\"24px\"viewBox=\"0 0 24 24\"\n",
              "       width=\"24px\">\n",
              "    <path d=\"M0 0h24v24H0V0z\" fill=\"none\"/>\n",
              "    <path d=\"M18.56 5.44l.94 2.06.94-2.06 2.06-.94-2.06-.94-.94-2.06-.94 2.06-2.06.94zm-11 1L8.5 8.5l.94-2.06 2.06-.94-2.06-.94L8.5 2.5l-.94 2.06-2.06.94zm10 10l.94 2.06.94-2.06 2.06-.94-2.06-.94-.94-2.06-.94 2.06-2.06.94z\"/><path d=\"M17.41 7.96l-1.37-1.37c-.4-.4-.92-.59-1.43-.59-.52 0-1.04.2-1.43.59L10.3 9.45l-7.72 7.72c-.78.78-.78 2.05 0 2.83L4 21.41c.39.39.9.59 1.41.59.51 0 1.02-.2 1.41-.59l7.78-7.78 2.81-2.81c.8-.78.8-2.07 0-2.86zM5.41 20L4 18.59l7.72-7.72 1.47 1.35L5.41 20z\"/>\n",
              "  </svg>\n",
              "      </button>\n",
              "      \n",
              "  <style>\n",
              "    .colab-df-container {\n",
              "      display:flex;\n",
              "      flex-wrap:wrap;\n",
              "      gap: 12px;\n",
              "    }\n",
              "\n",
              "    .colab-df-convert {\n",
              "      background-color: #E8F0FE;\n",
              "      border: none;\n",
              "      border-radius: 50%;\n",
              "      cursor: pointer;\n",
              "      display: none;\n",
              "      fill: #1967D2;\n",
              "      height: 32px;\n",
              "      padding: 0 0 0 0;\n",
              "      width: 32px;\n",
              "    }\n",
              "\n",
              "    .colab-df-convert:hover {\n",
              "      background-color: #E2EBFA;\n",
              "      box-shadow: 0px 1px 2px rgba(60, 64, 67, 0.3), 0px 1px 3px 1px rgba(60, 64, 67, 0.15);\n",
              "      fill: #174EA6;\n",
              "    }\n",
              "\n",
              "    [theme=dark] .colab-df-convert {\n",
              "      background-color: #3B4455;\n",
              "      fill: #D2E3FC;\n",
              "    }\n",
              "\n",
              "    [theme=dark] .colab-df-convert:hover {\n",
              "      background-color: #434B5C;\n",
              "      box-shadow: 0px 1px 3px 1px rgba(0, 0, 0, 0.15);\n",
              "      filter: drop-shadow(0px 1px 2px rgba(0, 0, 0, 0.3));\n",
              "      fill: #FFFFFF;\n",
              "    }\n",
              "  </style>\n",
              "\n",
              "      <script>\n",
              "        const buttonEl =\n",
              "          document.querySelector('#df-27f2ec57-92cc-424c-8d01-eea714d5b745 button.colab-df-convert');\n",
              "        buttonEl.style.display =\n",
              "          google.colab.kernel.accessAllowed ? 'block' : 'none';\n",
              "\n",
              "        async function convertToInteractive(key) {\n",
              "          const element = document.querySelector('#df-27f2ec57-92cc-424c-8d01-eea714d5b745');\n",
              "          const dataTable =\n",
              "            await google.colab.kernel.invokeFunction('convertToInteractive',\n",
              "                                                     [key], {});\n",
              "          if (!dataTable) return;\n",
              "\n",
              "          const docLinkHtml = 'Like what you see? Visit the ' +\n",
              "            '<a target=\"_blank\" href=https://colab.research.google.com/notebooks/data_table.ipynb>data table notebook</a>'\n",
              "            + ' to learn more about interactive tables.';\n",
              "          element.innerHTML = '';\n",
              "          dataTable['output_type'] = 'display_data';\n",
              "          await google.colab.output.renderOutput(dataTable, element);\n",
              "          const docLink = document.createElement('div');\n",
              "          docLink.innerHTML = docLinkHtml;\n",
              "          element.appendChild(docLink);\n",
              "        }\n",
              "      </script>\n",
              "    </div>\n",
              "  </div>\n",
              "  "
            ],
            "text/plain": [
              "       AXE11      AXE2\n",
              "0  -0.001640  0.102308\n",
              "1  -0.005890  0.008081\n",
              "2  -0.005890  0.008081\n",
              "3   0.000629 -0.077555\n",
              "4  -0.002810  0.016373\n",
              "5  -0.002760  0.021959\n",
              "6  -0.000010  0.030925\n",
              "7   0.001179 -0.022492\n",
              "8  -0.002400  0.109514\n",
              "9  -0.001750  0.090288\n",
              "10  0.001006 -0.015819\n",
              "11  0.001603 -0.067299\n",
              "12  0.001609 -0.008849\n",
              "13 -0.004120  0.113729\n",
              "14 -0.000340 -0.003732\n",
              "15 -0.001760  0.075740\n",
              "16 -0.000031 -0.018632\n",
              "17  0.000560 -0.012611\n",
              "18 -0.000240  0.002100\n",
              "19  0.002838  0.019787\n",
              "20 -0.001240  0.030422\n",
              "21 -0.000910  0.103213\n",
              "22  0.000051  0.112808\n",
              "23 -0.003130  0.109717\n",
              "24 -0.000820 -0.100164\n",
              "25 -0.001080  0.048052\n",
              "26 -0.001990 -0.021120\n",
              "27 -0.002620  0.062814\n",
              "28 -0.003280  0.146760\n",
              "29  0.002210  0.055754\n",
              "30 -0.003510  0.045481\n",
              "31 -0.003510  0.045481\n",
              "32 -0.001820  0.064932\n",
              "33  0.003424  0.016161\n",
              "34 -0.001870  0.003016\n",
              "35 -0.003410  0.055900\n",
              "36  0.001568 -0.034828\n",
              "37  0.003009 -0.071017\n",
              "38  0.000970 -0.021193\n",
              "39  0.004510 -0.092814\n",
              "40 -0.002490  0.065449\n",
              "41  0.002015  0.013261\n",
              "42  0.000355 -0.118880\n",
              "43  0.001272 -0.013157\n",
              "44  0.005844 -0.068927\n",
              "45  0.000196 -0.033680\n",
              "46 -0.000690 -0.066152\n",
              "47 -0.001120  0.049230\n",
              "48 -0.001530 -0.106042\n",
              "49  0.001075 -0.096706\n",
              "50 -0.005070  0.029881"
            ]
          },
          "metadata": {},
          "execution_count": 147
        }
      ]
    },
    {
      "cell_type": "code",
      "source": [
        "classifiers = {\n",
        "\"XGBClassifier\": XGBClassifier(scale_pos_weight=1,learning_rate=0.5,max_depth=5,n_estimators=150,objective=\"binary:logistic\"),\n",
        "\"LogisticRegression\": LogisticRegression(max_iter=100, solver='lbfgs', class_weight='balanced'),\n",
        "\"RandomForestClassifier\": RandomForestClassifier(n_estimators=100, criterion='gini', max_depth=5 ,min_samples_split=2),\n",
        "\"GradientBoostingClassifier\":GradientBoostingClassifier(n_estimators=225, learning_rate=0.1, max_features=2, max_depth=2, random_state=0,min_samples_leaf=2,subsample=1),\n",
        "\"Gaussian\":GaussianNB(),\n",
        "\"KNN\":KNeighborsClassifier(n_neighbors=6),\n",
        "\"MLPC\":MLPClassifier(hidden_layer_sizes=100,max_iter=300)\n",
        "}\n",
        "for name, clf in classifiers.items():\n",
        "    print(\"############################\")\n",
        "    print(name)\n",
        "    # fit the model\n",
        "    clf.fit(X_app4,Y_app)\n",
        "    # fit the model \n",
        "    preds = clf.predict(X_test4)\n",
        "    cf_matrix = confusion_matrix(Y_test, preds)\n",
        "    print(cf_matrix)\n",
        "    # report performance\n",
        "    print('MCC:', MCC(Y_test, preds))\n",
        "    print('sensibilité :',sensibilite(Y_test, preds))\n",
        "    print('spécificité :',specifite(Y_test, preds))\n",
        "    print('balanced_accuracy :',balancedacc(Y_test, preds))\n",
        "    print('présicion_négative :',présicion_négative(Y_test, preds))\n",
        "    print('présicion_positive :',présicion_positive(Y_test, preds))\n",
        "    print('cohen_kappa_scorec :',kappa(Y_test, preds))\n",
        "    y_pred_proba = clf.predict_proba(X_test4)[::,1]\n",
        "    fpr, tpr, _ = metrics.roc_curve(Y_test,  y_pred_proba)\n",
        "    auc = metrics.roc_auc_score(Y_test, y_pred_proba)\n",
        "    plt.plot(fpr,tpr,label=\"courbe roc, auc=\"+str(auc))\n",
        "    plt.legend(loc=4)\n",
        "    plt.show()\n"
      ],
      "metadata": {
        "outputId": "1619e563-342a-4c81-bbbf-16124b03ed1c",
        "colab": {
          "base_uri": "https://localhost:8080/",
          "height": 1000
        },
        "id": "RTHf8JtcPphs"
      },
      "execution_count": 148,
      "outputs": [
        {
          "output_type": "stream",
          "name": "stdout",
          "text": [
            "############################\n",
            "XGBClassifier\n",
            "[[24  7]\n",
            " [ 9 11]]\n",
            "MCC: 0.33121270700639255\n",
            "sensibilité : 0.55\n",
            "spécificité : 0.7741935483870968\n",
            "balanced_accuracy : 0.6691919191919192\n",
            "présicion_négative : 0.7272727272727273\n",
            "présicion_positive : 0.6111111111111112\n",
            "cohen_kappa_scorec : 0.3300492610837439\n"
          ]
        },
        {
          "output_type": "display_data",
          "data": {
            "image/png": "[encoded data removed]",
            "text/plain": [
              "<Figure size 432x288 with 1 Axes>"
            ]
          },
          "metadata": {
            "needs_background": "light"
          }
        },
        {
          "output_type": "stream",
          "name": "stdout",
          "text": [
            "############################\n",
            "LogisticRegression\n",
            "[[21 10]\n",
            " [ 8 12]]\n",
            "MCC: 0.2734779166531664\n",
            "sensibilité : 0.6\n",
            "spécificité : 0.6774193548387096\n",
            "balanced_accuracy : 0.634796238244514\n",
            "présicion_négative : 0.7241379310344828\n",
            "présicion_positive : 0.5454545454545454\n",
            "cohen_kappa_scorec : 0.27258320126782887\n"
          ]
        },
        {
          "output_type": "display_data",
          "data": {
            "image/png": "[encoded data removed]",
            "text/plain": [
              "<Figure size 432x288 with 1 Axes>"
            ]
          },
          "metadata": {
            "needs_background": "light"
          }
        },
        {
          "output_type": "stream",
          "name": "stdout",
          "text": [
            "############################\n",
            "RandomForestClassifier\n",
            "[[22  9]\n",
            " [ 9 11]]\n",
            "MCC: 0.25967741935483873\n",
            "sensibilité : 0.55\n",
            "spécificité : 0.7096774193548387\n",
            "balanced_accuracy : 0.6298387096774194\n",
            "présicion_négative : 0.7096774193548387\n",
            "présicion_positive : 0.55\n",
            "cohen_kappa_scorec : 0.2596774193548387\n"
          ]
        },
        {
          "output_type": "display_data",
          "data": {
            "image/png": "[encoded data removed]",
            "text/plain": [
              "<Figure size 432x288 with 1 Axes>"
            ]
          },
          "metadata": {
            "needs_background": "light"
          }
        },
        {
          "output_type": "stream",
          "name": "stdout",
          "text": [
            "############################\n",
            "GradientBoostingClassifier\n",
            "[[23  8]\n",
            " [ 9 11]]\n",
            "MCC: 0.29480234954476486\n",
            "sensibilité : 0.55\n",
            "spécificité : 0.7419354838709677\n",
            "balanced_accuracy : 0.6488486842105263\n",
            "présicion_négative : 0.71875\n",
            "présicion_positive : 0.5789473684210527\n",
            "cohen_kappa_scorec : 0.29454841334418225\n"
          ]
        },
        {
          "output_type": "display_data",
          "data": {
            "image/png": "[encoded data removed]",
            "text/plain": [
              "<Figure size 432x288 with 1 Axes>"
            ]
          },
          "metadata": {
            "needs_background": "light"
          }
        },
        {
          "output_type": "stream",
          "name": "stdout",
          "text": [
            "############################\n",
            "Gaussian\n",
            "[[21 10]\n",
            " [ 7 13]]\n",
            "MCC: 0.3212604471372264\n",
            "sensibilité : 0.65\n",
            "spécificité : 0.6774193548387096\n",
            "balanced_accuracy : 0.6576086956521738\n",
            "présicion_négative : 0.75\n",
            "présicion_positive : 0.5652173913043478\n",
            "cohen_kappa_scorec : 0.31893165750196384\n"
          ]
        },
        {
          "output_type": "display_data",
          "data": {
            "image/png": "[encoded data removed]",
            "text/plain": [
              "<Figure size 432x288 with 1 Axes>"
            ]
          },
          "metadata": {
            "needs_background": "light"
          }
        },
        {
          "output_type": "stream",
          "name": "stdout",
          "text": [
            "############################\n",
            "KNN\n",
            "[[20 11]\n",
            " [ 7 13]]\n",
            "MCC: 0.2887139324089246\n",
            "sensibilité : 0.65\n",
            "spécificité : 0.6451612903225806\n",
            "balanced_accuracy : 0.6412037037037037\n",
            "présicion_négative : 0.7407407407407407\n",
            "présicion_positive : 0.5416666666666666\n",
            "cohen_kappa_scorec : 0.2850467289719626\n"
          ]
        },
        {
          "output_type": "display_data",
          "data": {
            "image/png": "[encoded data removed]",
            "text/plain": [
              "<Figure size 432x288 with 1 Axes>"
            ]
          },
          "metadata": {
            "needs_background": "light"
          }
        },
        {
          "output_type": "stream",
          "name": "stdout",
          "text": [
            "############################\n",
            "MLPC\n"
          ]
        },
        {
          "output_type": "stream",
          "name": "stderr",
          "text": [
            "/usr/local/lib/python3.7/dist-packages/sklearn/neural_network/_multilayer_perceptron.py:696: ConvergenceWarning: Stochastic Optimizer: Maximum iterations (300) reached and the optimization hasn't converged yet.\n",
            "  ConvergenceWarning,\n"
          ]
        },
        {
          "output_type": "stream",
          "name": "stdout",
          "text": [
            "[[18 13]\n",
            " [ 5 15]]\n",
            "MCC: 0.32442557469522865\n",
            "sensibilité : 0.75\n",
            "spécificité : 0.5806451612903226\n",
            "balanced_accuracy : 0.6591614906832298\n",
            "présicion_négative : 0.782608695652174\n",
            "présicion_positive : 0.5357142857142857\n",
            "cohen_kappa_scorec : 0.3087349397590361\n"
          ]
        },
        {
          "output_type": "display_data",
          "data": {
            "image/png": "[encoded data removed]",
            "text/plain": [
              "<Figure size 432x288 with 1 Axes>"
            ]
          },
          "metadata": {
            "needs_background": "light"
          }
        }
      ]
    },
    {
      "cell_type": "markdown",
      "source": [
        "*SVM*"
      ],
      "metadata": {
        "id": "BuUOb-YgPpht"
      }
    },
    {
      "cell_type": "code",
      "source": [
        "Classifier_SVM = svm.SVC(kernel='rbf',gamma=0.05,C=12)\n",
        "Classifier_SVM.fit(X_app4, Y_app)\n",
        "preds_svm = Classifier_SVM.predict(X_test4)"
      ],
      "metadata": {
        "id": "4wE7I30APphu"
      },
      "execution_count": 149,
      "outputs": []
    },
    {
      "cell_type": "code",
      "metadata": {
        "colab": {
          "base_uri": "https://localhost:8080/"
        },
        "outputId": "c88d824d-02c4-4476-c352-7d280cc7433a",
        "id": "dQEU7wsGPphu"
      },
      "source": [
        "preds_svm"
      ],
      "execution_count": 150,
      "outputs": [
        {
          "output_type": "execute_result",
          "data": {
            "text/plain": [
              "array([0, 1, 1, 1, 1, 1, 0, 1, 0, 0, 1, 1, 1, 0, 1, 0, 1, 1, 1, 1, 0, 0,\n",
              "       0, 0, 1, 0, 1, 0, 0, 0, 0, 0, 0, 1, 1, 0, 1, 1, 1, 1, 0, 1, 1, 1,\n",
              "       1, 1, 1, 0, 1, 1, 0])"
            ]
          },
          "metadata": {},
          "execution_count": 150
        }
      ]
    },
    {
      "cell_type": "code",
      "source": [
        "cf_matrix = confusion_matrix(Y_test, preds_svm)\n",
        "print(cf_matrix)\n",
        "# report performance\n",
        "print('MCC:', MCC(Y_test, preds_svm))\n",
        "print('sensibilité :',sensibilite(Y_test, preds_svm))\n",
        "print('spécificité :',specifite(Y_test, preds_svm))\n",
        "print('balanced_accuracy :',balancedacc(Y_test, preds_svm))\n",
        "print('présicion_négative :',présicion_négative(Y_test, preds_svm))\n",
        "print('présicion_positive :',présicion_positive(Y_test, preds_svm))\n",
        "print('cohen_kappa_scorec :',kappa(Y_test, preds_svm))\n",
        "print('AUC :',roc_auc_score(Y_test, Classifier_SVM.decision_function(X_test4)))\n"
      ],
      "metadata": {
        "outputId": "2d3c957e-f283-46b7-b549-d722b46791d4",
        "colab": {
          "base_uri": "https://localhost:8080/"
        },
        "id": "G2xgFqflPphv"
      },
      "execution_count": 151,
      "outputs": [
        {
          "output_type": "stream",
          "name": "stdout",
          "text": [
            "[[16 15]\n",
            " [ 5 15]]\n",
            "MCC: 0.2640084484055256\n",
            "sensibilité : 0.75\n",
            "spécificité : 0.5161290322580645\n",
            "balanced_accuracy : 0.6309523809523809\n",
            "présicion_négative : 0.7619047619047619\n",
            "présicion_positive : 0.5\n",
            "cohen_kappa_scorec : 0.24444444444444435\n",
            "AUC : 0.7290322580645161\n"
          ]
        }
      ]
    }
  ]
}