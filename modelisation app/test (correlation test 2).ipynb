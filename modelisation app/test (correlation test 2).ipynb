{
  "nbformat": 4,
  "nbformat_minor": 0,
  "metadata": {
    "colab": {
      "name": "Untitled79.ipynb",
      "provenance": [],
      "authorship_tag": "ABX9TyOtHhDqbsMiYntmDNSfge71",
      "include_colab_link": true
    },
    "kernelspec": {
      "name": "python3",
      "display_name": "Python 3"
    },
    "language_info": {
      "name": "python"
    }
  },
  "cells": [
    {
      "cell_type": "markdown",
      "metadata": {
        "id": "view-in-github",
        "colab_type": "text"
      },
      "source": [
        "<a href=\"https://colab.research.google.com/github/meriemdouider1/mois1-mois2/blob/main/modelisation%20app/test%20(correlation%20test%202).ipynb\" target=\"_parent\"><img src=\"https://colab.research.google.com/assets/colab-badge.svg\" alt=\"Open In Colab\"/></a>"
      ]
    },
    {
      "cell_type": "code",
      "metadata": {
        "id": "RlmUgAkuFdId"
      },
      "source": [
        "import sklearn\n",
        "import pandas as pd\n",
        "import numpy as np\n",
        "import matplotlib.pyplot as plt\n",
        "import seaborn as sns\n",
        "from sklearn.model_selection import train_test_split\n",
        "from sklearn.ensemble import RandomForestRegressor, RandomForestClassifier\n",
        "from sklearn.metrics import roc_auc_score, r2_score\n",
        "import sklearn\n",
        "import pandas as pd\n",
        "import numpy as np\n",
        "import matplotlib.pyplot as plt\n",
        "import seaborn as sns\n",
        "from sklearn.naive_bayes import GaussianNB\n",
        "from sklearn.ensemble import BaggingClassifier\n",
        "from sklearn.tree import DecisionTreeClassifier\n",
        "from xgboost import XGBClassifier\n",
        "from sklearn.metrics import accuracy_score\n",
        "from sklearn.metrics import precision_score\n",
        "from sklearn.metrics import recall_score\n",
        "from sklearn.metrics import f1_score\n",
        "from sklearn.metrics import confusion_matrix\n",
        "import numpy\n",
        "import sklearn.metrics as metrics\n",
        "from sklearn.ensemble import RandomForestClassifier\n",
        "from sklearn.neighbors import KNeighborsClassifier\n",
        "from sklearn import svm\n",
        "from sklearn.model_selection import StratifiedKFold\n",
        "from sklearn.model_selection import cross_val_score\n",
        "from sklearn.model_selection import LeaveOneOut\n",
        "from numpy import mean\n",
        "from numpy import std\n",
        "from sklearn.datasets import make_classification\n",
        "from sklearn.model_selection import KFold\n",
        "from sklearn.model_selection import cross_val_score\n",
        "from sklearn.linear_model import LogisticRegression\n",
        "from sklearn.metrics import make_scorer\n",
        "import matplotlib.pyplot as plt\n",
        "from sklearn.model_selection import LeaveOneOut\n",
        "from sklearn.datasets import make_classification\n",
        "from sklearn.ensemble import RandomForestClassifier\n",
        "from sklearn import datasets, metrics, model_selection, svm\n",
        "import numpy as np\n",
        "from sklearn import svm, datasets\n",
        "from sklearn.metrics import auc\n",
        "from sklearn.metrics import plot_roc_curve\n",
        "from sklearn.model_selection import StratifiedKFold\n",
        "from sklearn.datasets import make_classification\n",
        "from sklearn.ensemble import RandomForestClassifier\n",
        "from sklearn import datasets, metrics, model_selection, svm\n",
        "from sklearn.metrics import matthews_corrcoef\n",
        "from sklearn.svm import SVC\n",
        "from sklearn.metrics import cohen_kappa_score\n",
        "from sklearn.ensemble import GradientBoostingClassifier\n",
        "from sklearn.feature_selection import RFE\n",
        "from sklearn.pipeline import Pipeline\n",
        "from matplotlib import pyplot\n",
        "from sklearn.metrics import recall_score\n"
      ],
      "execution_count": 1,
      "outputs": []
    },
    {
      "cell_type": "code",
      "metadata": {
        "id": "eZpW8fsXFrh3"
      },
      "source": [
        "Cl = '/content/AXEAPP.xlsx' \n",
        "apprentissage= pd.read_excel(Cl, sheet_name=0,header=0,index_col=False, keep_default_na=True)"
      ],
      "execution_count": 2,
      "outputs": []
    },
    {
      "cell_type": "code",
      "source": [
        "apprentissage"
      ],
      "metadata": {
        "colab": {
          "base_uri": "https://localhost:8080/",
          "height": 423
        },
        "id": "vLoByxZ1jqnm",
        "outputId": "b91f22e7-cdfb-4372-c9d1-4c3ef1c20ef2"
      },
      "execution_count": 3,
      "outputs": [
        {
          "output_type": "execute_result",
          "data": {
            "text/html": [
              "\n",
              "  <div id=\"df-7fbc936b-d378-4e9b-b100-383b8a12635a\">\n",
              "    <div class=\"colab-df-container\">\n",
              "      <div>\n",
              "<style scoped>\n",
              "    .dataframe tbody tr th:only-of-type {\n",
              "        vertical-align: middle;\n",
              "    }\n",
              "\n",
              "    .dataframe tbody tr th {\n",
              "        vertical-align: top;\n",
              "    }\n",
              "\n",
              "    .dataframe thead th {\n",
              "        text-align: right;\n",
              "    }\n",
              "</style>\n",
              "<table border=\"1\" class=\"dataframe\">\n",
              "  <thead>\n",
              "    <tr style=\"text-align: right;\">\n",
              "      <th></th>\n",
              "      <th>AXE11</th>\n",
              "      <th>AXE12</th>\n",
              "      <th>AXE2</th>\n",
              "      <th>AXE3</th>\n",
              "      <th>AXE4</th>\n",
              "      <th>AXE5</th>\n",
              "      <th>Cs_longia</th>\n",
              "    </tr>\n",
              "  </thead>\n",
              "  <tbody>\n",
              "    <tr>\n",
              "      <th>0</th>\n",
              "      <td>-0.001681</td>\n",
              "      <td>0.009907</td>\n",
              "      <td>-0.025728</td>\n",
              "      <td>-0.563805</td>\n",
              "      <td>-0.926993</td>\n",
              "      <td>-0.225636</td>\n",
              "      <td>1</td>\n",
              "    </tr>\n",
              "    <tr>\n",
              "      <th>1</th>\n",
              "      <td>-0.001681</td>\n",
              "      <td>0.009907</td>\n",
              "      <td>-0.025728</td>\n",
              "      <td>-0.563805</td>\n",
              "      <td>-0.926993</td>\n",
              "      <td>-0.225636</td>\n",
              "      <td>1</td>\n",
              "    </tr>\n",
              "    <tr>\n",
              "      <th>2</th>\n",
              "      <td>-0.000142</td>\n",
              "      <td>0.015543</td>\n",
              "      <td>0.036720</td>\n",
              "      <td>-1.019368</td>\n",
              "      <td>-0.685684</td>\n",
              "      <td>0.067701</td>\n",
              "      <td>0</td>\n",
              "    </tr>\n",
              "    <tr>\n",
              "      <th>3</th>\n",
              "      <td>0.000509</td>\n",
              "      <td>0.013638</td>\n",
              "      <td>0.012478</td>\n",
              "      <td>-0.948691</td>\n",
              "      <td>-0.340524</td>\n",
              "      <td>-0.004803</td>\n",
              "      <td>0</td>\n",
              "    </tr>\n",
              "    <tr>\n",
              "      <th>4</th>\n",
              "      <td>0.000445</td>\n",
              "      <td>0.013638</td>\n",
              "      <td>0.013898</td>\n",
              "      <td>-0.957960</td>\n",
              "      <td>-0.192580</td>\n",
              "      <td>-0.009190</td>\n",
              "      <td>0</td>\n",
              "    </tr>\n",
              "    <tr>\n",
              "      <th>...</th>\n",
              "      <td>...</td>\n",
              "      <td>...</td>\n",
              "      <td>...</td>\n",
              "      <td>...</td>\n",
              "      <td>...</td>\n",
              "      <td>...</td>\n",
              "      <td>...</td>\n",
              "    </tr>\n",
              "    <tr>\n",
              "      <th>198</th>\n",
              "      <td>-0.000530</td>\n",
              "      <td>-0.002976</td>\n",
              "      <td>-0.040308</td>\n",
              "      <td>-0.319123</td>\n",
              "      <td>-1.511360</td>\n",
              "      <td>-0.294031</td>\n",
              "      <td>1</td>\n",
              "    </tr>\n",
              "    <tr>\n",
              "      <th>199</th>\n",
              "      <td>-0.000194</td>\n",
              "      <td>-0.020561</td>\n",
              "      <td>0.001361</td>\n",
              "      <td>-0.349366</td>\n",
              "      <td>0.577311</td>\n",
              "      <td>-0.129894</td>\n",
              "      <td>1</td>\n",
              "    </tr>\n",
              "    <tr>\n",
              "      <th>200</th>\n",
              "      <td>-0.001884</td>\n",
              "      <td>-0.028565</td>\n",
              "      <td>-0.056849</td>\n",
              "      <td>-0.805238</td>\n",
              "      <td>0.515859</td>\n",
              "      <td>-0.327260</td>\n",
              "      <td>1</td>\n",
              "    </tr>\n",
              "    <tr>\n",
              "      <th>201</th>\n",
              "      <td>-0.001585</td>\n",
              "      <td>-0.024767</td>\n",
              "      <td>-0.057449</td>\n",
              "      <td>-0.914402</td>\n",
              "      <td>-0.182257</td>\n",
              "      <td>-0.212477</td>\n",
              "      <td>1</td>\n",
              "    </tr>\n",
              "    <tr>\n",
              "      <th>202</th>\n",
              "      <td>0.000380</td>\n",
              "      <td>-0.026242</td>\n",
              "      <td>0.001453</td>\n",
              "      <td>-0.666824</td>\n",
              "      <td>0.442024</td>\n",
              "      <td>0.296985</td>\n",
              "      <td>1</td>\n",
              "    </tr>\n",
              "  </tbody>\n",
              "</table>\n",
              "<p>203 rows × 7 columns</p>\n",
              "</div>\n",
              "      <button class=\"colab-df-convert\" onclick=\"convertToInteractive('df-7fbc936b-d378-4e9b-b100-383b8a12635a')\"\n",
              "              title=\"Convert this dataframe to an interactive table.\"\n",
              "              style=\"display:none;\">\n",
              "        \n",
              "  <svg xmlns=\"http://www.w3.org/2000/svg\" height=\"24px\"viewBox=\"0 0 24 24\"\n",
              "       width=\"24px\">\n",
              "    <path d=\"M0 0h24v24H0V0z\" fill=\"none\"/>\n",
              "    <path d=\"M18.56 5.44l.94 2.06.94-2.06 2.06-.94-2.06-.94-.94-2.06-.94 2.06-2.06.94zm-11 1L8.5 8.5l.94-2.06 2.06-.94-2.06-.94L8.5 2.5l-.94 2.06-2.06.94zm10 10l.94 2.06.94-2.06 2.06-.94-2.06-.94-.94-2.06-.94 2.06-2.06.94z\"/><path d=\"M17.41 7.96l-1.37-1.37c-.4-.4-.92-.59-1.43-.59-.52 0-1.04.2-1.43.59L10.3 9.45l-7.72 7.72c-.78.78-.78 2.05 0 2.83L4 21.41c.39.39.9.59 1.41.59.51 0 1.02-.2 1.41-.59l7.78-7.78 2.81-2.81c.8-.78.8-2.07 0-2.86zM5.41 20L4 18.59l7.72-7.72 1.47 1.35L5.41 20z\"/>\n",
              "  </svg>\n",
              "      </button>\n",
              "      \n",
              "  <style>\n",
              "    .colab-df-container {\n",
              "      display:flex;\n",
              "      flex-wrap:wrap;\n",
              "      gap: 12px;\n",
              "    }\n",
              "\n",
              "    .colab-df-convert {\n",
              "      background-color: #E8F0FE;\n",
              "      border: none;\n",
              "      border-radius: 50%;\n",
              "      cursor: pointer;\n",
              "      display: none;\n",
              "      fill: #1967D2;\n",
              "      height: 32px;\n",
              "      padding: 0 0 0 0;\n",
              "      width: 32px;\n",
              "    }\n",
              "\n",
              "    .colab-df-convert:hover {\n",
              "      background-color: #E2EBFA;\n",
              "      box-shadow: 0px 1px 2px rgba(60, 64, 67, 0.3), 0px 1px 3px 1px rgba(60, 64, 67, 0.15);\n",
              "      fill: #174EA6;\n",
              "    }\n",
              "\n",
              "    [theme=dark] .colab-df-convert {\n",
              "      background-color: #3B4455;\n",
              "      fill: #D2E3FC;\n",
              "    }\n",
              "\n",
              "    [theme=dark] .colab-df-convert:hover {\n",
              "      background-color: #434B5C;\n",
              "      box-shadow: 0px 1px 3px 1px rgba(0, 0, 0, 0.15);\n",
              "      filter: drop-shadow(0px 1px 2px rgba(0, 0, 0, 0.3));\n",
              "      fill: #FFFFFF;\n",
              "    }\n",
              "  </style>\n",
              "\n",
              "      <script>\n",
              "        const buttonEl =\n",
              "          document.querySelector('#df-7fbc936b-d378-4e9b-b100-383b8a12635a button.colab-df-convert');\n",
              "        buttonEl.style.display =\n",
              "          google.colab.kernel.accessAllowed ? 'block' : 'none';\n",
              "\n",
              "        async function convertToInteractive(key) {\n",
              "          const element = document.querySelector('#df-7fbc936b-d378-4e9b-b100-383b8a12635a');\n",
              "          const dataTable =\n",
              "            await google.colab.kernel.invokeFunction('convertToInteractive',\n",
              "                                                     [key], {});\n",
              "          if (!dataTable) return;\n",
              "\n",
              "          const docLinkHtml = 'Like what you see? Visit the ' +\n",
              "            '<a target=\"_blank\" href=https://colab.research.google.com/notebooks/data_table.ipynb>data table notebook</a>'\n",
              "            + ' to learn more about interactive tables.';\n",
              "          element.innerHTML = '';\n",
              "          dataTable['output_type'] = 'display_data';\n",
              "          await google.colab.output.renderOutput(dataTable, element);\n",
              "          const docLink = document.createElement('div');\n",
              "          docLink.innerHTML = docLinkHtml;\n",
              "          element.appendChild(docLink);\n",
              "        }\n",
              "      </script>\n",
              "    </div>\n",
              "  </div>\n",
              "  "
            ],
            "text/plain": [
              "        AXE11     AXE12      AXE2      AXE3      AXE4      AXE5  Cs_longia\n",
              "0   -0.001681  0.009907 -0.025728 -0.563805 -0.926993 -0.225636          1\n",
              "1   -0.001681  0.009907 -0.025728 -0.563805 -0.926993 -0.225636          1\n",
              "2   -0.000142  0.015543  0.036720 -1.019368 -0.685684  0.067701          0\n",
              "3    0.000509  0.013638  0.012478 -0.948691 -0.340524 -0.004803          0\n",
              "4    0.000445  0.013638  0.013898 -0.957960 -0.192580 -0.009190          0\n",
              "..        ...       ...       ...       ...       ...       ...        ...\n",
              "198 -0.000530 -0.002976 -0.040308 -0.319123 -1.511360 -0.294031          1\n",
              "199 -0.000194 -0.020561  0.001361 -0.349366  0.577311 -0.129894          1\n",
              "200 -0.001884 -0.028565 -0.056849 -0.805238  0.515859 -0.327260          1\n",
              "201 -0.001585 -0.024767 -0.057449 -0.914402 -0.182257 -0.212477          1\n",
              "202  0.000380 -0.026242  0.001453 -0.666824  0.442024  0.296985          1\n",
              "\n",
              "[203 rows x 7 columns]"
            ]
          },
          "metadata": {},
          "execution_count": 3
        }
      ]
    },
    {
      "cell_type": "code",
      "metadata": {
        "id": "sp6M2-Shj8tx"
      },
      "source": [
        "Cl2 = '/content/AXETEST.xlsx' \n",
        "test= pd.read_excel(Cl2, sheet_name=0,header=0,index_col=False, keep_default_na=True)"
      ],
      "execution_count": 4,
      "outputs": []
    },
    {
      "cell_type": "code",
      "source": [
        "test"
      ],
      "metadata": {
        "colab": {
          "base_uri": "https://localhost:8080/",
          "height": 1000
        },
        "outputId": "298b6f58-e7c0-4eb3-be90-6658b413540f",
        "id": "wzKdYPPMj8ty"
      },
      "execution_count": 5,
      "outputs": [
        {
          "output_type": "execute_result",
          "data": {
            "text/html": [
              "\n",
              "  <div id=\"df-f99386b1-5fef-4c8b-ab6e-162fd5ce3415\">\n",
              "    <div class=\"colab-df-container\">\n",
              "      <div>\n",
              "<style scoped>\n",
              "    .dataframe tbody tr th:only-of-type {\n",
              "        vertical-align: middle;\n",
              "    }\n",
              "\n",
              "    .dataframe tbody tr th {\n",
              "        vertical-align: top;\n",
              "    }\n",
              "\n",
              "    .dataframe thead th {\n",
              "        text-align: right;\n",
              "    }\n",
              "</style>\n",
              "<table border=\"1\" class=\"dataframe\">\n",
              "  <thead>\n",
              "    <tr style=\"text-align: right;\">\n",
              "      <th></th>\n",
              "      <th>AXE11</th>\n",
              "      <th>AXE12</th>\n",
              "      <th>AXE2</th>\n",
              "      <th>AXE3</th>\n",
              "      <th>AXE4</th>\n",
              "      <th>AXE5</th>\n",
              "      <th>Cs_longia</th>\n",
              "    </tr>\n",
              "  </thead>\n",
              "  <tbody>\n",
              "    <tr>\n",
              "      <th>0</th>\n",
              "      <td>-0.000376</td>\n",
              "      <td>0.039668</td>\n",
              "      <td>0.050709</td>\n",
              "      <td>-2.017607</td>\n",
              "      <td>-0.356532</td>\n",
              "      <td>0.521530</td>\n",
              "      <td>1</td>\n",
              "    </tr>\n",
              "    <tr>\n",
              "      <th>1</th>\n",
              "      <td>-0.000324</td>\n",
              "      <td>0.010440</td>\n",
              "      <td>0.079680</td>\n",
              "      <td>-0.297156</td>\n",
              "      <td>-0.837061</td>\n",
              "      <td>-0.052202</td>\n",
              "      <td>0</td>\n",
              "    </tr>\n",
              "    <tr>\n",
              "      <th>2</th>\n",
              "      <td>-0.002081</td>\n",
              "      <td>0.024057</td>\n",
              "      <td>-0.093550</td>\n",
              "      <td>-0.134580</td>\n",
              "      <td>-1.099443</td>\n",
              "      <td>-0.210005</td>\n",
              "      <td>0</td>\n",
              "    </tr>\n",
              "    <tr>\n",
              "      <th>3</th>\n",
              "      <td>-0.000654</td>\n",
              "      <td>0.012049</td>\n",
              "      <td>0.014547</td>\n",
              "      <td>0.526365</td>\n",
              "      <td>-0.243673</td>\n",
              "      <td>0.059436</td>\n",
              "      <td>0</td>\n",
              "    </tr>\n",
              "    <tr>\n",
              "      <th>4</th>\n",
              "      <td>-0.000654</td>\n",
              "      <td>0.012049</td>\n",
              "      <td>0.014547</td>\n",
              "      <td>0.526365</td>\n",
              "      <td>-0.243673</td>\n",
              "      <td>0.059416</td>\n",
              "      <td>1</td>\n",
              "    </tr>\n",
              "    <tr>\n",
              "      <th>5</th>\n",
              "      <td>0.001365</td>\n",
              "      <td>0.010772</td>\n",
              "      <td>0.047464</td>\n",
              "      <td>0.127182</td>\n",
              "      <td>0.030739</td>\n",
              "      <td>0.186211</td>\n",
              "      <td>0</td>\n",
              "    </tr>\n",
              "    <tr>\n",
              "      <th>6</th>\n",
              "      <td>-0.000578</td>\n",
              "      <td>0.009403</td>\n",
              "      <td>-0.004166</td>\n",
              "      <td>0.580982</td>\n",
              "      <td>-0.373012</td>\n",
              "      <td>0.208510</td>\n",
              "      <td>0</td>\n",
              "    </tr>\n",
              "    <tr>\n",
              "      <th>7</th>\n",
              "      <td>-0.000465</td>\n",
              "      <td>0.009403</td>\n",
              "      <td>-0.007478</td>\n",
              "      <td>0.562444</td>\n",
              "      <td>-0.373012</td>\n",
              "      <td>0.201738</td>\n",
              "      <td>1</td>\n",
              "    </tr>\n",
              "    <tr>\n",
              "      <th>8</th>\n",
              "      <td>-0.000117</td>\n",
              "      <td>0.011040</td>\n",
              "      <td>0.017979</td>\n",
              "      <td>0.762286</td>\n",
              "      <td>-0.209806</td>\n",
              "      <td>0.105139</td>\n",
              "      <td>1</td>\n",
              "    </tr>\n",
              "    <tr>\n",
              "      <th>9</th>\n",
              "      <td>0.000090</td>\n",
              "      <td>0.011457</td>\n",
              "      <td>0.016386</td>\n",
              "      <td>0.755765</td>\n",
              "      <td>-0.210714</td>\n",
              "      <td>0.123493</td>\n",
              "      <td>1</td>\n",
              "    </tr>\n",
              "    <tr>\n",
              "      <th>10</th>\n",
              "      <td>-0.000117</td>\n",
              "      <td>0.011040</td>\n",
              "      <td>0.017979</td>\n",
              "      <td>0.762286</td>\n",
              "      <td>-0.209806</td>\n",
              "      <td>0.105178</td>\n",
              "      <td>0</td>\n",
              "    </tr>\n",
              "    <tr>\n",
              "      <th>11</th>\n",
              "      <td>0.000254</td>\n",
              "      <td>0.008618</td>\n",
              "      <td>-0.005749</td>\n",
              "      <td>0.443858</td>\n",
              "      <td>-0.120947</td>\n",
              "      <td>0.030048</td>\n",
              "      <td>0</td>\n",
              "    </tr>\n",
              "    <tr>\n",
              "      <th>12</th>\n",
              "      <td>0.000267</td>\n",
              "      <td>0.008618</td>\n",
              "      <td>-0.003710</td>\n",
              "      <td>0.443858</td>\n",
              "      <td>-0.120947</td>\n",
              "      <td>0.020406</td>\n",
              "      <td>0</td>\n",
              "    </tr>\n",
              "    <tr>\n",
              "      <th>13</th>\n",
              "      <td>0.001087</td>\n",
              "      <td>0.016041</td>\n",
              "      <td>-0.038617</td>\n",
              "      <td>-0.477116</td>\n",
              "      <td>0.015892</td>\n",
              "      <td>0.084649</td>\n",
              "      <td>0</td>\n",
              "    </tr>\n",
              "    <tr>\n",
              "      <th>14</th>\n",
              "      <td>-0.000987</td>\n",
              "      <td>0.010546</td>\n",
              "      <td>-0.034212</td>\n",
              "      <td>-0.536705</td>\n",
              "      <td>-0.679974</td>\n",
              "      <td>-0.206030</td>\n",
              "      <td>1</td>\n",
              "    </tr>\n",
              "    <tr>\n",
              "      <th>15</th>\n",
              "      <td>0.000578</td>\n",
              "      <td>0.002577</td>\n",
              "      <td>0.001657</td>\n",
              "      <td>0.201434</td>\n",
              "      <td>0.528287</td>\n",
              "      <td>0.061709</td>\n",
              "      <td>1</td>\n",
              "    </tr>\n",
              "    <tr>\n",
              "      <th>16</th>\n",
              "      <td>0.000244</td>\n",
              "      <td>0.009310</td>\n",
              "      <td>-0.017273</td>\n",
              "      <td>0.660663</td>\n",
              "      <td>0.128575</td>\n",
              "      <td>0.057025</td>\n",
              "      <td>0</td>\n",
              "    </tr>\n",
              "    <tr>\n",
              "      <th>17</th>\n",
              "      <td>0.001611</td>\n",
              "      <td>0.003010</td>\n",
              "      <td>0.009846</td>\n",
              "      <td>0.395759</td>\n",
              "      <td>1.028525</td>\n",
              "      <td>0.178169</td>\n",
              "      <td>0</td>\n",
              "    </tr>\n",
              "    <tr>\n",
              "      <th>18</th>\n",
              "      <td>0.000372</td>\n",
              "      <td>-0.023047</td>\n",
              "      <td>-0.007588</td>\n",
              "      <td>0.967658</td>\n",
              "      <td>0.446538</td>\n",
              "      <td>0.343290</td>\n",
              "      <td>0</td>\n",
              "    </tr>\n",
              "    <tr>\n",
              "      <th>19</th>\n",
              "      <td>0.000026</td>\n",
              "      <td>-0.022144</td>\n",
              "      <td>0.035411</td>\n",
              "      <td>1.020748</td>\n",
              "      <td>0.724678</td>\n",
              "      <td>0.518537</td>\n",
              "      <td>0</td>\n",
              "    </tr>\n",
              "    <tr>\n",
              "      <th>20</th>\n",
              "      <td>0.000789</td>\n",
              "      <td>-0.019694</td>\n",
              "      <td>0.027001</td>\n",
              "      <td>0.673173</td>\n",
              "      <td>0.532470</td>\n",
              "      <td>0.074974</td>\n",
              "      <td>0</td>\n",
              "    </tr>\n",
              "    <tr>\n",
              "      <th>21</th>\n",
              "      <td>0.000204</td>\n",
              "      <td>-0.020387</td>\n",
              "      <td>0.048674</td>\n",
              "      <td>0.810797</td>\n",
              "      <td>0.814481</td>\n",
              "      <td>0.197960</td>\n",
              "      <td>0</td>\n",
              "    </tr>\n",
              "    <tr>\n",
              "      <th>22</th>\n",
              "      <td>-0.000370</td>\n",
              "      <td>-0.021009</td>\n",
              "      <td>0.027116</td>\n",
              "      <td>0.054737</td>\n",
              "      <td>0.271821</td>\n",
              "      <td>-0.178235</td>\n",
              "      <td>0</td>\n",
              "    </tr>\n",
              "    <tr>\n",
              "      <th>23</th>\n",
              "      <td>0.000307</td>\n",
              "      <td>0.003604</td>\n",
              "      <td>0.004741</td>\n",
              "      <td>0.657380</td>\n",
              "      <td>0.401545</td>\n",
              "      <td>0.117069</td>\n",
              "      <td>1</td>\n",
              "    </tr>\n",
              "    <tr>\n",
              "      <th>24</th>\n",
              "      <td>-0.001893</td>\n",
              "      <td>0.010389</td>\n",
              "      <td>-0.020040</td>\n",
              "      <td>1.235196</td>\n",
              "      <td>-0.382271</td>\n",
              "      <td>0.189869</td>\n",
              "      <td>0</td>\n",
              "    </tr>\n",
              "    <tr>\n",
              "      <th>25</th>\n",
              "      <td>0.000562</td>\n",
              "      <td>0.009089</td>\n",
              "      <td>-0.021072</td>\n",
              "      <td>-0.041487</td>\n",
              "      <td>-0.320711</td>\n",
              "      <td>0.179686</td>\n",
              "      <td>0</td>\n",
              "    </tr>\n",
              "    <tr>\n",
              "      <th>26</th>\n",
              "      <td>0.000726</td>\n",
              "      <td>-0.039161</td>\n",
              "      <td>0.076882</td>\n",
              "      <td>0.104322</td>\n",
              "      <td>0.109994</td>\n",
              "      <td>0.317215</td>\n",
              "      <td>0</td>\n",
              "    </tr>\n",
              "    <tr>\n",
              "      <th>27</th>\n",
              "      <td>0.003469</td>\n",
              "      <td>-0.050188</td>\n",
              "      <td>0.134032</td>\n",
              "      <td>0.179169</td>\n",
              "      <td>0.798892</td>\n",
              "      <td>0.466155</td>\n",
              "      <td>0</td>\n",
              "    </tr>\n",
              "    <tr>\n",
              "      <th>28</th>\n",
              "      <td>0.000681</td>\n",
              "      <td>0.014705</td>\n",
              "      <td>0.052238</td>\n",
              "      <td>-0.021460</td>\n",
              "      <td>-1.376619</td>\n",
              "      <td>0.009022</td>\n",
              "      <td>1</td>\n",
              "    </tr>\n",
              "    <tr>\n",
              "      <th>29</th>\n",
              "      <td>-0.002324</td>\n",
              "      <td>0.016967</td>\n",
              "      <td>-0.071214</td>\n",
              "      <td>-0.445758</td>\n",
              "      <td>-1.137135</td>\n",
              "      <td>-0.130588</td>\n",
              "      <td>1</td>\n",
              "    </tr>\n",
              "    <tr>\n",
              "      <th>30</th>\n",
              "      <td>-0.002339</td>\n",
              "      <td>0.033417</td>\n",
              "      <td>-0.016081</td>\n",
              "      <td>-2.009043</td>\n",
              "      <td>-1.275757</td>\n",
              "      <td>-0.401621</td>\n",
              "      <td>1</td>\n",
              "    </tr>\n",
              "    <tr>\n",
              "      <th>31</th>\n",
              "      <td>-0.002575</td>\n",
              "      <td>0.023291</td>\n",
              "      <td>-0.019776</td>\n",
              "      <td>-1.012201</td>\n",
              "      <td>-2.091178</td>\n",
              "      <td>-0.404500</td>\n",
              "      <td>1</td>\n",
              "    </tr>\n",
              "    <tr>\n",
              "      <th>32</th>\n",
              "      <td>-0.001151</td>\n",
              "      <td>0.020549</td>\n",
              "      <td>-0.031632</td>\n",
              "      <td>-1.482451</td>\n",
              "      <td>-0.938115</td>\n",
              "      <td>-0.128456</td>\n",
              "      <td>1</td>\n",
              "    </tr>\n",
              "    <tr>\n",
              "      <th>33</th>\n",
              "      <td>-0.000740</td>\n",
              "      <td>0.018258</td>\n",
              "      <td>-0.072947</td>\n",
              "      <td>-1.290074</td>\n",
              "      <td>-0.245031</td>\n",
              "      <td>0.077555</td>\n",
              "      <td>1</td>\n",
              "    </tr>\n",
              "    <tr>\n",
              "      <th>34</th>\n",
              "      <td>-0.000709</td>\n",
              "      <td>0.018638</td>\n",
              "      <td>-0.034526</td>\n",
              "      <td>-1.364330</td>\n",
              "      <td>0.091112</td>\n",
              "      <td>-0.339483</td>\n",
              "      <td>1</td>\n",
              "    </tr>\n",
              "    <tr>\n",
              "      <th>35</th>\n",
              "      <td>-0.001457</td>\n",
              "      <td>0.015894</td>\n",
              "      <td>-0.031671</td>\n",
              "      <td>-1.602263</td>\n",
              "      <td>-0.556421</td>\n",
              "      <td>0.001764</td>\n",
              "      <td>1</td>\n",
              "    </tr>\n",
              "    <tr>\n",
              "      <th>36</th>\n",
              "      <td>-0.001267</td>\n",
              "      <td>0.015378</td>\n",
              "      <td>0.008718</td>\n",
              "      <td>-0.751189</td>\n",
              "      <td>-0.254227</td>\n",
              "      <td>-0.142440</td>\n",
              "      <td>1</td>\n",
              "    </tr>\n",
              "    <tr>\n",
              "      <th>37</th>\n",
              "      <td>-0.000185</td>\n",
              "      <td>0.009435</td>\n",
              "      <td>-0.019719</td>\n",
              "      <td>0.214134</td>\n",
              "      <td>0.101229</td>\n",
              "      <td>-0.045683</td>\n",
              "      <td>1</td>\n",
              "    </tr>\n",
              "    <tr>\n",
              "      <th>38</th>\n",
              "      <td>0.001770</td>\n",
              "      <td>-0.023005</td>\n",
              "      <td>0.017843</td>\n",
              "      <td>1.066849</td>\n",
              "      <td>0.294990</td>\n",
              "      <td>0.380299</td>\n",
              "      <td>1</td>\n",
              "    </tr>\n",
              "    <tr>\n",
              "      <th>39</th>\n",
              "      <td>0.000507</td>\n",
              "      <td>-0.026915</td>\n",
              "      <td>0.003497</td>\n",
              "      <td>0.090937</td>\n",
              "      <td>0.216491</td>\n",
              "      <td>0.008621</td>\n",
              "      <td>1</td>\n",
              "    </tr>\n",
              "    <tr>\n",
              "      <th>40</th>\n",
              "      <td>0.001266</td>\n",
              "      <td>-0.021968</td>\n",
              "      <td>0.029013</td>\n",
              "      <td>0.013881</td>\n",
              "      <td>0.695297</td>\n",
              "      <td>-0.042955</td>\n",
              "      <td>1</td>\n",
              "    </tr>\n",
              "    <tr>\n",
              "      <th>41</th>\n",
              "      <td>0.000693</td>\n",
              "      <td>-0.023773</td>\n",
              "      <td>0.000614</td>\n",
              "      <td>0.518350</td>\n",
              "      <td>0.682927</td>\n",
              "      <td>0.318301</td>\n",
              "      <td>1</td>\n",
              "    </tr>\n",
              "    <tr>\n",
              "      <th>42</th>\n",
              "      <td>-0.001106</td>\n",
              "      <td>-0.016214</td>\n",
              "      <td>0.006160</td>\n",
              "      <td>0.453568</td>\n",
              "      <td>1.005987</td>\n",
              "      <td>0.012136</td>\n",
              "      <td>1</td>\n",
              "    </tr>\n",
              "    <tr>\n",
              "      <th>43</th>\n",
              "      <td>0.000327</td>\n",
              "      <td>-0.013213</td>\n",
              "      <td>0.030869</td>\n",
              "      <td>1.523071</td>\n",
              "      <td>0.516209</td>\n",
              "      <td>0.172037</td>\n",
              "      <td>1</td>\n",
              "    </tr>\n",
              "    <tr>\n",
              "      <th>44</th>\n",
              "      <td>0.000418</td>\n",
              "      <td>-0.017299</td>\n",
              "      <td>-0.001932</td>\n",
              "      <td>1.189619</td>\n",
              "      <td>0.575533</td>\n",
              "      <td>0.346011</td>\n",
              "      <td>1</td>\n",
              "    </tr>\n",
              "    <tr>\n",
              "      <th>45</th>\n",
              "      <td>-0.002661</td>\n",
              "      <td>-0.008040</td>\n",
              "      <td>-0.049398</td>\n",
              "      <td>0.442770</td>\n",
              "      <td>-0.355415</td>\n",
              "      <td>-0.241542</td>\n",
              "      <td>1</td>\n",
              "    </tr>\n",
              "    <tr>\n",
              "      <th>46</th>\n",
              "      <td>-0.000230</td>\n",
              "      <td>-0.015571</td>\n",
              "      <td>-0.027690</td>\n",
              "      <td>-0.138612</td>\n",
              "      <td>-1.074372</td>\n",
              "      <td>-0.605818</td>\n",
              "      <td>1</td>\n",
              "    </tr>\n",
              "    <tr>\n",
              "      <th>47</th>\n",
              "      <td>0.000354</td>\n",
              "      <td>-0.031074</td>\n",
              "      <td>0.023426</td>\n",
              "      <td>0.216465</td>\n",
              "      <td>0.769608</td>\n",
              "      <td>-0.008578</td>\n",
              "      <td>1</td>\n",
              "    </tr>\n",
              "    <tr>\n",
              "      <th>48</th>\n",
              "      <td>0.001176</td>\n",
              "      <td>-0.026669</td>\n",
              "      <td>-0.017548</td>\n",
              "      <td>-0.671533</td>\n",
              "      <td>0.585298</td>\n",
              "      <td>-0.492504</td>\n",
              "      <td>1</td>\n",
              "    </tr>\n",
              "    <tr>\n",
              "      <th>49</th>\n",
              "      <td>-0.001972</td>\n",
              "      <td>-0.028191</td>\n",
              "      <td>-0.087621</td>\n",
              "      <td>-0.763932</td>\n",
              "      <td>-0.291211</td>\n",
              "      <td>-0.180733</td>\n",
              "      <td>1</td>\n",
              "    </tr>\n",
              "    <tr>\n",
              "      <th>50</th>\n",
              "      <td>-0.000607</td>\n",
              "      <td>-0.012261</td>\n",
              "      <td>0.005171</td>\n",
              "      <td>-0.960099</td>\n",
              "      <td>0.357290</td>\n",
              "      <td>0.673596</td>\n",
              "      <td>1</td>\n",
              "    </tr>\n",
              "  </tbody>\n",
              "</table>\n",
              "</div>\n",
              "      <button class=\"colab-df-convert\" onclick=\"convertToInteractive('df-f99386b1-5fef-4c8b-ab6e-162fd5ce3415')\"\n",
              "              title=\"Convert this dataframe to an interactive table.\"\n",
              "              style=\"display:none;\">\n",
              "        \n",
              "  <svg xmlns=\"http://www.w3.org/2000/svg\" height=\"24px\"viewBox=\"0 0 24 24\"\n",
              "       width=\"24px\">\n",
              "    <path d=\"M0 0h24v24H0V0z\" fill=\"none\"/>\n",
              "    <path d=\"M18.56 5.44l.94 2.06.94-2.06 2.06-.94-2.06-.94-.94-2.06-.94 2.06-2.06.94zm-11 1L8.5 8.5l.94-2.06 2.06-.94-2.06-.94L8.5 2.5l-.94 2.06-2.06.94zm10 10l.94 2.06.94-2.06 2.06-.94-2.06-.94-.94-2.06-.94 2.06-2.06.94z\"/><path d=\"M17.41 7.96l-1.37-1.37c-.4-.4-.92-.59-1.43-.59-.52 0-1.04.2-1.43.59L10.3 9.45l-7.72 7.72c-.78.78-.78 2.05 0 2.83L4 21.41c.39.39.9.59 1.41.59.51 0 1.02-.2 1.41-.59l7.78-7.78 2.81-2.81c.8-.78.8-2.07 0-2.86zM5.41 20L4 18.59l7.72-7.72 1.47 1.35L5.41 20z\"/>\n",
              "  </svg>\n",
              "      </button>\n",
              "      \n",
              "  <style>\n",
              "    .colab-df-container {\n",
              "      display:flex;\n",
              "      flex-wrap:wrap;\n",
              "      gap: 12px;\n",
              "    }\n",
              "\n",
              "    .colab-df-convert {\n",
              "      background-color: #E8F0FE;\n",
              "      border: none;\n",
              "      border-radius: 50%;\n",
              "      cursor: pointer;\n",
              "      display: none;\n",
              "      fill: #1967D2;\n",
              "      height: 32px;\n",
              "      padding: 0 0 0 0;\n",
              "      width: 32px;\n",
              "    }\n",
              "\n",
              "    .colab-df-convert:hover {\n",
              "      background-color: #E2EBFA;\n",
              "      box-shadow: 0px 1px 2px rgba(60, 64, 67, 0.3), 0px 1px 3px 1px rgba(60, 64, 67, 0.15);\n",
              "      fill: #174EA6;\n",
              "    }\n",
              "\n",
              "    [theme=dark] .colab-df-convert {\n",
              "      background-color: #3B4455;\n",
              "      fill: #D2E3FC;\n",
              "    }\n",
              "\n",
              "    [theme=dark] .colab-df-convert:hover {\n",
              "      background-color: #434B5C;\n",
              "      box-shadow: 0px 1px 3px 1px rgba(0, 0, 0, 0.15);\n",
              "      filter: drop-shadow(0px 1px 2px rgba(0, 0, 0, 0.3));\n",
              "      fill: #FFFFFF;\n",
              "    }\n",
              "  </style>\n",
              "\n",
              "      <script>\n",
              "        const buttonEl =\n",
              "          document.querySelector('#df-f99386b1-5fef-4c8b-ab6e-162fd5ce3415 button.colab-df-convert');\n",
              "        buttonEl.style.display =\n",
              "          google.colab.kernel.accessAllowed ? 'block' : 'none';\n",
              "\n",
              "        async function convertToInteractive(key) {\n",
              "          const element = document.querySelector('#df-f99386b1-5fef-4c8b-ab6e-162fd5ce3415');\n",
              "          const dataTable =\n",
              "            await google.colab.kernel.invokeFunction('convertToInteractive',\n",
              "                                                     [key], {});\n",
              "          if (!dataTable) return;\n",
              "\n",
              "          const docLinkHtml = 'Like what you see? Visit the ' +\n",
              "            '<a target=\"_blank\" href=https://colab.research.google.com/notebooks/data_table.ipynb>data table notebook</a>'\n",
              "            + ' to learn more about interactive tables.';\n",
              "          element.innerHTML = '';\n",
              "          dataTable['output_type'] = 'display_data';\n",
              "          await google.colab.output.renderOutput(dataTable, element);\n",
              "          const docLink = document.createElement('div');\n",
              "          docLink.innerHTML = docLinkHtml;\n",
              "          element.appendChild(docLink);\n",
              "        }\n",
              "      </script>\n",
              "    </div>\n",
              "  </div>\n",
              "  "
            ],
            "text/plain": [
              "       AXE11     AXE12      AXE2      AXE3      AXE4      AXE5  Cs_longia\n",
              "0  -0.000376  0.039668  0.050709 -2.017607 -0.356532  0.521530          1\n",
              "1  -0.000324  0.010440  0.079680 -0.297156 -0.837061 -0.052202          0\n",
              "2  -0.002081  0.024057 -0.093550 -0.134580 -1.099443 -0.210005          0\n",
              "3  -0.000654  0.012049  0.014547  0.526365 -0.243673  0.059436          0\n",
              "4  -0.000654  0.012049  0.014547  0.526365 -0.243673  0.059416          1\n",
              "5   0.001365  0.010772  0.047464  0.127182  0.030739  0.186211          0\n",
              "6  -0.000578  0.009403 -0.004166  0.580982 -0.373012  0.208510          0\n",
              "7  -0.000465  0.009403 -0.007478  0.562444 -0.373012  0.201738          1\n",
              "8  -0.000117  0.011040  0.017979  0.762286 -0.209806  0.105139          1\n",
              "9   0.000090  0.011457  0.016386  0.755765 -0.210714  0.123493          1\n",
              "10 -0.000117  0.011040  0.017979  0.762286 -0.209806  0.105178          0\n",
              "11  0.000254  0.008618 -0.005749  0.443858 -0.120947  0.030048          0\n",
              "12  0.000267  0.008618 -0.003710  0.443858 -0.120947  0.020406          0\n",
              "13  0.001087  0.016041 -0.038617 -0.477116  0.015892  0.084649          0\n",
              "14 -0.000987  0.010546 -0.034212 -0.536705 -0.679974 -0.206030          1\n",
              "15  0.000578  0.002577  0.001657  0.201434  0.528287  0.061709          1\n",
              "16  0.000244  0.009310 -0.017273  0.660663  0.128575  0.057025          0\n",
              "17  0.001611  0.003010  0.009846  0.395759  1.028525  0.178169          0\n",
              "18  0.000372 -0.023047 -0.007588  0.967658  0.446538  0.343290          0\n",
              "19  0.000026 -0.022144  0.035411  1.020748  0.724678  0.518537          0\n",
              "20  0.000789 -0.019694  0.027001  0.673173  0.532470  0.074974          0\n",
              "21  0.000204 -0.020387  0.048674  0.810797  0.814481  0.197960          0\n",
              "22 -0.000370 -0.021009  0.027116  0.054737  0.271821 -0.178235          0\n",
              "23  0.000307  0.003604  0.004741  0.657380  0.401545  0.117069          1\n",
              "24 -0.001893  0.010389 -0.020040  1.235196 -0.382271  0.189869          0\n",
              "25  0.000562  0.009089 -0.021072 -0.041487 -0.320711  0.179686          0\n",
              "26  0.000726 -0.039161  0.076882  0.104322  0.109994  0.317215          0\n",
              "27  0.003469 -0.050188  0.134032  0.179169  0.798892  0.466155          0\n",
              "28  0.000681  0.014705  0.052238 -0.021460 -1.376619  0.009022          1\n",
              "29 -0.002324  0.016967 -0.071214 -0.445758 -1.137135 -0.130588          1\n",
              "30 -0.002339  0.033417 -0.016081 -2.009043 -1.275757 -0.401621          1\n",
              "31 -0.002575  0.023291 -0.019776 -1.012201 -2.091178 -0.404500          1\n",
              "32 -0.001151  0.020549 -0.031632 -1.482451 -0.938115 -0.128456          1\n",
              "33 -0.000740  0.018258 -0.072947 -1.290074 -0.245031  0.077555          1\n",
              "34 -0.000709  0.018638 -0.034526 -1.364330  0.091112 -0.339483          1\n",
              "35 -0.001457  0.015894 -0.031671 -1.602263 -0.556421  0.001764          1\n",
              "36 -0.001267  0.015378  0.008718 -0.751189 -0.254227 -0.142440          1\n",
              "37 -0.000185  0.009435 -0.019719  0.214134  0.101229 -0.045683          1\n",
              "38  0.001770 -0.023005  0.017843  1.066849  0.294990  0.380299          1\n",
              "39  0.000507 -0.026915  0.003497  0.090937  0.216491  0.008621          1\n",
              "40  0.001266 -0.021968  0.029013  0.013881  0.695297 -0.042955          1\n",
              "41  0.000693 -0.023773  0.000614  0.518350  0.682927  0.318301          1\n",
              "42 -0.001106 -0.016214  0.006160  0.453568  1.005987  0.012136          1\n",
              "43  0.000327 -0.013213  0.030869  1.523071  0.516209  0.172037          1\n",
              "44  0.000418 -0.017299 -0.001932  1.189619  0.575533  0.346011          1\n",
              "45 -0.002661 -0.008040 -0.049398  0.442770 -0.355415 -0.241542          1\n",
              "46 -0.000230 -0.015571 -0.027690 -0.138612 -1.074372 -0.605818          1\n",
              "47  0.000354 -0.031074  0.023426  0.216465  0.769608 -0.008578          1\n",
              "48  0.001176 -0.026669 -0.017548 -0.671533  0.585298 -0.492504          1\n",
              "49 -0.001972 -0.028191 -0.087621 -0.763932 -0.291211 -0.180733          1\n",
              "50 -0.000607 -0.012261  0.005171 -0.960099  0.357290  0.673596          1"
            ]
          },
          "metadata": {},
          "execution_count": 5
        }
      ]
    },
    {
      "cell_type": "code",
      "metadata": {
        "id": "WlXmEfpym-Hm"
      },
      "source": [
        "X_app = apprentissage.loc[:, apprentissage.columns != 'Cs_longia']\n",
        "Y_app = apprentissage.Cs_longia\n",
        "X_test = test.loc[:, test.columns != 'Cs_longia']\n",
        "Y_test = test.Cs_longia"
      ],
      "execution_count": 7,
      "outputs": []
    },
    {
      "cell_type": "markdown",
      "source": [
        "# XGBOOST"
      ],
      "metadata": {
        "id": "THsA6X7josns"
      }
    },
    {
      "cell_type": "code",
      "source": [
        "Classifier = XGBClassifier(scale_pos_weight=1,learning_rate=0.5,max_depth=5,n_estimators=150,objective=\"binary:logistic\")"
      ],
      "metadata": {
        "id": "LvZVQSVTx91X"
      },
      "execution_count": 8,
      "outputs": []
    },
    {
      "cell_type": "code",
      "source": [
        "Classifier.fit(X_app,Y_app)"
      ],
      "metadata": {
        "colab": {
          "base_uri": "https://localhost:8080/"
        },
        "id": "kzx4dBDMx93d",
        "outputId": "ddb352ea-1ab0-4eef-a710-66e153fe257d"
      },
      "execution_count": 9,
      "outputs": [
        {
          "output_type": "execute_result",
          "data": {
            "text/plain": [
              "XGBClassifier(learning_rate=0.5, max_depth=5, n_estimators=150)"
            ]
          },
          "metadata": {},
          "execution_count": 9
        }
      ]
    },
    {
      "cell_type": "code",
      "metadata": {
        "id": "mpZMF-EhTV0N"
      },
      "source": [
        "preds = Classifier.predict(X_test)"
      ],
      "execution_count": 10,
      "outputs": []
    },
    {
      "cell_type": "code",
      "metadata": {
        "id": "wfCXrkA0TV0O",
        "colab": {
          "base_uri": "https://localhost:8080/"
        },
        "outputId": "a2d0101e-ed93-4a56-fa02-2023195d873d"
      },
      "source": [
        "preds"
      ],
      "execution_count": 11,
      "outputs": [
        {
          "output_type": "execute_result",
          "data": {
            "text/plain": [
              "array([0, 0, 1, 0, 0, 0, 1, 1, 0, 0, 0, 0, 0, 1, 1, 1, 0, 0, 0, 0, 0, 0,\n",
              "       1, 0, 1, 1, 0, 0, 0, 1, 1, 1, 1, 1, 1, 1, 0, 1, 0, 1, 0, 0, 1, 0,\n",
              "       0, 1, 1, 0, 0, 1, 0])"
            ]
          },
          "metadata": {},
          "execution_count": 11
        }
      ]
    },
    {
      "cell_type": "code",
      "metadata": {
        "colab": {
          "base_uri": "https://localhost:8080/"
        },
        "outputId": "9bb03f8d-8b9a-47d3-d9a7-12bae3066af6",
        "id": "-kxBDaKxzO2e"
      },
      "source": [
        "cf_matrix = confusion_matrix(Y_test, preds)\n",
        "print(cf_matrix)"
      ],
      "execution_count": 12,
      "outputs": [
        {
          "output_type": "stream",
          "name": "stdout",
          "text": [
            "[[14  6]\n",
            " [15 16]]\n"
          ]
        }
      ]
    },
    {
      "cell_type": "code",
      "source": [
        "###Recall\n",
        "def recall(y_test, preds):\n",
        "  recall=recall_score(y_test, preds)\n",
        "  return recall\n",
        "def MCC(y_test, preds):\n",
        "  MCC= matthews_corrcoef(y_test, preds) \n",
        "  return MCC\n",
        "### MCC\n",
        "def MCC(y_test, preds):\n",
        "  MCC= matthews_corrcoef(y_test, preds) \n",
        "  return MCC\n",
        "### sensibilite\n",
        "def sensibilite(y_test, preds):\n",
        "  cf_matrix = confusion_matrix(y_test, preds)\n",
        "  sensibilite =  (cf_matrix[1,1])/(cf_matrix[1,1]+cf_matrix[1,0])\n",
        "  return sensibilite\n",
        "### specifite \n",
        "def specifite(y_test, preds):\n",
        "  cf_matrix = confusion_matrix(y_test, preds)\n",
        "  specifite =  (cf_matrix[0,0])/(cf_matrix[0,0]+cf_matrix[0,1])\n",
        "  return specifite \n",
        "### kappa\n",
        "def kappa(y_test, preds):\n",
        "  value = cohen_kappa_score(y_test, preds)\n",
        "  return value\n",
        "### balancedacc\n",
        "def balancedacc(y_test, preds):\n",
        "  cf_matrix = confusion_matrix(y_test, preds)\n",
        "  sen = (cf_matrix[1,1])/(cf_matrix[1,1]+cf_matrix[0,1])\n",
        "  spe = (cf_matrix[0,0])/(cf_matrix[0,0]+cf_matrix[1,0])\n",
        "  value = (sen + spe)/2\n",
        "  return value\n",
        "def présicion_positive(y_test, preds):\n",
        "  cf_matrix = confusion_matrix(y_test, preds)\n",
        "  pre_pos =  (cf_matrix[1,1])/(cf_matrix[1,1]+cf_matrix[0,1])\n",
        "  return pre_pos\n",
        "def présicion_négative(y_test, preds):\n",
        "  cf_matrix = confusion_matrix(y_test, preds)\n",
        "  pre_pos =  (cf_matrix[0,0])/(cf_matrix[0,0]+cf_matrix[1,0])\n",
        "  return pre_pos\n",
        "  \n",
        "### courbe roc\n",
        "def plot_roc_curve(fper, tper):\n",
        "    plt.plot(fper, tper, color='red', label='ROC')\n",
        "    plt.plot([0, 1], [0, 1], color='green', linestyle='--')\n",
        "    plt.xlabel('False Positive Rate')\n",
        "    plt.ylabel('True Positive Rate')\n",
        "    plt.title('Receiver Operating Characteristic Curve')\n",
        "    plt.legend()\n",
        "    plt.show()"
      ],
      "metadata": {
        "id": "PT7afKHWJD6b"
      },
      "execution_count": 13,
      "outputs": []
    },
    {
      "cell_type": "code",
      "source": [
        "MCC(Y_test, preds)"
      ],
      "metadata": {
        "colab": {
          "base_uri": "https://localhost:8080/"
        },
        "id": "0YKjN3KXIaz7",
        "outputId": "5ca13110-17a5-4e70-9e20-cceddd2fa223"
      },
      "execution_count": 15,
      "outputs": [
        {
          "output_type": "execute_result",
          "data": {
            "text/plain": [
              "0.21305837692746682"
            ]
          },
          "metadata": {},
          "execution_count": 15
        }
      ]
    },
    {
      "cell_type": "code",
      "source": [
        "recall(Y_test, preds)"
      ],
      "metadata": {
        "colab": {
          "base_uri": "https://localhost:8080/"
        },
        "id": "y5XZY6B2JD9D",
        "outputId": "4ca44e20-9f8e-4c84-f20f-86aed2ead1b5"
      },
      "execution_count": 16,
      "outputs": [
        {
          "output_type": "execute_result",
          "data": {
            "text/plain": [
              "0.5161290322580645"
            ]
          },
          "metadata": {},
          "execution_count": 16
        }
      ]
    },
    {
      "cell_type": "code",
      "source": [
        "sensibilite(Y_test, preds)"
      ],
      "metadata": {
        "colab": {
          "base_uri": "https://localhost:8080/"
        },
        "id": "kqSk6bUfJD_T",
        "outputId": "f2667c1b-11c5-44fa-be88-b16ecd948c70"
      },
      "execution_count": 17,
      "outputs": [
        {
          "output_type": "execute_result",
          "data": {
            "text/plain": [
              "0.5161290322580645"
            ]
          },
          "metadata": {},
          "execution_count": 17
        }
      ]
    },
    {
      "cell_type": "code",
      "source": [
        "specifite(Y_test, preds)"
      ],
      "metadata": {
        "colab": {
          "base_uri": "https://localhost:8080/"
        },
        "id": "pNQ0SMEcJEBk",
        "outputId": "45ab77d2-8dfc-4e17-e4cc-628bc7e90cbd"
      },
      "execution_count": 18,
      "outputs": [
        {
          "output_type": "execute_result",
          "data": {
            "text/plain": [
              "0.7"
            ]
          },
          "metadata": {},
          "execution_count": 18
        }
      ]
    },
    {
      "cell_type": "code",
      "source": [
        "présicion_négative(Y_test, preds)"
      ],
      "metadata": {
        "colab": {
          "base_uri": "https://localhost:8080/"
        },
        "id": "H2OR9PEknpHB",
        "outputId": "c8249b0c-a853-4652-82bb-fbbefc0b51ff"
      },
      "execution_count": 19,
      "outputs": [
        {
          "output_type": "execute_result",
          "data": {
            "text/plain": [
              "0.4827586206896552"
            ]
          },
          "metadata": {},
          "execution_count": 19
        }
      ]
    },
    {
      "cell_type": "code",
      "source": [
        "présicion_positive(Y_test, preds)"
      ],
      "metadata": {
        "colab": {
          "base_uri": "https://localhost:8080/"
        },
        "id": "5F8mvboxno-8",
        "outputId": "a0b932f7-c0a4-4a84-9a32-ab98ab767711"
      },
      "execution_count": 20,
      "outputs": [
        {
          "output_type": "execute_result",
          "data": {
            "text/plain": [
              "0.7272727272727273"
            ]
          },
          "metadata": {},
          "execution_count": 20
        }
      ]
    },
    {
      "cell_type": "code",
      "source": [
        "balancedacc(Y_test, preds)"
      ],
      "metadata": {
        "colab": {
          "base_uri": "https://localhost:8080/"
        },
        "id": "ZBb1_XQDnxip",
        "outputId": "a26c7157-cdf8-4072-eda3-f368e453642f"
      },
      "execution_count": 21,
      "outputs": [
        {
          "output_type": "execute_result",
          "data": {
            "text/plain": [
              "0.6050156739811913"
            ]
          },
          "metadata": {},
          "execution_count": 21
        }
      ]
    },
    {
      "cell_type": "code",
      "source": [
        "kappa(Y_test, preds)"
      ],
      "metadata": {
        "colab": {
          "base_uri": "https://localhost:8080/"
        },
        "id": "Oov8iFSGop2F",
        "outputId": "904eedb7-024f-41bd-c8c1-bf125b0f636c"
      },
      "execution_count": 22,
      "outputs": [
        {
          "output_type": "execute_result",
          "data": {
            "text/plain": [
              "0.20014936519790893"
            ]
          },
          "metadata": {},
          "execution_count": 22
        }
      ]
    },
    {
      "cell_type": "code",
      "source": [
        "y_pred_proba = Classifier.predict_proba(X_test)[::,1]\n",
        "fpr, tpr, _ = metrics.roc_curve(Y_test,  y_pred_proba)\n",
        "auc = metrics.roc_auc_score(Y_test, y_pred_proba)\n",
        "plt.plot(fpr,tpr,label=\"xgboost, auc=\"+str(auc))\n",
        "plt.legend(loc=4)\n",
        "plt.show()"
      ],
      "metadata": {
        "colab": {
          "base_uri": "https://localhost:8080/",
          "height": 265
        },
        "id": "eOzFa818Ia2R",
        "outputId": "01608d9a-1d43-4bac-cdeb-fc22fac46f56"
      },
      "execution_count": 23,
      "outputs": [
        {
          "output_type": "display_data",
          "data": {
            "image/png": "[encoded data removed]",
            "text/plain": [
              "<Figure size 432x288 with 1 Axes>"
            ]
          },
          "metadata": {
            "needs_background": "light"
          }
        }
      ]
    },
    {
      "cell_type": "markdown",
      "source": [
        "# Logistic"
      ],
      "metadata": {
        "id": "y9aeHkxsorEv"
      }
    },
    {
      "cell_type": "code",
      "source": [
        "Classifier1 = LogisticRegression(max_iter=100, solver='lbfgs', class_weight='balanced')"
      ],
      "metadata": {
        "id": "BqdBNQ8OtRBK"
      },
      "execution_count": 24,
      "outputs": []
    },
    {
      "cell_type": "code",
      "source": [
        "Classifier1.fit(X_app,Y_app)"
      ],
      "metadata": {
        "colab": {
          "base_uri": "https://localhost:8080/"
        },
        "outputId": "93a9726a-d54a-4d34-b1a4-8e1af15d84f8",
        "id": "cFamN3t7tRBN"
      },
      "execution_count": 25,
      "outputs": [
        {
          "output_type": "execute_result",
          "data": {
            "text/plain": [
              "LogisticRegression(class_weight='balanced')"
            ]
          },
          "metadata": {},
          "execution_count": 25
        }
      ]
    },
    {
      "cell_type": "code",
      "metadata": {
        "id": "WWCUVz41tRBN"
      },
      "source": [
        "preds1 = Classifier1.predict(X_test)"
      ],
      "execution_count": 26,
      "outputs": []
    },
    {
      "cell_type": "code",
      "metadata": {
        "colab": {
          "base_uri": "https://localhost:8080/"
        },
        "outputId": "d04dd139-6c5b-49be-8d81-0816e56a400c",
        "id": "cLbQ1a3ytRBO"
      },
      "source": [
        "preds1"
      ],
      "execution_count": 27,
      "outputs": [
        {
          "output_type": "execute_result",
          "data": {
            "text/plain": [
              "array([0, 1, 1, 0, 0, 0, 0, 0, 0, 0, 0, 0, 0, 0, 1, 0, 0, 0, 0, 0, 0, 0,\n",
              "       1, 0, 0, 0, 0, 0, 1, 1, 1, 1, 1, 1, 1, 1, 1, 1, 0, 0, 0, 0, 0, 0,\n",
              "       0, 1, 1, 0, 1, 1, 0])"
            ]
          },
          "metadata": {},
          "execution_count": 27
        }
      ]
    },
    {
      "cell_type": "code",
      "metadata": {
        "colab": {
          "base_uri": "https://localhost:8080/"
        },
        "outputId": "b5c213cd-3e43-4ef8-bda0-c97a83165386",
        "id": "jYdLZtC2tRBP"
      },
      "source": [
        "cf_matrix1 = confusion_matrix(Y_test, preds1)\n",
        "print(cf_matrix1)"
      ],
      "execution_count": 28,
      "outputs": [
        {
          "output_type": "stream",
          "name": "stdout",
          "text": [
            "[[17  3]\n",
            " [16 15]]\n"
          ]
        }
      ]
    },
    {
      "cell_type": "code",
      "source": [
        "MCC(Y_test, preds1)"
      ],
      "metadata": {
        "colab": {
          "base_uri": "https://localhost:8080/"
        },
        "outputId": "b6c1ba89-8ec5-47b2-8463-b94b34202956",
        "id": "r9gihGeYtxi3"
      },
      "execution_count": 29,
      "outputs": [
        {
          "output_type": "execute_result",
          "data": {
            "text/plain": [
              "0.3410996534841953"
            ]
          },
          "metadata": {},
          "execution_count": 29
        }
      ]
    },
    {
      "cell_type": "code",
      "source": [
        "recall(Y_test, preds1)"
      ],
      "metadata": {
        "colab": {
          "base_uri": "https://localhost:8080/"
        },
        "outputId": "869c393c-382b-477f-9d05-9826750d8c5c",
        "id": "nEBoze-Ptxi6"
      },
      "execution_count": 30,
      "outputs": [
        {
          "output_type": "execute_result",
          "data": {
            "text/plain": [
              "0.4838709677419355"
            ]
          },
          "metadata": {},
          "execution_count": 30
        }
      ]
    },
    {
      "cell_type": "code",
      "source": [
        "sensibilite(Y_test, preds1)"
      ],
      "metadata": {
        "colab": {
          "base_uri": "https://localhost:8080/"
        },
        "outputId": "582baaec-421b-42c4-e47e-18af80f8c543",
        "id": "FeSUU13Dtxi6"
      },
      "execution_count": 31,
      "outputs": [
        {
          "output_type": "execute_result",
          "data": {
            "text/plain": [
              "0.4838709677419355"
            ]
          },
          "metadata": {},
          "execution_count": 31
        }
      ]
    },
    {
      "cell_type": "code",
      "source": [
        "specifite(Y_test, preds1)"
      ],
      "metadata": {
        "colab": {
          "base_uri": "https://localhost:8080/"
        },
        "outputId": "fe28441f-7eba-40e0-a38e-696815d5a2c6",
        "id": "dwQpig7Htxi6"
      },
      "execution_count": 32,
      "outputs": [
        {
          "output_type": "execute_result",
          "data": {
            "text/plain": [
              "0.85"
            ]
          },
          "metadata": {},
          "execution_count": 32
        }
      ]
    },
    {
      "cell_type": "code",
      "source": [
        "présicion_négative(Y_test, preds1)"
      ],
      "metadata": {
        "colab": {
          "base_uri": "https://localhost:8080/"
        },
        "outputId": "13b49d5e-45b8-4a45-b4d2-0317138d5755",
        "id": "6H7Fh0xYtxi8"
      },
      "execution_count": 33,
      "outputs": [
        {
          "output_type": "execute_result",
          "data": {
            "text/plain": [
              "0.5151515151515151"
            ]
          },
          "metadata": {},
          "execution_count": 33
        }
      ]
    },
    {
      "cell_type": "code",
      "source": [
        "présicion_positive(Y_test, preds1)"
      ],
      "metadata": {
        "colab": {
          "base_uri": "https://localhost:8080/"
        },
        "outputId": "682a7bbe-0359-4e43-c839-eabc4f60d30d",
        "id": "76_2PqsYtxi9"
      },
      "execution_count": 34,
      "outputs": [
        {
          "output_type": "execute_result",
          "data": {
            "text/plain": [
              "0.8333333333333334"
            ]
          },
          "metadata": {},
          "execution_count": 34
        }
      ]
    },
    {
      "cell_type": "code",
      "source": [
        "balancedacc(Y_test, preds1)"
      ],
      "metadata": {
        "colab": {
          "base_uri": "https://localhost:8080/"
        },
        "outputId": "48c3cf69-a724-4edd-8752-e5c5fab178bf",
        "id": "GnAaGf7Ftxi9"
      },
      "execution_count": 35,
      "outputs": [
        {
          "output_type": "execute_result",
          "data": {
            "text/plain": [
              "0.6742424242424243"
            ]
          },
          "metadata": {},
          "execution_count": 35
        }
      ]
    },
    {
      "cell_type": "code",
      "source": [
        "kappa(Y_test, preds1)"
      ],
      "metadata": {
        "colab": {
          "base_uri": "https://localhost:8080/"
        },
        "outputId": "4cbae40e-1c6d-42e4-821e-5cd2b5454c09",
        "id": "qET4Gk3Jtxi-"
      },
      "execution_count": 36,
      "outputs": [
        {
          "output_type": "execute_result",
          "data": {
            "text/plain": [
              "0.2993492407809111"
            ]
          },
          "metadata": {},
          "execution_count": 36
        }
      ]
    },
    {
      "cell_type": "code",
      "source": [
        "y_pred_proba = Classifier1.predict_proba(X_test)[::,1]\n",
        "fpr, tpr, _ = metrics.roc_curve(Y_test,  y_pred_proba)\n",
        "auc = metrics.roc_auc_score(Y_test, y_pred_proba)\n",
        "plt.plot(fpr,tpr,label=\"xgboost, auc=\"+str(auc))\n",
        "plt.legend(loc=4)\n",
        "plt.show()"
      ],
      "metadata": {
        "colab": {
          "base_uri": "https://localhost:8080/",
          "height": 265
        },
        "outputId": "aa962f84-a706-4ca1-f75a-d6f9ac92f8b2",
        "id": "7KQf8mPRtxi-"
      },
      "execution_count": 37,
      "outputs": [
        {
          "output_type": "display_data",
          "data": {
            "image/png": "[encoded data removed]",
            "text/plain": [
              "<Figure size 432x288 with 1 Axes>"
            ]
          },
          "metadata": {
            "needs_background": "light"
          }
        }
      ]
    },
    {
      "cell_type": "markdown",
      "source": [
        "# Random_forest"
      ],
      "metadata": {
        "id": "zGlIAvl7x7Kc"
      }
    },
    {
      "cell_type": "code",
      "source": [
        "Classifier2 = RandomForestClassifier(n_estimators=100, criterion='gini', max_depth=5 ,min_samples_split=3)"
      ],
      "metadata": {
        "id": "OnTVCOaQx7Ke"
      },
      "execution_count": 38,
      "outputs": []
    },
    {
      "cell_type": "code",
      "source": [
        "Classifier2.fit(X_app,Y_app)"
      ],
      "metadata": {
        "colab": {
          "base_uri": "https://localhost:8080/"
        },
        "outputId": "e4c19eed-a7c3-4798-b30d-7e1b2061ff28",
        "id": "DXZaUbAOx7Kf"
      },
      "execution_count": 39,
      "outputs": [
        {
          "output_type": "execute_result",
          "data": {
            "text/plain": [
              "RandomForestClassifier(max_depth=5, min_samples_split=3)"
            ]
          },
          "metadata": {},
          "execution_count": 39
        }
      ]
    },
    {
      "cell_type": "code",
      "metadata": {
        "id": "gZ5dhlTJx7Kg"
      },
      "source": [
        "preds2 = Classifier2.predict(X_test)"
      ],
      "execution_count": 40,
      "outputs": []
    },
    {
      "cell_type": "code",
      "metadata": {
        "colab": {
          "base_uri": "https://localhost:8080/"
        },
        "outputId": "5bd647a4-f68a-4b19-9a5c-bb812bf86f5f",
        "id": "3xri6EYkx7Kh"
      },
      "source": [
        "preds2"
      ],
      "execution_count": 41,
      "outputs": [
        {
          "output_type": "execute_result",
          "data": {
            "text/plain": [
              "array([0, 0, 1, 0, 0, 0, 1, 1, 0, 0, 0, 1, 1, 1, 1, 0, 0, 0, 0, 0, 0, 0,\n",
              "       1, 0, 1, 1, 0, 0, 0, 1, 1, 1, 1, 1, 1, 1, 1, 1, 0, 0, 0, 0, 1, 0,\n",
              "       0, 1, 1, 0, 1, 1, 0])"
            ]
          },
          "metadata": {},
          "execution_count": 41
        }
      ]
    },
    {
      "cell_type": "code",
      "metadata": {
        "colab": {
          "base_uri": "https://localhost:8080/"
        },
        "outputId": "9409e585-e253-4636-de6a-993dbe33267a",
        "id": "x_YXboonx7Kh"
      },
      "source": [
        "cf_matrix2 = confusion_matrix(Y_test, preds2)\n",
        "print(cf_matrix2)"
      ],
      "execution_count": 42,
      "outputs": [
        {
          "output_type": "stream",
          "name": "stdout",
          "text": [
            "[[12  8]\n",
            " [15 16]]\n"
          ]
        }
      ]
    },
    {
      "cell_type": "code",
      "source": [
        "MCC(Y_test, preds2)"
      ],
      "metadata": {
        "colab": {
          "base_uri": "https://localhost:8080/"
        },
        "outputId": "a110c8b2-bd1b-4b01-a784-5e664f696d6e",
        "id": "B7ku8BpLx7Ki"
      },
      "execution_count": 43,
      "outputs": [
        {
          "output_type": "execute_result",
          "data": {
            "text/plain": [
              "0.11359236684941296"
            ]
          },
          "metadata": {},
          "execution_count": 43
        }
      ]
    },
    {
      "cell_type": "code",
      "source": [
        "recall(Y_test, preds2)"
      ],
      "metadata": {
        "colab": {
          "base_uri": "https://localhost:8080/"
        },
        "outputId": "d842c009-a8e7-4948-844b-2c9c89c4183e",
        "id": "0-gUEv9Kx7Kj"
      },
      "execution_count": 44,
      "outputs": [
        {
          "output_type": "execute_result",
          "data": {
            "text/plain": [
              "0.5161290322580645"
            ]
          },
          "metadata": {},
          "execution_count": 44
        }
      ]
    },
    {
      "cell_type": "code",
      "source": [
        "sensibilite(Y_test, preds2)"
      ],
      "metadata": {
        "colab": {
          "base_uri": "https://localhost:8080/"
        },
        "outputId": "34e0844d-c7ab-479b-ace8-c25c39d9f938",
        "id": "_Hm4Xdv3x7Kk"
      },
      "execution_count": 45,
      "outputs": [
        {
          "output_type": "execute_result",
          "data": {
            "text/plain": [
              "0.5161290322580645"
            ]
          },
          "metadata": {},
          "execution_count": 45
        }
      ]
    },
    {
      "cell_type": "code",
      "source": [
        "specifite(Y_test, preds2)"
      ],
      "metadata": {
        "colab": {
          "base_uri": "https://localhost:8080/"
        },
        "outputId": "567a33e1-5709-4afd-eb5a-993c0fea8a04",
        "id": "rS3voaC9x7Kk"
      },
      "execution_count": 46,
      "outputs": [
        {
          "output_type": "execute_result",
          "data": {
            "text/plain": [
              "0.6"
            ]
          },
          "metadata": {},
          "execution_count": 46
        }
      ]
    },
    {
      "cell_type": "code",
      "source": [
        "présicion_négative(Y_test, preds2)"
      ],
      "metadata": {
        "colab": {
          "base_uri": "https://localhost:8080/"
        },
        "outputId": "dc3a6d96-b85d-45a9-cc83-d315c7ec75f9",
        "id": "aqcCGISAx7Kl"
      },
      "execution_count": 47,
      "outputs": [
        {
          "output_type": "execute_result",
          "data": {
            "text/plain": [
              "0.4444444444444444"
            ]
          },
          "metadata": {},
          "execution_count": 47
        }
      ]
    },
    {
      "cell_type": "code",
      "source": [
        "présicion_positive(Y_test, preds2)"
      ],
      "metadata": {
        "colab": {
          "base_uri": "https://localhost:8080/"
        },
        "outputId": "d1cd83b3-95b1-4b98-9109-3a1f140a80b2",
        "id": "7pbTegOYx7Km"
      },
      "execution_count": 48,
      "outputs": [
        {
          "output_type": "execute_result",
          "data": {
            "text/plain": [
              "0.6666666666666666"
            ]
          },
          "metadata": {},
          "execution_count": 48
        }
      ]
    },
    {
      "cell_type": "code",
      "source": [
        "balancedacc(Y_test, preds2)"
      ],
      "metadata": {
        "colab": {
          "base_uri": "https://localhost:8080/"
        },
        "outputId": "0913a6bb-513d-4e3e-e949-9ebc07041d54",
        "id": "2svuWaynx7Kn"
      },
      "execution_count": 49,
      "outputs": [
        {
          "output_type": "execute_result",
          "data": {
            "text/plain": [
              "0.5555555555555556"
            ]
          },
          "metadata": {},
          "execution_count": 49
        }
      ]
    },
    {
      "cell_type": "code",
      "source": [
        "kappa(Y_test, preds2)"
      ],
      "metadata": {
        "colab": {
          "base_uri": "https://localhost:8080/"
        },
        "outputId": "96356a45-db19-44ec-ea78-5affaf1abfdf",
        "id": "_fj8QvtYx7Kn"
      },
      "execution_count": 50,
      "outputs": [
        {
          "output_type": "execute_result",
          "data": {
            "text/plain": [
              "0.1093394077448746"
            ]
          },
          "metadata": {},
          "execution_count": 50
        }
      ]
    },
    {
      "cell_type": "code",
      "source": [
        "y_pred_proba = Classifier2.predict_proba(X_test)[::,1]\n",
        "fpr, tpr, _ = metrics.roc_curve(Y_test,  y_pred_proba)\n",
        "auc = metrics.roc_auc_score(Y_test, y_pred_proba)\n",
        "plt.plot(fpr,tpr,label=\"xgboost, auc=\"+str(auc))\n",
        "plt.legend(loc=4)\n",
        "plt.show()"
      ],
      "metadata": {
        "colab": {
          "base_uri": "https://localhost:8080/",
          "height": 265
        },
        "outputId": "139065a1-1539-42fc-decf-1f4e26d793dc",
        "id": "m_3yw9xWx7Ko"
      },
      "execution_count": 51,
      "outputs": [
        {
          "output_type": "display_data",
          "data": {
            "image/png": "[encoded data removed]",
            "text/plain": [
              "<Figure size 432x288 with 1 Axes>"
            ]
          },
          "metadata": {
            "needs_background": "light"
          }
        }
      ]
    },
    {
      "cell_type": "markdown",
      "source": [
        "# Gradient_Boostnig"
      ],
      "metadata": {
        "id": "JI7145L2uHrL"
      }
    },
    {
      "cell_type": "code",
      "source": [
        "Classifier3 = GradientBoostingClassifier(n_estimators=225, learning_rate=0.1, max_features=2, max_depth=2, random_state=0,min_samples_leaf=2,subsample=1 )"
      ],
      "metadata": {
        "id": "qVCjVU68uGBZ"
      },
      "execution_count": 52,
      "outputs": []
    },
    {
      "cell_type": "code",
      "source": [
        "Classifier3.fit(X_app,Y_app)"
      ],
      "metadata": {
        "colab": {
          "base_uri": "https://localhost:8080/"
        },
        "outputId": "6ca85755-4e29-4058-ee38-b060e34f0788",
        "id": "BIMZEAdVuGBb"
      },
      "execution_count": 53,
      "outputs": [
        {
          "output_type": "execute_result",
          "data": {
            "text/plain": [
              "GradientBoostingClassifier(max_depth=2, max_features=2, min_samples_leaf=2,\n",
              "                           n_estimators=225, random_state=0, subsample=1)"
            ]
          },
          "metadata": {},
          "execution_count": 53
        }
      ]
    },
    {
      "cell_type": "code",
      "metadata": {
        "id": "7hG6F5ZyuGBc"
      },
      "source": [
        "preds3 = Classifier3.predict(X_test)"
      ],
      "execution_count": 54,
      "outputs": []
    },
    {
      "cell_type": "code",
      "metadata": {
        "colab": {
          "base_uri": "https://localhost:8080/"
        },
        "outputId": "21903b68-7b17-4f39-fe33-87652f9565c0",
        "id": "4k9JFc37uGBc"
      },
      "source": [
        "preds3"
      ],
      "execution_count": 55,
      "outputs": [
        {
          "output_type": "execute_result",
          "data": {
            "text/plain": [
              "array([0, 0, 1, 0, 0, 0, 1, 1, 0, 0, 0, 1, 0, 1, 1, 1, 0, 0, 0, 0, 0, 0,\n",
              "       0, 0, 1, 1, 0, 0, 0, 1, 1, 1, 1, 1, 1, 1, 0, 1, 0, 0, 0, 0, 1, 0,\n",
              "       0, 1, 1, 0, 0, 1, 0])"
            ]
          },
          "metadata": {},
          "execution_count": 55
        }
      ]
    },
    {
      "cell_type": "code",
      "metadata": {
        "colab": {
          "base_uri": "https://localhost:8080/"
        },
        "outputId": "388b8f26-f3a1-4d21-daa6-1dd8217ff4a0",
        "id": "fVfK5rx0uGBd"
      },
      "source": [
        "cf_matrix3 = confusion_matrix(Y_test, preds3)\n",
        "print(cf_matrix3)"
      ],
      "execution_count": 56,
      "outputs": [
        {
          "output_type": "stream",
          "name": "stdout",
          "text": [
            "[[14  6]\n",
            " [16 15]]\n"
          ]
        }
      ]
    },
    {
      "cell_type": "code",
      "source": [
        "MCC(Y_test, preds3)"
      ],
      "metadata": {
        "colab": {
          "base_uri": "https://localhost:8080/"
        },
        "outputId": "ab6a0c04-1a84-4437-873c-961d30560736",
        "id": "vbOeDj1BuGBe"
      },
      "execution_count": 57,
      "outputs": [
        {
          "output_type": "execute_result",
          "data": {
            "text/plain": [
              "0.18240583708018135"
            ]
          },
          "metadata": {},
          "execution_count": 57
        }
      ]
    },
    {
      "cell_type": "code",
      "source": [
        "recall(Y_test, preds3)"
      ],
      "metadata": {
        "colab": {
          "base_uri": "https://localhost:8080/"
        },
        "outputId": "d4d259ba-a068-4169-91d9-7bc7f537872c",
        "id": "C9aawbDzuGBe"
      },
      "execution_count": 58,
      "outputs": [
        {
          "output_type": "execute_result",
          "data": {
            "text/plain": [
              "0.4838709677419355"
            ]
          },
          "metadata": {},
          "execution_count": 58
        }
      ]
    },
    {
      "cell_type": "code",
      "source": [
        "sensibilite(Y_test, preds3)"
      ],
      "metadata": {
        "colab": {
          "base_uri": "https://localhost:8080/"
        },
        "outputId": "83fac623-bcd9-4069-ef3b-0a8fc86046a0",
        "id": "MQOsFFQ6uGBf"
      },
      "execution_count": 59,
      "outputs": [
        {
          "output_type": "execute_result",
          "data": {
            "text/plain": [
              "0.4838709677419355"
            ]
          },
          "metadata": {},
          "execution_count": 59
        }
      ]
    },
    {
      "cell_type": "code",
      "source": [
        "specifite(Y_test, preds3)"
      ],
      "metadata": {
        "colab": {
          "base_uri": "https://localhost:8080/"
        },
        "outputId": "cf19deef-1de4-4da5-a324-5e8545c1b1a2",
        "id": "mM4JBuWiuGBf"
      },
      "execution_count": 60,
      "outputs": [
        {
          "output_type": "execute_result",
          "data": {
            "text/plain": [
              "0.7"
            ]
          },
          "metadata": {},
          "execution_count": 60
        }
      ]
    },
    {
      "cell_type": "code",
      "source": [
        "présicion_négative(Y_test, preds3)"
      ],
      "metadata": {
        "colab": {
          "base_uri": "https://localhost:8080/"
        },
        "outputId": "4c9eb903-d0cf-4363-efc3-bdfd3ce2a5cb",
        "id": "6_VmQRhwuGBg"
      },
      "execution_count": 61,
      "outputs": [
        {
          "output_type": "execute_result",
          "data": {
            "text/plain": [
              "0.4666666666666667"
            ]
          },
          "metadata": {},
          "execution_count": 61
        }
      ]
    },
    {
      "cell_type": "code",
      "source": [
        "présicion_positive(Y_test, preds3)"
      ],
      "metadata": {
        "colab": {
          "base_uri": "https://localhost:8080/"
        },
        "outputId": "311c802b-363b-4d06-d078-91800e98bc33",
        "id": "WaWhbVz0uGBh"
      },
      "execution_count": 62,
      "outputs": [
        {
          "output_type": "execute_result",
          "data": {
            "text/plain": [
              "0.7142857142857143"
            ]
          },
          "metadata": {},
          "execution_count": 62
        }
      ]
    },
    {
      "cell_type": "code",
      "source": [
        "balancedacc(Y_test, preds3)"
      ],
      "metadata": {
        "colab": {
          "base_uri": "https://localhost:8080/"
        },
        "outputId": "766bd4d5-1c9b-4dba-d267-e16dd54073b6",
        "id": "vD0WviqluGBi"
      },
      "execution_count": 63,
      "outputs": [
        {
          "output_type": "execute_result",
          "data": {
            "text/plain": [
              "0.5904761904761905"
            ]
          },
          "metadata": {},
          "execution_count": 63
        }
      ]
    },
    {
      "cell_type": "code",
      "source": [
        "kappa(Y_test, preds3)"
      ],
      "metadata": {
        "colab": {
          "base_uri": "https://localhost:8080/"
        },
        "outputId": "3fed9170-4bfe-40eb-c933-7c68a0341d7c",
        "id": "fkjFRlqVuGBj"
      },
      "execution_count": 64,
      "outputs": [
        {
          "output_type": "execute_result",
          "data": {
            "text/plain": [
              "0.16888888888888887"
            ]
          },
          "metadata": {},
          "execution_count": 64
        }
      ]
    },
    {
      "cell_type": "code",
      "source": [
        "y_pred_proba = Classifier3.predict_proba(X_test)[::,1]\n",
        "fpr, tpr, _ = metrics.roc_curve(Y_test,  y_pred_proba)\n",
        "auc = metrics.roc_auc_score(Y_test, y_pred_proba)\n",
        "plt.plot(fpr,tpr,label=\"xgboost, auc=\"+str(auc))\n",
        "plt.legend(loc=4)\n",
        "plt.show()"
      ],
      "metadata": {
        "colab": {
          "base_uri": "https://localhost:8080/",
          "height": 265
        },
        "outputId": "9299bedb-7378-4764-b946-a7a95dec8beb",
        "id": "AIZJ2moWuGBj"
      },
      "execution_count": 65,
      "outputs": [
        {
          "output_type": "display_data",
          "data": {
            "image/png": "[encoded data removed]",
            "text/plain": [
              "<Figure size 432x288 with 1 Axes>"
            ]
          },
          "metadata": {
            "needs_background": "light"
          }
        }
      ]
    },
    {
      "cell_type": "markdown",
      "source": [
        "# Gaussian"
      ],
      "metadata": {
        "id": "M_oLoKwYyQ5r"
      }
    },
    {
      "cell_type": "code",
      "source": [
        "Classifier4 = GaussianNB()"
      ],
      "metadata": {
        "id": "R3n-YXTPyOrL"
      },
      "execution_count": 66,
      "outputs": []
    },
    {
      "cell_type": "code",
      "source": [
        "Classifier4.fit(X_app,Y_app)"
      ],
      "metadata": {
        "colab": {
          "base_uri": "https://localhost:8080/"
        },
        "outputId": "d1483d33-815c-49ff-b826-6ca8fc26738f",
        "id": "CqAOx3ZxyOrM"
      },
      "execution_count": 67,
      "outputs": [
        {
          "output_type": "execute_result",
          "data": {
            "text/plain": [
              "GaussianNB()"
            ]
          },
          "metadata": {},
          "execution_count": 67
        }
      ]
    },
    {
      "cell_type": "code",
      "metadata": {
        "id": "sUQwDdgHyOrN"
      },
      "source": [
        "preds4 = Classifier4.predict(X_test)"
      ],
      "execution_count": 68,
      "outputs": []
    },
    {
      "cell_type": "code",
      "metadata": {
        "colab": {
          "base_uri": "https://localhost:8080/"
        },
        "outputId": "fa348dd0-1fa9-4fb5-aede-a50d88d3acad",
        "id": "wgNGL6VZyOrN"
      },
      "source": [
        "preds4"
      ],
      "execution_count": 69,
      "outputs": [
        {
          "output_type": "execute_result",
          "data": {
            "text/plain": [
              "array([0, 0, 1, 0, 0, 0, 1, 1, 0, 0, 0, 0, 0, 1, 1, 0, 0, 0, 0, 0, 0, 0,\n",
              "       0, 0, 1, 0, 0, 0, 0, 1, 1, 1, 1, 1, 1, 1, 1, 1, 0, 0, 0, 0, 0, 0,\n",
              "       0, 1, 1, 0, 1, 1, 0])"
            ]
          },
          "metadata": {},
          "execution_count": 69
        }
      ]
    },
    {
      "cell_type": "code",
      "metadata": {
        "colab": {
          "base_uri": "https://localhost:8080/"
        },
        "outputId": "1efce49e-0d44-4452-e8e8-48c130946575",
        "id": "lrM0H5CtyOrO"
      },
      "source": [
        "cf_matrix4 = confusion_matrix(Y_test, preds4)\n",
        "print(cf_matrix4)"
      ],
      "execution_count": 70,
      "outputs": [
        {
          "output_type": "stream",
          "name": "stdout",
          "text": [
            "[[16  4]\n",
            " [16 15]]\n"
          ]
        }
      ]
    },
    {
      "cell_type": "code",
      "source": [
        "MCC(Y_test, preds4)"
      ],
      "metadata": {
        "colab": {
          "base_uri": "https://localhost:8080/"
        },
        "outputId": "0dc3c105-9586-4825-8878-481a753b03f5",
        "id": "saxhWxoLyOrP"
      },
      "execution_count": 71,
      "outputs": [
        {
          "output_type": "execute_result",
          "data": {
            "text/plain": [
              "0.2866586382313736"
            ]
          },
          "metadata": {},
          "execution_count": 71
        }
      ]
    },
    {
      "cell_type": "code",
      "source": [
        "recall(Y_test, preds4)"
      ],
      "metadata": {
        "colab": {
          "base_uri": "https://localhost:8080/"
        },
        "outputId": "0462643f-1b5b-45df-9ca6-fbccd42a276c",
        "id": "x3ajiHmiyOrP"
      },
      "execution_count": 72,
      "outputs": [
        {
          "output_type": "execute_result",
          "data": {
            "text/plain": [
              "0.4838709677419355"
            ]
          },
          "metadata": {},
          "execution_count": 72
        }
      ]
    },
    {
      "cell_type": "code",
      "source": [
        "sensibilite(Y_test, preds4)"
      ],
      "metadata": {
        "colab": {
          "base_uri": "https://localhost:8080/"
        },
        "outputId": "f8a1ca67-b53e-436b-c8a8-ec25e41a8ec6",
        "id": "rhznxgVNyOrQ"
      },
      "execution_count": 73,
      "outputs": [
        {
          "output_type": "execute_result",
          "data": {
            "text/plain": [
              "0.4838709677419355"
            ]
          },
          "metadata": {},
          "execution_count": 73
        }
      ]
    },
    {
      "cell_type": "code",
      "source": [
        "specifite(Y_test, preds4)"
      ],
      "metadata": {
        "colab": {
          "base_uri": "https://localhost:8080/"
        },
        "outputId": "d61a89fb-cbfc-4451-d679-a093c6d8c992",
        "id": "wH2MIF2XyOrR"
      },
      "execution_count": 74,
      "outputs": [
        {
          "output_type": "execute_result",
          "data": {
            "text/plain": [
              "0.8"
            ]
          },
          "metadata": {},
          "execution_count": 74
        }
      ]
    },
    {
      "cell_type": "code",
      "source": [
        "présicion_négative(Y_test, preds4)"
      ],
      "metadata": {
        "colab": {
          "base_uri": "https://localhost:8080/"
        },
        "outputId": "c98f026b-e0bf-4807-970a-3a41ff40aef6",
        "id": "jDbUhczcyOrS"
      },
      "execution_count": 75,
      "outputs": [
        {
          "output_type": "execute_result",
          "data": {
            "text/plain": [
              "0.5"
            ]
          },
          "metadata": {},
          "execution_count": 75
        }
      ]
    },
    {
      "cell_type": "code",
      "source": [
        "présicion_positive(Y_test, preds4)"
      ],
      "metadata": {
        "colab": {
          "base_uri": "https://localhost:8080/"
        },
        "outputId": "2ae2bd70-132a-4519-ac70-a9743b6bd194",
        "id": "LT4yf35CyOrT"
      },
      "execution_count": 76,
      "outputs": [
        {
          "output_type": "execute_result",
          "data": {
            "text/plain": [
              "0.7894736842105263"
            ]
          },
          "metadata": {},
          "execution_count": 76
        }
      ]
    },
    {
      "cell_type": "code",
      "source": [
        "balancedacc(Y_test, preds4)"
      ],
      "metadata": {
        "colab": {
          "base_uri": "https://localhost:8080/"
        },
        "outputId": "8f2a2cc0-d655-4fb5-e5cd-bc2bbcbbd867",
        "id": "y9KqoG0eyOrU"
      },
      "execution_count": 77,
      "outputs": [
        {
          "output_type": "execute_result",
          "data": {
            "text/plain": [
              "0.6447368421052632"
            ]
          },
          "metadata": {},
          "execution_count": 77
        }
      ]
    },
    {
      "cell_type": "code",
      "source": [
        "kappa(Y_test, preds4)"
      ],
      "metadata": {
        "colab": {
          "base_uri": "https://localhost:8080/"
        },
        "outputId": "067cbe9c-44fa-468a-a433-3a3947e004ef",
        "id": "4MwUWhdByOrU"
      },
      "execution_count": 78,
      "outputs": [
        {
          "output_type": "execute_result",
          "data": {
            "text/plain": [
              "0.2565597667638483"
            ]
          },
          "metadata": {},
          "execution_count": 78
        }
      ]
    },
    {
      "cell_type": "code",
      "source": [
        "y_pred_proba = Classifier4.predict_proba(X_test)[::,1]\n",
        "fpr, tpr, _ = metrics.roc_curve(Y_test,  y_pred_proba)\n",
        "auc = metrics.roc_auc_score(Y_test, y_pred_proba)\n",
        "plt.plot(fpr,tpr,label=\"xgboost, auc=\"+str(auc))\n",
        "plt.legend(loc=4)\n",
        "plt.show()"
      ],
      "metadata": {
        "colab": {
          "base_uri": "https://localhost:8080/",
          "height": 54
        },
        "outputId": "3c644b7f-70d5-4806-9bce-e3930903dfbd",
        "id": "8no7Z5gvyOrV"
      },
      "execution_count": 79,
      "outputs": [
        {
          "output_type": "display_data",
          "data": {
            "image/png": "[encoded data removed]",
            "text/plain": [
              "<Figure size 432x288 with 1 Axes>"
            ]
          },
          "metadata": {
            "needs_background": "light"
          }
        }
      ]
    },
    {
      "cell_type": "markdown",
      "source": [
        "# KNN"
      ],
      "metadata": {
        "id": "MjRfnmXjz57x"
      }
    },
    {
      "cell_type": "code",
      "source": [
        "Classifier5 = KNeighborsClassifier(n_neighbors=6)"
      ],
      "metadata": {
        "id": "OsjObBSfz4IN"
      },
      "execution_count": 124,
      "outputs": []
    },
    {
      "cell_type": "code",
      "source": [
        "Classifier5.fit(X_app,Y_app)"
      ],
      "metadata": {
        "colab": {
          "base_uri": "https://localhost:8080/"
        },
        "outputId": "1a8f0ec4-81c8-4033-969d-17e34f49faa9",
        "id": "nB069cUFz4IP"
      },
      "execution_count": 125,
      "outputs": [
        {
          "output_type": "execute_result",
          "data": {
            "text/plain": [
              "KNeighborsClassifier(n_neighbors=6)"
            ]
          },
          "metadata": {},
          "execution_count": 125
        }
      ]
    },
    {
      "cell_type": "code",
      "metadata": {
        "id": "ubEW3-dVz4IQ"
      },
      "source": [
        "preds5 = Classifier5.predict(X_test)"
      ],
      "execution_count": 126,
      "outputs": []
    },
    {
      "cell_type": "code",
      "metadata": {
        "colab": {
          "base_uri": "https://localhost:8080/"
        },
        "outputId": "9a4e898f-e0ec-4f1a-ead1-a55e4ab0db64",
        "id": "Jt1k3-_iz4IQ"
      },
      "source": [
        "preds5"
      ],
      "execution_count": 127,
      "outputs": [
        {
          "output_type": "execute_result",
          "data": {
            "text/plain": [
              "array([1, 1, 1, 0, 0, 0, 0, 0, 1, 1, 1, 0, 0, 0, 1, 0, 0, 0, 0, 0, 0, 0,\n",
              "       0, 0, 1, 0, 0, 0, 1, 1, 1, 1, 1, 0, 1, 1, 0, 0, 0, 0, 1, 0, 0, 0,\n",
              "       0, 0, 1, 1, 1, 0, 0])"
            ]
          },
          "metadata": {},
          "execution_count": 127
        }
      ]
    },
    {
      "cell_type": "code",
      "metadata": {
        "colab": {
          "base_uri": "https://localhost:8080/"
        },
        "outputId": "55c064b9-86ad-4b8f-bf3f-7ce122cef58e",
        "id": "Cur8wap4z4IR"
      },
      "source": [
        "cf_matrix5 = confusion_matrix(Y_test, preds5)\n",
        "print(cf_matrix5)"
      ],
      "execution_count": 128,
      "outputs": [
        {
          "output_type": "stream",
          "name": "stdout",
          "text": [
            "[[16  4]\n",
            " [16 15]]\n"
          ]
        }
      ]
    },
    {
      "cell_type": "code",
      "source": [
        "MCC(Y_test, preds5)"
      ],
      "metadata": {
        "colab": {
          "base_uri": "https://localhost:8080/"
        },
        "outputId": "b21ddac9-756a-4f03-ebb8-ccea9add6744",
        "id": "CCCChR6jz4IS"
      },
      "execution_count": 129,
      "outputs": [
        {
          "output_type": "execute_result",
          "data": {
            "text/plain": [
              "0.2866586382313736"
            ]
          },
          "metadata": {},
          "execution_count": 129
        }
      ]
    },
    {
      "cell_type": "code",
      "source": [
        "recall(Y_test, preds5)"
      ],
      "metadata": {
        "colab": {
          "base_uri": "https://localhost:8080/"
        },
        "outputId": "6ca702b2-f9aa-468d-b917-c6ebcbd4f7cf",
        "id": "7hSSJP_Dz4IS"
      },
      "execution_count": 130,
      "outputs": [
        {
          "output_type": "execute_result",
          "data": {
            "text/plain": [
              "0.4838709677419355"
            ]
          },
          "metadata": {},
          "execution_count": 130
        }
      ]
    },
    {
      "cell_type": "code",
      "source": [
        "sensibilite(Y_test, preds5)"
      ],
      "metadata": {
        "colab": {
          "base_uri": "https://localhost:8080/"
        },
        "outputId": "e75f67b3-2f37-43da-bdbd-50260b852813",
        "id": "AlNCQlajz4IT"
      },
      "execution_count": 131,
      "outputs": [
        {
          "output_type": "execute_result",
          "data": {
            "text/plain": [
              "0.4838709677419355"
            ]
          },
          "metadata": {},
          "execution_count": 131
        }
      ]
    },
    {
      "cell_type": "code",
      "source": [
        "specifite(Y_test, preds5)"
      ],
      "metadata": {
        "colab": {
          "base_uri": "https://localhost:8080/"
        },
        "outputId": "6b120ce0-f8d1-42fc-915d-f53daae2c623",
        "id": "fQZd8sYbz4IU"
      },
      "execution_count": 132,
      "outputs": [
        {
          "output_type": "execute_result",
          "data": {
            "text/plain": [
              "0.8"
            ]
          },
          "metadata": {},
          "execution_count": 132
        }
      ]
    },
    {
      "cell_type": "code",
      "source": [
        "présicion_négative(Y_test, preds5)"
      ],
      "metadata": {
        "colab": {
          "base_uri": "https://localhost:8080/"
        },
        "outputId": "6e843a46-8db9-41dc-f834-e551df50450f",
        "id": "eiy_lIEAz4IV"
      },
      "execution_count": 133,
      "outputs": [
        {
          "output_type": "execute_result",
          "data": {
            "text/plain": [
              "0.5"
            ]
          },
          "metadata": {},
          "execution_count": 133
        }
      ]
    },
    {
      "cell_type": "code",
      "source": [
        "présicion_positive(Y_test, preds5)"
      ],
      "metadata": {
        "colab": {
          "base_uri": "https://localhost:8080/"
        },
        "outputId": "1d8bc908-c892-4686-faf0-41be9834ef36",
        "id": "yDxiQZ1oz4IW"
      },
      "execution_count": 134,
      "outputs": [
        {
          "output_type": "execute_result",
          "data": {
            "text/plain": [
              "0.7894736842105263"
            ]
          },
          "metadata": {},
          "execution_count": 134
        }
      ]
    },
    {
      "cell_type": "code",
      "source": [
        "balancedacc(Y_test, preds5)"
      ],
      "metadata": {
        "colab": {
          "base_uri": "https://localhost:8080/"
        },
        "outputId": "c1f80284-bc65-467a-c8d3-3998f011db3a",
        "id": "4lrr3y6jz4IW"
      },
      "execution_count": 135,
      "outputs": [
        {
          "output_type": "execute_result",
          "data": {
            "text/plain": [
              "0.6447368421052632"
            ]
          },
          "metadata": {},
          "execution_count": 135
        }
      ]
    },
    {
      "cell_type": "code",
      "source": [
        "kappa(Y_test, preds5)"
      ],
      "metadata": {
        "colab": {
          "base_uri": "https://localhost:8080/"
        },
        "outputId": "4dc47a79-e6f9-4a92-f921-626bc310db2d",
        "id": "r0uSmog4z4IX"
      },
      "execution_count": 136,
      "outputs": [
        {
          "output_type": "execute_result",
          "data": {
            "text/plain": [
              "0.2565597667638483"
            ]
          },
          "metadata": {},
          "execution_count": 136
        }
      ]
    },
    {
      "cell_type": "code",
      "source": [
        "y_pred_proba = Classifier5.predict_proba(X_test)[::,1]\n",
        "fpr, tpr, _ = metrics.roc_curve(Y_test,  y_pred_proba)\n",
        "auc = metrics.roc_auc_score(Y_test, y_pred_proba)\n",
        "plt.plot(fpr,tpr,label=\"xgboost, auc=\"+str(auc))\n",
        "plt.legend(loc=4)\n",
        "plt.show()"
      ],
      "metadata": {
        "colab": {
          "base_uri": "https://localhost:8080/",
          "height": 265
        },
        "outputId": "b3bc0399-1aae-47c5-a302-64efc9f0a820",
        "id": "iQ65_5xLz4IX"
      },
      "execution_count": 137,
      "outputs": [
        {
          "output_type": "display_data",
          "data": {
            "image/png": "[encoded data removed]",
            "text/plain": [
              "<Figure size 432x288 with 1 Axes>"
            ]
          },
          "metadata": {
            "needs_background": "light"
          }
        }
      ]
    },
    {
      "cell_type": "markdown",
      "source": [
        "# MLPC"
      ],
      "metadata": {
        "id": "JSOjmzRT48EB"
      }
    },
    {
      "cell_type": "code",
      "source": [
        "from sklearn.neural_network import MLPClassifier"
      ],
      "metadata": {
        "id": "kTrWiH8BgHUe"
      },
      "execution_count": 138,
      "outputs": []
    },
    {
      "cell_type": "code",
      "source": [
        "Classifier6 = MLPClassifier(hidden_layer_sizes=100,max_iter=300)"
      ],
      "metadata": {
        "id": "u8ZCVkyH7au6"
      },
      "execution_count": 139,
      "outputs": []
    },
    {
      "cell_type": "code",
      "source": [
        "Classifier6.fit(X_app,Y_app)"
      ],
      "metadata": {
        "colab": {
          "base_uri": "https://localhost:8080/"
        },
        "outputId": "5ae07c31-e0d3-480a-ec7e-a2dbdf7a59ad",
        "id": "3q96K7k_7au7"
      },
      "execution_count": 140,
      "outputs": [
        {
          "output_type": "execute_result",
          "data": {
            "text/plain": [
              "MLPClassifier(hidden_layer_sizes=100, max_iter=300)"
            ]
          },
          "metadata": {},
          "execution_count": 140
        }
      ]
    },
    {
      "cell_type": "code",
      "metadata": {
        "id": "bmwFgVgZ7au9"
      },
      "source": [
        "preds6 = Classifier6.predict(X_test)"
      ],
      "execution_count": 141,
      "outputs": []
    },
    {
      "cell_type": "code",
      "metadata": {
        "colab": {
          "base_uri": "https://localhost:8080/"
        },
        "outputId": "80e6ab25-3a70-4ed3-d363-8c7903fc70ea",
        "id": "fw-in7Pn7au_"
      },
      "source": [
        "preds6"
      ],
      "execution_count": 142,
      "outputs": [
        {
          "output_type": "execute_result",
          "data": {
            "text/plain": [
              "array([0, 1, 1, 0, 0, 0, 0, 0, 0, 0, 0, 0, 0, 0, 1, 0, 0, 0, 0, 0, 0, 0,\n",
              "       0, 0, 0, 0, 0, 0, 1, 1, 1, 1, 1, 1, 1, 1, 1, 0, 0, 0, 0, 0, 0, 0,\n",
              "       0, 1, 1, 0, 1, 1, 0])"
            ]
          },
          "metadata": {},
          "execution_count": 142
        }
      ]
    },
    {
      "cell_type": "code",
      "metadata": {
        "colab": {
          "base_uri": "https://localhost:8080/"
        },
        "outputId": "de18c4b0-3cb4-462e-ff35-44be5fae0841",
        "id": "_lfXsjfr7avA"
      },
      "source": [
        "cf_matrix6 = confusion_matrix(Y_test, preds6)\n",
        "print(cf_matrix6)"
      ],
      "execution_count": 143,
      "outputs": [
        {
          "output_type": "stream",
          "name": "stdout",
          "text": [
            "[[18  2]\n",
            " [17 14]]\n"
          ]
        }
      ]
    },
    {
      "cell_type": "code",
      "source": [
        "MCC(Y_test, preds6)"
      ],
      "metadata": {
        "colab": {
          "base_uri": "https://localhost:8080/"
        },
        "outputId": "bc65b902-4c0b-4ff2-f877-497d1b791af0",
        "id": "7pu_dMGr7avB"
      },
      "execution_count": 144,
      "outputs": [
        {
          "output_type": "execute_result",
          "data": {
            "text/plain": [
              "0.36997010714966116"
            ]
          },
          "metadata": {},
          "execution_count": 144
        }
      ]
    },
    {
      "cell_type": "code",
      "source": [
        "recall(Y_test, preds6)"
      ],
      "metadata": {
        "colab": {
          "base_uri": "https://localhost:8080/"
        },
        "outputId": "008e2436-c74b-4646-d45b-d926f051321e",
        "id": "q910vxIg7avC"
      },
      "execution_count": 145,
      "outputs": [
        {
          "output_type": "execute_result",
          "data": {
            "text/plain": [
              "0.45161290322580644"
            ]
          },
          "metadata": {},
          "execution_count": 145
        }
      ]
    },
    {
      "cell_type": "code",
      "source": [
        "sensibilite(Y_test, preds6)"
      ],
      "metadata": {
        "colab": {
          "base_uri": "https://localhost:8080/"
        },
        "outputId": "25365e54-b06f-456a-9dbf-cc16e0670a33",
        "id": "-EHzWArf7avC"
      },
      "execution_count": 146,
      "outputs": [
        {
          "output_type": "execute_result",
          "data": {
            "text/plain": [
              "0.45161290322580644"
            ]
          },
          "metadata": {},
          "execution_count": 146
        }
      ]
    },
    {
      "cell_type": "code",
      "source": [
        "specifite(Y_test, preds6)"
      ],
      "metadata": {
        "colab": {
          "base_uri": "https://localhost:8080/"
        },
        "outputId": "9b9649b2-690f-46c2-af72-f71332f58080",
        "id": "Dht6FOif7avD"
      },
      "execution_count": 147,
      "outputs": [
        {
          "output_type": "execute_result",
          "data": {
            "text/plain": [
              "0.9"
            ]
          },
          "metadata": {},
          "execution_count": 147
        }
      ]
    },
    {
      "cell_type": "code",
      "source": [
        "présicion_négative(Y_test, preds6)"
      ],
      "metadata": {
        "colab": {
          "base_uri": "https://localhost:8080/"
        },
        "outputId": "fba01ba2-d18e-41a9-a8e3-50ddf635eb5a",
        "id": "EvET3j2E7avD"
      },
      "execution_count": 148,
      "outputs": [
        {
          "output_type": "execute_result",
          "data": {
            "text/plain": [
              "0.5142857142857142"
            ]
          },
          "metadata": {},
          "execution_count": 148
        }
      ]
    },
    {
      "cell_type": "code",
      "source": [
        "présicion_positive(Y_test, preds6)"
      ],
      "metadata": {
        "colab": {
          "base_uri": "https://localhost:8080/"
        },
        "outputId": "ff7abcd1-19b6-434c-c5d3-4f19247bd32e",
        "id": "swTtPanh7avE"
      },
      "execution_count": 149,
      "outputs": [
        {
          "output_type": "execute_result",
          "data": {
            "text/plain": [
              "0.875"
            ]
          },
          "metadata": {},
          "execution_count": 149
        }
      ]
    },
    {
      "cell_type": "code",
      "source": [
        "balancedacc(Y_test, preds6)"
      ],
      "metadata": {
        "colab": {
          "base_uri": "https://localhost:8080/"
        },
        "outputId": "bcfcb3b4-4e2d-466f-e179-8f7651d5a40d",
        "id": "sjrSKyAD7avF"
      },
      "execution_count": 150,
      "outputs": [
        {
          "output_type": "execute_result",
          "data": {
            "text/plain": [
              "0.6946428571428571"
            ]
          },
          "metadata": {},
          "execution_count": 150
        }
      ]
    },
    {
      "cell_type": "code",
      "source": [
        "kappa(Y_test, preds6)"
      ],
      "metadata": {
        "colab": {
          "base_uri": "https://localhost:8080/"
        },
        "outputId": "f2b3961e-ed2c-466e-d2b1-8a79fcaddc6f",
        "id": "yuImLPCt7avG"
      },
      "execution_count": 151,
      "outputs": [
        {
          "output_type": "execute_result",
          "data": {
            "text/plain": [
              "0.31032028469750883"
            ]
          },
          "metadata": {},
          "execution_count": 151
        }
      ]
    },
    {
      "cell_type": "code",
      "source": [
        "y_pred_proba = Classifier6.predict_proba(X_test)[::,1]\n",
        "fpr, tpr, _ = metrics.roc_curve(Y_test,  y_pred_proba)\n",
        "auc = metrics.roc_auc_score(Y_test, y_pred_proba)\n",
        "plt.plot(fpr,tpr,label=\"xgboost, auc=\"+str(auc))\n",
        "plt.legend(loc=4)\n",
        "plt.show()"
      ],
      "metadata": {
        "colab": {
          "base_uri": "https://localhost:8080/",
          "height": 265
        },
        "outputId": "8d8af18f-5974-4afb-83fb-7f20de1c48d7",
        "id": "axoaIvAd7avG"
      },
      "execution_count": 152,
      "outputs": [
        {
          "output_type": "display_data",
          "data": {
            "image/png": "[encoded data removed]",
            "text/plain": [
              "<Figure size 432x288 with 1 Axes>"
            ]
          },
          "metadata": {
            "needs_background": "light"
          }
        }
      ]
    },
    {
      "cell_type": "markdown",
      "source": [
        "# SVM"
      ],
      "metadata": {
        "id": "ZrStCapd-xfv"
      }
    },
    {
      "cell_type": "code",
      "source": [
        "Classifier7 = svm.SVC(kernel='rbf',gamma=0.05,C=12)"
      ],
      "metadata": {
        "id": "bL7fPd6m-xfx"
      },
      "execution_count": 153,
      "outputs": []
    },
    {
      "cell_type": "code",
      "source": [
        "Classifier7.fit(X_app,Y_app)"
      ],
      "metadata": {
        "colab": {
          "base_uri": "https://localhost:8080/"
        },
        "outputId": "a0442f27-7b1c-48cb-b8b2-2943cad5433c",
        "id": "-6xFLeXo-xfz"
      },
      "execution_count": 154,
      "outputs": [
        {
          "output_type": "execute_result",
          "data": {
            "text/plain": [
              "SVC(C=12, gamma=0.05)"
            ]
          },
          "metadata": {},
          "execution_count": 154
        }
      ]
    },
    {
      "cell_type": "code",
      "metadata": {
        "id": "RgkyEzm5-xf0"
      },
      "source": [
        "preds7 = Classifier7.predict(X_test)"
      ],
      "execution_count": 155,
      "outputs": []
    },
    {
      "cell_type": "code",
      "metadata": {
        "colab": {
          "base_uri": "https://localhost:8080/"
        },
        "outputId": "bf127480-ddec-4107-f8f5-aa5ad1be2f16",
        "id": "NFvKopxU-xf0"
      },
      "source": [
        "preds7"
      ],
      "execution_count": 156,
      "outputs": [
        {
          "output_type": "execute_result",
          "data": {
            "text/plain": [
              "array([0, 1, 1, 0, 0, 0, 0, 0, 0, 0, 0, 0, 0, 0, 1, 0, 0, 0, 0, 0, 0, 0,\n",
              "       1, 0, 0, 0, 0, 0, 1, 1, 1, 1, 1, 0, 1, 1, 1, 0, 0, 0, 0, 0, 0, 0,\n",
              "       0, 1, 1, 0, 1, 1, 0])"
            ]
          },
          "metadata": {},
          "execution_count": 156
        }
      ]
    },
    {
      "cell_type": "code",
      "metadata": {
        "colab": {
          "base_uri": "https://localhost:8080/"
        },
        "outputId": "50703909-2409-45cc-c05a-fcb2ef20be79",
        "id": "-M83HpkZ-xf1"
      },
      "source": [
        "cf_matrix7 = confusion_matrix(Y_test, preds7)\n",
        "print(cf_matrix7)"
      ],
      "execution_count": 157,
      "outputs": [
        {
          "output_type": "stream",
          "name": "stdout",
          "text": [
            "[[17  3]\n",
            " [18 13]]\n"
          ]
        }
      ]
    },
    {
      "cell_type": "code",
      "source": [
        "MCC(Y_test, preds7)"
      ],
      "metadata": {
        "colab": {
          "base_uri": "https://localhost:8080/"
        },
        "outputId": "44975807-ade1-47d1-97b5-0c5ddfea5ea7",
        "id": "ANDDZOPd-xf2"
      },
      "execution_count": 158,
      "outputs": [
        {
          "output_type": "execute_result",
          "data": {
            "text/plain": [
              "0.28341746740363954"
            ]
          },
          "metadata": {},
          "execution_count": 158
        }
      ]
    },
    {
      "cell_type": "code",
      "source": [
        "recall(Y_test, preds7)"
      ],
      "metadata": {
        "colab": {
          "base_uri": "https://localhost:8080/"
        },
        "outputId": "da6ce43b-23bf-4b74-8084-5b2a51b47744",
        "id": "lg9p7hmj-xf3"
      },
      "execution_count": 159,
      "outputs": [
        {
          "output_type": "execute_result",
          "data": {
            "text/plain": [
              "0.41935483870967744"
            ]
          },
          "metadata": {},
          "execution_count": 159
        }
      ]
    },
    {
      "cell_type": "code",
      "source": [
        "sensibilite(Y_test, preds7)"
      ],
      "metadata": {
        "colab": {
          "base_uri": "https://localhost:8080/"
        },
        "outputId": "42d8b715-ff37-4201-9539-bc05c5b45fef",
        "id": "_WPsB_k_-xf3"
      },
      "execution_count": 160,
      "outputs": [
        {
          "output_type": "execute_result",
          "data": {
            "text/plain": [
              "0.41935483870967744"
            ]
          },
          "metadata": {},
          "execution_count": 160
        }
      ]
    },
    {
      "cell_type": "code",
      "source": [
        "specifite(Y_test, preds7)"
      ],
      "metadata": {
        "id": "LD3aqdbx-xf4",
        "outputId": "781f2211-4d0c-4533-eddb-575842f42533",
        "colab": {
          "base_uri": "https://localhost:8080/"
        }
      },
      "execution_count": 161,
      "outputs": [
        {
          "output_type": "execute_result",
          "data": {
            "text/plain": [
              "0.85"
            ]
          },
          "metadata": {},
          "execution_count": 161
        }
      ]
    },
    {
      "cell_type": "code",
      "source": [
        "présicion_négative(Y_test, preds7)"
      ],
      "metadata": {
        "colab": {
          "base_uri": "https://localhost:8080/"
        },
        "outputId": "d9e48bfe-27ec-4869-a478-985c6a7e36f2",
        "id": "oq8CHk5h-xf4"
      },
      "execution_count": 162,
      "outputs": [
        {
          "output_type": "execute_result",
          "data": {
            "text/plain": [
              "0.4857142857142857"
            ]
          },
          "metadata": {},
          "execution_count": 162
        }
      ]
    },
    {
      "cell_type": "code",
      "source": [
        "présicion_positive(Y_test, preds7)"
      ],
      "metadata": {
        "colab": {
          "base_uri": "https://localhost:8080/"
        },
        "outputId": "90b1422b-63f1-49c0-c922-784dc76fd54f",
        "id": "7ExhWirz-xf5"
      },
      "execution_count": 163,
      "outputs": [
        {
          "output_type": "execute_result",
          "data": {
            "text/plain": [
              "0.8125"
            ]
          },
          "metadata": {},
          "execution_count": 163
        }
      ]
    },
    {
      "cell_type": "code",
      "source": [
        "balancedacc(Y_test, preds7)"
      ],
      "metadata": {
        "colab": {
          "base_uri": "https://localhost:8080/"
        },
        "outputId": "13f55ab9-201d-44be-b97a-38a0d696827a",
        "id": "3O2CWE-V-xf6"
      },
      "execution_count": 164,
      "outputs": [
        {
          "output_type": "execute_result",
          "data": {
            "text/plain": [
              "0.6491071428571429"
            ]
          },
          "metadata": {},
          "execution_count": 164
        }
      ]
    },
    {
      "cell_type": "code",
      "source": [
        "kappa(Y_test, preds7)"
      ],
      "metadata": {
        "colab": {
          "base_uri": "https://localhost:8080/"
        },
        "outputId": "1c81d277-9b64-44f2-b25f-6fee5334a4ea",
        "id": "qa5wm9Y2-xf6"
      },
      "execution_count": 165,
      "outputs": [
        {
          "output_type": "execute_result",
          "data": {
            "text/plain": [
              "0.2377224199288256"
            ]
          },
          "metadata": {},
          "execution_count": 165
        }
      ]
    },
    {
      "cell_type": "code",
      "source": [
        "from sklearn.metrics import roc_auc_score"
      ],
      "metadata": {
        "id": "5gE_Ahhf5Wi2"
      },
      "execution_count": 166,
      "outputs": []
    },
    {
      "cell_type": "code",
      "source": [
        "roc_auc_score(Y_test, Classifier7.decision_function(X_test))"
      ],
      "metadata": {
        "id": "U3TC1DQW5Wmf",
        "outputId": "3550b491-3955-46c5-f10c-af8bdd787362",
        "colab": {
          "base_uri": "https://localhost:8080/"
        }
      },
      "execution_count": 167,
      "outputs": [
        {
          "output_type": "execute_result",
          "data": {
            "text/plain": [
              "0.6709677419354839"
            ]
          },
          "metadata": {},
          "execution_count": 167
        }
      ]
    },
    {
      "cell_type": "markdown",
      "source": [
        "# Correlation "
      ],
      "metadata": {
        "id": "reaxYcGSPyKh"
      }
    },
    {
      "cell_type": "code",
      "source": [
        "def eta_squared(x,y):\n",
        "    moyenne_y = np.mean(y)\n",
        "    classes = []\n",
        "    for classe in x.unique():\n",
        "        yi_classe = y[x==classe]\n",
        "        classes.append({'ni': len(yi_classe),\n",
        "                        'moyenne_classe': np.mean(yi_classe)})\n",
        "    SCT = np.sum([(yj-moyenne_y)**2 for yj in y])\n",
        "    SCE = np.sum([c['ni']*(c['moyenne_classe']-moyenne_y)**2 for c in classes])\n",
        "    return SCE/SCT"
      ],
      "metadata": {
        "id": "tZYG5FzmPk71"
      },
      "execution_count": 168,
      "outputs": []
    },
    {
      "cell_type": "markdown",
      "source": [
        "# cs_longia"
      ],
      "metadata": {
        "id": "xgboD0s5zLVV"
      }
    },
    {
      "cell_type": "code",
      "execution_count": 169,
      "metadata": {
        "id": "lMC4J47eQD96"
      },
      "outputs": [],
      "source": [
        "Cl1 = '/content/apprentissage.xlsx' \n",
        "data1=pd.read_excel(Cl1, sheet_name=0,header=0,index_col=False, keep_default_na=True)"
      ]
    },
    {
      "cell_type": "code",
      "execution_count": 170,
      "metadata": {
        "colab": {
          "base_uri": "https://localhost:8080/",
          "height": 487
        },
        "id": "_GMyLG-Fqr7k",
        "outputId": "7e116ab8-963d-491a-e18a-a817571794a5"
      },
      "outputs": [
        {
          "output_type": "execute_result",
          "data": {
            "text/html": [
              "\n",
              "  <div id=\"df-08540693-645b-469c-a05d-510f5439cb30\">\n",
              "    <div class=\"colab-df-container\">\n",
              "      <div>\n",
              "<style scoped>\n",
              "    .dataframe tbody tr th:only-of-type {\n",
              "        vertical-align: middle;\n",
              "    }\n",
              "\n",
              "    .dataframe tbody tr th {\n",
              "        vertical-align: top;\n",
              "    }\n",
              "\n",
              "    .dataframe thead th {\n",
              "        text-align: right;\n",
              "    }\n",
              "</style>\n",
              "<table border=\"1\" class=\"dataframe\">\n",
              "  <thead>\n",
              "    <tr style=\"text-align: right;\">\n",
              "      <th></th>\n",
              "      <th>X_long</th>\n",
              "      <th>Y_lat</th>\n",
              "      <th>Cs_longia</th>\n",
              "      <th>Bovins</th>\n",
              "      <th>Volaille</th>\n",
              "      <th>Caprins</th>\n",
              "      <th>Ovins</th>\n",
              "      <th>Equides</th>\n",
              "      <th>Coniferes</th>\n",
              "      <th>ZoneAride</th>\n",
              "      <th>ZonePel</th>\n",
              "      <th>Lesfeuillus</th>\n",
              "      <th>Caduc</th>\n",
              "      <th>Autres</th>\n",
              "      <th>Arbrisseau</th>\n",
              "      <th>Pl_herb</th>\n",
              "      <th>VegCul</th>\n",
              "      <th>VegInond</th>\n",
              "      <th>ZoneUrbaine</th>\n",
              "      <th>Moy_IRM</th>\n",
              "      <th>Amp1_IRM</th>\n",
              "      <th>Amp2_IRM</th>\n",
              "      <th>Amp3_IRM</th>\n",
              "      <th>VarT_ann_IRM</th>\n",
              "      <th>VarT_bi_IRM</th>\n",
              "      <th>VarT_tri_IRM</th>\n",
              "      <th>VarT_Cy_IRM</th>\n",
              "      <th>Min_IRM</th>\n",
              "      <th>Max_IRM</th>\n",
              "      <th>Ph1_IRM</th>\n",
              "      <th>Ph2_IRM</th>\n",
              "      <th>Ph3_IRM</th>\n",
              "      <th>Var_IRM</th>\n",
              "      <th>Moy_TempJ</th>\n",
              "      <th>Amp1_TempJ</th>\n",
              "      <th>Amp2_TempJ</th>\n",
              "      <th>Amp3_TempJ</th>\n",
              "      <th>VarT_ann_TempJ</th>\n",
              "      <th>VarT_bi_TempJ</th>\n",
              "      <th>VarT_tri_TempJ</th>\n",
              "      <th>...</th>\n",
              "      <th>Tmax_Sept</th>\n",
              "      <th>Tmax_Oct</th>\n",
              "      <th>Tmax_Nov</th>\n",
              "      <th>Tmax_Dec</th>\n",
              "      <th>Tmin_Janv</th>\n",
              "      <th>Tmin_Fev</th>\n",
              "      <th>Tmin_Mars</th>\n",
              "      <th>Tmin_Avril</th>\n",
              "      <th>Tmin_Mai</th>\n",
              "      <th>Tmin_Juin</th>\n",
              "      <th>Tmin_Juill</th>\n",
              "      <th>Tmin_Aout</th>\n",
              "      <th>Tmin_Sept</th>\n",
              "      <th>Tmin_Oct</th>\n",
              "      <th>Tmin_Nov</th>\n",
              "      <th>Tmin_Dec</th>\n",
              "      <th>Vap_Janv</th>\n",
              "      <th>Vap_Fev</th>\n",
              "      <th>Vap_Mars</th>\n",
              "      <th>Vap_Avril</th>\n",
              "      <th>Vap_Mai</th>\n",
              "      <th>Vap_Juin</th>\n",
              "      <th>Vap_Juill</th>\n",
              "      <th>Vap_Aout</th>\n",
              "      <th>Vap_Sept</th>\n",
              "      <th>Vap_Oct</th>\n",
              "      <th>Vap_Nov</th>\n",
              "      <th>Vap_Dec</th>\n",
              "      <th>Vent_Janv</th>\n",
              "      <th>Vent_Fev</th>\n",
              "      <th>Vent_Mars</th>\n",
              "      <th>Vent_Avril</th>\n",
              "      <th>Vent_Mai</th>\n",
              "      <th>Vent_Juin</th>\n",
              "      <th>Vent_Juill</th>\n",
              "      <th>Vent_Aout</th>\n",
              "      <th>Vent_Sept</th>\n",
              "      <th>Vent_Oct</th>\n",
              "      <th>Vent_Nov</th>\n",
              "      <th>Vent_Dec</th>\n",
              "    </tr>\n",
              "  </thead>\n",
              "  <tbody>\n",
              "    <tr>\n",
              "      <th>0</th>\n",
              "      <td>-13.188370</td>\n",
              "      <td>27.132950</td>\n",
              "      <td>1</td>\n",
              "      <td>0.000214</td>\n",
              "      <td>0.000000</td>\n",
              "      <td>0.063449</td>\n",
              "      <td>0.034352</td>\n",
              "      <td>0.040295</td>\n",
              "      <td>0</td>\n",
              "      <td>100</td>\n",
              "      <td>0</td>\n",
              "      <td>0</td>\n",
              "      <td>0</td>\n",
              "      <td>0</td>\n",
              "      <td>0</td>\n",
              "      <td>0</td>\n",
              "      <td>0</td>\n",
              "      <td>0</td>\n",
              "      <td>0</td>\n",
              "      <td>4010</td>\n",
              "      <td>660</td>\n",
              "      <td>10</td>\n",
              "      <td>50</td>\n",
              "      <td>73</td>\n",
              "      <td>0</td>\n",
              "      <td>0</td>\n",
              "      <td>73</td>\n",
              "      <td>3350</td>\n",
              "      <td>4660</td>\n",
              "      <td>581</td>\n",
              "      <td>33</td>\n",
              "      <td>49</td>\n",
              "      <td>0</td>\n",
              "      <td>15360</td>\n",
              "      <td>312</td>\n",
              "      <td>126</td>\n",
              "      <td>31</td>\n",
              "      <td>74</td>\n",
              "      <td>12</td>\n",
              "      <td>1</td>\n",
              "      <td>...</td>\n",
              "      <td>29.200001</td>\n",
              "      <td>27.600000</td>\n",
              "      <td>25.100000</td>\n",
              "      <td>22.600000</td>\n",
              "      <td>12.0</td>\n",
              "      <td>12.8</td>\n",
              "      <td>14.2</td>\n",
              "      <td>14.7</td>\n",
              "      <td>15.7</td>\n",
              "      <td>17.299999</td>\n",
              "      <td>18.799999</td>\n",
              "      <td>19.900000</td>\n",
              "      <td>19.400000</td>\n",
              "      <td>17.799999</td>\n",
              "      <td>15.3</td>\n",
              "      <td>12.8</td>\n",
              "      <td>1.18</td>\n",
              "      <td>1.32</td>\n",
              "      <td>1.42</td>\n",
              "      <td>1.50</td>\n",
              "      <td>1.62</td>\n",
              "      <td>1.84</td>\n",
              "      <td>2.03</td>\n",
              "      <td>2.10</td>\n",
              "      <td>2.09</td>\n",
              "      <td>1.95</td>\n",
              "      <td>1.60</td>\n",
              "      <td>1.39</td>\n",
              "      <td>4.2</td>\n",
              "      <td>4.1</td>\n",
              "      <td>4.8</td>\n",
              "      <td>5.6</td>\n",
              "      <td>5.7</td>\n",
              "      <td>6.4</td>\n",
              "      <td>5.9</td>\n",
              "      <td>5.9</td>\n",
              "      <td>5.7</td>\n",
              "      <td>4.3</td>\n",
              "      <td>3.7</td>\n",
              "      <td>3.8</td>\n",
              "    </tr>\n",
              "    <tr>\n",
              "      <th>1</th>\n",
              "      <td>-13.188370</td>\n",
              "      <td>27.132950</td>\n",
              "      <td>1</td>\n",
              "      <td>0.000214</td>\n",
              "      <td>0.000000</td>\n",
              "      <td>0.063449</td>\n",
              "      <td>0.034352</td>\n",
              "      <td>0.040295</td>\n",
              "      <td>0</td>\n",
              "      <td>100</td>\n",
              "      <td>0</td>\n",
              "      <td>0</td>\n",
              "      <td>0</td>\n",
              "      <td>0</td>\n",
              "      <td>0</td>\n",
              "      <td>0</td>\n",
              "      <td>0</td>\n",
              "      <td>0</td>\n",
              "      <td>0</td>\n",
              "      <td>4010</td>\n",
              "      <td>660</td>\n",
              "      <td>10</td>\n",
              "      <td>50</td>\n",
              "      <td>73</td>\n",
              "      <td>0</td>\n",
              "      <td>0</td>\n",
              "      <td>73</td>\n",
              "      <td>3350</td>\n",
              "      <td>4660</td>\n",
              "      <td>581</td>\n",
              "      <td>33</td>\n",
              "      <td>49</td>\n",
              "      <td>0</td>\n",
              "      <td>15360</td>\n",
              "      <td>312</td>\n",
              "      <td>126</td>\n",
              "      <td>31</td>\n",
              "      <td>74</td>\n",
              "      <td>12</td>\n",
              "      <td>1</td>\n",
              "      <td>...</td>\n",
              "      <td>29.200001</td>\n",
              "      <td>27.600000</td>\n",
              "      <td>25.100000</td>\n",
              "      <td>22.600000</td>\n",
              "      <td>12.0</td>\n",
              "      <td>12.8</td>\n",
              "      <td>14.2</td>\n",
              "      <td>14.7</td>\n",
              "      <td>15.7</td>\n",
              "      <td>17.299999</td>\n",
              "      <td>18.799999</td>\n",
              "      <td>19.900000</td>\n",
              "      <td>19.400000</td>\n",
              "      <td>17.799999</td>\n",
              "      <td>15.3</td>\n",
              "      <td>12.8</td>\n",
              "      <td>1.18</td>\n",
              "      <td>1.32</td>\n",
              "      <td>1.42</td>\n",
              "      <td>1.50</td>\n",
              "      <td>1.62</td>\n",
              "      <td>1.84</td>\n",
              "      <td>2.03</td>\n",
              "      <td>2.10</td>\n",
              "      <td>2.09</td>\n",
              "      <td>1.95</td>\n",
              "      <td>1.60</td>\n",
              "      <td>1.39</td>\n",
              "      <td>4.2</td>\n",
              "      <td>4.1</td>\n",
              "      <td>4.8</td>\n",
              "      <td>5.6</td>\n",
              "      <td>5.7</td>\n",
              "      <td>6.4</td>\n",
              "      <td>5.9</td>\n",
              "      <td>5.9</td>\n",
              "      <td>5.7</td>\n",
              "      <td>4.3</td>\n",
              "      <td>3.7</td>\n",
              "      <td>3.8</td>\n",
              "    </tr>\n",
              "    <tr>\n",
              "      <th>2</th>\n",
              "      <td>-13.185620</td>\n",
              "      <td>27.157940</td>\n",
              "      <td>0</td>\n",
              "      <td>0.000000</td>\n",
              "      <td>0.000000</td>\n",
              "      <td>0.000000</td>\n",
              "      <td>0.000000</td>\n",
              "      <td>0.269410</td>\n",
              "      <td>0</td>\n",
              "      <td>100</td>\n",
              "      <td>0</td>\n",
              "      <td>0</td>\n",
              "      <td>0</td>\n",
              "      <td>0</td>\n",
              "      <td>0</td>\n",
              "      <td>0</td>\n",
              "      <td>0</td>\n",
              "      <td>0</td>\n",
              "      <td>0</td>\n",
              "      <td>3580</td>\n",
              "      <td>590</td>\n",
              "      <td>40</td>\n",
              "      <td>50</td>\n",
              "      <td>48</td>\n",
              "      <td>0</td>\n",
              "      <td>0</td>\n",
              "      <td>48</td>\n",
              "      <td>2930</td>\n",
              "      <td>4140</td>\n",
              "      <td>600</td>\n",
              "      <td>214</td>\n",
              "      <td>106</td>\n",
              "      <td>0</td>\n",
              "      <td>15264</td>\n",
              "      <td>306</td>\n",
              "      <td>120</td>\n",
              "      <td>23</td>\n",
              "      <td>74</td>\n",
              "      <td>11</td>\n",
              "      <td>0</td>\n",
              "      <td>...</td>\n",
              "      <td>29.200001</td>\n",
              "      <td>27.600000</td>\n",
              "      <td>25.100000</td>\n",
              "      <td>22.700001</td>\n",
              "      <td>12.3</td>\n",
              "      <td>13.1</td>\n",
              "      <td>14.4</td>\n",
              "      <td>15.0</td>\n",
              "      <td>16.0</td>\n",
              "      <td>17.600000</td>\n",
              "      <td>19.000000</td>\n",
              "      <td>20.200001</td>\n",
              "      <td>19.600000</td>\n",
              "      <td>18.100000</td>\n",
              "      <td>15.5</td>\n",
              "      <td>13.1</td>\n",
              "      <td>1.19</td>\n",
              "      <td>1.33</td>\n",
              "      <td>1.43</td>\n",
              "      <td>1.52</td>\n",
              "      <td>1.64</td>\n",
              "      <td>1.86</td>\n",
              "      <td>2.04</td>\n",
              "      <td>2.12</td>\n",
              "      <td>2.10</td>\n",
              "      <td>1.97</td>\n",
              "      <td>1.61</td>\n",
              "      <td>1.40</td>\n",
              "      <td>4.2</td>\n",
              "      <td>4.5</td>\n",
              "      <td>5.1</td>\n",
              "      <td>5.6</td>\n",
              "      <td>5.5</td>\n",
              "      <td>6.2</td>\n",
              "      <td>6.2</td>\n",
              "      <td>6.2</td>\n",
              "      <td>5.7</td>\n",
              "      <td>4.1</td>\n",
              "      <td>3.7</td>\n",
              "      <td>3.9</td>\n",
              "    </tr>\n",
              "    <tr>\n",
              "      <th>3</th>\n",
              "      <td>-13.201560</td>\n",
              "      <td>27.165070</td>\n",
              "      <td>0</td>\n",
              "      <td>0.000000</td>\n",
              "      <td>0.000000</td>\n",
              "      <td>0.000000</td>\n",
              "      <td>0.000000</td>\n",
              "      <td>0.299265</td>\n",
              "      <td>0</td>\n",
              "      <td>74</td>\n",
              "      <td>0</td>\n",
              "      <td>0</td>\n",
              "      <td>0</td>\n",
              "      <td>0</td>\n",
              "      <td>0</td>\n",
              "      <td>0</td>\n",
              "      <td>0</td>\n",
              "      <td>0</td>\n",
              "      <td>26</td>\n",
              "      <td>2490</td>\n",
              "      <td>520</td>\n",
              "      <td>50</td>\n",
              "      <td>30</td>\n",
              "      <td>44</td>\n",
              "      <td>0</td>\n",
              "      <td>0</td>\n",
              "      <td>44</td>\n",
              "      <td>1920</td>\n",
              "      <td>3010</td>\n",
              "      <td>612</td>\n",
              "      <td>202</td>\n",
              "      <td>202</td>\n",
              "      <td>0</td>\n",
              "      <td>15266</td>\n",
              "      <td>299</td>\n",
              "      <td>121</td>\n",
              "      <td>23</td>\n",
              "      <td>73</td>\n",
              "      <td>12</td>\n",
              "      <td>0</td>\n",
              "      <td>...</td>\n",
              "      <td>29.400000</td>\n",
              "      <td>27.799999</td>\n",
              "      <td>25.299999</td>\n",
              "      <td>22.900000</td>\n",
              "      <td>12.2</td>\n",
              "      <td>13.0</td>\n",
              "      <td>14.3</td>\n",
              "      <td>14.9</td>\n",
              "      <td>15.8</td>\n",
              "      <td>17.400000</td>\n",
              "      <td>18.900000</td>\n",
              "      <td>20.000000</td>\n",
              "      <td>19.500000</td>\n",
              "      <td>18.000000</td>\n",
              "      <td>15.4</td>\n",
              "      <td>13.0</td>\n",
              "      <td>1.20</td>\n",
              "      <td>1.34</td>\n",
              "      <td>1.44</td>\n",
              "      <td>1.53</td>\n",
              "      <td>1.65</td>\n",
              "      <td>1.87</td>\n",
              "      <td>2.06</td>\n",
              "      <td>2.14</td>\n",
              "      <td>2.12</td>\n",
              "      <td>1.98</td>\n",
              "      <td>1.63</td>\n",
              "      <td>1.41</td>\n",
              "      <td>4.3</td>\n",
              "      <td>4.5</td>\n",
              "      <td>5.1</td>\n",
              "      <td>5.6</td>\n",
              "      <td>5.8</td>\n",
              "      <td>6.2</td>\n",
              "      <td>6.6</td>\n",
              "      <td>6.3</td>\n",
              "      <td>5.7</td>\n",
              "      <td>4.6</td>\n",
              "      <td>3.8</td>\n",
              "      <td>3.9</td>\n",
              "    </tr>\n",
              "    <tr>\n",
              "      <th>4</th>\n",
              "      <td>-13.207000</td>\n",
              "      <td>27.165000</td>\n",
              "      <td>0</td>\n",
              "      <td>0.000000</td>\n",
              "      <td>0.000000</td>\n",
              "      <td>0.000000</td>\n",
              "      <td>0.000000</td>\n",
              "      <td>0.299265</td>\n",
              "      <td>0</td>\n",
              "      <td>74</td>\n",
              "      <td>0</td>\n",
              "      <td>0</td>\n",
              "      <td>0</td>\n",
              "      <td>0</td>\n",
              "      <td>0</td>\n",
              "      <td>0</td>\n",
              "      <td>0</td>\n",
              "      <td>0</td>\n",
              "      <td>26</td>\n",
              "      <td>2490</td>\n",
              "      <td>520</td>\n",
              "      <td>50</td>\n",
              "      <td>30</td>\n",
              "      <td>44</td>\n",
              "      <td>0</td>\n",
              "      <td>0</td>\n",
              "      <td>44</td>\n",
              "      <td>1920</td>\n",
              "      <td>3010</td>\n",
              "      <td>612</td>\n",
              "      <td>202</td>\n",
              "      <td>202</td>\n",
              "      <td>0</td>\n",
              "      <td>15266</td>\n",
              "      <td>299</td>\n",
              "      <td>121</td>\n",
              "      <td>23</td>\n",
              "      <td>73</td>\n",
              "      <td>12</td>\n",
              "      <td>0</td>\n",
              "      <td>...</td>\n",
              "      <td>29.400000</td>\n",
              "      <td>27.799999</td>\n",
              "      <td>25.299999</td>\n",
              "      <td>22.900000</td>\n",
              "      <td>12.2</td>\n",
              "      <td>13.0</td>\n",
              "      <td>14.3</td>\n",
              "      <td>14.9</td>\n",
              "      <td>15.8</td>\n",
              "      <td>17.400000</td>\n",
              "      <td>18.900000</td>\n",
              "      <td>20.000000</td>\n",
              "      <td>19.500000</td>\n",
              "      <td>18.000000</td>\n",
              "      <td>15.4</td>\n",
              "      <td>13.0</td>\n",
              "      <td>1.20</td>\n",
              "      <td>1.34</td>\n",
              "      <td>1.44</td>\n",
              "      <td>1.53</td>\n",
              "      <td>1.65</td>\n",
              "      <td>1.87</td>\n",
              "      <td>2.06</td>\n",
              "      <td>2.14</td>\n",
              "      <td>2.12</td>\n",
              "      <td>1.98</td>\n",
              "      <td>1.63</td>\n",
              "      <td>1.41</td>\n",
              "      <td>4.3</td>\n",
              "      <td>4.5</td>\n",
              "      <td>5.1</td>\n",
              "      <td>5.6</td>\n",
              "      <td>5.8</td>\n",
              "      <td>6.2</td>\n",
              "      <td>6.6</td>\n",
              "      <td>6.3</td>\n",
              "      <td>5.7</td>\n",
              "      <td>4.6</td>\n",
              "      <td>3.8</td>\n",
              "      <td>3.9</td>\n",
              "    </tr>\n",
              "    <tr>\n",
              "      <th>...</th>\n",
              "      <td>...</td>\n",
              "      <td>...</td>\n",
              "      <td>...</td>\n",
              "      <td>...</td>\n",
              "      <td>...</td>\n",
              "      <td>...</td>\n",
              "      <td>...</td>\n",
              "      <td>...</td>\n",
              "      <td>...</td>\n",
              "      <td>...</td>\n",
              "      <td>...</td>\n",
              "      <td>...</td>\n",
              "      <td>...</td>\n",
              "      <td>...</td>\n",
              "      <td>...</td>\n",
              "      <td>...</td>\n",
              "      <td>...</td>\n",
              "      <td>...</td>\n",
              "      <td>...</td>\n",
              "      <td>...</td>\n",
              "      <td>...</td>\n",
              "      <td>...</td>\n",
              "      <td>...</td>\n",
              "      <td>...</td>\n",
              "      <td>...</td>\n",
              "      <td>...</td>\n",
              "      <td>...</td>\n",
              "      <td>...</td>\n",
              "      <td>...</td>\n",
              "      <td>...</td>\n",
              "      <td>...</td>\n",
              "      <td>...</td>\n",
              "      <td>...</td>\n",
              "      <td>...</td>\n",
              "      <td>...</td>\n",
              "      <td>...</td>\n",
              "      <td>...</td>\n",
              "      <td>...</td>\n",
              "      <td>...</td>\n",
              "      <td>...</td>\n",
              "      <td>...</td>\n",
              "      <td>...</td>\n",
              "      <td>...</td>\n",
              "      <td>...</td>\n",
              "      <td>...</td>\n",
              "      <td>...</td>\n",
              "      <td>...</td>\n",
              "      <td>...</td>\n",
              "      <td>...</td>\n",
              "      <td>...</td>\n",
              "      <td>...</td>\n",
              "      <td>...</td>\n",
              "      <td>...</td>\n",
              "      <td>...</td>\n",
              "      <td>...</td>\n",
              "      <td>...</td>\n",
              "      <td>...</td>\n",
              "      <td>...</td>\n",
              "      <td>...</td>\n",
              "      <td>...</td>\n",
              "      <td>...</td>\n",
              "      <td>...</td>\n",
              "      <td>...</td>\n",
              "      <td>...</td>\n",
              "      <td>...</td>\n",
              "      <td>...</td>\n",
              "      <td>...</td>\n",
              "      <td>...</td>\n",
              "      <td>...</td>\n",
              "      <td>...</td>\n",
              "      <td>...</td>\n",
              "      <td>...</td>\n",
              "      <td>...</td>\n",
              "      <td>...</td>\n",
              "      <td>...</td>\n",
              "      <td>...</td>\n",
              "      <td>...</td>\n",
              "      <td>...</td>\n",
              "      <td>...</td>\n",
              "      <td>...</td>\n",
              "      <td>...</td>\n",
              "    </tr>\n",
              "    <tr>\n",
              "      <th>198</th>\n",
              "      <td>-5.071290</td>\n",
              "      <td>35.307710</td>\n",
              "      <td>1</td>\n",
              "      <td>3.588955</td>\n",
              "      <td>161.931808</td>\n",
              "      <td>19.917032</td>\n",
              "      <td>7.432297</td>\n",
              "      <td>0.552120</td>\n",
              "      <td>0</td>\n",
              "      <td>0</td>\n",
              "      <td>0</td>\n",
              "      <td>45</td>\n",
              "      <td>0</td>\n",
              "      <td>0</td>\n",
              "      <td>0</td>\n",
              "      <td>5</td>\n",
              "      <td>49</td>\n",
              "      <td>0</td>\n",
              "      <td>0</td>\n",
              "      <td>1560</td>\n",
              "      <td>500</td>\n",
              "      <td>130</td>\n",
              "      <td>20</td>\n",
              "      <td>79</td>\n",
              "      <td>5</td>\n",
              "      <td>0</td>\n",
              "      <td>84</td>\n",
              "      <td>1190</td>\n",
              "      <td>2160</td>\n",
              "      <td>735</td>\n",
              "      <td>127</td>\n",
              "      <td>157</td>\n",
              "      <td>0</td>\n",
              "      <td>14845</td>\n",
              "      <td>613</td>\n",
              "      <td>103</td>\n",
              "      <td>8</td>\n",
              "      <td>92</td>\n",
              "      <td>3</td>\n",
              "      <td>0</td>\n",
              "      <td>...</td>\n",
              "      <td>24.400000</td>\n",
              "      <td>20.200001</td>\n",
              "      <td>16.900000</td>\n",
              "      <td>13.600000</td>\n",
              "      <td>3.5</td>\n",
              "      <td>4.2</td>\n",
              "      <td>6.3</td>\n",
              "      <td>8.8</td>\n",
              "      <td>11.0</td>\n",
              "      <td>15.000000</td>\n",
              "      <td>19.100000</td>\n",
              "      <td>19.000000</td>\n",
              "      <td>16.100000</td>\n",
              "      <td>11.900000</td>\n",
              "      <td>8.6</td>\n",
              "      <td>5.2</td>\n",
              "      <td>0.87</td>\n",
              "      <td>0.92</td>\n",
              "      <td>0.96</td>\n",
              "      <td>1.04</td>\n",
              "      <td>1.18</td>\n",
              "      <td>1.38</td>\n",
              "      <td>1.53</td>\n",
              "      <td>1.61</td>\n",
              "      <td>1.51</td>\n",
              "      <td>1.30</td>\n",
              "      <td>1.08</td>\n",
              "      <td>0.97</td>\n",
              "      <td>3.8</td>\n",
              "      <td>4.2</td>\n",
              "      <td>5.2</td>\n",
              "      <td>4.8</td>\n",
              "      <td>4.3</td>\n",
              "      <td>4.0</td>\n",
              "      <td>3.7</td>\n",
              "      <td>3.8</td>\n",
              "      <td>4.1</td>\n",
              "      <td>4.2</td>\n",
              "      <td>3.8</td>\n",
              "      <td>3.8</td>\n",
              "    </tr>\n",
              "    <tr>\n",
              "      <th>199</th>\n",
              "      <td>-5.533333</td>\n",
              "      <td>35.550000</td>\n",
              "      <td>1</td>\n",
              "      <td>7.208185</td>\n",
              "      <td>162.869507</td>\n",
              "      <td>3.685802</td>\n",
              "      <td>18.440529</td>\n",
              "      <td>0.890540</td>\n",
              "      <td>0</td>\n",
              "      <td>0</td>\n",
              "      <td>0</td>\n",
              "      <td>0</td>\n",
              "      <td>0</td>\n",
              "      <td>9</td>\n",
              "      <td>8</td>\n",
              "      <td>0</td>\n",
              "      <td>82</td>\n",
              "      <td>0</td>\n",
              "      <td>0</td>\n",
              "      <td>1590</td>\n",
              "      <td>690</td>\n",
              "      <td>150</td>\n",
              "      <td>60</td>\n",
              "      <td>84</td>\n",
              "      <td>4</td>\n",
              "      <td>1</td>\n",
              "      <td>89</td>\n",
              "      <td>950</td>\n",
              "      <td>2410</td>\n",
              "      <td>715</td>\n",
              "      <td>155</td>\n",
              "      <td>205</td>\n",
              "      <td>0</td>\n",
              "      <td>14917</td>\n",
              "      <td>561</td>\n",
              "      <td>86</td>\n",
              "      <td>8</td>\n",
              "      <td>93</td>\n",
              "      <td>2</td>\n",
              "      <td>0</td>\n",
              "      <td>...</td>\n",
              "      <td>26.400000</td>\n",
              "      <td>22.799999</td>\n",
              "      <td>19.600000</td>\n",
              "      <td>16.400000</td>\n",
              "      <td>7.2</td>\n",
              "      <td>7.9</td>\n",
              "      <td>9.9</td>\n",
              "      <td>11.6</td>\n",
              "      <td>13.8</td>\n",
              "      <td>17.400000</td>\n",
              "      <td>20.600000</td>\n",
              "      <td>20.900000</td>\n",
              "      <td>18.900000</td>\n",
              "      <td>15.300000</td>\n",
              "      <td>12.1</td>\n",
              "      <td>8.9</td>\n",
              "      <td>1.03</td>\n",
              "      <td>1.08</td>\n",
              "      <td>1.14</td>\n",
              "      <td>1.21</td>\n",
              "      <td>1.40</td>\n",
              "      <td>1.67</td>\n",
              "      <td>1.85</td>\n",
              "      <td>1.92</td>\n",
              "      <td>1.81</td>\n",
              "      <td>1.55</td>\n",
              "      <td>1.27</td>\n",
              "      <td>1.13</td>\n",
              "      <td>2.8</td>\n",
              "      <td>3.0</td>\n",
              "      <td>3.8</td>\n",
              "      <td>3.6</td>\n",
              "      <td>3.5</td>\n",
              "      <td>3.3</td>\n",
              "      <td>3.2</td>\n",
              "      <td>3.1</td>\n",
              "      <td>3.0</td>\n",
              "      <td>2.9</td>\n",
              "      <td>2.7</td>\n",
              "      <td>3.3</td>\n",
              "    </tr>\n",
              "    <tr>\n",
              "      <th>200</th>\n",
              "      <td>-5.325286</td>\n",
              "      <td>35.685852</td>\n",
              "      <td>1</td>\n",
              "      <td>7.352805</td>\n",
              "      <td>115.615433</td>\n",
              "      <td>7.495493</td>\n",
              "      <td>18.920124</td>\n",
              "      <td>0.577831</td>\n",
              "      <td>0</td>\n",
              "      <td>21</td>\n",
              "      <td>1</td>\n",
              "      <td>25</td>\n",
              "      <td>0</td>\n",
              "      <td>0</td>\n",
              "      <td>0</td>\n",
              "      <td>0</td>\n",
              "      <td>25</td>\n",
              "      <td>0</td>\n",
              "      <td>28</td>\n",
              "      <td>1940</td>\n",
              "      <td>730</td>\n",
              "      <td>50</td>\n",
              "      <td>20</td>\n",
              "      <td>87</td>\n",
              "      <td>0</td>\n",
              "      <td>0</td>\n",
              "      <td>87</td>\n",
              "      <td>1290</td>\n",
              "      <td>2690</td>\n",
              "      <td>625</td>\n",
              "      <td>45</td>\n",
              "      <td>50</td>\n",
              "      <td>0</td>\n",
              "      <td>14891</td>\n",
              "      <td>543</td>\n",
              "      <td>68</td>\n",
              "      <td>7</td>\n",
              "      <td>92</td>\n",
              "      <td>1</td>\n",
              "      <td>0</td>\n",
              "      <td>...</td>\n",
              "      <td>25.700001</td>\n",
              "      <td>22.400000</td>\n",
              "      <td>19.100000</td>\n",
              "      <td>16.400000</td>\n",
              "      <td>9.7</td>\n",
              "      <td>10.5</td>\n",
              "      <td>12.0</td>\n",
              "      <td>13.5</td>\n",
              "      <td>15.8</td>\n",
              "      <td>18.600000</td>\n",
              "      <td>21.500000</td>\n",
              "      <td>22.000000</td>\n",
              "      <td>20.200001</td>\n",
              "      <td>16.900000</td>\n",
              "      <td>13.6</td>\n",
              "      <td>10.9</td>\n",
              "      <td>1.12</td>\n",
              "      <td>1.17</td>\n",
              "      <td>1.24</td>\n",
              "      <td>1.32</td>\n",
              "      <td>1.53</td>\n",
              "      <td>1.81</td>\n",
              "      <td>2.05</td>\n",
              "      <td>2.16</td>\n",
              "      <td>2.01</td>\n",
              "      <td>1.71</td>\n",
              "      <td>1.39</td>\n",
              "      <td>1.22</td>\n",
              "      <td>4.0</td>\n",
              "      <td>4.6</td>\n",
              "      <td>4.5</td>\n",
              "      <td>4.2</td>\n",
              "      <td>4.2</td>\n",
              "      <td>4.1</td>\n",
              "      <td>4.0</td>\n",
              "      <td>4.1</td>\n",
              "      <td>4.0</td>\n",
              "      <td>4.0</td>\n",
              "      <td>3.9</td>\n",
              "      <td>4.3</td>\n",
              "    </tr>\n",
              "    <tr>\n",
              "      <th>201</th>\n",
              "      <td>-5.366667</td>\n",
              "      <td>35.766667</td>\n",
              "      <td>1</td>\n",
              "      <td>8.495770</td>\n",
              "      <td>105.550156</td>\n",
              "      <td>8.691405</td>\n",
              "      <td>15.116930</td>\n",
              "      <td>0.698221</td>\n",
              "      <td>0</td>\n",
              "      <td>0</td>\n",
              "      <td>0</td>\n",
              "      <td>0</td>\n",
              "      <td>18</td>\n",
              "      <td>30</td>\n",
              "      <td>13</td>\n",
              "      <td>0</td>\n",
              "      <td>39</td>\n",
              "      <td>0</td>\n",
              "      <td>0</td>\n",
              "      <td>1390</td>\n",
              "      <td>510</td>\n",
              "      <td>70</td>\n",
              "      <td>20</td>\n",
              "      <td>78</td>\n",
              "      <td>2</td>\n",
              "      <td>0</td>\n",
              "      <td>80</td>\n",
              "      <td>880</td>\n",
              "      <td>1950</td>\n",
              "      <td>647</td>\n",
              "      <td>153</td>\n",
              "      <td>241</td>\n",
              "      <td>0</td>\n",
              "      <td>14903</td>\n",
              "      <td>543</td>\n",
              "      <td>78</td>\n",
              "      <td>5</td>\n",
              "      <td>92</td>\n",
              "      <td>2</td>\n",
              "      <td>0</td>\n",
              "      <td>...</td>\n",
              "      <td>25.700001</td>\n",
              "      <td>22.100000</td>\n",
              "      <td>18.700001</td>\n",
              "      <td>16.500000</td>\n",
              "      <td>9.4</td>\n",
              "      <td>9.6</td>\n",
              "      <td>11.5</td>\n",
              "      <td>13.1</td>\n",
              "      <td>15.4</td>\n",
              "      <td>18.500000</td>\n",
              "      <td>21.200001</td>\n",
              "      <td>21.700001</td>\n",
              "      <td>19.700001</td>\n",
              "      <td>16.100000</td>\n",
              "      <td>12.8</td>\n",
              "      <td>10.5</td>\n",
              "      <td>1.09</td>\n",
              "      <td>1.14</td>\n",
              "      <td>1.20</td>\n",
              "      <td>1.27</td>\n",
              "      <td>1.47</td>\n",
              "      <td>1.74</td>\n",
              "      <td>1.96</td>\n",
              "      <td>2.07</td>\n",
              "      <td>1.93</td>\n",
              "      <td>1.65</td>\n",
              "      <td>1.35</td>\n",
              "      <td>1.19</td>\n",
              "      <td>4.1</td>\n",
              "      <td>4.6</td>\n",
              "      <td>4.6</td>\n",
              "      <td>4.3</td>\n",
              "      <td>4.1</td>\n",
              "      <td>3.9</td>\n",
              "      <td>3.9</td>\n",
              "      <td>4.1</td>\n",
              "      <td>4.0</td>\n",
              "      <td>4.0</td>\n",
              "      <td>4.0</td>\n",
              "      <td>4.2</td>\n",
              "    </tr>\n",
              "    <tr>\n",
              "      <th>202</th>\n",
              "      <td>-5.558611</td>\n",
              "      <td>35.841944</td>\n",
              "      <td>1</td>\n",
              "      <td>5.696193</td>\n",
              "      <td>5.641273</td>\n",
              "      <td>0.602672</td>\n",
              "      <td>4.306276</td>\n",
              "      <td>0.000000</td>\n",
              "      <td>0</td>\n",
              "      <td>0</td>\n",
              "      <td>58</td>\n",
              "      <td>0</td>\n",
              "      <td>0</td>\n",
              "      <td>0</td>\n",
              "      <td>14</td>\n",
              "      <td>12</td>\n",
              "      <td>6</td>\n",
              "      <td>11</td>\n",
              "      <td>0</td>\n",
              "      <td>1070</td>\n",
              "      <td>410</td>\n",
              "      <td>100</td>\n",
              "      <td>10</td>\n",
              "      <td>67</td>\n",
              "      <td>4</td>\n",
              "      <td>0</td>\n",
              "      <td>71</td>\n",
              "      <td>620</td>\n",
              "      <td>1530</td>\n",
              "      <td>660</td>\n",
              "      <td>193</td>\n",
              "      <td>247</td>\n",
              "      <td>0</td>\n",
              "      <td>0</td>\n",
              "      <td>0</td>\n",
              "      <td>0</td>\n",
              "      <td>0</td>\n",
              "      <td>0</td>\n",
              "      <td>0</td>\n",
              "      <td>0</td>\n",
              "      <td>...</td>\n",
              "      <td>25.500000</td>\n",
              "      <td>22.299999</td>\n",
              "      <td>19.200001</td>\n",
              "      <td>16.799999</td>\n",
              "      <td>8.5</td>\n",
              "      <td>8.9</td>\n",
              "      <td>10.3</td>\n",
              "      <td>11.7</td>\n",
              "      <td>13.6</td>\n",
              "      <td>16.700001</td>\n",
              "      <td>20.400000</td>\n",
              "      <td>20.799999</td>\n",
              "      <td>19.500000</td>\n",
              "      <td>16.299999</td>\n",
              "      <td>13.3</td>\n",
              "      <td>10.8</td>\n",
              "      <td>1.12</td>\n",
              "      <td>1.17</td>\n",
              "      <td>1.23</td>\n",
              "      <td>1.31</td>\n",
              "      <td>1.52</td>\n",
              "      <td>1.79</td>\n",
              "      <td>2.03</td>\n",
              "      <td>2.12</td>\n",
              "      <td>1.98</td>\n",
              "      <td>1.67</td>\n",
              "      <td>1.39</td>\n",
              "      <td>1.22</td>\n",
              "      <td>3.9</td>\n",
              "      <td>3.9</td>\n",
              "      <td>4.6</td>\n",
              "      <td>4.0</td>\n",
              "      <td>3.8</td>\n",
              "      <td>4.1</td>\n",
              "      <td>3.7</td>\n",
              "      <td>3.4</td>\n",
              "      <td>3.6</td>\n",
              "      <td>3.6</td>\n",
              "      <td>3.4</td>\n",
              "      <td>3.6</td>\n",
              "    </tr>\n",
              "  </tbody>\n",
              "</table>\n",
              "<p>203 rows × 226 columns</p>\n",
              "</div>\n",
              "      <button class=\"colab-df-convert\" onclick=\"convertToInteractive('df-08540693-645b-469c-a05d-510f5439cb30')\"\n",
              "              title=\"Convert this dataframe to an interactive table.\"\n",
              "              style=\"display:none;\">\n",
              "        \n",
              "  <svg xmlns=\"http://www.w3.org/2000/svg\" height=\"24px\"viewBox=\"0 0 24 24\"\n",
              "       width=\"24px\">\n",
              "    <path d=\"M0 0h24v24H0V0z\" fill=\"none\"/>\n",
              "    <path d=\"M18.56 5.44l.94 2.06.94-2.06 2.06-.94-2.06-.94-.94-2.06-.94 2.06-2.06.94zm-11 1L8.5 8.5l.94-2.06 2.06-.94-2.06-.94L8.5 2.5l-.94 2.06-2.06.94zm10 10l.94 2.06.94-2.06 2.06-.94-2.06-.94-.94-2.06-.94 2.06-2.06.94z\"/><path d=\"M17.41 7.96l-1.37-1.37c-.4-.4-.92-.59-1.43-.59-.52 0-1.04.2-1.43.59L10.3 9.45l-7.72 7.72c-.78.78-.78 2.05 0 2.83L4 21.41c.39.39.9.59 1.41.59.51 0 1.02-.2 1.41-.59l7.78-7.78 2.81-2.81c.8-.78.8-2.07 0-2.86zM5.41 20L4 18.59l7.72-7.72 1.47 1.35L5.41 20z\"/>\n",
              "  </svg>\n",
              "      </button>\n",
              "      \n",
              "  <style>\n",
              "    .colab-df-container {\n",
              "      display:flex;\n",
              "      flex-wrap:wrap;\n",
              "      gap: 12px;\n",
              "    }\n",
              "\n",
              "    .colab-df-convert {\n",
              "      background-color: #E8F0FE;\n",
              "      border: none;\n",
              "      border-radius: 50%;\n",
              "      cursor: pointer;\n",
              "      display: none;\n",
              "      fill: #1967D2;\n",
              "      height: 32px;\n",
              "      padding: 0 0 0 0;\n",
              "      width: 32px;\n",
              "    }\n",
              "\n",
              "    .colab-df-convert:hover {\n",
              "      background-color: #E2EBFA;\n",
              "      box-shadow: 0px 1px 2px rgba(60, 64, 67, 0.3), 0px 1px 3px 1px rgba(60, 64, 67, 0.15);\n",
              "      fill: #174EA6;\n",
              "    }\n",
              "\n",
              "    [theme=dark] .colab-df-convert {\n",
              "      background-color: #3B4455;\n",
              "      fill: #D2E3FC;\n",
              "    }\n",
              "\n",
              "    [theme=dark] .colab-df-convert:hover {\n",
              "      background-color: #434B5C;\n",
              "      box-shadow: 0px 1px 3px 1px rgba(0, 0, 0, 0.15);\n",
              "      filter: drop-shadow(0px 1px 2px rgba(0, 0, 0, 0.3));\n",
              "      fill: #FFFFFF;\n",
              "    }\n",
              "  </style>\n",
              "\n",
              "      <script>\n",
              "        const buttonEl =\n",
              "          document.querySelector('#df-08540693-645b-469c-a05d-510f5439cb30 button.colab-df-convert');\n",
              "        buttonEl.style.display =\n",
              "          google.colab.kernel.accessAllowed ? 'block' : 'none';\n",
              "\n",
              "        async function convertToInteractive(key) {\n",
              "          const element = document.querySelector('#df-08540693-645b-469c-a05d-510f5439cb30');\n",
              "          const dataTable =\n",
              "            await google.colab.kernel.invokeFunction('convertToInteractive',\n",
              "                                                     [key], {});\n",
              "          if (!dataTable) return;\n",
              "\n",
              "          const docLinkHtml = 'Like what you see? Visit the ' +\n",
              "            '<a target=\"_blank\" href=https://colab.research.google.com/notebooks/data_table.ipynb>data table notebook</a>'\n",
              "            + ' to learn more about interactive tables.';\n",
              "          element.innerHTML = '';\n",
              "          dataTable['output_type'] = 'display_data';\n",
              "          await google.colab.output.renderOutput(dataTable, element);\n",
              "          const docLink = document.createElement('div');\n",
              "          docLink.innerHTML = docLinkHtml;\n",
              "          element.appendChild(docLink);\n",
              "        }\n",
              "      </script>\n",
              "    </div>\n",
              "  </div>\n",
              "  "
            ],
            "text/plain": [
              "        X_long      Y_lat  Cs_longia  ...  Vent_Oct  Vent_Nov  Vent_Dec\n",
              "0   -13.188370  27.132950          1  ...       4.3       3.7       3.8\n",
              "1   -13.188370  27.132950          1  ...       4.3       3.7       3.8\n",
              "2   -13.185620  27.157940          0  ...       4.1       3.7       3.9\n",
              "3   -13.201560  27.165070          0  ...       4.6       3.8       3.9\n",
              "4   -13.207000  27.165000          0  ...       4.6       3.8       3.9\n",
              "..         ...        ...        ...  ...       ...       ...       ...\n",
              "198  -5.071290  35.307710          1  ...       4.2       3.8       3.8\n",
              "199  -5.533333  35.550000          1  ...       2.9       2.7       3.3\n",
              "200  -5.325286  35.685852          1  ...       4.0       3.9       4.3\n",
              "201  -5.366667  35.766667          1  ...       4.0       4.0       4.2\n",
              "202  -5.558611  35.841944          1  ...       3.6       3.4       3.6\n",
              "\n",
              "[203 rows x 226 columns]"
            ]
          },
          "metadata": {},
          "execution_count": 170
        }
      ],
      "source": [
        "del data1[\"Source\"] \n",
        "del data1[\"CodeSite\"] \n",
        "data1"
      ]
    },
    {
      "cell_type": "code",
      "source": [
        "data1[\"Cs_longia\"]"
      ],
      "metadata": {
        "colab": {
          "base_uri": "https://localhost:8080/"
        },
        "id": "dwvIdiHDHxV2",
        "outputId": "6c68c43a-c7da-4abe-d4cf-a5ada0cefffe"
      },
      "execution_count": 171,
      "outputs": [
        {
          "output_type": "execute_result",
          "data": {
            "text/plain": [
              "0      1\n",
              "1      1\n",
              "2      0\n",
              "3      0\n",
              "4      0\n",
              "      ..\n",
              "198    1\n",
              "199    1\n",
              "200    1\n",
              "201    1\n",
              "202    1\n",
              "Name: Cs_longia, Length: 203, dtype: int64"
            ]
          },
          "metadata": {},
          "execution_count": 171
        }
      ]
    },
    {
      "cell_type": "code",
      "execution_count": 172,
      "metadata": {
        "id": "PO5moxNZQD99"
      },
      "outputs": [],
      "source": [
        "A1 = data1.loc[:, data1.columns != 'Cs_longia']\n",
        "x1 = data1.Cs_longia"
      ]
    },
    {
      "cell_type": "code",
      "source": [
        "T1=A1.columns"
      ],
      "metadata": {
        "id": "VtxWo6_Sm6Ev"
      },
      "execution_count": 173,
      "outputs": []
    },
    {
      "cell_type": "code",
      "source": [
        "T1"
      ],
      "metadata": {
        "colab": {
          "base_uri": "https://localhost:8080/"
        },
        "id": "h5xMxDwZm8-0",
        "outputId": "c99af4cf-af71-40bb-c1f8-889771ea8459"
      },
      "execution_count": 174,
      "outputs": [
        {
          "output_type": "execute_result",
          "data": {
            "text/plain": [
              "Index(['X_long', 'Y_lat', 'Bovins', 'Volaille', 'Caprins', 'Ovins', 'Equides',\n",
              "       'Coniferes', 'ZoneAride', 'ZonePel',\n",
              "       ...\n",
              "       'Vent_Mars', 'Vent_Avril', 'Vent_Mai', 'Vent_Juin', 'Vent_Juill',\n",
              "       'Vent_Aout', 'Vent_Sept', 'Vent_Oct', 'Vent_Nov', 'Vent_Dec'],\n",
              "      dtype='object', length=225)"
            ]
          },
          "metadata": {},
          "execution_count": 174
        }
      ]
    },
    {
      "cell_type": "code",
      "source": [
        "lst1=[]"
      ],
      "metadata": {
        "id": "gv3nZHRDutUp"
      },
      "execution_count": 175,
      "outputs": []
    },
    {
      "cell_type": "code",
      "source": [
        "for variable in T1 :\n",
        "  y=A1[variable]\n",
        "  print(\"variable : \",variable,\"/corrélation:\",eta_squared(x1,y))\n",
        "  lst1.append([variable,eta_squared(x1,y)])"
      ],
      "metadata": {
        "colab": {
          "base_uri": "https://localhost:8080/"
        },
        "id": "NWnGDbBYs51X",
        "outputId": "49165ec5-111f-4ee4-c7bb-3dd207a6bdce"
      },
      "execution_count": 176,
      "outputs": [
        {
          "output_type": "stream",
          "name": "stdout",
          "text": [
            "variable :  X_long /corrélation: 0.023944058994534487\n",
            "variable :  Y_lat /corrélation: 0.035944271702778564\n",
            "variable :  Bovins /corrélation: 0.02204822089711176\n",
            "variable :  Volaille /corrélation: 0.0008687759827605919\n",
            "variable :  Caprins /corrélation: 0.019523126766361146\n",
            "variable :  Ovins /corrélation: 0.029713046902984583\n",
            "variable :  Equides /corrélation: 0.027012759787406304\n",
            "variable :  Coniferes /corrélation: 0.0006573961942511391\n",
            "variable :  ZoneAride /corrélation: 0.0549261421946064\n",
            "variable :  ZonePel /corrélation: 1.691727890138276e-05\n",
            "variable :  Lesfeuillus /corrélation: 0.007605065749125258\n",
            "variable :  Caduc /corrélation: 5.3108455154205965e-05\n",
            "variable :  Autres /corrélation: 0.0027079860712491233\n",
            "variable :  Arbrisseau /corrélation: 0.029442114850894638\n",
            "variable :  Pl_herb /corrélation: 0.017275262265974537\n",
            "variable :  VegCul /corrélation: 0.050212892691137136\n",
            "variable :  VegInond /corrélation: 0.0010018440211573122\n",
            "variable :  ZoneUrbaine /corrélation: 0.01536357045609081\n",
            "variable :  Moy_IRM /corrélation: 0.07328282895734205\n",
            "variable :  Amp1_IRM /corrélation: 0.02324109851472724\n",
            "variable :  Amp2_IRM /corrélation: 0.0035470241647200724\n",
            "variable :  Amp3_IRM /corrélation: 0.06095564509600847\n",
            "variable :  VarT_ann_IRM /corrélation: 0.001845692610170255\n",
            "variable :  VarT_bi_IRM /corrélation: 0.0009017950840033129\n",
            "variable :  VarT_tri_IRM /corrélation: 0.017087442138443015\n",
            "variable :  VarT_Cy_IRM /corrélation: 0.002096103766208842\n",
            "variable :  Min_IRM /corrélation: 0.09125724350897992\n",
            "variable :  Max_IRM /corrélation: 0.05231029255553578\n",
            "variable :  Ph1_IRM /corrélation: 0.03551889164010302\n",
            "variable :  Ph2_IRM /corrélation: 0.004206099471812261\n",
            "variable :  Ph3_IRM /corrélation: 0.029904216218726534\n",
            "variable :  Var_IRM /corrélation: 0.014564450802895536\n",
            "variable :  Moy_TempJ /corrélation: 0.00828110919746451\n",
            "variable :  Amp1_TempJ /corrélation: 0.0011512483481658394\n",
            "variable :  Amp2_TempJ /corrélation: 0.06243224835960865\n",
            "variable :  Amp3_TempJ /corrélation: 0.11111484248118793\n",
            "variable :  VarT_ann_TempJ /corrélation: 7.969517650218812e-05\n",
            "variable :  VarT_bi_TempJ /corrélation: 0.0282060151913711\n",
            "variable :  VarT_tri_TempJ /corrélation: 0.003290316232695287\n",
            "variable :  VarT_cy_TempJ /corrélation: 0.0018621139149600323\n",
            "variable :  Min_TempJ /corrélation: 0.008955507945120369\n",
            "variable :  Max_TempJ /corrélation: 0.007534697110812151\n",
            "variable :  Ph1_TempJ /corrélation: 0.005644345692471665\n",
            "variable :  Ph2_TempJ /corrélation: 1.8791889641836553e-06\n",
            "variable :  Ph3_TempJ /corrélation: 0.004559413918982819\n",
            "variable :  Var_TempJ /corrélation: 0.0033804803217214355\n",
            "variable :  Moy_TempN /corrélation: 0.0074893414359529994\n",
            "variable :  Amp1_TempN /corrélation: 0.0011199496028661939\n",
            "variable :  Amp2_TempN /corrélation: 0.049994393651040865\n",
            "variable :  Amp3_TempN /corrélation: 0.0006753887299302878\n",
            "variable :  VarT_ann_TempN /corrélation: 0.00018731227332690568\n",
            "variable :  VarT_bi_TempN /corrélation: 0.030592427969881632\n",
            "variable :  VarT_tri_TempN /corrélation: 0.009462684781958651\n",
            "variable :  VarT_cy_TempN /corrélation: 0.0001274009544332799\n",
            "variable :  Min_TempN /corrélation: 0.00799559237286004\n",
            "variable :  Max_TempN /corrélation: 0.007105578095946814\n",
            "variable :  Ph1_TempN /corrélation: 0.009613545008605588\n",
            "variable :  Ph2_TempN /corrélation: 0.0010133254889302867\n",
            "variable :  Ph3_TempN /corrélation: 0.0356805448694431\n",
            "variable :  Var_TempN /corrélation: 0.002216436924460378\n",
            "variable :  Moy_NDVI /corrélation: 0.04295555877573701\n",
            "variable :  Amp1_NDVI /corrélation: 0.06330677931642398\n",
            "variable :  Amp2_NDVI /corrélation: 0.0511577675720662\n",
            "variable :  Amp3_NDVI /corrélation: 0.048571441336308516\n",
            "variable :  VarT_ann_NDVI /corrélation: 0.0240517586316786\n",
            "variable :  VarT_bi_NDVI /corrélation: 0.004544336741242192\n",
            "variable :  VarT_tri_NDVI /corrélation: 0.009204044203955028\n",
            "variable :  VarT_cy_NDVI /corrélation: 0.031129492485205242\n",
            "variable :  Min_NDVI /corrélation: 0.021992301743501235\n",
            "variable :  Max_NDVI /corrélation: 0.06782324801487194\n",
            "variable :  Ph1_NDVI /corrélation: 0.0012427262314313287\n",
            "variable :  Ph2_NDVI /corrélation: 1.9900323546800296e-05\n",
            "variable :  Ph3_NDVI /corrélation: 0.00023410771074886279\n",
            "variable :  Var_NDVI /corrélation: 0.068473209664806\n",
            "variable :  Moy_EVI /corrélation: 0.04070715585704904\n",
            "variable :  Amp1_EVI /corrélation: 0.05011710932354418\n",
            "variable :  Amp2_EVI /corrélation: 0.04896458726849948\n",
            "variable :  Amp3_EVI /corrélation: 0.056087419596882834\n",
            "variable :  VarT_ann_EVI /corrélation: 0.021308796440190167\n",
            "variable :  VarT_bi_EVI /corrélation: 0.007951303729762866\n",
            "variable :  VarT_tri_EVI /corrélation: 0.014127064713636775\n",
            "variable :  VarT_cy_EVI /corrélation: 0.0254650026179783\n",
            "variable :  Min_EVI /corrélation: 0.01943238609922746\n",
            "variable :  Max_EVI /corrélation: 0.05747027070687533\n",
            "variable :  Ph1_EVI /corrélation: 0.0003348157123735875\n",
            "variable :  Ph2_EVI /corrélation: 0.003211171710328565\n",
            "variable :  Ph3_EVI /corrélation: 0.008771452104199771\n",
            "variable :  Var_EVI /corrélation: 0.04799371493057619\n",
            "variable :  Ret_eau /corrélation: 0.015058510657992373\n",
            "variable :  Sol_teneur /corrélation: 0.004206152566251908\n",
            "variable :  Substratum /corrélation: 0.020402145691341626\n",
            "variable :  Prob_R /corrélation: 0.05067917024750056\n",
            "variable :  ProfAbs_Sub /corrélation: 0.018277492973293796\n",
            "variable :  CEC /corrélation: 0.016489258567601285\n",
            "variable :  Sol_Argile /corrélation: 0.00014110079874586138\n",
            "variable :  Sol_Carbone /corrélation: 0.012820637418629094\n",
            "variable :  Sol_Carbone_stock /corrélation: 0.011126225525432848\n",
            "variable :  Sol_Carbone_terreFine /corrélation: 0.005141587032791574\n",
            "variable :  Sol_pH_KCL /corrélation: 0.004106470432227271\n",
            "variable :  Sol_Limon /corrélation: 0.035065282055176256\n",
            "variable :  Sol_Sable /corrélation: 0.04720816995006701\n",
            "variable :  Elev_Max /corrélation: 0.019037767563216585\n",
            "variable :  Elev_Moyenne /corrélation: 0.018036772583191495\n",
            "variable :  Elev_Min /corrélation: 0.015517956370541151\n",
            "variable :  Elev_Moy /corrélation: 0.01766626369154539\n",
            "variable :  Elev_sd /corrélation: 0.00700384236041992\n",
            "variable :  Geom_maj /corrélation: 0.0023176879032226643\n",
            "variable :  Geom_Shan /corrélation: 3.1764074105985694e-05\n",
            "variable :  Geom_unif /corrélation: 0.0004450793860263692\n",
            "variable :  Rugosite_Max /corrélation: 0.011328435694050261\n",
            "variable :  Rugosite_Moyenne /corrélation: 0.01724412686726673\n",
            "variable :  Rugosite_Min /corrélation: 0.01975409164894935\n",
            "variable :  Rugosite_Moy /corrélation: 0.015808651565525748\n",
            "variable :  Rugosite_sd /corrélation: 0.0057205701042777005\n",
            "variable :  Pente_Max /corrélation: 0.012107110362655719\n",
            "variable :  Pente_Moyenne /corrélation: 0.017169468337105788\n",
            "variable :  Pente_Min /corrélation: 0.01878925689768808\n",
            "variable :  Pente_Moy /corrélation: 0.017118389314452313\n",
            "variable :  Pente_sd /corrélation: 0.008696899520751035\n",
            "variable :  IPT_Max /corrélation: 0.00654225156768213\n",
            "variable :  IPT_Med /corrélation: 0.001995622304219035\n",
            "variable :  IPT_Min /corrélation: 0.008391772629013132\n",
            "variable :  IPT_Moy /corrélation: 2.5008392081025848e-05\n",
            "variable :  IPT_sd /corrélation: 0.008175778765679095\n",
            "variable :  IR_Max /corrélation: 0.010691888753910245\n",
            "variable :  IR_Med /corrélation: 0.015226136862547819\n",
            "variable :  IR_Min /corrélation: 0.017950771916666695\n",
            "variable :  IR_Moy /corrélation: 0.01504279416730902\n",
            "variable :  IR_sd /corrélation: 0.002948607241043216\n",
            "variable :  RV_Max /corrélation: 0.0061314384806759395\n",
            "variable :  RV_Med /corrélation: 0.0025870389268418934\n",
            "variable :  RV_Min /corrélation: 0.0018617267652842918\n",
            "variable :  RV_Moy /corrélation: 0.003428834877188309\n",
            "variable :  RV_sd /corrélation: 0.005070144868623505\n",
            "variable :  Bio_Ta_moy /corrélation: 0.0031711722090594467\n",
            "variable :  Bio_Tj_Moy /corrélation: 0.0002039821181577522\n",
            "variable :  Isoth /corrélation: 0.002559383405482177\n",
            "variable :  Bio_Saison /corrélation: 0.0016574897962731295\n",
            "variable :  Bio_Tmax /corrélation: 0.009886509165455876\n",
            "variable :  Bio_Tmin /corrélation: 0.0006789546899939769\n",
            "variable :  Bio_Tint /corrélation: 0.0015046000500655821\n",
            "variable :  Bio_Thum_Moy /corrélation: 0.002180070450705262\n",
            "variable :  Bio_Tsec_Moy /corrélation: 0.013263198262780154\n",
            "variable :  Bio_Tch_Moy /corrélation: 0.010439596867764071\n",
            "variable :  Bio_Tfr_Moy /corrélation: 0.0009461734685223077\n",
            "variable :  Bio_Pre_Ann /corrélation: 0.005540027651331832\n",
            "variable :  Bio_Pre_hum /corrélation: 0.011285439832288538\n",
            "variable :  Bio_Pre_sec /corrélation: 0.01121561754047659\n",
            "variable :  Bio_Pre_Saison /corrélation: 0.0010450737994642347\n",
            "variable :  Bio_Pre_Qhum /corrélation: 0.006053260796785254\n",
            "variable :  Bio_Pre_Qsec /corrélation: 0.001987149912659318\n",
            "variable :  Bio_Pre_Qch /corrélation: 0.00012911025964194845\n",
            "variable :  Bio_Pre_Qfr /corrélation: 0.0068291745286247615\n",
            "variable :  Prec_Janv /corrélation: 0.004147772772677892\n",
            "variable :  Prec_Fev /corrélation: 0.0022941561532422217\n",
            "variable :  Prec_Mars /corrélation: 0.0004999248622331495\n",
            "variable :  Prec_Avril /corrélation: 0.006770848332460059\n",
            "variable :  Prec_Mai /corrélation: 0.0037210086989428967\n",
            "variable :  Prec_Juin /corrélation: 6.125847671183227e-05\n",
            "variable :  Prec_Juill /corrélation: 0.031074766355140202\n",
            "variable :  Prec_Aout /corrélation: 0.001590280867122221\n",
            "variable :  Prec_Sept /corrélation: 4.485238924037592e-05\n",
            "variable :  Prec_Oct /corrélation: 0.014925373819206486\n",
            "variable :  Prec_Nov /corrélation: 0.006237374372311242\n",
            "variable :  Prec_Dec /corrélation: 0.015423655749255876\n",
            "variable :  Rad_Janv /corrélation: 0.030860301770494238\n",
            "variable :  Rad_Fev /corrélation: 0.031780739047674235\n",
            "variable :  Rad_Mars /corrélation: 0.01914906953200362\n",
            "variable :  Rad_Avril /corrélation: 0.004108432787120471\n",
            "variable :  Rad_Mai /corrélation: 0.027649553423336203\n",
            "variable :  Rad_Juin /corrélation: 0.03332244205759495\n",
            "variable :  Rad_Juill /corrélation: 0.028979219124333544\n",
            "variable :  Rad_Aout /corrélation: 0.014656781209447899\n",
            "variable :  Rad_Sept /corrélation: 0.000362296528778979\n",
            "variable :  Rad_Oct /corrélation: 0.027858182554462818\n",
            "variable :  Rad_Nov /corrélation: 0.025957152759798284\n",
            "variable :  Rad_Dec /corrélation: 0.03184357746811608\n",
            "variable :  Tmax_Janv /corrélation: 0.0003388041620154316\n",
            "variable :  Tmax_Fev /corrélation: 0.0006157937116354024\n",
            "variable :  Tmax_Mars /corrélation: 1.3379754750479932e-05\n",
            "variable :  Tmax_Avril /corrélation: 5.913128926527277e-05\n",
            "variable :  Tmax_Mai /corrélation: 0.00043990334944176676\n",
            "variable :  Tmax_Juin /corrélation: 0.002222669181184614\n",
            "variable :  Tmax_Juill /corrélation: 0.009908843622714119\n",
            "variable :  Tmax_Aout /corrélation: 0.00947229458355546\n",
            "variable :  Tmax_Sept /corrélation: 0.010679476913369582\n",
            "variable :  Tmax_Oct /corrélation: 0.00601165122636025\n",
            "variable :  Tmax_Nov /corrélation: 0.0036917192140053954\n",
            "variable :  Tmax_Dec /corrélation: 0.0021784623736171506\n",
            "variable :  Tmin_Janv /corrélation: 0.0009247924445244532\n",
            "variable :  Tmin_Fev /corrélation: 0.0014186097517244198\n",
            "variable :  Tmin_Mars /corrélation: 0.00022445552176651826\n",
            "variable :  Tmin_Avril /corrélation: 0.00020963300384549126\n",
            "variable :  Tmin_Mai /corrélation: 0.0023538527071714738\n",
            "variable :  Tmin_Juin /corrélation: 0.00904176862512128\n",
            "variable :  Tmin_Juill /corrélation: 0.007226076630193675\n",
            "variable :  Tmin_Aout /corrélation: 0.007821863572210694\n",
            "variable :  Tmin_Sept /corrélation: 0.007044473962126317\n",
            "variable :  Tmin_Oct /corrélation: 0.0027661806834045\n",
            "variable :  Tmin_Nov /corrélation: 0.0008796652204211415\n",
            "variable :  Tmin_Dec /corrélation: 0.00022371327331907276\n",
            "variable :  Vap_Janv /corrélation: 0.007453669630055973\n",
            "variable :  Vap_Fev /corrélation: 0.0057297602676732754\n",
            "variable :  Vap_Mars /corrélation: 0.0051310903203436575\n",
            "variable :  Vap_Avril /corrélation: 0.002086336618490981\n",
            "variable :  Vap_Mai /corrélation: 0.005496594450236961\n",
            "variable :  Vap_Juin /corrélation: 0.007060538189662621\n",
            "variable :  Vap_Juill /corrélation: 0.010896262087389271\n",
            "variable :  Vap_Aout /corrélation: 0.011490887927492258\n",
            "variable :  Vap_Sept /corrélation: 0.008040166162382094\n",
            "variable :  Vap_Oct /corrélation: 0.0030008405983306618\n",
            "variable :  Vap_Nov /corrélation: 0.0031738669494382876\n",
            "variable :  Vap_Dec /corrélation: 0.002878665714276083\n",
            "variable :  Vent_Janv /corrélation: 0.029064947276551695\n",
            "variable :  Vent_Fev /corrélation: 0.015644626390049553\n",
            "variable :  Vent_Mars /corrélation: 0.03548673510628331\n",
            "variable :  Vent_Avril /corrélation: 0.026477045160550758\n",
            "variable :  Vent_Mai /corrélation: 0.0416131973958005\n",
            "variable :  Vent_Juin /corrélation: 0.028039884843609586\n",
            "variable :  Vent_Juill /corrélation: 0.023019681068849464\n",
            "variable :  Vent_Aout /corrélation: 0.035401049266042296\n",
            "variable :  Vent_Sept /corrélation: 0.06163785499732717\n",
            "variable :  Vent_Oct /corrélation: 0.04726779608446029\n",
            "variable :  Vent_Nov /corrélation: 0.014857819105067296\n",
            "variable :  Vent_Dec /corrélation: 0.04831988460420832\n"
          ]
        }
      ]
    },
    {
      "cell_type": "code",
      "source": [
        "lst1"
      ],
      "metadata": {
        "colab": {
          "base_uri": "https://localhost:8080/"
        },
        "id": "HofotLaXv1Lw",
        "outputId": "dd2c6009-bfb1-4da5-e09a-e41ffd75aecb"
      },
      "execution_count": 177,
      "outputs": [
        {
          "output_type": "execute_result",
          "data": {
            "text/plain": [
              "[['X_long', 0.023944058994534487],\n",
              " ['Y_lat', 0.035944271702778564],\n",
              " ['Bovins', 0.02204822089711176],\n",
              " ['Volaille', 0.0008687759827605919],\n",
              " ['Caprins', 0.019523126766361146],\n",
              " ['Ovins', 0.029713046902984583],\n",
              " ['Equides', 0.027012759787406304],\n",
              " ['Coniferes', 0.0006573961942511391],\n",
              " ['ZoneAride', 0.0549261421946064],\n",
              " ['ZonePel', 1.691727890138276e-05],\n",
              " ['Lesfeuillus', 0.007605065749125258],\n",
              " ['Caduc', 5.3108455154205965e-05],\n",
              " ['Autres', 0.0027079860712491233],\n",
              " ['Arbrisseau', 0.029442114850894638],\n",
              " ['Pl_herb', 0.017275262265974537],\n",
              " ['VegCul', 0.050212892691137136],\n",
              " ['VegInond', 0.0010018440211573122],\n",
              " ['ZoneUrbaine', 0.01536357045609081],\n",
              " ['Moy_IRM', 0.07328282895734205],\n",
              " ['Amp1_IRM', 0.02324109851472724],\n",
              " ['Amp2_IRM', 0.0035470241647200724],\n",
              " ['Amp3_IRM', 0.06095564509600847],\n",
              " ['VarT_ann_IRM', 0.001845692610170255],\n",
              " ['VarT_bi_IRM', 0.0009017950840033129],\n",
              " ['VarT_tri_IRM', 0.017087442138443015],\n",
              " ['VarT_Cy_IRM', 0.002096103766208842],\n",
              " ['Min_IRM', 0.09125724350897992],\n",
              " ['Max_IRM', 0.05231029255553578],\n",
              " ['Ph1_IRM', 0.03551889164010302],\n",
              " ['Ph2_IRM', 0.004206099471812261],\n",
              " ['Ph3_IRM', 0.029904216218726534],\n",
              " ['Var_IRM', 0.014564450802895536],\n",
              " ['Moy_TempJ', 0.00828110919746451],\n",
              " ['Amp1_TempJ', 0.0011512483481658394],\n",
              " ['Amp2_TempJ', 0.06243224835960865],\n",
              " ['Amp3_TempJ', 0.11111484248118793],\n",
              " ['VarT_ann_TempJ', 7.969517650218812e-05],\n",
              " ['VarT_bi_TempJ', 0.0282060151913711],\n",
              " ['VarT_tri_TempJ', 0.003290316232695287],\n",
              " ['VarT_cy_TempJ', 0.0018621139149600323],\n",
              " ['Min_TempJ', 0.008955507945120369],\n",
              " ['Max_TempJ', 0.007534697110812151],\n",
              " ['Ph1_TempJ', 0.005644345692471665],\n",
              " ['Ph2_TempJ', 1.8791889641836553e-06],\n",
              " ['Ph3_TempJ', 0.004559413918982819],\n",
              " ['Var_TempJ', 0.0033804803217214355],\n",
              " ['Moy_TempN', 0.0074893414359529994],\n",
              " ['Amp1_TempN', 0.0011199496028661939],\n",
              " ['Amp2_TempN', 0.049994393651040865],\n",
              " ['Amp3_TempN', 0.0006753887299302878],\n",
              " ['VarT_ann_TempN', 0.00018731227332690568],\n",
              " ['VarT_bi_TempN', 0.030592427969881632],\n",
              " ['VarT_tri_TempN', 0.009462684781958651],\n",
              " ['VarT_cy_TempN', 0.0001274009544332799],\n",
              " ['Min_TempN', 0.00799559237286004],\n",
              " ['Max_TempN', 0.007105578095946814],\n",
              " ['Ph1_TempN', 0.009613545008605588],\n",
              " ['Ph2_TempN', 0.0010133254889302867],\n",
              " ['Ph3_TempN', 0.0356805448694431],\n",
              " ['Var_TempN', 0.002216436924460378],\n",
              " ['Moy_NDVI', 0.04295555877573701],\n",
              " ['Amp1_NDVI', 0.06330677931642398],\n",
              " ['Amp2_NDVI', 0.0511577675720662],\n",
              " ['Amp3_NDVI', 0.048571441336308516],\n",
              " ['VarT_ann_NDVI', 0.0240517586316786],\n",
              " ['VarT_bi_NDVI', 0.004544336741242192],\n",
              " ['VarT_tri_NDVI', 0.009204044203955028],\n",
              " ['VarT_cy_NDVI', 0.031129492485205242],\n",
              " ['Min_NDVI', 0.021992301743501235],\n",
              " ['Max_NDVI', 0.06782324801487194],\n",
              " ['Ph1_NDVI', 0.0012427262314313287],\n",
              " ['Ph2_NDVI', 1.9900323546800296e-05],\n",
              " ['Ph3_NDVI', 0.00023410771074886279],\n",
              " ['Var_NDVI', 0.068473209664806],\n",
              " ['Moy_EVI', 0.04070715585704904],\n",
              " ['Amp1_EVI', 0.05011710932354418],\n",
              " ['Amp2_EVI', 0.04896458726849948],\n",
              " ['Amp3_EVI', 0.056087419596882834],\n",
              " ['VarT_ann_EVI', 0.021308796440190167],\n",
              " ['VarT_bi_EVI', 0.007951303729762866],\n",
              " ['VarT_tri_EVI', 0.014127064713636775],\n",
              " ['VarT_cy_EVI', 0.0254650026179783],\n",
              " ['Min_EVI', 0.01943238609922746],\n",
              " ['Max_EVI', 0.05747027070687533],\n",
              " ['Ph1_EVI', 0.0003348157123735875],\n",
              " ['Ph2_EVI', 0.003211171710328565],\n",
              " ['Ph3_EVI', 0.008771452104199771],\n",
              " ['Var_EVI', 0.04799371493057619],\n",
              " ['Ret_eau', 0.015058510657992373],\n",
              " ['Sol_teneur', 0.004206152566251908],\n",
              " ['Substratum', 0.020402145691341626],\n",
              " ['Prob_R', 0.05067917024750056],\n",
              " ['ProfAbs_Sub', 0.018277492973293796],\n",
              " ['CEC', 0.016489258567601285],\n",
              " ['Sol_Argile', 0.00014110079874586138],\n",
              " ['Sol_Carbone', 0.012820637418629094],\n",
              " ['Sol_Carbone_stock', 0.011126225525432848],\n",
              " ['Sol_Carbone_terreFine', 0.005141587032791574],\n",
              " ['Sol_pH_KCL', 0.004106470432227271],\n",
              " ['Sol_Limon', 0.035065282055176256],\n",
              " ['Sol_Sable', 0.04720816995006701],\n",
              " ['Elev_Max', 0.019037767563216585],\n",
              " ['Elev_Moyenne', 0.018036772583191495],\n",
              " ['Elev_Min', 0.015517956370541151],\n",
              " ['Elev_Moy', 0.01766626369154539],\n",
              " ['Elev_sd', 0.00700384236041992],\n",
              " ['Geom_maj', 0.0023176879032226643],\n",
              " ['Geom_Shan', 3.1764074105985694e-05],\n",
              " ['Geom_unif', 0.0004450793860263692],\n",
              " ['Rugosite_Max', 0.011328435694050261],\n",
              " ['Rugosite_Moyenne', 0.01724412686726673],\n",
              " ['Rugosite_Min', 0.01975409164894935],\n",
              " ['Rugosite_Moy', 0.015808651565525748],\n",
              " ['Rugosite_sd', 0.0057205701042777005],\n",
              " ['Pente_Max', 0.012107110362655719],\n",
              " ['Pente_Moyenne', 0.017169468337105788],\n",
              " ['Pente_Min', 0.01878925689768808],\n",
              " ['Pente_Moy', 0.017118389314452313],\n",
              " ['Pente_sd', 0.008696899520751035],\n",
              " ['IPT_Max', 0.00654225156768213],\n",
              " ['IPT_Med', 0.001995622304219035],\n",
              " ['IPT_Min', 0.008391772629013132],\n",
              " ['IPT_Moy', 2.5008392081025848e-05],\n",
              " ['IPT_sd', 0.008175778765679095],\n",
              " ['IR_Max', 0.010691888753910245],\n",
              " ['IR_Med', 0.015226136862547819],\n",
              " ['IR_Min', 0.017950771916666695],\n",
              " ['IR_Moy', 0.01504279416730902],\n",
              " ['IR_sd', 0.002948607241043216],\n",
              " ['RV_Max', 0.0061314384806759395],\n",
              " ['RV_Med', 0.0025870389268418934],\n",
              " ['RV_Min', 0.0018617267652842918],\n",
              " ['RV_Moy', 0.003428834877188309],\n",
              " ['RV_sd', 0.005070144868623505],\n",
              " ['Bio_Ta_moy', 0.0031711722090594467],\n",
              " ['Bio_Tj_Moy', 0.0002039821181577522],\n",
              " ['Isoth', 0.002559383405482177],\n",
              " ['Bio_Saison', 0.0016574897962731295],\n",
              " ['Bio_Tmax', 0.009886509165455876],\n",
              " ['Bio_Tmin', 0.0006789546899939769],\n",
              " ['Bio_Tint', 0.0015046000500655821],\n",
              " ['Bio_Thum_Moy', 0.002180070450705262],\n",
              " ['Bio_Tsec_Moy', 0.013263198262780154],\n",
              " ['Bio_Tch_Moy', 0.010439596867764071],\n",
              " ['Bio_Tfr_Moy', 0.0009461734685223077],\n",
              " ['Bio_Pre_Ann', 0.005540027651331832],\n",
              " ['Bio_Pre_hum', 0.011285439832288538],\n",
              " ['Bio_Pre_sec', 0.01121561754047659],\n",
              " ['Bio_Pre_Saison', 0.0010450737994642347],\n",
              " ['Bio_Pre_Qhum', 0.006053260796785254],\n",
              " ['Bio_Pre_Qsec', 0.001987149912659318],\n",
              " ['Bio_Pre_Qch', 0.00012911025964194845],\n",
              " ['Bio_Pre_Qfr', 0.0068291745286247615],\n",
              " ['Prec_Janv', 0.004147772772677892],\n",
              " ['Prec_Fev', 0.0022941561532422217],\n",
              " ['Prec_Mars', 0.0004999248622331495],\n",
              " ['Prec_Avril', 0.006770848332460059],\n",
              " ['Prec_Mai', 0.0037210086989428967],\n",
              " ['Prec_Juin', 6.125847671183227e-05],\n",
              " ['Prec_Juill', 0.031074766355140202],\n",
              " ['Prec_Aout', 0.001590280867122221],\n",
              " ['Prec_Sept', 4.485238924037592e-05],\n",
              " ['Prec_Oct', 0.014925373819206486],\n",
              " ['Prec_Nov', 0.006237374372311242],\n",
              " ['Prec_Dec', 0.015423655749255876],\n",
              " ['Rad_Janv', 0.030860301770494238],\n",
              " ['Rad_Fev', 0.031780739047674235],\n",
              " ['Rad_Mars', 0.01914906953200362],\n",
              " ['Rad_Avril', 0.004108432787120471],\n",
              " ['Rad_Mai', 0.027649553423336203],\n",
              " ['Rad_Juin', 0.03332244205759495],\n",
              " ['Rad_Juill', 0.028979219124333544],\n",
              " ['Rad_Aout', 0.014656781209447899],\n",
              " ['Rad_Sept', 0.000362296528778979],\n",
              " ['Rad_Oct', 0.027858182554462818],\n",
              " ['Rad_Nov', 0.025957152759798284],\n",
              " ['Rad_Dec', 0.03184357746811608],\n",
              " ['Tmax_Janv', 0.0003388041620154316],\n",
              " ['Tmax_Fev', 0.0006157937116354024],\n",
              " ['Tmax_Mars', 1.3379754750479932e-05],\n",
              " ['Tmax_Avril', 5.913128926527277e-05],\n",
              " ['Tmax_Mai', 0.00043990334944176676],\n",
              " ['Tmax_Juin', 0.002222669181184614],\n",
              " ['Tmax_Juill', 0.009908843622714119],\n",
              " ['Tmax_Aout', 0.00947229458355546],\n",
              " ['Tmax_Sept', 0.010679476913369582],\n",
              " ['Tmax_Oct', 0.00601165122636025],\n",
              " ['Tmax_Nov', 0.0036917192140053954],\n",
              " ['Tmax_Dec', 0.0021784623736171506],\n",
              " ['Tmin_Janv', 0.0009247924445244532],\n",
              " ['Tmin_Fev', 0.0014186097517244198],\n",
              " ['Tmin_Mars', 0.00022445552176651826],\n",
              " ['Tmin_Avril', 0.00020963300384549126],\n",
              " ['Tmin_Mai', 0.0023538527071714738],\n",
              " ['Tmin_Juin', 0.00904176862512128],\n",
              " ['Tmin_Juill', 0.007226076630193675],\n",
              " ['Tmin_Aout', 0.007821863572210694],\n",
              " ['Tmin_Sept', 0.007044473962126317],\n",
              " ['Tmin_Oct', 0.0027661806834045],\n",
              " ['Tmin_Nov', 0.0008796652204211415],\n",
              " ['Tmin_Dec', 0.00022371327331907276],\n",
              " ['Vap_Janv', 0.007453669630055973],\n",
              " ['Vap_Fev', 0.0057297602676732754],\n",
              " ['Vap_Mars', 0.0051310903203436575],\n",
              " ['Vap_Avril', 0.002086336618490981],\n",
              " ['Vap_Mai', 0.005496594450236961],\n",
              " ['Vap_Juin', 0.007060538189662621],\n",
              " ['Vap_Juill', 0.010896262087389271],\n",
              " ['Vap_Aout', 0.011490887927492258],\n",
              " ['Vap_Sept', 0.008040166162382094],\n",
              " ['Vap_Oct', 0.0030008405983306618],\n",
              " ['Vap_Nov', 0.0031738669494382876],\n",
              " ['Vap_Dec', 0.002878665714276083],\n",
              " ['Vent_Janv', 0.029064947276551695],\n",
              " ['Vent_Fev', 0.015644626390049553],\n",
              " ['Vent_Mars', 0.03548673510628331],\n",
              " ['Vent_Avril', 0.026477045160550758],\n",
              " ['Vent_Mai', 0.0416131973958005],\n",
              " ['Vent_Juin', 0.028039884843609586],\n",
              " ['Vent_Juill', 0.023019681068849464],\n",
              " ['Vent_Aout', 0.035401049266042296],\n",
              " ['Vent_Sept', 0.06163785499732717],\n",
              " ['Vent_Oct', 0.04726779608446029],\n",
              " ['Vent_Nov', 0.014857819105067296],\n",
              " ['Vent_Dec', 0.04831988460420832]]"
            ]
          },
          "metadata": {},
          "execution_count": 177
        }
      ]
    },
    {
      "cell_type": "code",
      "source": [
        "df1 = pd.DataFrame(lst1, columns = ['variable','corrélation'])\n",
        "print(df1)"
      ],
      "metadata": {
        "colab": {
          "base_uri": "https://localhost:8080/"
        },
        "id": "h0f6t9NfwQ2G",
        "outputId": "2b26c211-3d38-492a-f047-add1c0ba1544"
      },
      "execution_count": 178,
      "outputs": [
        {
          "output_type": "stream",
          "name": "stdout",
          "text": [
            "      variable  corrélation\n",
            "0       X_long     0.023944\n",
            "1        Y_lat     0.035944\n",
            "2       Bovins     0.022048\n",
            "3     Volaille     0.000869\n",
            "4      Caprins     0.019523\n",
            "..         ...          ...\n",
            "220  Vent_Aout     0.035401\n",
            "221  Vent_Sept     0.061638\n",
            "222   Vent_Oct     0.047268\n",
            "223   Vent_Nov     0.014858\n",
            "224   Vent_Dec     0.048320\n",
            "\n",
            "[225 rows x 2 columns]\n"
          ]
        }
      ]
    },
    {
      "cell_type": "code",
      "source": [
        "df1.to_excel(\"cs_longia_apprentissage_corrélation.xlsx\")  "
      ],
      "metadata": {
        "id": "19YXYkkuwsah"
      },
      "execution_count": 179,
      "outputs": []
    }
  ]
}