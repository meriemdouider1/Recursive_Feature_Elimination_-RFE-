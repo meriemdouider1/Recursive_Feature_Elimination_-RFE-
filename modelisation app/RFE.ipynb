{
  "nbformat": 4,
  "nbformat_minor": 0,
  "metadata": {
    "colab": {
      "name": "Untitled82.ipynb",
      "provenance": [],
      "collapsed_sections": [],
      "authorship_tag": "ABX9TyNCy51t+IN34ro+dH0hvL1Q",
      "include_colab_link": true
    },
    "kernelspec": {
      "name": "python3",
      "display_name": "Python 3"
    },
    "language_info": {
      "name": "python"
    }
  },
  "cells": [
    {
      "cell_type": "markdown",
      "metadata": {
        "id": "view-in-github",
        "colab_type": "text"
      },
      "source": [
        "<a href=\"https://colab.research.google.com/github/meriemdouider1/mois1-mois2/blob/main/modelisation%20app/RFE.ipynb\" target=\"_parent\"><img src=\"https://colab.research.google.com/assets/colab-badge.svg\" alt=\"Open In Colab\"/></a>"
      ]
    },
    {
      "cell_type": "code",
      "metadata": {
        "id": "RlmUgAkuFdId"
      },
      "source": [
        "import sklearn\n",
        "import pandas as pd\n",
        "import numpy as np\n",
        "import matplotlib.pyplot as plt\n",
        "import seaborn as sns\n",
        "from sklearn.model_selection import train_test_split\n",
        "from sklearn.ensemble import RandomForestRegressor, RandomForestClassifier\n",
        "from sklearn.metrics import roc_auc_score, r2_score\n",
        "import sklearn\n",
        "import pandas as pd\n",
        "import numpy as np\n",
        "import matplotlib.pyplot as plt\n",
        "import seaborn as sns\n",
        "from sklearn.naive_bayes import GaussianNB\n",
        "from sklearn.ensemble import BaggingClassifier\n",
        "from sklearn.tree import DecisionTreeClassifier\n",
        "from xgboost import XGBClassifier\n",
        "from sklearn.metrics import accuracy_score\n",
        "from sklearn.metrics import precision_score\n",
        "from sklearn.metrics import recall_score\n",
        "from sklearn.metrics import f1_score\n",
        "from sklearn.metrics import confusion_matrix\n",
        "import numpy\n",
        "import sklearn.metrics as metrics\n",
        "from sklearn.ensemble import RandomForestClassifier\n",
        "from sklearn.neighbors import KNeighborsClassifier\n",
        "from sklearn import svm\n",
        "from sklearn.model_selection import StratifiedKFold\n",
        "from sklearn.model_selection import cross_val_score\n",
        "from sklearn.model_selection import LeaveOneOut\n",
        "from numpy import mean\n",
        "from numpy import std\n",
        "from sklearn.datasets import make_classification\n",
        "from sklearn.model_selection import KFold\n",
        "from sklearn.model_selection import cross_val_score\n",
        "from sklearn.linear_model import LogisticRegression\n",
        "from sklearn.metrics import make_scorer\n",
        "import matplotlib.pyplot as plt\n",
        "from sklearn.model_selection import LeaveOneOut\n",
        "from sklearn.datasets import make_classification\n",
        "from sklearn.ensemble import RandomForestClassifier\n",
        "from sklearn import datasets, metrics, model_selection, svm\n",
        "import numpy as np\n",
        "from sklearn import svm, datasets\n",
        "from sklearn.metrics import auc\n",
        "from sklearn.metrics import plot_roc_curve\n",
        "from sklearn.model_selection import StratifiedKFold\n",
        "from sklearn.datasets import make_classification\n",
        "from sklearn.ensemble import RandomForestClassifier\n",
        "from sklearn import datasets, metrics, model_selection, svm\n",
        "from sklearn.metrics import matthews_corrcoef\n",
        "from sklearn.svm import SVC\n",
        "from sklearn.metrics import cohen_kappa_score\n",
        "from sklearn.ensemble import GradientBoostingClassifier\n",
        "from sklearn.feature_selection import RFE\n",
        "from sklearn.pipeline import Pipeline\n",
        "from matplotlib import pyplot"
      ],
      "execution_count": 1,
      "outputs": []
    },
    {
      "cell_type": "code",
      "metadata": {
        "id": "eZpW8fsXFrh3"
      },
      "source": [
        "Cl = '/content/AXEAPP.xlsx' \n",
        "apprentissage= pd.read_excel(Cl, sheet_name=0,header=0,index_col=False, keep_default_na=True)"
      ],
      "execution_count": 2,
      "outputs": []
    },
    {
      "cell_type": "code",
      "source": [
        "apprentissage"
      ],
      "metadata": {
        "colab": {
          "base_uri": "https://localhost:8080/",
          "height": 423
        },
        "id": "vLoByxZ1jqnm",
        "outputId": "9a05e502-f41e-4fac-f6dd-ed9c6dce0936"
      },
      "execution_count": 3,
      "outputs": [
        {
          "output_type": "execute_result",
          "data": {
            "text/html": [
              "\n",
              "  <div id=\"df-fc063031-3f89-4a22-994e-463eb149228a\">\n",
              "    <div class=\"colab-df-container\">\n",
              "      <div>\n",
              "<style scoped>\n",
              "    .dataframe tbody tr th:only-of-type {\n",
              "        vertical-align: middle;\n",
              "    }\n",
              "\n",
              "    .dataframe tbody tr th {\n",
              "        vertical-align: top;\n",
              "    }\n",
              "\n",
              "    .dataframe thead th {\n",
              "        text-align: right;\n",
              "    }\n",
              "</style>\n",
              "<table border=\"1\" class=\"dataframe\">\n",
              "  <thead>\n",
              "    <tr style=\"text-align: right;\">\n",
              "      <th></th>\n",
              "      <th>Cs_longia</th>\n",
              "      <th>AXE11</th>\n",
              "      <th>AXE12</th>\n",
              "      <th>AXE2</th>\n",
              "      <th>AXE3</th>\n",
              "      <th>AXE4</th>\n",
              "      <th>AXE5</th>\n",
              "    </tr>\n",
              "  </thead>\n",
              "  <tbody>\n",
              "    <tr>\n",
              "      <th>0</th>\n",
              "      <td>1</td>\n",
              "      <td>0.001424</td>\n",
              "      <td>0.031177</td>\n",
              "      <td>-0.059472</td>\n",
              "      <td>-3.681616</td>\n",
              "      <td>-2.401045</td>\n",
              "      <td>-0.173420</td>\n",
              "    </tr>\n",
              "    <tr>\n",
              "      <th>1</th>\n",
              "      <td>1</td>\n",
              "      <td>0.001859</td>\n",
              "      <td>0.007034</td>\n",
              "      <td>-0.032365</td>\n",
              "      <td>-0.780750</td>\n",
              "      <td>-0.885475</td>\n",
              "      <td>-0.161534</td>\n",
              "    </tr>\n",
              "    <tr>\n",
              "      <th>2</th>\n",
              "      <td>1</td>\n",
              "      <td>0.001859</td>\n",
              "      <td>0.007034</td>\n",
              "      <td>-0.032365</td>\n",
              "      <td>-0.780750</td>\n",
              "      <td>-0.885475</td>\n",
              "      <td>-0.161534</td>\n",
              "    </tr>\n",
              "    <tr>\n",
              "      <th>3</th>\n",
              "      <td>0</td>\n",
              "      <td>-0.001565</td>\n",
              "      <td>0.007444</td>\n",
              "      <td>0.052511</td>\n",
              "      <td>-0.575102</td>\n",
              "      <td>-0.089102</td>\n",
              "      <td>-0.036805</td>\n",
              "    </tr>\n",
              "    <tr>\n",
              "      <th>4</th>\n",
              "      <td>0</td>\n",
              "      <td>-0.001238</td>\n",
              "      <td>0.010596</td>\n",
              "      <td>0.047796</td>\n",
              "      <td>-1.674400</td>\n",
              "      <td>0.216223</td>\n",
              "      <td>0.038151</td>\n",
              "    </tr>\n",
              "    <tr>\n",
              "      <th>...</th>\n",
              "      <td>...</td>\n",
              "      <td>...</td>\n",
              "      <td>...</td>\n",
              "      <td>...</td>\n",
              "      <td>...</td>\n",
              "      <td>...</td>\n",
              "      <td>...</td>\n",
              "    </tr>\n",
              "    <tr>\n",
              "      <th>198</th>\n",
              "      <td>1</td>\n",
              "      <td>0.002694</td>\n",
              "      <td>-0.011021</td>\n",
              "      <td>-0.107134</td>\n",
              "      <td>-1.678789</td>\n",
              "      <td>-0.626739</td>\n",
              "      <td>-0.093039</td>\n",
              "    </tr>\n",
              "    <tr>\n",
              "      <th>199</th>\n",
              "      <td>1</td>\n",
              "      <td>0.001341</td>\n",
              "      <td>-0.016060</td>\n",
              "      <td>-0.078564</td>\n",
              "      <td>-1.584375</td>\n",
              "      <td>0.421137</td>\n",
              "      <td>-0.297170</td>\n",
              "    </tr>\n",
              "    <tr>\n",
              "      <th>200</th>\n",
              "      <td>1</td>\n",
              "      <td>0.001998</td>\n",
              "      <td>-0.013530</td>\n",
              "      <td>-0.123163</td>\n",
              "      <td>-1.309588</td>\n",
              "      <td>-0.722200</td>\n",
              "      <td>-0.279362</td>\n",
              "    </tr>\n",
              "    <tr>\n",
              "      <th>201</th>\n",
              "      <td>1</td>\n",
              "      <td>-0.000923</td>\n",
              "      <td>-0.014214</td>\n",
              "      <td>0.010676</td>\n",
              "      <td>-1.404706</td>\n",
              "      <td>1.443951</td>\n",
              "      <td>0.121188</td>\n",
              "    </tr>\n",
              "    <tr>\n",
              "      <th>202</th>\n",
              "      <td>1</td>\n",
              "      <td>0.001179</td>\n",
              "      <td>-0.000708</td>\n",
              "      <td>-0.015548</td>\n",
              "      <td>-1.784350</td>\n",
              "      <td>-0.306687</td>\n",
              "      <td>0.200396</td>\n",
              "    </tr>\n",
              "  </tbody>\n",
              "</table>\n",
              "<p>203 rows × 7 columns</p>\n",
              "</div>\n",
              "      <button class=\"colab-df-convert\" onclick=\"convertToInteractive('df-fc063031-3f89-4a22-994e-463eb149228a')\"\n",
              "              title=\"Convert this dataframe to an interactive table.\"\n",
              "              style=\"display:none;\">\n",
              "        \n",
              "  <svg xmlns=\"http://www.w3.org/2000/svg\" height=\"24px\"viewBox=\"0 0 24 24\"\n",
              "       width=\"24px\">\n",
              "    <path d=\"M0 0h24v24H0V0z\" fill=\"none\"/>\n",
              "    <path d=\"M18.56 5.44l.94 2.06.94-2.06 2.06-.94-2.06-.94-.94-2.06-.94 2.06-2.06.94zm-11 1L8.5 8.5l.94-2.06 2.06-.94-2.06-.94L8.5 2.5l-.94 2.06-2.06.94zm10 10l.94 2.06.94-2.06 2.06-.94-2.06-.94-.94-2.06-.94 2.06-2.06.94z\"/><path d=\"M17.41 7.96l-1.37-1.37c-.4-.4-.92-.59-1.43-.59-.52 0-1.04.2-1.43.59L10.3 9.45l-7.72 7.72c-.78.78-.78 2.05 0 2.83L4 21.41c.39.39.9.59 1.41.59.51 0 1.02-.2 1.41-.59l7.78-7.78 2.81-2.81c.8-.78.8-2.07 0-2.86zM5.41 20L4 18.59l7.72-7.72 1.47 1.35L5.41 20z\"/>\n",
              "  </svg>\n",
              "      </button>\n",
              "      \n",
              "  <style>\n",
              "    .colab-df-container {\n",
              "      display:flex;\n",
              "      flex-wrap:wrap;\n",
              "      gap: 12px;\n",
              "    }\n",
              "\n",
              "    .colab-df-convert {\n",
              "      background-color: #E8F0FE;\n",
              "      border: none;\n",
              "      border-radius: 50%;\n",
              "      cursor: pointer;\n",
              "      display: none;\n",
              "      fill: #1967D2;\n",
              "      height: 32px;\n",
              "      padding: 0 0 0 0;\n",
              "      width: 32px;\n",
              "    }\n",
              "\n",
              "    .colab-df-convert:hover {\n",
              "      background-color: #E2EBFA;\n",
              "      box-shadow: 0px 1px 2px rgba(60, 64, 67, 0.3), 0px 1px 3px 1px rgba(60, 64, 67, 0.15);\n",
              "      fill: #174EA6;\n",
              "    }\n",
              "\n",
              "    [theme=dark] .colab-df-convert {\n",
              "      background-color: #3B4455;\n",
              "      fill: #D2E3FC;\n",
              "    }\n",
              "\n",
              "    [theme=dark] .colab-df-convert:hover {\n",
              "      background-color: #434B5C;\n",
              "      box-shadow: 0px 1px 3px 1px rgba(0, 0, 0, 0.15);\n",
              "      filter: drop-shadow(0px 1px 2px rgba(0, 0, 0, 0.3));\n",
              "      fill: #FFFFFF;\n",
              "    }\n",
              "  </style>\n",
              "\n",
              "      <script>\n",
              "        const buttonEl =\n",
              "          document.querySelector('#df-fc063031-3f89-4a22-994e-463eb149228a button.colab-df-convert');\n",
              "        buttonEl.style.display =\n",
              "          google.colab.kernel.accessAllowed ? 'block' : 'none';\n",
              "\n",
              "        async function convertToInteractive(key) {\n",
              "          const element = document.querySelector('#df-fc063031-3f89-4a22-994e-463eb149228a');\n",
              "          const dataTable =\n",
              "            await google.colab.kernel.invokeFunction('convertToInteractive',\n",
              "                                                     [key], {});\n",
              "          if (!dataTable) return;\n",
              "\n",
              "          const docLinkHtml = 'Like what you see? Visit the ' +\n",
              "            '<a target=\"_blank\" href=https://colab.research.google.com/notebooks/data_table.ipynb>data table notebook</a>'\n",
              "            + ' to learn more about interactive tables.';\n",
              "          element.innerHTML = '';\n",
              "          dataTable['output_type'] = 'display_data';\n",
              "          await google.colab.output.renderOutput(dataTable, element);\n",
              "          const docLink = document.createElement('div');\n",
              "          docLink.innerHTML = docLinkHtml;\n",
              "          element.appendChild(docLink);\n",
              "        }\n",
              "      </script>\n",
              "    </div>\n",
              "  </div>\n",
              "  "
            ],
            "text/plain": [
              "     Cs_longia     AXE11     AXE12      AXE2      AXE3      AXE4      AXE5\n",
              "0            1  0.001424  0.031177 -0.059472 -3.681616 -2.401045 -0.173420\n",
              "1            1  0.001859  0.007034 -0.032365 -0.780750 -0.885475 -0.161534\n",
              "2            1  0.001859  0.007034 -0.032365 -0.780750 -0.885475 -0.161534\n",
              "3            0 -0.001565  0.007444  0.052511 -0.575102 -0.089102 -0.036805\n",
              "4            0 -0.001238  0.010596  0.047796 -1.674400  0.216223  0.038151\n",
              "..         ...       ...       ...       ...       ...       ...       ...\n",
              "198          1  0.002694 -0.011021 -0.107134 -1.678789 -0.626739 -0.093039\n",
              "199          1  0.001341 -0.016060 -0.078564 -1.584375  0.421137 -0.297170\n",
              "200          1  0.001998 -0.013530 -0.123163 -1.309588 -0.722200 -0.279362\n",
              "201          1 -0.000923 -0.014214  0.010676 -1.404706  1.443951  0.121188\n",
              "202          1  0.001179 -0.000708 -0.015548 -1.784350 -0.306687  0.200396\n",
              "\n",
              "[203 rows x 7 columns]"
            ]
          },
          "metadata": {},
          "execution_count": 3
        }
      ]
    },
    {
      "cell_type": "code",
      "metadata": {
        "id": "sp6M2-Shj8tx"
      },
      "source": [
        "Cl2 = '/content/AXETEST.xlsx' \n",
        "test= pd.read_excel(Cl2, sheet_name=0,header=0,index_col=False, keep_default_na=True)"
      ],
      "execution_count": 4,
      "outputs": []
    },
    {
      "cell_type": "code",
      "source": [
        "test"
      ],
      "metadata": {
        "colab": {
          "base_uri": "https://localhost:8080/",
          "height": 1000
        },
        "outputId": "273c08eb-7813-4bdc-b84f-f556b6c1bcdc",
        "id": "wzKdYPPMj8ty"
      },
      "execution_count": 5,
      "outputs": [
        {
          "output_type": "execute_result",
          "data": {
            "text/html": [
              "\n",
              "  <div id=\"df-1de383e0-2c44-436e-8fde-76715a98a040\">\n",
              "    <div class=\"colab-df-container\">\n",
              "      <div>\n",
              "<style scoped>\n",
              "    .dataframe tbody tr th:only-of-type {\n",
              "        vertical-align: middle;\n",
              "    }\n",
              "\n",
              "    .dataframe tbody tr th {\n",
              "        vertical-align: top;\n",
              "    }\n",
              "\n",
              "    .dataframe thead th {\n",
              "        text-align: right;\n",
              "    }\n",
              "</style>\n",
              "<table border=\"1\" class=\"dataframe\">\n",
              "  <thead>\n",
              "    <tr style=\"text-align: right;\">\n",
              "      <th></th>\n",
              "      <th>Cs_longia</th>\n",
              "      <th>AXE11</th>\n",
              "      <th>AXE12</th>\n",
              "      <th>AXE2</th>\n",
              "      <th>AXE3</th>\n",
              "      <th>AXE4</th>\n",
              "      <th>AXE5</th>\n",
              "    </tr>\n",
              "  </thead>\n",
              "  <tbody>\n",
              "    <tr>\n",
              "      <th>0</th>\n",
              "      <td>0</td>\n",
              "      <td>-0.001640</td>\n",
              "      <td>0.011923</td>\n",
              "      <td>0.102308</td>\n",
              "      <td>-1.801407</td>\n",
              "      <td>-0.832450</td>\n",
              "      <td>0.062173</td>\n",
              "    </tr>\n",
              "    <tr>\n",
              "      <th>1</th>\n",
              "      <td>1</td>\n",
              "      <td>-0.005890</td>\n",
              "      <td>0.007865</td>\n",
              "      <td>0.008081</td>\n",
              "      <td>-1.369971</td>\n",
              "      <td>-0.792410</td>\n",
              "      <td>-0.012560</td>\n",
              "    </tr>\n",
              "    <tr>\n",
              "      <th>2</th>\n",
              "      <td>1</td>\n",
              "      <td>-0.005890</td>\n",
              "      <td>0.007865</td>\n",
              "      <td>0.008081</td>\n",
              "      <td>-1.369971</td>\n",
              "      <td>-0.792410</td>\n",
              "      <td>-0.012560</td>\n",
              "    </tr>\n",
              "    <tr>\n",
              "      <th>3</th>\n",
              "      <td>1</td>\n",
              "      <td>0.000629</td>\n",
              "      <td>0.013577</td>\n",
              "      <td>-0.077555</td>\n",
              "      <td>-2.480820</td>\n",
              "      <td>-0.756910</td>\n",
              "      <td>-0.121500</td>\n",
              "    </tr>\n",
              "    <tr>\n",
              "      <th>4</th>\n",
              "      <td>0</td>\n",
              "      <td>-0.002810</td>\n",
              "      <td>0.005402</td>\n",
              "      <td>0.016373</td>\n",
              "      <td>-0.059747</td>\n",
              "      <td>0.577835</td>\n",
              "      <td>0.278006</td>\n",
              "    </tr>\n",
              "    <tr>\n",
              "      <th>5</th>\n",
              "      <td>0</td>\n",
              "      <td>-0.002760</td>\n",
              "      <td>0.005402</td>\n",
              "      <td>0.021959</td>\n",
              "      <td>-0.262708</td>\n",
              "      <td>0.577835</td>\n",
              "      <td>0.273379</td>\n",
              "    </tr>\n",
              "    <tr>\n",
              "      <th>6</th>\n",
              "      <td>0</td>\n",
              "      <td>-0.000010</td>\n",
              "      <td>0.006071</td>\n",
              "      <td>0.030925</td>\n",
              "      <td>0.381259</td>\n",
              "      <td>-0.687890</td>\n",
              "      <td>-0.080940</td>\n",
              "    </tr>\n",
              "    <tr>\n",
              "      <th>7</th>\n",
              "      <td>0</td>\n",
              "      <td>0.001179</td>\n",
              "      <td>0.004634</td>\n",
              "      <td>-0.022492</td>\n",
              "      <td>0.806717</td>\n",
              "      <td>-0.719120</td>\n",
              "      <td>0.224582</td>\n",
              "    </tr>\n",
              "    <tr>\n",
              "      <th>8</th>\n",
              "      <td>1</td>\n",
              "      <td>-0.002400</td>\n",
              "      <td>0.006000</td>\n",
              "      <td>0.109514</td>\n",
              "      <td>0.845323</td>\n",
              "      <td>1.029173</td>\n",
              "      <td>0.228331</td>\n",
              "    </tr>\n",
              "    <tr>\n",
              "      <th>9</th>\n",
              "      <td>0</td>\n",
              "      <td>-0.001750</td>\n",
              "      <td>0.005932</td>\n",
              "      <td>0.090288</td>\n",
              "      <td>0.493467</td>\n",
              "      <td>1.097954</td>\n",
              "      <td>0.133737</td>\n",
              "    </tr>\n",
              "    <tr>\n",
              "      <th>10</th>\n",
              "      <td>0</td>\n",
              "      <td>0.001006</td>\n",
              "      <td>0.009563</td>\n",
              "      <td>-0.015819</td>\n",
              "      <td>-0.476458</td>\n",
              "      <td>-0.824670</td>\n",
              "      <td>-0.195530</td>\n",
              "    </tr>\n",
              "    <tr>\n",
              "      <th>11</th>\n",
              "      <td>1</td>\n",
              "      <td>0.001603</td>\n",
              "      <td>0.005571</td>\n",
              "      <td>-0.067299</td>\n",
              "      <td>-0.847488</td>\n",
              "      <td>-0.704960</td>\n",
              "      <td>-0.311720</td>\n",
              "    </tr>\n",
              "    <tr>\n",
              "      <th>12</th>\n",
              "      <td>0</td>\n",
              "      <td>0.001609</td>\n",
              "      <td>0.015821</td>\n",
              "      <td>-0.008849</td>\n",
              "      <td>-1.950413</td>\n",
              "      <td>-0.678720</td>\n",
              "      <td>-0.131960</td>\n",
              "    </tr>\n",
              "    <tr>\n",
              "      <th>13</th>\n",
              "      <td>1</td>\n",
              "      <td>-0.004120</td>\n",
              "      <td>0.006150</td>\n",
              "      <td>0.113729</td>\n",
              "      <td>0.732956</td>\n",
              "      <td>1.585313</td>\n",
              "      <td>0.146234</td>\n",
              "    </tr>\n",
              "    <tr>\n",
              "      <th>14</th>\n",
              "      <td>0</td>\n",
              "      <td>-0.000340</td>\n",
              "      <td>0.006167</td>\n",
              "      <td>-0.003732</td>\n",
              "      <td>0.196173</td>\n",
              "      <td>0.305641</td>\n",
              "      <td>-0.340590</td>\n",
              "    </tr>\n",
              "    <tr>\n",
              "      <th>15</th>\n",
              "      <td>0</td>\n",
              "      <td>-0.001760</td>\n",
              "      <td>-0.014193</td>\n",
              "      <td>0.075740</td>\n",
              "      <td>1.802629</td>\n",
              "      <td>0.312447</td>\n",
              "      <td>0.213932</td>\n",
              "    </tr>\n",
              "    <tr>\n",
              "      <th>16</th>\n",
              "      <td>0</td>\n",
              "      <td>-0.000031</td>\n",
              "      <td>-0.013794</td>\n",
              "      <td>-0.018632</td>\n",
              "      <td>2.880967</td>\n",
              "      <td>1.697339</td>\n",
              "      <td>0.090486</td>\n",
              "    </tr>\n",
              "    <tr>\n",
              "      <th>17</th>\n",
              "      <td>0</td>\n",
              "      <td>0.000560</td>\n",
              "      <td>-0.014390</td>\n",
              "      <td>-0.012611</td>\n",
              "      <td>2.007770</td>\n",
              "      <td>1.880980</td>\n",
              "      <td>0.058737</td>\n",
              "    </tr>\n",
              "    <tr>\n",
              "      <th>18</th>\n",
              "      <td>0</td>\n",
              "      <td>-0.000240</td>\n",
              "      <td>-0.013936</td>\n",
              "      <td>0.002100</td>\n",
              "      <td>1.657517</td>\n",
              "      <td>1.148936</td>\n",
              "      <td>0.056395</td>\n",
              "    </tr>\n",
              "    <tr>\n",
              "      <th>19</th>\n",
              "      <td>0</td>\n",
              "      <td>0.002838</td>\n",
              "      <td>-0.016823</td>\n",
              "      <td>0.019787</td>\n",
              "      <td>0.975107</td>\n",
              "      <td>1.003646</td>\n",
              "      <td>0.048942</td>\n",
              "    </tr>\n",
              "    <tr>\n",
              "      <th>20</th>\n",
              "      <td>0</td>\n",
              "      <td>-0.001240</td>\n",
              "      <td>-0.017717</td>\n",
              "      <td>0.030422</td>\n",
              "      <td>2.479246</td>\n",
              "      <td>0.928460</td>\n",
              "      <td>0.127419</td>\n",
              "    </tr>\n",
              "    <tr>\n",
              "      <th>21</th>\n",
              "      <td>0</td>\n",
              "      <td>-0.000910</td>\n",
              "      <td>-0.013483</td>\n",
              "      <td>0.103213</td>\n",
              "      <td>1.787943</td>\n",
              "      <td>0.703941</td>\n",
              "      <td>0.169502</td>\n",
              "    </tr>\n",
              "    <tr>\n",
              "      <th>22</th>\n",
              "      <td>0</td>\n",
              "      <td>0.000051</td>\n",
              "      <td>-0.008201</td>\n",
              "      <td>0.112808</td>\n",
              "      <td>2.505752</td>\n",
              "      <td>1.960587</td>\n",
              "      <td>-0.013740</td>\n",
              "    </tr>\n",
              "    <tr>\n",
              "      <th>23</th>\n",
              "      <td>0</td>\n",
              "      <td>-0.003130</td>\n",
              "      <td>-0.001511</td>\n",
              "      <td>0.109717</td>\n",
              "      <td>2.485413</td>\n",
              "      <td>2.183233</td>\n",
              "      <td>-0.069070</td>\n",
              "    </tr>\n",
              "    <tr>\n",
              "      <th>24</th>\n",
              "      <td>0</td>\n",
              "      <td>-0.000820</td>\n",
              "      <td>0.002606</td>\n",
              "      <td>-0.100164</td>\n",
              "      <td>1.301775</td>\n",
              "      <td>0.092805</td>\n",
              "      <td>0.213304</td>\n",
              "    </tr>\n",
              "    <tr>\n",
              "      <th>25</th>\n",
              "      <td>0</td>\n",
              "      <td>-0.001080</td>\n",
              "      <td>0.004192</td>\n",
              "      <td>0.048052</td>\n",
              "      <td>0.630137</td>\n",
              "      <td>-0.224920</td>\n",
              "      <td>-0.055740</td>\n",
              "    </tr>\n",
              "    <tr>\n",
              "      <th>26</th>\n",
              "      <td>0</td>\n",
              "      <td>-0.001990</td>\n",
              "      <td>0.007959</td>\n",
              "      <td>-0.021120</td>\n",
              "      <td>-0.330718</td>\n",
              "      <td>0.313012</td>\n",
              "      <td>0.195129</td>\n",
              "    </tr>\n",
              "    <tr>\n",
              "      <th>27</th>\n",
              "      <td>0</td>\n",
              "      <td>-0.002620</td>\n",
              "      <td>-0.003645</td>\n",
              "      <td>0.062814</td>\n",
              "      <td>-0.784803</td>\n",
              "      <td>-1.141370</td>\n",
              "      <td>-0.761250</td>\n",
              "    </tr>\n",
              "    <tr>\n",
              "      <th>28</th>\n",
              "      <td>0</td>\n",
              "      <td>-0.003280</td>\n",
              "      <td>-0.025240</td>\n",
              "      <td>0.146760</td>\n",
              "      <td>0.435716</td>\n",
              "      <td>0.956744</td>\n",
              "      <td>0.375518</td>\n",
              "    </tr>\n",
              "    <tr>\n",
              "      <th>29</th>\n",
              "      <td>0</td>\n",
              "      <td>0.002210</td>\n",
              "      <td>-0.000530</td>\n",
              "      <td>0.055754</td>\n",
              "      <td>1.249337</td>\n",
              "      <td>-0.519240</td>\n",
              "      <td>0.693649</td>\n",
              "    </tr>\n",
              "    <tr>\n",
              "      <th>30</th>\n",
              "      <td>0</td>\n",
              "      <td>-0.003510</td>\n",
              "      <td>-0.012668</td>\n",
              "      <td>0.045481</td>\n",
              "      <td>2.580335</td>\n",
              "      <td>1.539671</td>\n",
              "      <td>0.319655</td>\n",
              "    </tr>\n",
              "    <tr>\n",
              "      <th>31</th>\n",
              "      <td>0</td>\n",
              "      <td>-0.003510</td>\n",
              "      <td>-0.012668</td>\n",
              "      <td>0.045481</td>\n",
              "      <td>2.580335</td>\n",
              "      <td>1.539671</td>\n",
              "      <td>0.319764</td>\n",
              "    </tr>\n",
              "    <tr>\n",
              "      <th>32</th>\n",
              "      <td>0</td>\n",
              "      <td>-0.001820</td>\n",
              "      <td>-0.017053</td>\n",
              "      <td>0.064932</td>\n",
              "      <td>-1.441880</td>\n",
              "      <td>1.683146</td>\n",
              "      <td>0.417060</td>\n",
              "    </tr>\n",
              "    <tr>\n",
              "      <th>33</th>\n",
              "      <td>0</td>\n",
              "      <td>0.003424</td>\n",
              "      <td>0.005687</td>\n",
              "      <td>0.016161</td>\n",
              "      <td>-2.054705</td>\n",
              "      <td>3.828315</td>\n",
              "      <td>0.193179</td>\n",
              "    </tr>\n",
              "    <tr>\n",
              "      <th>34</th>\n",
              "      <td>0</td>\n",
              "      <td>-0.001870</td>\n",
              "      <td>0.013852</td>\n",
              "      <td>0.003016</td>\n",
              "      <td>0.267022</td>\n",
              "      <td>0.396368</td>\n",
              "      <td>-0.212040</td>\n",
              "    </tr>\n",
              "    <tr>\n",
              "      <th>35</th>\n",
              "      <td>0</td>\n",
              "      <td>-0.003410</td>\n",
              "      <td>0.015385</td>\n",
              "      <td>0.055900</td>\n",
              "      <td>1.350126</td>\n",
              "      <td>0.418147</td>\n",
              "      <td>0.318408</td>\n",
              "    </tr>\n",
              "    <tr>\n",
              "      <th>36</th>\n",
              "      <td>0</td>\n",
              "      <td>0.001568</td>\n",
              "      <td>0.016149</td>\n",
              "      <td>-0.034828</td>\n",
              "      <td>-0.639231</td>\n",
              "      <td>0.915747</td>\n",
              "      <td>0.012555</td>\n",
              "    </tr>\n",
              "    <tr>\n",
              "      <th>37</th>\n",
              "      <td>1</td>\n",
              "      <td>0.003009</td>\n",
              "      <td>0.010352</td>\n",
              "      <td>-0.071017</td>\n",
              "      <td>-3.011023</td>\n",
              "      <td>-0.857600</td>\n",
              "      <td>-0.362020</td>\n",
              "    </tr>\n",
              "    <tr>\n",
              "      <th>38</th>\n",
              "      <td>1</td>\n",
              "      <td>0.000970</td>\n",
              "      <td>0.007907</td>\n",
              "      <td>-0.021193</td>\n",
              "      <td>-1.891990</td>\n",
              "      <td>-1.568720</td>\n",
              "      <td>-0.233540</td>\n",
              "    </tr>\n",
              "    <tr>\n",
              "      <th>39</th>\n",
              "      <td>1</td>\n",
              "      <td>0.004510</td>\n",
              "      <td>0.010531</td>\n",
              "      <td>-0.092814</td>\n",
              "      <td>-2.897358</td>\n",
              "      <td>-0.419090</td>\n",
              "      <td>-0.360670</td>\n",
              "    </tr>\n",
              "    <tr>\n",
              "      <th>40</th>\n",
              "      <td>1</td>\n",
              "      <td>-0.002490</td>\n",
              "      <td>0.016458</td>\n",
              "      <td>0.065449</td>\n",
              "      <td>-0.674093</td>\n",
              "      <td>0.423211</td>\n",
              "      <td>-0.104530</td>\n",
              "    </tr>\n",
              "    <tr>\n",
              "      <th>41</th>\n",
              "      <td>1</td>\n",
              "      <td>0.002015</td>\n",
              "      <td>-0.005469</td>\n",
              "      <td>0.013261</td>\n",
              "      <td>1.686153</td>\n",
              "      <td>2.712957</td>\n",
              "      <td>0.094912</td>\n",
              "    </tr>\n",
              "    <tr>\n",
              "      <th>42</th>\n",
              "      <td>1</td>\n",
              "      <td>0.000355</td>\n",
              "      <td>0.008073</td>\n",
              "      <td>-0.118880</td>\n",
              "      <td>0.573251</td>\n",
              "      <td>-0.208240</td>\n",
              "      <td>0.550143</td>\n",
              "    </tr>\n",
              "    <tr>\n",
              "      <th>43</th>\n",
              "      <td>1</td>\n",
              "      <td>0.001272</td>\n",
              "      <td>0.002914</td>\n",
              "      <td>-0.013157</td>\n",
              "      <td>-0.172361</td>\n",
              "      <td>-1.963790</td>\n",
              "      <td>-0.269870</td>\n",
              "    </tr>\n",
              "    <tr>\n",
              "      <th>44</th>\n",
              "      <td>1</td>\n",
              "      <td>0.005844</td>\n",
              "      <td>0.006917</td>\n",
              "      <td>-0.068927</td>\n",
              "      <td>0.860664</td>\n",
              "      <td>-2.555320</td>\n",
              "      <td>-0.327000</td>\n",
              "    </tr>\n",
              "    <tr>\n",
              "      <th>45</th>\n",
              "      <td>1</td>\n",
              "      <td>0.000196</td>\n",
              "      <td>-0.012860</td>\n",
              "      <td>-0.033680</td>\n",
              "      <td>1.991456</td>\n",
              "      <td>2.090065</td>\n",
              "      <td>0.204619</td>\n",
              "    </tr>\n",
              "    <tr>\n",
              "      <th>46</th>\n",
              "      <td>1</td>\n",
              "      <td>-0.000690</td>\n",
              "      <td>0.000682</td>\n",
              "      <td>-0.066152</td>\n",
              "      <td>1.976231</td>\n",
              "      <td>0.679674</td>\n",
              "      <td>0.318243</td>\n",
              "    </tr>\n",
              "    <tr>\n",
              "      <th>47</th>\n",
              "      <td>1</td>\n",
              "      <td>-0.001120</td>\n",
              "      <td>-0.016118</td>\n",
              "      <td>0.049230</td>\n",
              "      <td>0.860964</td>\n",
              "      <td>0.915314</td>\n",
              "      <td>0.000863</td>\n",
              "    </tr>\n",
              "    <tr>\n",
              "      <th>48</th>\n",
              "      <td>1</td>\n",
              "      <td>-0.001530</td>\n",
              "      <td>-0.005692</td>\n",
              "      <td>-0.106042</td>\n",
              "      <td>-0.435856</td>\n",
              "      <td>0.556777</td>\n",
              "      <td>-0.108280</td>\n",
              "    </tr>\n",
              "    <tr>\n",
              "      <th>49</th>\n",
              "      <td>1</td>\n",
              "      <td>0.001075</td>\n",
              "      <td>-0.004181</td>\n",
              "      <td>-0.096706</td>\n",
              "      <td>-1.371843</td>\n",
              "      <td>-0.844430</td>\n",
              "      <td>-0.177130</td>\n",
              "    </tr>\n",
              "    <tr>\n",
              "      <th>50</th>\n",
              "      <td>1</td>\n",
              "      <td>-0.005070</td>\n",
              "      <td>0.005909</td>\n",
              "      <td>0.029881</td>\n",
              "      <td>-1.150525</td>\n",
              "      <td>-2.275600</td>\n",
              "      <td>-0.125230</td>\n",
              "    </tr>\n",
              "  </tbody>\n",
              "</table>\n",
              "</div>\n",
              "      <button class=\"colab-df-convert\" onclick=\"convertToInteractive('df-1de383e0-2c44-436e-8fde-76715a98a040')\"\n",
              "              title=\"Convert this dataframe to an interactive table.\"\n",
              "              style=\"display:none;\">\n",
              "        \n",
              "  <svg xmlns=\"http://www.w3.org/2000/svg\" height=\"24px\"viewBox=\"0 0 24 24\"\n",
              "       width=\"24px\">\n",
              "    <path d=\"M0 0h24v24H0V0z\" fill=\"none\"/>\n",
              "    <path d=\"M18.56 5.44l.94 2.06.94-2.06 2.06-.94-2.06-.94-.94-2.06-.94 2.06-2.06.94zm-11 1L8.5 8.5l.94-2.06 2.06-.94-2.06-.94L8.5 2.5l-.94 2.06-2.06.94zm10 10l.94 2.06.94-2.06 2.06-.94-2.06-.94-.94-2.06-.94 2.06-2.06.94z\"/><path d=\"M17.41 7.96l-1.37-1.37c-.4-.4-.92-.59-1.43-.59-.52 0-1.04.2-1.43.59L10.3 9.45l-7.72 7.72c-.78.78-.78 2.05 0 2.83L4 21.41c.39.39.9.59 1.41.59.51 0 1.02-.2 1.41-.59l7.78-7.78 2.81-2.81c.8-.78.8-2.07 0-2.86zM5.41 20L4 18.59l7.72-7.72 1.47 1.35L5.41 20z\"/>\n",
              "  </svg>\n",
              "      </button>\n",
              "      \n",
              "  <style>\n",
              "    .colab-df-container {\n",
              "      display:flex;\n",
              "      flex-wrap:wrap;\n",
              "      gap: 12px;\n",
              "    }\n",
              "\n",
              "    .colab-df-convert {\n",
              "      background-color: #E8F0FE;\n",
              "      border: none;\n",
              "      border-radius: 50%;\n",
              "      cursor: pointer;\n",
              "      display: none;\n",
              "      fill: #1967D2;\n",
              "      height: 32px;\n",
              "      padding: 0 0 0 0;\n",
              "      width: 32px;\n",
              "    }\n",
              "\n",
              "    .colab-df-convert:hover {\n",
              "      background-color: #E2EBFA;\n",
              "      box-shadow: 0px 1px 2px rgba(60, 64, 67, 0.3), 0px 1px 3px 1px rgba(60, 64, 67, 0.15);\n",
              "      fill: #174EA6;\n",
              "    }\n",
              "\n",
              "    [theme=dark] .colab-df-convert {\n",
              "      background-color: #3B4455;\n",
              "      fill: #D2E3FC;\n",
              "    }\n",
              "\n",
              "    [theme=dark] .colab-df-convert:hover {\n",
              "      background-color: #434B5C;\n",
              "      box-shadow: 0px 1px 3px 1px rgba(0, 0, 0, 0.15);\n",
              "      filter: drop-shadow(0px 1px 2px rgba(0, 0, 0, 0.3));\n",
              "      fill: #FFFFFF;\n",
              "    }\n",
              "  </style>\n",
              "\n",
              "      <script>\n",
              "        const buttonEl =\n",
              "          document.querySelector('#df-1de383e0-2c44-436e-8fde-76715a98a040 button.colab-df-convert');\n",
              "        buttonEl.style.display =\n",
              "          google.colab.kernel.accessAllowed ? 'block' : 'none';\n",
              "\n",
              "        async function convertToInteractive(key) {\n",
              "          const element = document.querySelector('#df-1de383e0-2c44-436e-8fde-76715a98a040');\n",
              "          const dataTable =\n",
              "            await google.colab.kernel.invokeFunction('convertToInteractive',\n",
              "                                                     [key], {});\n",
              "          if (!dataTable) return;\n",
              "\n",
              "          const docLinkHtml = 'Like what you see? Visit the ' +\n",
              "            '<a target=\"_blank\" href=https://colab.research.google.com/notebooks/data_table.ipynb>data table notebook</a>'\n",
              "            + ' to learn more about interactive tables.';\n",
              "          element.innerHTML = '';\n",
              "          dataTable['output_type'] = 'display_data';\n",
              "          await google.colab.output.renderOutput(dataTable, element);\n",
              "          const docLink = document.createElement('div');\n",
              "          docLink.innerHTML = docLinkHtml;\n",
              "          element.appendChild(docLink);\n",
              "        }\n",
              "      </script>\n",
              "    </div>\n",
              "  </div>\n",
              "  "
            ],
            "text/plain": [
              "    Cs_longia     AXE11     AXE12      AXE2      AXE3      AXE4      AXE5\n",
              "0           0 -0.001640  0.011923  0.102308 -1.801407 -0.832450  0.062173\n",
              "1           1 -0.005890  0.007865  0.008081 -1.369971 -0.792410 -0.012560\n",
              "2           1 -0.005890  0.007865  0.008081 -1.369971 -0.792410 -0.012560\n",
              "3           1  0.000629  0.013577 -0.077555 -2.480820 -0.756910 -0.121500\n",
              "4           0 -0.002810  0.005402  0.016373 -0.059747  0.577835  0.278006\n",
              "5           0 -0.002760  0.005402  0.021959 -0.262708  0.577835  0.273379\n",
              "6           0 -0.000010  0.006071  0.030925  0.381259 -0.687890 -0.080940\n",
              "7           0  0.001179  0.004634 -0.022492  0.806717 -0.719120  0.224582\n",
              "8           1 -0.002400  0.006000  0.109514  0.845323  1.029173  0.228331\n",
              "9           0 -0.001750  0.005932  0.090288  0.493467  1.097954  0.133737\n",
              "10          0  0.001006  0.009563 -0.015819 -0.476458 -0.824670 -0.195530\n",
              "11          1  0.001603  0.005571 -0.067299 -0.847488 -0.704960 -0.311720\n",
              "12          0  0.001609  0.015821 -0.008849 -1.950413 -0.678720 -0.131960\n",
              "13          1 -0.004120  0.006150  0.113729  0.732956  1.585313  0.146234\n",
              "14          0 -0.000340  0.006167 -0.003732  0.196173  0.305641 -0.340590\n",
              "15          0 -0.001760 -0.014193  0.075740  1.802629  0.312447  0.213932\n",
              "16          0 -0.000031 -0.013794 -0.018632  2.880967  1.697339  0.090486\n",
              "17          0  0.000560 -0.014390 -0.012611  2.007770  1.880980  0.058737\n",
              "18          0 -0.000240 -0.013936  0.002100  1.657517  1.148936  0.056395\n",
              "19          0  0.002838 -0.016823  0.019787  0.975107  1.003646  0.048942\n",
              "20          0 -0.001240 -0.017717  0.030422  2.479246  0.928460  0.127419\n",
              "21          0 -0.000910 -0.013483  0.103213  1.787943  0.703941  0.169502\n",
              "22          0  0.000051 -0.008201  0.112808  2.505752  1.960587 -0.013740\n",
              "23          0 -0.003130 -0.001511  0.109717  2.485413  2.183233 -0.069070\n",
              "24          0 -0.000820  0.002606 -0.100164  1.301775  0.092805  0.213304\n",
              "25          0 -0.001080  0.004192  0.048052  0.630137 -0.224920 -0.055740\n",
              "26          0 -0.001990  0.007959 -0.021120 -0.330718  0.313012  0.195129\n",
              "27          0 -0.002620 -0.003645  0.062814 -0.784803 -1.141370 -0.761250\n",
              "28          0 -0.003280 -0.025240  0.146760  0.435716  0.956744  0.375518\n",
              "29          0  0.002210 -0.000530  0.055754  1.249337 -0.519240  0.693649\n",
              "30          0 -0.003510 -0.012668  0.045481  2.580335  1.539671  0.319655\n",
              "31          0 -0.003510 -0.012668  0.045481  2.580335  1.539671  0.319764\n",
              "32          0 -0.001820 -0.017053  0.064932 -1.441880  1.683146  0.417060\n",
              "33          0  0.003424  0.005687  0.016161 -2.054705  3.828315  0.193179\n",
              "34          0 -0.001870  0.013852  0.003016  0.267022  0.396368 -0.212040\n",
              "35          0 -0.003410  0.015385  0.055900  1.350126  0.418147  0.318408\n",
              "36          0  0.001568  0.016149 -0.034828 -0.639231  0.915747  0.012555\n",
              "37          1  0.003009  0.010352 -0.071017 -3.011023 -0.857600 -0.362020\n",
              "38          1  0.000970  0.007907 -0.021193 -1.891990 -1.568720 -0.233540\n",
              "39          1  0.004510  0.010531 -0.092814 -2.897358 -0.419090 -0.360670\n",
              "40          1 -0.002490  0.016458  0.065449 -0.674093  0.423211 -0.104530\n",
              "41          1  0.002015 -0.005469  0.013261  1.686153  2.712957  0.094912\n",
              "42          1  0.000355  0.008073 -0.118880  0.573251 -0.208240  0.550143\n",
              "43          1  0.001272  0.002914 -0.013157 -0.172361 -1.963790 -0.269870\n",
              "44          1  0.005844  0.006917 -0.068927  0.860664 -2.555320 -0.327000\n",
              "45          1  0.000196 -0.012860 -0.033680  1.991456  2.090065  0.204619\n",
              "46          1 -0.000690  0.000682 -0.066152  1.976231  0.679674  0.318243\n",
              "47          1 -0.001120 -0.016118  0.049230  0.860964  0.915314  0.000863\n",
              "48          1 -0.001530 -0.005692 -0.106042 -0.435856  0.556777 -0.108280\n",
              "49          1  0.001075 -0.004181 -0.096706 -1.371843 -0.844430 -0.177130\n",
              "50          1 -0.005070  0.005909  0.029881 -1.150525 -2.275600 -0.125230"
            ]
          },
          "metadata": {},
          "execution_count": 5
        }
      ]
    },
    {
      "cell_type": "code",
      "metadata": {
        "id": "WlXmEfpym-Hm"
      },
      "source": [
        "X_app = apprentissage.loc[:, apprentissage.columns != 'Cs_longia']\n",
        "Y_app = apprentissage.Cs_longia\n",
        "X_test = test.loc[:, test.columns != 'Cs_longia']\n",
        "Y_test = test.Cs_longia"
      ],
      "execution_count": 6,
      "outputs": []
    },
    {
      "cell_type": "code",
      "source": [
        "###Recall\n",
        "def recall(y_test, preds):\n",
        "  recall=recall_score(y_test, preds)\n",
        "  return recall\n",
        "def MCC(y_test, preds):\n",
        "  MCC= matthews_corrcoef(y_test, preds) \n",
        "  return MCC\n",
        "### MCC\n",
        "def MCC(y_test, preds):\n",
        "  MCC= matthews_corrcoef(y_test, preds) \n",
        "  return MCC\n",
        "### sensibilite\n",
        "def sensibilite(y_test, preds):\n",
        "  cf_matrix = confusion_matrix(y_test, preds)\n",
        "  sensibilite =  (cf_matrix[1,1])/(cf_matrix[1,1]+cf_matrix[1,0])\n",
        "  return sensibilite\n",
        "### specifite \n",
        "def specifite(y_test, preds):\n",
        "  cf_matrix = confusion_matrix(y_test, preds)\n",
        "  specifite =  (cf_matrix[0,0])/(cf_matrix[0,0]+cf_matrix[0,1])\n",
        "  return specifite \n",
        "### kappa\n",
        "def kappa(y_test, preds):\n",
        "  value = cohen_kappa_score(y_test, preds)\n",
        "  return value\n",
        "### balancedacc\n",
        "def balancedacc(y_test, preds):\n",
        "  cf_matrix = confusion_matrix(y_test, preds)\n",
        "  sen = (cf_matrix[1,1])/(cf_matrix[1,1]+cf_matrix[0,1])\n",
        "  spe = (cf_matrix[0,0])/(cf_matrix[0,0]+cf_matrix[1,0])\n",
        "  value = (sen + spe)/2\n",
        "  return value\n",
        "def présicion_positive(y_test, preds):\n",
        "  cf_matrix = confusion_matrix(y_test, preds)\n",
        "  pre_pos =  (cf_matrix[1,1])/(cf_matrix[1,1]+cf_matrix[0,1])\n",
        "  return pre_pos\n",
        "def présicion_négative(y_test, preds):\n",
        "  cf_matrix = confusion_matrix(y_test, preds)\n",
        "  pre_pos =  (cf_matrix[0,0])/(cf_matrix[0,0]+cf_matrix[1,0])\n",
        "  return pre_pos\n",
        "  \n",
        "### courbe roc\n",
        "def plot_roc_curve(fper, tper):\n",
        "    plt.plot(fper, tper, color='red', label='ROC')\n",
        "    plt.plot([0, 1], [0, 1], color='green', linestyle='--')\n",
        "    plt.xlabel('False Positive Rate')\n",
        "    plt.ylabel('True Positive Rate')\n",
        "    plt.title('Receiver Operating Characteristic Curve')\n",
        "    plt.legend()\n",
        "    plt.show()"
      ],
      "metadata": {
        "id": "qrC7O3EJrsW1"
      },
      "execution_count": 7,
      "outputs": []
    },
    {
      "cell_type": "markdown",
      "source": [
        "# Xgboost"
      ],
      "metadata": {
        "id": "EoDDOOV9ryOR"
      }
    },
    {
      "cell_type": "code",
      "source": [
        "Classifier1 = XGBClassifier(scale_pos_weight=1,learning_rate=0.5,max_depth=5,n_estimators=150,objective=\"binary:logistic\")"
      ],
      "metadata": {
        "id": "1SJ1uJTusZuA"
      },
      "execution_count": 191,
      "outputs": []
    },
    {
      "cell_type": "code",
      "source": [
        "# get a list of models to evaluate\n",
        "def get_models1():\n",
        "\tmodels = dict()\n",
        "\tfor i in range(2, 7):\n",
        "\t\trfe = RFE(Classifier1, n_features_to_select=i)\n",
        "\t\tmodels[str(i)] = Pipeline(steps=[('s',rfe),('m',Classifier1)])\n",
        "\treturn models"
      ],
      "metadata": {
        "id": "cgNWt7OuvN8t"
      },
      "execution_count": 218,
      "outputs": []
    },
    {
      "cell_type": "code",
      "source": [
        "# get the models to evaluate\n",
        "models1 = get_models1()\n",
        "# evaluate the models and store results\n",
        "results, names = list(), list()\n",
        "for name, model in models1.items():\n",
        "  model.fit(X_app, Y_app)\n",
        "  preds = model.predict(X_test)\n",
        "  score = MCC(Y_test, preds)\n",
        "  results.append(score)\n",
        "  names.append(name)\n",
        "  print('- %s :  %.3f' % (name,score))"
      ],
      "metadata": {
        "colab": {
          "base_uri": "https://localhost:8080/"
        },
        "id": "8xgEl1pSvTUN",
        "outputId": "e18c097a-2d5a-456e-f937-de379a1daa90"
      },
      "execution_count": 219,
      "outputs": [
        {
          "output_type": "stream",
          "name": "stdout",
          "text": [
            "- 2 :  0.331\n",
            "- 3 :  0.342\n",
            "- 4 :  0.260\n",
            "- 5 :  0.260\n",
            "- 6 :  0.295\n"
          ]
        }
      ]
    },
    {
      "cell_type": "code",
      "source": [
        "# create pipeline\n",
        "rfe1 = RFE(estimator=Classifier1, n_features_to_select=3)\n",
        "pipeline1 = Pipeline(steps=[('s',rfe1),('m',Classifier1)])\n",
        "# fit the model \n",
        "pipeline1.fit(X_app, Y_app)"
      ],
      "metadata": {
        "colab": {
          "base_uri": "https://localhost:8080/"
        },
        "id": "xVv0V37CrsZS",
        "outputId": "cbb87720-0581-4d37-cd23-965ec63617a2"
      },
      "execution_count": 226,
      "outputs": [
        {
          "output_type": "execute_result",
          "data": {
            "text/plain": [
              "Pipeline(steps=[('s',\n",
              "                 RFE(estimator=XGBClassifier(learning_rate=0.5, max_depth=5,\n",
              "                                             n_estimators=150),\n",
              "                     n_features_to_select=3)),\n",
              "                ('m',\n",
              "                 XGBClassifier(learning_rate=0.5, max_depth=5,\n",
              "                               n_estimators=150))])"
            ]
          },
          "metadata": {},
          "execution_count": 226
        }
      ]
    },
    {
      "cell_type": "code",
      "source": [
        "pipeline1[\"s\"].support_"
      ],
      "metadata": {
        "colab": {
          "base_uri": "https://localhost:8080/"
        },
        "id": "qLXozSSZssfU",
        "outputId": "884bb2a9-0073-4fd4-c194-33008f35c8c3"
      },
      "execution_count": 227,
      "outputs": [
        {
          "output_type": "execute_result",
          "data": {
            "text/plain": [
              "array([ True, False,  True, False, False,  True])"
            ]
          },
          "metadata": {},
          "execution_count": 227
        }
      ]
    },
    {
      "cell_type": "code",
      "metadata": {
        "id": "mpZMF-EhTV0N"
      },
      "source": [
        "preds1 = pipeline1.predict(X_test)"
      ],
      "execution_count": 228,
      "outputs": []
    },
    {
      "cell_type": "code",
      "metadata": {
        "id": "wfCXrkA0TV0O",
        "colab": {
          "base_uri": "https://localhost:8080/"
        },
        "outputId": "8f9e2b8f-f1b8-4147-cf05-dfb7b6503973"
      },
      "source": [
        "preds1"
      ],
      "execution_count": 229,
      "outputs": [
        {
          "output_type": "execute_result",
          "data": {
            "text/plain": [
              "array([0, 0, 0, 1, 0, 0, 0, 1, 0, 0, 1, 1, 1, 0, 1, 0, 1, 0, 0, 1, 0, 0,\n",
              "       0, 0, 0, 0, 0, 0, 0, 0, 0, 0, 0, 1, 0, 0, 1, 1, 1, 1, 0, 1, 1, 1,\n",
              "       1, 1, 0, 0, 1, 1, 0])"
            ]
          },
          "metadata": {},
          "execution_count": 229
        }
      ]
    },
    {
      "cell_type": "code",
      "metadata": {
        "colab": {
          "base_uri": "https://localhost:8080/"
        },
        "outputId": "66df3ea4-8259-4127-e3dd-d37c32c9f3a5",
        "id": "-kxBDaKxzO2e"
      },
      "source": [
        "cf_matrix = confusion_matrix(Y_test, preds1)\n",
        "print(cf_matrix)"
      ],
      "execution_count": 230,
      "outputs": [
        {
          "output_type": "stream",
          "name": "stdout",
          "text": [
            "[[23  8]\n",
            " [ 8 12]]\n"
          ]
        }
      ]
    },
    {
      "cell_type": "code",
      "source": [
        "MCC(Y_test, preds1)"
      ],
      "metadata": {
        "colab": {
          "base_uri": "https://localhost:8080/"
        },
        "id": "0YKjN3KXIaz7",
        "outputId": "cfef9adf-ed5f-430f-d8ce-fcd3a2f3d0a3"
      },
      "execution_count": 231,
      "outputs": [
        {
          "output_type": "execute_result",
          "data": {
            "text/plain": [
              "0.3419354838709677"
            ]
          },
          "metadata": {},
          "execution_count": 231
        }
      ]
    },
    {
      "cell_type": "code",
      "source": [
        "recall(Y_test, preds1)"
      ],
      "metadata": {
        "colab": {
          "base_uri": "https://localhost:8080/"
        },
        "id": "y5XZY6B2JD9D",
        "outputId": "c1f339fd-2000-40a4-cedd-a8130f312cf1"
      },
      "execution_count": 232,
      "outputs": [
        {
          "output_type": "execute_result",
          "data": {
            "text/plain": [
              "0.6"
            ]
          },
          "metadata": {},
          "execution_count": 232
        }
      ]
    },
    {
      "cell_type": "code",
      "source": [
        "sensibilite(Y_test, preds1)"
      ],
      "metadata": {
        "colab": {
          "base_uri": "https://localhost:8080/"
        },
        "id": "kqSk6bUfJD_T",
        "outputId": "8e6da3b1-4f49-434a-fc54-9ad670706b21"
      },
      "execution_count": 233,
      "outputs": [
        {
          "output_type": "execute_result",
          "data": {
            "text/plain": [
              "0.6"
            ]
          },
          "metadata": {},
          "execution_count": 233
        }
      ]
    },
    {
      "cell_type": "code",
      "source": [
        "specifite(Y_test, preds1)"
      ],
      "metadata": {
        "colab": {
          "base_uri": "https://localhost:8080/"
        },
        "id": "pNQ0SMEcJEBk",
        "outputId": "39c977ae-8252-4c40-928f-a1da60f24abd"
      },
      "execution_count": 234,
      "outputs": [
        {
          "output_type": "execute_result",
          "data": {
            "text/plain": [
              "0.7419354838709677"
            ]
          },
          "metadata": {},
          "execution_count": 234
        }
      ]
    },
    {
      "cell_type": "code",
      "source": [
        "présicion_négative(Y_test, preds1)"
      ],
      "metadata": {
        "colab": {
          "base_uri": "https://localhost:8080/"
        },
        "id": "H2OR9PEknpHB",
        "outputId": "6f45d770-418f-40d7-d8d1-5e043b830327"
      },
      "execution_count": 235,
      "outputs": [
        {
          "output_type": "execute_result",
          "data": {
            "text/plain": [
              "0.7419354838709677"
            ]
          },
          "metadata": {},
          "execution_count": 235
        }
      ]
    },
    {
      "cell_type": "code",
      "source": [
        "présicion_positive(Y_test, preds1)"
      ],
      "metadata": {
        "colab": {
          "base_uri": "https://localhost:8080/"
        },
        "id": "5F8mvboxno-8",
        "outputId": "d09c7adb-f697-44f3-8e57-d1221131774e"
      },
      "execution_count": 236,
      "outputs": [
        {
          "output_type": "execute_result",
          "data": {
            "text/plain": [
              "0.6"
            ]
          },
          "metadata": {},
          "execution_count": 236
        }
      ]
    },
    {
      "cell_type": "code",
      "source": [
        "balancedacc(Y_test, preds1)"
      ],
      "metadata": {
        "colab": {
          "base_uri": "https://localhost:8080/"
        },
        "id": "ZBb1_XQDnxip",
        "outputId": "87cfecb7-b4fb-431e-e85c-dbfb008590de"
      },
      "execution_count": 237,
      "outputs": [
        {
          "output_type": "execute_result",
          "data": {
            "text/plain": [
              "0.6709677419354838"
            ]
          },
          "metadata": {},
          "execution_count": 237
        }
      ]
    },
    {
      "cell_type": "code",
      "source": [
        "kappa(Y_test, preds1)"
      ],
      "metadata": {
        "colab": {
          "base_uri": "https://localhost:8080/"
        },
        "id": "Oov8iFSGop2F",
        "outputId": "4ac90867-146e-4131-94bc-17a4f1d377f6"
      },
      "execution_count": 238,
      "outputs": [
        {
          "output_type": "execute_result",
          "data": {
            "text/plain": [
              "0.3419354838709677"
            ]
          },
          "metadata": {},
          "execution_count": 238
        }
      ]
    },
    {
      "cell_type": "code",
      "source": [
        "y_pred_proba = pipeline1.predict_proba(X_test)[::,1]\n",
        "fpr, tpr, _ = metrics.roc_curve(Y_test,  y_pred_proba)\n",
        "auc = metrics.roc_auc_score(Y_test, y_pred_proba)\n",
        "plt.plot(fpr,tpr,label=\"xgboost, auc=\"+str(auc))\n",
        "plt.legend(loc=4)\n",
        "plt.show()"
      ],
      "metadata": {
        "colab": {
          "base_uri": "https://localhost:8080/",
          "height": 265
        },
        "id": "eOzFa818Ia2R",
        "outputId": "d76c1abb-76aa-4b6f-8da2-ae1cbf623287"
      },
      "execution_count": 239,
      "outputs": [
        {
          "output_type": "display_data",
          "data": {
            "image/png": "[encoded data removed]",
            "text/plain": [
              "<Figure size 432x288 with 1 Axes>"
            ]
          },
          "metadata": {
            "needs_background": "light"
          }
        }
      ]
    },
    {
      "cell_type": "markdown",
      "source": [
        "# Logistique"
      ],
      "metadata": {
        "id": "yuZrcmR48gGR"
      }
    },
    {
      "cell_type": "code",
      "source": [
        "Classifier2 = LogisticRegression(max_iter=100, solver='lbfgs', class_weight='balanced')"
      ],
      "metadata": {
        "id": "Wbqzw4Yw8e87"
      },
      "execution_count": 241,
      "outputs": []
    },
    {
      "cell_type": "code",
      "source": [
        "# get a list of models to evaluate\n",
        "def get_models2():\n",
        "\tmodels = dict()\n",
        "\tfor i in range(2, 7):\n",
        "\t\trfe = RFE(Classifier2, n_features_to_select=i)\n",
        "\t\tmodels[str(i)] = Pipeline(steps=[('s',rfe),('m',Classifier2)])\n",
        "\treturn models"
      ],
      "metadata": {
        "id": "uccYZbj78e88"
      },
      "execution_count": 242,
      "outputs": []
    },
    {
      "cell_type": "code",
      "source": [
        "# get the models to evaluate\n",
        "models2 = get_models2()\n",
        "# evaluate the models and store results\n",
        "results, names = list(), list()\n",
        "for name, model in models2.items():\n",
        "  model.fit(X_app, Y_app)\n",
        "  preds = model.predict(X_test)\n",
        "  score = MCC(Y_test, preds)\n",
        "  results.append(score)\n",
        "  names.append(name)\n",
        "  print('- %s :  %.3f' % (name,score))"
      ],
      "metadata": {
        "colab": {
          "base_uri": "https://localhost:8080/"
        },
        "outputId": "05a4f8b2-f9f3-47ad-b378-7148d8074391",
        "id": "UmucjM_z8e88"
      },
      "execution_count": 243,
      "outputs": [
        {
          "output_type": "stream",
          "name": "stdout",
          "text": [
            "- 2 :  0.355\n",
            "- 3 :  0.389\n",
            "- 4 :  0.389\n",
            "- 5 :  0.389\n",
            "- 6 :  0.389\n"
          ]
        }
      ]
    },
    {
      "cell_type": "code",
      "source": [
        "# create pipeline\n",
        "rfe2 = RFE(estimator=Classifier2, n_features_to_select=3)\n",
        "pipeline2 = Pipeline(steps=[('s',rfe2),('m',Classifier2)])\n",
        "# fit the model \n",
        "pipeline2.fit(X_app, Y_app)"
      ],
      "metadata": {
        "colab": {
          "base_uri": "https://localhost:8080/"
        },
        "outputId": "c6aaf709-60f7-4d7d-a1b4-60063f86d591",
        "id": "sJJ_hGdI8e88"
      },
      "execution_count": 244,
      "outputs": [
        {
          "output_type": "execute_result",
          "data": {
            "text/plain": [
              "Pipeline(steps=[('s',\n",
              "                 RFE(estimator=LogisticRegression(class_weight='balanced'),\n",
              "                     n_features_to_select=3)),\n",
              "                ('m', LogisticRegression(class_weight='balanced'))])"
            ]
          },
          "metadata": {},
          "execution_count": 244
        }
      ]
    },
    {
      "cell_type": "code",
      "source": [
        "pipeline2[\"s\"].support_"
      ],
      "metadata": {
        "colab": {
          "base_uri": "https://localhost:8080/"
        },
        "outputId": "1bf60616-e1a7-4c9c-8784-91ca22eb94f8",
        "id": "ccLBbbnB8e8-"
      },
      "execution_count": 245,
      "outputs": [
        {
          "output_type": "execute_result",
          "data": {
            "text/plain": [
              "array([False, False,  True, False,  True,  True])"
            ]
          },
          "metadata": {},
          "execution_count": 245
        }
      ]
    },
    {
      "cell_type": "code",
      "metadata": {
        "id": "4bczmFHG8e8-"
      },
      "source": [
        "preds2 = pipeline2.predict(X_test)"
      ],
      "execution_count": 246,
      "outputs": []
    },
    {
      "cell_type": "code",
      "metadata": {
        "colab": {
          "base_uri": "https://localhost:8080/"
        },
        "outputId": "a0e422e6-1587-4948-c996-0b088e06df33",
        "id": "5cVqLxPC8e8-"
      },
      "source": [
        "preds2"
      ],
      "execution_count": 247,
      "outputs": [
        {
          "output_type": "execute_result",
          "data": {
            "text/plain": [
              "array([1, 1, 1, 1, 0, 0, 1, 0, 0, 0, 1, 1, 1, 0, 1, 0, 0, 0, 0, 0, 0, 0,\n",
              "       0, 0, 0, 1, 0, 1, 0, 0, 0, 0, 0, 0, 1, 0, 0, 1, 1, 1, 1, 0, 0, 1,\n",
              "       1, 0, 0, 0, 1, 1, 1])"
            ]
          },
          "metadata": {},
          "execution_count": 247
        }
      ]
    },
    {
      "cell_type": "code",
      "metadata": {
        "colab": {
          "base_uri": "https://localhost:8080/"
        },
        "outputId": "a2fcabe2-772a-40f4-8ef6-a7f34ed97639",
        "id": "G_jj0nRr8e8_"
      },
      "source": [
        "cf_matrix = confusion_matrix(Y_test, preds2)\n",
        "print(cf_matrix)"
      ],
      "execution_count": 248,
      "outputs": [
        {
          "output_type": "stream",
          "name": "stdout",
          "text": [
            "[[23  8]\n",
            " [ 7 13]]\n"
          ]
        }
      ]
    },
    {
      "cell_type": "code",
      "source": [
        "MCC(Y_test, preds2)"
      ],
      "metadata": {
        "colab": {
          "base_uri": "https://localhost:8080/"
        },
        "outputId": "8c17c615-87a2-4d15-a442-f1846c52377c",
        "id": "fCycv5Aw8e8_"
      },
      "execution_count": 249,
      "outputs": [
        {
          "output_type": "execute_result",
          "data": {
            "text/plain": [
              "0.38881244219722866"
            ]
          },
          "metadata": {},
          "execution_count": 249
        }
      ]
    },
    {
      "cell_type": "code",
      "source": [
        "recall(Y_test, preds2)"
      ],
      "metadata": {
        "colab": {
          "base_uri": "https://localhost:8080/"
        },
        "outputId": "e1ebf3bb-f5f2-4176-9048-afaa440a2481",
        "id": "kcr4pjWi8e8_"
      },
      "execution_count": 250,
      "outputs": [
        {
          "output_type": "execute_result",
          "data": {
            "text/plain": [
              "0.65"
            ]
          },
          "metadata": {},
          "execution_count": 250
        }
      ]
    },
    {
      "cell_type": "code",
      "source": [
        "sensibilite(Y_test, preds2)"
      ],
      "metadata": {
        "colab": {
          "base_uri": "https://localhost:8080/"
        },
        "outputId": "ee4df158-6a8f-40bb-a3bb-2aa2737a4f0c",
        "id": "k-v1iZRv8e9A"
      },
      "execution_count": 251,
      "outputs": [
        {
          "output_type": "execute_result",
          "data": {
            "text/plain": [
              "0.65"
            ]
          },
          "metadata": {},
          "execution_count": 251
        }
      ]
    },
    {
      "cell_type": "code",
      "source": [
        "specifite(Y_test, preds2)"
      ],
      "metadata": {
        "colab": {
          "base_uri": "https://localhost:8080/"
        },
        "outputId": "528673d3-ba32-4b1c-f531-652f61d40eb4",
        "id": "ez9K_IRT8e9A"
      },
      "execution_count": 252,
      "outputs": [
        {
          "output_type": "execute_result",
          "data": {
            "text/plain": [
              "0.7419354838709677"
            ]
          },
          "metadata": {},
          "execution_count": 252
        }
      ]
    },
    {
      "cell_type": "code",
      "source": [
        "présicion_négative(Y_test, preds2)"
      ],
      "metadata": {
        "colab": {
          "base_uri": "https://localhost:8080/"
        },
        "outputId": "731b8be9-50e0-4b21-c1ea-933bb5adc77d",
        "id": "t1WLtMh18e9B"
      },
      "execution_count": 253,
      "outputs": [
        {
          "output_type": "execute_result",
          "data": {
            "text/plain": [
              "0.7666666666666667"
            ]
          },
          "metadata": {},
          "execution_count": 253
        }
      ]
    },
    {
      "cell_type": "code",
      "source": [
        "présicion_positive(Y_test, preds2)"
      ],
      "metadata": {
        "colab": {
          "base_uri": "https://localhost:8080/"
        },
        "outputId": "5874b82f-160d-40e5-d3d5-f52dc9d0fce9",
        "id": "u2cwsLE48e9B"
      },
      "execution_count": 254,
      "outputs": [
        {
          "output_type": "execute_result",
          "data": {
            "text/plain": [
              "0.6190476190476191"
            ]
          },
          "metadata": {},
          "execution_count": 254
        }
      ]
    },
    {
      "cell_type": "code",
      "source": [
        "balancedacc(Y_test, preds2)"
      ],
      "metadata": {
        "colab": {
          "base_uri": "https://localhost:8080/"
        },
        "outputId": "c020658e-6298-4c70-e467-dbd3890fe0f4",
        "id": "TrZ4tan78e9B"
      },
      "execution_count": 255,
      "outputs": [
        {
          "output_type": "execute_result",
          "data": {
            "text/plain": [
              "0.6928571428571428"
            ]
          },
          "metadata": {},
          "execution_count": 255
        }
      ]
    },
    {
      "cell_type": "code",
      "source": [
        "kappa(Y_test, preds2)"
      ],
      "metadata": {
        "colab": {
          "base_uri": "https://localhost:8080/"
        },
        "outputId": "241e3b09-f3d8-4ac3-9198-094d0cf4a825",
        "id": "mz7CHLMC8e9C"
      },
      "execution_count": 256,
      "outputs": [
        {
          "output_type": "execute_result",
          "data": {
            "text/plain": [
              "0.38848920863309355"
            ]
          },
          "metadata": {},
          "execution_count": 256
        }
      ]
    },
    {
      "cell_type": "code",
      "source": [
        "y_pred_proba = pipeline2.predict_proba(X_test)[::,1]\n",
        "fpr, tpr, _ = metrics.roc_curve(Y_test,  y_pred_proba)\n",
        "auc = metrics.roc_auc_score(Y_test, y_pred_proba)\n",
        "plt.plot(fpr,tpr,label=\"logistique, auc=\"+str(auc))\n",
        "plt.legend(loc=4)\n",
        "plt.show()"
      ],
      "metadata": {
        "colab": {
          "base_uri": "https://localhost:8080/",
          "height": 265
        },
        "outputId": "377f6d87-65d1-4cff-bf9d-f920671502c9",
        "id": "rNP9NIG78e9C"
      },
      "execution_count": 258,
      "outputs": [
        {
          "output_type": "display_data",
          "data": {
            "image/png": "[encoded data removed]",
            "text/plain": [
              "<Figure size 432x288 with 1 Axes>"
            ]
          },
          "metadata": {
            "needs_background": "light"
          }
        }
      ]
    },
    {
      "cell_type": "markdown",
      "source": [
        "# Random_forest ?????????\n",
        "\n",
        "\n"
      ],
      "metadata": {
        "id": "g6cdNaJm-0_H"
      }
    },
    {
      "cell_type": "code",
      "source": [
        "Classifier3 = RandomForestClassifier(n_estimators=100, criterion='gini', max_depth=3 ,min_samples_split=3)"
      ],
      "metadata": {
        "id": "Y1s4SqZi-0_I"
      },
      "execution_count": 294,
      "outputs": []
    },
    {
      "cell_type": "code",
      "source": [
        "# get a list of models to evaluate\n",
        "def get_models3():\n",
        "\tmodels = dict()\n",
        "\tfor i in range(2, 7):\n",
        "\t\trfe = RFE(Classifier3, n_features_to_select=i)\n",
        "\t\tmodels[str(i)] = Pipeline(steps=[('s',rfe),('m',Classifier3)])\n",
        "\treturn models"
      ],
      "metadata": {
        "id": "x05FZLZg-0_J"
      },
      "execution_count": 295,
      "outputs": []
    },
    {
      "cell_type": "code",
      "source": [
        "# get the models to evaluate\n",
        "models3 = get_models3()\n",
        "# evaluate the models and store results\n",
        "results, names = list(), list()\n",
        "for name, model in models3.items():\n",
        "  model.fit(X_app, Y_app)\n",
        "  preds = model.predict(X_test)\n",
        "  score = MCC(Y_test, preds)\n",
        "  results.append(score)\n",
        "  names.append(name)\n",
        "  print('- %s :  %.3f' % (name,score))"
      ],
      "metadata": {
        "colab": {
          "base_uri": "https://localhost:8080/"
        },
        "outputId": "ddfa339b-4743-43f6-dfa7-b869aeab4496",
        "id": "jh0DuccA-0_J"
      },
      "execution_count": 309,
      "outputs": [
        {
          "output_type": "stream",
          "name": "stdout",
          "text": [
            "- 2 :  0.355\n",
            "- 3 :  0.273\n",
            "- 4 :  0.307\n",
            "- 5 :  0.260\n",
            "- 6 :  0.226\n"
          ]
        }
      ]
    },
    {
      "cell_type": "code",
      "source": [
        "# create pipeline\n",
        "rfe3 = RFE(estimator=Classifier3, n_features_to_select=2)\n",
        "pipeline3 = Pipeline(steps=[('s',rfe3),('m',Classifier3)])\n",
        "# fit the model \n",
        "pipeline3.fit(X_app, Y_app)"
      ],
      "metadata": {
        "colab": {
          "base_uri": "https://localhost:8080/"
        },
        "outputId": "f9bb69b6-9908-491c-fe60-cb4b933dd828",
        "id": "a3WHB-98-0_K"
      },
      "execution_count": 310,
      "outputs": [
        {
          "output_type": "execute_result",
          "data": {
            "text/plain": [
              "Pipeline(steps=[('s',\n",
              "                 RFE(estimator=RandomForestClassifier(max_depth=3,\n",
              "                                                      min_samples_split=3),\n",
              "                     n_features_to_select=2)),\n",
              "                ('m',\n",
              "                 RandomForestClassifier(max_depth=3, min_samples_split=3))])"
            ]
          },
          "metadata": {},
          "execution_count": 310
        }
      ]
    },
    {
      "cell_type": "code",
      "source": [
        "pipeline3[\"s\"].support_"
      ],
      "metadata": {
        "colab": {
          "base_uri": "https://localhost:8080/"
        },
        "outputId": "ab079a09-09c5-4eb4-856f-b488090fb990",
        "id": "d_azpNXz-0_K"
      },
      "execution_count": 311,
      "outputs": [
        {
          "output_type": "execute_result",
          "data": {
            "text/plain": [
              "array([ True, False,  True, False, False, False])"
            ]
          },
          "metadata": {},
          "execution_count": 311
        }
      ]
    },
    {
      "cell_type": "code",
      "metadata": {
        "id": "ii1FpLMg-0_L"
      },
      "source": [
        "preds3 = pipeline3.predict(X_test)"
      ],
      "execution_count": 312,
      "outputs": []
    },
    {
      "cell_type": "code",
      "metadata": {
        "colab": {
          "base_uri": "https://localhost:8080/"
        },
        "outputId": "e463210d-b60d-4414-ab03-e10afe2a2671",
        "id": "33wiMcQb-0_L"
      },
      "source": [
        "preds3"
      ],
      "execution_count": 318,
      "outputs": [
        {
          "output_type": "execute_result",
          "data": {
            "text/plain": [
              "array([0, 0, 0, 1, 0, 0, 0, 1, 0, 0, 1, 1, 1, 0, 0, 0, 1, 1, 0, 1, 0, 0,\n",
              "       0, 0, 1, 0, 0, 0, 0, 0, 0, 0, 0, 1, 0, 0, 1, 1, 1, 1, 0, 1, 1, 1,\n",
              "       1, 1, 1, 0, 0, 1, 0])"
            ]
          },
          "metadata": {},
          "execution_count": 318
        }
      ]
    },
    {
      "cell_type": "code",
      "metadata": {
        "colab": {
          "base_uri": "https://localhost:8080/"
        },
        "outputId": "896e8cfc-20c3-4a0b-bc90-4ec9feda8f01",
        "id": "iI3_jea2-0_L"
      },
      "source": [
        "cf_matrix = confusion_matrix(Y_test, preds3)\n",
        "print(cf_matrix)"
      ],
      "execution_count": 319,
      "outputs": [
        {
          "output_type": "stream",
          "name": "stdout",
          "text": [
            "[[22  9]\n",
            " [ 8 12]]\n"
          ]
        }
      ]
    },
    {
      "cell_type": "code",
      "source": [
        "MCC(Y_test, preds3)"
      ],
      "metadata": {
        "colab": {
          "base_uri": "https://localhost:8080/"
        },
        "outputId": "d7d5c74a-47cf-4b36-872b-55f41d841709",
        "id": "xJUvxQZg-0_M"
      },
      "execution_count": 320,
      "outputs": [
        {
          "output_type": "execute_result",
          "data": {
            "text/plain": [
              "0.30720983087188436"
            ]
          },
          "metadata": {},
          "execution_count": 320
        }
      ]
    },
    {
      "cell_type": "code",
      "source": [
        "recall(Y_test, preds3)"
      ],
      "metadata": {
        "colab": {
          "base_uri": "https://localhost:8080/"
        },
        "outputId": "34c2cd24-7513-482f-fd89-8c084a64f221",
        "id": "LVem0ZRb-0_M"
      },
      "execution_count": 321,
      "outputs": [
        {
          "output_type": "execute_result",
          "data": {
            "text/plain": [
              "0.6"
            ]
          },
          "metadata": {},
          "execution_count": 321
        }
      ]
    },
    {
      "cell_type": "code",
      "source": [
        "sensibilite(Y_test, preds3)"
      ],
      "metadata": {
        "colab": {
          "base_uri": "https://localhost:8080/"
        },
        "outputId": "c6e4e052-0eda-4ba4-af1b-1e6efcd6911e",
        "id": "L_An5YFU-0_N"
      },
      "execution_count": 322,
      "outputs": [
        {
          "output_type": "execute_result",
          "data": {
            "text/plain": [
              "0.6"
            ]
          },
          "metadata": {},
          "execution_count": 322
        }
      ]
    },
    {
      "cell_type": "code",
      "source": [
        "specifite(Y_test, preds3)"
      ],
      "metadata": {
        "colab": {
          "base_uri": "https://localhost:8080/"
        },
        "outputId": "b4515176-f81b-409f-983d-841ddc9dac71",
        "id": "0WBPFWYm-0_N"
      },
      "execution_count": 323,
      "outputs": [
        {
          "output_type": "execute_result",
          "data": {
            "text/plain": [
              "0.7096774193548387"
            ]
          },
          "metadata": {},
          "execution_count": 323
        }
      ]
    },
    {
      "cell_type": "code",
      "source": [
        "présicion_négative(Y_test, preds3)"
      ],
      "metadata": {
        "colab": {
          "base_uri": "https://localhost:8080/"
        },
        "outputId": "be0c56cf-4859-429a-bf19-0d303ffa8e8d",
        "id": "0ycZDgBu-0_P"
      },
      "execution_count": 324,
      "outputs": [
        {
          "output_type": "execute_result",
          "data": {
            "text/plain": [
              "0.7333333333333333"
            ]
          },
          "metadata": {},
          "execution_count": 324
        }
      ]
    },
    {
      "cell_type": "code",
      "source": [
        "présicion_positive(Y_test, preds3)"
      ],
      "metadata": {
        "colab": {
          "base_uri": "https://localhost:8080/"
        },
        "outputId": "158ad2a2-28b8-4a46-fad8-5787aa9b3977",
        "id": "svj5cFed-0_P"
      },
      "execution_count": 325,
      "outputs": [
        {
          "output_type": "execute_result",
          "data": {
            "text/plain": [
              "0.5714285714285714"
            ]
          },
          "metadata": {},
          "execution_count": 325
        }
      ]
    },
    {
      "cell_type": "code",
      "source": [
        "balancedacc(Y_test, preds3)"
      ],
      "metadata": {
        "colab": {
          "base_uri": "https://localhost:8080/"
        },
        "outputId": "29844181-f26e-4927-e4bf-5d025c72989c",
        "id": "9TrRwLzx-0_P"
      },
      "execution_count": 326,
      "outputs": [
        {
          "output_type": "execute_result",
          "data": {
            "text/plain": [
              "0.6523809523809523"
            ]
          },
          "metadata": {},
          "execution_count": 326
        }
      ]
    },
    {
      "cell_type": "code",
      "source": [
        "kappa(Y_test, preds3)"
      ],
      "metadata": {
        "colab": {
          "base_uri": "https://localhost:8080/"
        },
        "outputId": "6c4da9eb-8d53-4b0a-b43f-5eea6099e0e5",
        "id": "sTtR1ghs-0_Q"
      },
      "execution_count": 327,
      "outputs": [
        {
          "output_type": "execute_result",
          "data": {
            "text/plain": [
              "0.3069544364508394"
            ]
          },
          "metadata": {},
          "execution_count": 327
        }
      ]
    },
    {
      "cell_type": "code",
      "source": [
        "y_pred_proba = pipeline3.predict_proba(X_test)[::,1]\n",
        "fpr, tpr, _ = metrics.roc_curve(Y_test,  y_pred_proba)\n",
        "auc = metrics.roc_auc_score(Y_test, y_pred_proba)\n",
        "plt.plot(fpr,tpr,label=\"Random_forest, auc=\"+str(auc))\n",
        "plt.legend(loc=4)\n",
        "plt.show()"
      ],
      "metadata": {
        "colab": {
          "base_uri": "https://localhost:8080/",
          "height": 265
        },
        "outputId": "bca21074-4482-49e0-d8ed-4e51a7a85532",
        "id": "LGQZqpTy-0_Q"
      },
      "execution_count": 328,
      "outputs": [
        {
          "output_type": "display_data",
          "data": {
            "image/png": "[encoded data removed]",
            "text/plain": [
              "<Figure size 432x288 with 1 Axes>"
            ]
          },
          "metadata": {
            "needs_background": "light"
          }
        }
      ]
    },
    {
      "cell_type": "markdown",
      "source": [
        "# Gradient_boosting\n",
        "\n",
        "\n"
      ],
      "metadata": {
        "id": "h_kH9F1ECgU7"
      }
    },
    {
      "cell_type": "code",
      "source": [
        "Classifier4 = GradientBoostingClassifier(n_estimators=225, learning_rate=0.1, max_features=2, max_depth=2, random_state=0,min_samples_leaf=2,subsample=1 )"
      ],
      "metadata": {
        "id": "BPI9aV-mCgU8"
      },
      "execution_count": 329,
      "outputs": []
    },
    {
      "cell_type": "code",
      "source": [
        "# get a list of models to evaluate\n",
        "def get_models4():\n",
        "\tmodels = dict()\n",
        "\tfor i in range(2, 7):\n",
        "\t\trfe = RFE(Classifier4, n_features_to_select=i)\n",
        "\t\tmodels[str(i)] = Pipeline(steps=[('s',rfe),('m',Classifier4)])\n",
        "\treturn models"
      ],
      "metadata": {
        "id": "r5XvPhZzCgU9"
      },
      "execution_count": 330,
      "outputs": []
    },
    {
      "cell_type": "code",
      "source": [
        "# get the models to evaluate\n",
        "models4 = get_models4()\n",
        "# evaluate the models and store results\n",
        "results, names = list(), list()\n",
        "for name, model in models4.items():\n",
        "  model.fit(X_app, Y_app)\n",
        "  preds = model.predict(X_test)\n",
        "  score = MCC(Y_test, preds)\n",
        "  results.append(score)\n",
        "  names.append(name)\n",
        "  print('- %s :  %.3f' % (name,score))"
      ],
      "metadata": {
        "colab": {
          "base_uri": "https://localhost:8080/"
        },
        "outputId": "cf01c30b-58d4-4e41-8c38-a7eb85df20a5",
        "id": "9X4ex9JYCgU9"
      },
      "execution_count": 331,
      "outputs": [
        {
          "output_type": "stream",
          "name": "stdout",
          "text": [
            "- 2 :  0.295\n",
            "- 3 :  0.226\n",
            "- 4 :  0.307\n",
            "- 5 :  0.295\n",
            "- 6 :  0.295\n"
          ]
        }
      ]
    },
    {
      "cell_type": "code",
      "source": [
        "# create pipeline\n",
        "rfe4 = RFE(estimator=Classifier4, n_features_to_select=4)\n",
        "pipeline4 = Pipeline(steps=[('s',rfe4),('m',Classifier4)])\n",
        "# fit the model \n",
        "pipeline4.fit(X_app, Y_app)"
      ],
      "metadata": {
        "colab": {
          "base_uri": "https://localhost:8080/"
        },
        "outputId": "351a15d9-8a72-4c97-afa2-b3ec663c99e5",
        "id": "EM82_q9yCgU-"
      },
      "execution_count": 333,
      "outputs": [
        {
          "output_type": "execute_result",
          "data": {
            "text/plain": [
              "Pipeline(steps=[('s',\n",
              "                 RFE(estimator=GradientBoostingClassifier(max_depth=2,\n",
              "                                                          max_features=2,\n",
              "                                                          min_samples_leaf=2,\n",
              "                                                          n_estimators=225,\n",
              "                                                          random_state=0,\n",
              "                                                          subsample=1),\n",
              "                     n_features_to_select=4)),\n",
              "                ('m',\n",
              "                 GradientBoostingClassifier(max_depth=2, max_features=2,\n",
              "                                            min_samples_leaf=2,\n",
              "                                            n_estimators=225, random_state=0,\n",
              "                                            subsample=1))])"
            ]
          },
          "metadata": {},
          "execution_count": 333
        }
      ]
    },
    {
      "cell_type": "code",
      "source": [
        "pipeline4[\"s\"].support_"
      ],
      "metadata": {
        "colab": {
          "base_uri": "https://localhost:8080/"
        },
        "outputId": "12c0e00c-74ba-4c9b-c977-ae072fe62d76",
        "id": "KCXjru-PCgU_"
      },
      "execution_count": 334,
      "outputs": [
        {
          "output_type": "execute_result",
          "data": {
            "text/plain": [
              "array([ True, False,  True, False,  True,  True])"
            ]
          },
          "metadata": {},
          "execution_count": 334
        }
      ]
    },
    {
      "cell_type": "code",
      "metadata": {
        "id": "M102jy7NCgU_"
      },
      "source": [
        "preds4 = pipeline4.predict(X_test)"
      ],
      "execution_count": 335,
      "outputs": []
    },
    {
      "cell_type": "code",
      "metadata": {
        "colab": {
          "base_uri": "https://localhost:8080/"
        },
        "outputId": "a2791b6e-658f-4992-c80e-b3ac846239a3",
        "id": "7b6VcW8FCgVA"
      },
      "source": [
        "preds4"
      ],
      "execution_count": 336,
      "outputs": [
        {
          "output_type": "execute_result",
          "data": {
            "text/plain": [
              "array([0, 0, 0, 1, 0, 0, 0, 1, 0, 0, 1, 1, 1, 0, 1, 0, 1, 1, 0, 1, 0, 0,\n",
              "       0, 0, 0, 0, 0, 0, 0, 0, 0, 0, 0, 1, 0, 0, 1, 1, 1, 1, 0, 1, 1, 1,\n",
              "       1, 1, 1, 0, 0, 1, 0])"
            ]
          },
          "metadata": {},
          "execution_count": 336
        }
      ]
    },
    {
      "cell_type": "code",
      "metadata": {
        "colab": {
          "base_uri": "https://localhost:8080/"
        },
        "outputId": "b07a6cd4-7e71-4ed0-9d72-b409321fecd0",
        "id": "elZEzHU_CgVA"
      },
      "source": [
        "cf_matrix = confusion_matrix(Y_test, preds4)\n",
        "print(cf_matrix)"
      ],
      "execution_count": 337,
      "outputs": [
        {
          "output_type": "stream",
          "name": "stdout",
          "text": [
            "[[22  9]\n",
            " [ 8 12]]\n"
          ]
        }
      ]
    },
    {
      "cell_type": "code",
      "source": [
        "MCC(Y_test, preds4)"
      ],
      "metadata": {
        "colab": {
          "base_uri": "https://localhost:8080/"
        },
        "outputId": "9d4a5a1a-347f-4a05-e8fa-9b91d98bfd6a",
        "id": "jFfjK2ATCgVB"
      },
      "execution_count": 338,
      "outputs": [
        {
          "output_type": "execute_result",
          "data": {
            "text/plain": [
              "0.30720983087188436"
            ]
          },
          "metadata": {},
          "execution_count": 338
        }
      ]
    },
    {
      "cell_type": "code",
      "source": [
        "recall(Y_test, preds4)"
      ],
      "metadata": {
        "colab": {
          "base_uri": "https://localhost:8080/"
        },
        "outputId": "e8948650-5e97-496f-f035-9057bb1f5ec6",
        "id": "8KUJcv-WCgVB"
      },
      "execution_count": 339,
      "outputs": [
        {
          "output_type": "execute_result",
          "data": {
            "text/plain": [
              "0.6"
            ]
          },
          "metadata": {},
          "execution_count": 339
        }
      ]
    },
    {
      "cell_type": "code",
      "source": [
        "sensibilite(Y_test, preds4)"
      ],
      "metadata": {
        "colab": {
          "base_uri": "https://localhost:8080/"
        },
        "outputId": "806c4dab-d347-425e-dd9d-32d321ac60e6",
        "id": "SeZrFo1CCgVB"
      },
      "execution_count": 340,
      "outputs": [
        {
          "output_type": "execute_result",
          "data": {
            "text/plain": [
              "0.6"
            ]
          },
          "metadata": {},
          "execution_count": 340
        }
      ]
    },
    {
      "cell_type": "code",
      "source": [
        "specifite(Y_test, preds4)"
      ],
      "metadata": {
        "colab": {
          "base_uri": "https://localhost:8080/"
        },
        "outputId": "47d207ad-2bae-42de-df78-ad6159005d9a",
        "id": "vyR2SKDdCgVC"
      },
      "execution_count": 341,
      "outputs": [
        {
          "output_type": "execute_result",
          "data": {
            "text/plain": [
              "0.7096774193548387"
            ]
          },
          "metadata": {},
          "execution_count": 341
        }
      ]
    },
    {
      "cell_type": "code",
      "source": [
        "présicion_négative(Y_test, preds4)"
      ],
      "metadata": {
        "colab": {
          "base_uri": "https://localhost:8080/"
        },
        "outputId": "b0d20d5e-165e-402a-a526-5de9cfd81c95",
        "id": "58rpWwYCCgVC"
      },
      "execution_count": 342,
      "outputs": [
        {
          "output_type": "execute_result",
          "data": {
            "text/plain": [
              "0.7333333333333333"
            ]
          },
          "metadata": {},
          "execution_count": 342
        }
      ]
    },
    {
      "cell_type": "code",
      "source": [
        "présicion_positive(Y_test, preds4)"
      ],
      "metadata": {
        "colab": {
          "base_uri": "https://localhost:8080/"
        },
        "outputId": "e04bd169-fbf4-4468-e7b0-026ca860c18a",
        "id": "YHR3QXGwCgVC"
      },
      "execution_count": 343,
      "outputs": [
        {
          "output_type": "execute_result",
          "data": {
            "text/plain": [
              "0.5714285714285714"
            ]
          },
          "metadata": {},
          "execution_count": 343
        }
      ]
    },
    {
      "cell_type": "code",
      "source": [
        "balancedacc(Y_test, preds4)"
      ],
      "metadata": {
        "colab": {
          "base_uri": "https://localhost:8080/"
        },
        "outputId": "3a376ffe-1d7f-435a-fd4d-e290b7321e2d",
        "id": "O19PbLkqCgVD"
      },
      "execution_count": 344,
      "outputs": [
        {
          "output_type": "execute_result",
          "data": {
            "text/plain": [
              "0.6523809523809523"
            ]
          },
          "metadata": {},
          "execution_count": 344
        }
      ]
    },
    {
      "cell_type": "code",
      "source": [
        "kappa(Y_test, preds4)"
      ],
      "metadata": {
        "colab": {
          "base_uri": "https://localhost:8080/"
        },
        "outputId": "9410e380-a05b-4494-a218-eb99ce7e3203",
        "id": "CaTtkoURCgVD"
      },
      "execution_count": 345,
      "outputs": [
        {
          "output_type": "execute_result",
          "data": {
            "text/plain": [
              "0.3069544364508394"
            ]
          },
          "metadata": {},
          "execution_count": 345
        }
      ]
    },
    {
      "cell_type": "code",
      "source": [
        "y_pred_proba = pipeline4.predict_proba(X_test)[::,1]\n",
        "fpr, tpr, _ = metrics.roc_curve(Y_test,  y_pred_proba)\n",
        "auc = metrics.roc_auc_score(Y_test, y_pred_proba)\n",
        "plt.plot(fpr,tpr,label=\"Gradient boostnig, auc=\"+str(auc))\n",
        "plt.legend(loc=4)\n",
        "plt.show()"
      ],
      "metadata": {
        "colab": {
          "base_uri": "https://localhost:8080/",
          "height": 265
        },
        "outputId": "9fe95a34-8273-4433-8724-e619a7d3813e",
        "id": "BJICgMJ-CgVE"
      },
      "execution_count": 346,
      "outputs": [
        {
          "output_type": "display_data",
          "data": {
            "image/png": "[encoded data removed]",
            "text/plain": [
              "<Figure size 432x288 with 1 Axes>"
            ]
          },
          "metadata": {
            "needs_background": "light"
          }
        }
      ]
    }
  ]
}