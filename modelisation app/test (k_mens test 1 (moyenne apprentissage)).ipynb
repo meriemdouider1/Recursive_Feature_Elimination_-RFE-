{
  "nbformat": 4,
  "nbformat_minor": 0,
  "metadata": {
    "colab": {
      "name": "Untitled79.ipynb",
      "provenance": [],
      "authorship_tag": "ABX9TyP/IVfrtLtg4HXDnljowVlK",
      "include_colab_link": true
    },
    "kernelspec": {
      "name": "python3",
      "display_name": "Python 3"
    },
    "language_info": {
      "name": "python"
    }
  },
  "cells": [
    {
      "cell_type": "markdown",
      "metadata": {
        "id": "view-in-github",
        "colab_type": "text"
      },
      "source": [
        "<a href=\"https://colab.research.google.com/github/meriemdouider1/mois1-mois2/blob/main/modelisation%20app/test%20(k_mens%205groupes%2011%2010fev).ipynb\" target=\"_parent\"><img src=\"https://colab.research.google.com/assets/colab-badge.svg\" alt=\"Open In Colab\"/></a>"
      ]
    },
    {
      "cell_type": "code",
      "metadata": {
        "id": "RlmUgAkuFdId"
      },
      "source": [
        "import sklearn\n",
        "import pandas as pd\n",
        "import numpy as np\n",
        "import matplotlib.pyplot as plt\n",
        "import seaborn as sns\n",
        "from sklearn.model_selection import train_test_split\n",
        "from sklearn.ensemble import RandomForestRegressor, RandomForestClassifier\n",
        "from sklearn.metrics import roc_auc_score, r2_score\n",
        "import sklearn\n",
        "import pandas as pd\n",
        "import numpy as np\n",
        "import matplotlib.pyplot as plt\n",
        "import seaborn as sns\n",
        "from sklearn.naive_bayes import GaussianNB\n",
        "from sklearn.ensemble import BaggingClassifier\n",
        "from sklearn.tree import DecisionTreeClassifier\n",
        "from xgboost import XGBClassifier\n",
        "from sklearn.metrics import accuracy_score\n",
        "from sklearn.metrics import precision_score\n",
        "from sklearn.metrics import recall_score\n",
        "from sklearn.metrics import f1_score\n",
        "from sklearn.metrics import confusion_matrix\n",
        "import numpy\n",
        "import sklearn.metrics as metrics\n",
        "from sklearn.ensemble import RandomForestClassifier\n",
        "from sklearn.neighbors import KNeighborsClassifier\n",
        "from sklearn import svm\n",
        "from sklearn.model_selection import StratifiedKFold\n",
        "from sklearn.model_selection import cross_val_score\n",
        "from sklearn.model_selection import LeaveOneOut\n",
        "from numpy import mean\n",
        "from numpy import std\n",
        "from sklearn.datasets import make_classification\n",
        "from sklearn.model_selection import KFold\n",
        "from sklearn.model_selection import cross_val_score\n",
        "from sklearn.linear_model import LogisticRegression\n",
        "from sklearn.metrics import make_scorer\n",
        "import matplotlib.pyplot as plt\n",
        "from sklearn.model_selection import LeaveOneOut\n",
        "from sklearn.datasets import make_classification\n",
        "from sklearn.ensemble import RandomForestClassifier\n",
        "from sklearn import datasets, metrics, model_selection, svm\n",
        "import numpy as np\n",
        "from sklearn import svm, datasets\n",
        "from sklearn.metrics import auc\n",
        "from sklearn.metrics import plot_roc_curve\n",
        "from sklearn.model_selection import StratifiedKFold\n",
        "from sklearn.datasets import make_classification\n",
        "from sklearn.ensemble import RandomForestClassifier\n",
        "from sklearn import datasets, metrics, model_selection, svm\n",
        "from sklearn.metrics import matthews_corrcoef\n",
        "from sklearn.svm import SVC\n",
        "from sklearn.metrics import cohen_kappa_score\n",
        "from sklearn.ensemble import GradientBoostingClassifier\n",
        "from sklearn.feature_selection import RFE\n",
        "from sklearn.pipeline import Pipeline\n",
        "from matplotlib import pyplot\n",
        "from sklearn.metrics import recall_score\n"
      ],
      "execution_count": 1,
      "outputs": []
    },
    {
      "cell_type": "code",
      "metadata": {
        "id": "eZpW8fsXFrh3"
      },
      "source": [
        "Cl = '/content/AXEAPP.xlsx' \n",
        "apprentissage= pd.read_excel(Cl, sheet_name=0,header=0,index_col=False, keep_default_na=True)"
      ],
      "execution_count": 2,
      "outputs": []
    },
    {
      "cell_type": "code",
      "source": [
        "apprentissage"
      ],
      "metadata": {
        "colab": {
          "base_uri": "https://localhost:8080/",
          "height": 423
        },
        "id": "vLoByxZ1jqnm",
        "outputId": "0ddc7432-d2b9-4ac6-8393-098edf110637"
      },
      "execution_count": 3,
      "outputs": [
        {
          "output_type": "execute_result",
          "data": {
            "text/html": [
              "\n",
              "  <div id=\"df-8108eb8d-4931-498d-95ca-09d1c2ac6116\">\n",
              "    <div class=\"colab-df-container\">\n",
              "      <div>\n",
              "<style scoped>\n",
              "    .dataframe tbody tr th:only-of-type {\n",
              "        vertical-align: middle;\n",
              "    }\n",
              "\n",
              "    .dataframe tbody tr th {\n",
              "        vertical-align: top;\n",
              "    }\n",
              "\n",
              "    .dataframe thead th {\n",
              "        text-align: right;\n",
              "    }\n",
              "</style>\n",
              "<table border=\"1\" class=\"dataframe\">\n",
              "  <thead>\n",
              "    <tr style=\"text-align: right;\">\n",
              "      <th></th>\n",
              "      <th>Cs_longia</th>\n",
              "      <th>AXE11</th>\n",
              "      <th>AXE12</th>\n",
              "      <th>AXE2</th>\n",
              "      <th>AXE3</th>\n",
              "      <th>AXE4</th>\n",
              "      <th>AXE5</th>\n",
              "    </tr>\n",
              "  </thead>\n",
              "  <tbody>\n",
              "    <tr>\n",
              "      <th>0</th>\n",
              "      <td>1</td>\n",
              "      <td>0.001424</td>\n",
              "      <td>0.031177</td>\n",
              "      <td>-0.059472</td>\n",
              "      <td>-3.681616</td>\n",
              "      <td>-2.401045</td>\n",
              "      <td>-0.173420</td>\n",
              "    </tr>\n",
              "    <tr>\n",
              "      <th>1</th>\n",
              "      <td>1</td>\n",
              "      <td>0.001859</td>\n",
              "      <td>0.007034</td>\n",
              "      <td>-0.032365</td>\n",
              "      <td>-0.780750</td>\n",
              "      <td>-0.885475</td>\n",
              "      <td>-0.161534</td>\n",
              "    </tr>\n",
              "    <tr>\n",
              "      <th>2</th>\n",
              "      <td>1</td>\n",
              "      <td>0.001859</td>\n",
              "      <td>0.007034</td>\n",
              "      <td>-0.032365</td>\n",
              "      <td>-0.780750</td>\n",
              "      <td>-0.885475</td>\n",
              "      <td>-0.161534</td>\n",
              "    </tr>\n",
              "    <tr>\n",
              "      <th>3</th>\n",
              "      <td>0</td>\n",
              "      <td>-0.001565</td>\n",
              "      <td>0.007444</td>\n",
              "      <td>0.052511</td>\n",
              "      <td>-0.575102</td>\n",
              "      <td>-0.089102</td>\n",
              "      <td>-0.036805</td>\n",
              "    </tr>\n",
              "    <tr>\n",
              "      <th>4</th>\n",
              "      <td>0</td>\n",
              "      <td>-0.001238</td>\n",
              "      <td>0.010596</td>\n",
              "      <td>0.047796</td>\n",
              "      <td>-1.674400</td>\n",
              "      <td>0.216223</td>\n",
              "      <td>0.038151</td>\n",
              "    </tr>\n",
              "    <tr>\n",
              "      <th>...</th>\n",
              "      <td>...</td>\n",
              "      <td>...</td>\n",
              "      <td>...</td>\n",
              "      <td>...</td>\n",
              "      <td>...</td>\n",
              "      <td>...</td>\n",
              "      <td>...</td>\n",
              "    </tr>\n",
              "    <tr>\n",
              "      <th>198</th>\n",
              "      <td>1</td>\n",
              "      <td>0.002694</td>\n",
              "      <td>-0.011021</td>\n",
              "      <td>-0.107134</td>\n",
              "      <td>-1.678789</td>\n",
              "      <td>-0.626739</td>\n",
              "      <td>-0.093039</td>\n",
              "    </tr>\n",
              "    <tr>\n",
              "      <th>199</th>\n",
              "      <td>1</td>\n",
              "      <td>0.001341</td>\n",
              "      <td>-0.016060</td>\n",
              "      <td>-0.078564</td>\n",
              "      <td>-1.584375</td>\n",
              "      <td>0.421137</td>\n",
              "      <td>-0.297170</td>\n",
              "    </tr>\n",
              "    <tr>\n",
              "      <th>200</th>\n",
              "      <td>1</td>\n",
              "      <td>0.001998</td>\n",
              "      <td>-0.013530</td>\n",
              "      <td>-0.123163</td>\n",
              "      <td>-1.309588</td>\n",
              "      <td>-0.722200</td>\n",
              "      <td>-0.279362</td>\n",
              "    </tr>\n",
              "    <tr>\n",
              "      <th>201</th>\n",
              "      <td>1</td>\n",
              "      <td>-0.000923</td>\n",
              "      <td>-0.014214</td>\n",
              "      <td>0.010676</td>\n",
              "      <td>-1.404706</td>\n",
              "      <td>1.443951</td>\n",
              "      <td>0.121188</td>\n",
              "    </tr>\n",
              "    <tr>\n",
              "      <th>202</th>\n",
              "      <td>1</td>\n",
              "      <td>0.001179</td>\n",
              "      <td>-0.000708</td>\n",
              "      <td>-0.015548</td>\n",
              "      <td>-1.784350</td>\n",
              "      <td>-0.306687</td>\n",
              "      <td>0.200396</td>\n",
              "    </tr>\n",
              "  </tbody>\n",
              "</table>\n",
              "<p>203 rows × 7 columns</p>\n",
              "</div>\n",
              "      <button class=\"colab-df-convert\" onclick=\"convertToInteractive('df-8108eb8d-4931-498d-95ca-09d1c2ac6116')\"\n",
              "              title=\"Convert this dataframe to an interactive table.\"\n",
              "              style=\"display:none;\">\n",
              "        \n",
              "  <svg xmlns=\"http://www.w3.org/2000/svg\" height=\"24px\"viewBox=\"0 0 24 24\"\n",
              "       width=\"24px\">\n",
              "    <path d=\"M0 0h24v24H0V0z\" fill=\"none\"/>\n",
              "    <path d=\"M18.56 5.44l.94 2.06.94-2.06 2.06-.94-2.06-.94-.94-2.06-.94 2.06-2.06.94zm-11 1L8.5 8.5l.94-2.06 2.06-.94-2.06-.94L8.5 2.5l-.94 2.06-2.06.94zm10 10l.94 2.06.94-2.06 2.06-.94-2.06-.94-.94-2.06-.94 2.06-2.06.94z\"/><path d=\"M17.41 7.96l-1.37-1.37c-.4-.4-.92-.59-1.43-.59-.52 0-1.04.2-1.43.59L10.3 9.45l-7.72 7.72c-.78.78-.78 2.05 0 2.83L4 21.41c.39.39.9.59 1.41.59.51 0 1.02-.2 1.41-.59l7.78-7.78 2.81-2.81c.8-.78.8-2.07 0-2.86zM5.41 20L4 18.59l7.72-7.72 1.47 1.35L5.41 20z\"/>\n",
              "  </svg>\n",
              "      </button>\n",
              "      \n",
              "  <style>\n",
              "    .colab-df-container {\n",
              "      display:flex;\n",
              "      flex-wrap:wrap;\n",
              "      gap: 12px;\n",
              "    }\n",
              "\n",
              "    .colab-df-convert {\n",
              "      background-color: #E8F0FE;\n",
              "      border: none;\n",
              "      border-radius: 50%;\n",
              "      cursor: pointer;\n",
              "      display: none;\n",
              "      fill: #1967D2;\n",
              "      height: 32px;\n",
              "      padding: 0 0 0 0;\n",
              "      width: 32px;\n",
              "    }\n",
              "\n",
              "    .colab-df-convert:hover {\n",
              "      background-color: #E2EBFA;\n",
              "      box-shadow: 0px 1px 2px rgba(60, 64, 67, 0.3), 0px 1px 3px 1px rgba(60, 64, 67, 0.15);\n",
              "      fill: #174EA6;\n",
              "    }\n",
              "\n",
              "    [theme=dark] .colab-df-convert {\n",
              "      background-color: #3B4455;\n",
              "      fill: #D2E3FC;\n",
              "    }\n",
              "\n",
              "    [theme=dark] .colab-df-convert:hover {\n",
              "      background-color: #434B5C;\n",
              "      box-shadow: 0px 1px 3px 1px rgba(0, 0, 0, 0.15);\n",
              "      filter: drop-shadow(0px 1px 2px rgba(0, 0, 0, 0.3));\n",
              "      fill: #FFFFFF;\n",
              "    }\n",
              "  </style>\n",
              "\n",
              "      <script>\n",
              "        const buttonEl =\n",
              "          document.querySelector('#df-8108eb8d-4931-498d-95ca-09d1c2ac6116 button.colab-df-convert');\n",
              "        buttonEl.style.display =\n",
              "          google.colab.kernel.accessAllowed ? 'block' : 'none';\n",
              "\n",
              "        async function convertToInteractive(key) {\n",
              "          const element = document.querySelector('#df-8108eb8d-4931-498d-95ca-09d1c2ac6116');\n",
              "          const dataTable =\n",
              "            await google.colab.kernel.invokeFunction('convertToInteractive',\n",
              "                                                     [key], {});\n",
              "          if (!dataTable) return;\n",
              "\n",
              "          const docLinkHtml = 'Like what you see? Visit the ' +\n",
              "            '<a target=\"_blank\" href=https://colab.research.google.com/notebooks/data_table.ipynb>data table notebook</a>'\n",
              "            + ' to learn more about interactive tables.';\n",
              "          element.innerHTML = '';\n",
              "          dataTable['output_type'] = 'display_data';\n",
              "          await google.colab.output.renderOutput(dataTable, element);\n",
              "          const docLink = document.createElement('div');\n",
              "          docLink.innerHTML = docLinkHtml;\n",
              "          element.appendChild(docLink);\n",
              "        }\n",
              "      </script>\n",
              "    </div>\n",
              "  </div>\n",
              "  "
            ],
            "text/plain": [
              "     Cs_longia     AXE11     AXE12      AXE2      AXE3      AXE4      AXE5\n",
              "0            1  0.001424  0.031177 -0.059472 -3.681616 -2.401045 -0.173420\n",
              "1            1  0.001859  0.007034 -0.032365 -0.780750 -0.885475 -0.161534\n",
              "2            1  0.001859  0.007034 -0.032365 -0.780750 -0.885475 -0.161534\n",
              "3            0 -0.001565  0.007444  0.052511 -0.575102 -0.089102 -0.036805\n",
              "4            0 -0.001238  0.010596  0.047796 -1.674400  0.216223  0.038151\n",
              "..         ...       ...       ...       ...       ...       ...       ...\n",
              "198          1  0.002694 -0.011021 -0.107134 -1.678789 -0.626739 -0.093039\n",
              "199          1  0.001341 -0.016060 -0.078564 -1.584375  0.421137 -0.297170\n",
              "200          1  0.001998 -0.013530 -0.123163 -1.309588 -0.722200 -0.279362\n",
              "201          1 -0.000923 -0.014214  0.010676 -1.404706  1.443951  0.121188\n",
              "202          1  0.001179 -0.000708 -0.015548 -1.784350 -0.306687  0.200396\n",
              "\n",
              "[203 rows x 7 columns]"
            ]
          },
          "metadata": {},
          "execution_count": 3
        }
      ]
    },
    {
      "cell_type": "code",
      "metadata": {
        "id": "sp6M2-Shj8tx"
      },
      "source": [
        "Cl2 = '/content/AXETEST.xlsx' \n",
        "test= pd.read_excel(Cl2, sheet_name=0,header=0,index_col=False, keep_default_na=True)"
      ],
      "execution_count": 4,
      "outputs": []
    },
    {
      "cell_type": "code",
      "source": [
        "test"
      ],
      "metadata": {
        "colab": {
          "base_uri": "https://localhost:8080/",
          "height": 1000
        },
        "outputId": "a19e0ccc-a540-406a-90fd-f7e3f30cf82e",
        "id": "wzKdYPPMj8ty"
      },
      "execution_count": 5,
      "outputs": [
        {
          "output_type": "execute_result",
          "data": {
            "text/html": [
              "\n",
              "  <div id=\"df-1ff1a052-acaa-47fa-b72a-351567b64e22\">\n",
              "    <div class=\"colab-df-container\">\n",
              "      <div>\n",
              "<style scoped>\n",
              "    .dataframe tbody tr th:only-of-type {\n",
              "        vertical-align: middle;\n",
              "    }\n",
              "\n",
              "    .dataframe tbody tr th {\n",
              "        vertical-align: top;\n",
              "    }\n",
              "\n",
              "    .dataframe thead th {\n",
              "        text-align: right;\n",
              "    }\n",
              "</style>\n",
              "<table border=\"1\" class=\"dataframe\">\n",
              "  <thead>\n",
              "    <tr style=\"text-align: right;\">\n",
              "      <th></th>\n",
              "      <th>Cs_longia</th>\n",
              "      <th>AXE11</th>\n",
              "      <th>AXE12</th>\n",
              "      <th>AXE2</th>\n",
              "      <th>AXE3</th>\n",
              "      <th>AXE4</th>\n",
              "      <th>AXE5</th>\n",
              "    </tr>\n",
              "  </thead>\n",
              "  <tbody>\n",
              "    <tr>\n",
              "      <th>0</th>\n",
              "      <td>0</td>\n",
              "      <td>-0.001640</td>\n",
              "      <td>0.011923</td>\n",
              "      <td>0.102308</td>\n",
              "      <td>-1.801407</td>\n",
              "      <td>-0.832450</td>\n",
              "      <td>0.062173</td>\n",
              "    </tr>\n",
              "    <tr>\n",
              "      <th>1</th>\n",
              "      <td>1</td>\n",
              "      <td>-0.005890</td>\n",
              "      <td>0.007865</td>\n",
              "      <td>0.008081</td>\n",
              "      <td>-1.369971</td>\n",
              "      <td>-0.792410</td>\n",
              "      <td>-0.012560</td>\n",
              "    </tr>\n",
              "    <tr>\n",
              "      <th>2</th>\n",
              "      <td>1</td>\n",
              "      <td>-0.005890</td>\n",
              "      <td>0.007865</td>\n",
              "      <td>0.008081</td>\n",
              "      <td>-1.369971</td>\n",
              "      <td>-0.792410</td>\n",
              "      <td>-0.012560</td>\n",
              "    </tr>\n",
              "    <tr>\n",
              "      <th>3</th>\n",
              "      <td>1</td>\n",
              "      <td>0.000629</td>\n",
              "      <td>0.013577</td>\n",
              "      <td>-0.077555</td>\n",
              "      <td>-2.480820</td>\n",
              "      <td>-0.756910</td>\n",
              "      <td>-0.121500</td>\n",
              "    </tr>\n",
              "    <tr>\n",
              "      <th>4</th>\n",
              "      <td>0</td>\n",
              "      <td>-0.002810</td>\n",
              "      <td>0.005402</td>\n",
              "      <td>0.016373</td>\n",
              "      <td>-0.059747</td>\n",
              "      <td>0.577835</td>\n",
              "      <td>0.278006</td>\n",
              "    </tr>\n",
              "    <tr>\n",
              "      <th>5</th>\n",
              "      <td>0</td>\n",
              "      <td>-0.002760</td>\n",
              "      <td>0.005402</td>\n",
              "      <td>0.021959</td>\n",
              "      <td>-0.262708</td>\n",
              "      <td>0.577835</td>\n",
              "      <td>0.273379</td>\n",
              "    </tr>\n",
              "    <tr>\n",
              "      <th>6</th>\n",
              "      <td>0</td>\n",
              "      <td>-0.000010</td>\n",
              "      <td>0.006071</td>\n",
              "      <td>0.030925</td>\n",
              "      <td>0.381259</td>\n",
              "      <td>-0.687890</td>\n",
              "      <td>-0.080940</td>\n",
              "    </tr>\n",
              "    <tr>\n",
              "      <th>7</th>\n",
              "      <td>0</td>\n",
              "      <td>0.001179</td>\n",
              "      <td>0.004634</td>\n",
              "      <td>-0.022492</td>\n",
              "      <td>0.806717</td>\n",
              "      <td>-0.719120</td>\n",
              "      <td>0.224582</td>\n",
              "    </tr>\n",
              "    <tr>\n",
              "      <th>8</th>\n",
              "      <td>1</td>\n",
              "      <td>-0.002400</td>\n",
              "      <td>0.006000</td>\n",
              "      <td>0.109514</td>\n",
              "      <td>0.845323</td>\n",
              "      <td>1.029173</td>\n",
              "      <td>0.228331</td>\n",
              "    </tr>\n",
              "    <tr>\n",
              "      <th>9</th>\n",
              "      <td>0</td>\n",
              "      <td>-0.001750</td>\n",
              "      <td>0.005932</td>\n",
              "      <td>0.090288</td>\n",
              "      <td>0.493467</td>\n",
              "      <td>1.097954</td>\n",
              "      <td>0.133737</td>\n",
              "    </tr>\n",
              "    <tr>\n",
              "      <th>10</th>\n",
              "      <td>0</td>\n",
              "      <td>0.001006</td>\n",
              "      <td>0.009563</td>\n",
              "      <td>-0.015819</td>\n",
              "      <td>-0.476458</td>\n",
              "      <td>-0.824670</td>\n",
              "      <td>-0.195530</td>\n",
              "    </tr>\n",
              "    <tr>\n",
              "      <th>11</th>\n",
              "      <td>1</td>\n",
              "      <td>0.001603</td>\n",
              "      <td>0.005571</td>\n",
              "      <td>-0.067299</td>\n",
              "      <td>-0.847488</td>\n",
              "      <td>-0.704960</td>\n",
              "      <td>-0.311720</td>\n",
              "    </tr>\n",
              "    <tr>\n",
              "      <th>12</th>\n",
              "      <td>0</td>\n",
              "      <td>0.001609</td>\n",
              "      <td>0.015821</td>\n",
              "      <td>-0.008849</td>\n",
              "      <td>-1.950413</td>\n",
              "      <td>-0.678720</td>\n",
              "      <td>-0.131960</td>\n",
              "    </tr>\n",
              "    <tr>\n",
              "      <th>13</th>\n",
              "      <td>1</td>\n",
              "      <td>-0.004120</td>\n",
              "      <td>0.006150</td>\n",
              "      <td>0.113729</td>\n",
              "      <td>0.732956</td>\n",
              "      <td>1.585313</td>\n",
              "      <td>0.146234</td>\n",
              "    </tr>\n",
              "    <tr>\n",
              "      <th>14</th>\n",
              "      <td>0</td>\n",
              "      <td>-0.000340</td>\n",
              "      <td>0.006167</td>\n",
              "      <td>-0.003732</td>\n",
              "      <td>0.196173</td>\n",
              "      <td>0.305641</td>\n",
              "      <td>-0.340590</td>\n",
              "    </tr>\n",
              "    <tr>\n",
              "      <th>15</th>\n",
              "      <td>0</td>\n",
              "      <td>-0.001760</td>\n",
              "      <td>-0.014193</td>\n",
              "      <td>0.075740</td>\n",
              "      <td>1.802629</td>\n",
              "      <td>0.312447</td>\n",
              "      <td>0.213932</td>\n",
              "    </tr>\n",
              "    <tr>\n",
              "      <th>16</th>\n",
              "      <td>0</td>\n",
              "      <td>-0.000031</td>\n",
              "      <td>-0.013794</td>\n",
              "      <td>-0.018632</td>\n",
              "      <td>2.880967</td>\n",
              "      <td>1.697339</td>\n",
              "      <td>0.090486</td>\n",
              "    </tr>\n",
              "    <tr>\n",
              "      <th>17</th>\n",
              "      <td>0</td>\n",
              "      <td>0.000560</td>\n",
              "      <td>-0.014390</td>\n",
              "      <td>-0.012611</td>\n",
              "      <td>2.007770</td>\n",
              "      <td>1.880980</td>\n",
              "      <td>0.058737</td>\n",
              "    </tr>\n",
              "    <tr>\n",
              "      <th>18</th>\n",
              "      <td>0</td>\n",
              "      <td>-0.000240</td>\n",
              "      <td>-0.013936</td>\n",
              "      <td>0.002100</td>\n",
              "      <td>1.657517</td>\n",
              "      <td>1.148936</td>\n",
              "      <td>0.056395</td>\n",
              "    </tr>\n",
              "    <tr>\n",
              "      <th>19</th>\n",
              "      <td>0</td>\n",
              "      <td>0.002838</td>\n",
              "      <td>-0.016823</td>\n",
              "      <td>0.019787</td>\n",
              "      <td>0.975107</td>\n",
              "      <td>1.003646</td>\n",
              "      <td>0.048942</td>\n",
              "    </tr>\n",
              "    <tr>\n",
              "      <th>20</th>\n",
              "      <td>0</td>\n",
              "      <td>-0.001240</td>\n",
              "      <td>-0.017717</td>\n",
              "      <td>0.030422</td>\n",
              "      <td>2.479246</td>\n",
              "      <td>0.928460</td>\n",
              "      <td>0.127419</td>\n",
              "    </tr>\n",
              "    <tr>\n",
              "      <th>21</th>\n",
              "      <td>0</td>\n",
              "      <td>-0.000910</td>\n",
              "      <td>-0.013483</td>\n",
              "      <td>0.103213</td>\n",
              "      <td>1.787943</td>\n",
              "      <td>0.703941</td>\n",
              "      <td>0.169502</td>\n",
              "    </tr>\n",
              "    <tr>\n",
              "      <th>22</th>\n",
              "      <td>0</td>\n",
              "      <td>0.000051</td>\n",
              "      <td>-0.008201</td>\n",
              "      <td>0.112808</td>\n",
              "      <td>2.505752</td>\n",
              "      <td>1.960587</td>\n",
              "      <td>-0.013740</td>\n",
              "    </tr>\n",
              "    <tr>\n",
              "      <th>23</th>\n",
              "      <td>0</td>\n",
              "      <td>-0.003130</td>\n",
              "      <td>-0.001511</td>\n",
              "      <td>0.109717</td>\n",
              "      <td>2.485413</td>\n",
              "      <td>2.183233</td>\n",
              "      <td>-0.069070</td>\n",
              "    </tr>\n",
              "    <tr>\n",
              "      <th>24</th>\n",
              "      <td>0</td>\n",
              "      <td>-0.000820</td>\n",
              "      <td>0.002606</td>\n",
              "      <td>-0.100164</td>\n",
              "      <td>1.301775</td>\n",
              "      <td>0.092805</td>\n",
              "      <td>0.213304</td>\n",
              "    </tr>\n",
              "    <tr>\n",
              "      <th>25</th>\n",
              "      <td>0</td>\n",
              "      <td>-0.001080</td>\n",
              "      <td>0.004192</td>\n",
              "      <td>0.048052</td>\n",
              "      <td>0.630137</td>\n",
              "      <td>-0.224920</td>\n",
              "      <td>-0.055740</td>\n",
              "    </tr>\n",
              "    <tr>\n",
              "      <th>26</th>\n",
              "      <td>0</td>\n",
              "      <td>-0.001990</td>\n",
              "      <td>0.007959</td>\n",
              "      <td>-0.021120</td>\n",
              "      <td>-0.330718</td>\n",
              "      <td>0.313012</td>\n",
              "      <td>0.195129</td>\n",
              "    </tr>\n",
              "    <tr>\n",
              "      <th>27</th>\n",
              "      <td>0</td>\n",
              "      <td>-0.002620</td>\n",
              "      <td>-0.003645</td>\n",
              "      <td>0.062814</td>\n",
              "      <td>-0.784803</td>\n",
              "      <td>-1.141370</td>\n",
              "      <td>-0.761250</td>\n",
              "    </tr>\n",
              "    <tr>\n",
              "      <th>28</th>\n",
              "      <td>0</td>\n",
              "      <td>-0.003280</td>\n",
              "      <td>-0.025240</td>\n",
              "      <td>0.146760</td>\n",
              "      <td>0.435716</td>\n",
              "      <td>0.956744</td>\n",
              "      <td>0.375518</td>\n",
              "    </tr>\n",
              "    <tr>\n",
              "      <th>29</th>\n",
              "      <td>0</td>\n",
              "      <td>0.002210</td>\n",
              "      <td>-0.000530</td>\n",
              "      <td>0.055754</td>\n",
              "      <td>1.249337</td>\n",
              "      <td>-0.519240</td>\n",
              "      <td>0.693649</td>\n",
              "    </tr>\n",
              "    <tr>\n",
              "      <th>30</th>\n",
              "      <td>0</td>\n",
              "      <td>-0.003510</td>\n",
              "      <td>-0.012668</td>\n",
              "      <td>0.045481</td>\n",
              "      <td>2.580335</td>\n",
              "      <td>1.539671</td>\n",
              "      <td>0.319655</td>\n",
              "    </tr>\n",
              "    <tr>\n",
              "      <th>31</th>\n",
              "      <td>0</td>\n",
              "      <td>-0.003510</td>\n",
              "      <td>-0.012668</td>\n",
              "      <td>0.045481</td>\n",
              "      <td>2.580335</td>\n",
              "      <td>1.539671</td>\n",
              "      <td>0.319764</td>\n",
              "    </tr>\n",
              "    <tr>\n",
              "      <th>32</th>\n",
              "      <td>0</td>\n",
              "      <td>-0.001820</td>\n",
              "      <td>-0.017053</td>\n",
              "      <td>0.064932</td>\n",
              "      <td>-1.441880</td>\n",
              "      <td>1.683146</td>\n",
              "      <td>0.417060</td>\n",
              "    </tr>\n",
              "    <tr>\n",
              "      <th>33</th>\n",
              "      <td>0</td>\n",
              "      <td>0.003424</td>\n",
              "      <td>0.005687</td>\n",
              "      <td>0.016161</td>\n",
              "      <td>-2.054705</td>\n",
              "      <td>3.828315</td>\n",
              "      <td>0.193179</td>\n",
              "    </tr>\n",
              "    <tr>\n",
              "      <th>34</th>\n",
              "      <td>0</td>\n",
              "      <td>-0.001870</td>\n",
              "      <td>0.013852</td>\n",
              "      <td>0.003016</td>\n",
              "      <td>0.267022</td>\n",
              "      <td>0.396368</td>\n",
              "      <td>-0.212040</td>\n",
              "    </tr>\n",
              "    <tr>\n",
              "      <th>35</th>\n",
              "      <td>0</td>\n",
              "      <td>-0.003410</td>\n",
              "      <td>0.015385</td>\n",
              "      <td>0.055900</td>\n",
              "      <td>1.350126</td>\n",
              "      <td>0.418147</td>\n",
              "      <td>0.318408</td>\n",
              "    </tr>\n",
              "    <tr>\n",
              "      <th>36</th>\n",
              "      <td>0</td>\n",
              "      <td>0.001568</td>\n",
              "      <td>0.016149</td>\n",
              "      <td>-0.034828</td>\n",
              "      <td>-0.639231</td>\n",
              "      <td>0.915747</td>\n",
              "      <td>0.012555</td>\n",
              "    </tr>\n",
              "    <tr>\n",
              "      <th>37</th>\n",
              "      <td>1</td>\n",
              "      <td>0.003009</td>\n",
              "      <td>0.010352</td>\n",
              "      <td>-0.071017</td>\n",
              "      <td>-3.011023</td>\n",
              "      <td>-0.857600</td>\n",
              "      <td>-0.362020</td>\n",
              "    </tr>\n",
              "    <tr>\n",
              "      <th>38</th>\n",
              "      <td>1</td>\n",
              "      <td>0.000970</td>\n",
              "      <td>0.007907</td>\n",
              "      <td>-0.021193</td>\n",
              "      <td>-1.891990</td>\n",
              "      <td>-1.568720</td>\n",
              "      <td>-0.233540</td>\n",
              "    </tr>\n",
              "    <tr>\n",
              "      <th>39</th>\n",
              "      <td>1</td>\n",
              "      <td>0.004510</td>\n",
              "      <td>0.010531</td>\n",
              "      <td>-0.092814</td>\n",
              "      <td>-2.897358</td>\n",
              "      <td>-0.419090</td>\n",
              "      <td>-0.360670</td>\n",
              "    </tr>\n",
              "    <tr>\n",
              "      <th>40</th>\n",
              "      <td>1</td>\n",
              "      <td>-0.002490</td>\n",
              "      <td>0.016458</td>\n",
              "      <td>0.065449</td>\n",
              "      <td>-0.674093</td>\n",
              "      <td>0.423211</td>\n",
              "      <td>-0.104530</td>\n",
              "    </tr>\n",
              "    <tr>\n",
              "      <th>41</th>\n",
              "      <td>1</td>\n",
              "      <td>0.002015</td>\n",
              "      <td>-0.005469</td>\n",
              "      <td>0.013261</td>\n",
              "      <td>1.686153</td>\n",
              "      <td>2.712957</td>\n",
              "      <td>0.094912</td>\n",
              "    </tr>\n",
              "    <tr>\n",
              "      <th>42</th>\n",
              "      <td>1</td>\n",
              "      <td>0.000355</td>\n",
              "      <td>0.008073</td>\n",
              "      <td>-0.118880</td>\n",
              "      <td>0.573251</td>\n",
              "      <td>-0.208240</td>\n",
              "      <td>0.550143</td>\n",
              "    </tr>\n",
              "    <tr>\n",
              "      <th>43</th>\n",
              "      <td>1</td>\n",
              "      <td>0.001272</td>\n",
              "      <td>0.002914</td>\n",
              "      <td>-0.013157</td>\n",
              "      <td>-0.172361</td>\n",
              "      <td>-1.963790</td>\n",
              "      <td>-0.269870</td>\n",
              "    </tr>\n",
              "    <tr>\n",
              "      <th>44</th>\n",
              "      <td>1</td>\n",
              "      <td>0.005844</td>\n",
              "      <td>0.006917</td>\n",
              "      <td>-0.068927</td>\n",
              "      <td>0.860664</td>\n",
              "      <td>-2.555320</td>\n",
              "      <td>-0.327000</td>\n",
              "    </tr>\n",
              "    <tr>\n",
              "      <th>45</th>\n",
              "      <td>1</td>\n",
              "      <td>0.000196</td>\n",
              "      <td>-0.012860</td>\n",
              "      <td>-0.033680</td>\n",
              "      <td>1.991456</td>\n",
              "      <td>2.090065</td>\n",
              "      <td>0.204619</td>\n",
              "    </tr>\n",
              "    <tr>\n",
              "      <th>46</th>\n",
              "      <td>1</td>\n",
              "      <td>-0.000690</td>\n",
              "      <td>0.000682</td>\n",
              "      <td>-0.066152</td>\n",
              "      <td>1.976231</td>\n",
              "      <td>0.679674</td>\n",
              "      <td>0.318243</td>\n",
              "    </tr>\n",
              "    <tr>\n",
              "      <th>47</th>\n",
              "      <td>1</td>\n",
              "      <td>-0.001120</td>\n",
              "      <td>-0.016118</td>\n",
              "      <td>0.049230</td>\n",
              "      <td>0.860964</td>\n",
              "      <td>0.915314</td>\n",
              "      <td>0.000863</td>\n",
              "    </tr>\n",
              "    <tr>\n",
              "      <th>48</th>\n",
              "      <td>1</td>\n",
              "      <td>-0.001530</td>\n",
              "      <td>-0.005692</td>\n",
              "      <td>-0.106042</td>\n",
              "      <td>-0.435856</td>\n",
              "      <td>0.556777</td>\n",
              "      <td>-0.108280</td>\n",
              "    </tr>\n",
              "    <tr>\n",
              "      <th>49</th>\n",
              "      <td>1</td>\n",
              "      <td>0.001075</td>\n",
              "      <td>-0.004181</td>\n",
              "      <td>-0.096706</td>\n",
              "      <td>-1.371843</td>\n",
              "      <td>-0.844430</td>\n",
              "      <td>-0.177130</td>\n",
              "    </tr>\n",
              "    <tr>\n",
              "      <th>50</th>\n",
              "      <td>1</td>\n",
              "      <td>-0.005070</td>\n",
              "      <td>0.005909</td>\n",
              "      <td>0.029881</td>\n",
              "      <td>-1.150525</td>\n",
              "      <td>-2.275600</td>\n",
              "      <td>-0.125230</td>\n",
              "    </tr>\n",
              "  </tbody>\n",
              "</table>\n",
              "</div>\n",
              "      <button class=\"colab-df-convert\" onclick=\"convertToInteractive('df-1ff1a052-acaa-47fa-b72a-351567b64e22')\"\n",
              "              title=\"Convert this dataframe to an interactive table.\"\n",
              "              style=\"display:none;\">\n",
              "        \n",
              "  <svg xmlns=\"http://www.w3.org/2000/svg\" height=\"24px\"viewBox=\"0 0 24 24\"\n",
              "       width=\"24px\">\n",
              "    <path d=\"M0 0h24v24H0V0z\" fill=\"none\"/>\n",
              "    <path d=\"M18.56 5.44l.94 2.06.94-2.06 2.06-.94-2.06-.94-.94-2.06-.94 2.06-2.06.94zm-11 1L8.5 8.5l.94-2.06 2.06-.94-2.06-.94L8.5 2.5l-.94 2.06-2.06.94zm10 10l.94 2.06.94-2.06 2.06-.94-2.06-.94-.94-2.06-.94 2.06-2.06.94z\"/><path d=\"M17.41 7.96l-1.37-1.37c-.4-.4-.92-.59-1.43-.59-.52 0-1.04.2-1.43.59L10.3 9.45l-7.72 7.72c-.78.78-.78 2.05 0 2.83L4 21.41c.39.39.9.59 1.41.59.51 0 1.02-.2 1.41-.59l7.78-7.78 2.81-2.81c.8-.78.8-2.07 0-2.86zM5.41 20L4 18.59l7.72-7.72 1.47 1.35L5.41 20z\"/>\n",
              "  </svg>\n",
              "      </button>\n",
              "      \n",
              "  <style>\n",
              "    .colab-df-container {\n",
              "      display:flex;\n",
              "      flex-wrap:wrap;\n",
              "      gap: 12px;\n",
              "    }\n",
              "\n",
              "    .colab-df-convert {\n",
              "      background-color: #E8F0FE;\n",
              "      border: none;\n",
              "      border-radius: 50%;\n",
              "      cursor: pointer;\n",
              "      display: none;\n",
              "      fill: #1967D2;\n",
              "      height: 32px;\n",
              "      padding: 0 0 0 0;\n",
              "      width: 32px;\n",
              "    }\n",
              "\n",
              "    .colab-df-convert:hover {\n",
              "      background-color: #E2EBFA;\n",
              "      box-shadow: 0px 1px 2px rgba(60, 64, 67, 0.3), 0px 1px 3px 1px rgba(60, 64, 67, 0.15);\n",
              "      fill: #174EA6;\n",
              "    }\n",
              "\n",
              "    [theme=dark] .colab-df-convert {\n",
              "      background-color: #3B4455;\n",
              "      fill: #D2E3FC;\n",
              "    }\n",
              "\n",
              "    [theme=dark] .colab-df-convert:hover {\n",
              "      background-color: #434B5C;\n",
              "      box-shadow: 0px 1px 3px 1px rgba(0, 0, 0, 0.15);\n",
              "      filter: drop-shadow(0px 1px 2px rgba(0, 0, 0, 0.3));\n",
              "      fill: #FFFFFF;\n",
              "    }\n",
              "  </style>\n",
              "\n",
              "      <script>\n",
              "        const buttonEl =\n",
              "          document.querySelector('#df-1ff1a052-acaa-47fa-b72a-351567b64e22 button.colab-df-convert');\n",
              "        buttonEl.style.display =\n",
              "          google.colab.kernel.accessAllowed ? 'block' : 'none';\n",
              "\n",
              "        async function convertToInteractive(key) {\n",
              "          const element = document.querySelector('#df-1ff1a052-acaa-47fa-b72a-351567b64e22');\n",
              "          const dataTable =\n",
              "            await google.colab.kernel.invokeFunction('convertToInteractive',\n",
              "                                                     [key], {});\n",
              "          if (!dataTable) return;\n",
              "\n",
              "          const docLinkHtml = 'Like what you see? Visit the ' +\n",
              "            '<a target=\"_blank\" href=https://colab.research.google.com/notebooks/data_table.ipynb>data table notebook</a>'\n",
              "            + ' to learn more about interactive tables.';\n",
              "          element.innerHTML = '';\n",
              "          dataTable['output_type'] = 'display_data';\n",
              "          await google.colab.output.renderOutput(dataTable, element);\n",
              "          const docLink = document.createElement('div');\n",
              "          docLink.innerHTML = docLinkHtml;\n",
              "          element.appendChild(docLink);\n",
              "        }\n",
              "      </script>\n",
              "    </div>\n",
              "  </div>\n",
              "  "
            ],
            "text/plain": [
              "    Cs_longia     AXE11     AXE12      AXE2      AXE3      AXE4      AXE5\n",
              "0           0 -0.001640  0.011923  0.102308 -1.801407 -0.832450  0.062173\n",
              "1           1 -0.005890  0.007865  0.008081 -1.369971 -0.792410 -0.012560\n",
              "2           1 -0.005890  0.007865  0.008081 -1.369971 -0.792410 -0.012560\n",
              "3           1  0.000629  0.013577 -0.077555 -2.480820 -0.756910 -0.121500\n",
              "4           0 -0.002810  0.005402  0.016373 -0.059747  0.577835  0.278006\n",
              "5           0 -0.002760  0.005402  0.021959 -0.262708  0.577835  0.273379\n",
              "6           0 -0.000010  0.006071  0.030925  0.381259 -0.687890 -0.080940\n",
              "7           0  0.001179  0.004634 -0.022492  0.806717 -0.719120  0.224582\n",
              "8           1 -0.002400  0.006000  0.109514  0.845323  1.029173  0.228331\n",
              "9           0 -0.001750  0.005932  0.090288  0.493467  1.097954  0.133737\n",
              "10          0  0.001006  0.009563 -0.015819 -0.476458 -0.824670 -0.195530\n",
              "11          1  0.001603  0.005571 -0.067299 -0.847488 -0.704960 -0.311720\n",
              "12          0  0.001609  0.015821 -0.008849 -1.950413 -0.678720 -0.131960\n",
              "13          1 -0.004120  0.006150  0.113729  0.732956  1.585313  0.146234\n",
              "14          0 -0.000340  0.006167 -0.003732  0.196173  0.305641 -0.340590\n",
              "15          0 -0.001760 -0.014193  0.075740  1.802629  0.312447  0.213932\n",
              "16          0 -0.000031 -0.013794 -0.018632  2.880967  1.697339  0.090486\n",
              "17          0  0.000560 -0.014390 -0.012611  2.007770  1.880980  0.058737\n",
              "18          0 -0.000240 -0.013936  0.002100  1.657517  1.148936  0.056395\n",
              "19          0  0.002838 -0.016823  0.019787  0.975107  1.003646  0.048942\n",
              "20          0 -0.001240 -0.017717  0.030422  2.479246  0.928460  0.127419\n",
              "21          0 -0.000910 -0.013483  0.103213  1.787943  0.703941  0.169502\n",
              "22          0  0.000051 -0.008201  0.112808  2.505752  1.960587 -0.013740\n",
              "23          0 -0.003130 -0.001511  0.109717  2.485413  2.183233 -0.069070\n",
              "24          0 -0.000820  0.002606 -0.100164  1.301775  0.092805  0.213304\n",
              "25          0 -0.001080  0.004192  0.048052  0.630137 -0.224920 -0.055740\n",
              "26          0 -0.001990  0.007959 -0.021120 -0.330718  0.313012  0.195129\n",
              "27          0 -0.002620 -0.003645  0.062814 -0.784803 -1.141370 -0.761250\n",
              "28          0 -0.003280 -0.025240  0.146760  0.435716  0.956744  0.375518\n",
              "29          0  0.002210 -0.000530  0.055754  1.249337 -0.519240  0.693649\n",
              "30          0 -0.003510 -0.012668  0.045481  2.580335  1.539671  0.319655\n",
              "31          0 -0.003510 -0.012668  0.045481  2.580335  1.539671  0.319764\n",
              "32          0 -0.001820 -0.017053  0.064932 -1.441880  1.683146  0.417060\n",
              "33          0  0.003424  0.005687  0.016161 -2.054705  3.828315  0.193179\n",
              "34          0 -0.001870  0.013852  0.003016  0.267022  0.396368 -0.212040\n",
              "35          0 -0.003410  0.015385  0.055900  1.350126  0.418147  0.318408\n",
              "36          0  0.001568  0.016149 -0.034828 -0.639231  0.915747  0.012555\n",
              "37          1  0.003009  0.010352 -0.071017 -3.011023 -0.857600 -0.362020\n",
              "38          1  0.000970  0.007907 -0.021193 -1.891990 -1.568720 -0.233540\n",
              "39          1  0.004510  0.010531 -0.092814 -2.897358 -0.419090 -0.360670\n",
              "40          1 -0.002490  0.016458  0.065449 -0.674093  0.423211 -0.104530\n",
              "41          1  0.002015 -0.005469  0.013261  1.686153  2.712957  0.094912\n",
              "42          1  0.000355  0.008073 -0.118880  0.573251 -0.208240  0.550143\n",
              "43          1  0.001272  0.002914 -0.013157 -0.172361 -1.963790 -0.269870\n",
              "44          1  0.005844  0.006917 -0.068927  0.860664 -2.555320 -0.327000\n",
              "45          1  0.000196 -0.012860 -0.033680  1.991456  2.090065  0.204619\n",
              "46          1 -0.000690  0.000682 -0.066152  1.976231  0.679674  0.318243\n",
              "47          1 -0.001120 -0.016118  0.049230  0.860964  0.915314  0.000863\n",
              "48          1 -0.001530 -0.005692 -0.106042 -0.435856  0.556777 -0.108280\n",
              "49          1  0.001075 -0.004181 -0.096706 -1.371843 -0.844430 -0.177130\n",
              "50          1 -0.005070  0.005909  0.029881 -1.150525 -2.275600 -0.125230"
            ]
          },
          "metadata": {},
          "execution_count": 5
        }
      ]
    },
    {
      "cell_type": "code",
      "metadata": {
        "id": "WlXmEfpym-Hm"
      },
      "source": [
        "X_app = apprentissage.loc[:, apprentissage.columns != 'Cs_longia']\n",
        "Y_app = apprentissage.Cs_longia\n",
        "X_test = test.loc[:, test.columns != 'Cs_longia']\n",
        "Y_test = test.Cs_longia"
      ],
      "execution_count": 6,
      "outputs": []
    },
    {
      "cell_type": "markdown",
      "source": [
        "# XGBOOST"
      ],
      "metadata": {
        "id": "THsA6X7josns"
      }
    },
    {
      "cell_type": "code",
      "source": [
        "Classifier = XGBClassifier(scale_pos_weight=1,learning_rate=0.5,max_depth=5,n_estimators=150,objective=\"binary:logistic\")"
      ],
      "metadata": {
        "id": "LvZVQSVTx91X"
      },
      "execution_count": 7,
      "outputs": []
    },
    {
      "cell_type": "code",
      "source": [
        "Classifier.fit(X_app,Y_app)"
      ],
      "metadata": {
        "colab": {
          "base_uri": "https://localhost:8080/"
        },
        "id": "kzx4dBDMx93d",
        "outputId": "e25be5e9-478f-4185-8fb6-f8e9ad839610"
      },
      "execution_count": 8,
      "outputs": [
        {
          "output_type": "execute_result",
          "data": {
            "text/plain": [
              "XGBClassifier(learning_rate=0.5, max_depth=5, n_estimators=150)"
            ]
          },
          "metadata": {},
          "execution_count": 8
        }
      ]
    },
    {
      "cell_type": "code",
      "metadata": {
        "id": "mpZMF-EhTV0N"
      },
      "source": [
        "preds = Classifier.predict(X_test)"
      ],
      "execution_count": 9,
      "outputs": []
    },
    {
      "cell_type": "code",
      "metadata": {
        "id": "wfCXrkA0TV0O",
        "colab": {
          "base_uri": "https://localhost:8080/"
        },
        "outputId": "ff7dea3a-ac13-43d6-f92b-b3d262a92279"
      },
      "source": [
        "preds"
      ],
      "execution_count": 10,
      "outputs": [
        {
          "output_type": "execute_result",
          "data": {
            "text/plain": [
              "array([0, 0, 0, 1, 0, 0, 1, 1, 0, 0, 1, 1, 1, 0, 0, 0, 1, 0, 0, 1, 0, 0,\n",
              "       0, 0, 0, 0, 0, 0, 0, 0, 0, 0, 0, 1, 0, 0, 1, 1, 1, 1, 0, 1, 1, 1,\n",
              "       1, 1, 0, 0, 0, 1, 0])"
            ]
          },
          "metadata": {},
          "execution_count": 10
        }
      ]
    },
    {
      "cell_type": "code",
      "metadata": {
        "colab": {
          "base_uri": "https://localhost:8080/"
        },
        "outputId": "22902ff7-fd5f-4a9c-814b-a8789465127f",
        "id": "-kxBDaKxzO2e"
      },
      "source": [
        "cf_matrix = confusion_matrix(Y_test, preds)\n",
        "print(cf_matrix)"
      ],
      "execution_count": 11,
      "outputs": [
        {
          "output_type": "stream",
          "name": "stdout",
          "text": [
            "[[23  8]\n",
            " [ 9 11]]\n"
          ]
        }
      ]
    },
    {
      "cell_type": "code",
      "source": [
        "###Recall\n",
        "def recall(y_test, preds):\n",
        "  recall=recall_score(y_test, preds)\n",
        "  return recall\n",
        "def MCC(y_test, preds):\n",
        "  MCC= matthews_corrcoef(y_test, preds) \n",
        "  return MCC\n",
        "### MCC\n",
        "def MCC(y_test, preds):\n",
        "  MCC= matthews_corrcoef(y_test, preds) \n",
        "  return MCC\n",
        "### sensibilite\n",
        "def sensibilite(y_test, preds):\n",
        "  cf_matrix = confusion_matrix(y_test, preds)\n",
        "  sensibilite =  (cf_matrix[1,1])/(cf_matrix[1,1]+cf_matrix[1,0])\n",
        "  return sensibilite\n",
        "### specifite \n",
        "def specifite(y_test, preds):\n",
        "  cf_matrix = confusion_matrix(y_test, preds)\n",
        "  specifite =  (cf_matrix[0,0])/(cf_matrix[0,0]+cf_matrix[0,1])\n",
        "  return specifite \n",
        "### kappa\n",
        "def kappa(y_test, preds):\n",
        "  value = cohen_kappa_score(y_test, preds)\n",
        "  return value\n",
        "### balancedacc\n",
        "def balancedacc(y_test, preds):\n",
        "  cf_matrix = confusion_matrix(y_test, preds)\n",
        "  sen = (cf_matrix[1,1])/(cf_matrix[1,1]+cf_matrix[0,1])\n",
        "  spe = (cf_matrix[0,0])/(cf_matrix[0,0]+cf_matrix[1,0])\n",
        "  value = (sen + spe)/2\n",
        "  return value\n",
        "def présicion_positive(y_test, preds):\n",
        "  cf_matrix = confusion_matrix(y_test, preds)\n",
        "  pre_pos =  (cf_matrix[1,1])/(cf_matrix[1,1]+cf_matrix[0,1])\n",
        "  return pre_pos\n",
        "def présicion_négative(y_test, preds):\n",
        "  cf_matrix = confusion_matrix(y_test, preds)\n",
        "  pre_pos =  (cf_matrix[0,0])/(cf_matrix[0,0]+cf_matrix[1,0])\n",
        "  return pre_pos\n",
        "  \n",
        "### courbe roc\n",
        "def plot_roc_curve(fper, tper):\n",
        "    plt.plot(fper, tper, color='red', label='ROC')\n",
        "    plt.plot([0, 1], [0, 1], color='green', linestyle='--')\n",
        "    plt.xlabel('False Positive Rate')\n",
        "    plt.ylabel('True Positive Rate')\n",
        "    plt.title('Receiver Operating Characteristic Curve')\n",
        "    plt.legend()\n",
        "    plt.show()"
      ],
      "metadata": {
        "id": "PT7afKHWJD6b"
      },
      "execution_count": 12,
      "outputs": []
    },
    {
      "cell_type": "code",
      "source": [
        "MCC(Y_test, preds)"
      ],
      "metadata": {
        "colab": {
          "base_uri": "https://localhost:8080/"
        },
        "id": "0YKjN3KXIaz7",
        "outputId": "b04d18fa-cb7f-411c-b474-231f4c8a3023"
      },
      "execution_count": 13,
      "outputs": [
        {
          "output_type": "execute_result",
          "data": {
            "text/plain": [
              "0.29480234954476486"
            ]
          },
          "metadata": {},
          "execution_count": 13
        }
      ]
    },
    {
      "cell_type": "code",
      "source": [
        "recall(Y_test, preds)"
      ],
      "metadata": {
        "colab": {
          "base_uri": "https://localhost:8080/"
        },
        "id": "y5XZY6B2JD9D",
        "outputId": "0d396d48-3101-4cd3-da04-86dac040fa1e"
      },
      "execution_count": 14,
      "outputs": [
        {
          "output_type": "execute_result",
          "data": {
            "text/plain": [
              "0.55"
            ]
          },
          "metadata": {},
          "execution_count": 14
        }
      ]
    },
    {
      "cell_type": "code",
      "source": [
        "sensibilite(Y_test, preds)"
      ],
      "metadata": {
        "colab": {
          "base_uri": "https://localhost:8080/"
        },
        "id": "kqSk6bUfJD_T",
        "outputId": "2009dbdc-f201-4201-de98-96196df845c7"
      },
      "execution_count": 15,
      "outputs": [
        {
          "output_type": "execute_result",
          "data": {
            "text/plain": [
              "0.55"
            ]
          },
          "metadata": {},
          "execution_count": 15
        }
      ]
    },
    {
      "cell_type": "code",
      "source": [
        "specifite(Y_test, preds)"
      ],
      "metadata": {
        "colab": {
          "base_uri": "https://localhost:8080/"
        },
        "id": "pNQ0SMEcJEBk",
        "outputId": "23792d92-9801-457b-9415-492780790d20"
      },
      "execution_count": 16,
      "outputs": [
        {
          "output_type": "execute_result",
          "data": {
            "text/plain": [
              "0.7419354838709677"
            ]
          },
          "metadata": {},
          "execution_count": 16
        }
      ]
    },
    {
      "cell_type": "code",
      "source": [
        "présicion_négative(Y_test, preds)"
      ],
      "metadata": {
        "colab": {
          "base_uri": "https://localhost:8080/"
        },
        "id": "H2OR9PEknpHB",
        "outputId": "1e89c445-a314-4069-a042-8c75fdba637c"
      },
      "execution_count": 17,
      "outputs": [
        {
          "output_type": "execute_result",
          "data": {
            "text/plain": [
              "0.71875"
            ]
          },
          "metadata": {},
          "execution_count": 17
        }
      ]
    },
    {
      "cell_type": "code",
      "source": [
        "présicion_positive(Y_test, preds)"
      ],
      "metadata": {
        "colab": {
          "base_uri": "https://localhost:8080/"
        },
        "id": "5F8mvboxno-8",
        "outputId": "763f3d21-b3b1-456e-f507-d3e68a2558a6"
      },
      "execution_count": 18,
      "outputs": [
        {
          "output_type": "execute_result",
          "data": {
            "text/plain": [
              "0.5789473684210527"
            ]
          },
          "metadata": {},
          "execution_count": 18
        }
      ]
    },
    {
      "cell_type": "code",
      "source": [
        "balancedacc(Y_test, preds)"
      ],
      "metadata": {
        "colab": {
          "base_uri": "https://localhost:8080/"
        },
        "id": "ZBb1_XQDnxip",
        "outputId": "a4effb31-b0dd-4751-d71b-c0fa9ca3cbd5"
      },
      "execution_count": 19,
      "outputs": [
        {
          "output_type": "execute_result",
          "data": {
            "text/plain": [
              "0.6488486842105263"
            ]
          },
          "metadata": {},
          "execution_count": 19
        }
      ]
    },
    {
      "cell_type": "code",
      "source": [
        "kappa(Y_test, preds)"
      ],
      "metadata": {
        "colab": {
          "base_uri": "https://localhost:8080/"
        },
        "id": "Oov8iFSGop2F",
        "outputId": "a34a816e-ec98-43b3-f698-ee1f3a9f32e5"
      },
      "execution_count": 20,
      "outputs": [
        {
          "output_type": "execute_result",
          "data": {
            "text/plain": [
              "0.29454841334418225"
            ]
          },
          "metadata": {},
          "execution_count": 20
        }
      ]
    },
    {
      "cell_type": "code",
      "source": [
        "y_pred_proba = Classifier.predict_proba(X_test)[::,1]\n",
        "fpr, tpr, _ = metrics.roc_curve(Y_test,  y_pred_proba)\n",
        "auc = metrics.roc_auc_score(Y_test, y_pred_proba)\n",
        "plt.plot(fpr,tpr,label=\"xgboost, auc=\"+str(auc))\n",
        "plt.legend(loc=4)\n",
        "plt.show()"
      ],
      "metadata": {
        "colab": {
          "base_uri": "https://localhost:8080/",
          "height": 265
        },
        "id": "eOzFa818Ia2R",
        "outputId": "06e4394e-3f07-4a6e-9ac5-a88d42fac6f5"
      },
      "execution_count": 21,
      "outputs": [
        {
          "output_type": "display_data",
          "data": {
            "image/png": "[encoded data removed]",
            "text/plain": [
              "<Figure size 432x288 with 1 Axes>"
            ]
          },
          "metadata": {
            "needs_background": "light"
          }
        }
      ]
    },
    {
      "cell_type": "markdown",
      "source": [
        "# Logistic"
      ],
      "metadata": {
        "id": "y9aeHkxsorEv"
      }
    },
    {
      "cell_type": "code",
      "source": [
        "Classifier1 = LogisticRegression(max_iter=100, solver='lbfgs', class_weight='balanced')"
      ],
      "metadata": {
        "id": "BqdBNQ8OtRBK"
      },
      "execution_count": 22,
      "outputs": []
    },
    {
      "cell_type": "code",
      "source": [
        "Classifier1.fit(X_app,Y_app)"
      ],
      "metadata": {
        "colab": {
          "base_uri": "https://localhost:8080/"
        },
        "outputId": "5a38ae5b-b692-477b-d143-50593babd226",
        "id": "cFamN3t7tRBN"
      },
      "execution_count": 23,
      "outputs": [
        {
          "output_type": "execute_result",
          "data": {
            "text/plain": [
              "LogisticRegression(class_weight='balanced')"
            ]
          },
          "metadata": {},
          "execution_count": 23
        }
      ]
    },
    {
      "cell_type": "code",
      "metadata": {
        "id": "WWCUVz41tRBN"
      },
      "source": [
        "preds1 = Classifier1.predict(X_test)"
      ],
      "execution_count": 24,
      "outputs": []
    },
    {
      "cell_type": "code",
      "metadata": {
        "colab": {
          "base_uri": "https://localhost:8080/"
        },
        "outputId": "d6b6635c-afea-4b57-99da-e0847e0575e9",
        "id": "cLbQ1a3ytRBO"
      },
      "source": [
        "preds1"
      ],
      "execution_count": 25,
      "outputs": [
        {
          "output_type": "execute_result",
          "data": {
            "text/plain": [
              "array([1, 1, 1, 1, 0, 0, 1, 0, 0, 0, 1, 1, 1, 0, 1, 0, 0, 0, 0, 0, 0, 0,\n",
              "       0, 0, 0, 1, 0, 1, 0, 0, 0, 0, 0, 0, 1, 0, 0, 1, 1, 1, 1, 0, 0, 1,\n",
              "       1, 0, 0, 0, 1, 1, 1])"
            ]
          },
          "metadata": {},
          "execution_count": 25
        }
      ]
    },
    {
      "cell_type": "code",
      "metadata": {
        "colab": {
          "base_uri": "https://localhost:8080/"
        },
        "outputId": "8c55c6d7-8c0b-4b9c-aac1-dfedee5eff4c",
        "id": "jYdLZtC2tRBP"
      },
      "source": [
        "cf_matrix1 = confusion_matrix(Y_test, preds1)\n",
        "print(cf_matrix1)"
      ],
      "execution_count": 26,
      "outputs": [
        {
          "output_type": "stream",
          "name": "stdout",
          "text": [
            "[[23  8]\n",
            " [ 7 13]]\n"
          ]
        }
      ]
    },
    {
      "cell_type": "code",
      "source": [
        "MCC(Y_test, preds1)"
      ],
      "metadata": {
        "colab": {
          "base_uri": "https://localhost:8080/"
        },
        "outputId": "0648de12-5c4a-4b38-d7fb-f3c8fe5646cb",
        "id": "r9gihGeYtxi3"
      },
      "execution_count": 27,
      "outputs": [
        {
          "output_type": "execute_result",
          "data": {
            "text/plain": [
              "0.38881244219722866"
            ]
          },
          "metadata": {},
          "execution_count": 27
        }
      ]
    },
    {
      "cell_type": "code",
      "source": [
        "recall(Y_test, preds1)"
      ],
      "metadata": {
        "colab": {
          "base_uri": "https://localhost:8080/"
        },
        "outputId": "fc0016d0-6a8c-4579-d3ff-1748c072c76d",
        "id": "nEBoze-Ptxi6"
      },
      "execution_count": 28,
      "outputs": [
        {
          "output_type": "execute_result",
          "data": {
            "text/plain": [
              "0.65"
            ]
          },
          "metadata": {},
          "execution_count": 28
        }
      ]
    },
    {
      "cell_type": "code",
      "source": [
        "sensibilite(Y_test, preds1)"
      ],
      "metadata": {
        "colab": {
          "base_uri": "https://localhost:8080/"
        },
        "outputId": "4d71a189-68f7-4ae9-83e2-674778eb762b",
        "id": "FeSUU13Dtxi6"
      },
      "execution_count": 29,
      "outputs": [
        {
          "output_type": "execute_result",
          "data": {
            "text/plain": [
              "0.65"
            ]
          },
          "metadata": {},
          "execution_count": 29
        }
      ]
    },
    {
      "cell_type": "code",
      "source": [
        "specifite(Y_test, preds1)"
      ],
      "metadata": {
        "colab": {
          "base_uri": "https://localhost:8080/"
        },
        "outputId": "47496367-c59d-44a2-b46b-17d67f8ec828",
        "id": "dwQpig7Htxi6"
      },
      "execution_count": 30,
      "outputs": [
        {
          "output_type": "execute_result",
          "data": {
            "text/plain": [
              "0.7419354838709677"
            ]
          },
          "metadata": {},
          "execution_count": 30
        }
      ]
    },
    {
      "cell_type": "code",
      "source": [
        "présicion_négative(Y_test, preds1)"
      ],
      "metadata": {
        "colab": {
          "base_uri": "https://localhost:8080/"
        },
        "outputId": "53157cf0-3d16-48e3-f650-fc5d73c03179",
        "id": "6H7Fh0xYtxi8"
      },
      "execution_count": 31,
      "outputs": [
        {
          "output_type": "execute_result",
          "data": {
            "text/plain": [
              "0.7666666666666667"
            ]
          },
          "metadata": {},
          "execution_count": 31
        }
      ]
    },
    {
      "cell_type": "code",
      "source": [
        "présicion_positive(Y_test, preds1)"
      ],
      "metadata": {
        "colab": {
          "base_uri": "https://localhost:8080/"
        },
        "outputId": "3cda06f4-8312-4662-b1b4-95991da52dbd",
        "id": "76_2PqsYtxi9"
      },
      "execution_count": 32,
      "outputs": [
        {
          "output_type": "execute_result",
          "data": {
            "text/plain": [
              "0.6190476190476191"
            ]
          },
          "metadata": {},
          "execution_count": 32
        }
      ]
    },
    {
      "cell_type": "code",
      "source": [
        "balancedacc(Y_test, preds1)"
      ],
      "metadata": {
        "colab": {
          "base_uri": "https://localhost:8080/"
        },
        "outputId": "ab11db61-c389-416e-a634-90dd30ff72b4",
        "id": "GnAaGf7Ftxi9"
      },
      "execution_count": 33,
      "outputs": [
        {
          "output_type": "execute_result",
          "data": {
            "text/plain": [
              "0.6928571428571428"
            ]
          },
          "metadata": {},
          "execution_count": 33
        }
      ]
    },
    {
      "cell_type": "code",
      "source": [
        "kappa(Y_test, preds1)"
      ],
      "metadata": {
        "colab": {
          "base_uri": "https://localhost:8080/"
        },
        "outputId": "2206ac1b-b40b-4e65-b4bc-25a8763e99d8",
        "id": "qET4Gk3Jtxi-"
      },
      "execution_count": 34,
      "outputs": [
        {
          "output_type": "execute_result",
          "data": {
            "text/plain": [
              "0.38848920863309355"
            ]
          },
          "metadata": {},
          "execution_count": 34
        }
      ]
    },
    {
      "cell_type": "code",
      "source": [
        "y_pred_proba = Classifier1.predict_proba(X_test)[::,1]\n",
        "fpr, tpr, _ = metrics.roc_curve(Y_test,  y_pred_proba)\n",
        "auc = metrics.roc_auc_score(Y_test, y_pred_proba)\n",
        "plt.plot(fpr,tpr,label=\"xgboost, auc=\"+str(auc))\n",
        "plt.legend(loc=4)\n",
        "plt.show()"
      ],
      "metadata": {
        "colab": {
          "base_uri": "https://localhost:8080/",
          "height": 265
        },
        "outputId": "3911de51-f3e5-4140-de77-0b6131b01705",
        "id": "7KQf8mPRtxi-"
      },
      "execution_count": 35,
      "outputs": [
        {
          "output_type": "display_data",
          "data": {
            "image/png": "[encoded data removed]",
            "text/plain": [
              "<Figure size 432x288 with 1 Axes>"
            ]
          },
          "metadata": {
            "needs_background": "light"
          }
        }
      ]
    },
    {
      "cell_type": "markdown",
      "source": [
        "# Random_forest"
      ],
      "metadata": {
        "id": "zGlIAvl7x7Kc"
      }
    },
    {
      "cell_type": "code",
      "source": [
        "Classifier2 = RandomForestClassifier(n_estimators=100, criterion='gini', max_depth=5 ,min_samples_split=3)"
      ],
      "metadata": {
        "id": "OnTVCOaQx7Ke"
      },
      "execution_count": 36,
      "outputs": []
    },
    {
      "cell_type": "code",
      "source": [
        "Classifier2.fit(X_app,Y_app)"
      ],
      "metadata": {
        "colab": {
          "base_uri": "https://localhost:8080/"
        },
        "outputId": "04b090ad-8181-4eef-947f-f5d726403bb5",
        "id": "DXZaUbAOx7Kf"
      },
      "execution_count": 37,
      "outputs": [
        {
          "output_type": "execute_result",
          "data": {
            "text/plain": [
              "RandomForestClassifier(max_depth=5, min_samples_split=3)"
            ]
          },
          "metadata": {},
          "execution_count": 37
        }
      ]
    },
    {
      "cell_type": "code",
      "metadata": {
        "id": "gZ5dhlTJx7Kg"
      },
      "source": [
        "preds2 = Classifier2.predict(X_test)"
      ],
      "execution_count": 38,
      "outputs": []
    },
    {
      "cell_type": "code",
      "metadata": {
        "colab": {
          "base_uri": "https://localhost:8080/"
        },
        "outputId": "bbfafe1b-102a-4d54-8d78-7a3e403127ff",
        "id": "3xri6EYkx7Kh"
      },
      "source": [
        "preds2"
      ],
      "execution_count": 39,
      "outputs": [
        {
          "output_type": "execute_result",
          "data": {
            "text/plain": [
              "array([0, 0, 0, 1, 0, 0, 1, 1, 0, 0, 1, 1, 1, 0, 1, 0, 1, 1, 1, 1, 0, 0,\n",
              "       0, 0, 0, 0, 0, 0, 0, 0, 0, 0, 0, 1, 0, 0, 1, 1, 1, 1, 0, 1, 1, 1,\n",
              "       1, 1, 0, 0, 0, 1, 0])"
            ]
          },
          "metadata": {},
          "execution_count": 39
        }
      ]
    },
    {
      "cell_type": "code",
      "metadata": {
        "colab": {
          "base_uri": "https://localhost:8080/"
        },
        "outputId": "66352882-2da2-4176-a82b-b62af8d42fc9",
        "id": "x_YXboonx7Kh"
      },
      "source": [
        "cf_matrix2 = confusion_matrix(Y_test, preds2)\n",
        "print(cf_matrix2)"
      ],
      "execution_count": 40,
      "outputs": [
        {
          "output_type": "stream",
          "name": "stdout",
          "text": [
            "[[20 11]\n",
            " [ 9 11]]\n"
          ]
        }
      ]
    },
    {
      "cell_type": "code",
      "source": [
        "MCC(Y_test, preds2)"
      ],
      "metadata": {
        "colab": {
          "base_uri": "https://localhost:8080/"
        },
        "outputId": "24bacd19-471f-4a24-e3b5-877f54fa2f02",
        "id": "B7ku8BpLx7Ki"
      },
      "execution_count": 41,
      "outputs": [
        {
          "output_type": "execute_result",
          "data": {
            "text/plain": [
              "0.1923885343897275"
            ]
          },
          "metadata": {},
          "execution_count": 41
        }
      ]
    },
    {
      "cell_type": "code",
      "source": [
        "recall(Y_test, preds2)"
      ],
      "metadata": {
        "colab": {
          "base_uri": "https://localhost:8080/"
        },
        "outputId": "3b9e7e9c-fae9-4a8c-a017-7acb68870879",
        "id": "0-gUEv9Kx7Kj"
      },
      "execution_count": 42,
      "outputs": [
        {
          "output_type": "execute_result",
          "data": {
            "text/plain": [
              "0.55"
            ]
          },
          "metadata": {},
          "execution_count": 42
        }
      ]
    },
    {
      "cell_type": "code",
      "source": [
        "sensibilite(Y_test, preds2)"
      ],
      "metadata": {
        "colab": {
          "base_uri": "https://localhost:8080/"
        },
        "outputId": "4a75d4fe-67af-4919-ddd6-7cdddcb6dd33",
        "id": "_Hm4Xdv3x7Kk"
      },
      "execution_count": 43,
      "outputs": [
        {
          "output_type": "execute_result",
          "data": {
            "text/plain": [
              "0.55"
            ]
          },
          "metadata": {},
          "execution_count": 43
        }
      ]
    },
    {
      "cell_type": "code",
      "source": [
        "specifite(Y_test, preds2)"
      ],
      "metadata": {
        "colab": {
          "base_uri": "https://localhost:8080/"
        },
        "outputId": "4686023b-17c2-421f-a196-35a56d4f2327",
        "id": "rS3voaC9x7Kk"
      },
      "execution_count": 44,
      "outputs": [
        {
          "output_type": "execute_result",
          "data": {
            "text/plain": [
              "0.6451612903225806"
            ]
          },
          "metadata": {},
          "execution_count": 44
        }
      ]
    },
    {
      "cell_type": "code",
      "source": [
        "présicion_négative(Y_test, preds2)"
      ],
      "metadata": {
        "colab": {
          "base_uri": "https://localhost:8080/"
        },
        "outputId": "2754c076-59e6-4ff9-ecb8-cac055078fa7",
        "id": "aqcCGISAx7Kl"
      },
      "execution_count": 45,
      "outputs": [
        {
          "output_type": "execute_result",
          "data": {
            "text/plain": [
              "0.6896551724137931"
            ]
          },
          "metadata": {},
          "execution_count": 45
        }
      ]
    },
    {
      "cell_type": "code",
      "source": [
        "présicion_positive(Y_test, preds2)"
      ],
      "metadata": {
        "colab": {
          "base_uri": "https://localhost:8080/"
        },
        "outputId": "0906fd77-1222-4970-8a83-d64cf360741b",
        "id": "7pbTegOYx7Km"
      },
      "execution_count": 46,
      "outputs": [
        {
          "output_type": "execute_result",
          "data": {
            "text/plain": [
              "0.5"
            ]
          },
          "metadata": {},
          "execution_count": 46
        }
      ]
    },
    {
      "cell_type": "code",
      "source": [
        "balancedacc(Y_test, preds2)"
      ],
      "metadata": {
        "colab": {
          "base_uri": "https://localhost:8080/"
        },
        "outputId": "d68dd8b2-fc70-4ddc-d9cb-24601a8bec0c",
        "id": "2svuWaynx7Kn"
      },
      "execution_count": 47,
      "outputs": [
        {
          "output_type": "execute_result",
          "data": {
            "text/plain": [
              "0.5948275862068966"
            ]
          },
          "metadata": {},
          "execution_count": 47
        }
      ]
    },
    {
      "cell_type": "code",
      "source": [
        "kappa(Y_test, preds2)"
      ],
      "metadata": {
        "colab": {
          "base_uri": "https://localhost:8080/"
        },
        "outputId": "b4bfed47-e0f3-474c-9073-ae8f83f06018",
        "id": "_fj8QvtYx7Kn"
      },
      "execution_count": 48,
      "outputs": [
        {
          "output_type": "execute_result",
          "data": {
            "text/plain": [
              "0.19175911251980982"
            ]
          },
          "metadata": {},
          "execution_count": 48
        }
      ]
    },
    {
      "cell_type": "code",
      "source": [
        "y_pred_proba = Classifier2.predict_proba(X_test)[::,1]\n",
        "fpr, tpr, _ = metrics.roc_curve(Y_test,  y_pred_proba)\n",
        "auc = metrics.roc_auc_score(Y_test, y_pred_proba)\n",
        "plt.plot(fpr,tpr,label=\"xgboost, auc=\"+str(auc))\n",
        "plt.legend(loc=4)\n",
        "plt.show()"
      ],
      "metadata": {
        "colab": {
          "base_uri": "https://localhost:8080/",
          "height": 265
        },
        "outputId": "1d5bb129-dc0c-4713-971b-47efcc54db8d",
        "id": "m_3yw9xWx7Ko"
      },
      "execution_count": 49,
      "outputs": [
        {
          "output_type": "display_data",
          "data": {
            "image/png": "[encoded data removed]",
            "text/plain": [
              "<Figure size 432x288 with 1 Axes>"
            ]
          },
          "metadata": {
            "needs_background": "light"
          }
        }
      ]
    },
    {
      "cell_type": "markdown",
      "source": [
        "# Gradient_Boostnig"
      ],
      "metadata": {
        "id": "JI7145L2uHrL"
      }
    },
    {
      "cell_type": "code",
      "source": [
        "Classifier3 = GradientBoostingClassifier(n_estimators=225, learning_rate=0.1, max_features=2, max_depth=2, random_state=0,min_samples_leaf=2,subsample=1 )"
      ],
      "metadata": {
        "id": "qVCjVU68uGBZ"
      },
      "execution_count": 50,
      "outputs": []
    },
    {
      "cell_type": "code",
      "source": [
        "Classifier3.fit(X_app,Y_app)"
      ],
      "metadata": {
        "colab": {
          "base_uri": "https://localhost:8080/"
        },
        "outputId": "75588a70-b7dd-450b-ec90-363eebee8a47",
        "id": "BIMZEAdVuGBb"
      },
      "execution_count": 51,
      "outputs": [
        {
          "output_type": "execute_result",
          "data": {
            "text/plain": [
              "GradientBoostingClassifier(max_depth=2, max_features=2, min_samples_leaf=2,\n",
              "                           n_estimators=225, random_state=0, subsample=1)"
            ]
          },
          "metadata": {},
          "execution_count": 51
        }
      ]
    },
    {
      "cell_type": "code",
      "metadata": {
        "id": "7hG6F5ZyuGBc"
      },
      "source": [
        "preds3 = Classifier3.predict(X_test)"
      ],
      "execution_count": 52,
      "outputs": []
    },
    {
      "cell_type": "code",
      "metadata": {
        "colab": {
          "base_uri": "https://localhost:8080/"
        },
        "outputId": "0780df79-0c19-4571-83c1-0f23a4d7cf6a",
        "id": "4k9JFc37uGBc"
      },
      "source": [
        "preds3"
      ],
      "execution_count": 53,
      "outputs": [
        {
          "output_type": "execute_result",
          "data": {
            "text/plain": [
              "array([0, 0, 0, 1, 0, 0, 0, 1, 0, 0, 1, 1, 1, 0, 0, 0, 1, 1, 0, 1, 0, 0,\n",
              "       0, 0, 0, 0, 0, 0, 0, 0, 0, 0, 0, 1, 0, 0, 1, 1, 1, 1, 0, 1, 1, 1,\n",
              "       1, 1, 0, 0, 0, 1, 0])"
            ]
          },
          "metadata": {},
          "execution_count": 53
        }
      ]
    },
    {
      "cell_type": "code",
      "metadata": {
        "colab": {
          "base_uri": "https://localhost:8080/"
        },
        "outputId": "3ad03b90-530f-4111-cc97-0de32685ad7b",
        "id": "fVfK5rx0uGBd"
      },
      "source": [
        "cf_matrix3 = confusion_matrix(Y_test, preds3)\n",
        "print(cf_matrix3)"
      ],
      "execution_count": 54,
      "outputs": [
        {
          "output_type": "stream",
          "name": "stdout",
          "text": [
            "[[23  8]\n",
            " [ 9 11]]\n"
          ]
        }
      ]
    },
    {
      "cell_type": "code",
      "source": [
        "MCC(Y_test, preds3)"
      ],
      "metadata": {
        "colab": {
          "base_uri": "https://localhost:8080/"
        },
        "outputId": "f70ab65d-6cf4-43cd-cf54-a6e5e225625d",
        "id": "vbOeDj1BuGBe"
      },
      "execution_count": 55,
      "outputs": [
        {
          "output_type": "execute_result",
          "data": {
            "text/plain": [
              "0.29480234954476486"
            ]
          },
          "metadata": {},
          "execution_count": 55
        }
      ]
    },
    {
      "cell_type": "code",
      "source": [
        "recall(Y_test, preds3)"
      ],
      "metadata": {
        "colab": {
          "base_uri": "https://localhost:8080/"
        },
        "outputId": "7146dd73-f266-4413-e7f0-a79475719bfa",
        "id": "C9aawbDzuGBe"
      },
      "execution_count": 56,
      "outputs": [
        {
          "output_type": "execute_result",
          "data": {
            "text/plain": [
              "0.55"
            ]
          },
          "metadata": {},
          "execution_count": 56
        }
      ]
    },
    {
      "cell_type": "code",
      "source": [
        "sensibilite(Y_test, preds3)"
      ],
      "metadata": {
        "colab": {
          "base_uri": "https://localhost:8080/"
        },
        "outputId": "8c944081-1b98-497a-92d5-826f3585197d",
        "id": "MQOsFFQ6uGBf"
      },
      "execution_count": 57,
      "outputs": [
        {
          "output_type": "execute_result",
          "data": {
            "text/plain": [
              "0.55"
            ]
          },
          "metadata": {},
          "execution_count": 57
        }
      ]
    },
    {
      "cell_type": "code",
      "source": [
        "specifite(Y_test, preds3)"
      ],
      "metadata": {
        "colab": {
          "base_uri": "https://localhost:8080/"
        },
        "outputId": "87706614-f077-4600-9e18-d26583de9005",
        "id": "mM4JBuWiuGBf"
      },
      "execution_count": 58,
      "outputs": [
        {
          "output_type": "execute_result",
          "data": {
            "text/plain": [
              "0.7419354838709677"
            ]
          },
          "metadata": {},
          "execution_count": 58
        }
      ]
    },
    {
      "cell_type": "code",
      "source": [
        "présicion_négative(Y_test, preds3)"
      ],
      "metadata": {
        "colab": {
          "base_uri": "https://localhost:8080/"
        },
        "outputId": "76a1f299-bf99-40a5-b71f-967d2b3a381f",
        "id": "6_VmQRhwuGBg"
      },
      "execution_count": 59,
      "outputs": [
        {
          "output_type": "execute_result",
          "data": {
            "text/plain": [
              "0.71875"
            ]
          },
          "metadata": {},
          "execution_count": 59
        }
      ]
    },
    {
      "cell_type": "code",
      "source": [
        "présicion_positive(Y_test, preds3)"
      ],
      "metadata": {
        "colab": {
          "base_uri": "https://localhost:8080/"
        },
        "outputId": "21a8bc0f-a85b-4bf1-87c1-79174502cbd1",
        "id": "WaWhbVz0uGBh"
      },
      "execution_count": 60,
      "outputs": [
        {
          "output_type": "execute_result",
          "data": {
            "text/plain": [
              "0.5789473684210527"
            ]
          },
          "metadata": {},
          "execution_count": 60
        }
      ]
    },
    {
      "cell_type": "code",
      "source": [
        "balancedacc(Y_test, preds3)"
      ],
      "metadata": {
        "colab": {
          "base_uri": "https://localhost:8080/"
        },
        "outputId": "f0213ccd-d9d7-4b35-f79b-fdcfc8cda938",
        "id": "vD0WviqluGBi"
      },
      "execution_count": 61,
      "outputs": [
        {
          "output_type": "execute_result",
          "data": {
            "text/plain": [
              "0.6488486842105263"
            ]
          },
          "metadata": {},
          "execution_count": 61
        }
      ]
    },
    {
      "cell_type": "code",
      "source": [
        "kappa(Y_test, preds3)"
      ],
      "metadata": {
        "colab": {
          "base_uri": "https://localhost:8080/"
        },
        "outputId": "5b461eb7-5b0f-42d2-d06d-1e0fe31674dc",
        "id": "fkjFRlqVuGBj"
      },
      "execution_count": 62,
      "outputs": [
        {
          "output_type": "execute_result",
          "data": {
            "text/plain": [
              "0.29454841334418225"
            ]
          },
          "metadata": {},
          "execution_count": 62
        }
      ]
    },
    {
      "cell_type": "code",
      "source": [
        "y_pred_proba = Classifier3.predict_proba(X_test)[::,1]\n",
        "fpr, tpr, _ = metrics.roc_curve(Y_test,  y_pred_proba)\n",
        "auc = metrics.roc_auc_score(Y_test, y_pred_proba)\n",
        "plt.plot(fpr,tpr,label=\"xgboost, auc=\"+str(auc))\n",
        "plt.legend(loc=4)\n",
        "plt.show()"
      ],
      "metadata": {
        "colab": {
          "base_uri": "https://localhost:8080/",
          "height": 265
        },
        "outputId": "1229670a-81de-4fc5-b4b8-d9c0c18e2d73",
        "id": "AIZJ2moWuGBj"
      },
      "execution_count": 63,
      "outputs": [
        {
          "output_type": "display_data",
          "data": {
            "image/png": "[encoded data removed]",
            "text/plain": [
              "<Figure size 432x288 with 1 Axes>"
            ]
          },
          "metadata": {
            "needs_background": "light"
          }
        }
      ]
    },
    {
      "cell_type": "markdown",
      "source": [
        "# Gaussian"
      ],
      "metadata": {
        "id": "M_oLoKwYyQ5r"
      }
    },
    {
      "cell_type": "code",
      "source": [
        "Classifier4 = GaussianNB()"
      ],
      "metadata": {
        "id": "R3n-YXTPyOrL"
      },
      "execution_count": 64,
      "outputs": []
    },
    {
      "cell_type": "code",
      "source": [
        "Classifier4.fit(X_app,Y_app)"
      ],
      "metadata": {
        "colab": {
          "base_uri": "https://localhost:8080/"
        },
        "outputId": "3a626d67-5c13-4c6b-8d34-1e8b02a78150",
        "id": "CqAOx3ZxyOrM"
      },
      "execution_count": 65,
      "outputs": [
        {
          "output_type": "execute_result",
          "data": {
            "text/plain": [
              "GaussianNB()"
            ]
          },
          "metadata": {},
          "execution_count": 65
        }
      ]
    },
    {
      "cell_type": "code",
      "metadata": {
        "id": "sUQwDdgHyOrN"
      },
      "source": [
        "preds4 = Classifier4.predict(X_test)"
      ],
      "execution_count": 66,
      "outputs": []
    },
    {
      "cell_type": "code",
      "metadata": {
        "colab": {
          "base_uri": "https://localhost:8080/"
        },
        "outputId": "d8055891-3e2e-4af2-db9f-78e6870d6899",
        "id": "wgNGL6VZyOrN"
      },
      "source": [
        "preds4"
      ],
      "execution_count": 67,
      "outputs": [
        {
          "output_type": "execute_result",
          "data": {
            "text/plain": [
              "array([0, 0, 0, 1, 0, 0, 1, 1, 0, 0, 1, 1, 1, 0, 1, 0, 0, 0, 0, 1, 0, 0,\n",
              "       0, 0, 1, 0, 0, 1, 0, 0, 0, 0, 0, 1, 0, 0, 1, 1, 1, 1, 0, 0, 1, 1,\n",
              "       1, 0, 0, 0, 1, 1, 0])"
            ]
          },
          "metadata": {},
          "execution_count": 67
        }
      ]
    },
    {
      "cell_type": "code",
      "metadata": {
        "colab": {
          "base_uri": "https://localhost:8080/"
        },
        "outputId": "cf18342f-e2ff-497e-c892-1290dd4c706b",
        "id": "lrM0H5CtyOrO"
      },
      "source": [
        "cf_matrix4 = confusion_matrix(Y_test, preds4)\n",
        "print(cf_matrix4)"
      ],
      "execution_count": 68,
      "outputs": [
        {
          "output_type": "stream",
          "name": "stdout",
          "text": [
            "[[21 10]\n",
            " [10 10]]\n"
          ]
        }
      ]
    },
    {
      "cell_type": "code",
      "source": [
        "MCC(Y_test, preds4)"
      ],
      "metadata": {
        "colab": {
          "base_uri": "https://localhost:8080/"
        },
        "outputId": "98c9378e-13c9-429c-f3b6-942d39decae3",
        "id": "saxhWxoLyOrP"
      },
      "execution_count": 69,
      "outputs": [
        {
          "output_type": "execute_result",
          "data": {
            "text/plain": [
              "0.1774193548387097"
            ]
          },
          "metadata": {},
          "execution_count": 69
        }
      ]
    },
    {
      "cell_type": "code",
      "source": [
        "recall(Y_test, preds4)"
      ],
      "metadata": {
        "colab": {
          "base_uri": "https://localhost:8080/"
        },
        "outputId": "b51dcdf7-d401-4012-827b-7e8d38265801",
        "id": "x3ajiHmiyOrP"
      },
      "execution_count": 70,
      "outputs": [
        {
          "output_type": "execute_result",
          "data": {
            "text/plain": [
              "0.5"
            ]
          },
          "metadata": {},
          "execution_count": 70
        }
      ]
    },
    {
      "cell_type": "code",
      "source": [
        "sensibilite(Y_test, preds4)"
      ],
      "metadata": {
        "colab": {
          "base_uri": "https://localhost:8080/"
        },
        "outputId": "7121e0a7-c403-4d18-f82d-4f34066e19f0",
        "id": "rhznxgVNyOrQ"
      },
      "execution_count": 71,
      "outputs": [
        {
          "output_type": "execute_result",
          "data": {
            "text/plain": [
              "0.5"
            ]
          },
          "metadata": {},
          "execution_count": 71
        }
      ]
    },
    {
      "cell_type": "code",
      "source": [
        "specifite(Y_test, preds4)"
      ],
      "metadata": {
        "colab": {
          "base_uri": "https://localhost:8080/"
        },
        "outputId": "9fbb5f73-a9e9-4528-ace2-d3f990e217bc",
        "id": "wH2MIF2XyOrR"
      },
      "execution_count": 72,
      "outputs": [
        {
          "output_type": "execute_result",
          "data": {
            "text/plain": [
              "0.6774193548387096"
            ]
          },
          "metadata": {},
          "execution_count": 72
        }
      ]
    },
    {
      "cell_type": "code",
      "source": [
        "présicion_négative(Y_test, preds4)"
      ],
      "metadata": {
        "colab": {
          "base_uri": "https://localhost:8080/"
        },
        "outputId": "76feb129-a90c-4ea4-a2cf-9c160f6f50ff",
        "id": "jDbUhczcyOrS"
      },
      "execution_count": 73,
      "outputs": [
        {
          "output_type": "execute_result",
          "data": {
            "text/plain": [
              "0.6774193548387096"
            ]
          },
          "metadata": {},
          "execution_count": 73
        }
      ]
    },
    {
      "cell_type": "code",
      "source": [
        "présicion_positive(Y_test, preds4)"
      ],
      "metadata": {
        "colab": {
          "base_uri": "https://localhost:8080/"
        },
        "outputId": "83189bf3-cdc5-4550-a1e7-8b9d8bdc8e90",
        "id": "LT4yf35CyOrT"
      },
      "execution_count": 74,
      "outputs": [
        {
          "output_type": "execute_result",
          "data": {
            "text/plain": [
              "0.5"
            ]
          },
          "metadata": {},
          "execution_count": 74
        }
      ]
    },
    {
      "cell_type": "code",
      "source": [
        "balancedacc(Y_test, preds4)"
      ],
      "metadata": {
        "colab": {
          "base_uri": "https://localhost:8080/"
        },
        "outputId": "463ea104-2992-4f25-9a9e-647aa1be3251",
        "id": "y9KqoG0eyOrU"
      },
      "execution_count": 75,
      "outputs": [
        {
          "output_type": "execute_result",
          "data": {
            "text/plain": [
              "0.5887096774193548"
            ]
          },
          "metadata": {},
          "execution_count": 75
        }
      ]
    },
    {
      "cell_type": "code",
      "source": [
        "kappa(Y_test, preds4)"
      ],
      "metadata": {
        "colab": {
          "base_uri": "https://localhost:8080/"
        },
        "outputId": "e1ec2379-cd27-427e-dd6d-d70d5f274005",
        "id": "4MwUWhdByOrU"
      },
      "execution_count": 76,
      "outputs": [
        {
          "output_type": "execute_result",
          "data": {
            "text/plain": [
              "0.17741935483870963"
            ]
          },
          "metadata": {},
          "execution_count": 76
        }
      ]
    },
    {
      "cell_type": "code",
      "source": [
        "y_pred_proba = Classifier4.predict_proba(X_test)[::,1]\n",
        "fpr, tpr, _ = metrics.roc_curve(Y_test,  y_pred_proba)\n",
        "auc = metrics.roc_auc_score(Y_test, y_pred_proba)\n",
        "plt.plot(fpr,tpr,label=\"xgboost, auc=\"+str(auc))\n",
        "plt.legend(loc=4)\n",
        "plt.show()"
      ],
      "metadata": {
        "colab": {
          "base_uri": "https://localhost:8080/",
          "height": 265
        },
        "outputId": "5900e27e-6e8f-4d0b-939e-00adee3a5771",
        "id": "8no7Z5gvyOrV"
      },
      "execution_count": 77,
      "outputs": [
        {
          "output_type": "display_data",
          "data": {
            "image/png": "[encoded data removed]",
            "text/plain": [
              "<Figure size 432x288 with 1 Axes>"
            ]
          },
          "metadata": {
            "needs_background": "light"
          }
        }
      ]
    },
    {
      "cell_type": "markdown",
      "source": [
        "# KNN"
      ],
      "metadata": {
        "id": "MjRfnmXjz57x"
      }
    },
    {
      "cell_type": "code",
      "source": [
        "Classifier5 = KNeighborsClassifier(n_neighbors=6)"
      ],
      "metadata": {
        "id": "OsjObBSfz4IN"
      },
      "execution_count": 78,
      "outputs": []
    },
    {
      "cell_type": "code",
      "source": [
        "Classifier5.fit(X_app,Y_app)"
      ],
      "metadata": {
        "colab": {
          "base_uri": "https://localhost:8080/"
        },
        "outputId": "33c6d2b9-0c31-4a26-ab77-579707d39782",
        "id": "nB069cUFz4IP"
      },
      "execution_count": 79,
      "outputs": [
        {
          "output_type": "execute_result",
          "data": {
            "text/plain": [
              "KNeighborsClassifier(n_neighbors=6)"
            ]
          },
          "metadata": {},
          "execution_count": 79
        }
      ]
    },
    {
      "cell_type": "code",
      "metadata": {
        "id": "ubEW3-dVz4IQ"
      },
      "source": [
        "preds5 = Classifier5.predict(X_test)"
      ],
      "execution_count": 80,
      "outputs": []
    },
    {
      "cell_type": "code",
      "metadata": {
        "colab": {
          "base_uri": "https://localhost:8080/"
        },
        "outputId": "b7996d32-ff11-40fd-d11b-29fac9ddf1f2",
        "id": "Jt1k3-_iz4IQ"
      },
      "source": [
        "preds5"
      ],
      "execution_count": 81,
      "outputs": [
        {
          "output_type": "execute_result",
          "data": {
            "text/plain": [
              "array([1, 1, 1, 1, 0, 0, 0, 0, 0, 0, 1, 1, 1, 0, 1, 1, 0, 0, 0, 1, 0, 0,\n",
              "       0, 0, 0, 1, 0, 1, 0, 0, 0, 0, 0, 0, 1, 0, 0, 1, 1, 1, 0, 0, 0, 1,\n",
              "       1, 0, 0, 1, 0, 1, 1])"
            ]
          },
          "metadata": {},
          "execution_count": 81
        }
      ]
    },
    {
      "cell_type": "code",
      "metadata": {
        "colab": {
          "base_uri": "https://localhost:8080/"
        },
        "outputId": "fe084d85-da23-4f28-a6ba-eed8978f0bb8",
        "id": "Cur8wap4z4IR"
      },
      "source": [
        "cf_matrix5 = confusion_matrix(Y_test, preds5)\n",
        "print(cf_matrix5)"
      ],
      "execution_count": 82,
      "outputs": [
        {
          "output_type": "stream",
          "name": "stdout",
          "text": [
            "[[22  9]\n",
            " [ 8 12]]\n"
          ]
        }
      ]
    },
    {
      "cell_type": "code",
      "source": [
        "MCC(Y_test, preds5)"
      ],
      "metadata": {
        "colab": {
          "base_uri": "https://localhost:8080/"
        },
        "outputId": "ab265764-f058-4e9d-ca05-6dc176889cbb",
        "id": "CCCChR6jz4IS"
      },
      "execution_count": 83,
      "outputs": [
        {
          "output_type": "execute_result",
          "data": {
            "text/plain": [
              "0.30720983087188436"
            ]
          },
          "metadata": {},
          "execution_count": 83
        }
      ]
    },
    {
      "cell_type": "code",
      "source": [
        "recall(Y_test, preds5)"
      ],
      "metadata": {
        "colab": {
          "base_uri": "https://localhost:8080/"
        },
        "outputId": "5a8dd820-7b6e-4768-b81b-95d9cd3411f8",
        "id": "7hSSJP_Dz4IS"
      },
      "execution_count": 84,
      "outputs": [
        {
          "output_type": "execute_result",
          "data": {
            "text/plain": [
              "0.6"
            ]
          },
          "metadata": {},
          "execution_count": 84
        }
      ]
    },
    {
      "cell_type": "code",
      "source": [
        "sensibilite(Y_test, preds5)"
      ],
      "metadata": {
        "colab": {
          "base_uri": "https://localhost:8080/"
        },
        "outputId": "6a9ba7f7-dc75-40c6-b69f-eaf34b6574cc",
        "id": "AlNCQlajz4IT"
      },
      "execution_count": 85,
      "outputs": [
        {
          "output_type": "execute_result",
          "data": {
            "text/plain": [
              "0.6"
            ]
          },
          "metadata": {},
          "execution_count": 85
        }
      ]
    },
    {
      "cell_type": "code",
      "source": [
        "specifite(Y_test, preds5)"
      ],
      "metadata": {
        "colab": {
          "base_uri": "https://localhost:8080/"
        },
        "outputId": "27d5ba7c-ec11-4e98-9c25-5042eaad20b0",
        "id": "fQZd8sYbz4IU"
      },
      "execution_count": 86,
      "outputs": [
        {
          "output_type": "execute_result",
          "data": {
            "text/plain": [
              "0.7096774193548387"
            ]
          },
          "metadata": {},
          "execution_count": 86
        }
      ]
    },
    {
      "cell_type": "code",
      "source": [
        "présicion_négative(Y_test, preds5)"
      ],
      "metadata": {
        "colab": {
          "base_uri": "https://localhost:8080/"
        },
        "outputId": "9f2795a1-fe74-4c73-92c4-4127fab0bc49",
        "id": "eiy_lIEAz4IV"
      },
      "execution_count": 87,
      "outputs": [
        {
          "output_type": "execute_result",
          "data": {
            "text/plain": [
              "0.7333333333333333"
            ]
          },
          "metadata": {},
          "execution_count": 87
        }
      ]
    },
    {
      "cell_type": "code",
      "source": [
        "présicion_positive(Y_test, preds5)"
      ],
      "metadata": {
        "colab": {
          "base_uri": "https://localhost:8080/"
        },
        "outputId": "92aaf8c9-7d1c-46d3-adab-269b5068c01d",
        "id": "yDxiQZ1oz4IW"
      },
      "execution_count": 88,
      "outputs": [
        {
          "output_type": "execute_result",
          "data": {
            "text/plain": [
              "0.5714285714285714"
            ]
          },
          "metadata": {},
          "execution_count": 88
        }
      ]
    },
    {
      "cell_type": "code",
      "source": [
        "balancedacc(Y_test, preds5)"
      ],
      "metadata": {
        "colab": {
          "base_uri": "https://localhost:8080/"
        },
        "outputId": "e8dbf786-e22f-41a9-bed3-bb753e324544",
        "id": "4lrr3y6jz4IW"
      },
      "execution_count": 89,
      "outputs": [
        {
          "output_type": "execute_result",
          "data": {
            "text/plain": [
              "0.6523809523809523"
            ]
          },
          "metadata": {},
          "execution_count": 89
        }
      ]
    },
    {
      "cell_type": "code",
      "source": [
        "kappa(Y_test, preds5)"
      ],
      "metadata": {
        "colab": {
          "base_uri": "https://localhost:8080/"
        },
        "outputId": "5cb06d75-86aa-4f31-9a94-71ac11c3685d",
        "id": "r0uSmog4z4IX"
      },
      "execution_count": 90,
      "outputs": [
        {
          "output_type": "execute_result",
          "data": {
            "text/plain": [
              "0.3069544364508394"
            ]
          },
          "metadata": {},
          "execution_count": 90
        }
      ]
    },
    {
      "cell_type": "code",
      "source": [
        "y_pred_proba = Classifier5.predict_proba(X_test)[::,1]\n",
        "fpr, tpr, _ = metrics.roc_curve(Y_test,  y_pred_proba)\n",
        "auc = metrics.roc_auc_score(Y_test, y_pred_proba)\n",
        "plt.plot(fpr,tpr,label=\"xgboost, auc=\"+str(auc))\n",
        "plt.legend(loc=4)\n",
        "plt.show()"
      ],
      "metadata": {
        "colab": {
          "base_uri": "https://localhost:8080/",
          "height": 265
        },
        "outputId": "527c3b2b-ab52-445d-bd79-679ebf7b88e6",
        "id": "iQ65_5xLz4IX"
      },
      "execution_count": 91,
      "outputs": [
        {
          "output_type": "display_data",
          "data": {
            "image/png": "[encoded data removed]",
            "text/plain": [
              "<Figure size 432x288 with 1 Axes>"
            ]
          },
          "metadata": {
            "needs_background": "light"
          }
        }
      ]
    },
    {
      "cell_type": "markdown",
      "source": [
        "# MLPC"
      ],
      "metadata": {
        "id": "JSOjmzRT48EB"
      }
    },
    {
      "cell_type": "code",
      "source": [
        "from sklearn.neural_network import MLPClassifier"
      ],
      "metadata": {
        "id": "kTrWiH8BgHUe"
      },
      "execution_count": 93,
      "outputs": []
    },
    {
      "cell_type": "code",
      "source": [
        "Classifier6 = MLPClassifier(hidden_layer_sizes=100,max_iter=300)"
      ],
      "metadata": {
        "id": "u8ZCVkyH7au6"
      },
      "execution_count": 94,
      "outputs": []
    },
    {
      "cell_type": "code",
      "source": [
        "Classifier6.fit(X_app,Y_app)"
      ],
      "metadata": {
        "colab": {
          "base_uri": "https://localhost:8080/"
        },
        "outputId": "f3c6f354-b277-4868-f674-5fd8044074be",
        "id": "3q96K7k_7au7"
      },
      "execution_count": 95,
      "outputs": [
        {
          "output_type": "stream",
          "name": "stderr",
          "text": [
            "/usr/local/lib/python3.7/dist-packages/sklearn/neural_network/_multilayer_perceptron.py:696: ConvergenceWarning: Stochastic Optimizer: Maximum iterations (300) reached and the optimization hasn't converged yet.\n",
            "  ConvergenceWarning,\n"
          ]
        },
        {
          "output_type": "execute_result",
          "data": {
            "text/plain": [
              "MLPClassifier(hidden_layer_sizes=100, max_iter=300)"
            ]
          },
          "metadata": {},
          "execution_count": 95
        }
      ]
    },
    {
      "cell_type": "code",
      "metadata": {
        "id": "bmwFgVgZ7au9"
      },
      "source": [
        "preds6 = Classifier6.predict(X_test)"
      ],
      "execution_count": 96,
      "outputs": []
    },
    {
      "cell_type": "code",
      "metadata": {
        "colab": {
          "base_uri": "https://localhost:8080/"
        },
        "outputId": "a595a2f5-7214-4a51-a268-eb885cf286d4",
        "id": "fw-in7Pn7au_"
      },
      "source": [
        "preds6"
      ],
      "execution_count": 97,
      "outputs": [
        {
          "output_type": "execute_result",
          "data": {
            "text/plain": [
              "array([0, 1, 1, 1, 0, 0, 1, 0, 0, 0, 1, 1, 1, 0, 1, 0, 0, 0, 0, 0, 0, 0,\n",
              "       0, 0, 0, 0, 0, 1, 0, 0, 0, 0, 0, 0, 1, 0, 0, 1, 1, 1, 0, 0, 0, 1,\n",
              "       1, 0, 0, 0, 1, 1, 1])"
            ]
          },
          "metadata": {},
          "execution_count": 97
        }
      ]
    },
    {
      "cell_type": "code",
      "metadata": {
        "colab": {
          "base_uri": "https://localhost:8080/"
        },
        "outputId": "d22cd709-a4ad-466e-b1db-dbe6b22f0933",
        "id": "_lfXsjfr7avA"
      },
      "source": [
        "cf_matrix6 = confusion_matrix(Y_test, preds6)\n",
        "print(cf_matrix6)"
      ],
      "execution_count": 98,
      "outputs": [
        {
          "output_type": "stream",
          "name": "stdout",
          "text": [
            "[[25  6]\n",
            " [ 8 12]]\n"
          ]
        }
      ]
    },
    {
      "cell_type": "code",
      "source": [
        "MCC(Y_test, preds6)"
      ],
      "metadata": {
        "colab": {
          "base_uri": "https://localhost:8080/"
        },
        "outputId": "6ceef238-6721-4818-9aed-b3d5a754a731",
        "id": "7pu_dMGr7avB"
      },
      "execution_count": 99,
      "outputs": [
        {
          "output_type": "execute_result",
          "data": {
            "text/plain": [
              "0.41525175206771603"
            ]
          },
          "metadata": {},
          "execution_count": 99
        }
      ]
    },
    {
      "cell_type": "code",
      "source": [
        "recall(Y_test, preds6)"
      ],
      "metadata": {
        "colab": {
          "base_uri": "https://localhost:8080/"
        },
        "outputId": "05e2ca8c-7d40-4a2c-a6a0-70c047d3d52d",
        "id": "q910vxIg7avC"
      },
      "execution_count": 100,
      "outputs": [
        {
          "output_type": "execute_result",
          "data": {
            "text/plain": [
              "0.6"
            ]
          },
          "metadata": {},
          "execution_count": 100
        }
      ]
    },
    {
      "cell_type": "code",
      "source": [
        "sensibilite(Y_test, preds6)"
      ],
      "metadata": {
        "colab": {
          "base_uri": "https://localhost:8080/"
        },
        "outputId": "de7b54a4-08d5-4fcc-fb04-bbc2c0919bad",
        "id": "-EHzWArf7avC"
      },
      "execution_count": 101,
      "outputs": [
        {
          "output_type": "execute_result",
          "data": {
            "text/plain": [
              "0.6"
            ]
          },
          "metadata": {},
          "execution_count": 101
        }
      ]
    },
    {
      "cell_type": "code",
      "source": [
        "specifite(Y_test, preds6)"
      ],
      "metadata": {
        "colab": {
          "base_uri": "https://localhost:8080/"
        },
        "outputId": "e773f04a-18a1-43d1-9d17-e35dc25df403",
        "id": "Dht6FOif7avD"
      },
      "execution_count": 102,
      "outputs": [
        {
          "output_type": "execute_result",
          "data": {
            "text/plain": [
              "0.8064516129032258"
            ]
          },
          "metadata": {},
          "execution_count": 102
        }
      ]
    },
    {
      "cell_type": "code",
      "source": [
        "présicion_négative(Y_test, preds6)"
      ],
      "metadata": {
        "colab": {
          "base_uri": "https://localhost:8080/"
        },
        "outputId": "c4257cd8-a07d-46e4-f356-1b241a014391",
        "id": "EvET3j2E7avD"
      },
      "execution_count": 103,
      "outputs": [
        {
          "output_type": "execute_result",
          "data": {
            "text/plain": [
              "0.7575757575757576"
            ]
          },
          "metadata": {},
          "execution_count": 103
        }
      ]
    },
    {
      "cell_type": "code",
      "source": [
        "présicion_positive(Y_test, preds6)"
      ],
      "metadata": {
        "colab": {
          "base_uri": "https://localhost:8080/"
        },
        "outputId": "fbd19c61-f80e-4e4c-8457-35a3c1288058",
        "id": "swTtPanh7avE"
      },
      "execution_count": 104,
      "outputs": [
        {
          "output_type": "execute_result",
          "data": {
            "text/plain": [
              "0.6666666666666666"
            ]
          },
          "metadata": {},
          "execution_count": 104
        }
      ]
    },
    {
      "cell_type": "code",
      "source": [
        "balancedacc(Y_test, preds6)"
      ],
      "metadata": {
        "colab": {
          "base_uri": "https://localhost:8080/"
        },
        "outputId": "99a9aa0c-5e9e-4139-b5fb-bde09c119178",
        "id": "sjrSKyAD7avF"
      },
      "execution_count": 105,
      "outputs": [
        {
          "output_type": "execute_result",
          "data": {
            "text/plain": [
              "0.7121212121212122"
            ]
          },
          "metadata": {},
          "execution_count": 105
        }
      ]
    },
    {
      "cell_type": "code",
      "source": [
        "kappa(Y_test, preds6)"
      ],
      "metadata": {
        "colab": {
          "base_uri": "https://localhost:8080/"
        },
        "outputId": "afe450ae-853b-4a84-ec40-6e86bdecee11",
        "id": "yuImLPCt7avG"
      },
      "execution_count": 106,
      "outputs": [
        {
          "output_type": "execute_result",
          "data": {
            "text/plain": [
              "0.4137931034482759"
            ]
          },
          "metadata": {},
          "execution_count": 106
        }
      ]
    },
    {
      "cell_type": "code",
      "source": [
        "y_pred_proba = Classifier6.predict_proba(X_test)[::,1]\n",
        "fpr, tpr, _ = metrics.roc_curve(Y_test,  y_pred_proba)\n",
        "auc = metrics.roc_auc_score(Y_test, y_pred_proba)\n",
        "plt.plot(fpr,tpr,label=\"xgboost, auc=\"+str(auc))\n",
        "plt.legend(loc=4)\n",
        "plt.show()"
      ],
      "metadata": {
        "colab": {
          "base_uri": "https://localhost:8080/",
          "height": 265
        },
        "outputId": "f547e372-5c78-4862-baf8-2d246cf817b8",
        "id": "axoaIvAd7avG"
      },
      "execution_count": 107,
      "outputs": [
        {
          "output_type": "display_data",
          "data": {
            "image/png": "[encoded data removed]",
            "text/plain": [
              "<Figure size 432x288 with 1 Axes>"
            ]
          },
          "metadata": {
            "needs_background": "light"
          }
        }
      ]
    },
    {
      "cell_type": "markdown",
      "source": [
        "# SVM"
      ],
      "metadata": {
        "id": "ZrStCapd-xfv"
      }
    },
    {
      "cell_type": "code",
      "source": [
        "Classifier7 = svm.SVC(kernel='rbf',gamma=0.05,C=12)"
      ],
      "metadata": {
        "id": "bL7fPd6m-xfx"
      },
      "execution_count": 108,
      "outputs": []
    },
    {
      "cell_type": "code",
      "source": [
        "Classifier7.fit(X_app,Y_app)"
      ],
      "metadata": {
        "colab": {
          "base_uri": "https://localhost:8080/"
        },
        "outputId": "cb681720-6821-467d-ac88-4885444abc3f",
        "id": "-6xFLeXo-xfz"
      },
      "execution_count": 109,
      "outputs": [
        {
          "output_type": "execute_result",
          "data": {
            "text/plain": [
              "SVC(C=12, gamma=0.05)"
            ]
          },
          "metadata": {},
          "execution_count": 109
        }
      ]
    },
    {
      "cell_type": "code",
      "metadata": {
        "id": "RgkyEzm5-xf0"
      },
      "source": [
        "preds7 = Classifier7.predict(X_test)"
      ],
      "execution_count": 110,
      "outputs": []
    },
    {
      "cell_type": "code",
      "metadata": {
        "colab": {
          "base_uri": "https://localhost:8080/"
        },
        "outputId": "10e9ac42-9e23-4f02-f03b-9d6d2aff9e16",
        "id": "NFvKopxU-xf0"
      },
      "source": [
        "preds7"
      ],
      "execution_count": 111,
      "outputs": [
        {
          "output_type": "execute_result",
          "data": {
            "text/plain": [
              "array([1, 1, 1, 1, 0, 0, 1, 0, 0, 0, 1, 1, 1, 0, 1, 0, 0, 0, 0, 0, 0, 0,\n",
              "       0, 0, 0, 1, 0, 1, 0, 0, 0, 0, 0, 0, 1, 0, 0, 1, 1, 1, 0, 0, 0, 1,\n",
              "       1, 0, 0, 0, 1, 1, 1])"
            ]
          },
          "metadata": {},
          "execution_count": 111
        }
      ]
    },
    {
      "cell_type": "code",
      "metadata": {
        "colab": {
          "base_uri": "https://localhost:8080/"
        },
        "outputId": "011404e4-a2ae-4980-99c9-14fe8ba2ad89",
        "id": "-M83HpkZ-xf1"
      },
      "source": [
        "cf_matrix7 = confusion_matrix(Y_test, preds7)\n",
        "print(cf_matrix7)"
      ],
      "execution_count": 112,
      "outputs": [
        {
          "output_type": "stream",
          "name": "stdout",
          "text": [
            "[[23  8]\n",
            " [ 8 12]]\n"
          ]
        }
      ]
    },
    {
      "cell_type": "code",
      "source": [
        "MCC(Y_test, preds7)"
      ],
      "metadata": {
        "colab": {
          "base_uri": "https://localhost:8080/"
        },
        "outputId": "3be3fcc7-5c4b-4255-b65a-f116dc9a5378",
        "id": "ANDDZOPd-xf2"
      },
      "execution_count": 113,
      "outputs": [
        {
          "output_type": "execute_result",
          "data": {
            "text/plain": [
              "0.3419354838709677"
            ]
          },
          "metadata": {},
          "execution_count": 113
        }
      ]
    },
    {
      "cell_type": "code",
      "source": [
        "recall(Y_test, preds7)"
      ],
      "metadata": {
        "colab": {
          "base_uri": "https://localhost:8080/"
        },
        "outputId": "03b44315-72cb-42f7-86be-2e7091be4e98",
        "id": "lg9p7hmj-xf3"
      },
      "execution_count": 114,
      "outputs": [
        {
          "output_type": "execute_result",
          "data": {
            "text/plain": [
              "0.6"
            ]
          },
          "metadata": {},
          "execution_count": 114
        }
      ]
    },
    {
      "cell_type": "code",
      "source": [
        "sensibilite(Y_test, preds7)"
      ],
      "metadata": {
        "colab": {
          "base_uri": "https://localhost:8080/"
        },
        "outputId": "e0dd2970-d55b-4a1c-fb65-e08c5c4f9a3e",
        "id": "_WPsB_k_-xf3"
      },
      "execution_count": 115,
      "outputs": [
        {
          "output_type": "execute_result",
          "data": {
            "text/plain": [
              "0.6"
            ]
          },
          "metadata": {},
          "execution_count": 115
        }
      ]
    },
    {
      "cell_type": "code",
      "source": [
        "specifite(Y_test, preds7)"
      ],
      "metadata": {
        "id": "LD3aqdbx-xf4"
      },
      "execution_count": null,
      "outputs": []
    },
    {
      "cell_type": "code",
      "source": [
        "présicion_négative(Y_test, preds7)"
      ],
      "metadata": {
        "colab": {
          "base_uri": "https://localhost:8080/"
        },
        "outputId": "6aa6885d-38fb-4795-ec61-fd2716c62877",
        "id": "oq8CHk5h-xf4"
      },
      "execution_count": 117,
      "outputs": [
        {
          "output_type": "execute_result",
          "data": {
            "text/plain": [
              "0.7419354838709677"
            ]
          },
          "metadata": {},
          "execution_count": 117
        }
      ]
    },
    {
      "cell_type": "code",
      "source": [
        "présicion_positive(Y_test, preds7)"
      ],
      "metadata": {
        "colab": {
          "base_uri": "https://localhost:8080/"
        },
        "outputId": "1668b8f7-9966-4608-f116-465be6a62aae",
        "id": "7ExhWirz-xf5"
      },
      "execution_count": 118,
      "outputs": [
        {
          "output_type": "execute_result",
          "data": {
            "text/plain": [
              "0.6"
            ]
          },
          "metadata": {},
          "execution_count": 118
        }
      ]
    },
    {
      "cell_type": "code",
      "source": [
        "balancedacc(Y_test, preds7)"
      ],
      "metadata": {
        "colab": {
          "base_uri": "https://localhost:8080/"
        },
        "outputId": "2fc9f02e-19e2-4aef-c641-07c3e0a2a9f3",
        "id": "3O2CWE-V-xf6"
      },
      "execution_count": 119,
      "outputs": [
        {
          "output_type": "execute_result",
          "data": {
            "text/plain": [
              "0.6709677419354838"
            ]
          },
          "metadata": {},
          "execution_count": 119
        }
      ]
    },
    {
      "cell_type": "code",
      "source": [
        "kappa(Y_test, preds7)"
      ],
      "metadata": {
        "colab": {
          "base_uri": "https://localhost:8080/"
        },
        "outputId": "624cceaa-1a70-40bf-c1b0-dddaafaf970e",
        "id": "qa5wm9Y2-xf6"
      },
      "execution_count": 120,
      "outputs": [
        {
          "output_type": "execute_result",
          "data": {
            "text/plain": [
              "0.3419354838709677"
            ]
          },
          "metadata": {},
          "execution_count": 120
        }
      ]
    },
    {
      "cell_type": "code",
      "source": [
        "from sklearn.metrics import roc_auc_score"
      ],
      "metadata": {
        "id": "5gE_Ahhf5Wi2"
      },
      "execution_count": 121,
      "outputs": []
    },
    {
      "cell_type": "code",
      "source": [
        "roc_auc_score(Y_test, Classifier7.decision_function(X_test))"
      ],
      "metadata": {
        "id": "U3TC1DQW5Wmf",
        "outputId": "2cda2b0e-3330-4b20-bdf2-636f16cf4899",
        "colab": {
          "base_uri": "https://localhost:8080/"
        }
      },
      "execution_count": 122,
      "outputs": [
        {
          "output_type": "execute_result",
          "data": {
            "text/plain": [
              "0.7193548387096774"
            ]
          },
          "metadata": {},
          "execution_count": 122
        }
      ]
    }
  ]
}
