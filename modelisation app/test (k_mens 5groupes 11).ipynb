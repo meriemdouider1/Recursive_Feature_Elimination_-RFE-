{
  "nbformat": 4,
  "nbformat_minor": 0,
  "metadata": {
    "colab": {
      "name": "Untitled79.ipynb",
      "provenance": [],
      "authorship_tag": "ABX9TyPBEh8dHY9mLKB340dwj/Iq",
      "include_colab_link": true
    },
    "kernelspec": {
      "name": "python3",
      "display_name": "Python 3"
    },
    "language_info": {
      "name": "python"
    }
  },
  "cells": [
    {
      "cell_type": "markdown",
      "metadata": {
        "id": "view-in-github",
        "colab_type": "text"
      },
      "source": [
        "<a href=\"https://colab.research.google.com/github/meriemdouider1/mois1-mois2/blob/main/modelisation%20app/test%20(k_mens%205groupes%2011).ipynb\" target=\"_parent\"><img src=\"https://colab.research.google.com/assets/colab-badge.svg\" alt=\"Open In Colab\"/></a>"
      ]
    },
    {
      "cell_type": "code",
      "metadata": {
        "id": "RlmUgAkuFdId"
      },
      "source": [
        "import sklearn\n",
        "import pandas as pd\n",
        "import numpy as np\n",
        "import matplotlib.pyplot as plt\n",
        "import seaborn as sns\n",
        "from sklearn.model_selection import train_test_split\n",
        "from sklearn.ensemble import RandomForestRegressor, RandomForestClassifier\n",
        "from sklearn.metrics import roc_auc_score, r2_score\n",
        "import sklearn\n",
        "import pandas as pd\n",
        "import numpy as np\n",
        "import matplotlib.pyplot as plt\n",
        "import seaborn as sns\n",
        "from sklearn.naive_bayes import GaussianNB\n",
        "from sklearn.ensemble import BaggingClassifier\n",
        "from sklearn.tree import DecisionTreeClassifier\n",
        "from xgboost import XGBClassifier\n",
        "from sklearn.metrics import accuracy_score\n",
        "from sklearn.metrics import precision_score\n",
        "from sklearn.metrics import recall_score\n",
        "from sklearn.metrics import f1_score\n",
        "from sklearn.metrics import confusion_matrix\n",
        "import numpy\n",
        "import sklearn.metrics as metrics\n",
        "from sklearn.ensemble import RandomForestClassifier\n",
        "from sklearn.neighbors import KNeighborsClassifier\n",
        "from sklearn import svm\n",
        "from sklearn.model_selection import StratifiedKFold\n",
        "from sklearn.model_selection import cross_val_score\n",
        "from sklearn.model_selection import LeaveOneOut\n",
        "from numpy import mean\n",
        "from numpy import std\n",
        "from sklearn.datasets import make_classification\n",
        "from sklearn.model_selection import KFold\n",
        "from sklearn.model_selection import cross_val_score\n",
        "from sklearn.linear_model import LogisticRegression\n",
        "from sklearn.metrics import make_scorer\n",
        "import matplotlib.pyplot as plt\n",
        "from sklearn.model_selection import LeaveOneOut\n",
        "from sklearn.datasets import make_classification\n",
        "from sklearn.ensemble import RandomForestClassifier\n",
        "from sklearn import datasets, metrics, model_selection, svm\n",
        "import numpy as np\n",
        "from sklearn import svm, datasets\n",
        "from sklearn.metrics import auc\n",
        "from sklearn.metrics import plot_roc_curve\n",
        "from sklearn.model_selection import StratifiedKFold\n",
        "from sklearn.datasets import make_classification\n",
        "from sklearn.ensemble import RandomForestClassifier\n",
        "from sklearn import datasets, metrics, model_selection, svm\n",
        "from sklearn.metrics import matthews_corrcoef\n",
        "from sklearn.svm import SVC\n",
        "from sklearn.metrics import cohen_kappa_score\n",
        "from sklearn.ensemble import GradientBoostingClassifier\n",
        "from sklearn.feature_selection import RFE\n",
        "from sklearn.pipeline import Pipeline\n",
        "from matplotlib import pyplot\n",
        "from sklearn.metrics import recall_score"
      ],
      "execution_count": 1,
      "outputs": []
    },
    {
      "cell_type": "code",
      "metadata": {
        "id": "eZpW8fsXFrh3"
      },
      "source": [
        "Cl = '/content/AXEAPP.xlsx' \n",
        "apprentissage= pd.read_excel(Cl, sheet_name=0,header=0,index_col=False, keep_default_na=True)"
      ],
      "execution_count": 2,
      "outputs": []
    },
    {
      "cell_type": "code",
      "source": [
        "apprentissage"
      ],
      "metadata": {
        "colab": {
          "base_uri": "https://localhost:8080/",
          "height": 423
        },
        "id": "vLoByxZ1jqnm",
        "outputId": "93e2af8c-7cd7-47b6-b6ab-c73d723086a7"
      },
      "execution_count": 3,
      "outputs": [
        {
          "output_type": "execute_result",
          "data": {
            "text/html": [
              "\n",
              "  <div id=\"df-1622af50-8dc0-4777-924a-0d8184cd6b1b\">\n",
              "    <div class=\"colab-df-container\">\n",
              "      <div>\n",
              "<style scoped>\n",
              "    .dataframe tbody tr th:only-of-type {\n",
              "        vertical-align: middle;\n",
              "    }\n",
              "\n",
              "    .dataframe tbody tr th {\n",
              "        vertical-align: top;\n",
              "    }\n",
              "\n",
              "    .dataframe thead th {\n",
              "        text-align: right;\n",
              "    }\n",
              "</style>\n",
              "<table border=\"1\" class=\"dataframe\">\n",
              "  <thead>\n",
              "    <tr style=\"text-align: right;\">\n",
              "      <th></th>\n",
              "      <th>Cs_longia</th>\n",
              "      <th>AXE11</th>\n",
              "      <th>AXE12</th>\n",
              "      <th>AXE2</th>\n",
              "      <th>AXE3</th>\n",
              "      <th>AXE4</th>\n",
              "      <th>AXE5</th>\n",
              "    </tr>\n",
              "  </thead>\n",
              "  <tbody>\n",
              "    <tr>\n",
              "      <th>0</th>\n",
              "      <td>1</td>\n",
              "      <td>0.001424</td>\n",
              "      <td>0.031177</td>\n",
              "      <td>-0.059472</td>\n",
              "      <td>-3.681616</td>\n",
              "      <td>-2.401045</td>\n",
              "      <td>-0.173420</td>\n",
              "    </tr>\n",
              "    <tr>\n",
              "      <th>1</th>\n",
              "      <td>1</td>\n",
              "      <td>0.001859</td>\n",
              "      <td>0.007034</td>\n",
              "      <td>-0.032365</td>\n",
              "      <td>-0.780750</td>\n",
              "      <td>-0.885475</td>\n",
              "      <td>-0.161534</td>\n",
              "    </tr>\n",
              "    <tr>\n",
              "      <th>2</th>\n",
              "      <td>1</td>\n",
              "      <td>0.001859</td>\n",
              "      <td>0.007034</td>\n",
              "      <td>-0.032365</td>\n",
              "      <td>-0.780750</td>\n",
              "      <td>-0.885475</td>\n",
              "      <td>-0.161534</td>\n",
              "    </tr>\n",
              "    <tr>\n",
              "      <th>3</th>\n",
              "      <td>0</td>\n",
              "      <td>-0.001565</td>\n",
              "      <td>0.007444</td>\n",
              "      <td>0.052511</td>\n",
              "      <td>-0.575102</td>\n",
              "      <td>-0.089102</td>\n",
              "      <td>-0.036805</td>\n",
              "    </tr>\n",
              "    <tr>\n",
              "      <th>4</th>\n",
              "      <td>0</td>\n",
              "      <td>-0.001238</td>\n",
              "      <td>0.010596</td>\n",
              "      <td>0.047796</td>\n",
              "      <td>-1.674400</td>\n",
              "      <td>0.216223</td>\n",
              "      <td>0.038151</td>\n",
              "    </tr>\n",
              "    <tr>\n",
              "      <th>...</th>\n",
              "      <td>...</td>\n",
              "      <td>...</td>\n",
              "      <td>...</td>\n",
              "      <td>...</td>\n",
              "      <td>...</td>\n",
              "      <td>...</td>\n",
              "      <td>...</td>\n",
              "    </tr>\n",
              "    <tr>\n",
              "      <th>198</th>\n",
              "      <td>1</td>\n",
              "      <td>0.002694</td>\n",
              "      <td>-0.011021</td>\n",
              "      <td>-0.107134</td>\n",
              "      <td>-1.678789</td>\n",
              "      <td>-0.626739</td>\n",
              "      <td>-0.093039</td>\n",
              "    </tr>\n",
              "    <tr>\n",
              "      <th>199</th>\n",
              "      <td>1</td>\n",
              "      <td>0.001341</td>\n",
              "      <td>-0.016060</td>\n",
              "      <td>-0.078564</td>\n",
              "      <td>-1.584375</td>\n",
              "      <td>0.421137</td>\n",
              "      <td>-0.297170</td>\n",
              "    </tr>\n",
              "    <tr>\n",
              "      <th>200</th>\n",
              "      <td>1</td>\n",
              "      <td>0.001998</td>\n",
              "      <td>-0.013530</td>\n",
              "      <td>-0.123163</td>\n",
              "      <td>-1.309588</td>\n",
              "      <td>-0.722200</td>\n",
              "      <td>-0.279362</td>\n",
              "    </tr>\n",
              "    <tr>\n",
              "      <th>201</th>\n",
              "      <td>1</td>\n",
              "      <td>-0.000923</td>\n",
              "      <td>-0.014214</td>\n",
              "      <td>0.010676</td>\n",
              "      <td>-1.404706</td>\n",
              "      <td>1.443951</td>\n",
              "      <td>0.121188</td>\n",
              "    </tr>\n",
              "    <tr>\n",
              "      <th>202</th>\n",
              "      <td>1</td>\n",
              "      <td>0.001179</td>\n",
              "      <td>-0.000708</td>\n",
              "      <td>-0.015548</td>\n",
              "      <td>-1.784350</td>\n",
              "      <td>-0.306687</td>\n",
              "      <td>0.200396</td>\n",
              "    </tr>\n",
              "  </tbody>\n",
              "</table>\n",
              "<p>203 rows × 7 columns</p>\n",
              "</div>\n",
              "      <button class=\"colab-df-convert\" onclick=\"convertToInteractive('df-1622af50-8dc0-4777-924a-0d8184cd6b1b')\"\n",
              "              title=\"Convert this dataframe to an interactive table.\"\n",
              "              style=\"display:none;\">\n",
              "        \n",
              "  <svg xmlns=\"http://www.w3.org/2000/svg\" height=\"24px\"viewBox=\"0 0 24 24\"\n",
              "       width=\"24px\">\n",
              "    <path d=\"M0 0h24v24H0V0z\" fill=\"none\"/>\n",
              "    <path d=\"M18.56 5.44l.94 2.06.94-2.06 2.06-.94-2.06-.94-.94-2.06-.94 2.06-2.06.94zm-11 1L8.5 8.5l.94-2.06 2.06-.94-2.06-.94L8.5 2.5l-.94 2.06-2.06.94zm10 10l.94 2.06.94-2.06 2.06-.94-2.06-.94-.94-2.06-.94 2.06-2.06.94z\"/><path d=\"M17.41 7.96l-1.37-1.37c-.4-.4-.92-.59-1.43-.59-.52 0-1.04.2-1.43.59L10.3 9.45l-7.72 7.72c-.78.78-.78 2.05 0 2.83L4 21.41c.39.39.9.59 1.41.59.51 0 1.02-.2 1.41-.59l7.78-7.78 2.81-2.81c.8-.78.8-2.07 0-2.86zM5.41 20L4 18.59l7.72-7.72 1.47 1.35L5.41 20z\"/>\n",
              "  </svg>\n",
              "      </button>\n",
              "      \n",
              "  <style>\n",
              "    .colab-df-container {\n",
              "      display:flex;\n",
              "      flex-wrap:wrap;\n",
              "      gap: 12px;\n",
              "    }\n",
              "\n",
              "    .colab-df-convert {\n",
              "      background-color: #E8F0FE;\n",
              "      border: none;\n",
              "      border-radius: 50%;\n",
              "      cursor: pointer;\n",
              "      display: none;\n",
              "      fill: #1967D2;\n",
              "      height: 32px;\n",
              "      padding: 0 0 0 0;\n",
              "      width: 32px;\n",
              "    }\n",
              "\n",
              "    .colab-df-convert:hover {\n",
              "      background-color: #E2EBFA;\n",
              "      box-shadow: 0px 1px 2px rgba(60, 64, 67, 0.3), 0px 1px 3px 1px rgba(60, 64, 67, 0.15);\n",
              "      fill: #174EA6;\n",
              "    }\n",
              "\n",
              "    [theme=dark] .colab-df-convert {\n",
              "      background-color: #3B4455;\n",
              "      fill: #D2E3FC;\n",
              "    }\n",
              "\n",
              "    [theme=dark] .colab-df-convert:hover {\n",
              "      background-color: #434B5C;\n",
              "      box-shadow: 0px 1px 3px 1px rgba(0, 0, 0, 0.15);\n",
              "      filter: drop-shadow(0px 1px 2px rgba(0, 0, 0, 0.3));\n",
              "      fill: #FFFFFF;\n",
              "    }\n",
              "  </style>\n",
              "\n",
              "      <script>\n",
              "        const buttonEl =\n",
              "          document.querySelector('#df-1622af50-8dc0-4777-924a-0d8184cd6b1b button.colab-df-convert');\n",
              "        buttonEl.style.display =\n",
              "          google.colab.kernel.accessAllowed ? 'block' : 'none';\n",
              "\n",
              "        async function convertToInteractive(key) {\n",
              "          const element = document.querySelector('#df-1622af50-8dc0-4777-924a-0d8184cd6b1b');\n",
              "          const dataTable =\n",
              "            await google.colab.kernel.invokeFunction('convertToInteractive',\n",
              "                                                     [key], {});\n",
              "          if (!dataTable) return;\n",
              "\n",
              "          const docLinkHtml = 'Like what you see? Visit the ' +\n",
              "            '<a target=\"_blank\" href=https://colab.research.google.com/notebooks/data_table.ipynb>data table notebook</a>'\n",
              "            + ' to learn more about interactive tables.';\n",
              "          element.innerHTML = '';\n",
              "          dataTable['output_type'] = 'display_data';\n",
              "          await google.colab.output.renderOutput(dataTable, element);\n",
              "          const docLink = document.createElement('div');\n",
              "          docLink.innerHTML = docLinkHtml;\n",
              "          element.appendChild(docLink);\n",
              "        }\n",
              "      </script>\n",
              "    </div>\n",
              "  </div>\n",
              "  "
            ],
            "text/plain": [
              "     Cs_longia     AXE11     AXE12      AXE2      AXE3      AXE4      AXE5\n",
              "0            1  0.001424  0.031177 -0.059472 -3.681616 -2.401045 -0.173420\n",
              "1            1  0.001859  0.007034 -0.032365 -0.780750 -0.885475 -0.161534\n",
              "2            1  0.001859  0.007034 -0.032365 -0.780750 -0.885475 -0.161534\n",
              "3            0 -0.001565  0.007444  0.052511 -0.575102 -0.089102 -0.036805\n",
              "4            0 -0.001238  0.010596  0.047796 -1.674400  0.216223  0.038151\n",
              "..         ...       ...       ...       ...       ...       ...       ...\n",
              "198          1  0.002694 -0.011021 -0.107134 -1.678789 -0.626739 -0.093039\n",
              "199          1  0.001341 -0.016060 -0.078564 -1.584375  0.421137 -0.297170\n",
              "200          1  0.001998 -0.013530 -0.123163 -1.309588 -0.722200 -0.279362\n",
              "201          1 -0.000923 -0.014214  0.010676 -1.404706  1.443951  0.121188\n",
              "202          1  0.001179 -0.000708 -0.015548 -1.784350 -0.306687  0.200396\n",
              "\n",
              "[203 rows x 7 columns]"
            ]
          },
          "metadata": {},
          "execution_count": 3
        }
      ]
    },
    {
      "cell_type": "code",
      "metadata": {
        "id": "sp6M2-Shj8tx"
      },
      "source": [
        "Cl2 = '/content/AXETEST.xlsx' \n",
        "test= pd.read_excel(Cl2, sheet_name=0,header=0,index_col=False, keep_default_na=True)"
      ],
      "execution_count": 4,
      "outputs": []
    },
    {
      "cell_type": "code",
      "source": [
        "test"
      ],
      "metadata": {
        "colab": {
          "base_uri": "https://localhost:8080/",
          "height": 1000
        },
        "outputId": "9a589331-590f-479d-db76-342d90e26618",
        "id": "wzKdYPPMj8ty"
      },
      "execution_count": 5,
      "outputs": [
        {
          "output_type": "execute_result",
          "data": {
            "text/html": [
              "\n",
              "  <div id=\"df-1c3bf5ca-9289-40d2-b1e1-8fbc79e979b9\">\n",
              "    <div class=\"colab-df-container\">\n",
              "      <div>\n",
              "<style scoped>\n",
              "    .dataframe tbody tr th:only-of-type {\n",
              "        vertical-align: middle;\n",
              "    }\n",
              "\n",
              "    .dataframe tbody tr th {\n",
              "        vertical-align: top;\n",
              "    }\n",
              "\n",
              "    .dataframe thead th {\n",
              "        text-align: right;\n",
              "    }\n",
              "</style>\n",
              "<table border=\"1\" class=\"dataframe\">\n",
              "  <thead>\n",
              "    <tr style=\"text-align: right;\">\n",
              "      <th></th>\n",
              "      <th>Cs_longia</th>\n",
              "      <th>AXE11</th>\n",
              "      <th>AXE12</th>\n",
              "      <th>AXE2</th>\n",
              "      <th>AXE3</th>\n",
              "      <th>AXE4</th>\n",
              "      <th>AXE5</th>\n",
              "    </tr>\n",
              "  </thead>\n",
              "  <tbody>\n",
              "    <tr>\n",
              "      <th>0</th>\n",
              "      <td>0</td>\n",
              "      <td>-0.000973</td>\n",
              "      <td>0.011465</td>\n",
              "      <td>0.090826</td>\n",
              "      <td>-2.054473</td>\n",
              "      <td>-1.159648</td>\n",
              "      <td>0.023911</td>\n",
              "    </tr>\n",
              "    <tr>\n",
              "      <th>1</th>\n",
              "      <td>1</td>\n",
              "      <td>-0.005224</td>\n",
              "      <td>0.007407</td>\n",
              "      <td>-0.003400</td>\n",
              "      <td>-1.623037</td>\n",
              "      <td>-1.119609</td>\n",
              "      <td>-0.050821</td>\n",
              "    </tr>\n",
              "    <tr>\n",
              "      <th>2</th>\n",
              "      <td>1</td>\n",
              "      <td>-0.005224</td>\n",
              "      <td>0.007407</td>\n",
              "      <td>-0.003400</td>\n",
              "      <td>-1.623037</td>\n",
              "      <td>-1.119609</td>\n",
              "      <td>-0.050821</td>\n",
              "    </tr>\n",
              "    <tr>\n",
              "      <th>3</th>\n",
              "      <td>1</td>\n",
              "      <td>0.001292</td>\n",
              "      <td>0.013119</td>\n",
              "      <td>-0.089037</td>\n",
              "      <td>-2.733886</td>\n",
              "      <td>-1.084109</td>\n",
              "      <td>-0.159765</td>\n",
              "    </tr>\n",
              "    <tr>\n",
              "      <th>4</th>\n",
              "      <td>0</td>\n",
              "      <td>-0.002151</td>\n",
              "      <td>0.004945</td>\n",
              "      <td>0.004891</td>\n",
              "      <td>-0.312813</td>\n",
              "      <td>0.250637</td>\n",
              "      <td>0.239744</td>\n",
              "    </tr>\n",
              "    <tr>\n",
              "      <th>5</th>\n",
              "      <td>0</td>\n",
              "      <td>-0.002095</td>\n",
              "      <td>0.004945</td>\n",
              "      <td>0.010478</td>\n",
              "      <td>-0.515774</td>\n",
              "      <td>0.250637</td>\n",
              "      <td>0.235117</td>\n",
              "    </tr>\n",
              "    <tr>\n",
              "      <th>6</th>\n",
              "      <td>0</td>\n",
              "      <td>0.000653</td>\n",
              "      <td>0.005613</td>\n",
              "      <td>0.019444</td>\n",
              "      <td>0.128193</td>\n",
              "      <td>-1.015083</td>\n",
              "      <td>-0.119206</td>\n",
              "    </tr>\n",
              "    <tr>\n",
              "      <th>7</th>\n",
              "      <td>0</td>\n",
              "      <td>0.001841</td>\n",
              "      <td>0.004177</td>\n",
              "      <td>-0.033974</td>\n",
              "      <td>0.553651</td>\n",
              "      <td>-1.046322</td>\n",
              "      <td>0.186320</td>\n",
              "    </tr>\n",
              "    <tr>\n",
              "      <th>8</th>\n",
              "      <td>1</td>\n",
              "      <td>-0.001734</td>\n",
              "      <td>0.005542</td>\n",
              "      <td>0.098032</td>\n",
              "      <td>0.592257</td>\n",
              "      <td>0.701975</td>\n",
              "      <td>0.190069</td>\n",
              "    </tr>\n",
              "    <tr>\n",
              "      <th>9</th>\n",
              "      <td>0</td>\n",
              "      <td>-0.001089</td>\n",
              "      <td>0.005474</td>\n",
              "      <td>0.078806</td>\n",
              "      <td>0.240400</td>\n",
              "      <td>0.770757</td>\n",
              "      <td>0.095475</td>\n",
              "    </tr>\n",
              "    <tr>\n",
              "      <th>10</th>\n",
              "      <td>0</td>\n",
              "      <td>0.001669</td>\n",
              "      <td>0.009106</td>\n",
              "      <td>-0.027300</td>\n",
              "      <td>-0.729524</td>\n",
              "      <td>-1.151868</td>\n",
              "      <td>-0.233796</td>\n",
              "    </tr>\n",
              "    <tr>\n",
              "      <th>11</th>\n",
              "      <td>1</td>\n",
              "      <td>0.002266</td>\n",
              "      <td>0.005114</td>\n",
              "      <td>-0.078781</td>\n",
              "      <td>-1.100554</td>\n",
              "      <td>-1.032161</td>\n",
              "      <td>-0.349980</td>\n",
              "    </tr>\n",
              "    <tr>\n",
              "      <th>12</th>\n",
              "      <td>0</td>\n",
              "      <td>0.002272</td>\n",
              "      <td>0.015364</td>\n",
              "      <td>-0.020330</td>\n",
              "      <td>-2.203479</td>\n",
              "      <td>-1.005917</td>\n",
              "      <td>-0.170226</td>\n",
              "    </tr>\n",
              "    <tr>\n",
              "      <th>13</th>\n",
              "      <td>1</td>\n",
              "      <td>-0.003460</td>\n",
              "      <td>0.005692</td>\n",
              "      <td>0.102247</td>\n",
              "      <td>0.479889</td>\n",
              "      <td>1.258116</td>\n",
              "      <td>0.107972</td>\n",
              "    </tr>\n",
              "    <tr>\n",
              "      <th>14</th>\n",
              "      <td>0</td>\n",
              "      <td>0.000324</td>\n",
              "      <td>0.005710</td>\n",
              "      <td>-0.015213</td>\n",
              "      <td>-0.056893</td>\n",
              "      <td>-0.021556</td>\n",
              "      <td>-0.378856</td>\n",
              "    </tr>\n",
              "    <tr>\n",
              "      <th>15</th>\n",
              "      <td>0</td>\n",
              "      <td>-0.001100</td>\n",
              "      <td>-0.014651</td>\n",
              "      <td>0.064259</td>\n",
              "      <td>1.549563</td>\n",
              "      <td>-0.014750</td>\n",
              "      <td>0.175670</td>\n",
              "    </tr>\n",
              "    <tr>\n",
              "      <th>16</th>\n",
              "      <td>0</td>\n",
              "      <td>0.000632</td>\n",
              "      <td>-0.014252</td>\n",
              "      <td>-0.030113</td>\n",
              "      <td>2.627901</td>\n",
              "      <td>1.370142</td>\n",
              "      <td>0.052224</td>\n",
              "    </tr>\n",
              "    <tr>\n",
              "      <th>17</th>\n",
              "      <td>0</td>\n",
              "      <td>0.001223</td>\n",
              "      <td>-0.014848</td>\n",
              "      <td>-0.024092</td>\n",
              "      <td>1.754704</td>\n",
              "      <td>1.553783</td>\n",
              "      <td>0.020475</td>\n",
              "    </tr>\n",
              "    <tr>\n",
              "      <th>18</th>\n",
              "      <td>0</td>\n",
              "      <td>0.000422</td>\n",
              "      <td>-0.014394</td>\n",
              "      <td>-0.009381</td>\n",
              "      <td>1.404451</td>\n",
              "      <td>0.821739</td>\n",
              "      <td>0.018133</td>\n",
              "    </tr>\n",
              "    <tr>\n",
              "      <th>19</th>\n",
              "      <td>0</td>\n",
              "      <td>0.003500</td>\n",
              "      <td>-0.017281</td>\n",
              "      <td>0.008306</td>\n",
              "      <td>0.722041</td>\n",
              "      <td>0.676449</td>\n",
              "      <td>0.010680</td>\n",
              "    </tr>\n",
              "    <tr>\n",
              "      <th>20</th>\n",
              "      <td>0</td>\n",
              "      <td>-0.000577</td>\n",
              "      <td>-0.018175</td>\n",
              "      <td>0.018940</td>\n",
              "      <td>2.226180</td>\n",
              "      <td>0.601263</td>\n",
              "      <td>0.089156</td>\n",
              "    </tr>\n",
              "    <tr>\n",
              "      <th>21</th>\n",
              "      <td>0</td>\n",
              "      <td>-0.000247</td>\n",
              "      <td>-0.013941</td>\n",
              "      <td>0.091732</td>\n",
              "      <td>1.534877</td>\n",
              "      <td>0.376743</td>\n",
              "      <td>0.131240</td>\n",
              "    </tr>\n",
              "    <tr>\n",
              "      <th>22</th>\n",
              "      <td>0</td>\n",
              "      <td>0.000714</td>\n",
              "      <td>-0.008658</td>\n",
              "      <td>0.101327</td>\n",
              "      <td>2.252686</td>\n",
              "      <td>1.633389</td>\n",
              "      <td>-0.052005</td>\n",
              "    </tr>\n",
              "    <tr>\n",
              "      <th>23</th>\n",
              "      <td>0</td>\n",
              "      <td>-0.002469</td>\n",
              "      <td>-0.001969</td>\n",
              "      <td>0.098235</td>\n",
              "      <td>2.232347</td>\n",
              "      <td>1.856035</td>\n",
              "      <td>-0.107334</td>\n",
              "    </tr>\n",
              "    <tr>\n",
              "      <th>24</th>\n",
              "      <td>0</td>\n",
              "      <td>-0.000154</td>\n",
              "      <td>0.002148</td>\n",
              "      <td>-0.111646</td>\n",
              "      <td>1.048709</td>\n",
              "      <td>-0.234392</td>\n",
              "      <td>0.175042</td>\n",
              "    </tr>\n",
              "    <tr>\n",
              "      <th>25</th>\n",
              "      <td>0</td>\n",
              "      <td>-0.000421</td>\n",
              "      <td>0.003734</td>\n",
              "      <td>0.036570</td>\n",
              "      <td>0.377071</td>\n",
              "      <td>-0.552120</td>\n",
              "      <td>-0.093998</td>\n",
              "    </tr>\n",
              "    <tr>\n",
              "      <th>26</th>\n",
              "      <td>0</td>\n",
              "      <td>-0.001322</td>\n",
              "      <td>0.007501</td>\n",
              "      <td>-0.032601</td>\n",
              "      <td>-0.583784</td>\n",
              "      <td>-0.014185</td>\n",
              "      <td>0.156867</td>\n",
              "    </tr>\n",
              "    <tr>\n",
              "      <th>27</th>\n",
              "      <td>0</td>\n",
              "      <td>-0.001960</td>\n",
              "      <td>-0.004102</td>\n",
              "      <td>0.051333</td>\n",
              "      <td>-1.037869</td>\n",
              "      <td>-1.468572</td>\n",
              "      <td>-0.799512</td>\n",
              "    </tr>\n",
              "    <tr>\n",
              "      <th>28</th>\n",
              "      <td>0</td>\n",
              "      <td>-0.002618</td>\n",
              "      <td>-0.025697</td>\n",
              "      <td>0.135278</td>\n",
              "      <td>0.182650</td>\n",
              "      <td>0.629547</td>\n",
              "      <td>0.337256</td>\n",
              "    </tr>\n",
              "    <tr>\n",
              "      <th>29</th>\n",
              "      <td>0</td>\n",
              "      <td>0.002873</td>\n",
              "      <td>-0.000988</td>\n",
              "      <td>0.044273</td>\n",
              "      <td>0.996271</td>\n",
              "      <td>-0.846434</td>\n",
              "      <td>0.655387</td>\n",
              "    </tr>\n",
              "    <tr>\n",
              "      <th>30</th>\n",
              "      <td>0</td>\n",
              "      <td>-0.002847</td>\n",
              "      <td>-0.013126</td>\n",
              "      <td>0.034000</td>\n",
              "      <td>2.327268</td>\n",
              "      <td>1.212474</td>\n",
              "      <td>0.281393</td>\n",
              "    </tr>\n",
              "    <tr>\n",
              "      <th>31</th>\n",
              "      <td>0</td>\n",
              "      <td>-0.002847</td>\n",
              "      <td>-0.013126</td>\n",
              "      <td>0.034000</td>\n",
              "      <td>2.327268</td>\n",
              "      <td>1.212474</td>\n",
              "      <td>0.281502</td>\n",
              "    </tr>\n",
              "    <tr>\n",
              "      <th>32</th>\n",
              "      <td>0</td>\n",
              "      <td>-0.001157</td>\n",
              "      <td>-0.017511</td>\n",
              "      <td>0.053451</td>\n",
              "      <td>-1.694946</td>\n",
              "      <td>1.355948</td>\n",
              "      <td>0.378798</td>\n",
              "    </tr>\n",
              "    <tr>\n",
              "      <th>33</th>\n",
              "      <td>0</td>\n",
              "      <td>0.004087</td>\n",
              "      <td>0.005229</td>\n",
              "      <td>0.004680</td>\n",
              "      <td>-2.307772</td>\n",
              "      <td>3.501118</td>\n",
              "      <td>0.154917</td>\n",
              "    </tr>\n",
              "    <tr>\n",
              "      <th>34</th>\n",
              "      <td>0</td>\n",
              "      <td>-0.001205</td>\n",
              "      <td>0.013394</td>\n",
              "      <td>-0.008465</td>\n",
              "      <td>0.013956</td>\n",
              "      <td>0.069171</td>\n",
              "      <td>-0.250298</td>\n",
              "    </tr>\n",
              "    <tr>\n",
              "      <th>35</th>\n",
              "      <td>0</td>\n",
              "      <td>-0.002744</td>\n",
              "      <td>0.014927</td>\n",
              "      <td>0.044419</td>\n",
              "      <td>1.097060</td>\n",
              "      <td>0.090950</td>\n",
              "      <td>0.280145</td>\n",
              "    </tr>\n",
              "    <tr>\n",
              "      <th>36</th>\n",
              "      <td>0</td>\n",
              "      <td>0.002230</td>\n",
              "      <td>0.015692</td>\n",
              "      <td>-0.046310</td>\n",
              "      <td>-0.892297</td>\n",
              "      <td>0.588549</td>\n",
              "      <td>-0.025707</td>\n",
              "    </tr>\n",
              "    <tr>\n",
              "      <th>37</th>\n",
              "      <td>1</td>\n",
              "      <td>0.003672</td>\n",
              "      <td>0.009894</td>\n",
              "      <td>-0.082498</td>\n",
              "      <td>-3.264089</td>\n",
              "      <td>-1.184797</td>\n",
              "      <td>-0.400282</td>\n",
              "    </tr>\n",
              "    <tr>\n",
              "      <th>38</th>\n",
              "      <td>1</td>\n",
              "      <td>0.001633</td>\n",
              "      <td>0.007449</td>\n",
              "      <td>-0.032674</td>\n",
              "      <td>-2.145056</td>\n",
              "      <td>-1.895921</td>\n",
              "      <td>-0.271805</td>\n",
              "    </tr>\n",
              "    <tr>\n",
              "      <th>39</th>\n",
              "      <td>1</td>\n",
              "      <td>0.005172</td>\n",
              "      <td>0.010073</td>\n",
              "      <td>-0.104295</td>\n",
              "      <td>-3.150424</td>\n",
              "      <td>-0.746284</td>\n",
              "      <td>-0.398937</td>\n",
              "    </tr>\n",
              "    <tr>\n",
              "      <th>40</th>\n",
              "      <td>1</td>\n",
              "      <td>-0.001830</td>\n",
              "      <td>0.016000</td>\n",
              "      <td>0.053968</td>\n",
              "      <td>-0.927159</td>\n",
              "      <td>0.096014</td>\n",
              "      <td>-0.142795</td>\n",
              "    </tr>\n",
              "    <tr>\n",
              "      <th>41</th>\n",
              "      <td>1</td>\n",
              "      <td>0.002678</td>\n",
              "      <td>-0.005926</td>\n",
              "      <td>0.001779</td>\n",
              "      <td>1.433087</td>\n",
              "      <td>2.385760</td>\n",
              "      <td>0.056650</td>\n",
              "    </tr>\n",
              "    <tr>\n",
              "      <th>42</th>\n",
              "      <td>1</td>\n",
              "      <td>0.001018</td>\n",
              "      <td>0.007615</td>\n",
              "      <td>-0.130361</td>\n",
              "      <td>0.320185</td>\n",
              "      <td>-0.535441</td>\n",
              "      <td>0.511881</td>\n",
              "    </tr>\n",
              "    <tr>\n",
              "      <th>43</th>\n",
              "      <td>1</td>\n",
              "      <td>0.001935</td>\n",
              "      <td>0.002456</td>\n",
              "      <td>-0.024638</td>\n",
              "      <td>-0.425427</td>\n",
              "      <td>-2.290985</td>\n",
              "      <td>-0.308127</td>\n",
              "    </tr>\n",
              "    <tr>\n",
              "      <th>44</th>\n",
              "      <td>1</td>\n",
              "      <td>0.006506</td>\n",
              "      <td>0.006460</td>\n",
              "      <td>-0.080408</td>\n",
              "      <td>0.607598</td>\n",
              "      <td>-2.882522</td>\n",
              "      <td>-0.365263</td>\n",
              "    </tr>\n",
              "    <tr>\n",
              "      <th>45</th>\n",
              "      <td>1</td>\n",
              "      <td>0.000859</td>\n",
              "      <td>-0.013318</td>\n",
              "      <td>-0.045161</td>\n",
              "      <td>1.738390</td>\n",
              "      <td>1.762868</td>\n",
              "      <td>0.166357</td>\n",
              "    </tr>\n",
              "    <tr>\n",
              "      <th>46</th>\n",
              "      <td>1</td>\n",
              "      <td>-0.000028</td>\n",
              "      <td>0.000224</td>\n",
              "      <td>-0.077633</td>\n",
              "      <td>1.723165</td>\n",
              "      <td>0.352477</td>\n",
              "      <td>0.279981</td>\n",
              "    </tr>\n",
              "    <tr>\n",
              "      <th>47</th>\n",
              "      <td>1</td>\n",
              "      <td>-0.000461</td>\n",
              "      <td>-0.016576</td>\n",
              "      <td>0.037749</td>\n",
              "      <td>0.607897</td>\n",
              "      <td>0.588117</td>\n",
              "      <td>-0.037399</td>\n",
              "    </tr>\n",
              "    <tr>\n",
              "      <th>48</th>\n",
              "      <td>1</td>\n",
              "      <td>-0.000869</td>\n",
              "      <td>-0.006149</td>\n",
              "      <td>-0.117524</td>\n",
              "      <td>-0.688922</td>\n",
              "      <td>0.229579</td>\n",
              "      <td>-0.146544</td>\n",
              "    </tr>\n",
              "    <tr>\n",
              "      <th>49</th>\n",
              "      <td>1</td>\n",
              "      <td>0.001738</td>\n",
              "      <td>-0.004639</td>\n",
              "      <td>-0.108187</td>\n",
              "      <td>-1.624909</td>\n",
              "      <td>-1.171627</td>\n",
              "      <td>-0.215393</td>\n",
              "    </tr>\n",
              "    <tr>\n",
              "      <th>50</th>\n",
              "      <td>1</td>\n",
              "      <td>-0.004404</td>\n",
              "      <td>0.005451</td>\n",
              "      <td>0.018400</td>\n",
              "      <td>-1.403591</td>\n",
              "      <td>-2.602801</td>\n",
              "      <td>-0.163489</td>\n",
              "    </tr>\n",
              "  </tbody>\n",
              "</table>\n",
              "</div>\n",
              "      <button class=\"colab-df-convert\" onclick=\"convertToInteractive('df-1c3bf5ca-9289-40d2-b1e1-8fbc79e979b9')\"\n",
              "              title=\"Convert this dataframe to an interactive table.\"\n",
              "              style=\"display:none;\">\n",
              "        \n",
              "  <svg xmlns=\"http://www.w3.org/2000/svg\" height=\"24px\"viewBox=\"0 0 24 24\"\n",
              "       width=\"24px\">\n",
              "    <path d=\"M0 0h24v24H0V0z\" fill=\"none\"/>\n",
              "    <path d=\"M18.56 5.44l.94 2.06.94-2.06 2.06-.94-2.06-.94-.94-2.06-.94 2.06-2.06.94zm-11 1L8.5 8.5l.94-2.06 2.06-.94-2.06-.94L8.5 2.5l-.94 2.06-2.06.94zm10 10l.94 2.06.94-2.06 2.06-.94-2.06-.94-.94-2.06-.94 2.06-2.06.94z\"/><path d=\"M17.41 7.96l-1.37-1.37c-.4-.4-.92-.59-1.43-.59-.52 0-1.04.2-1.43.59L10.3 9.45l-7.72 7.72c-.78.78-.78 2.05 0 2.83L4 21.41c.39.39.9.59 1.41.59.51 0 1.02-.2 1.41-.59l7.78-7.78 2.81-2.81c.8-.78.8-2.07 0-2.86zM5.41 20L4 18.59l7.72-7.72 1.47 1.35L5.41 20z\"/>\n",
              "  </svg>\n",
              "      </button>\n",
              "      \n",
              "  <style>\n",
              "    .colab-df-container {\n",
              "      display:flex;\n",
              "      flex-wrap:wrap;\n",
              "      gap: 12px;\n",
              "    }\n",
              "\n",
              "    .colab-df-convert {\n",
              "      background-color: #E8F0FE;\n",
              "      border: none;\n",
              "      border-radius: 50%;\n",
              "      cursor: pointer;\n",
              "      display: none;\n",
              "      fill: #1967D2;\n",
              "      height: 32px;\n",
              "      padding: 0 0 0 0;\n",
              "      width: 32px;\n",
              "    }\n",
              "\n",
              "    .colab-df-convert:hover {\n",
              "      background-color: #E2EBFA;\n",
              "      box-shadow: 0px 1px 2px rgba(60, 64, 67, 0.3), 0px 1px 3px 1px rgba(60, 64, 67, 0.15);\n",
              "      fill: #174EA6;\n",
              "    }\n",
              "\n",
              "    [theme=dark] .colab-df-convert {\n",
              "      background-color: #3B4455;\n",
              "      fill: #D2E3FC;\n",
              "    }\n",
              "\n",
              "    [theme=dark] .colab-df-convert:hover {\n",
              "      background-color: #434B5C;\n",
              "      box-shadow: 0px 1px 3px 1px rgba(0, 0, 0, 0.15);\n",
              "      filter: drop-shadow(0px 1px 2px rgba(0, 0, 0, 0.3));\n",
              "      fill: #FFFFFF;\n",
              "    }\n",
              "  </style>\n",
              "\n",
              "      <script>\n",
              "        const buttonEl =\n",
              "          document.querySelector('#df-1c3bf5ca-9289-40d2-b1e1-8fbc79e979b9 button.colab-df-convert');\n",
              "        buttonEl.style.display =\n",
              "          google.colab.kernel.accessAllowed ? 'block' : 'none';\n",
              "\n",
              "        async function convertToInteractive(key) {\n",
              "          const element = document.querySelector('#df-1c3bf5ca-9289-40d2-b1e1-8fbc79e979b9');\n",
              "          const dataTable =\n",
              "            await google.colab.kernel.invokeFunction('convertToInteractive',\n",
              "                                                     [key], {});\n",
              "          if (!dataTable) return;\n",
              "\n",
              "          const docLinkHtml = 'Like what you see? Visit the ' +\n",
              "            '<a target=\"_blank\" href=https://colab.research.google.com/notebooks/data_table.ipynb>data table notebook</a>'\n",
              "            + ' to learn more about interactive tables.';\n",
              "          element.innerHTML = '';\n",
              "          dataTable['output_type'] = 'display_data';\n",
              "          await google.colab.output.renderOutput(dataTable, element);\n",
              "          const docLink = document.createElement('div');\n",
              "          docLink.innerHTML = docLinkHtml;\n",
              "          element.appendChild(docLink);\n",
              "        }\n",
              "      </script>\n",
              "    </div>\n",
              "  </div>\n",
              "  "
            ],
            "text/plain": [
              "    Cs_longia     AXE11     AXE12      AXE2      AXE3      AXE4      AXE5\n",
              "0           0 -0.000973  0.011465  0.090826 -2.054473 -1.159648  0.023911\n",
              "1           1 -0.005224  0.007407 -0.003400 -1.623037 -1.119609 -0.050821\n",
              "2           1 -0.005224  0.007407 -0.003400 -1.623037 -1.119609 -0.050821\n",
              "3           1  0.001292  0.013119 -0.089037 -2.733886 -1.084109 -0.159765\n",
              "4           0 -0.002151  0.004945  0.004891 -0.312813  0.250637  0.239744\n",
              "5           0 -0.002095  0.004945  0.010478 -0.515774  0.250637  0.235117\n",
              "6           0  0.000653  0.005613  0.019444  0.128193 -1.015083 -0.119206\n",
              "7           0  0.001841  0.004177 -0.033974  0.553651 -1.046322  0.186320\n",
              "8           1 -0.001734  0.005542  0.098032  0.592257  0.701975  0.190069\n",
              "9           0 -0.001089  0.005474  0.078806  0.240400  0.770757  0.095475\n",
              "10          0  0.001669  0.009106 -0.027300 -0.729524 -1.151868 -0.233796\n",
              "11          1  0.002266  0.005114 -0.078781 -1.100554 -1.032161 -0.349980\n",
              "12          0  0.002272  0.015364 -0.020330 -2.203479 -1.005917 -0.170226\n",
              "13          1 -0.003460  0.005692  0.102247  0.479889  1.258116  0.107972\n",
              "14          0  0.000324  0.005710 -0.015213 -0.056893 -0.021556 -0.378856\n",
              "15          0 -0.001100 -0.014651  0.064259  1.549563 -0.014750  0.175670\n",
              "16          0  0.000632 -0.014252 -0.030113  2.627901  1.370142  0.052224\n",
              "17          0  0.001223 -0.014848 -0.024092  1.754704  1.553783  0.020475\n",
              "18          0  0.000422 -0.014394 -0.009381  1.404451  0.821739  0.018133\n",
              "19          0  0.003500 -0.017281  0.008306  0.722041  0.676449  0.010680\n",
              "20          0 -0.000577 -0.018175  0.018940  2.226180  0.601263  0.089156\n",
              "21          0 -0.000247 -0.013941  0.091732  1.534877  0.376743  0.131240\n",
              "22          0  0.000714 -0.008658  0.101327  2.252686  1.633389 -0.052005\n",
              "23          0 -0.002469 -0.001969  0.098235  2.232347  1.856035 -0.107334\n",
              "24          0 -0.000154  0.002148 -0.111646  1.048709 -0.234392  0.175042\n",
              "25          0 -0.000421  0.003734  0.036570  0.377071 -0.552120 -0.093998\n",
              "26          0 -0.001322  0.007501 -0.032601 -0.583784 -0.014185  0.156867\n",
              "27          0 -0.001960 -0.004102  0.051333 -1.037869 -1.468572 -0.799512\n",
              "28          0 -0.002618 -0.025697  0.135278  0.182650  0.629547  0.337256\n",
              "29          0  0.002873 -0.000988  0.044273  0.996271 -0.846434  0.655387\n",
              "30          0 -0.002847 -0.013126  0.034000  2.327268  1.212474  0.281393\n",
              "31          0 -0.002847 -0.013126  0.034000  2.327268  1.212474  0.281502\n",
              "32          0 -0.001157 -0.017511  0.053451 -1.694946  1.355948  0.378798\n",
              "33          0  0.004087  0.005229  0.004680 -2.307772  3.501118  0.154917\n",
              "34          0 -0.001205  0.013394 -0.008465  0.013956  0.069171 -0.250298\n",
              "35          0 -0.002744  0.014927  0.044419  1.097060  0.090950  0.280145\n",
              "36          0  0.002230  0.015692 -0.046310 -0.892297  0.588549 -0.025707\n",
              "37          1  0.003672  0.009894 -0.082498 -3.264089 -1.184797 -0.400282\n",
              "38          1  0.001633  0.007449 -0.032674 -2.145056 -1.895921 -0.271805\n",
              "39          1  0.005172  0.010073 -0.104295 -3.150424 -0.746284 -0.398937\n",
              "40          1 -0.001830  0.016000  0.053968 -0.927159  0.096014 -0.142795\n",
              "41          1  0.002678 -0.005926  0.001779  1.433087  2.385760  0.056650\n",
              "42          1  0.001018  0.007615 -0.130361  0.320185 -0.535441  0.511881\n",
              "43          1  0.001935  0.002456 -0.024638 -0.425427 -2.290985 -0.308127\n",
              "44          1  0.006506  0.006460 -0.080408  0.607598 -2.882522 -0.365263\n",
              "45          1  0.000859 -0.013318 -0.045161  1.738390  1.762868  0.166357\n",
              "46          1 -0.000028  0.000224 -0.077633  1.723165  0.352477  0.279981\n",
              "47          1 -0.000461 -0.016576  0.037749  0.607897  0.588117 -0.037399\n",
              "48          1 -0.000869 -0.006149 -0.117524 -0.688922  0.229579 -0.146544\n",
              "49          1  0.001738 -0.004639 -0.108187 -1.624909 -1.171627 -0.215393\n",
              "50          1 -0.004404  0.005451  0.018400 -1.403591 -2.602801 -0.163489"
            ]
          },
          "metadata": {},
          "execution_count": 5
        }
      ]
    },
    {
      "cell_type": "code",
      "metadata": {
        "id": "WlXmEfpym-Hm"
      },
      "source": [
        "X_app = apprentissage.loc[:, apprentissage.columns != 'Cs_longia']\n",
        "Y_app = apprentissage.Cs_longia\n",
        "X_test = test.loc[:, test.columns != 'Cs_longia']\n",
        "Y_test = test.Cs_longia"
      ],
      "execution_count": 6,
      "outputs": []
    },
    {
      "cell_type": "markdown",
      "source": [
        "# XGBOOST"
      ],
      "metadata": {
        "id": "THsA6X7josns"
      }
    },
    {
      "cell_type": "code",
      "source": [
        "Classifier = XGBClassifier(scale_pos_weight=1,learning_rate=0.5,max_depth=5,n_estimators=150,objective=\"binary:logistic\")"
      ],
      "metadata": {
        "id": "LvZVQSVTx91X"
      },
      "execution_count": 167,
      "outputs": []
    },
    {
      "cell_type": "code",
      "source": [
        "Classifier.fit(X_app,Y_app)"
      ],
      "metadata": {
        "colab": {
          "base_uri": "https://localhost:8080/"
        },
        "id": "kzx4dBDMx93d",
        "outputId": "555c48ba-4608-493b-9c28-8236e25491fe"
      },
      "execution_count": 168,
      "outputs": [
        {
          "output_type": "execute_result",
          "data": {
            "text/plain": [
              "XGBClassifier(learning_rate=0.5, max_depth=5, n_estimators=150)"
            ]
          },
          "metadata": {},
          "execution_count": 168
        }
      ]
    },
    {
      "cell_type": "code",
      "metadata": {
        "id": "mpZMF-EhTV0N"
      },
      "source": [
        "preds = Classifier.predict(X_test)"
      ],
      "execution_count": 169,
      "outputs": []
    },
    {
      "cell_type": "code",
      "metadata": {
        "id": "wfCXrkA0TV0O",
        "colab": {
          "base_uri": "https://localhost:8080/"
        },
        "outputId": "e6aea422-5bd1-49aa-d67d-80516e8d0522"
      },
      "source": [
        "preds"
      ],
      "execution_count": 170,
      "outputs": [
        {
          "output_type": "execute_result",
          "data": {
            "text/plain": [
              "array([0, 0, 0, 1, 0, 0, 1, 1, 0, 0, 1, 1, 1, 0, 1, 0, 1, 1, 1, 1, 1, 0,\n",
              "       0, 0, 0, 0, 0, 0, 0, 0, 0, 0, 0, 1, 0, 0, 1, 1, 1, 1, 0, 1, 1, 1,\n",
              "       1, 1, 1, 1, 1, 1, 0])"
            ]
          },
          "metadata": {},
          "execution_count": 170
        }
      ]
    },
    {
      "cell_type": "code",
      "metadata": {
        "colab": {
          "base_uri": "https://localhost:8080/"
        },
        "outputId": "b1157b71-d679-482d-de40-7b198a8468bd",
        "id": "-kxBDaKxzO2e"
      },
      "source": [
        "cf_matrix = confusion_matrix(Y_test, preds)\n",
        "print(cf_matrix)"
      ],
      "execution_count": 171,
      "outputs": [
        {
          "output_type": "stream",
          "name": "stdout",
          "text": [
            "[[19 12]\n",
            " [ 6 14]]\n"
          ]
        }
      ]
    },
    {
      "cell_type": "code",
      "source": [
        "###Recall\n",
        "def recall(y_test, preds):\n",
        "  recall=recall_score(y_test, preds)\n",
        "  return recall\n",
        "def MCC(y_test, preds):\n",
        "  MCC= matthews_corrcoef(y_test, preds) \n",
        "  return MCC\n",
        "### MCC\n",
        "def MCC(y_test, preds):\n",
        "  MCC= matthews_corrcoef(y_test, preds) \n",
        "  return MCC\n",
        "### sensibilite\n",
        "def sensibilite(y_test, preds):\n",
        "  cf_matrix = confusion_matrix(y_test, preds)\n",
        "  sensibilite =  (cf_matrix[1,1])/(cf_matrix[1,1]+cf_matrix[1,0])\n",
        "  return sensibilite\n",
        "### specifite \n",
        "def specifite(y_test, preds):\n",
        "  cf_matrix = confusion_matrix(y_test, preds)\n",
        "  specifite =  (cf_matrix[0,0])/(cf_matrix[0,0]+cf_matrix[0,1])\n",
        "  return specifite \n",
        "### kappa\n",
        "def kappa(y_test, preds):\n",
        "  value = cohen_kappa_score(y_test, preds)\n",
        "  return value\n",
        "### balancedacc\n",
        "def balancedacc(y_test, preds):\n",
        "  cf_matrix = confusion_matrix(y_test, preds)\n",
        "  sen = (cf_matrix[1,1])/(cf_matrix[1,1]+cf_matrix[0,1])\n",
        "  spe = (cf_matrix[0,0])/(cf_matrix[0,0]+cf_matrix[1,0])\n",
        "  value = (sen + spe)/2\n",
        "  return value\n",
        "def présicion_positive(y_test, preds):\n",
        "  cf_matrix = confusion_matrix(y_test, preds)\n",
        "  pre_pos =  (cf_matrix[1,1])/(cf_matrix[1,1]+cf_matrix[0,1])\n",
        "  return pre_pos\n",
        "def présicion_négative(y_test, preds):\n",
        "  cf_matrix = confusion_matrix(y_test, preds)\n",
        "  pre_pos =  (cf_matrix[0,0])/(cf_matrix[0,0]+cf_matrix[1,0])\n",
        "  return pre_pos\n",
        "  \n",
        "### courbe roc\n",
        "def plot_roc_curve(fper, tper):\n",
        "    plt.plot(fper, tper, color='red', label='ROC')\n",
        "    plt.plot([0, 1], [0, 1], color='green', linestyle='--')\n",
        "    plt.xlabel('False Positive Rate')\n",
        "    plt.ylabel('True Positive Rate')\n",
        "    plt.title('Receiver Operating Characteristic Curve')\n",
        "    plt.legend()\n",
        "    plt.show()"
      ],
      "metadata": {
        "id": "PT7afKHWJD6b"
      },
      "execution_count": 172,
      "outputs": []
    },
    {
      "cell_type": "code",
      "source": [
        "MCC(Y_test, preds)"
      ],
      "metadata": {
        "colab": {
          "base_uri": "https://localhost:8080/"
        },
        "id": "0YKjN3KXIaz7",
        "outputId": "4bc320d5-75d9-48f0-ee66-4c7656287a2c"
      },
      "execution_count": 173,
      "outputs": [
        {
          "output_type": "execute_result",
          "data": {
            "text/plain": [
              "0.3055970846781293"
            ]
          },
          "metadata": {},
          "execution_count": 173
        }
      ]
    },
    {
      "cell_type": "code",
      "source": [
        "recall(Y_test, preds)"
      ],
      "metadata": {
        "colab": {
          "base_uri": "https://localhost:8080/"
        },
        "id": "y5XZY6B2JD9D",
        "outputId": "de72797d-5f6a-42ba-bea2-1f3921d74c03"
      },
      "execution_count": 174,
      "outputs": [
        {
          "output_type": "execute_result",
          "data": {
            "text/plain": [
              "0.7"
            ]
          },
          "metadata": {},
          "execution_count": 174
        }
      ]
    },
    {
      "cell_type": "code",
      "source": [
        "sensibilite(Y_test, preds)"
      ],
      "metadata": {
        "colab": {
          "base_uri": "https://localhost:8080/"
        },
        "id": "kqSk6bUfJD_T",
        "outputId": "8fbba1ca-0aaa-4b5d-9755-b1503fb98065"
      },
      "execution_count": 175,
      "outputs": [
        {
          "output_type": "execute_result",
          "data": {
            "text/plain": [
              "0.7"
            ]
          },
          "metadata": {},
          "execution_count": 175
        }
      ]
    },
    {
      "cell_type": "code",
      "source": [
        "specifite(Y_test, preds)"
      ],
      "metadata": {
        "colab": {
          "base_uri": "https://localhost:8080/"
        },
        "id": "pNQ0SMEcJEBk",
        "outputId": "f9b33361-5303-4ea8-e4d1-f4b5677db108"
      },
      "execution_count": 176,
      "outputs": [
        {
          "output_type": "execute_result",
          "data": {
            "text/plain": [
              "0.6129032258064516"
            ]
          },
          "metadata": {},
          "execution_count": 176
        }
      ]
    },
    {
      "cell_type": "code",
      "source": [
        "présicion_négative(Y_test, preds)"
      ],
      "metadata": {
        "colab": {
          "base_uri": "https://localhost:8080/"
        },
        "id": "H2OR9PEknpHB",
        "outputId": "1803eca6-6868-4530-915e-a8f5dd167af2"
      },
      "execution_count": 177,
      "outputs": [
        {
          "output_type": "execute_result",
          "data": {
            "text/plain": [
              "0.76"
            ]
          },
          "metadata": {},
          "execution_count": 177
        }
      ]
    },
    {
      "cell_type": "code",
      "source": [
        "présicion_positive(Y_test, preds)"
      ],
      "metadata": {
        "colab": {
          "base_uri": "https://localhost:8080/"
        },
        "id": "5F8mvboxno-8",
        "outputId": "25c49143-78f2-4d5c-ebe7-9e196e8deb63"
      },
      "execution_count": 178,
      "outputs": [
        {
          "output_type": "execute_result",
          "data": {
            "text/plain": [
              "0.5384615384615384"
            ]
          },
          "metadata": {},
          "execution_count": 178
        }
      ]
    },
    {
      "cell_type": "code",
      "source": [
        "balancedacc(Y_test, preds)"
      ],
      "metadata": {
        "colab": {
          "base_uri": "https://localhost:8080/"
        },
        "id": "ZBb1_XQDnxip",
        "outputId": "3afba7a0-f1d5-4f60-c803-78a49a63a730"
      },
      "execution_count": 179,
      "outputs": [
        {
          "output_type": "execute_result",
          "data": {
            "text/plain": [
              "0.6492307692307693"
            ]
          },
          "metadata": {},
          "execution_count": 179
        }
      ]
    },
    {
      "cell_type": "code",
      "source": [
        "kappa(Y_test, preds)"
      ],
      "metadata": {
        "colab": {
          "base_uri": "https://localhost:8080/"
        },
        "id": "Oov8iFSGop2F",
        "outputId": "2b517f64-2db9-4bac-a291-ff6e206ec989"
      },
      "execution_count": 180,
      "outputs": [
        {
          "output_type": "execute_result",
          "data": {
            "text/plain": [
              "0.2970903522205207"
            ]
          },
          "metadata": {},
          "execution_count": 180
        }
      ]
    },
    {
      "cell_type": "code",
      "source": [
        "y_pred_proba = Classifier.predict_proba(X_test)[::,1]\n",
        "fpr, tpr, _ = metrics.roc_curve(Y_test,  y_pred_proba)\n",
        "auc = metrics.roc_auc_score(Y_test, y_pred_proba)\n",
        "plt.plot(fpr,tpr,label=\"xgboost, auc=\"+str(auc))\n",
        "plt.legend(loc=4)\n",
        "plt.show()"
      ],
      "metadata": {
        "colab": {
          "base_uri": "https://localhost:8080/",
          "height": 265
        },
        "id": "eOzFa818Ia2R",
        "outputId": "2888ade0-1f45-4f9a-e777-91ff0784d661"
      },
      "execution_count": 181,
      "outputs": [
        {
          "output_type": "display_data",
          "data": {
            "image/png": "[encoded data removed]",
            "text/plain": [
              "<Figure size 432x288 with 1 Axes>"
            ]
          },
          "metadata": {
            "needs_background": "light"
          }
        }
      ]
    },
    {
      "cell_type": "markdown",
      "source": [
        "# Logistic"
      ],
      "metadata": {
        "id": "y9aeHkxsorEv"
      }
    },
    {
      "cell_type": "code",
      "source": [
        "Classifier1 = LogisticRegression(max_iter=100, solver='lbfgs', class_weight='balanced')"
      ],
      "metadata": {
        "id": "BqdBNQ8OtRBK"
      },
      "execution_count": 276,
      "outputs": []
    },
    {
      "cell_type": "code",
      "source": [
        "Classifier1.fit(X_app,Y_app)"
      ],
      "metadata": {
        "colab": {
          "base_uri": "https://localhost:8080/"
        },
        "outputId": "0854c011-e9b4-448c-d319-5ed4b649e126",
        "id": "cFamN3t7tRBN"
      },
      "execution_count": 277,
      "outputs": [
        {
          "output_type": "execute_result",
          "data": {
            "text/plain": [
              "LogisticRegression(class_weight='balanced')"
            ]
          },
          "metadata": {},
          "execution_count": 277
        }
      ]
    },
    {
      "cell_type": "code",
      "metadata": {
        "id": "WWCUVz41tRBN"
      },
      "source": [
        "preds1 = Classifier1.predict(X_test)"
      ],
      "execution_count": 278,
      "outputs": []
    },
    {
      "cell_type": "code",
      "metadata": {
        "colab": {
          "base_uri": "https://localhost:8080/"
        },
        "outputId": "4ba78049-0756-45e3-ea72-5f00273401e8",
        "id": "cLbQ1a3ytRBO"
      },
      "source": [
        "preds1"
      ],
      "execution_count": 279,
      "outputs": [
        {
          "output_type": "execute_result",
          "data": {
            "text/plain": [
              "array([1, 1, 1, 1, 0, 0, 1, 0, 0, 0, 1, 1, 1, 0, 1, 0, 0, 0, 0, 0, 0, 0,\n",
              "       0, 0, 0, 1, 0, 1, 0, 0, 0, 0, 0, 0, 1, 0, 1, 1, 1, 1, 1, 0, 0, 1,\n",
              "       1, 0, 0, 0, 1, 1, 1])"
            ]
          },
          "metadata": {},
          "execution_count": 279
        }
      ]
    },
    {
      "cell_type": "code",
      "metadata": {
        "colab": {
          "base_uri": "https://localhost:8080/"
        },
        "outputId": "8477c67d-1975-439e-fe30-d667c66a88c7",
        "id": "jYdLZtC2tRBP"
      },
      "source": [
        "cf_matrix1 = confusion_matrix(Y_test, preds1)\n",
        "print(cf_matrix1)"
      ],
      "execution_count": 280,
      "outputs": [
        {
          "output_type": "stream",
          "name": "stdout",
          "text": [
            "[[22  9]\n",
            " [ 7 13]]\n"
          ]
        }
      ]
    },
    {
      "cell_type": "code",
      "source": [
        "MCC(Y_test, preds1)"
      ],
      "metadata": {
        "colab": {
          "base_uri": "https://localhost:8080/"
        },
        "outputId": "7547d907-045d-411d-e338-72eb47396c37",
        "id": "r9gihGeYtxi3"
      },
      "execution_count": 281,
      "outputs": [
        {
          "output_type": "execute_result",
          "data": {
            "text/plain": [
              "0.3545672989166052"
            ]
          },
          "metadata": {},
          "execution_count": 281
        }
      ]
    },
    {
      "cell_type": "code",
      "source": [
        "recall(Y_test, preds1)"
      ],
      "metadata": {
        "colab": {
          "base_uri": "https://localhost:8080/"
        },
        "outputId": "49b589c5-931b-4f68-cbd0-56af93787653",
        "id": "nEBoze-Ptxi6"
      },
      "execution_count": 282,
      "outputs": [
        {
          "output_type": "execute_result",
          "data": {
            "text/plain": [
              "0.65"
            ]
          },
          "metadata": {},
          "execution_count": 282
        }
      ]
    },
    {
      "cell_type": "code",
      "source": [
        "sensibilite(Y_test, preds1)"
      ],
      "metadata": {
        "colab": {
          "base_uri": "https://localhost:8080/"
        },
        "outputId": "0e6b1b30-3d62-414b-fc7a-223537959038",
        "id": "FeSUU13Dtxi6"
      },
      "execution_count": 283,
      "outputs": [
        {
          "output_type": "execute_result",
          "data": {
            "text/plain": [
              "0.65"
            ]
          },
          "metadata": {},
          "execution_count": 283
        }
      ]
    },
    {
      "cell_type": "code",
      "source": [
        "specifite(Y_test, preds1)"
      ],
      "metadata": {
        "colab": {
          "base_uri": "https://localhost:8080/"
        },
        "outputId": "4f320d05-ff17-4015-e3fc-466c02525335",
        "id": "dwQpig7Htxi6"
      },
      "execution_count": 284,
      "outputs": [
        {
          "output_type": "execute_result",
          "data": {
            "text/plain": [
              "0.7096774193548387"
            ]
          },
          "metadata": {},
          "execution_count": 284
        }
      ]
    },
    {
      "cell_type": "code",
      "source": [
        "présicion_négative(Y_test, preds1)"
      ],
      "metadata": {
        "colab": {
          "base_uri": "https://localhost:8080/"
        },
        "outputId": "28c2d2d6-cfca-4ee5-f68b-93bcf683fe8d",
        "id": "6H7Fh0xYtxi8"
      },
      "execution_count": 285,
      "outputs": [
        {
          "output_type": "execute_result",
          "data": {
            "text/plain": [
              "0.7586206896551724"
            ]
          },
          "metadata": {},
          "execution_count": 285
        }
      ]
    },
    {
      "cell_type": "code",
      "source": [
        "présicion_positive(Y_test, preds1)"
      ],
      "metadata": {
        "colab": {
          "base_uri": "https://localhost:8080/"
        },
        "outputId": "d40f5aa6-ff91-4734-840a-93cd777a6e05",
        "id": "76_2PqsYtxi9"
      },
      "execution_count": 286,
      "outputs": [
        {
          "output_type": "execute_result",
          "data": {
            "text/plain": [
              "0.5909090909090909"
            ]
          },
          "metadata": {},
          "execution_count": 286
        }
      ]
    },
    {
      "cell_type": "code",
      "source": [
        "balancedacc(Y_test, preds1)"
      ],
      "metadata": {
        "colab": {
          "base_uri": "https://localhost:8080/"
        },
        "outputId": "529b9672-a1f7-48e6-e588-a4822920b69a",
        "id": "GnAaGf7Ftxi9"
      },
      "execution_count": 287,
      "outputs": [
        {
          "output_type": "execute_result",
          "data": {
            "text/plain": [
              "0.6747648902821317"
            ]
          },
          "metadata": {},
          "execution_count": 287
        }
      ]
    },
    {
      "cell_type": "code",
      "source": [
        "kappa(Y_test, preds1)"
      ],
      "metadata": {
        "colab": {
          "base_uri": "https://localhost:8080/"
        },
        "outputId": "c17c598e-8092-46ad-96a5-bdb78063d910",
        "id": "qET4Gk3Jtxi-"
      },
      "execution_count": 288,
      "outputs": [
        {
          "output_type": "execute_result",
          "data": {
            "text/plain": [
              "0.3534072900158479"
            ]
          },
          "metadata": {},
          "execution_count": 288
        }
      ]
    },
    {
      "cell_type": "code",
      "source": [
        "y_pred_proba = Classifier1.predict_proba(X_test)[::,1]\n",
        "fpr, tpr, _ = metrics.roc_curve(Y_test,  y_pred_proba)\n",
        "auc = metrics.roc_auc_score(Y_test, y_pred_proba)\n",
        "plt.plot(fpr,tpr,label=\"xgboost, auc=\"+str(auc))\n",
        "plt.legend(loc=4)\n",
        "plt.show()"
      ],
      "metadata": {
        "colab": {
          "base_uri": "https://localhost:8080/",
          "height": 265
        },
        "outputId": "e8e355ec-0c70-487d-b65e-8abab255c079",
        "id": "7KQf8mPRtxi-"
      },
      "execution_count": 291,
      "outputs": [
        {
          "output_type": "display_data",
          "data": {
            "image/png": "[encoded data removed]",
            "text/plain": [
              "<Figure size 432x288 with 1 Axes>"
            ]
          },
          "metadata": {
            "needs_background": "light"
          }
        }
      ]
    },
    {
      "cell_type": "markdown",
      "source": [
        "# Random_forest"
      ],
      "metadata": {
        "id": "zGlIAvl7x7Kc"
      }
    },
    {
      "cell_type": "code",
      "source": [
        "Classifier2 = RandomForestClassifier(n_estimators=100, criterion='gini', max_depth=5 ,min_samples_split=3)"
      ],
      "metadata": {
        "id": "OnTVCOaQx7Ke"
      },
      "execution_count": 316,
      "outputs": []
    },
    {
      "cell_type": "code",
      "source": [
        "Classifier2.fit(X_app,Y_app)"
      ],
      "metadata": {
        "colab": {
          "base_uri": "https://localhost:8080/"
        },
        "outputId": "c9ece84b-bc46-4a20-ed33-0c0b871a27b7",
        "id": "DXZaUbAOx7Kf"
      },
      "execution_count": 317,
      "outputs": [
        {
          "output_type": "execute_result",
          "data": {
            "text/plain": [
              "RandomForestClassifier(max_depth=5, min_samples_split=3)"
            ]
          },
          "metadata": {},
          "execution_count": 317
        }
      ]
    },
    {
      "cell_type": "code",
      "metadata": {
        "id": "gZ5dhlTJx7Kg"
      },
      "source": [
        "preds2 = Classifier2.predict(X_test)"
      ],
      "execution_count": 318,
      "outputs": []
    },
    {
      "cell_type": "code",
      "metadata": {
        "colab": {
          "base_uri": "https://localhost:8080/"
        },
        "outputId": "409d4e18-7996-4514-f335-1b3eb923162c",
        "id": "3xri6EYkx7Kh"
      },
      "source": [
        "preds2"
      ],
      "execution_count": 319,
      "outputs": [
        {
          "output_type": "execute_result",
          "data": {
            "text/plain": [
              "array([0, 0, 0, 1, 0, 0, 1, 1, 0, 0, 1, 1, 1, 0, 1, 0, 1, 1, 1, 1, 0, 0,\n",
              "       0, 0, 1, 0, 0, 0, 0, 0, 0, 0, 0, 1, 0, 0, 1, 1, 1, 1, 0, 1, 1, 1,\n",
              "       1, 1, 1, 0, 1, 1, 0])"
            ]
          },
          "metadata": {},
          "execution_count": 319
        }
      ]
    },
    {
      "cell_type": "code",
      "metadata": {
        "colab": {
          "base_uri": "https://localhost:8080/"
        },
        "outputId": "8896aeb7-040d-4bb5-9319-48147e92289d",
        "id": "x_YXboonx7Kh"
      },
      "source": [
        "cf_matrix2 = confusion_matrix(Y_test, preds2)\n",
        "print(cf_matrix2)"
      ],
      "execution_count": 320,
      "outputs": [
        {
          "output_type": "stream",
          "name": "stdout",
          "text": [
            "[[19 12]\n",
            " [ 7 13]]\n"
          ]
        }
      ]
    },
    {
      "cell_type": "code",
      "source": [
        "MCC(Y_test, preds2)"
      ],
      "metadata": {
        "colab": {
          "base_uri": "https://localhost:8080/"
        },
        "outputId": "d2aedd71-33bf-4bca-9fcf-eed310fc5c83",
        "id": "B7ku8BpLx7Ki"
      },
      "execution_count": 321,
      "outputs": [
        {
          "output_type": "execute_result",
          "data": {
            "text/plain": [
              "0.2567645608378097"
            ]
          },
          "metadata": {},
          "execution_count": 321
        }
      ]
    },
    {
      "cell_type": "code",
      "source": [
        "recall(Y_test, preds2)"
      ],
      "metadata": {
        "colab": {
          "base_uri": "https://localhost:8080/"
        },
        "outputId": "61f87ec3-2166-41e5-f128-2f72b57082e6",
        "id": "0-gUEv9Kx7Kj"
      },
      "execution_count": 322,
      "outputs": [
        {
          "output_type": "execute_result",
          "data": {
            "text/plain": [
              "0.65"
            ]
          },
          "metadata": {},
          "execution_count": 322
        }
      ]
    },
    {
      "cell_type": "code",
      "source": [
        "sensibilite(Y_test, preds2)"
      ],
      "metadata": {
        "colab": {
          "base_uri": "https://localhost:8080/"
        },
        "outputId": "293d6838-61b0-4185-cf4c-54c44b2a67ed",
        "id": "_Hm4Xdv3x7Kk"
      },
      "execution_count": 323,
      "outputs": [
        {
          "output_type": "execute_result",
          "data": {
            "text/plain": [
              "0.65"
            ]
          },
          "metadata": {},
          "execution_count": 323
        }
      ]
    },
    {
      "cell_type": "code",
      "source": [
        "specifite(Y_test, preds2)"
      ],
      "metadata": {
        "colab": {
          "base_uri": "https://localhost:8080/"
        },
        "outputId": "384d84a0-b809-4908-e636-0c01d84ad61d",
        "id": "rS3voaC9x7Kk"
      },
      "execution_count": 324,
      "outputs": [
        {
          "output_type": "execute_result",
          "data": {
            "text/plain": [
              "0.6129032258064516"
            ]
          },
          "metadata": {},
          "execution_count": 324
        }
      ]
    },
    {
      "cell_type": "code",
      "source": [
        "présicion_négative(Y_test, preds2)"
      ],
      "metadata": {
        "colab": {
          "base_uri": "https://localhost:8080/"
        },
        "outputId": "5673fe07-236f-4e82-8b52-c82e287ae093",
        "id": "aqcCGISAx7Kl"
      },
      "execution_count": 325,
      "outputs": [
        {
          "output_type": "execute_result",
          "data": {
            "text/plain": [
              "0.7307692307692307"
            ]
          },
          "metadata": {},
          "execution_count": 325
        }
      ]
    },
    {
      "cell_type": "code",
      "source": [
        "présicion_positive(Y_test, preds2)"
      ],
      "metadata": {
        "colab": {
          "base_uri": "https://localhost:8080/"
        },
        "outputId": "7fc7b01a-2697-4426-90d8-74efbc5c8116",
        "id": "7pbTegOYx7Km"
      },
      "execution_count": 326,
      "outputs": [
        {
          "output_type": "execute_result",
          "data": {
            "text/plain": [
              "0.52"
            ]
          },
          "metadata": {},
          "execution_count": 326
        }
      ]
    },
    {
      "cell_type": "code",
      "source": [
        "balancedacc(Y_test, preds2)"
      ],
      "metadata": {
        "colab": {
          "base_uri": "https://localhost:8080/"
        },
        "outputId": "9ef529b7-f628-4b01-e6d9-9ed19914e043",
        "id": "2svuWaynx7Kn"
      },
      "execution_count": 327,
      "outputs": [
        {
          "output_type": "execute_result",
          "data": {
            "text/plain": [
              "0.6253846153846154"
            ]
          },
          "metadata": {},
          "execution_count": 327
        }
      ]
    },
    {
      "cell_type": "code",
      "source": [
        "kappa(Y_test, preds2)"
      ],
      "metadata": {
        "colab": {
          "base_uri": "https://localhost:8080/"
        },
        "outputId": "3cfa80a5-c742-4ee1-db3a-52fa6d87c0a6",
        "id": "_fj8QvtYx7Kn"
      },
      "execution_count": 328,
      "outputs": [
        {
          "output_type": "execute_result",
          "data": {
            "text/plain": [
              "0.25173745173745166"
            ]
          },
          "metadata": {},
          "execution_count": 328
        }
      ]
    },
    {
      "cell_type": "code",
      "source": [
        "y_pred_proba = Classifier2.predict_proba(X_test)[::,1]\n",
        "fpr, tpr, _ = metrics.roc_curve(Y_test,  y_pred_proba)\n",
        "auc = metrics.roc_auc_score(Y_test, y_pred_proba)\n",
        "plt.plot(fpr,tpr,label=\"xgboost, auc=\"+str(auc))\n",
        "plt.legend(loc=4)\n",
        "plt.show()"
      ],
      "metadata": {
        "colab": {
          "base_uri": "https://localhost:8080/",
          "height": 265
        },
        "outputId": "1e873232-df66-4aee-b756-156d09488512",
        "id": "m_3yw9xWx7Ko"
      },
      "execution_count": 329,
      "outputs": [
        {
          "output_type": "display_data",
          "data": {
            "image/png": "[encoded data removed]",
            "text/plain": [
              "<Figure size 432x288 with 1 Axes>"
            ]
          },
          "metadata": {
            "needs_background": "light"
          }
        }
      ]
    },
    {
      "cell_type": "code",
      "source": [
        ""
      ],
      "metadata": {
        "id": "Z7eCAhWttuIo"
      },
      "execution_count": null,
      "outputs": []
    }
  ]
}