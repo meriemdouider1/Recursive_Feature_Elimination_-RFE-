{
  "nbformat": 4,
  "nbformat_minor": 0,
  "metadata": {
    "colab": {
      "name": "Untitled79.ipynb",
      "provenance": [],
      "authorship_tag": "ABX9TyNMPu1N7oIGoKordTh8coWC",
      "include_colab_link": true
    },
    "kernelspec": {
      "name": "python3",
      "display_name": "Python 3"
    },
    "language_info": {
      "name": "python"
    }
  },
  "cells": [
    {
      "cell_type": "markdown",
      "metadata": {
        "id": "view-in-github",
        "colab_type": "text"
      },
      "source": [
        "<a href=\"https://colab.research.google.com/github/meriemdouider1/mois1-mois2/blob/main/groupes%20de%20variables/%20test%201%20.ipynb\" target=\"_parent\"><img src=\"https://colab.research.google.com/assets/colab-badge.svg\" alt=\"Open In Colab\"/></a>"
      ]
    },
    {
      "cell_type": "code",
      "metadata": {
        "id": "RlmUgAkuFdId"
      },
      "source": [
        "import sklearn\n",
        "import pandas as pd\n",
        "import numpy as np\n",
        "import matplotlib.pyplot as plt\n",
        "import seaborn as sns\n",
        "from sklearn.model_selection import train_test_split\n",
        "from sklearn.ensemble import RandomForestRegressor, RandomForestClassifier\n",
        "from sklearn.metrics import roc_auc_score, r2_score\n",
        "import sklearn\n",
        "import pandas as pd\n",
        "import numpy as np\n",
        "import matplotlib.pyplot as plt\n",
        "import seaborn as sns\n",
        "from sklearn.naive_bayes import GaussianNB\n",
        "from sklearn.ensemble import BaggingClassifier\n",
        "from sklearn.tree import DecisionTreeClassifier\n",
        "from xgboost import XGBClassifier\n",
        "from sklearn.metrics import accuracy_score\n",
        "from sklearn.metrics import precision_score\n",
        "from sklearn.metrics import recall_score\n",
        "from sklearn.metrics import f1_score\n",
        "from sklearn.metrics import confusion_matrix\n",
        "import numpy\n",
        "import sklearn.metrics as metrics\n",
        "from sklearn.ensemble import RandomForestClassifier\n",
        "from sklearn.neighbors import KNeighborsClassifier\n",
        "from sklearn import svm\n",
        "from sklearn.model_selection import StratifiedKFold\n",
        "from sklearn.model_selection import cross_val_score\n",
        "from sklearn.model_selection import LeaveOneOut\n",
        "from numpy import mean\n",
        "from numpy import std\n",
        "from sklearn.datasets import make_classification\n",
        "from sklearn.model_selection import KFold\n",
        "from sklearn.model_selection import cross_val_score\n",
        "from sklearn.linear_model import LogisticRegression\n",
        "from sklearn.metrics import make_scorer\n",
        "import matplotlib.pyplot as plt\n",
        "from sklearn.model_selection import LeaveOneOut\n",
        "from sklearn.datasets import make_classification\n",
        "from sklearn.ensemble import RandomForestClassifier\n",
        "from sklearn import datasets, metrics, model_selection, svm\n",
        "import numpy as np\n",
        "from sklearn import svm, datasets\n",
        "from sklearn.metrics import auc\n",
        "from sklearn.metrics import plot_roc_curve\n",
        "from sklearn.model_selection import StratifiedKFold\n",
        "from sklearn.datasets import make_classification\n",
        "from sklearn.ensemble import RandomForestClassifier\n",
        "from sklearn import datasets, metrics, model_selection, svm\n",
        "from sklearn.metrics import matthews_corrcoef\n",
        "from sklearn.svm import SVC\n",
        "from sklearn.metrics import cohen_kappa_score\n",
        "from sklearn.ensemble import GradientBoostingClassifier\n",
        "from sklearn.feature_selection import RFE\n",
        "from sklearn.pipeline import Pipeline\n",
        "from matplotlib import pyplot\n",
        "from sklearn.metrics import recall_score\n"
      ],
      "execution_count": 1,
      "outputs": []
    },
    {
      "cell_type": "code",
      "metadata": {
        "id": "eZpW8fsXFrh3"
      },
      "source": [
        "Cl = '/content/Axe_App.xlsx' \n",
        "apprentissage= pd.read_excel(Cl, sheet_name=0,header=0,index_col=False, keep_default_na=True)"
      ],
      "execution_count": 2,
      "outputs": []
    },
    {
      "cell_type": "code",
      "source": [
        "apprentissage"
      ],
      "metadata": {
        "colab": {
          "base_uri": "https://localhost:8080/",
          "height": 487
        },
        "id": "vLoByxZ1jqnm",
        "outputId": "5ebd4262-11ab-4fde-b752-93520e966eeb"
      },
      "execution_count": 3,
      "outputs": [
        {
          "output_type": "execute_result",
          "data": {
            "text/html": [
              "\n",
              "  <div id=\"df-6265fe00-a16f-4082-bd9f-4d9a8db67454\">\n",
              "    <div class=\"colab-df-container\">\n",
              "      <div>\n",
              "<style scoped>\n",
              "    .dataframe tbody tr th:only-of-type {\n",
              "        vertical-align: middle;\n",
              "    }\n",
              "\n",
              "    .dataframe tbody tr th {\n",
              "        vertical-align: top;\n",
              "    }\n",
              "\n",
              "    .dataframe thead th {\n",
              "        text-align: right;\n",
              "    }\n",
              "</style>\n",
              "<table border=\"1\" class=\"dataframe\">\n",
              "  <thead>\n",
              "    <tr style=\"text-align: right;\">\n",
              "      <th></th>\n",
              "      <th>axe_Distribution_des_animaux</th>\n",
              "      <th>axe_indices_de_vegetation</th>\n",
              "      <th>axe_IRM</th>\n",
              "      <th>axe_Occupation_du_Sol</th>\n",
              "      <th>axe_Precipitation</th>\n",
              "      <th>axe_Rad</th>\n",
              "      <th>axe_sol</th>\n",
              "      <th>axe_Temperature</th>\n",
              "      <th>axe_Topographique</th>\n",
              "      <th>axe_vap</th>\n",
              "      <th>axe_vent</th>\n",
              "      <th>Cs_longia</th>\n",
              "    </tr>\n",
              "  </thead>\n",
              "  <tbody>\n",
              "    <tr>\n",
              "      <th>0</th>\n",
              "      <td>-2.321794</td>\n",
              "      <td>5.899955</td>\n",
              "      <td>0.150247</td>\n",
              "      <td>0.724789</td>\n",
              "      <td>0.401111</td>\n",
              "      <td>-206.693527</td>\n",
              "      <td>2.161217</td>\n",
              "      <td>0.017691</td>\n",
              "      <td>-0.000714</td>\n",
              "      <td>-0.034906</td>\n",
              "      <td>-0.388808</td>\n",
              "      <td>1</td>\n",
              "    </tr>\n",
              "    <tr>\n",
              "      <th>1</th>\n",
              "      <td>-2.867319</td>\n",
              "      <td>5.196421</td>\n",
              "      <td>-1.296295</td>\n",
              "      <td>0.651971</td>\n",
              "      <td>0.383420</td>\n",
              "      <td>-96.371429</td>\n",
              "      <td>1.860189</td>\n",
              "      <td>0.026570</td>\n",
              "      <td>-0.000167</td>\n",
              "      <td>0.003787</td>\n",
              "      <td>-0.257363</td>\n",
              "      <td>1</td>\n",
              "    </tr>\n",
              "    <tr>\n",
              "      <th>2</th>\n",
              "      <td>-2.867319</td>\n",
              "      <td>5.196421</td>\n",
              "      <td>-1.296295</td>\n",
              "      <td>0.651971</td>\n",
              "      <td>0.383420</td>\n",
              "      <td>-96.371429</td>\n",
              "      <td>1.860189</td>\n",
              "      <td>0.026570</td>\n",
              "      <td>-0.000167</td>\n",
              "      <td>0.003787</td>\n",
              "      <td>-0.257363</td>\n",
              "      <td>1</td>\n",
              "    </tr>\n",
              "    <tr>\n",
              "      <th>3</th>\n",
              "      <td>-2.547017</td>\n",
              "      <td>5.440320</td>\n",
              "      <td>1.837637</td>\n",
              "      <td>0.651971</td>\n",
              "      <td>0.426090</td>\n",
              "      <td>-99.787354</td>\n",
              "      <td>0.857919</td>\n",
              "      <td>-0.030156</td>\n",
              "      <td>-0.000411</td>\n",
              "      <td>0.005402</td>\n",
              "      <td>-0.254525</td>\n",
              "      <td>0</td>\n",
              "    </tr>\n",
              "    <tr>\n",
              "      <th>4</th>\n",
              "      <td>-2.620316</td>\n",
              "      <td>-4.604058</td>\n",
              "      <td>2.152867</td>\n",
              "      <td>0.472991</td>\n",
              "      <td>0.444080</td>\n",
              "      <td>-108.942622</td>\n",
              "      <td>3.265398</td>\n",
              "      <td>-0.053430</td>\n",
              "      <td>-0.000064</td>\n",
              "      <td>0.001216</td>\n",
              "      <td>-0.138054</td>\n",
              "      <td>0</td>\n",
              "    </tr>\n",
              "    <tr>\n",
              "      <th>...</th>\n",
              "      <td>...</td>\n",
              "      <td>...</td>\n",
              "      <td>...</td>\n",
              "      <td>...</td>\n",
              "      <td>...</td>\n",
              "      <td>...</td>\n",
              "      <td>...</td>\n",
              "      <td>...</td>\n",
              "      <td>...</td>\n",
              "      <td>...</td>\n",
              "      <td>...</td>\n",
              "      <td>...</td>\n",
              "    </tr>\n",
              "    <tr>\n",
              "      <th>198</th>\n",
              "      <td>-4.559007</td>\n",
              "      <td>-3.692556</td>\n",
              "      <td>0.065121</td>\n",
              "      <td>0.322407</td>\n",
              "      <td>0.257797</td>\n",
              "      <td>39.053289</td>\n",
              "      <td>1.430412</td>\n",
              "      <td>0.083341</td>\n",
              "      <td>-0.000780</td>\n",
              "      <td>-0.005571</td>\n",
              "      <td>-0.297145</td>\n",
              "      <td>1</td>\n",
              "    </tr>\n",
              "    <tr>\n",
              "      <th>199</th>\n",
              "      <td>-1.311407</td>\n",
              "      <td>-0.011768</td>\n",
              "      <td>-1.150864</td>\n",
              "      <td>-0.036415</td>\n",
              "      <td>0.044145</td>\n",
              "      <td>-23.278399</td>\n",
              "      <td>1.643435</td>\n",
              "      <td>0.046807</td>\n",
              "      <td>0.000064</td>\n",
              "      <td>0.004136</td>\n",
              "      <td>-0.168777</td>\n",
              "      <td>1</td>\n",
              "    </tr>\n",
              "    <tr>\n",
              "      <th>200</th>\n",
              "      <td>-3.766470</td>\n",
              "      <td>1.534883</td>\n",
              "      <td>-2.264725</td>\n",
              "      <td>-0.219881</td>\n",
              "      <td>0.229938</td>\n",
              "      <td>102.891674</td>\n",
              "      <td>2.755469</td>\n",
              "      <td>0.039194</td>\n",
              "      <td>-0.000110</td>\n",
              "      <td>-0.000774</td>\n",
              "      <td>-0.274955</td>\n",
              "      <td>1</td>\n",
              "    </tr>\n",
              "    <tr>\n",
              "      <th>201</th>\n",
              "      <td>-3.641378</td>\n",
              "      <td>0.725889</td>\n",
              "      <td>0.454767</td>\n",
              "      <td>-0.296282</td>\n",
              "      <td>-0.321261</td>\n",
              "      <td>5.203596</td>\n",
              "      <td>0.659265</td>\n",
              "      <td>-0.036637</td>\n",
              "      <td>0.000210</td>\n",
              "      <td>-0.003457</td>\n",
              "      <td>-0.029365</td>\n",
              "      <td>1</td>\n",
              "    </tr>\n",
              "    <tr>\n",
              "      <th>202</th>\n",
              "      <td>-3.170156</td>\n",
              "      <td>9.884708</td>\n",
              "      <td>-0.514727</td>\n",
              "      <td>0.699962</td>\n",
              "      <td>-0.144510</td>\n",
              "      <td>12.627139</td>\n",
              "      <td>2.096776</td>\n",
              "      <td>0.055092</td>\n",
              "      <td>-0.000379</td>\n",
              "      <td>-0.000377</td>\n",
              "      <td>-0.149439</td>\n",
              "      <td>1</td>\n",
              "    </tr>\n",
              "  </tbody>\n",
              "</table>\n",
              "<p>203 rows × 12 columns</p>\n",
              "</div>\n",
              "      <button class=\"colab-df-convert\" onclick=\"convertToInteractive('df-6265fe00-a16f-4082-bd9f-4d9a8db67454')\"\n",
              "              title=\"Convert this dataframe to an interactive table.\"\n",
              "              style=\"display:none;\">\n",
              "        \n",
              "  <svg xmlns=\"http://www.w3.org/2000/svg\" height=\"24px\"viewBox=\"0 0 24 24\"\n",
              "       width=\"24px\">\n",
              "    <path d=\"M0 0h24v24H0V0z\" fill=\"none\"/>\n",
              "    <path d=\"M18.56 5.44l.94 2.06.94-2.06 2.06-.94-2.06-.94-.94-2.06-.94 2.06-2.06.94zm-11 1L8.5 8.5l.94-2.06 2.06-.94-2.06-.94L8.5 2.5l-.94 2.06-2.06.94zm10 10l.94 2.06.94-2.06 2.06-.94-2.06-.94-.94-2.06-.94 2.06-2.06.94z\"/><path d=\"M17.41 7.96l-1.37-1.37c-.4-.4-.92-.59-1.43-.59-.52 0-1.04.2-1.43.59L10.3 9.45l-7.72 7.72c-.78.78-.78 2.05 0 2.83L4 21.41c.39.39.9.59 1.41.59.51 0 1.02-.2 1.41-.59l7.78-7.78 2.81-2.81c.8-.78.8-2.07 0-2.86zM5.41 20L4 18.59l7.72-7.72 1.47 1.35L5.41 20z\"/>\n",
              "  </svg>\n",
              "      </button>\n",
              "      \n",
              "  <style>\n",
              "    .colab-df-container {\n",
              "      display:flex;\n",
              "      flex-wrap:wrap;\n",
              "      gap: 12px;\n",
              "    }\n",
              "\n",
              "    .colab-df-convert {\n",
              "      background-color: #E8F0FE;\n",
              "      border: none;\n",
              "      border-radius: 50%;\n",
              "      cursor: pointer;\n",
              "      display: none;\n",
              "      fill: #1967D2;\n",
              "      height: 32px;\n",
              "      padding: 0 0 0 0;\n",
              "      width: 32px;\n",
              "    }\n",
              "\n",
              "    .colab-df-convert:hover {\n",
              "      background-color: #E2EBFA;\n",
              "      box-shadow: 0px 1px 2px rgba(60, 64, 67, 0.3), 0px 1px 3px 1px rgba(60, 64, 67, 0.15);\n",
              "      fill: #174EA6;\n",
              "    }\n",
              "\n",
              "    [theme=dark] .colab-df-convert {\n",
              "      background-color: #3B4455;\n",
              "      fill: #D2E3FC;\n",
              "    }\n",
              "\n",
              "    [theme=dark] .colab-df-convert:hover {\n",
              "      background-color: #434B5C;\n",
              "      box-shadow: 0px 1px 3px 1px rgba(0, 0, 0, 0.15);\n",
              "      filter: drop-shadow(0px 1px 2px rgba(0, 0, 0, 0.3));\n",
              "      fill: #FFFFFF;\n",
              "    }\n",
              "  </style>\n",
              "\n",
              "      <script>\n",
              "        const buttonEl =\n",
              "          document.querySelector('#df-6265fe00-a16f-4082-bd9f-4d9a8db67454 button.colab-df-convert');\n",
              "        buttonEl.style.display =\n",
              "          google.colab.kernel.accessAllowed ? 'block' : 'none';\n",
              "\n",
              "        async function convertToInteractive(key) {\n",
              "          const element = document.querySelector('#df-6265fe00-a16f-4082-bd9f-4d9a8db67454');\n",
              "          const dataTable =\n",
              "            await google.colab.kernel.invokeFunction('convertToInteractive',\n",
              "                                                     [key], {});\n",
              "          if (!dataTable) return;\n",
              "\n",
              "          const docLinkHtml = 'Like what you see? Visit the ' +\n",
              "            '<a target=\"_blank\" href=https://colab.research.google.com/notebooks/data_table.ipynb>data table notebook</a>'\n",
              "            + ' to learn more about interactive tables.';\n",
              "          element.innerHTML = '';\n",
              "          dataTable['output_type'] = 'display_data';\n",
              "          await google.colab.output.renderOutput(dataTable, element);\n",
              "          const docLink = document.createElement('div');\n",
              "          docLink.innerHTML = docLinkHtml;\n",
              "          element.appendChild(docLink);\n",
              "        }\n",
              "      </script>\n",
              "    </div>\n",
              "  </div>\n",
              "  "
            ],
            "text/plain": [
              "     axe_Distribution_des_animaux  ...  Cs_longia\n",
              "0                       -2.321794  ...          1\n",
              "1                       -2.867319  ...          1\n",
              "2                       -2.867319  ...          1\n",
              "3                       -2.547017  ...          0\n",
              "4                       -2.620316  ...          0\n",
              "..                            ...  ...        ...\n",
              "198                     -4.559007  ...          1\n",
              "199                     -1.311407  ...          1\n",
              "200                     -3.766470  ...          1\n",
              "201                     -3.641378  ...          1\n",
              "202                     -3.170156  ...          1\n",
              "\n",
              "[203 rows x 12 columns]"
            ]
          },
          "metadata": {},
          "execution_count": 3
        }
      ]
    },
    {
      "cell_type": "code",
      "metadata": {
        "id": "sp6M2-Shj8tx"
      },
      "source": [
        "Cl2 = '/content/Axe_Test.xlsx' \n",
        "test= pd.read_excel(Cl2, sheet_name=0,header=0,index_col=False, keep_default_na=True)"
      ],
      "execution_count": 4,
      "outputs": []
    },
    {
      "cell_type": "code",
      "source": [
        "test"
      ],
      "metadata": {
        "colab": {
          "base_uri": "https://localhost:8080/",
          "height": 1000
        },
        "outputId": "f5772670-490a-430e-f2bf-447d231b76a5",
        "id": "wzKdYPPMj8ty"
      },
      "execution_count": 5,
      "outputs": [
        {
          "output_type": "execute_result",
          "data": {
            "text/html": [
              "\n",
              "  <div id=\"df-5373b752-e2e4-4d3b-9824-618de01e64d4\">\n",
              "    <div class=\"colab-df-container\">\n",
              "      <div>\n",
              "<style scoped>\n",
              "    .dataframe tbody tr th:only-of-type {\n",
              "        vertical-align: middle;\n",
              "    }\n",
              "\n",
              "    .dataframe tbody tr th {\n",
              "        vertical-align: top;\n",
              "    }\n",
              "\n",
              "    .dataframe thead th {\n",
              "        text-align: right;\n",
              "    }\n",
              "</style>\n",
              "<table border=\"1\" class=\"dataframe\">\n",
              "  <thead>\n",
              "    <tr style=\"text-align: right;\">\n",
              "      <th></th>\n",
              "      <th>axe_Distribution_des_animaux</th>\n",
              "      <th>axe_indices_de_vegetation</th>\n",
              "      <th>axe_IRM</th>\n",
              "      <th>axe_Occupation_du_Sol</th>\n",
              "      <th>axe_Precipitation</th>\n",
              "      <th>axe_Rad</th>\n",
              "      <th>axe_sol</th>\n",
              "      <th>axe_Temperature</th>\n",
              "      <th>axe_Topographique</th>\n",
              "      <th>axe_vap</th>\n",
              "      <th>axe_vent</th>\n",
              "      <th>Cs_longia</th>\n",
              "    </tr>\n",
              "  </thead>\n",
              "  <tbody>\n",
              "    <tr>\n",
              "      <th>0</th>\n",
              "      <td>-2.647724</td>\n",
              "      <td>-0.262195</td>\n",
              "      <td>1.244304</td>\n",
              "      <td>0.651971</td>\n",
              "      <td>0.731714</td>\n",
              "      <td>-124.540514</td>\n",
              "      <td>2.822586</td>\n",
              "      <td>-0.182604</td>\n",
              "      <td>-0.000045</td>\n",
              "      <td>0.002403</td>\n",
              "      <td>-0.190374</td>\n",
              "      <td>0</td>\n",
              "    </tr>\n",
              "    <tr>\n",
              "      <th>1</th>\n",
              "      <td>-2.600074</td>\n",
              "      <td>1.037366</td>\n",
              "      <td>1.204043</td>\n",
              "      <td>0.369733</td>\n",
              "      <td>0.417888</td>\n",
              "      <td>-135.917255</td>\n",
              "      <td>1.453176</td>\n",
              "      <td>0.000632</td>\n",
              "      <td>-0.000163</td>\n",
              "      <td>0.003688</td>\n",
              "      <td>-0.075983</td>\n",
              "      <td>1</td>\n",
              "    </tr>\n",
              "    <tr>\n",
              "      <th>2</th>\n",
              "      <td>-2.600074</td>\n",
              "      <td>1.037366</td>\n",
              "      <td>1.204043</td>\n",
              "      <td>0.369733</td>\n",
              "      <td>0.417888</td>\n",
              "      <td>-135.917255</td>\n",
              "      <td>1.453176</td>\n",
              "      <td>0.000632</td>\n",
              "      <td>-0.000163</td>\n",
              "      <td>0.003688</td>\n",
              "      <td>-0.075983</td>\n",
              "      <td>1</td>\n",
              "    </tr>\n",
              "    <tr>\n",
              "      <th>3</th>\n",
              "      <td>-2.827135</td>\n",
              "      <td>4.058937</td>\n",
              "      <td>-2.522697</td>\n",
              "      <td>0.370334</td>\n",
              "      <td>-1.109566</td>\n",
              "      <td>-51.080330</td>\n",
              "      <td>1.033547</td>\n",
              "      <td>0.048900</td>\n",
              "      <td>-0.000362</td>\n",
              "      <td>0.024104</td>\n",
              "      <td>-0.305661</td>\n",
              "      <td>1</td>\n",
              "    </tr>\n",
              "    <tr>\n",
              "      <th>4</th>\n",
              "      <td>-2.379458</td>\n",
              "      <td>-1.306321</td>\n",
              "      <td>0.354219</td>\n",
              "      <td>-0.118170</td>\n",
              "      <td>-0.281966</td>\n",
              "      <td>27.926214</td>\n",
              "      <td>-1.019538</td>\n",
              "      <td>-0.003721</td>\n",
              "      <td>0.000169</td>\n",
              "      <td>-0.000768</td>\n",
              "      <td>-0.009398</td>\n",
              "      <td>0</td>\n",
              "    </tr>\n",
              "    <tr>\n",
              "      <th>5</th>\n",
              "      <td>-2.379458</td>\n",
              "      <td>-1.306321</td>\n",
              "      <td>0.354219</td>\n",
              "      <td>-0.118170</td>\n",
              "      <td>-0.281966</td>\n",
              "      <td>27.926214</td>\n",
              "      <td>-0.510742</td>\n",
              "      <td>-0.003721</td>\n",
              "      <td>0.000170</td>\n",
              "      <td>-0.000768</td>\n",
              "      <td>-0.009398</td>\n",
              "      <td>0</td>\n",
              "    </tr>\n",
              "    <tr>\n",
              "      <th>6</th>\n",
              "      <td>-2.526384</td>\n",
              "      <td>-4.374862</td>\n",
              "      <td>1.141346</td>\n",
              "      <td>-0.036415</td>\n",
              "      <td>-0.282783</td>\n",
              "      <td>86.230779</td>\n",
              "      <td>0.154979</td>\n",
              "      <td>-0.051543</td>\n",
              "      <td>0.000279</td>\n",
              "      <td>0.003605</td>\n",
              "      <td>0.001238</td>\n",
              "      <td>0</td>\n",
              "    </tr>\n",
              "    <tr>\n",
              "      <th>7</th>\n",
              "      <td>-2.444617</td>\n",
              "      <td>0.272314</td>\n",
              "      <td>-0.646694</td>\n",
              "      <td>-0.199856</td>\n",
              "      <td>-0.277023</td>\n",
              "      <td>53.370259</td>\n",
              "      <td>-0.515781</td>\n",
              "      <td>-0.022922</td>\n",
              "      <td>0.000250</td>\n",
              "      <td>0.007066</td>\n",
              "      <td>0.007151</td>\n",
              "      <td>0</td>\n",
              "    </tr>\n",
              "    <tr>\n",
              "      <th>8</th>\n",
              "      <td>-3.824134</td>\n",
              "      <td>-3.489503</td>\n",
              "      <td>1.421861</td>\n",
              "      <td>-0.759769</td>\n",
              "      <td>0.609257</td>\n",
              "      <td>49.847845</td>\n",
              "      <td>-0.733478</td>\n",
              "      <td>-0.061430</td>\n",
              "      <td>0.000247</td>\n",
              "      <td>-0.003505</td>\n",
              "      <td>0.172419</td>\n",
              "      <td>1</td>\n",
              "    </tr>\n",
              "    <tr>\n",
              "      <th>9</th>\n",
              "      <td>-0.781471</td>\n",
              "      <td>-3.375298</td>\n",
              "      <td>-0.096036</td>\n",
              "      <td>-0.091033</td>\n",
              "      <td>0.645177</td>\n",
              "      <td>62.467914</td>\n",
              "      <td>-0.821854</td>\n",
              "      <td>-0.039834</td>\n",
              "      <td>0.000157</td>\n",
              "      <td>-0.003658</td>\n",
              "      <td>0.024988</td>\n",
              "      <td>0</td>\n",
              "    </tr>\n",
              "    <tr>\n",
              "      <th>10</th>\n",
              "      <td>-3.098300</td>\n",
              "      <td>-0.745302</td>\n",
              "      <td>-0.030259</td>\n",
              "      <td>-0.681831</td>\n",
              "      <td>-0.225907</td>\n",
              "      <td>-111.345146</td>\n",
              "      <td>1.319013</td>\n",
              "      <td>0.013794</td>\n",
              "      <td>-0.000144</td>\n",
              "      <td>0.013015</td>\n",
              "      <td>-0.396208</td>\n",
              "      <td>0</td>\n",
              "    </tr>\n",
              "    <tr>\n",
              "      <th>11</th>\n",
              "      <td>-1.749523</td>\n",
              "      <td>1.564732</td>\n",
              "      <td>-0.804141</td>\n",
              "      <td>0.631832</td>\n",
              "      <td>-0.335287</td>\n",
              "      <td>-136.704298</td>\n",
              "      <td>1.416765</td>\n",
              "      <td>0.032457</td>\n",
              "      <td>-0.000890</td>\n",
              "      <td>0.006932</td>\n",
              "      <td>-0.332457</td>\n",
              "      <td>1</td>\n",
              "    </tr>\n",
              "    <tr>\n",
              "      <th>12</th>\n",
              "      <td>-2.465885</td>\n",
              "      <td>3.722810</td>\n",
              "      <td>-0.554885</td>\n",
              "      <td>0.185844</td>\n",
              "      <td>-0.008093</td>\n",
              "      <td>-4.592342</td>\n",
              "      <td>1.428297</td>\n",
              "      <td>0.036505</td>\n",
              "      <td>-0.002696</td>\n",
              "      <td>0.008452</td>\n",
              "      <td>0.176059</td>\n",
              "      <td>0</td>\n",
              "    </tr>\n",
              "    <tr>\n",
              "      <th>13</th>\n",
              "      <td>2.951375</td>\n",
              "      <td>-0.856890</td>\n",
              "      <td>-0.881847</td>\n",
              "      <td>-2.283244</td>\n",
              "      <td>0.149542</td>\n",
              "      <td>-26.788362</td>\n",
              "      <td>-1.038944</td>\n",
              "      <td>-0.004295</td>\n",
              "      <td>0.000067</td>\n",
              "      <td>-0.009687</td>\n",
              "      <td>0.209824</td>\n",
              "      <td>1</td>\n",
              "    </tr>\n",
              "    <tr>\n",
              "      <th>14</th>\n",
              "      <td>5.265723</td>\n",
              "      <td>2.507574</td>\n",
              "      <td>0.306923</td>\n",
              "      <td>-0.071846</td>\n",
              "      <td>-0.052953</td>\n",
              "      <td>-35.735566</td>\n",
              "      <td>0.358672</td>\n",
              "      <td>0.015669</td>\n",
              "      <td>-0.001152</td>\n",
              "      <td>-0.010477</td>\n",
              "      <td>0.168731</td>\n",
              "      <td>0</td>\n",
              "    </tr>\n",
              "    <tr>\n",
              "      <th>15</th>\n",
              "      <td>3.149862</td>\n",
              "      <td>-4.375075</td>\n",
              "      <td>2.148869</td>\n",
              "      <td>-0.779638</td>\n",
              "      <td>-0.097301</td>\n",
              "      <td>136.223264</td>\n",
              "      <td>-0.506321</td>\n",
              "      <td>-0.063205</td>\n",
              "      <td>0.000706</td>\n",
              "      <td>-0.006801</td>\n",
              "      <td>-0.006565</td>\n",
              "      <td>0</td>\n",
              "    </tr>\n",
              "    <tr>\n",
              "      <th>16</th>\n",
              "      <td>17.743217</td>\n",
              "      <td>-3.215148</td>\n",
              "      <td>2.289648</td>\n",
              "      <td>-0.779638</td>\n",
              "      <td>-0.196128</td>\n",
              "      <td>91.839060</td>\n",
              "      <td>-1.103656</td>\n",
              "      <td>-0.016547</td>\n",
              "      <td>0.000374</td>\n",
              "      <td>-0.002421</td>\n",
              "      <td>0.077840</td>\n",
              "      <td>0</td>\n",
              "    </tr>\n",
              "    <tr>\n",
              "      <th>17</th>\n",
              "      <td>16.727813</td>\n",
              "      <td>-7.657503</td>\n",
              "      <td>4.038852</td>\n",
              "      <td>-0.683019</td>\n",
              "      <td>-0.203811</td>\n",
              "      <td>50.032377</td>\n",
              "      <td>-0.688640</td>\n",
              "      <td>-0.020841</td>\n",
              "      <td>0.000313</td>\n",
              "      <td>-0.002326</td>\n",
              "      <td>0.010095</td>\n",
              "      <td>0</td>\n",
              "    </tr>\n",
              "    <tr>\n",
              "      <th>18</th>\n",
              "      <td>-1.101351</td>\n",
              "      <td>-1.905202</td>\n",
              "      <td>2.052955</td>\n",
              "      <td>0.057054</td>\n",
              "      <td>0.518327</td>\n",
              "      <td>157.364759</td>\n",
              "      <td>-1.090374</td>\n",
              "      <td>-0.033420</td>\n",
              "      <td>-0.000084</td>\n",
              "      <td>-0.003066</td>\n",
              "      <td>0.262788</td>\n",
              "      <td>0</td>\n",
              "    </tr>\n",
              "    <tr>\n",
              "      <th>19</th>\n",
              "      <td>6.574780</td>\n",
              "      <td>-3.009222</td>\n",
              "      <td>1.699826</td>\n",
              "      <td>1.525229</td>\n",
              "      <td>-0.132116</td>\n",
              "      <td>57.678729</td>\n",
              "      <td>0.527389</td>\n",
              "      <td>-0.036191</td>\n",
              "      <td>-0.000119</td>\n",
              "      <td>-0.007807</td>\n",
              "      <td>-0.010256</td>\n",
              "      <td>0</td>\n",
              "    </tr>\n",
              "    <tr>\n",
              "      <th>20</th>\n",
              "      <td>10.135452</td>\n",
              "      <td>-0.458071</td>\n",
              "      <td>1.746799</td>\n",
              "      <td>-0.779638</td>\n",
              "      <td>-0.035077</td>\n",
              "      <td>174.569493</td>\n",
              "      <td>-1.155224</td>\n",
              "      <td>-0.042416</td>\n",
              "      <td>-0.000532</td>\n",
              "      <td>-0.005117</td>\n",
              "      <td>-0.008849</td>\n",
              "      <td>0</td>\n",
              "    </tr>\n",
              "    <tr>\n",
              "      <th>21</th>\n",
              "      <td>3.969502</td>\n",
              "      <td>-3.854095</td>\n",
              "      <td>2.456379</td>\n",
              "      <td>-0.779638</td>\n",
              "      <td>0.119388</td>\n",
              "      <td>101.837966</td>\n",
              "      <td>-0.516492</td>\n",
              "      <td>-0.074867</td>\n",
              "      <td>0.000418</td>\n",
              "      <td>-0.003425</td>\n",
              "      <td>-0.111147</td>\n",
              "      <td>0</td>\n",
              "    </tr>\n",
              "    <tr>\n",
              "      <th>22</th>\n",
              "      <td>4.066407</td>\n",
              "      <td>-4.619407</td>\n",
              "      <td>0.644238</td>\n",
              "      <td>-0.355742</td>\n",
              "      <td>0.680125</td>\n",
              "      <td>251.565824</td>\n",
              "      <td>-0.725585</td>\n",
              "      <td>-0.109333</td>\n",
              "      <td>0.000365</td>\n",
              "      <td>-0.015132</td>\n",
              "      <td>-0.071061</td>\n",
              "      <td>0</td>\n",
              "    </tr>\n",
              "    <tr>\n",
              "      <th>23</th>\n",
              "      <td>10.101128</td>\n",
              "      <td>-1.818021</td>\n",
              "      <td>-0.447577</td>\n",
              "      <td>-0.302085</td>\n",
              "      <td>0.575704</td>\n",
              "      <td>61.408984</td>\n",
              "      <td>-1.120729</td>\n",
              "      <td>-0.008252</td>\n",
              "      <td>-0.000231</td>\n",
              "      <td>-0.012315</td>\n",
              "      <td>0.302346</td>\n",
              "      <td>0</td>\n",
              "    </tr>\n",
              "    <tr>\n",
              "      <th>24</th>\n",
              "      <td>8.414571</td>\n",
              "      <td>-10.373962</td>\n",
              "      <td>0.721969</td>\n",
              "      <td>-0.779638</td>\n",
              "      <td>-0.262077</td>\n",
              "      <td>-0.490714</td>\n",
              "      <td>-1.749538</td>\n",
              "      <td>0.008918</td>\n",
              "      <td>-0.000447</td>\n",
              "      <td>-0.007415</td>\n",
              "      <td>0.113183</td>\n",
              "      <td>0</td>\n",
              "    </tr>\n",
              "    <tr>\n",
              "      <th>25</th>\n",
              "      <td>7.345657</td>\n",
              "      <td>0.390868</td>\n",
              "      <td>2.232338</td>\n",
              "      <td>-0.029362</td>\n",
              "      <td>-0.176097</td>\n",
              "      <td>-36.070611</td>\n",
              "      <td>-0.083549</td>\n",
              "      <td>-0.015423</td>\n",
              "      <td>0.001056</td>\n",
              "      <td>-0.000702</td>\n",
              "      <td>0.206349</td>\n",
              "      <td>0</td>\n",
              "    </tr>\n",
              "    <tr>\n",
              "      <th>26</th>\n",
              "      <td>8.678994</td>\n",
              "      <td>-4.821432</td>\n",
              "      <td>6.070589</td>\n",
              "      <td>-1.154777</td>\n",
              "      <td>-0.436862</td>\n",
              "      <td>-100.546011</td>\n",
              "      <td>4.095260</td>\n",
              "      <td>0.049609</td>\n",
              "      <td>0.001039</td>\n",
              "      <td>0.000580</td>\n",
              "      <td>0.134912</td>\n",
              "      <td>0</td>\n",
              "    </tr>\n",
              "    <tr>\n",
              "      <th>27</th>\n",
              "      <td>0.872063</td>\n",
              "      <td>3.968376</td>\n",
              "      <td>0.041701</td>\n",
              "      <td>0.136329</td>\n",
              "      <td>0.807119</td>\n",
              "      <td>182.176070</td>\n",
              "      <td>2.222992</td>\n",
              "      <td>0.002567</td>\n",
              "      <td>-0.003111</td>\n",
              "      <td>-0.013330</td>\n",
              "      <td>-0.017956</td>\n",
              "      <td>0</td>\n",
              "    </tr>\n",
              "    <tr>\n",
              "      <th>28</th>\n",
              "      <td>4.681425</td>\n",
              "      <td>2.736349</td>\n",
              "      <td>-0.072327</td>\n",
              "      <td>-0.087781</td>\n",
              "      <td>0.715134</td>\n",
              "      <td>379.777328</td>\n",
              "      <td>-0.927702</td>\n",
              "      <td>-0.025243</td>\n",
              "      <td>0.001287</td>\n",
              "      <td>-0.024617</td>\n",
              "      <td>0.239043</td>\n",
              "      <td>0</td>\n",
              "    </tr>\n",
              "    <tr>\n",
              "      <th>29</th>\n",
              "      <td>-4.556856</td>\n",
              "      <td>-22.932135</td>\n",
              "      <td>2.399037</td>\n",
              "      <td>1.560389</td>\n",
              "      <td>-1.171279</td>\n",
              "      <td>-120.320898</td>\n",
              "      <td>2.759858</td>\n",
              "      <td>-0.088255</td>\n",
              "      <td>-0.001456</td>\n",
              "      <td>0.014453</td>\n",
              "      <td>0.220653</td>\n",
              "      <td>0</td>\n",
              "    </tr>\n",
              "    <tr>\n",
              "      <th>30</th>\n",
              "      <td>1.221216</td>\n",
              "      <td>-4.106020</td>\n",
              "      <td>2.727416</td>\n",
              "      <td>-0.779638</td>\n",
              "      <td>0.976784</td>\n",
              "      <td>63.369938</td>\n",
              "      <td>-1.608169</td>\n",
              "      <td>-0.059993</td>\n",
              "      <td>0.000355</td>\n",
              "      <td>-0.004411</td>\n",
              "      <td>0.336051</td>\n",
              "      <td>0</td>\n",
              "    </tr>\n",
              "    <tr>\n",
              "      <th>31</th>\n",
              "      <td>1.221216</td>\n",
              "      <td>-4.106020</td>\n",
              "      <td>2.727416</td>\n",
              "      <td>-0.779638</td>\n",
              "      <td>0.976784</td>\n",
              "      <td>63.369938</td>\n",
              "      <td>-1.608169</td>\n",
              "      <td>-0.059993</td>\n",
              "      <td>0.000355</td>\n",
              "      <td>-0.004411</td>\n",
              "      <td>0.336051</td>\n",
              "      <td>0</td>\n",
              "    </tr>\n",
              "    <tr>\n",
              "      <th>32</th>\n",
              "      <td>-2.368437</td>\n",
              "      <td>-7.165641</td>\n",
              "      <td>3.753146</td>\n",
              "      <td>0.155793</td>\n",
              "      <td>0.663417</td>\n",
              "      <td>-10.265948</td>\n",
              "      <td>3.012515</td>\n",
              "      <td>-0.033238</td>\n",
              "      <td>0.000116</td>\n",
              "      <td>-0.005919</td>\n",
              "      <td>-0.257810</td>\n",
              "      <td>0</td>\n",
              "    </tr>\n",
              "    <tr>\n",
              "      <th>33</th>\n",
              "      <td>77.064348</td>\n",
              "      <td>9.546602</td>\n",
              "      <td>0.609685</td>\n",
              "      <td>-0.335855</td>\n",
              "      <td>-1.152635</td>\n",
              "      <td>102.839354</td>\n",
              "      <td>0.361453</td>\n",
              "      <td>0.130675</td>\n",
              "      <td>-0.001439</td>\n",
              "      <td>0.002657</td>\n",
              "      <td>-0.171046</td>\n",
              "      <td>0</td>\n",
              "    </tr>\n",
              "    <tr>\n",
              "      <th>34</th>\n",
              "      <td>-3.008598</td>\n",
              "      <td>3.136491</td>\n",
              "      <td>-0.445856</td>\n",
              "      <td>0.651971</td>\n",
              "      <td>0.754294</td>\n",
              "      <td>46.690379</td>\n",
              "      <td>-0.971832</td>\n",
              "      <td>-0.130990</td>\n",
              "      <td>0.000167</td>\n",
              "      <td>0.010739</td>\n",
              "      <td>0.117154</td>\n",
              "      <td>0</td>\n",
              "    </tr>\n",
              "    <tr>\n",
              "      <th>35</th>\n",
              "      <td>-3.106740</td>\n",
              "      <td>-0.527019</td>\n",
              "      <td>0.664722</td>\n",
              "      <td>-0.001291</td>\n",
              "      <td>0.912371</td>\n",
              "      <td>186.674597</td>\n",
              "      <td>-1.895577</td>\n",
              "      <td>-0.072338</td>\n",
              "      <td>0.000911</td>\n",
              "      <td>0.005667</td>\n",
              "      <td>0.035780</td>\n",
              "      <td>0</td>\n",
              "    </tr>\n",
              "    <tr>\n",
              "      <th>36</th>\n",
              "      <td>-2.919832</td>\n",
              "      <td>2.067763</td>\n",
              "      <td>-1.671908</td>\n",
              "      <td>-0.421927</td>\n",
              "      <td>0.344679</td>\n",
              "      <td>38.599483</td>\n",
              "      <td>1.240791</td>\n",
              "      <td>0.046111</td>\n",
              "      <td>0.000486</td>\n",
              "      <td>0.002168</td>\n",
              "      <td>-0.022357</td>\n",
              "      <td>0</td>\n",
              "    </tr>\n",
              "    <tr>\n",
              "      <th>37</th>\n",
              "      <td>-2.912104</td>\n",
              "      <td>2.926588</td>\n",
              "      <td>-3.264390</td>\n",
              "      <td>0.651971</td>\n",
              "      <td>-0.664185</td>\n",
              "      <td>-117.641856</td>\n",
              "      <td>3.065578</td>\n",
              "      <td>0.197069</td>\n",
              "      <td>0.000418</td>\n",
              "      <td>0.014951</td>\n",
              "      <td>-0.196587</td>\n",
              "      <td>1</td>\n",
              "    </tr>\n",
              "    <tr>\n",
              "      <th>38</th>\n",
              "      <td>-3.315568</td>\n",
              "      <td>5.698553</td>\n",
              "      <td>-3.433913</td>\n",
              "      <td>0.651971</td>\n",
              "      <td>-0.510456</td>\n",
              "      <td>-190.627145</td>\n",
              "      <td>0.535484</td>\n",
              "      <td>0.036059</td>\n",
              "      <td>0.000163</td>\n",
              "      <td>0.015370</td>\n",
              "      <td>-0.263177</td>\n",
              "      <td>1</td>\n",
              "    </tr>\n",
              "    <tr>\n",
              "      <th>39</th>\n",
              "      <td>-2.922441</td>\n",
              "      <td>2.582151</td>\n",
              "      <td>-3.994404</td>\n",
              "      <td>0.651971</td>\n",
              "      <td>-0.103287</td>\n",
              "      <td>-61.325975</td>\n",
              "      <td>1.343734</td>\n",
              "      <td>0.048444</td>\n",
              "      <td>0.000033</td>\n",
              "      <td>0.023389</td>\n",
              "      <td>-0.326240</td>\n",
              "      <td>1</td>\n",
              "    </tr>\n",
              "    <tr>\n",
              "      <th>40</th>\n",
              "      <td>-2.923537</td>\n",
              "      <td>4.543955</td>\n",
              "      <td>-2.272830</td>\n",
              "      <td>0.648031</td>\n",
              "      <td>0.556318</td>\n",
              "      <td>78.801061</td>\n",
              "      <td>-2.513930</td>\n",
              "      <td>-0.062442</td>\n",
              "      <td>-0.000057</td>\n",
              "      <td>0.011541</td>\n",
              "      <td>-0.567874</td>\n",
              "      <td>1</td>\n",
              "    </tr>\n",
              "    <tr>\n",
              "      <th>41</th>\n",
              "      <td>3.700329</td>\n",
              "      <td>3.184600</td>\n",
              "      <td>-0.591110</td>\n",
              "      <td>0.388896</td>\n",
              "      <td>0.205621</td>\n",
              "      <td>-7.307742</td>\n",
              "      <td>2.715249</td>\n",
              "      <td>0.050228</td>\n",
              "      <td>0.000061</td>\n",
              "      <td>-0.007163</td>\n",
              "      <td>0.349036</td>\n",
              "      <td>1</td>\n",
              "    </tr>\n",
              "    <tr>\n",
              "      <th>42</th>\n",
              "      <td>0.304631</td>\n",
              "      <td>-0.088355</td>\n",
              "      <td>0.688875</td>\n",
              "      <td>0.761204</td>\n",
              "      <td>-0.614393</td>\n",
              "      <td>69.930684</td>\n",
              "      <td>-0.478915</td>\n",
              "      <td>0.022608</td>\n",
              "      <td>0.000039</td>\n",
              "      <td>0.000511</td>\n",
              "      <td>-0.094331</td>\n",
              "      <td>1</td>\n",
              "    </tr>\n",
              "    <tr>\n",
              "      <th>43</th>\n",
              "      <td>4.260038</td>\n",
              "      <td>1.380268</td>\n",
              "      <td>-2.032596</td>\n",
              "      <td>-0.064217</td>\n",
              "      <td>0.088084</td>\n",
              "      <td>26.906315</td>\n",
              "      <td>0.209463</td>\n",
              "      <td>0.033832</td>\n",
              "      <td>0.000056</td>\n",
              "      <td>0.008982</td>\n",
              "      <td>0.243726</td>\n",
              "      <td>1</td>\n",
              "    </tr>\n",
              "    <tr>\n",
              "      <th>44</th>\n",
              "      <td>3.877299</td>\n",
              "      <td>2.859597</td>\n",
              "      <td>-0.092320</td>\n",
              "      <td>-0.028897</td>\n",
              "      <td>-0.983990</td>\n",
              "      <td>13.776360</td>\n",
              "      <td>-0.832159</td>\n",
              "      <td>0.059580</td>\n",
              "      <td>-0.002102</td>\n",
              "      <td>0.003001</td>\n",
              "      <td>0.170970</td>\n",
              "      <td>1</td>\n",
              "    </tr>\n",
              "    <tr>\n",
              "      <th>45</th>\n",
              "      <td>23.138065</td>\n",
              "      <td>-5.017574</td>\n",
              "      <td>2.332937</td>\n",
              "      <td>-0.779638</td>\n",
              "      <td>-0.010013</td>\n",
              "      <td>153.461346</td>\n",
              "      <td>-1.302367</td>\n",
              "      <td>0.013019</td>\n",
              "      <td>0.000373</td>\n",
              "      <td>0.001676</td>\n",
              "      <td>-0.127255</td>\n",
              "      <td>1</td>\n",
              "    </tr>\n",
              "    <tr>\n",
              "      <th>46</th>\n",
              "      <td>15.654456</td>\n",
              "      <td>-4.557654</td>\n",
              "      <td>0.285610</td>\n",
              "      <td>0.372259</td>\n",
              "      <td>0.252995</td>\n",
              "      <td>-73.101336</td>\n",
              "      <td>-1.213693</td>\n",
              "      <td>-0.020093</td>\n",
              "      <td>0.000385</td>\n",
              "      <td>-0.011365</td>\n",
              "      <td>-0.011407</td>\n",
              "      <td>1</td>\n",
              "    </tr>\n",
              "    <tr>\n",
              "      <th>47</th>\n",
              "      <td>7.733651</td>\n",
              "      <td>-5.123506</td>\n",
              "      <td>-1.957329</td>\n",
              "      <td>-0.626977</td>\n",
              "      <td>-0.173223</td>\n",
              "      <td>163.037819</td>\n",
              "      <td>-1.229405</td>\n",
              "      <td>-0.008456</td>\n",
              "      <td>-0.000012</td>\n",
              "      <td>-0.005661</td>\n",
              "      <td>0.024848</td>\n",
              "      <td>1</td>\n",
              "    </tr>\n",
              "    <tr>\n",
              "      <th>48</th>\n",
              "      <td>-8.807864</td>\n",
              "      <td>4.276196</td>\n",
              "      <td>-0.510591</td>\n",
              "      <td>-0.334756</td>\n",
              "      <td>0.757743</td>\n",
              "      <td>-121.192206</td>\n",
              "      <td>0.217336</td>\n",
              "      <td>0.038858</td>\n",
              "      <td>0.000157</td>\n",
              "      <td>0.014261</td>\n",
              "      <td>0.184200</td>\n",
              "      <td>1</td>\n",
              "    </tr>\n",
              "    <tr>\n",
              "      <th>49</th>\n",
              "      <td>-12.198457</td>\n",
              "      <td>3.500341</td>\n",
              "      <td>-2.450743</td>\n",
              "      <td>0.136329</td>\n",
              "      <td>-0.440718</td>\n",
              "      <td>-78.033238</td>\n",
              "      <td>-0.598893</td>\n",
              "      <td>0.017516</td>\n",
              "      <td>-0.000286</td>\n",
              "      <td>0.005495</td>\n",
              "      <td>-0.492023</td>\n",
              "      <td>1</td>\n",
              "    </tr>\n",
              "    <tr>\n",
              "      <th>50</th>\n",
              "      <td>-8.324202</td>\n",
              "      <td>-1.887007</td>\n",
              "      <td>-2.290818</td>\n",
              "      <td>1.187209</td>\n",
              "      <td>-0.481954</td>\n",
              "      <td>-58.734285</td>\n",
              "      <td>-0.129414</td>\n",
              "      <td>-0.085638</td>\n",
              "      <td>0.000137</td>\n",
              "      <td>0.011801</td>\n",
              "      <td>-0.394005</td>\n",
              "      <td>1</td>\n",
              "    </tr>\n",
              "  </tbody>\n",
              "</table>\n",
              "</div>\n",
              "      <button class=\"colab-df-convert\" onclick=\"convertToInteractive('df-5373b752-e2e4-4d3b-9824-618de01e64d4')\"\n",
              "              title=\"Convert this dataframe to an interactive table.\"\n",
              "              style=\"display:none;\">\n",
              "        \n",
              "  <svg xmlns=\"http://www.w3.org/2000/svg\" height=\"24px\"viewBox=\"0 0 24 24\"\n",
              "       width=\"24px\">\n",
              "    <path d=\"M0 0h24v24H0V0z\" fill=\"none\"/>\n",
              "    <path d=\"M18.56 5.44l.94 2.06.94-2.06 2.06-.94-2.06-.94-.94-2.06-.94 2.06-2.06.94zm-11 1L8.5 8.5l.94-2.06 2.06-.94-2.06-.94L8.5 2.5l-.94 2.06-2.06.94zm10 10l.94 2.06.94-2.06 2.06-.94-2.06-.94-.94-2.06-.94 2.06-2.06.94z\"/><path d=\"M17.41 7.96l-1.37-1.37c-.4-.4-.92-.59-1.43-.59-.52 0-1.04.2-1.43.59L10.3 9.45l-7.72 7.72c-.78.78-.78 2.05 0 2.83L4 21.41c.39.39.9.59 1.41.59.51 0 1.02-.2 1.41-.59l7.78-7.78 2.81-2.81c.8-.78.8-2.07 0-2.86zM5.41 20L4 18.59l7.72-7.72 1.47 1.35L5.41 20z\"/>\n",
              "  </svg>\n",
              "      </button>\n",
              "      \n",
              "  <style>\n",
              "    .colab-df-container {\n",
              "      display:flex;\n",
              "      flex-wrap:wrap;\n",
              "      gap: 12px;\n",
              "    }\n",
              "\n",
              "    .colab-df-convert {\n",
              "      background-color: #E8F0FE;\n",
              "      border: none;\n",
              "      border-radius: 50%;\n",
              "      cursor: pointer;\n",
              "      display: none;\n",
              "      fill: #1967D2;\n",
              "      height: 32px;\n",
              "      padding: 0 0 0 0;\n",
              "      width: 32px;\n",
              "    }\n",
              "\n",
              "    .colab-df-convert:hover {\n",
              "      background-color: #E2EBFA;\n",
              "      box-shadow: 0px 1px 2px rgba(60, 64, 67, 0.3), 0px 1px 3px 1px rgba(60, 64, 67, 0.15);\n",
              "      fill: #174EA6;\n",
              "    }\n",
              "\n",
              "    [theme=dark] .colab-df-convert {\n",
              "      background-color: #3B4455;\n",
              "      fill: #D2E3FC;\n",
              "    }\n",
              "\n",
              "    [theme=dark] .colab-df-convert:hover {\n",
              "      background-color: #434B5C;\n",
              "      box-shadow: 0px 1px 3px 1px rgba(0, 0, 0, 0.15);\n",
              "      filter: drop-shadow(0px 1px 2px rgba(0, 0, 0, 0.3));\n",
              "      fill: #FFFFFF;\n",
              "    }\n",
              "  </style>\n",
              "\n",
              "      <script>\n",
              "        const buttonEl =\n",
              "          document.querySelector('#df-5373b752-e2e4-4d3b-9824-618de01e64d4 button.colab-df-convert');\n",
              "        buttonEl.style.display =\n",
              "          google.colab.kernel.accessAllowed ? 'block' : 'none';\n",
              "\n",
              "        async function convertToInteractive(key) {\n",
              "          const element = document.querySelector('#df-5373b752-e2e4-4d3b-9824-618de01e64d4');\n",
              "          const dataTable =\n",
              "            await google.colab.kernel.invokeFunction('convertToInteractive',\n",
              "                                                     [key], {});\n",
              "          if (!dataTable) return;\n",
              "\n",
              "          const docLinkHtml = 'Like what you see? Visit the ' +\n",
              "            '<a target=\"_blank\" href=https://colab.research.google.com/notebooks/data_table.ipynb>data table notebook</a>'\n",
              "            + ' to learn more about interactive tables.';\n",
              "          element.innerHTML = '';\n",
              "          dataTable['output_type'] = 'display_data';\n",
              "          await google.colab.output.renderOutput(dataTable, element);\n",
              "          const docLink = document.createElement('div');\n",
              "          docLink.innerHTML = docLinkHtml;\n",
              "          element.appendChild(docLink);\n",
              "        }\n",
              "      </script>\n",
              "    </div>\n",
              "  </div>\n",
              "  "
            ],
            "text/plain": [
              "    axe_Distribution_des_animaux  ...  Cs_longia\n",
              "0                      -2.647724  ...          0\n",
              "1                      -2.600074  ...          1\n",
              "2                      -2.600074  ...          1\n",
              "3                      -2.827135  ...          1\n",
              "4                      -2.379458  ...          0\n",
              "5                      -2.379458  ...          0\n",
              "6                      -2.526384  ...          0\n",
              "7                      -2.444617  ...          0\n",
              "8                      -3.824134  ...          1\n",
              "9                      -0.781471  ...          0\n",
              "10                     -3.098300  ...          0\n",
              "11                     -1.749523  ...          1\n",
              "12                     -2.465885  ...          0\n",
              "13                      2.951375  ...          1\n",
              "14                      5.265723  ...          0\n",
              "15                      3.149862  ...          0\n",
              "16                     17.743217  ...          0\n",
              "17                     16.727813  ...          0\n",
              "18                     -1.101351  ...          0\n",
              "19                      6.574780  ...          0\n",
              "20                     10.135452  ...          0\n",
              "21                      3.969502  ...          0\n",
              "22                      4.066407  ...          0\n",
              "23                     10.101128  ...          0\n",
              "24                      8.414571  ...          0\n",
              "25                      7.345657  ...          0\n",
              "26                      8.678994  ...          0\n",
              "27                      0.872063  ...          0\n",
              "28                      4.681425  ...          0\n",
              "29                     -4.556856  ...          0\n",
              "30                      1.221216  ...          0\n",
              "31                      1.221216  ...          0\n",
              "32                     -2.368437  ...          0\n",
              "33                     77.064348  ...          0\n",
              "34                     -3.008598  ...          0\n",
              "35                     -3.106740  ...          0\n",
              "36                     -2.919832  ...          0\n",
              "37                     -2.912104  ...          1\n",
              "38                     -3.315568  ...          1\n",
              "39                     -2.922441  ...          1\n",
              "40                     -2.923537  ...          1\n",
              "41                      3.700329  ...          1\n",
              "42                      0.304631  ...          1\n",
              "43                      4.260038  ...          1\n",
              "44                      3.877299  ...          1\n",
              "45                     23.138065  ...          1\n",
              "46                     15.654456  ...          1\n",
              "47                      7.733651  ...          1\n",
              "48                     -8.807864  ...          1\n",
              "49                    -12.198457  ...          1\n",
              "50                     -8.324202  ...          1\n",
              "\n",
              "[51 rows x 12 columns]"
            ]
          },
          "metadata": {},
          "execution_count": 5
        }
      ]
    },
    {
      "cell_type": "code",
      "metadata": {
        "id": "WlXmEfpym-Hm"
      },
      "source": [
        "X_app = apprentissage.loc[:, apprentissage.columns != 'Cs_longia']\n",
        "Y_app = apprentissage.Cs_longia\n",
        "X_test = test.loc[:, test.columns != 'Cs_longia']\n",
        "Y_test = test.Cs_longia"
      ],
      "execution_count": 6,
      "outputs": []
    },
    {
      "cell_type": "code",
      "source": [
        "###Recall\n",
        "def recall(y_test, preds):\n",
        "  recall=recall_score(y_test, preds)\n",
        "  return recall\n",
        "def MCC(y_test, preds):\n",
        "  MCC= matthews_corrcoef(y_test, preds) \n",
        "  return MCC\n",
        "### MCC\n",
        "def MCC(y_test, preds):\n",
        "  MCC= matthews_corrcoef(y_test, preds) \n",
        "  return MCC\n",
        "### sensibilite\n",
        "def sensibilite(y_test, preds):\n",
        "  cf_matrix = confusion_matrix(y_test, preds)\n",
        "  sensibilite =  (cf_matrix[1,1])/(cf_matrix[1,1]+cf_matrix[1,0])\n",
        "  return sensibilite\n",
        "### specifite \n",
        "def specifite(y_test, preds):\n",
        "  cf_matrix = confusion_matrix(y_test, preds)\n",
        "  specifite =  (cf_matrix[0,0])/(cf_matrix[0,0]+cf_matrix[0,1])\n",
        "  return specifite \n",
        "### kappa\n",
        "def kappa(y_test, preds):\n",
        "  value = cohen_kappa_score(y_test, preds)\n",
        "  return value\n",
        "### balancedacc\n",
        "def balancedacc(y_test, preds):\n",
        "  cf_matrix = confusion_matrix(y_test, preds)\n",
        "  sen = (cf_matrix[1,1])/(cf_matrix[1,1]+cf_matrix[0,1])\n",
        "  spe = (cf_matrix[0,0])/(cf_matrix[0,0]+cf_matrix[1,0])\n",
        "  value = (sen + spe)/2\n",
        "  return value\n",
        "def présicion_positive(y_test, preds):\n",
        "  cf_matrix = confusion_matrix(y_test, preds)\n",
        "  pre_pos =  (cf_matrix[1,1])/(cf_matrix[1,1]+cf_matrix[0,1])\n",
        "  return pre_pos\n",
        "def présicion_négative(y_test, preds):\n",
        "  cf_matrix = confusion_matrix(y_test, preds)\n",
        "  pre_pos =  (cf_matrix[0,0])/(cf_matrix[0,0]+cf_matrix[1,0])\n",
        "  return pre_pos\n",
        "  \n",
        "### courbe roc\n",
        "def plot_roc_curve(fper, tper):\n",
        "    plt.plot(fper, tper, color='red', label='ROC')\n",
        "    plt.plot([0, 1], [0, 1], color='green', linestyle='--')\n",
        "    plt.xlabel('False Positive Rate')\n",
        "    plt.ylabel('True Positive Rate')\n",
        "    plt.title('Receiver Operating Characteristic Curve')\n",
        "    plt.legend()\n",
        "    plt.show()"
      ],
      "metadata": {
        "id": "PT7afKHWJD6b"
      },
      "execution_count": 128,
      "outputs": []
    },
    {
      "cell_type": "markdown",
      "source": [
        "# XGBOOST"
      ],
      "metadata": {
        "id": "THsA6X7josns"
      }
    },
    {
      "cell_type": "code",
      "source": [
        "Classifier = XGBClassifier(scale_pos_weight=1,learning_rate=0.5,max_depth=5,n_estimators=150,objective=\"binary:logistic\")"
      ],
      "metadata": {
        "id": "LvZVQSVTx91X"
      },
      "execution_count": 141,
      "outputs": []
    },
    {
      "cell_type": "code",
      "source": [
        "Classifier.fit(X_app,Y_app)"
      ],
      "metadata": {
        "colab": {
          "base_uri": "https://localhost:8080/"
        },
        "id": "kzx4dBDMx93d",
        "outputId": "3a6eb0e9-bb58-403c-9812-d744fae6b280"
      },
      "execution_count": 142,
      "outputs": [
        {
          "output_type": "execute_result",
          "data": {
            "text/plain": [
              "XGBClassifier(learning_rate=0.5, max_depth=5, n_estimators=150)"
            ]
          },
          "metadata": {},
          "execution_count": 142
        }
      ]
    },
    {
      "cell_type": "code",
      "metadata": {
        "id": "mpZMF-EhTV0N"
      },
      "source": [
        "preds = Classifier.predict(X_test)"
      ],
      "execution_count": 143,
      "outputs": []
    },
    {
      "cell_type": "code",
      "metadata": {
        "id": "wfCXrkA0TV0O",
        "colab": {
          "base_uri": "https://localhost:8080/"
        },
        "outputId": "780a1f81-89ea-422a-9651-740ecc95acdb"
      },
      "source": [
        "preds"
      ],
      "execution_count": 144,
      "outputs": [
        {
          "output_type": "execute_result",
          "data": {
            "text/plain": [
              "array([0, 1, 1, 1, 0, 0, 0, 0, 0, 0, 1, 1, 1, 1, 1, 0, 0, 0, 0, 0, 0, 0,\n",
              "       0, 1, 1, 0, 0, 1, 0, 0, 0, 0, 0, 1, 0, 0, 1, 1, 1, 1, 0, 1, 1, 1,\n",
              "       1, 1, 0, 1, 1, 1, 0])"
            ]
          },
          "metadata": {},
          "execution_count": 144
        }
      ]
    },
    {
      "cell_type": "code",
      "metadata": {
        "colab": {
          "base_uri": "https://localhost:8080/"
        },
        "outputId": "3b215aae-f76b-4b51-ce6e-73c45c077d99",
        "id": "-kxBDaKxzO2e"
      },
      "source": [
        "cf_matrix = confusion_matrix(Y_test, preds)\n",
        "print(cf_matrix)"
      ],
      "execution_count": 146,
      "outputs": [
        {
          "output_type": "stream",
          "name": "stdout",
          "text": [
            "[[23  8]\n",
            " [ 4 16]]\n"
          ]
        }
      ]
    },
    {
      "cell_type": "code",
      "source": [
        "MCC(Y_test, preds)"
      ],
      "metadata": {
        "colab": {
          "base_uri": "https://localhost:8080/"
        },
        "id": "0YKjN3KXIaz7",
        "outputId": "09c4c9a8-1d2f-4aa7-e7e2-8a489775ea63"
      },
      "execution_count": 147,
      "outputs": [
        {
          "output_type": "execute_result",
          "data": {
            "text/plain": [
              "0.5300977119639272"
            ]
          },
          "metadata": {},
          "execution_count": 147
        }
      ]
    },
    {
      "cell_type": "code",
      "source": [
        "recall(Y_test, preds)"
      ],
      "metadata": {
        "colab": {
          "base_uri": "https://localhost:8080/"
        },
        "id": "y5XZY6B2JD9D",
        "outputId": "b903a4df-b1a6-45bc-ddab-7996c70bc3c4"
      },
      "execution_count": 148,
      "outputs": [
        {
          "output_type": "execute_result",
          "data": {
            "text/plain": [
              "0.8"
            ]
          },
          "metadata": {},
          "execution_count": 148
        }
      ]
    },
    {
      "cell_type": "code",
      "source": [
        "sensibilite(Y_test, preds)"
      ],
      "metadata": {
        "colab": {
          "base_uri": "https://localhost:8080/"
        },
        "id": "kqSk6bUfJD_T",
        "outputId": "945db89e-459a-4069-dbdd-c587ce3ec89b"
      },
      "execution_count": 149,
      "outputs": [
        {
          "output_type": "execute_result",
          "data": {
            "text/plain": [
              "0.8"
            ]
          },
          "metadata": {},
          "execution_count": 149
        }
      ]
    },
    {
      "cell_type": "code",
      "source": [
        "specifite(Y_test, preds)"
      ],
      "metadata": {
        "colab": {
          "base_uri": "https://localhost:8080/"
        },
        "id": "pNQ0SMEcJEBk",
        "outputId": "d6fd2d0a-8b3f-4452-86c7-5271258d550b"
      },
      "execution_count": 150,
      "outputs": [
        {
          "output_type": "execute_result",
          "data": {
            "text/plain": [
              "0.7419354838709677"
            ]
          },
          "metadata": {},
          "execution_count": 150
        }
      ]
    },
    {
      "cell_type": "code",
      "source": [
        "présicion_négative(Y_test, preds)"
      ],
      "metadata": {
        "colab": {
          "base_uri": "https://localhost:8080/"
        },
        "id": "H2OR9PEknpHB",
        "outputId": "ada5085b-cd13-4e0f-a452-149d2440fcf1"
      },
      "execution_count": 151,
      "outputs": [
        {
          "output_type": "execute_result",
          "data": {
            "text/plain": [
              "0.8518518518518519"
            ]
          },
          "metadata": {},
          "execution_count": 151
        }
      ]
    },
    {
      "cell_type": "code",
      "source": [
        "présicion_positive(Y_test, preds)"
      ],
      "metadata": {
        "colab": {
          "base_uri": "https://localhost:8080/"
        },
        "id": "5F8mvboxno-8",
        "outputId": "b2b5bed2-e115-4251-9fac-2feca1080ff0"
      },
      "execution_count": 152,
      "outputs": [
        {
          "output_type": "execute_result",
          "data": {
            "text/plain": [
              "0.6666666666666666"
            ]
          },
          "metadata": {},
          "execution_count": 152
        }
      ]
    },
    {
      "cell_type": "code",
      "source": [
        "balancedacc(Y_test, preds)"
      ],
      "metadata": {
        "colab": {
          "base_uri": "https://localhost:8080/"
        },
        "id": "ZBb1_XQDnxip",
        "outputId": "d60e2540-5875-412a-a41f-615d9a6457d8"
      },
      "execution_count": 153,
      "outputs": [
        {
          "output_type": "execute_result",
          "data": {
            "text/plain": [
              "0.7592592592592593"
            ]
          },
          "metadata": {},
          "execution_count": 153
        }
      ]
    },
    {
      "cell_type": "code",
      "source": [
        "kappa(Y_test, preds)"
      ],
      "metadata": {
        "colab": {
          "base_uri": "https://localhost:8080/"
        },
        "id": "Oov8iFSGop2F",
        "outputId": "cbd4630e-b7ed-4ab4-fc26-4aef7f5060f5"
      },
      "execution_count": 154,
      "outputs": [
        {
          "output_type": "execute_result",
          "data": {
            "text/plain": [
              "0.5233644859813085"
            ]
          },
          "metadata": {},
          "execution_count": 154
        }
      ]
    },
    {
      "cell_type": "code",
      "source": [
        "y_pred_proba = Classifier.predict_proba(X_test)[::,1]\n",
        "fpr, tpr, _ = metrics.roc_curve(Y_test,  y_pred_proba)\n",
        "auc = metrics.roc_auc_score(Y_test, y_pred_proba)\n",
        "plt.plot(fpr,tpr,label=\"xgboost, auc=\"+str(auc))\n",
        "plt.legend(loc=4)\n",
        "plt.show()"
      ],
      "metadata": {
        "colab": {
          "base_uri": "https://localhost:8080/",
          "height": 265
        },
        "id": "eOzFa818Ia2R",
        "outputId": "49715989-6f78-4f9c-a74b-fe0a9b17af08"
      },
      "execution_count": 155,
      "outputs": [
        {
          "output_type": "display_data",
          "data": {
            "image/png": "[encoded data removed]",
            "text/plain": [
              "<Figure size 432x288 with 1 Axes>"
            ]
          },
          "metadata": {
            "needs_background": "light"
          }
        }
      ]
    },
    {
      "cell_type": "markdown",
      "source": [
        "# Logistic"
      ],
      "metadata": {
        "id": "y9aeHkxsorEv"
      }
    },
    {
      "cell_type": "code",
      "source": [
        "Classifier1 = LogisticRegression(max_iter=100, solver='lbfgs', class_weight='balanced')"
      ],
      "metadata": {
        "id": "BqdBNQ8OtRBK"
      },
      "execution_count": 156,
      "outputs": []
    },
    {
      "cell_type": "code",
      "source": [
        "Classifier1.fit(X_app,Y_app)"
      ],
      "metadata": {
        "colab": {
          "base_uri": "https://localhost:8080/"
        },
        "outputId": "a0a8a3e2-ff74-4ccf-d3ca-bd6608a7fa11",
        "id": "cFamN3t7tRBN"
      },
      "execution_count": 157,
      "outputs": [
        {
          "output_type": "stream",
          "name": "stderr",
          "text": [
            "/usr/local/lib/python3.7/dist-packages/sklearn/linear_model/_logistic.py:818: ConvergenceWarning: lbfgs failed to converge (status=1):\n",
            "STOP: TOTAL NO. of ITERATIONS REACHED LIMIT.\n",
            "\n",
            "Increase the number of iterations (max_iter) or scale the data as shown in:\n",
            "    https://scikit-learn.org/stable/modules/preprocessing.html\n",
            "Please also refer to the documentation for alternative solver options:\n",
            "    https://scikit-learn.org/stable/modules/linear_model.html#logistic-regression\n",
            "  extra_warning_msg=_LOGISTIC_SOLVER_CONVERGENCE_MSG,\n"
          ]
        },
        {
          "output_type": "execute_result",
          "data": {
            "text/plain": [
              "LogisticRegression(class_weight='balanced')"
            ]
          },
          "metadata": {},
          "execution_count": 157
        }
      ]
    },
    {
      "cell_type": "code",
      "metadata": {
        "id": "WWCUVz41tRBN"
      },
      "source": [
        "preds1 = Classifier1.predict(X_test)"
      ],
      "execution_count": 158,
      "outputs": []
    },
    {
      "cell_type": "code",
      "metadata": {
        "colab": {
          "base_uri": "https://localhost:8080/"
        },
        "outputId": "04dc7c22-8fde-4977-abfc-ba93e16e0cd7",
        "id": "cLbQ1a3ytRBO"
      },
      "source": [
        "preds1"
      ],
      "execution_count": 159,
      "outputs": [
        {
          "output_type": "execute_result",
          "data": {
            "text/plain": [
              "array([1, 1, 1, 1, 0, 0, 0, 1, 0, 0, 1, 1, 1, 0, 1, 0, 0, 0, 0, 0, 0, 0,\n",
              "       0, 0, 0, 0, 0, 0, 0, 0, 0, 0, 0, 1, 0, 0, 1, 1, 1, 1, 1, 1, 1, 1,\n",
              "       1, 0, 0, 0, 1, 1, 1])"
            ]
          },
          "metadata": {},
          "execution_count": 159
        }
      ]
    },
    {
      "cell_type": "code",
      "metadata": {
        "colab": {
          "base_uri": "https://localhost:8080/"
        },
        "outputId": "b620e5a3-9c45-4616-f044-3f760c8771dc",
        "id": "jYdLZtC2tRBP"
      },
      "source": [
        "cf_matrix1 = confusion_matrix(Y_test, preds1)\n",
        "print(cf_matrix1)"
      ],
      "execution_count": 160,
      "outputs": [
        {
          "output_type": "stream",
          "name": "stdout",
          "text": [
            "[[24  7]\n",
            " [ 5 15]]\n"
          ]
        }
      ]
    },
    {
      "cell_type": "code",
      "source": [
        "MCC(Y_test, preds1)"
      ],
      "metadata": {
        "colab": {
          "base_uri": "https://localhost:8080/"
        },
        "outputId": "012d3df4-e815-40f2-cd4d-9a627dddfc10",
        "id": "r9gihGeYtxi3"
      },
      "execution_count": 161,
      "outputs": [
        {
          "output_type": "execute_result",
          "data": {
            "text/plain": [
              "0.516746063443483"
            ]
          },
          "metadata": {},
          "execution_count": 161
        }
      ]
    },
    {
      "cell_type": "code",
      "source": [
        "recall(Y_test, preds1)"
      ],
      "metadata": {
        "colab": {
          "base_uri": "https://localhost:8080/"
        },
        "outputId": "3bc936ed-f228-48ae-9ab8-80665fa09052",
        "id": "nEBoze-Ptxi6"
      },
      "execution_count": 162,
      "outputs": [
        {
          "output_type": "execute_result",
          "data": {
            "text/plain": [
              "0.75"
            ]
          },
          "metadata": {},
          "execution_count": 162
        }
      ]
    },
    {
      "cell_type": "code",
      "source": [
        "sensibilite(Y_test, preds1)"
      ],
      "metadata": {
        "colab": {
          "base_uri": "https://localhost:8080/"
        },
        "outputId": "2c10b7fe-ec41-4dbe-ea1c-4138e72a9a02",
        "id": "FeSUU13Dtxi6"
      },
      "execution_count": 163,
      "outputs": [
        {
          "output_type": "execute_result",
          "data": {
            "text/plain": [
              "0.75"
            ]
          },
          "metadata": {},
          "execution_count": 163
        }
      ]
    },
    {
      "cell_type": "code",
      "source": [
        "specifite(Y_test, preds1)"
      ],
      "metadata": {
        "colab": {
          "base_uri": "https://localhost:8080/"
        },
        "outputId": "cfc56250-2b74-45e9-91fe-cdc3904900ed",
        "id": "dwQpig7Htxi6"
      },
      "execution_count": 164,
      "outputs": [
        {
          "output_type": "execute_result",
          "data": {
            "text/plain": [
              "0.7741935483870968"
            ]
          },
          "metadata": {},
          "execution_count": 164
        }
      ]
    },
    {
      "cell_type": "code",
      "source": [
        "présicion_négative(Y_test, preds1)"
      ],
      "metadata": {
        "colab": {
          "base_uri": "https://localhost:8080/"
        },
        "outputId": "c20d7fbc-8748-4f91-82c6-2e82abe716c8",
        "id": "6H7Fh0xYtxi8"
      },
      "execution_count": 165,
      "outputs": [
        {
          "output_type": "execute_result",
          "data": {
            "text/plain": [
              "0.8275862068965517"
            ]
          },
          "metadata": {},
          "execution_count": 165
        }
      ]
    },
    {
      "cell_type": "code",
      "source": [
        "présicion_positive(Y_test, preds1)"
      ],
      "metadata": {
        "colab": {
          "base_uri": "https://localhost:8080/"
        },
        "outputId": "2c3f8f55-73c8-4815-efff-5b1786387107",
        "id": "76_2PqsYtxi9"
      },
      "execution_count": 166,
      "outputs": [
        {
          "output_type": "execute_result",
          "data": {
            "text/plain": [
              "0.6818181818181818"
            ]
          },
          "metadata": {},
          "execution_count": 166
        }
      ]
    },
    {
      "cell_type": "code",
      "source": [
        "balancedacc(Y_test, preds1)"
      ],
      "metadata": {
        "colab": {
          "base_uri": "https://localhost:8080/"
        },
        "outputId": "f72ec64e-5a84-4628-cdf1-62bc4d3e306d",
        "id": "GnAaGf7Ftxi9"
      },
      "execution_count": 167,
      "outputs": [
        {
          "output_type": "execute_result",
          "data": {
            "text/plain": [
              "0.7547021943573667"
            ]
          },
          "metadata": {},
          "execution_count": 167
        }
      ]
    },
    {
      "cell_type": "code",
      "source": [
        "kappa(Y_test, preds1)"
      ],
      "metadata": {
        "colab": {
          "base_uri": "https://localhost:8080/"
        },
        "outputId": "9ba39382-0ffb-41d5-9c11-53a6dc504934",
        "id": "qET4Gk3Jtxi-"
      },
      "execution_count": 168,
      "outputs": [
        {
          "output_type": "execute_result",
          "data": {
            "text/plain": [
              "0.5150554675118859"
            ]
          },
          "metadata": {},
          "execution_count": 168
        }
      ]
    },
    {
      "cell_type": "code",
      "source": [
        "y_pred_proba = Classifier1.predict_proba(X_test)[::,1]\n",
        "fpr, tpr, _ = metrics.roc_curve(Y_test,  y_pred_proba)\n",
        "auc = metrics.roc_auc_score(Y_test, y_pred_proba)\n",
        "plt.plot(fpr,tpr,label=\"logistique, auc=\"+str(auc))\n",
        "plt.legend(loc=4)\n",
        "plt.show()"
      ],
      "metadata": {
        "colab": {
          "base_uri": "https://localhost:8080/",
          "height": 265
        },
        "outputId": "d2e79224-f8a7-4d8a-974c-1e1f41c26165",
        "id": "7KQf8mPRtxi-"
      },
      "execution_count": 169,
      "outputs": [
        {
          "output_type": "display_data",
          "data": {
            "image/png": "[encoded data removed]",
            "text/plain": [
              "<Figure size 432x288 with 1 Axes>"
            ]
          },
          "metadata": {
            "needs_background": "light"
          }
        }
      ]
    },
    {
      "cell_type": "markdown",
      "source": [
        "# Random_forest"
      ],
      "metadata": {
        "id": "zGlIAvl7x7Kc"
      }
    },
    {
      "cell_type": "code",
      "source": [
        "Classifier2 = RandomForestClassifier(n_estimators=100, criterion='gini', max_depth=5 ,min_samples_split=3)"
      ],
      "metadata": {
        "id": "OnTVCOaQx7Ke"
      },
      "execution_count": 201,
      "outputs": []
    },
    {
      "cell_type": "code",
      "source": [
        "Classifier2.fit(X_app,Y_app)"
      ],
      "metadata": {
        "colab": {
          "base_uri": "https://localhost:8080/"
        },
        "outputId": "7ccef8cf-9de6-4898-bf27-603b93e8a203",
        "id": "DXZaUbAOx7Kf"
      },
      "execution_count": 202,
      "outputs": [
        {
          "output_type": "execute_result",
          "data": {
            "text/plain": [
              "RandomForestClassifier(max_depth=5, min_samples_split=3)"
            ]
          },
          "metadata": {},
          "execution_count": 202
        }
      ]
    },
    {
      "cell_type": "code",
      "metadata": {
        "id": "gZ5dhlTJx7Kg"
      },
      "source": [
        "preds2 = Classifier2.predict(X_test)"
      ],
      "execution_count": 203,
      "outputs": []
    },
    {
      "cell_type": "code",
      "metadata": {
        "colab": {
          "base_uri": "https://localhost:8080/"
        },
        "outputId": "8fbcbe40-f15b-4bf8-ebd7-4d71eeebac4e",
        "id": "3xri6EYkx7Kh"
      },
      "source": [
        "preds2"
      ],
      "execution_count": 204,
      "outputs": [
        {
          "output_type": "execute_result",
          "data": {
            "text/plain": [
              "array([0, 1, 1, 1, 0, 0, 0, 0, 0, 0, 1, 1, 1, 1, 1, 0, 0, 0, 0, 0, 0, 0,\n",
              "       0, 0, 1, 0, 0, 1, 0, 0, 0, 0, 0, 1, 0, 0, 1, 1, 1, 1, 0, 1, 1, 1,\n",
              "       1, 1, 0, 0, 1, 1, 0])"
            ]
          },
          "metadata": {},
          "execution_count": 204
        }
      ]
    },
    {
      "cell_type": "code",
      "metadata": {
        "colab": {
          "base_uri": "https://localhost:8080/"
        },
        "outputId": "43fe31de-28be-4ea3-b52b-fdbe95603fb7",
        "id": "x_YXboonx7Kh"
      },
      "source": [
        "cf_matrix2 = confusion_matrix(Y_test, preds2)\n",
        "print(cf_matrix2)"
      ],
      "execution_count": 205,
      "outputs": [
        {
          "output_type": "stream",
          "name": "stdout",
          "text": [
            "[[24  7]\n",
            " [ 5 15]]\n"
          ]
        }
      ]
    },
    {
      "cell_type": "code",
      "source": [
        "MCC(Y_test, preds2)"
      ],
      "metadata": {
        "colab": {
          "base_uri": "https://localhost:8080/"
        },
        "outputId": "e2f79814-f1ca-403e-f8de-9ac7f04bc069",
        "id": "B7ku8BpLx7Ki"
      },
      "execution_count": 206,
      "outputs": [
        {
          "output_type": "execute_result",
          "data": {
            "text/plain": [
              "0.516746063443483"
            ]
          },
          "metadata": {},
          "execution_count": 206
        }
      ]
    },
    {
      "cell_type": "code",
      "source": [
        "recall(Y_test, preds2)"
      ],
      "metadata": {
        "colab": {
          "base_uri": "https://localhost:8080/"
        },
        "outputId": "7c39d002-aca2-4e52-d7a2-566bd7a6082b",
        "id": "0-gUEv9Kx7Kj"
      },
      "execution_count": 207,
      "outputs": [
        {
          "output_type": "execute_result",
          "data": {
            "text/plain": [
              "0.75"
            ]
          },
          "metadata": {},
          "execution_count": 207
        }
      ]
    },
    {
      "cell_type": "code",
      "source": [
        "sensibilite(Y_test, preds2)"
      ],
      "metadata": {
        "colab": {
          "base_uri": "https://localhost:8080/"
        },
        "outputId": "dc57bec3-1e7e-4f20-a02a-1a9864d4715a",
        "id": "_Hm4Xdv3x7Kk"
      },
      "execution_count": 208,
      "outputs": [
        {
          "output_type": "execute_result",
          "data": {
            "text/plain": [
              "0.75"
            ]
          },
          "metadata": {},
          "execution_count": 208
        }
      ]
    },
    {
      "cell_type": "code",
      "source": [
        "specifite(Y_test, preds2)"
      ],
      "metadata": {
        "colab": {
          "base_uri": "https://localhost:8080/"
        },
        "outputId": "497d623e-df33-4ddb-c42c-586f6cfa8e97",
        "id": "rS3voaC9x7Kk"
      },
      "execution_count": 209,
      "outputs": [
        {
          "output_type": "execute_result",
          "data": {
            "text/plain": [
              "0.7741935483870968"
            ]
          },
          "metadata": {},
          "execution_count": 209
        }
      ]
    },
    {
      "cell_type": "code",
      "source": [
        "présicion_négative(Y_test, preds2)"
      ],
      "metadata": {
        "colab": {
          "base_uri": "https://localhost:8080/"
        },
        "outputId": "dfc91a62-fa72-49ea-9bf0-d38b5401ca2f",
        "id": "aqcCGISAx7Kl"
      },
      "execution_count": 210,
      "outputs": [
        {
          "output_type": "execute_result",
          "data": {
            "text/plain": [
              "0.8275862068965517"
            ]
          },
          "metadata": {},
          "execution_count": 210
        }
      ]
    },
    {
      "cell_type": "code",
      "source": [
        "présicion_positive(Y_test, preds2)"
      ],
      "metadata": {
        "colab": {
          "base_uri": "https://localhost:8080/"
        },
        "outputId": "44829d4b-09b5-4176-dd09-2d36bc3087dc",
        "id": "7pbTegOYx7Km"
      },
      "execution_count": 211,
      "outputs": [
        {
          "output_type": "execute_result",
          "data": {
            "text/plain": [
              "0.6818181818181818"
            ]
          },
          "metadata": {},
          "execution_count": 211
        }
      ]
    },
    {
      "cell_type": "code",
      "source": [
        "balancedacc(Y_test, preds2)"
      ],
      "metadata": {
        "colab": {
          "base_uri": "https://localhost:8080/"
        },
        "outputId": "872e6451-ae4a-4667-c9f9-10967f515a26",
        "id": "2svuWaynx7Kn"
      },
      "execution_count": 212,
      "outputs": [
        {
          "output_type": "execute_result",
          "data": {
            "text/plain": [
              "0.7547021943573667"
            ]
          },
          "metadata": {},
          "execution_count": 212
        }
      ]
    },
    {
      "cell_type": "code",
      "source": [
        "kappa(Y_test, preds2)"
      ],
      "metadata": {
        "colab": {
          "base_uri": "https://localhost:8080/"
        },
        "outputId": "8f5d3fba-8e3b-4bc6-d7e2-e42c9671d693",
        "id": "_fj8QvtYx7Kn"
      },
      "execution_count": 213,
      "outputs": [
        {
          "output_type": "execute_result",
          "data": {
            "text/plain": [
              "0.5150554675118859"
            ]
          },
          "metadata": {},
          "execution_count": 213
        }
      ]
    },
    {
      "cell_type": "code",
      "source": [
        "y_pred_proba = Classifier2.predict_proba(X_test)[::,1]\n",
        "fpr, tpr, _ = metrics.roc_curve(Y_test,  y_pred_proba)\n",
        "auc = metrics.roc_auc_score(Y_test, y_pred_proba)\n",
        "plt.plot(fpr,tpr,label=\"Random_forest, auc=\"+str(auc))\n",
        "plt.legend(loc=4)\n",
        "plt.show()"
      ],
      "metadata": {
        "colab": {
          "base_uri": "https://localhost:8080/",
          "height": 265
        },
        "outputId": "c6a934af-957d-4d12-80d3-a721116ad174",
        "id": "m_3yw9xWx7Ko"
      },
      "execution_count": 214,
      "outputs": [
        {
          "output_type": "display_data",
          "data": {
            "image/png": "[encoded data removed]",
            "text/plain": [
              "<Figure size 432x288 with 1 Axes>"
            ]
          },
          "metadata": {
            "needs_background": "light"
          }
        }
      ]
    },
    {
      "cell_type": "markdown",
      "source": [
        "# Gradient_Boostnig"
      ],
      "metadata": {
        "id": "JI7145L2uHrL"
      }
    },
    {
      "cell_type": "code",
      "source": [
        "Classifier3 = GradientBoostingClassifier(n_estimators=225, learning_rate=0.1, max_features=2, max_depth=5, random_state=0,min_samples_leaf=2,subsample=1 )"
      ],
      "metadata": {
        "id": "qVCjVU68uGBZ"
      },
      "execution_count": 255,
      "outputs": []
    },
    {
      "cell_type": "code",
      "source": [
        "Classifier3.fit(X_app,Y_app)"
      ],
      "metadata": {
        "colab": {
          "base_uri": "https://localhost:8080/"
        },
        "outputId": "5e5bd4c0-87f2-4981-b183-b5ab5d0e18a9",
        "id": "BIMZEAdVuGBb"
      },
      "execution_count": 256,
      "outputs": [
        {
          "output_type": "execute_result",
          "data": {
            "text/plain": [
              "GradientBoostingClassifier(max_depth=5, max_features=2, min_samples_leaf=2,\n",
              "                           n_estimators=225, random_state=0, subsample=1)"
            ]
          },
          "metadata": {},
          "execution_count": 256
        }
      ]
    },
    {
      "cell_type": "code",
      "metadata": {
        "id": "7hG6F5ZyuGBc"
      },
      "source": [
        "preds3 = Classifier3.predict(X_test)"
      ],
      "execution_count": 257,
      "outputs": []
    },
    {
      "cell_type": "code",
      "metadata": {
        "colab": {
          "base_uri": "https://localhost:8080/"
        },
        "outputId": "8196265c-0750-40a3-d8b2-6c3a084a2b2e",
        "id": "4k9JFc37uGBc"
      },
      "source": [
        "preds3"
      ],
      "execution_count": 258,
      "outputs": [
        {
          "output_type": "execute_result",
          "data": {
            "text/plain": [
              "array([0, 1, 1, 1, 0, 0, 0, 1, 0, 0, 1, 1, 1, 1, 1, 0, 0, 0, 0, 1, 0, 0,\n",
              "       0, 1, 1, 0, 0, 1, 0, 0, 0, 0, 0, 1, 0, 0, 1, 1, 1, 1, 0, 1, 1, 1,\n",
              "       1, 1, 0, 1, 1, 1, 1])"
            ]
          },
          "metadata": {},
          "execution_count": 258
        }
      ]
    },
    {
      "cell_type": "code",
      "metadata": {
        "colab": {
          "base_uri": "https://localhost:8080/"
        },
        "outputId": "15cff5a0-2821-4244-d0b6-bc1fb14c5359",
        "id": "fVfK5rx0uGBd"
      },
      "source": [
        "cf_matrix3 = confusion_matrix(Y_test, preds3)\n",
        "print(cf_matrix3)"
      ],
      "execution_count": 259,
      "outputs": [
        {
          "output_type": "stream",
          "name": "stdout",
          "text": [
            "[[21 10]\n",
            " [ 3 17]]\n"
          ]
        }
      ]
    },
    {
      "cell_type": "code",
      "source": [
        "MCC(Y_test, preds3)"
      ],
      "metadata": {
        "colab": {
          "base_uri": "https://localhost:8080/"
        },
        "outputId": "ea16ad69-f761-4d6f-c98a-06e381915da2",
        "id": "vbOeDj1BuGBe"
      },
      "execution_count": 260,
      "outputs": [
        {
          "output_type": "execute_result",
          "data": {
            "text/plain": [
              "0.5158986661077505"
            ]
          },
          "metadata": {},
          "execution_count": 260
        }
      ]
    },
    {
      "cell_type": "code",
      "source": [
        "recall(Y_test, preds3)"
      ],
      "metadata": {
        "colab": {
          "base_uri": "https://localhost:8080/"
        },
        "outputId": "cc6d8764-593f-4a9d-c53a-762e342aafb8",
        "id": "C9aawbDzuGBe"
      },
      "execution_count": 261,
      "outputs": [
        {
          "output_type": "execute_result",
          "data": {
            "text/plain": [
              "0.85"
            ]
          },
          "metadata": {},
          "execution_count": 261
        }
      ]
    },
    {
      "cell_type": "code",
      "source": [
        "sensibilite(Y_test, preds3)"
      ],
      "metadata": {
        "colab": {
          "base_uri": "https://localhost:8080/"
        },
        "outputId": "ef4cdb49-4367-4d47-ec4d-d02d22888423",
        "id": "MQOsFFQ6uGBf"
      },
      "execution_count": 262,
      "outputs": [
        {
          "output_type": "execute_result",
          "data": {
            "text/plain": [
              "0.85"
            ]
          },
          "metadata": {},
          "execution_count": 262
        }
      ]
    },
    {
      "cell_type": "code",
      "source": [
        "specifite(Y_test, preds3)"
      ],
      "metadata": {
        "colab": {
          "base_uri": "https://localhost:8080/"
        },
        "outputId": "8139fca1-1614-4bd4-ce7e-3ff28d6d0987",
        "id": "mM4JBuWiuGBf"
      },
      "execution_count": 263,
      "outputs": [
        {
          "output_type": "execute_result",
          "data": {
            "text/plain": [
              "0.6774193548387096"
            ]
          },
          "metadata": {},
          "execution_count": 263
        }
      ]
    },
    {
      "cell_type": "code",
      "source": [
        "présicion_négative(Y_test, preds3)"
      ],
      "metadata": {
        "colab": {
          "base_uri": "https://localhost:8080/"
        },
        "outputId": "81002d81-7d1d-4d37-a713-d660ab835458",
        "id": "6_VmQRhwuGBg"
      },
      "execution_count": 264,
      "outputs": [
        {
          "output_type": "execute_result",
          "data": {
            "text/plain": [
              "0.875"
            ]
          },
          "metadata": {},
          "execution_count": 264
        }
      ]
    },
    {
      "cell_type": "code",
      "source": [
        "présicion_positive(Y_test, preds3)"
      ],
      "metadata": {
        "colab": {
          "base_uri": "https://localhost:8080/"
        },
        "outputId": "032a65dd-f78d-4e54-8da4-650b4c92ead9",
        "id": "WaWhbVz0uGBh"
      },
      "execution_count": 265,
      "outputs": [
        {
          "output_type": "execute_result",
          "data": {
            "text/plain": [
              "0.6296296296296297"
            ]
          },
          "metadata": {},
          "execution_count": 265
        }
      ]
    },
    {
      "cell_type": "code",
      "source": [
        "balancedacc(Y_test, preds3)"
      ],
      "metadata": {
        "colab": {
          "base_uri": "https://localhost:8080/"
        },
        "outputId": "bf929ee0-4cd1-4f11-d75f-eb60af5b3e01",
        "id": "vD0WviqluGBi"
      },
      "execution_count": 266,
      "outputs": [
        {
          "output_type": "execute_result",
          "data": {
            "text/plain": [
              "0.7523148148148149"
            ]
          },
          "metadata": {},
          "execution_count": 266
        }
      ]
    },
    {
      "cell_type": "code",
      "source": [
        "kappa(Y_test, preds3)"
      ],
      "metadata": {
        "colab": {
          "base_uri": "https://localhost:8080/"
        },
        "outputId": "e6e5c48a-e53c-445f-c630-02a422789fea",
        "id": "fkjFRlqVuGBj"
      },
      "execution_count": 267,
      "outputs": [
        {
          "output_type": "execute_result",
          "data": {
            "text/plain": [
              "0.4965831435079726"
            ]
          },
          "metadata": {},
          "execution_count": 267
        }
      ]
    },
    {
      "cell_type": "code",
      "source": [
        "y_pred_proba = Classifier3.predict_proba(X_test)[::,1]\n",
        "fpr, tpr, _ = metrics.roc_curve(Y_test,  y_pred_proba)\n",
        "auc = metrics.roc_auc_score(Y_test, y_pred_proba)\n",
        "plt.plot(fpr,tpr,label=\"gradient_boosting, auc=\"+str(auc))\n",
        "plt.legend(loc=4)\n",
        "plt.show()"
      ],
      "metadata": {
        "colab": {
          "base_uri": "https://localhost:8080/",
          "height": 265
        },
        "outputId": "0f2e2b00-59d3-4303-a3ad-05f162e87ce0",
        "id": "AIZJ2moWuGBj"
      },
      "execution_count": 268,
      "outputs": [
        {
          "output_type": "display_data",
          "data": {
            "image/png": "[encoded data removed]",
            "text/plain": [
              "<Figure size 432x288 with 1 Axes>"
            ]
          },
          "metadata": {
            "needs_background": "light"
          }
        }
      ]
    },
    {
      "cell_type": "markdown",
      "source": [
        "# Gaussian"
      ],
      "metadata": {
        "id": "M_oLoKwYyQ5r"
      }
    },
    {
      "cell_type": "code",
      "source": [
        "Classifier4 = GaussianNB()"
      ],
      "metadata": {
        "id": "R3n-YXTPyOrL"
      },
      "execution_count": 269,
      "outputs": []
    },
    {
      "cell_type": "code",
      "source": [
        "Classifier4.fit(X_app,Y_app)"
      ],
      "metadata": {
        "colab": {
          "base_uri": "https://localhost:8080/"
        },
        "outputId": "9d913b20-c986-485e-e010-d6299d5d8923",
        "id": "CqAOx3ZxyOrM"
      },
      "execution_count": 270,
      "outputs": [
        {
          "output_type": "execute_result",
          "data": {
            "text/plain": [
              "GaussianNB()"
            ]
          },
          "metadata": {},
          "execution_count": 270
        }
      ]
    },
    {
      "cell_type": "code",
      "metadata": {
        "id": "sUQwDdgHyOrN"
      },
      "source": [
        "preds4 = Classifier4.predict(X_test)"
      ],
      "execution_count": 271,
      "outputs": []
    },
    {
      "cell_type": "code",
      "metadata": {
        "colab": {
          "base_uri": "https://localhost:8080/"
        },
        "outputId": "cb96d8e3-f45e-4f0d-fac2-c49dde0e6779",
        "id": "wgNGL6VZyOrN"
      },
      "source": [
        "preds4"
      ],
      "execution_count": 272,
      "outputs": [
        {
          "output_type": "execute_result",
          "data": {
            "text/plain": [
              "array([0, 1, 1, 1, 0, 0, 0, 0, 0, 0, 1, 1, 1, 0, 1, 0, 0, 0, 0, 0, 0, 0,\n",
              "       0, 0, 0, 0, 1, 1, 0, 0, 0, 0, 0, 0, 0, 0, 1, 1, 1, 1, 1, 1, 1, 1,\n",
              "       1, 0, 0, 0, 1, 1, 1])"
            ]
          },
          "metadata": {},
          "execution_count": 272
        }
      ]
    },
    {
      "cell_type": "code",
      "metadata": {
        "colab": {
          "base_uri": "https://localhost:8080/"
        },
        "outputId": "14062cd1-a573-4bb1-edb7-456297dbc4e9",
        "id": "lrM0H5CtyOrO"
      },
      "source": [
        "cf_matrix4 = confusion_matrix(Y_test, preds4)\n",
        "print(cf_matrix4)"
      ],
      "execution_count": 273,
      "outputs": [
        {
          "output_type": "stream",
          "name": "stdout",
          "text": [
            "[[25  6]\n",
            " [ 5 15]]\n"
          ]
        }
      ]
    },
    {
      "cell_type": "code",
      "source": [
        "MCC(Y_test, preds4)"
      ],
      "metadata": {
        "colab": {
          "base_uri": "https://localhost:8080/"
        },
        "outputId": "eca6df87-3dca-4f5b-ad2d-3da7ff40b20d",
        "id": "saxhWxoLyOrP"
      },
      "execution_count": 274,
      "outputs": [
        {
          "output_type": "execute_result",
          "data": {
            "text/plain": [
              "0.5520176648479173"
            ]
          },
          "metadata": {},
          "execution_count": 274
        }
      ]
    },
    {
      "cell_type": "code",
      "source": [
        "recall(Y_test, preds4)"
      ],
      "metadata": {
        "colab": {
          "base_uri": "https://localhost:8080/"
        },
        "outputId": "56ac2863-590a-47da-cea0-3bfc9c1930ea",
        "id": "x3ajiHmiyOrP"
      },
      "execution_count": 275,
      "outputs": [
        {
          "output_type": "execute_result",
          "data": {
            "text/plain": [
              "0.75"
            ]
          },
          "metadata": {},
          "execution_count": 275
        }
      ]
    },
    {
      "cell_type": "code",
      "source": [
        "sensibilite(Y_test, preds4)"
      ],
      "metadata": {
        "colab": {
          "base_uri": "https://localhost:8080/"
        },
        "outputId": "5471a97c-f5d5-485f-a167-b70c7cf62891",
        "id": "rhznxgVNyOrQ"
      },
      "execution_count": 276,
      "outputs": [
        {
          "output_type": "execute_result",
          "data": {
            "text/plain": [
              "0.75"
            ]
          },
          "metadata": {},
          "execution_count": 276
        }
      ]
    },
    {
      "cell_type": "code",
      "source": [
        "specifite(Y_test, preds4)"
      ],
      "metadata": {
        "colab": {
          "base_uri": "https://localhost:8080/"
        },
        "outputId": "81a3b079-5bb8-445a-8499-61843234d6eb",
        "id": "wH2MIF2XyOrR"
      },
      "execution_count": 277,
      "outputs": [
        {
          "output_type": "execute_result",
          "data": {
            "text/plain": [
              "0.8064516129032258"
            ]
          },
          "metadata": {},
          "execution_count": 277
        }
      ]
    },
    {
      "cell_type": "code",
      "source": [
        "présicion_négative(Y_test, preds4)"
      ],
      "metadata": {
        "colab": {
          "base_uri": "https://localhost:8080/"
        },
        "outputId": "2ed4c6fe-ccc8-4016-858e-25fc2ab8b4b4",
        "id": "jDbUhczcyOrS"
      },
      "execution_count": 278,
      "outputs": [
        {
          "output_type": "execute_result",
          "data": {
            "text/plain": [
              "0.8333333333333334"
            ]
          },
          "metadata": {},
          "execution_count": 278
        }
      ]
    },
    {
      "cell_type": "code",
      "source": [
        "présicion_positive(Y_test, preds4)"
      ],
      "metadata": {
        "colab": {
          "base_uri": "https://localhost:8080/"
        },
        "outputId": "d37408a3-212e-4ba9-80f1-d53b1e4f5a2a",
        "id": "LT4yf35CyOrT"
      },
      "execution_count": 279,
      "outputs": [
        {
          "output_type": "execute_result",
          "data": {
            "text/plain": [
              "0.7142857142857143"
            ]
          },
          "metadata": {},
          "execution_count": 279
        }
      ]
    },
    {
      "cell_type": "code",
      "source": [
        "balancedacc(Y_test, preds4)"
      ],
      "metadata": {
        "colab": {
          "base_uri": "https://localhost:8080/"
        },
        "outputId": "e07a0261-6a12-4c36-d6d6-b234af5fae71",
        "id": "y9KqoG0eyOrU"
      },
      "execution_count": 280,
      "outputs": [
        {
          "output_type": "execute_result",
          "data": {
            "text/plain": [
              "0.7738095238095238"
            ]
          },
          "metadata": {},
          "execution_count": 280
        }
      ]
    },
    {
      "cell_type": "code",
      "source": [
        "kappa(Y_test, preds4)"
      ],
      "metadata": {
        "colab": {
          "base_uri": "https://localhost:8080/"
        },
        "outputId": "3c214159-d4e5-4f17-a858-af718cf491bb",
        "id": "4MwUWhdByOrU"
      },
      "execution_count": 281,
      "outputs": [
        {
          "output_type": "execute_result",
          "data": {
            "text/plain": [
              "0.5515587529976019"
            ]
          },
          "metadata": {},
          "execution_count": 281
        }
      ]
    },
    {
      "cell_type": "code",
      "source": [
        "y_pred_proba = Classifier4.predict_proba(X_test)[::,1]\n",
        "fpr, tpr, _ = metrics.roc_curve(Y_test,  y_pred_proba)\n",
        "auc = metrics.roc_auc_score(Y_test, y_pred_proba)\n",
        "plt.plot(fpr,tpr,label=\"gaussian, auc=\"+str(auc))\n",
        "plt.legend(loc=4)\n",
        "plt.show()"
      ],
      "metadata": {
        "colab": {
          "base_uri": "https://localhost:8080/",
          "height": 265
        },
        "outputId": "0847112d-9956-48a8-c3a6-47c1974a7105",
        "id": "8no7Z5gvyOrV"
      },
      "execution_count": 282,
      "outputs": [
        {
          "output_type": "display_data",
          "data": {
            "image/png": "[encoded data removed]",
            "text/plain": [
              "<Figure size 432x288 with 1 Axes>"
            ]
          },
          "metadata": {
            "needs_background": "light"
          }
        }
      ]
    },
    {
      "cell_type": "markdown",
      "source": [
        "# KNN"
      ],
      "metadata": {
        "id": "MjRfnmXjz57x"
      }
    },
    {
      "cell_type": "code",
      "source": [
        "Classifier5 = KNeighborsClassifier(n_neighbors=5)"
      ],
      "metadata": {
        "id": "OsjObBSfz4IN"
      },
      "execution_count": 396,
      "outputs": []
    },
    {
      "cell_type": "code",
      "source": [
        "Classifier5.fit(X_app,Y_app)"
      ],
      "metadata": {
        "colab": {
          "base_uri": "https://localhost:8080/"
        },
        "outputId": "34de800d-1719-4c0b-d595-a204fcbe80cb",
        "id": "nB069cUFz4IP"
      },
      "execution_count": 397,
      "outputs": [
        {
          "output_type": "execute_result",
          "data": {
            "text/plain": [
              "KNeighborsClassifier()"
            ]
          },
          "metadata": {},
          "execution_count": 397
        }
      ]
    },
    {
      "cell_type": "code",
      "metadata": {
        "id": "ubEW3-dVz4IQ"
      },
      "source": [
        "preds5 = Classifier5.predict(X_test)"
      ],
      "execution_count": 398,
      "outputs": []
    },
    {
      "cell_type": "code",
      "metadata": {
        "colab": {
          "base_uri": "https://localhost:8080/"
        },
        "outputId": "8bdb3a94-88c7-4e26-f377-5b7d0d561b33",
        "id": "Jt1k3-_iz4IQ"
      },
      "source": [
        "preds5"
      ],
      "execution_count": 399,
      "outputs": [
        {
          "output_type": "execute_result",
          "data": {
            "text/plain": [
              "array([1, 1, 1, 1, 0, 0, 0, 1, 0, 1, 0, 1, 1, 1, 1, 0, 0, 0, 0, 1, 1, 1,\n",
              "       0, 1, 0, 1, 0, 1, 0, 0, 1, 1, 0, 0, 0, 0, 0, 1, 1, 0, 0, 1, 1, 1,\n",
              "       0, 0, 0, 0, 1, 1, 1])"
            ]
          },
          "metadata": {},
          "execution_count": 399
        }
      ]
    },
    {
      "cell_type": "code",
      "metadata": {
        "colab": {
          "base_uri": "https://localhost:8080/"
        },
        "outputId": "ebc780b2-b9e1-4222-b57f-f0945b778515",
        "id": "Cur8wap4z4IR"
      },
      "source": [
        "cf_matrix5 = confusion_matrix(Y_test, preds5)\n",
        "print(cf_matrix5)"
      ],
      "execution_count": 400,
      "outputs": [
        {
          "output_type": "stream",
          "name": "stdout",
          "text": [
            "[[18 13]\n",
            " [ 7 13]]\n"
          ]
        }
      ]
    },
    {
      "cell_type": "code",
      "source": [
        "MCC(Y_test, preds5)"
      ],
      "metadata": {
        "colab": {
          "base_uri": "https://localhost:8080/"
        },
        "outputId": "2aa468d0-4b0a-49ad-8628-4f088d71382d",
        "id": "CCCChR6jz4IS"
      },
      "execution_count": 401,
      "outputs": [
        {
          "output_type": "execute_result",
          "data": {
            "text/plain": [
              "0.22525970674728088"
            ]
          },
          "metadata": {},
          "execution_count": 401
        }
      ]
    },
    {
      "cell_type": "code",
      "source": [
        "recall(Y_test, preds5)"
      ],
      "metadata": {
        "colab": {
          "base_uri": "https://localhost:8080/"
        },
        "outputId": "25ef63f6-a50e-4cbe-8af7-e657a7c03815",
        "id": "7hSSJP_Dz4IS"
      },
      "execution_count": 402,
      "outputs": [
        {
          "output_type": "execute_result",
          "data": {
            "text/plain": [
              "0.65"
            ]
          },
          "metadata": {},
          "execution_count": 402
        }
      ]
    },
    {
      "cell_type": "code",
      "source": [
        "sensibilite(Y_test, preds5)"
      ],
      "metadata": {
        "colab": {
          "base_uri": "https://localhost:8080/"
        },
        "outputId": "abf70e2f-71d5-4a80-d70c-65eb0e0d9249",
        "id": "AlNCQlajz4IT"
      },
      "execution_count": 403,
      "outputs": [
        {
          "output_type": "execute_result",
          "data": {
            "text/plain": [
              "0.65"
            ]
          },
          "metadata": {},
          "execution_count": 403
        }
      ]
    },
    {
      "cell_type": "code",
      "source": [
        "specifite(Y_test, preds5)"
      ],
      "metadata": {
        "colab": {
          "base_uri": "https://localhost:8080/"
        },
        "outputId": "dbd9ce47-8c4e-4055-d118-b50901461b41",
        "id": "fQZd8sYbz4IU"
      },
      "execution_count": 404,
      "outputs": [
        {
          "output_type": "execute_result",
          "data": {
            "text/plain": [
              "0.5806451612903226"
            ]
          },
          "metadata": {},
          "execution_count": 404
        }
      ]
    },
    {
      "cell_type": "code",
      "source": [
        "présicion_négative(Y_test, preds5)"
      ],
      "metadata": {
        "colab": {
          "base_uri": "https://localhost:8080/"
        },
        "outputId": "f5551b9e-1274-44d0-f607-eed89c69f60d",
        "id": "eiy_lIEAz4IV"
      },
      "execution_count": 405,
      "outputs": [
        {
          "output_type": "execute_result",
          "data": {
            "text/plain": [
              "0.72"
            ]
          },
          "metadata": {},
          "execution_count": 405
        }
      ]
    },
    {
      "cell_type": "code",
      "source": [
        "présicion_positive(Y_test, preds5)"
      ],
      "metadata": {
        "colab": {
          "base_uri": "https://localhost:8080/"
        },
        "outputId": "de0902e8-f51b-4e4b-d6e2-b78b9f730dc5",
        "id": "yDxiQZ1oz4IW"
      },
      "execution_count": 406,
      "outputs": [
        {
          "output_type": "execute_result",
          "data": {
            "text/plain": [
              "0.5"
            ]
          },
          "metadata": {},
          "execution_count": 406
        }
      ]
    },
    {
      "cell_type": "code",
      "source": [
        "balancedacc(Y_test, preds5)"
      ],
      "metadata": {
        "colab": {
          "base_uri": "https://localhost:8080/"
        },
        "outputId": "2a0c238d-5a29-4e52-bf6a-8b011aa41d54",
        "id": "4lrr3y6jz4IW"
      },
      "execution_count": 407,
      "outputs": [
        {
          "output_type": "execute_result",
          "data": {
            "text/plain": [
              "0.61"
            ]
          },
          "metadata": {},
          "execution_count": 407
        }
      ]
    },
    {
      "cell_type": "code",
      "source": [
        "kappa(Y_test, preds5)"
      ],
      "metadata": {
        "colab": {
          "base_uri": "https://localhost:8080/"
        },
        "outputId": "7f20e260-4cb5-4250-c0aa-f9fbd6ff5ea0",
        "id": "r0uSmog4z4IX"
      },
      "execution_count": 408,
      "outputs": [
        {
          "output_type": "execute_result",
          "data": {
            "text/plain": [
              "0.21898928024502307"
            ]
          },
          "metadata": {},
          "execution_count": 408
        }
      ]
    },
    {
      "cell_type": "code",
      "source": [
        "y_pred_proba = Classifier5.predict_proba(X_test)[::,1]\n",
        "fpr, tpr, _ = metrics.roc_curve(Y_test,  y_pred_proba)\n",
        "auc = metrics.roc_auc_score(Y_test, y_pred_proba)\n",
        "plt.plot(fpr,tpr,label=\"Knn, auc=\"+str(auc))\n",
        "plt.legend(loc=4)\n",
        "plt.show()"
      ],
      "metadata": {
        "colab": {
          "base_uri": "https://localhost:8080/",
          "height": 265
        },
        "outputId": "f86bf24d-f667-4184-e3fc-2c3f2f61256e",
        "id": "iQ65_5xLz4IX"
      },
      "execution_count": 440,
      "outputs": [
        {
          "output_type": "display_data",
          "data": {
            "image/png": "[encoded data removed]",
            "text/plain": [
              "<Figure size 432x288 with 1 Axes>"
            ]
          },
          "metadata": {
            "needs_background": "light"
          }
        }
      ]
    },
    {
      "cell_type": "markdown",
      "source": [
        "# MLPC"
      ],
      "metadata": {
        "id": "JSOjmzRT48EB"
      }
    },
    {
      "cell_type": "code",
      "source": [
        "from sklearn.neural_network import MLPClassifier"
      ],
      "metadata": {
        "id": "kTrWiH8BgHUe"
      },
      "execution_count": 410,
      "outputs": []
    },
    {
      "cell_type": "code",
      "source": [
        "Classifier6 = MLPClassifier(hidden_layer_sizes=100,max_iter=300)"
      ],
      "metadata": {
        "id": "u8ZCVkyH7au6"
      },
      "execution_count": 411,
      "outputs": []
    },
    {
      "cell_type": "code",
      "source": [
        "Classifier6.fit(X_app,Y_app)"
      ],
      "metadata": {
        "colab": {
          "base_uri": "https://localhost:8080/"
        },
        "outputId": "52b772c2-d7a6-45c6-8441-61561b64c4e2",
        "id": "3q96K7k_7au7"
      },
      "execution_count": 412,
      "outputs": [
        {
          "output_type": "execute_result",
          "data": {
            "text/plain": [
              "MLPClassifier(hidden_layer_sizes=100, max_iter=300)"
            ]
          },
          "metadata": {},
          "execution_count": 412
        }
      ]
    },
    {
      "cell_type": "code",
      "metadata": {
        "id": "bmwFgVgZ7au9"
      },
      "source": [
        "preds6 = Classifier6.predict(X_test)"
      ],
      "execution_count": 413,
      "outputs": []
    },
    {
      "cell_type": "code",
      "metadata": {
        "colab": {
          "base_uri": "https://localhost:8080/"
        },
        "outputId": "9aababe8-1dfb-4218-81ae-0fba3bb7256a",
        "id": "fw-in7Pn7au_"
      },
      "source": [
        "preds6"
      ],
      "execution_count": 414,
      "outputs": [
        {
          "output_type": "execute_result",
          "data": {
            "text/plain": [
              "array([1, 1, 1, 1, 0, 0, 0, 0, 0, 0, 1, 1, 1, 1, 1, 0, 0, 0, 0, 0, 0, 0,\n",
              "       0, 0, 0, 1, 1, 0, 0, 1, 0, 0, 1, 1, 1, 0, 0, 1, 1, 1, 1, 1, 0, 1,\n",
              "       1, 0, 1, 0, 1, 1, 1])"
            ]
          },
          "metadata": {},
          "execution_count": 414
        }
      ]
    },
    {
      "cell_type": "code",
      "metadata": {
        "colab": {
          "base_uri": "https://localhost:8080/"
        },
        "outputId": "e273bc0b-b5ce-4895-c300-a3e1356031fa",
        "id": "_lfXsjfr7avA"
      },
      "source": [
        "cf_matrix6 = confusion_matrix(Y_test, preds6)\n",
        "print(cf_matrix6)"
      ],
      "execution_count": 415,
      "outputs": [
        {
          "output_type": "stream",
          "name": "stdout",
          "text": [
            "[[21 10]\n",
            " [ 4 16]]\n"
          ]
        }
      ]
    },
    {
      "cell_type": "code",
      "source": [
        "MCC(Y_test, preds6)"
      ],
      "metadata": {
        "colab": {
          "base_uri": "https://localhost:8080/"
        },
        "outputId": "afd9043b-ffc4-427e-eec5-cb1fde837f63",
        "id": "7pu_dMGr7avB"
      },
      "execution_count": 416,
      "outputs": [
        {
          "output_type": "execute_result",
          "data": {
            "text/plain": [
              "0.4662718405398261"
            ]
          },
          "metadata": {},
          "execution_count": 416
        }
      ]
    },
    {
      "cell_type": "code",
      "source": [
        "recall(Y_test, preds6)"
      ],
      "metadata": {
        "colab": {
          "base_uri": "https://localhost:8080/"
        },
        "outputId": "a7703e2e-b2da-4f15-c254-2a6a24ebb0ed",
        "id": "q910vxIg7avC"
      },
      "execution_count": 417,
      "outputs": [
        {
          "output_type": "execute_result",
          "data": {
            "text/plain": [
              "0.8"
            ]
          },
          "metadata": {},
          "execution_count": 417
        }
      ]
    },
    {
      "cell_type": "code",
      "source": [
        "sensibilite(Y_test, preds6)"
      ],
      "metadata": {
        "colab": {
          "base_uri": "https://localhost:8080/"
        },
        "outputId": "5c3b57be-0fa4-4d78-81a1-008c71bca46e",
        "id": "-EHzWArf7avC"
      },
      "execution_count": 418,
      "outputs": [
        {
          "output_type": "execute_result",
          "data": {
            "text/plain": [
              "0.8"
            ]
          },
          "metadata": {},
          "execution_count": 418
        }
      ]
    },
    {
      "cell_type": "code",
      "source": [
        "specifite(Y_test, preds6)"
      ],
      "metadata": {
        "colab": {
          "base_uri": "https://localhost:8080/"
        },
        "outputId": "526ebb17-a085-4bef-88b6-fa00d03b0495",
        "id": "Dht6FOif7avD"
      },
      "execution_count": 419,
      "outputs": [
        {
          "output_type": "execute_result",
          "data": {
            "text/plain": [
              "0.6774193548387096"
            ]
          },
          "metadata": {},
          "execution_count": 419
        }
      ]
    },
    {
      "cell_type": "code",
      "source": [
        "présicion_négative(Y_test, preds6)"
      ],
      "metadata": {
        "colab": {
          "base_uri": "https://localhost:8080/"
        },
        "outputId": "65035191-c1a9-43f5-dc0e-f36614dde852",
        "id": "EvET3j2E7avD"
      },
      "execution_count": 420,
      "outputs": [
        {
          "output_type": "execute_result",
          "data": {
            "text/plain": [
              "0.84"
            ]
          },
          "metadata": {},
          "execution_count": 420
        }
      ]
    },
    {
      "cell_type": "code",
      "source": [
        "présicion_positive(Y_test, preds6)"
      ],
      "metadata": {
        "colab": {
          "base_uri": "https://localhost:8080/"
        },
        "outputId": "4e4acf7b-62cc-4ba7-9e51-e2bcd6f330fa",
        "id": "swTtPanh7avE"
      },
      "execution_count": 421,
      "outputs": [
        {
          "output_type": "execute_result",
          "data": {
            "text/plain": [
              "0.6153846153846154"
            ]
          },
          "metadata": {},
          "execution_count": 421
        }
      ]
    },
    {
      "cell_type": "code",
      "source": [
        "balancedacc(Y_test, preds6)"
      ],
      "metadata": {
        "colab": {
          "base_uri": "https://localhost:8080/"
        },
        "outputId": "caa4525a-5c59-4ee9-a824-ef54cb4c3684",
        "id": "sjrSKyAD7avF"
      },
      "execution_count": 422,
      "outputs": [
        {
          "output_type": "execute_result",
          "data": {
            "text/plain": [
              "0.7276923076923076"
            ]
          },
          "metadata": {},
          "execution_count": 422
        }
      ]
    },
    {
      "cell_type": "code",
      "source": [
        "kappa(Y_test, preds6)"
      ],
      "metadata": {
        "colab": {
          "base_uri": "https://localhost:8080/"
        },
        "outputId": "3a01ab7a-d28d-43f8-8414-03892c6d51af",
        "id": "yuImLPCt7avG"
      },
      "execution_count": 423,
      "outputs": [
        {
          "output_type": "execute_result",
          "data": {
            "text/plain": [
              "0.4532924961715161"
            ]
          },
          "metadata": {},
          "execution_count": 423
        }
      ]
    },
    {
      "cell_type": "code",
      "source": [
        "y_pred_proba = Classifier6.predict_proba(X_test)[::,1]\n",
        "fpr, tpr, _ = metrics.roc_curve(Y_test,  y_pred_proba)\n",
        "auc = metrics.roc_auc_score(Y_test, y_pred_proba)\n",
        "plt.plot(fpr,tpr,label=\"MLPC, auc=\"+str(auc))\n",
        "plt.legend(loc=4)\n",
        "plt.show()"
      ],
      "metadata": {
        "colab": {
          "base_uri": "https://localhost:8080/",
          "height": 265
        },
        "outputId": "812a6afa-9f87-44f6-cc39-4fa411004476",
        "id": "axoaIvAd7avG"
      },
      "execution_count": 441,
      "outputs": [
        {
          "output_type": "display_data",
          "data": {
            "image/png": "[encoded data removed]",
            "text/plain": [
              "<Figure size 432x288 with 1 Axes>"
            ]
          },
          "metadata": {
            "needs_background": "light"
          }
        }
      ]
    },
    {
      "cell_type": "markdown",
      "source": [
        "# SVM"
      ],
      "metadata": {
        "id": "ZrStCapd-xfv"
      }
    },
    {
      "cell_type": "code",
      "source": [
        "Classifier7 = svm.SVC(kernel='rbf',gamma=0.05,C=12)"
      ],
      "metadata": {
        "id": "bL7fPd6m-xfx"
      },
      "execution_count": 425,
      "outputs": []
    },
    {
      "cell_type": "code",
      "source": [
        "Classifier7.fit(X_app,Y_app)"
      ],
      "metadata": {
        "colab": {
          "base_uri": "https://localhost:8080/"
        },
        "outputId": "0f739956-4074-4c12-e05b-9b8f0a2768c8",
        "id": "-6xFLeXo-xfz"
      },
      "execution_count": 426,
      "outputs": [
        {
          "output_type": "execute_result",
          "data": {
            "text/plain": [
              "SVC(C=12, gamma=0.05)"
            ]
          },
          "metadata": {},
          "execution_count": 426
        }
      ]
    },
    {
      "cell_type": "code",
      "metadata": {
        "id": "RgkyEzm5-xf0"
      },
      "source": [
        "preds7 = Classifier7.predict(X_test)"
      ],
      "execution_count": 427,
      "outputs": []
    },
    {
      "cell_type": "code",
      "metadata": {
        "colab": {
          "base_uri": "https://localhost:8080/"
        },
        "outputId": "9e9149ec-95bc-4481-e2a5-1fba03fe6849",
        "id": "NFvKopxU-xf0"
      },
      "source": [
        "preds7"
      ],
      "execution_count": 428,
      "outputs": [
        {
          "output_type": "execute_result",
          "data": {
            "text/plain": [
              "array([1, 1, 1, 1, 0, 0, 0, 1, 0, 1, 1, 1, 1, 1, 1, 0, 1, 1, 0, 1, 1, 1,\n",
              "       1, 1, 1, 0, 1, 1, 1, 1, 1, 1, 0, 1, 0, 1, 0, 1, 1, 0, 1, 0, 0, 1,\n",
              "       1, 1, 1, 1, 1, 1, 0])"
            ]
          },
          "metadata": {},
          "execution_count": 428
        }
      ]
    },
    {
      "cell_type": "code",
      "metadata": {
        "colab": {
          "base_uri": "https://localhost:8080/"
        },
        "outputId": "7da460cc-a658-4f46-f6ad-cf2becfb7c0e",
        "id": "-M83HpkZ-xf1"
      },
      "source": [
        "cf_matrix7 = confusion_matrix(Y_test, preds7)\n",
        "print(cf_matrix7)"
      ],
      "execution_count": 429,
      "outputs": [
        {
          "output_type": "stream",
          "name": "stdout",
          "text": [
            "[[ 9 22]\n",
            " [ 5 15]]\n"
          ]
        }
      ]
    },
    {
      "cell_type": "code",
      "source": [
        "MCC(Y_test, preds7)"
      ],
      "metadata": {
        "colab": {
          "base_uri": "https://localhost:8080/"
        },
        "outputId": "d2454924-9670-4782-919d-84072430d359",
        "id": "ANDDZOPd-xf2"
      },
      "execution_count": 430,
      "outputs": [
        {
          "output_type": "execute_result",
          "data": {
            "text/plain": [
              "0.04411428900546388"
            ]
          },
          "metadata": {},
          "execution_count": 430
        }
      ]
    },
    {
      "cell_type": "code",
      "source": [
        "recall(Y_test, preds7)"
      ],
      "metadata": {
        "colab": {
          "base_uri": "https://localhost:8080/"
        },
        "outputId": "26648d2a-8c8d-4f2e-d135-f362036a7bc6",
        "id": "lg9p7hmj-xf3"
      },
      "execution_count": 431,
      "outputs": [
        {
          "output_type": "execute_result",
          "data": {
            "text/plain": [
              "0.75"
            ]
          },
          "metadata": {},
          "execution_count": 431
        }
      ]
    },
    {
      "cell_type": "code",
      "source": [
        "sensibilite(Y_test, preds7)"
      ],
      "metadata": {
        "colab": {
          "base_uri": "https://localhost:8080/"
        },
        "outputId": "97fa2251-91b6-4df4-b6dc-dd01bf4900f1",
        "id": "_WPsB_k_-xf3"
      },
      "execution_count": 432,
      "outputs": [
        {
          "output_type": "execute_result",
          "data": {
            "text/plain": [
              "0.75"
            ]
          },
          "metadata": {},
          "execution_count": 432
        }
      ]
    },
    {
      "cell_type": "code",
      "source": [
        "specifite(Y_test, preds7)"
      ],
      "metadata": {
        "id": "LD3aqdbx-xf4",
        "outputId": "7f767051-a7cf-47cb-e85b-4c23604ed4d7",
        "colab": {
          "base_uri": "https://localhost:8080/"
        }
      },
      "execution_count": 433,
      "outputs": [
        {
          "output_type": "execute_result",
          "data": {
            "text/plain": [
              "0.2903225806451613"
            ]
          },
          "metadata": {},
          "execution_count": 433
        }
      ]
    },
    {
      "cell_type": "code",
      "source": [
        "présicion_négative(Y_test, preds7)"
      ],
      "metadata": {
        "colab": {
          "base_uri": "https://localhost:8080/"
        },
        "outputId": "f08299d9-22e5-4a2f-d234-6f061aeb8611",
        "id": "oq8CHk5h-xf4"
      },
      "execution_count": 434,
      "outputs": [
        {
          "output_type": "execute_result",
          "data": {
            "text/plain": [
              "0.6428571428571429"
            ]
          },
          "metadata": {},
          "execution_count": 434
        }
      ]
    },
    {
      "cell_type": "code",
      "source": [
        "présicion_positive(Y_test, preds7)"
      ],
      "metadata": {
        "colab": {
          "base_uri": "https://localhost:8080/"
        },
        "outputId": "996f712b-b7d4-4162-a3d2-3eacac7daa26",
        "id": "7ExhWirz-xf5"
      },
      "execution_count": 435,
      "outputs": [
        {
          "output_type": "execute_result",
          "data": {
            "text/plain": [
              "0.40540540540540543"
            ]
          },
          "metadata": {},
          "execution_count": 435
        }
      ]
    },
    {
      "cell_type": "code",
      "source": [
        "balancedacc(Y_test, preds7)"
      ],
      "metadata": {
        "colab": {
          "base_uri": "https://localhost:8080/"
        },
        "outputId": "d68e449f-aa1c-4e4f-c824-06bb89575516",
        "id": "3O2CWE-V-xf6"
      },
      "execution_count": 436,
      "outputs": [
        {
          "output_type": "execute_result",
          "data": {
            "text/plain": [
              "0.5241312741312741"
            ]
          },
          "metadata": {},
          "execution_count": 436
        }
      ]
    },
    {
      "cell_type": "code",
      "source": [
        "kappa(Y_test, preds7)"
      ],
      "metadata": {
        "colab": {
          "base_uri": "https://localhost:8080/"
        },
        "outputId": "6dae4c78-7d63-4517-8fd4-a1cdac6006a2",
        "id": "qa5wm9Y2-xf6"
      },
      "execution_count": 437,
      "outputs": [
        {
          "output_type": "execute_result",
          "data": {
            "text/plain": [
              "0.035038542396636174"
            ]
          },
          "metadata": {},
          "execution_count": 437
        }
      ]
    },
    {
      "cell_type": "code",
      "source": [
        "from sklearn.metrics import roc_auc_score"
      ],
      "metadata": {
        "id": "5gE_Ahhf5Wi2"
      },
      "execution_count": 438,
      "outputs": []
    },
    {
      "cell_type": "code",
      "source": [
        "roc_auc_score(Y_test, Classifier7.decision_function(X_test))"
      ],
      "metadata": {
        "id": "U3TC1DQW5Wmf",
        "outputId": "cb70daf8-9fc9-4d80-fcdd-4f48274b1a7e",
        "colab": {
          "base_uri": "https://localhost:8080/"
        }
      },
      "execution_count": 439,
      "outputs": [
        {
          "output_type": "execute_result",
          "data": {
            "text/plain": [
              "0.6338709677419354"
            ]
          },
          "metadata": {},
          "execution_count": 439
        }
      ]
    }
  ]
}