{
  "nbformat": 4,
  "nbformat_minor": 0,
  "metadata": {
    "colab": {
      "name": "Untitled79.ipynb",
      "provenance": [],
      "authorship_tag": "ABX9TyMOWOqmq8HvAKSqepV1VSKQ",
      "include_colab_link": true
    },
    "kernelspec": {
      "name": "python3",
      "display_name": "Python 3"
    },
    "language_info": {
      "name": "python"
    }
  },
  "cells": [
    {
      "cell_type": "markdown",
      "metadata": {
        "id": "view-in-github",
        "colab_type": "text"
      },
      "source": [
        "<a href=\"https://colab.research.google.com/github/meriemdouider1/mois1-mois2/blob/main/groupes%20de%20variables/%20test%202%20.ipynb\" target=\"_parent\"><img src=\"https://colab.research.google.com/assets/colab-badge.svg\" alt=\"Open In Colab\"/></a>"
      ]
    },
    {
      "cell_type": "code",
      "metadata": {
        "id": "RlmUgAkuFdId"
      },
      "source": [
        "import sklearn\n",
        "import pandas as pd\n",
        "import numpy as np\n",
        "import matplotlib.pyplot as plt\n",
        "import seaborn as sns\n",
        "from sklearn.model_selection import train_test_split\n",
        "from sklearn.ensemble import RandomForestRegressor, RandomForestClassifier\n",
        "from sklearn.metrics import roc_auc_score, r2_score\n",
        "import sklearn\n",
        "import pandas as pd\n",
        "import numpy as np\n",
        "import matplotlib.pyplot as plt\n",
        "import seaborn as sns\n",
        "from sklearn.naive_bayes import GaussianNB\n",
        "from sklearn.ensemble import BaggingClassifier\n",
        "from sklearn.tree import DecisionTreeClassifier\n",
        "from xgboost import XGBClassifier\n",
        "from sklearn.metrics import accuracy_score\n",
        "from sklearn.metrics import precision_score\n",
        "from sklearn.metrics import recall_score\n",
        "from sklearn.metrics import f1_score\n",
        "from sklearn.metrics import confusion_matrix\n",
        "import numpy\n",
        "import sklearn.metrics as metrics\n",
        "from sklearn.ensemble import RandomForestClassifier\n",
        "from sklearn.neighbors import KNeighborsClassifier\n",
        "from sklearn import svm\n",
        "from sklearn.model_selection import StratifiedKFold\n",
        "from sklearn.model_selection import cross_val_score\n",
        "from sklearn.model_selection import LeaveOneOut\n",
        "from numpy import mean\n",
        "from numpy import std\n",
        "from sklearn.datasets import make_classification\n",
        "from sklearn.model_selection import KFold\n",
        "from sklearn.model_selection import cross_val_score\n",
        "from sklearn.linear_model import LogisticRegression\n",
        "from sklearn.metrics import make_scorer\n",
        "import matplotlib.pyplot as plt\n",
        "from sklearn.model_selection import LeaveOneOut\n",
        "from sklearn.datasets import make_classification\n",
        "from sklearn.ensemble import RandomForestClassifier\n",
        "from sklearn import datasets, metrics, model_selection, svm\n",
        "import numpy as np\n",
        "from sklearn import svm, datasets\n",
        "from sklearn.metrics import auc\n",
        "from sklearn.metrics import plot_roc_curve\n",
        "from sklearn.model_selection import StratifiedKFold\n",
        "from sklearn.datasets import make_classification\n",
        "from sklearn.ensemble import RandomForestClassifier\n",
        "from sklearn import datasets, metrics, model_selection, svm\n",
        "from sklearn.metrics import matthews_corrcoef\n",
        "from sklearn.svm import SVC\n",
        "from sklearn.metrics import cohen_kappa_score\n",
        "from sklearn.ensemble import GradientBoostingClassifier\n",
        "from sklearn.feature_selection import RFE\n",
        "from sklearn.pipeline import Pipeline\n",
        "from matplotlib import pyplot\n",
        "from sklearn.metrics import recall_score\n"
      ],
      "execution_count": 2,
      "outputs": []
    },
    {
      "cell_type": "code",
      "metadata": {
        "id": "eZpW8fsXFrh3"
      },
      "source": [
        "Cl = '/content/axe_app_2.xlsx' \n",
        "apprentissage= pd.read_excel(Cl, sheet_name=0,header=0,index_col=False, keep_default_na=True)"
      ],
      "execution_count": 3,
      "outputs": []
    },
    {
      "cell_type": "code",
      "source": [
        "apprentissage"
      ],
      "metadata": {
        "colab": {
          "base_uri": "https://localhost:8080/",
          "height": 487
        },
        "id": "vLoByxZ1jqnm",
        "outputId": "83c8beb0-6164-44e1-8d37-d245e94a64e2"
      },
      "execution_count": 4,
      "outputs": [
        {
          "output_type": "execute_result",
          "data": {
            "text/html": [
              "\n",
              "  <div id=\"df-8ef3203f-ed7c-4590-b5e8-b59e8aabeebc\">\n",
              "    <div class=\"colab-df-container\">\n",
              "      <div>\n",
              "<style scoped>\n",
              "    .dataframe tbody tr th:only-of-type {\n",
              "        vertical-align: middle;\n",
              "    }\n",
              "\n",
              "    .dataframe tbody tr th {\n",
              "        vertical-align: top;\n",
              "    }\n",
              "\n",
              "    .dataframe thead th {\n",
              "        text-align: right;\n",
              "    }\n",
              "</style>\n",
              "<table border=\"1\" class=\"dataframe\">\n",
              "  <thead>\n",
              "    <tr style=\"text-align: right;\">\n",
              "      <th></th>\n",
              "      <th>axe_groupett</th>\n",
              "      <th>axe_Distribution_des_animaux</th>\n",
              "      <th>axe_indices_de_vegetation</th>\n",
              "      <th>axe_IRM</th>\n",
              "      <th>axe_Occupation_du_Sol</th>\n",
              "      <th>axe_Precipitation</th>\n",
              "      <th>axe_Rad</th>\n",
              "      <th>axe_sol</th>\n",
              "      <th>axe_Temperature</th>\n",
              "      <th>axe_Topographique</th>\n",
              "      <th>axe_vap</th>\n",
              "      <th>axe_vent</th>\n",
              "      <th>Cs_longia</th>\n",
              "    </tr>\n",
              "  </thead>\n",
              "  <tbody>\n",
              "    <tr>\n",
              "      <th>0</th>\n",
              "      <td>-0.165011</td>\n",
              "      <td>-2.321794</td>\n",
              "      <td>5.899955</td>\n",
              "      <td>0.150247</td>\n",
              "      <td>0.724789</td>\n",
              "      <td>0.401111</td>\n",
              "      <td>-206.693527</td>\n",
              "      <td>2.161217</td>\n",
              "      <td>0.017691</td>\n",
              "      <td>-0.000714</td>\n",
              "      <td>-0.034906</td>\n",
              "      <td>-0.388808</td>\n",
              "      <td>1</td>\n",
              "    </tr>\n",
              "    <tr>\n",
              "      <th>1</th>\n",
              "      <td>-0.193088</td>\n",
              "      <td>-2.867319</td>\n",
              "      <td>5.196421</td>\n",
              "      <td>-1.296295</td>\n",
              "      <td>0.651971</td>\n",
              "      <td>0.383420</td>\n",
              "      <td>-96.371429</td>\n",
              "      <td>1.860189</td>\n",
              "      <td>0.026570</td>\n",
              "      <td>-0.000167</td>\n",
              "      <td>0.003787</td>\n",
              "      <td>-0.257363</td>\n",
              "      <td>1</td>\n",
              "    </tr>\n",
              "    <tr>\n",
              "      <th>2</th>\n",
              "      <td>-0.193088</td>\n",
              "      <td>-2.867319</td>\n",
              "      <td>5.196421</td>\n",
              "      <td>-1.296295</td>\n",
              "      <td>0.651971</td>\n",
              "      <td>0.383420</td>\n",
              "      <td>-96.371429</td>\n",
              "      <td>1.860189</td>\n",
              "      <td>0.026570</td>\n",
              "      <td>-0.000167</td>\n",
              "      <td>0.003787</td>\n",
              "      <td>-0.257363</td>\n",
              "      <td>1</td>\n",
              "    </tr>\n",
              "    <tr>\n",
              "      <th>3</th>\n",
              "      <td>0.285950</td>\n",
              "      <td>-2.547017</td>\n",
              "      <td>5.440320</td>\n",
              "      <td>1.837637</td>\n",
              "      <td>0.651971</td>\n",
              "      <td>0.426090</td>\n",
              "      <td>-99.787354</td>\n",
              "      <td>0.857919</td>\n",
              "      <td>-0.030156</td>\n",
              "      <td>-0.000411</td>\n",
              "      <td>0.005402</td>\n",
              "      <td>-0.254525</td>\n",
              "      <td>0</td>\n",
              "    </tr>\n",
              "    <tr>\n",
              "      <th>4</th>\n",
              "      <td>-0.093919</td>\n",
              "      <td>-2.620316</td>\n",
              "      <td>-4.604058</td>\n",
              "      <td>2.152867</td>\n",
              "      <td>0.472991</td>\n",
              "      <td>0.444080</td>\n",
              "      <td>-108.942622</td>\n",
              "      <td>3.265398</td>\n",
              "      <td>-0.053430</td>\n",
              "      <td>-0.000064</td>\n",
              "      <td>0.001216</td>\n",
              "      <td>-0.138054</td>\n",
              "      <td>0</td>\n",
              "    </tr>\n",
              "    <tr>\n",
              "      <th>...</th>\n",
              "      <td>...</td>\n",
              "      <td>...</td>\n",
              "      <td>...</td>\n",
              "      <td>...</td>\n",
              "      <td>...</td>\n",
              "      <td>...</td>\n",
              "      <td>...</td>\n",
              "      <td>...</td>\n",
              "      <td>...</td>\n",
              "      <td>...</td>\n",
              "      <td>...</td>\n",
              "      <td>...</td>\n",
              "      <td>...</td>\n",
              "    </tr>\n",
              "    <tr>\n",
              "      <th>198</th>\n",
              "      <td>-0.081910</td>\n",
              "      <td>-4.559007</td>\n",
              "      <td>-3.692556</td>\n",
              "      <td>0.065121</td>\n",
              "      <td>0.322407</td>\n",
              "      <td>0.257797</td>\n",
              "      <td>39.053289</td>\n",
              "      <td>1.430412</td>\n",
              "      <td>0.083341</td>\n",
              "      <td>-0.000780</td>\n",
              "      <td>-0.005571</td>\n",
              "      <td>-0.297145</td>\n",
              "      <td>1</td>\n",
              "    </tr>\n",
              "    <tr>\n",
              "      <th>199</th>\n",
              "      <td>-0.331927</td>\n",
              "      <td>-1.311407</td>\n",
              "      <td>-0.011768</td>\n",
              "      <td>-1.150864</td>\n",
              "      <td>-0.036415</td>\n",
              "      <td>0.044145</td>\n",
              "      <td>-23.278399</td>\n",
              "      <td>1.643435</td>\n",
              "      <td>0.046807</td>\n",
              "      <td>0.000064</td>\n",
              "      <td>0.004136</td>\n",
              "      <td>-0.168777</td>\n",
              "      <td>1</td>\n",
              "    </tr>\n",
              "    <tr>\n",
              "      <th>200</th>\n",
              "      <td>-0.022746</td>\n",
              "      <td>-3.766470</td>\n",
              "      <td>1.534883</td>\n",
              "      <td>-2.264725</td>\n",
              "      <td>-0.219881</td>\n",
              "      <td>0.229938</td>\n",
              "      <td>102.891674</td>\n",
              "      <td>2.755469</td>\n",
              "      <td>0.039194</td>\n",
              "      <td>-0.000110</td>\n",
              "      <td>-0.000774</td>\n",
              "      <td>-0.274955</td>\n",
              "      <td>1</td>\n",
              "    </tr>\n",
              "    <tr>\n",
              "      <th>201</th>\n",
              "      <td>0.245270</td>\n",
              "      <td>-3.641378</td>\n",
              "      <td>0.725889</td>\n",
              "      <td>0.454767</td>\n",
              "      <td>-0.296282</td>\n",
              "      <td>-0.321261</td>\n",
              "      <td>5.203596</td>\n",
              "      <td>0.659265</td>\n",
              "      <td>-0.036637</td>\n",
              "      <td>0.000210</td>\n",
              "      <td>-0.003457</td>\n",
              "      <td>-0.029365</td>\n",
              "      <td>1</td>\n",
              "    </tr>\n",
              "    <tr>\n",
              "      <th>202</th>\n",
              "      <td>0.008249</td>\n",
              "      <td>-3.170156</td>\n",
              "      <td>9.884708</td>\n",
              "      <td>-0.514727</td>\n",
              "      <td>0.699962</td>\n",
              "      <td>-0.144510</td>\n",
              "      <td>12.627139</td>\n",
              "      <td>2.096776</td>\n",
              "      <td>0.055092</td>\n",
              "      <td>-0.000379</td>\n",
              "      <td>-0.000377</td>\n",
              "      <td>-0.149439</td>\n",
              "      <td>1</td>\n",
              "    </tr>\n",
              "  </tbody>\n",
              "</table>\n",
              "<p>203 rows × 13 columns</p>\n",
              "</div>\n",
              "      <button class=\"colab-df-convert\" onclick=\"convertToInteractive('df-8ef3203f-ed7c-4590-b5e8-b59e8aabeebc')\"\n",
              "              title=\"Convert this dataframe to an interactive table.\"\n",
              "              style=\"display:none;\">\n",
              "        \n",
              "  <svg xmlns=\"http://www.w3.org/2000/svg\" height=\"24px\"viewBox=\"0 0 24 24\"\n",
              "       width=\"24px\">\n",
              "    <path d=\"M0 0h24v24H0V0z\" fill=\"none\"/>\n",
              "    <path d=\"M18.56 5.44l.94 2.06.94-2.06 2.06-.94-2.06-.94-.94-2.06-.94 2.06-2.06.94zm-11 1L8.5 8.5l.94-2.06 2.06-.94-2.06-.94L8.5 2.5l-.94 2.06-2.06.94zm10 10l.94 2.06.94-2.06 2.06-.94-2.06-.94-.94-2.06-.94 2.06-2.06.94z\"/><path d=\"M17.41 7.96l-1.37-1.37c-.4-.4-.92-.59-1.43-.59-.52 0-1.04.2-1.43.59L10.3 9.45l-7.72 7.72c-.78.78-.78 2.05 0 2.83L4 21.41c.39.39.9.59 1.41.59.51 0 1.02-.2 1.41-.59l7.78-7.78 2.81-2.81c.8-.78.8-2.07 0-2.86zM5.41 20L4 18.59l7.72-7.72 1.47 1.35L5.41 20z\"/>\n",
              "  </svg>\n",
              "      </button>\n",
              "      \n",
              "  <style>\n",
              "    .colab-df-container {\n",
              "      display:flex;\n",
              "      flex-wrap:wrap;\n",
              "      gap: 12px;\n",
              "    }\n",
              "\n",
              "    .colab-df-convert {\n",
              "      background-color: #E8F0FE;\n",
              "      border: none;\n",
              "      border-radius: 50%;\n",
              "      cursor: pointer;\n",
              "      display: none;\n",
              "      fill: #1967D2;\n",
              "      height: 32px;\n",
              "      padding: 0 0 0 0;\n",
              "      width: 32px;\n",
              "    }\n",
              "\n",
              "    .colab-df-convert:hover {\n",
              "      background-color: #E2EBFA;\n",
              "      box-shadow: 0px 1px 2px rgba(60, 64, 67, 0.3), 0px 1px 3px 1px rgba(60, 64, 67, 0.15);\n",
              "      fill: #174EA6;\n",
              "    }\n",
              "\n",
              "    [theme=dark] .colab-df-convert {\n",
              "      background-color: #3B4455;\n",
              "      fill: #D2E3FC;\n",
              "    }\n",
              "\n",
              "    [theme=dark] .colab-df-convert:hover {\n",
              "      background-color: #434B5C;\n",
              "      box-shadow: 0px 1px 3px 1px rgba(0, 0, 0, 0.15);\n",
              "      filter: drop-shadow(0px 1px 2px rgba(0, 0, 0, 0.3));\n",
              "      fill: #FFFFFF;\n",
              "    }\n",
              "  </style>\n",
              "\n",
              "      <script>\n",
              "        const buttonEl =\n",
              "          document.querySelector('#df-8ef3203f-ed7c-4590-b5e8-b59e8aabeebc button.colab-df-convert');\n",
              "        buttonEl.style.display =\n",
              "          google.colab.kernel.accessAllowed ? 'block' : 'none';\n",
              "\n",
              "        async function convertToInteractive(key) {\n",
              "          const element = document.querySelector('#df-8ef3203f-ed7c-4590-b5e8-b59e8aabeebc');\n",
              "          const dataTable =\n",
              "            await google.colab.kernel.invokeFunction('convertToInteractive',\n",
              "                                                     [key], {});\n",
              "          if (!dataTable) return;\n",
              "\n",
              "          const docLinkHtml = 'Like what you see? Visit the ' +\n",
              "            '<a target=\"_blank\" href=https://colab.research.google.com/notebooks/data_table.ipynb>data table notebook</a>'\n",
              "            + ' to learn more about interactive tables.';\n",
              "          element.innerHTML = '';\n",
              "          dataTable['output_type'] = 'display_data';\n",
              "          await google.colab.output.renderOutput(dataTable, element);\n",
              "          const docLink = document.createElement('div');\n",
              "          docLink.innerHTML = docLinkHtml;\n",
              "          element.appendChild(docLink);\n",
              "        }\n",
              "      </script>\n",
              "    </div>\n",
              "  </div>\n",
              "  "
            ],
            "text/plain": [
              "     axe_groupett  axe_Distribution_des_animaux  ...  axe_vent  Cs_longia\n",
              "0       -0.165011                     -2.321794  ... -0.388808          1\n",
              "1       -0.193088                     -2.867319  ... -0.257363          1\n",
              "2       -0.193088                     -2.867319  ... -0.257363          1\n",
              "3        0.285950                     -2.547017  ... -0.254525          0\n",
              "4       -0.093919                     -2.620316  ... -0.138054          0\n",
              "..            ...                           ...  ...       ...        ...\n",
              "198     -0.081910                     -4.559007  ... -0.297145          1\n",
              "199     -0.331927                     -1.311407  ... -0.168777          1\n",
              "200     -0.022746                     -3.766470  ... -0.274955          1\n",
              "201      0.245270                     -3.641378  ... -0.029365          1\n",
              "202      0.008249                     -3.170156  ... -0.149439          1\n",
              "\n",
              "[203 rows x 13 columns]"
            ]
          },
          "metadata": {},
          "execution_count": 4
        }
      ]
    },
    {
      "cell_type": "code",
      "metadata": {
        "id": "sp6M2-Shj8tx"
      },
      "source": [
        "Cl2 = '/content/axe_test_2.xlsx' \n",
        "test= pd.read_excel(Cl2, sheet_name=0,header=0,index_col=False, keep_default_na=True)"
      ],
      "execution_count": 5,
      "outputs": []
    },
    {
      "cell_type": "code",
      "source": [
        "test"
      ],
      "metadata": {
        "colab": {
          "base_uri": "https://localhost:8080/",
          "height": 1000
        },
        "outputId": "37f36ded-a34c-445f-a3c1-94569ae94a0b",
        "id": "wzKdYPPMj8ty"
      },
      "execution_count": 6,
      "outputs": [
        {
          "output_type": "execute_result",
          "data": {
            "text/html": [
              "\n",
              "  <div id=\"df-ecfe7f91-ab62-4305-a1c5-18fc8517211e\">\n",
              "    <div class=\"colab-df-container\">\n",
              "      <div>\n",
              "<style scoped>\n",
              "    .dataframe tbody tr th:only-of-type {\n",
              "        vertical-align: middle;\n",
              "    }\n",
              "\n",
              "    .dataframe tbody tr th {\n",
              "        vertical-align: top;\n",
              "    }\n",
              "\n",
              "    .dataframe thead th {\n",
              "        text-align: right;\n",
              "    }\n",
              "</style>\n",
              "<table border=\"1\" class=\"dataframe\">\n",
              "  <thead>\n",
              "    <tr style=\"text-align: right;\">\n",
              "      <th></th>\n",
              "      <th>axe_groupett</th>\n",
              "      <th>axe_Distribution_des_animaux</th>\n",
              "      <th>axe_indices_de_vegetation</th>\n",
              "      <th>axe_IRM</th>\n",
              "      <th>axe_Occupation_du_Sol</th>\n",
              "      <th>axe_Precipitation</th>\n",
              "      <th>axe_Rad</th>\n",
              "      <th>axe_sol</th>\n",
              "      <th>axe_Temperature</th>\n",
              "      <th>axe_Topographique</th>\n",
              "      <th>axe_vap</th>\n",
              "      <th>axe_vent</th>\n",
              "      <th>Cs_longia</th>\n",
              "    </tr>\n",
              "  </thead>\n",
              "  <tbody>\n",
              "    <tr>\n",
              "      <th>0</th>\n",
              "      <td>-0.096146</td>\n",
              "      <td>-2.647724</td>\n",
              "      <td>-0.262195</td>\n",
              "      <td>1.244304</td>\n",
              "      <td>0.651971</td>\n",
              "      <td>0.731714</td>\n",
              "      <td>-124.540514</td>\n",
              "      <td>2.822586</td>\n",
              "      <td>-0.182604</td>\n",
              "      <td>-0.000045</td>\n",
              "      <td>0.002403</td>\n",
              "      <td>-0.190374</td>\n",
              "      <td>0</td>\n",
              "    </tr>\n",
              "    <tr>\n",
              "      <th>1</th>\n",
              "      <td>0.153999</td>\n",
              "      <td>-2.600074</td>\n",
              "      <td>1.037366</td>\n",
              "      <td>1.204043</td>\n",
              "      <td>0.369733</td>\n",
              "      <td>0.417888</td>\n",
              "      <td>-135.917255</td>\n",
              "      <td>1.453176</td>\n",
              "      <td>0.000632</td>\n",
              "      <td>-0.000163</td>\n",
              "      <td>0.003688</td>\n",
              "      <td>-0.075983</td>\n",
              "      <td>1</td>\n",
              "    </tr>\n",
              "    <tr>\n",
              "      <th>2</th>\n",
              "      <td>0.153999</td>\n",
              "      <td>-2.600074</td>\n",
              "      <td>1.037366</td>\n",
              "      <td>1.204043</td>\n",
              "      <td>0.369733</td>\n",
              "      <td>0.417888</td>\n",
              "      <td>-135.917255</td>\n",
              "      <td>1.453176</td>\n",
              "      <td>0.000632</td>\n",
              "      <td>-0.000163</td>\n",
              "      <td>0.003688</td>\n",
              "      <td>-0.075983</td>\n",
              "      <td>1</td>\n",
              "    </tr>\n",
              "    <tr>\n",
              "      <th>3</th>\n",
              "      <td>-0.242689</td>\n",
              "      <td>-2.827135</td>\n",
              "      <td>4.058937</td>\n",
              "      <td>-2.522697</td>\n",
              "      <td>0.370334</td>\n",
              "      <td>-1.109566</td>\n",
              "      <td>-51.080330</td>\n",
              "      <td>1.033547</td>\n",
              "      <td>0.048900</td>\n",
              "      <td>-0.000362</td>\n",
              "      <td>0.024104</td>\n",
              "      <td>-0.305661</td>\n",
              "      <td>1</td>\n",
              "    </tr>\n",
              "    <tr>\n",
              "      <th>4</th>\n",
              "      <td>-0.132992</td>\n",
              "      <td>-2.379458</td>\n",
              "      <td>-1.306321</td>\n",
              "      <td>0.354219</td>\n",
              "      <td>-0.118170</td>\n",
              "      <td>-0.281966</td>\n",
              "      <td>27.926214</td>\n",
              "      <td>-1.019538</td>\n",
              "      <td>-0.003721</td>\n",
              "      <td>0.000169</td>\n",
              "      <td>-0.000768</td>\n",
              "      <td>-0.009398</td>\n",
              "      <td>0</td>\n",
              "    </tr>\n",
              "    <tr>\n",
              "      <th>5</th>\n",
              "      <td>-0.132992</td>\n",
              "      <td>-2.379458</td>\n",
              "      <td>-1.306321</td>\n",
              "      <td>0.354219</td>\n",
              "      <td>-0.118170</td>\n",
              "      <td>-0.281966</td>\n",
              "      <td>27.926214</td>\n",
              "      <td>-0.510742</td>\n",
              "      <td>-0.003721</td>\n",
              "      <td>0.000170</td>\n",
              "      <td>-0.000768</td>\n",
              "      <td>-0.009398</td>\n",
              "      <td>0</td>\n",
              "    </tr>\n",
              "    <tr>\n",
              "      <th>6</th>\n",
              "      <td>-0.061519</td>\n",
              "      <td>-2.526384</td>\n",
              "      <td>-4.374862</td>\n",
              "      <td>1.141346</td>\n",
              "      <td>-0.036415</td>\n",
              "      <td>-0.282783</td>\n",
              "      <td>86.230779</td>\n",
              "      <td>0.154979</td>\n",
              "      <td>-0.051543</td>\n",
              "      <td>0.000279</td>\n",
              "      <td>0.003605</td>\n",
              "      <td>0.001238</td>\n",
              "      <td>0</td>\n",
              "    </tr>\n",
              "    <tr>\n",
              "      <th>7</th>\n",
              "      <td>0.004458</td>\n",
              "      <td>-2.444617</td>\n",
              "      <td>0.272314</td>\n",
              "      <td>-0.646694</td>\n",
              "      <td>-0.199856</td>\n",
              "      <td>-0.277023</td>\n",
              "      <td>53.370259</td>\n",
              "      <td>-0.515781</td>\n",
              "      <td>-0.022922</td>\n",
              "      <td>0.000250</td>\n",
              "      <td>0.007066</td>\n",
              "      <td>0.007151</td>\n",
              "      <td>0</td>\n",
              "    </tr>\n",
              "    <tr>\n",
              "      <th>8</th>\n",
              "      <td>0.252522</td>\n",
              "      <td>-3.824134</td>\n",
              "      <td>-3.489503</td>\n",
              "      <td>1.421861</td>\n",
              "      <td>-0.759769</td>\n",
              "      <td>0.609257</td>\n",
              "      <td>49.847845</td>\n",
              "      <td>-0.733478</td>\n",
              "      <td>-0.061430</td>\n",
              "      <td>0.000247</td>\n",
              "      <td>-0.003505</td>\n",
              "      <td>0.172419</td>\n",
              "      <td>1</td>\n",
              "    </tr>\n",
              "    <tr>\n",
              "      <th>9</th>\n",
              "      <td>0.180465</td>\n",
              "      <td>-0.781471</td>\n",
              "      <td>-3.375298</td>\n",
              "      <td>-0.096036</td>\n",
              "      <td>-0.091033</td>\n",
              "      <td>0.645177</td>\n",
              "      <td>62.467914</td>\n",
              "      <td>-0.821854</td>\n",
              "      <td>-0.039834</td>\n",
              "      <td>0.000157</td>\n",
              "      <td>-0.003658</td>\n",
              "      <td>0.024988</td>\n",
              "      <td>0</td>\n",
              "    </tr>\n",
              "    <tr>\n",
              "      <th>10</th>\n",
              "      <td>-0.172365</td>\n",
              "      <td>-3.098300</td>\n",
              "      <td>-0.745302</td>\n",
              "      <td>-0.030259</td>\n",
              "      <td>-0.681831</td>\n",
              "      <td>-0.225907</td>\n",
              "      <td>-111.345146</td>\n",
              "      <td>1.319013</td>\n",
              "      <td>0.013794</td>\n",
              "      <td>-0.000144</td>\n",
              "      <td>0.013015</td>\n",
              "      <td>-0.396208</td>\n",
              "      <td>0</td>\n",
              "    </tr>\n",
              "    <tr>\n",
              "      <th>11</th>\n",
              "      <td>-0.010799</td>\n",
              "      <td>-1.749523</td>\n",
              "      <td>1.564732</td>\n",
              "      <td>-0.804141</td>\n",
              "      <td>0.631832</td>\n",
              "      <td>-0.335287</td>\n",
              "      <td>-136.704298</td>\n",
              "      <td>1.416765</td>\n",
              "      <td>0.032457</td>\n",
              "      <td>-0.000890</td>\n",
              "      <td>0.006932</td>\n",
              "      <td>-0.332457</td>\n",
              "      <td>1</td>\n",
              "    </tr>\n",
              "    <tr>\n",
              "      <th>12</th>\n",
              "      <td>-0.077599</td>\n",
              "      <td>-2.465885</td>\n",
              "      <td>3.722810</td>\n",
              "      <td>-0.554885</td>\n",
              "      <td>0.185844</td>\n",
              "      <td>-0.008093</td>\n",
              "      <td>-4.592342</td>\n",
              "      <td>1.428297</td>\n",
              "      <td>0.036505</td>\n",
              "      <td>-0.002696</td>\n",
              "      <td>0.008452</td>\n",
              "      <td>0.176059</td>\n",
              "      <td>0</td>\n",
              "    </tr>\n",
              "    <tr>\n",
              "      <th>13</th>\n",
              "      <td>0.030830</td>\n",
              "      <td>2.951375</td>\n",
              "      <td>-0.856890</td>\n",
              "      <td>-0.881847</td>\n",
              "      <td>-2.283244</td>\n",
              "      <td>0.149542</td>\n",
              "      <td>-26.788362</td>\n",
              "      <td>-1.038944</td>\n",
              "      <td>-0.004295</td>\n",
              "      <td>0.000067</td>\n",
              "      <td>-0.009687</td>\n",
              "      <td>0.209824</td>\n",
              "      <td>1</td>\n",
              "    </tr>\n",
              "    <tr>\n",
              "      <th>14</th>\n",
              "      <td>0.094010</td>\n",
              "      <td>5.265723</td>\n",
              "      <td>2.507574</td>\n",
              "      <td>0.306923</td>\n",
              "      <td>-0.071846</td>\n",
              "      <td>-0.052953</td>\n",
              "      <td>-35.735566</td>\n",
              "      <td>0.358672</td>\n",
              "      <td>0.015669</td>\n",
              "      <td>-0.001152</td>\n",
              "      <td>-0.010477</td>\n",
              "      <td>0.168731</td>\n",
              "      <td>0</td>\n",
              "    </tr>\n",
              "    <tr>\n",
              "      <th>15</th>\n",
              "      <td>0.162106</td>\n",
              "      <td>3.149862</td>\n",
              "      <td>-4.375075</td>\n",
              "      <td>2.148869</td>\n",
              "      <td>-0.779638</td>\n",
              "      <td>-0.097301</td>\n",
              "      <td>136.223264</td>\n",
              "      <td>-0.506321</td>\n",
              "      <td>-0.063205</td>\n",
              "      <td>0.000706</td>\n",
              "      <td>-0.006801</td>\n",
              "      <td>-0.006565</td>\n",
              "      <td>0</td>\n",
              "    </tr>\n",
              "    <tr>\n",
              "      <th>16</th>\n",
              "      <td>0.243055</td>\n",
              "      <td>17.743217</td>\n",
              "      <td>-3.215148</td>\n",
              "      <td>2.289648</td>\n",
              "      <td>-0.779638</td>\n",
              "      <td>-0.196128</td>\n",
              "      <td>91.839060</td>\n",
              "      <td>-1.103656</td>\n",
              "      <td>-0.016547</td>\n",
              "      <td>0.000374</td>\n",
              "      <td>-0.002421</td>\n",
              "      <td>0.077840</td>\n",
              "      <td>0</td>\n",
              "    </tr>\n",
              "    <tr>\n",
              "      <th>17</th>\n",
              "      <td>0.171345</td>\n",
              "      <td>16.727813</td>\n",
              "      <td>-7.657503</td>\n",
              "      <td>4.038852</td>\n",
              "      <td>-0.683019</td>\n",
              "      <td>-0.203811</td>\n",
              "      <td>50.032377</td>\n",
              "      <td>-0.688640</td>\n",
              "      <td>-0.020841</td>\n",
              "      <td>0.000313</td>\n",
              "      <td>-0.002326</td>\n",
              "      <td>0.010095</td>\n",
              "      <td>0</td>\n",
              "    </tr>\n",
              "    <tr>\n",
              "      <th>18</th>\n",
              "      <td>0.081045</td>\n",
              "      <td>-1.101351</td>\n",
              "      <td>-1.905202</td>\n",
              "      <td>2.052955</td>\n",
              "      <td>0.057054</td>\n",
              "      <td>0.518327</td>\n",
              "      <td>157.364759</td>\n",
              "      <td>-1.090374</td>\n",
              "      <td>-0.033420</td>\n",
              "      <td>-0.000084</td>\n",
              "      <td>-0.003066</td>\n",
              "      <td>0.262788</td>\n",
              "      <td>0</td>\n",
              "    </tr>\n",
              "    <tr>\n",
              "      <th>19</th>\n",
              "      <td>0.089859</td>\n",
              "      <td>6.574780</td>\n",
              "      <td>-3.009222</td>\n",
              "      <td>1.699826</td>\n",
              "      <td>1.525229</td>\n",
              "      <td>-0.132116</td>\n",
              "      <td>57.678729</td>\n",
              "      <td>0.527389</td>\n",
              "      <td>-0.036191</td>\n",
              "      <td>-0.000119</td>\n",
              "      <td>-0.007807</td>\n",
              "      <td>-0.010256</td>\n",
              "      <td>0</td>\n",
              "    </tr>\n",
              "    <tr>\n",
              "      <th>20</th>\n",
              "      <td>0.198397</td>\n",
              "      <td>10.135452</td>\n",
              "      <td>-0.458071</td>\n",
              "      <td>1.746799</td>\n",
              "      <td>-0.779638</td>\n",
              "      <td>-0.035077</td>\n",
              "      <td>174.569493</td>\n",
              "      <td>-1.155224</td>\n",
              "      <td>-0.042416</td>\n",
              "      <td>-0.000532</td>\n",
              "      <td>-0.005117</td>\n",
              "      <td>-0.008849</td>\n",
              "      <td>0</td>\n",
              "    </tr>\n",
              "    <tr>\n",
              "      <th>21</th>\n",
              "      <td>0.153315</td>\n",
              "      <td>3.969502</td>\n",
              "      <td>-3.854095</td>\n",
              "      <td>2.456379</td>\n",
              "      <td>-0.779638</td>\n",
              "      <td>0.119388</td>\n",
              "      <td>101.837966</td>\n",
              "      <td>-0.516492</td>\n",
              "      <td>-0.074867</td>\n",
              "      <td>0.000418</td>\n",
              "      <td>-0.003425</td>\n",
              "      <td>-0.111147</td>\n",
              "      <td>0</td>\n",
              "    </tr>\n",
              "    <tr>\n",
              "      <th>22</th>\n",
              "      <td>0.327793</td>\n",
              "      <td>4.066407</td>\n",
              "      <td>-4.619407</td>\n",
              "      <td>0.644238</td>\n",
              "      <td>-0.355742</td>\n",
              "      <td>0.680125</td>\n",
              "      <td>251.565824</td>\n",
              "      <td>-0.725585</td>\n",
              "      <td>-0.109333</td>\n",
              "      <td>0.000365</td>\n",
              "      <td>-0.015132</td>\n",
              "      <td>-0.071061</td>\n",
              "      <td>0</td>\n",
              "    </tr>\n",
              "    <tr>\n",
              "      <th>23</th>\n",
              "      <td>0.165883</td>\n",
              "      <td>10.101128</td>\n",
              "      <td>-1.818021</td>\n",
              "      <td>-0.447577</td>\n",
              "      <td>-0.302085</td>\n",
              "      <td>0.575704</td>\n",
              "      <td>61.408984</td>\n",
              "      <td>-1.120729</td>\n",
              "      <td>-0.008252</td>\n",
              "      <td>-0.000231</td>\n",
              "      <td>-0.012315</td>\n",
              "      <td>0.302346</td>\n",
              "      <td>0</td>\n",
              "    </tr>\n",
              "    <tr>\n",
              "      <th>24</th>\n",
              "      <td>0.036638</td>\n",
              "      <td>8.414571</td>\n",
              "      <td>-10.373962</td>\n",
              "      <td>0.721969</td>\n",
              "      <td>-0.779638</td>\n",
              "      <td>-0.262077</td>\n",
              "      <td>-0.490714</td>\n",
              "      <td>-1.749538</td>\n",
              "      <td>0.008918</td>\n",
              "      <td>-0.000447</td>\n",
              "      <td>-0.007415</td>\n",
              "      <td>0.113183</td>\n",
              "      <td>0</td>\n",
              "    </tr>\n",
              "    <tr>\n",
              "      <th>25</th>\n",
              "      <td>-0.112124</td>\n",
              "      <td>7.345657</td>\n",
              "      <td>0.390868</td>\n",
              "      <td>2.232338</td>\n",
              "      <td>-0.029362</td>\n",
              "      <td>-0.176097</td>\n",
              "      <td>-36.070611</td>\n",
              "      <td>-0.083549</td>\n",
              "      <td>-0.015423</td>\n",
              "      <td>0.001056</td>\n",
              "      <td>-0.000702</td>\n",
              "      <td>0.206349</td>\n",
              "      <td>0</td>\n",
              "    </tr>\n",
              "    <tr>\n",
              "      <th>26</th>\n",
              "      <td>0.269436</td>\n",
              "      <td>8.678994</td>\n",
              "      <td>-4.821432</td>\n",
              "      <td>6.070589</td>\n",
              "      <td>-1.154777</td>\n",
              "      <td>-0.436862</td>\n",
              "      <td>-100.546011</td>\n",
              "      <td>4.095260</td>\n",
              "      <td>0.049609</td>\n",
              "      <td>0.001039</td>\n",
              "      <td>0.000580</td>\n",
              "      <td>0.134912</td>\n",
              "      <td>0</td>\n",
              "    </tr>\n",
              "    <tr>\n",
              "      <th>27</th>\n",
              "      <td>0.011842</td>\n",
              "      <td>0.872063</td>\n",
              "      <td>3.968376</td>\n",
              "      <td>0.041701</td>\n",
              "      <td>0.136329</td>\n",
              "      <td>0.807119</td>\n",
              "      <td>182.176070</td>\n",
              "      <td>2.222992</td>\n",
              "      <td>0.002567</td>\n",
              "      <td>-0.003111</td>\n",
              "      <td>-0.013330</td>\n",
              "      <td>-0.017956</td>\n",
              "      <td>0</td>\n",
              "    </tr>\n",
              "    <tr>\n",
              "      <th>28</th>\n",
              "      <td>0.113567</td>\n",
              "      <td>4.681425</td>\n",
              "      <td>2.736349</td>\n",
              "      <td>-0.072327</td>\n",
              "      <td>-0.087781</td>\n",
              "      <td>0.715134</td>\n",
              "      <td>379.777328</td>\n",
              "      <td>-0.927702</td>\n",
              "      <td>-0.025243</td>\n",
              "      <td>0.001287</td>\n",
              "      <td>-0.024617</td>\n",
              "      <td>0.239043</td>\n",
              "      <td>0</td>\n",
              "    </tr>\n",
              "    <tr>\n",
              "      <th>29</th>\n",
              "      <td>-0.266099</td>\n",
              "      <td>-4.556856</td>\n",
              "      <td>-22.932135</td>\n",
              "      <td>2.399037</td>\n",
              "      <td>1.560389</td>\n",
              "      <td>-1.171279</td>\n",
              "      <td>-120.320898</td>\n",
              "      <td>2.759858</td>\n",
              "      <td>-0.088255</td>\n",
              "      <td>-0.001456</td>\n",
              "      <td>0.014453</td>\n",
              "      <td>0.220653</td>\n",
              "      <td>0</td>\n",
              "    </tr>\n",
              "    <tr>\n",
              "      <th>30</th>\n",
              "      <td>0.282864</td>\n",
              "      <td>1.221216</td>\n",
              "      <td>-4.106020</td>\n",
              "      <td>2.727416</td>\n",
              "      <td>-0.779638</td>\n",
              "      <td>0.976784</td>\n",
              "      <td>63.369938</td>\n",
              "      <td>-1.608169</td>\n",
              "      <td>-0.059993</td>\n",
              "      <td>0.000355</td>\n",
              "      <td>-0.004411</td>\n",
              "      <td>0.336051</td>\n",
              "      <td>0</td>\n",
              "    </tr>\n",
              "    <tr>\n",
              "      <th>31</th>\n",
              "      <td>0.282864</td>\n",
              "      <td>1.221216</td>\n",
              "      <td>-4.106020</td>\n",
              "      <td>2.727416</td>\n",
              "      <td>-0.779638</td>\n",
              "      <td>0.976784</td>\n",
              "      <td>63.369938</td>\n",
              "      <td>-1.608169</td>\n",
              "      <td>-0.059993</td>\n",
              "      <td>0.000355</td>\n",
              "      <td>-0.004411</td>\n",
              "      <td>0.336051</td>\n",
              "      <td>0</td>\n",
              "    </tr>\n",
              "    <tr>\n",
              "      <th>32</th>\n",
              "      <td>0.255258</td>\n",
              "      <td>-2.368437</td>\n",
              "      <td>-7.165641</td>\n",
              "      <td>3.753146</td>\n",
              "      <td>0.155793</td>\n",
              "      <td>0.663417</td>\n",
              "      <td>-10.265948</td>\n",
              "      <td>3.012515</td>\n",
              "      <td>-0.033238</td>\n",
              "      <td>0.000116</td>\n",
              "      <td>-0.005919</td>\n",
              "      <td>-0.257810</td>\n",
              "      <td>0</td>\n",
              "    </tr>\n",
              "    <tr>\n",
              "      <th>33</th>\n",
              "      <td>-0.150299</td>\n",
              "      <td>77.064348</td>\n",
              "      <td>9.546602</td>\n",
              "      <td>0.609685</td>\n",
              "      <td>-0.335855</td>\n",
              "      <td>-1.152635</td>\n",
              "      <td>102.839354</td>\n",
              "      <td>0.361453</td>\n",
              "      <td>0.130675</td>\n",
              "      <td>-0.001439</td>\n",
              "      <td>0.002657</td>\n",
              "      <td>-0.171046</td>\n",
              "      <td>0</td>\n",
              "    </tr>\n",
              "    <tr>\n",
              "      <th>34</th>\n",
              "      <td>0.199591</td>\n",
              "      <td>-3.008598</td>\n",
              "      <td>3.136491</td>\n",
              "      <td>-0.445856</td>\n",
              "      <td>0.651971</td>\n",
              "      <td>0.754294</td>\n",
              "      <td>46.690379</td>\n",
              "      <td>-0.971832</td>\n",
              "      <td>-0.130990</td>\n",
              "      <td>0.000167</td>\n",
              "      <td>0.010739</td>\n",
              "      <td>0.117154</td>\n",
              "      <td>0</td>\n",
              "    </tr>\n",
              "    <tr>\n",
              "      <th>35</th>\n",
              "      <td>0.228014</td>\n",
              "      <td>-3.106740</td>\n",
              "      <td>-0.527019</td>\n",
              "      <td>0.664722</td>\n",
              "      <td>-0.001291</td>\n",
              "      <td>0.912371</td>\n",
              "      <td>186.674597</td>\n",
              "      <td>-1.895577</td>\n",
              "      <td>-0.072338</td>\n",
              "      <td>0.000911</td>\n",
              "      <td>0.005667</td>\n",
              "      <td>0.035780</td>\n",
              "      <td>0</td>\n",
              "    </tr>\n",
              "    <tr>\n",
              "      <th>36</th>\n",
              "      <td>-0.047671</td>\n",
              "      <td>-2.919832</td>\n",
              "      <td>2.067763</td>\n",
              "      <td>-1.671908</td>\n",
              "      <td>-0.421927</td>\n",
              "      <td>0.344679</td>\n",
              "      <td>38.599483</td>\n",
              "      <td>1.240791</td>\n",
              "      <td>0.046111</td>\n",
              "      <td>0.000486</td>\n",
              "      <td>0.002168</td>\n",
              "      <td>-0.022357</td>\n",
              "      <td>0</td>\n",
              "    </tr>\n",
              "    <tr>\n",
              "      <th>37</th>\n",
              "      <td>-0.304457</td>\n",
              "      <td>-2.912104</td>\n",
              "      <td>2.926588</td>\n",
              "      <td>-3.264390</td>\n",
              "      <td>0.651971</td>\n",
              "      <td>-0.664185</td>\n",
              "      <td>-117.641856</td>\n",
              "      <td>3.065578</td>\n",
              "      <td>0.197069</td>\n",
              "      <td>0.000418</td>\n",
              "      <td>0.014951</td>\n",
              "      <td>-0.196587</td>\n",
              "      <td>1</td>\n",
              "    </tr>\n",
              "    <tr>\n",
              "      <th>38</th>\n",
              "      <td>-0.378594</td>\n",
              "      <td>-3.315568</td>\n",
              "      <td>5.698553</td>\n",
              "      <td>-3.433913</td>\n",
              "      <td>0.651971</td>\n",
              "      <td>-0.510456</td>\n",
              "      <td>-190.627145</td>\n",
              "      <td>0.535484</td>\n",
              "      <td>0.036059</td>\n",
              "      <td>0.000163</td>\n",
              "      <td>0.015370</td>\n",
              "      <td>-0.263177</td>\n",
              "      <td>1</td>\n",
              "    </tr>\n",
              "    <tr>\n",
              "      <th>39</th>\n",
              "      <td>-0.538442</td>\n",
              "      <td>-2.922441</td>\n",
              "      <td>2.582151</td>\n",
              "      <td>-3.994404</td>\n",
              "      <td>0.651971</td>\n",
              "      <td>-0.103287</td>\n",
              "      <td>-61.325975</td>\n",
              "      <td>1.343734</td>\n",
              "      <td>0.048444</td>\n",
              "      <td>0.000033</td>\n",
              "      <td>0.023389</td>\n",
              "      <td>-0.326240</td>\n",
              "      <td>1</td>\n",
              "    </tr>\n",
              "    <tr>\n",
              "      <th>40</th>\n",
              "      <td>-0.073504</td>\n",
              "      <td>-2.923537</td>\n",
              "      <td>4.543955</td>\n",
              "      <td>-2.272830</td>\n",
              "      <td>0.648031</td>\n",
              "      <td>0.556318</td>\n",
              "      <td>78.801061</td>\n",
              "      <td>-2.513930</td>\n",
              "      <td>-0.062442</td>\n",
              "      <td>-0.000057</td>\n",
              "      <td>0.011541</td>\n",
              "      <td>-0.567874</td>\n",
              "      <td>1</td>\n",
              "    </tr>\n",
              "    <tr>\n",
              "      <th>41</th>\n",
              "      <td>0.156052</td>\n",
              "      <td>3.700329</td>\n",
              "      <td>3.184600</td>\n",
              "      <td>-0.591110</td>\n",
              "      <td>0.388896</td>\n",
              "      <td>0.205621</td>\n",
              "      <td>-7.307742</td>\n",
              "      <td>2.715249</td>\n",
              "      <td>0.050228</td>\n",
              "      <td>0.000061</td>\n",
              "      <td>-0.007163</td>\n",
              "      <td>0.349036</td>\n",
              "      <td>1</td>\n",
              "    </tr>\n",
              "    <tr>\n",
              "      <th>42</th>\n",
              "      <td>0.030840</td>\n",
              "      <td>0.304631</td>\n",
              "      <td>-0.088355</td>\n",
              "      <td>0.688875</td>\n",
              "      <td>0.761204</td>\n",
              "      <td>-0.614393</td>\n",
              "      <td>69.930684</td>\n",
              "      <td>-0.478915</td>\n",
              "      <td>0.022608</td>\n",
              "      <td>0.000039</td>\n",
              "      <td>0.000511</td>\n",
              "      <td>-0.094331</td>\n",
              "      <td>1</td>\n",
              "    </tr>\n",
              "    <tr>\n",
              "      <th>43</th>\n",
              "      <td>-0.140444</td>\n",
              "      <td>4.260038</td>\n",
              "      <td>1.380268</td>\n",
              "      <td>-2.032596</td>\n",
              "      <td>-0.064217</td>\n",
              "      <td>0.088084</td>\n",
              "      <td>26.906315</td>\n",
              "      <td>0.209463</td>\n",
              "      <td>0.033832</td>\n",
              "      <td>0.000056</td>\n",
              "      <td>0.008982</td>\n",
              "      <td>0.243726</td>\n",
              "      <td>1</td>\n",
              "    </tr>\n",
              "    <tr>\n",
              "      <th>44</th>\n",
              "      <td>-0.349886</td>\n",
              "      <td>3.877299</td>\n",
              "      <td>2.859597</td>\n",
              "      <td>-0.092320</td>\n",
              "      <td>-0.028897</td>\n",
              "      <td>-0.983990</td>\n",
              "      <td>13.776360</td>\n",
              "      <td>-0.832159</td>\n",
              "      <td>0.059580</td>\n",
              "      <td>-0.002102</td>\n",
              "      <td>0.003001</td>\n",
              "      <td>0.170970</td>\n",
              "      <td>1</td>\n",
              "    </tr>\n",
              "    <tr>\n",
              "      <th>45</th>\n",
              "      <td>0.321932</td>\n",
              "      <td>23.138065</td>\n",
              "      <td>-5.017574</td>\n",
              "      <td>2.332937</td>\n",
              "      <td>-0.779638</td>\n",
              "      <td>-0.010013</td>\n",
              "      <td>153.461346</td>\n",
              "      <td>-1.302367</td>\n",
              "      <td>0.013019</td>\n",
              "      <td>0.000373</td>\n",
              "      <td>0.001676</td>\n",
              "      <td>-0.127255</td>\n",
              "      <td>1</td>\n",
              "    </tr>\n",
              "    <tr>\n",
              "      <th>46</th>\n",
              "      <td>0.071129</td>\n",
              "      <td>15.654456</td>\n",
              "      <td>-4.557654</td>\n",
              "      <td>0.285610</td>\n",
              "      <td>0.372259</td>\n",
              "      <td>0.252995</td>\n",
              "      <td>-73.101336</td>\n",
              "      <td>-1.213693</td>\n",
              "      <td>-0.020093</td>\n",
              "      <td>0.000385</td>\n",
              "      <td>-0.011365</td>\n",
              "      <td>-0.011407</td>\n",
              "      <td>1</td>\n",
              "    </tr>\n",
              "    <tr>\n",
              "      <th>47</th>\n",
              "      <td>0.197471</td>\n",
              "      <td>7.733651</td>\n",
              "      <td>-5.123506</td>\n",
              "      <td>-1.957329</td>\n",
              "      <td>-0.626977</td>\n",
              "      <td>-0.173223</td>\n",
              "      <td>163.037819</td>\n",
              "      <td>-1.229405</td>\n",
              "      <td>-0.008456</td>\n",
              "      <td>-0.000012</td>\n",
              "      <td>-0.005661</td>\n",
              "      <td>0.024848</td>\n",
              "      <td>1</td>\n",
              "    </tr>\n",
              "    <tr>\n",
              "      <th>48</th>\n",
              "      <td>-0.026267</td>\n",
              "      <td>-8.807864</td>\n",
              "      <td>4.276196</td>\n",
              "      <td>-0.510591</td>\n",
              "      <td>-0.334756</td>\n",
              "      <td>0.757743</td>\n",
              "      <td>-121.192206</td>\n",
              "      <td>0.217336</td>\n",
              "      <td>0.038858</td>\n",
              "      <td>0.000157</td>\n",
              "      <td>0.014261</td>\n",
              "      <td>0.184200</td>\n",
              "      <td>1</td>\n",
              "    </tr>\n",
              "    <tr>\n",
              "      <th>49</th>\n",
              "      <td>-0.224145</td>\n",
              "      <td>-12.198457</td>\n",
              "      <td>3.500341</td>\n",
              "      <td>-2.450743</td>\n",
              "      <td>0.136329</td>\n",
              "      <td>-0.440718</td>\n",
              "      <td>-78.033238</td>\n",
              "      <td>-0.598893</td>\n",
              "      <td>0.017516</td>\n",
              "      <td>-0.000286</td>\n",
              "      <td>0.005495</td>\n",
              "      <td>-0.492023</td>\n",
              "      <td>1</td>\n",
              "    </tr>\n",
              "    <tr>\n",
              "      <th>50</th>\n",
              "      <td>-0.016030</td>\n",
              "      <td>-8.324202</td>\n",
              "      <td>-1.887007</td>\n",
              "      <td>-2.290818</td>\n",
              "      <td>1.187209</td>\n",
              "      <td>-0.481954</td>\n",
              "      <td>-58.734285</td>\n",
              "      <td>-0.129414</td>\n",
              "      <td>-0.085638</td>\n",
              "      <td>0.000137</td>\n",
              "      <td>0.011801</td>\n",
              "      <td>-0.394005</td>\n",
              "      <td>1</td>\n",
              "    </tr>\n",
              "  </tbody>\n",
              "</table>\n",
              "</div>\n",
              "      <button class=\"colab-df-convert\" onclick=\"convertToInteractive('df-ecfe7f91-ab62-4305-a1c5-18fc8517211e')\"\n",
              "              title=\"Convert this dataframe to an interactive table.\"\n",
              "              style=\"display:none;\">\n",
              "        \n",
              "  <svg xmlns=\"http://www.w3.org/2000/svg\" height=\"24px\"viewBox=\"0 0 24 24\"\n",
              "       width=\"24px\">\n",
              "    <path d=\"M0 0h24v24H0V0z\" fill=\"none\"/>\n",
              "    <path d=\"M18.56 5.44l.94 2.06.94-2.06 2.06-.94-2.06-.94-.94-2.06-.94 2.06-2.06.94zm-11 1L8.5 8.5l.94-2.06 2.06-.94-2.06-.94L8.5 2.5l-.94 2.06-2.06.94zm10 10l.94 2.06.94-2.06 2.06-.94-2.06-.94-.94-2.06-.94 2.06-2.06.94z\"/><path d=\"M17.41 7.96l-1.37-1.37c-.4-.4-.92-.59-1.43-.59-.52 0-1.04.2-1.43.59L10.3 9.45l-7.72 7.72c-.78.78-.78 2.05 0 2.83L4 21.41c.39.39.9.59 1.41.59.51 0 1.02-.2 1.41-.59l7.78-7.78 2.81-2.81c.8-.78.8-2.07 0-2.86zM5.41 20L4 18.59l7.72-7.72 1.47 1.35L5.41 20z\"/>\n",
              "  </svg>\n",
              "      </button>\n",
              "      \n",
              "  <style>\n",
              "    .colab-df-container {\n",
              "      display:flex;\n",
              "      flex-wrap:wrap;\n",
              "      gap: 12px;\n",
              "    }\n",
              "\n",
              "    .colab-df-convert {\n",
              "      background-color: #E8F0FE;\n",
              "      border: none;\n",
              "      border-radius: 50%;\n",
              "      cursor: pointer;\n",
              "      display: none;\n",
              "      fill: #1967D2;\n",
              "      height: 32px;\n",
              "      padding: 0 0 0 0;\n",
              "      width: 32px;\n",
              "    }\n",
              "\n",
              "    .colab-df-convert:hover {\n",
              "      background-color: #E2EBFA;\n",
              "      box-shadow: 0px 1px 2px rgba(60, 64, 67, 0.3), 0px 1px 3px 1px rgba(60, 64, 67, 0.15);\n",
              "      fill: #174EA6;\n",
              "    }\n",
              "\n",
              "    [theme=dark] .colab-df-convert {\n",
              "      background-color: #3B4455;\n",
              "      fill: #D2E3FC;\n",
              "    }\n",
              "\n",
              "    [theme=dark] .colab-df-convert:hover {\n",
              "      background-color: #434B5C;\n",
              "      box-shadow: 0px 1px 3px 1px rgba(0, 0, 0, 0.15);\n",
              "      filter: drop-shadow(0px 1px 2px rgba(0, 0, 0, 0.3));\n",
              "      fill: #FFFFFF;\n",
              "    }\n",
              "  </style>\n",
              "\n",
              "      <script>\n",
              "        const buttonEl =\n",
              "          document.querySelector('#df-ecfe7f91-ab62-4305-a1c5-18fc8517211e button.colab-df-convert');\n",
              "        buttonEl.style.display =\n",
              "          google.colab.kernel.accessAllowed ? 'block' : 'none';\n",
              "\n",
              "        async function convertToInteractive(key) {\n",
              "          const element = document.querySelector('#df-ecfe7f91-ab62-4305-a1c5-18fc8517211e');\n",
              "          const dataTable =\n",
              "            await google.colab.kernel.invokeFunction('convertToInteractive',\n",
              "                                                     [key], {});\n",
              "          if (!dataTable) return;\n",
              "\n",
              "          const docLinkHtml = 'Like what you see? Visit the ' +\n",
              "            '<a target=\"_blank\" href=https://colab.research.google.com/notebooks/data_table.ipynb>data table notebook</a>'\n",
              "            + ' to learn more about interactive tables.';\n",
              "          element.innerHTML = '';\n",
              "          dataTable['output_type'] = 'display_data';\n",
              "          await google.colab.output.renderOutput(dataTable, element);\n",
              "          const docLink = document.createElement('div');\n",
              "          docLink.innerHTML = docLinkHtml;\n",
              "          element.appendChild(docLink);\n",
              "        }\n",
              "      </script>\n",
              "    </div>\n",
              "  </div>\n",
              "  "
            ],
            "text/plain": [
              "    axe_groupett  axe_Distribution_des_animaux  ...  axe_vent  Cs_longia\n",
              "0      -0.096146                     -2.647724  ... -0.190374          0\n",
              "1       0.153999                     -2.600074  ... -0.075983          1\n",
              "2       0.153999                     -2.600074  ... -0.075983          1\n",
              "3      -0.242689                     -2.827135  ... -0.305661          1\n",
              "4      -0.132992                     -2.379458  ... -0.009398          0\n",
              "5      -0.132992                     -2.379458  ... -0.009398          0\n",
              "6      -0.061519                     -2.526384  ...  0.001238          0\n",
              "7       0.004458                     -2.444617  ...  0.007151          0\n",
              "8       0.252522                     -3.824134  ...  0.172419          1\n",
              "9       0.180465                     -0.781471  ...  0.024988          0\n",
              "10     -0.172365                     -3.098300  ... -0.396208          0\n",
              "11     -0.010799                     -1.749523  ... -0.332457          1\n",
              "12     -0.077599                     -2.465885  ...  0.176059          0\n",
              "13      0.030830                      2.951375  ...  0.209824          1\n",
              "14      0.094010                      5.265723  ...  0.168731          0\n",
              "15      0.162106                      3.149862  ... -0.006565          0\n",
              "16      0.243055                     17.743217  ...  0.077840          0\n",
              "17      0.171345                     16.727813  ...  0.010095          0\n",
              "18      0.081045                     -1.101351  ...  0.262788          0\n",
              "19      0.089859                      6.574780  ... -0.010256          0\n",
              "20      0.198397                     10.135452  ... -0.008849          0\n",
              "21      0.153315                      3.969502  ... -0.111147          0\n",
              "22      0.327793                      4.066407  ... -0.071061          0\n",
              "23      0.165883                     10.101128  ...  0.302346          0\n",
              "24      0.036638                      8.414571  ...  0.113183          0\n",
              "25     -0.112124                      7.345657  ...  0.206349          0\n",
              "26      0.269436                      8.678994  ...  0.134912          0\n",
              "27      0.011842                      0.872063  ... -0.017956          0\n",
              "28      0.113567                      4.681425  ...  0.239043          0\n",
              "29     -0.266099                     -4.556856  ...  0.220653          0\n",
              "30      0.282864                      1.221216  ...  0.336051          0\n",
              "31      0.282864                      1.221216  ...  0.336051          0\n",
              "32      0.255258                     -2.368437  ... -0.257810          0\n",
              "33     -0.150299                     77.064348  ... -0.171046          0\n",
              "34      0.199591                     -3.008598  ...  0.117154          0\n",
              "35      0.228014                     -3.106740  ...  0.035780          0\n",
              "36     -0.047671                     -2.919832  ... -0.022357          0\n",
              "37     -0.304457                     -2.912104  ... -0.196587          1\n",
              "38     -0.378594                     -3.315568  ... -0.263177          1\n",
              "39     -0.538442                     -2.922441  ... -0.326240          1\n",
              "40     -0.073504                     -2.923537  ... -0.567874          1\n",
              "41      0.156052                      3.700329  ...  0.349036          1\n",
              "42      0.030840                      0.304631  ... -0.094331          1\n",
              "43     -0.140444                      4.260038  ...  0.243726          1\n",
              "44     -0.349886                      3.877299  ...  0.170970          1\n",
              "45      0.321932                     23.138065  ... -0.127255          1\n",
              "46      0.071129                     15.654456  ... -0.011407          1\n",
              "47      0.197471                      7.733651  ...  0.024848          1\n",
              "48     -0.026267                     -8.807864  ...  0.184200          1\n",
              "49     -0.224145                    -12.198457  ... -0.492023          1\n",
              "50     -0.016030                     -8.324202  ... -0.394005          1\n",
              "\n",
              "[51 rows x 13 columns]"
            ]
          },
          "metadata": {},
          "execution_count": 6
        }
      ]
    },
    {
      "cell_type": "code",
      "metadata": {
        "id": "WlXmEfpym-Hm"
      },
      "source": [
        "X_app = apprentissage.loc[:, apprentissage.columns != 'Cs_longia']\n",
        "Y_app = apprentissage.Cs_longia\n",
        "X_test = test.loc[:, test.columns != 'Cs_longia']\n",
        "Y_test = test.Cs_longia"
      ],
      "execution_count": 7,
      "outputs": []
    },
    {
      "cell_type": "markdown",
      "source": [
        "# XGBOOST"
      ],
      "metadata": {
        "id": "THsA6X7josns"
      }
    },
    {
      "cell_type": "code",
      "source": [
        "Classifier = XGBClassifier(scale_pos_weight=1,learning_rate=0.5,max_depth=5,n_estimators=150,objective=\"binary:logistic\")"
      ],
      "metadata": {
        "id": "LvZVQSVTx91X"
      },
      "execution_count": 8,
      "outputs": []
    },
    {
      "cell_type": "code",
      "source": [
        "Classifier.fit(X_app,Y_app)"
      ],
      "metadata": {
        "colab": {
          "base_uri": "https://localhost:8080/"
        },
        "id": "kzx4dBDMx93d",
        "outputId": "5e3a144e-b590-4c84-98e1-7e20d3bea588"
      },
      "execution_count": 9,
      "outputs": [
        {
          "output_type": "execute_result",
          "data": {
            "text/plain": [
              "XGBClassifier(learning_rate=0.5, max_depth=5, n_estimators=150)"
            ]
          },
          "metadata": {},
          "execution_count": 9
        }
      ]
    },
    {
      "cell_type": "code",
      "metadata": {
        "id": "mpZMF-EhTV0N"
      },
      "source": [
        "preds = Classifier.predict(X_test)"
      ],
      "execution_count": 10,
      "outputs": []
    },
    {
      "cell_type": "code",
      "metadata": {
        "id": "wfCXrkA0TV0O",
        "colab": {
          "base_uri": "https://localhost:8080/"
        },
        "outputId": "339db576-e117-4c45-9a56-5bb4ca895fe9"
      },
      "source": [
        "preds"
      ],
      "execution_count": 11,
      "outputs": [
        {
          "output_type": "execute_result",
          "data": {
            "text/plain": [
              "array([0, 1, 1, 1, 0, 0, 0, 0, 0, 0, 1, 1, 1, 1, 1, 0, 0, 0, 0, 0, 0, 0,\n",
              "       0, 1, 1, 0, 0, 1, 0, 0, 0, 0, 0, 1, 0, 0, 1, 1, 1, 1, 0, 1, 1, 1,\n",
              "       1, 0, 0, 1, 1, 1, 0])"
            ]
          },
          "metadata": {},
          "execution_count": 11
        }
      ]
    },
    {
      "cell_type": "code",
      "metadata": {
        "colab": {
          "base_uri": "https://localhost:8080/"
        },
        "outputId": "bcdf3b58-b0d9-4550-c6c5-9328e93452a7",
        "id": "-kxBDaKxzO2e"
      },
      "source": [
        "cf_matrix = confusion_matrix(Y_test, preds)\n",
        "print(cf_matrix)"
      ],
      "execution_count": 12,
      "outputs": [
        {
          "output_type": "stream",
          "name": "stdout",
          "text": [
            "[[23  8]\n",
            " [ 5 15]]\n"
          ]
        }
      ]
    },
    {
      "cell_type": "code",
      "source": [
        "###Recall\n",
        "def recall(y_test, preds):\n",
        "  recall=recall_score(y_test, preds)\n",
        "  return recall\n",
        "def MCC(y_test, preds):\n",
        "  MCC= matthews_corrcoef(y_test, preds) \n",
        "  return MCC\n",
        "### MCC\n",
        "def MCC(y_test, preds):\n",
        "  MCC= matthews_corrcoef(y_test, preds) \n",
        "  return MCC\n",
        "### sensibilite\n",
        "def sensibilite(y_test, preds):\n",
        "  cf_matrix = confusion_matrix(y_test, preds)\n",
        "  sensibilite =  (cf_matrix[1,1])/(cf_matrix[1,1]+cf_matrix[1,0])\n",
        "  return sensibilite\n",
        "### specifite \n",
        "def specifite(y_test, preds):\n",
        "  cf_matrix = confusion_matrix(y_test, preds)\n",
        "  specifite =  (cf_matrix[0,0])/(cf_matrix[0,0]+cf_matrix[0,1])\n",
        "  return specifite \n",
        "### kappa\n",
        "def kappa(y_test, preds):\n",
        "  value = cohen_kappa_score(y_test, preds)\n",
        "  return value\n",
        "### balancedacc\n",
        "def balancedacc(y_test, preds):\n",
        "  cf_matrix = confusion_matrix(y_test, preds)\n",
        "  sen = (cf_matrix[1,1])/(cf_matrix[1,1]+cf_matrix[1,0])\n",
        "  spe = (cf_matrix[0,0])/(cf_matrix[0,0]+cf_matrix[0,1])\n",
        "  value = (sen + spe)/2\n",
        "  return value\n",
        "def présicion_positive(y_test, preds):\n",
        "  cf_matrix = confusion_matrix(y_test, preds)\n",
        "  pre_pos =  (cf_matrix[1,1])/(cf_matrix[1,1]+cf_matrix[0,1])\n",
        "  return pre_pos\n",
        "def présicion_négative(y_test, preds):\n",
        "  cf_matrix = confusion_matrix(y_test, preds)\n",
        "  pre_pos =  (cf_matrix[0,0])/(cf_matrix[0,0]+cf_matrix[1,0])\n",
        "  return pre_pos\n",
        "  \n",
        "### courbe roc\n",
        "def plot_roc_curve(fper, tper):\n",
        "    plt.plot(fper, tper, color='red', label='ROC')\n",
        "    plt.plot([0, 1], [0, 1], color='green', linestyle='--')\n",
        "    plt.xlabel('False Positive Rate')\n",
        "    plt.ylabel('True Positive Rate')\n",
        "    plt.title('Receiver Operating Characteristic Curve')\n",
        "    plt.legend()\n",
        "    plt.show()"
      ],
      "metadata": {
        "id": "PT7afKHWJD6b"
      },
      "execution_count": 13,
      "outputs": []
    },
    {
      "cell_type": "code",
      "source": [
        "MCC(Y_test, preds)"
      ],
      "metadata": {
        "colab": {
          "base_uri": "https://localhost:8080/"
        },
        "id": "0YKjN3KXIaz7",
        "outputId": "2f3e2ea7-f7f5-47f9-f262-73e48056931c"
      },
      "execution_count": 14,
      "outputs": [
        {
          "output_type": "execute_result",
          "data": {
            "text/plain": [
              "0.4826819525953402"
            ]
          },
          "metadata": {},
          "execution_count": 14
        }
      ]
    },
    {
      "cell_type": "code",
      "source": [
        "recall(Y_test, preds)"
      ],
      "metadata": {
        "colab": {
          "base_uri": "https://localhost:8080/"
        },
        "id": "y5XZY6B2JD9D",
        "outputId": "7e8f0c42-6119-4c5e-a5c0-d3c50d5fda0f"
      },
      "execution_count": 15,
      "outputs": [
        {
          "output_type": "execute_result",
          "data": {
            "text/plain": [
              "0.75"
            ]
          },
          "metadata": {},
          "execution_count": 15
        }
      ]
    },
    {
      "cell_type": "code",
      "source": [
        "sensibilite(Y_test, preds)"
      ],
      "metadata": {
        "colab": {
          "base_uri": "https://localhost:8080/"
        },
        "id": "kqSk6bUfJD_T",
        "outputId": "c4622ce3-d038-4b48-bec4-fc3f4b05e61c"
      },
      "execution_count": 16,
      "outputs": [
        {
          "output_type": "execute_result",
          "data": {
            "text/plain": [
              "0.75"
            ]
          },
          "metadata": {},
          "execution_count": 16
        }
      ]
    },
    {
      "cell_type": "code",
      "source": [
        "specifite(Y_test, preds)"
      ],
      "metadata": {
        "colab": {
          "base_uri": "https://localhost:8080/"
        },
        "id": "pNQ0SMEcJEBk",
        "outputId": "a2fd207b-1707-4965-ec22-0191c240a563"
      },
      "execution_count": 17,
      "outputs": [
        {
          "output_type": "execute_result",
          "data": {
            "text/plain": [
              "0.7419354838709677"
            ]
          },
          "metadata": {},
          "execution_count": 17
        }
      ]
    },
    {
      "cell_type": "code",
      "source": [
        "présicion_négative(Y_test, preds)"
      ],
      "metadata": {
        "colab": {
          "base_uri": "https://localhost:8080/"
        },
        "id": "H2OR9PEknpHB",
        "outputId": "3cf7ac95-3715-43d6-8ec1-03ed40b0c4d0"
      },
      "execution_count": 18,
      "outputs": [
        {
          "output_type": "execute_result",
          "data": {
            "text/plain": [
              "0.8214285714285714"
            ]
          },
          "metadata": {},
          "execution_count": 18
        }
      ]
    },
    {
      "cell_type": "code",
      "source": [
        "présicion_positive(Y_test, preds)"
      ],
      "metadata": {
        "colab": {
          "base_uri": "https://localhost:8080/"
        },
        "id": "5F8mvboxno-8",
        "outputId": "e5fe9bd0-2c2e-4c23-9a17-ab21782fef2b"
      },
      "execution_count": 19,
      "outputs": [
        {
          "output_type": "execute_result",
          "data": {
            "text/plain": [
              "0.6521739130434783"
            ]
          },
          "metadata": {},
          "execution_count": 19
        }
      ]
    },
    {
      "cell_type": "code",
      "source": [
        "balancedacc(Y_test, preds)"
      ],
      "metadata": {
        "colab": {
          "base_uri": "https://localhost:8080/"
        },
        "id": "ZBb1_XQDnxip",
        "outputId": "47ce476a-6cf5-4502-9d0f-7c3d4a0edfd4"
      },
      "execution_count": 20,
      "outputs": [
        {
          "output_type": "execute_result",
          "data": {
            "text/plain": [
              "0.7459677419354839"
            ]
          },
          "metadata": {},
          "execution_count": 20
        }
      ]
    },
    {
      "cell_type": "code",
      "source": [
        "kappa(Y_test, preds)"
      ],
      "metadata": {
        "colab": {
          "base_uri": "https://localhost:8080/"
        },
        "id": "Oov8iFSGop2F",
        "outputId": "5e0b42c4-d977-47a9-eecb-2c4cb27be210"
      },
      "execution_count": 21,
      "outputs": [
        {
          "output_type": "execute_result",
          "data": {
            "text/plain": [
              "0.4791830322073841"
            ]
          },
          "metadata": {},
          "execution_count": 21
        }
      ]
    },
    {
      "cell_type": "code",
      "source": [
        "y_pred_proba = Classifier.predict_proba(X_test)[::,1]\n",
        "fpr, tpr, _ = metrics.roc_curve(Y_test,  y_pred_proba)\n",
        "auc = metrics.roc_auc_score(Y_test, y_pred_proba)\n",
        "plt.plot(fpr,tpr,label=\"xgboost, auc=\"+str(auc))\n",
        "plt.legend(loc=4)\n",
        "plt.show()"
      ],
      "metadata": {
        "colab": {
          "base_uri": "https://localhost:8080/",
          "height": 265
        },
        "id": "eOzFa818Ia2R",
        "outputId": "7f27f65b-d945-4f61-85cf-083bbf6213e8"
      },
      "execution_count": 22,
      "outputs": [
        {
          "output_type": "display_data",
          "data": {
            "image/png": "[encoded data removed]",
            "text/plain": [
              "<Figure size 432x288 with 1 Axes>"
            ]
          },
          "metadata": {
            "needs_background": "light"
          }
        }
      ]
    },
    {
      "cell_type": "markdown",
      "source": [
        "# Logistic"
      ],
      "metadata": {
        "id": "y9aeHkxsorEv"
      }
    },
    {
      "cell_type": "code",
      "source": [
        "Classifier1 = LogisticRegression(max_iter=100, solver='lbfgs', class_weight='balanced')"
      ],
      "metadata": {
        "id": "BqdBNQ8OtRBK"
      },
      "execution_count": 23,
      "outputs": []
    },
    {
      "cell_type": "code",
      "source": [
        "Classifier1.fit(X_app,Y_app)"
      ],
      "metadata": {
        "colab": {
          "base_uri": "https://localhost:8080/"
        },
        "outputId": "ef910249-2813-4e31-818f-c2c1d1a95238",
        "id": "cFamN3t7tRBN"
      },
      "execution_count": 24,
      "outputs": [
        {
          "output_type": "stream",
          "name": "stderr",
          "text": [
            "/usr/local/lib/python3.7/dist-packages/sklearn/linear_model/_logistic.py:818: ConvergenceWarning: lbfgs failed to converge (status=1):\n",
            "STOP: TOTAL NO. of ITERATIONS REACHED LIMIT.\n",
            "\n",
            "Increase the number of iterations (max_iter) or scale the data as shown in:\n",
            "    https://scikit-learn.org/stable/modules/preprocessing.html\n",
            "Please also refer to the documentation for alternative solver options:\n",
            "    https://scikit-learn.org/stable/modules/linear_model.html#logistic-regression\n",
            "  extra_warning_msg=_LOGISTIC_SOLVER_CONVERGENCE_MSG,\n"
          ]
        },
        {
          "output_type": "execute_result",
          "data": {
            "text/plain": [
              "LogisticRegression(class_weight='balanced')"
            ]
          },
          "metadata": {},
          "execution_count": 24
        }
      ]
    },
    {
      "cell_type": "code",
      "metadata": {
        "id": "WWCUVz41tRBN"
      },
      "source": [
        "preds1 = Classifier1.predict(X_test)"
      ],
      "execution_count": 25,
      "outputs": []
    },
    {
      "cell_type": "code",
      "metadata": {
        "colab": {
          "base_uri": "https://localhost:8080/"
        },
        "outputId": "9d90c87a-69c0-4eb6-fabb-7266df85a133",
        "id": "cLbQ1a3ytRBO"
      },
      "source": [
        "preds1"
      ],
      "execution_count": 26,
      "outputs": [
        {
          "output_type": "execute_result",
          "data": {
            "text/plain": [
              "array([1, 1, 1, 1, 0, 0, 0, 1, 0, 0, 1, 1, 1, 0, 1, 0, 0, 0, 0, 0, 0, 0,\n",
              "       0, 0, 0, 0, 0, 0, 0, 0, 0, 0, 0, 1, 0, 0, 1, 1, 1, 1, 1, 1, 1, 1,\n",
              "       1, 0, 0, 0, 1, 1, 1])"
            ]
          },
          "metadata": {},
          "execution_count": 26
        }
      ]
    },
    {
      "cell_type": "code",
      "metadata": {
        "colab": {
          "base_uri": "https://localhost:8080/"
        },
        "outputId": "db476af3-195f-4090-ca8d-01428b4e3d7a",
        "id": "jYdLZtC2tRBP"
      },
      "source": [
        "cf_matrix1 = confusion_matrix(Y_test, preds1)\n",
        "print(cf_matrix1)"
      ],
      "execution_count": 27,
      "outputs": [
        {
          "output_type": "stream",
          "name": "stdout",
          "text": [
            "[[24  7]\n",
            " [ 5 15]]\n"
          ]
        }
      ]
    },
    {
      "cell_type": "code",
      "source": [
        "MCC(Y_test, preds1)"
      ],
      "metadata": {
        "colab": {
          "base_uri": "https://localhost:8080/"
        },
        "outputId": "e2557759-ce31-457d-b2ea-5c4bd697b111",
        "id": "r9gihGeYtxi3"
      },
      "execution_count": 28,
      "outputs": [
        {
          "output_type": "execute_result",
          "data": {
            "text/plain": [
              "0.516746063443483"
            ]
          },
          "metadata": {},
          "execution_count": 28
        }
      ]
    },
    {
      "cell_type": "code",
      "source": [
        "recall(Y_test, preds1)"
      ],
      "metadata": {
        "colab": {
          "base_uri": "https://localhost:8080/"
        },
        "outputId": "247ae143-90a7-40ab-df63-aec2390d6ae9",
        "id": "nEBoze-Ptxi6"
      },
      "execution_count": 29,
      "outputs": [
        {
          "output_type": "execute_result",
          "data": {
            "text/plain": [
              "0.75"
            ]
          },
          "metadata": {},
          "execution_count": 29
        }
      ]
    },
    {
      "cell_type": "code",
      "source": [
        "sensibilite(Y_test, preds1)"
      ],
      "metadata": {
        "colab": {
          "base_uri": "https://localhost:8080/"
        },
        "outputId": "84df15ef-4387-4ed6-edc5-526bd66046a5",
        "id": "FeSUU13Dtxi6"
      },
      "execution_count": 30,
      "outputs": [
        {
          "output_type": "execute_result",
          "data": {
            "text/plain": [
              "0.75"
            ]
          },
          "metadata": {},
          "execution_count": 30
        }
      ]
    },
    {
      "cell_type": "code",
      "source": [
        "specifite(Y_test, preds1)"
      ],
      "metadata": {
        "colab": {
          "base_uri": "https://localhost:8080/"
        },
        "outputId": "80a3b558-1172-4f3f-deb4-f82f215e8415",
        "id": "dwQpig7Htxi6"
      },
      "execution_count": 31,
      "outputs": [
        {
          "output_type": "execute_result",
          "data": {
            "text/plain": [
              "0.7741935483870968"
            ]
          },
          "metadata": {},
          "execution_count": 31
        }
      ]
    },
    {
      "cell_type": "code",
      "source": [
        "présicion_négative(Y_test, preds1)"
      ],
      "metadata": {
        "colab": {
          "base_uri": "https://localhost:8080/"
        },
        "outputId": "f476d4aa-8feb-4365-9ad1-677903273095",
        "id": "6H7Fh0xYtxi8"
      },
      "execution_count": 32,
      "outputs": [
        {
          "output_type": "execute_result",
          "data": {
            "text/plain": [
              "0.8275862068965517"
            ]
          },
          "metadata": {},
          "execution_count": 32
        }
      ]
    },
    {
      "cell_type": "code",
      "source": [
        "présicion_positive(Y_test, preds1)"
      ],
      "metadata": {
        "colab": {
          "base_uri": "https://localhost:8080/"
        },
        "outputId": "e437dc1e-57c3-4e25-ec96-1fcad42ee13d",
        "id": "76_2PqsYtxi9"
      },
      "execution_count": 33,
      "outputs": [
        {
          "output_type": "execute_result",
          "data": {
            "text/plain": [
              "0.6818181818181818"
            ]
          },
          "metadata": {},
          "execution_count": 33
        }
      ]
    },
    {
      "cell_type": "code",
      "source": [
        "balancedacc(Y_test, preds1)"
      ],
      "metadata": {
        "colab": {
          "base_uri": "https://localhost:8080/"
        },
        "outputId": "68db6dc7-3bd7-476c-9d3f-c7344056dc64",
        "id": "GnAaGf7Ftxi9"
      },
      "execution_count": 34,
      "outputs": [
        {
          "output_type": "execute_result",
          "data": {
            "text/plain": [
              "0.7620967741935484"
            ]
          },
          "metadata": {},
          "execution_count": 34
        }
      ]
    },
    {
      "cell_type": "code",
      "source": [
        "kappa(Y_test, preds1)"
      ],
      "metadata": {
        "colab": {
          "base_uri": "https://localhost:8080/"
        },
        "outputId": "97eac748-f87c-493f-b0e2-96ead1930838",
        "id": "qET4Gk3Jtxi-"
      },
      "execution_count": 35,
      "outputs": [
        {
          "output_type": "execute_result",
          "data": {
            "text/plain": [
              "0.5150554675118859"
            ]
          },
          "metadata": {},
          "execution_count": 35
        }
      ]
    },
    {
      "cell_type": "code",
      "source": [
        "y_pred_proba = Classifier1.predict_proba(X_test)[::,1]\n",
        "fpr, tpr, _ = metrics.roc_curve(Y_test,  y_pred_proba)\n",
        "auc = metrics.roc_auc_score(Y_test, y_pred_proba)\n",
        "plt.plot(fpr,tpr,label=\"logistique, auc=\"+str(auc))\n",
        "plt.legend(loc=4)\n",
        "plt.show()"
      ],
      "metadata": {
        "colab": {
          "base_uri": "https://localhost:8080/",
          "height": 265
        },
        "outputId": "1addf305-af77-42fa-9606-68f5df20baae",
        "id": "7KQf8mPRtxi-"
      },
      "execution_count": 36,
      "outputs": [
        {
          "output_type": "display_data",
          "data": {
            "image/png": "[encoded data removed]",
            "text/plain": [
              "<Figure size 432x288 with 1 Axes>"
            ]
          },
          "metadata": {
            "needs_background": "light"
          }
        }
      ]
    },
    {
      "cell_type": "markdown",
      "source": [
        "# Random_forest"
      ],
      "metadata": {
        "id": "zGlIAvl7x7Kc"
      }
    },
    {
      "cell_type": "code",
      "source": [
        "Classifier2 = RandomForestClassifier(n_estimators=100, criterion='gini', max_depth=5 ,min_samples_split=3)"
      ],
      "metadata": {
        "id": "OnTVCOaQx7Ke"
      },
      "execution_count": 37,
      "outputs": []
    },
    {
      "cell_type": "code",
      "source": [
        "Classifier2.fit(X_app,Y_app)"
      ],
      "metadata": {
        "colab": {
          "base_uri": "https://localhost:8080/"
        },
        "outputId": "1ab02097-e56f-4425-e5a5-d0b8847d0901",
        "id": "DXZaUbAOx7Kf"
      },
      "execution_count": 38,
      "outputs": [
        {
          "output_type": "execute_result",
          "data": {
            "text/plain": [
              "RandomForestClassifier(max_depth=5, min_samples_split=3)"
            ]
          },
          "metadata": {},
          "execution_count": 38
        }
      ]
    },
    {
      "cell_type": "code",
      "metadata": {
        "id": "gZ5dhlTJx7Kg"
      },
      "source": [
        "preds2 = Classifier2.predict(X_test)"
      ],
      "execution_count": 39,
      "outputs": []
    },
    {
      "cell_type": "code",
      "metadata": {
        "colab": {
          "base_uri": "https://localhost:8080/"
        },
        "outputId": "1bbfa74b-219a-48e4-ccb6-96f26005c9fe",
        "id": "3xri6EYkx7Kh"
      },
      "source": [
        "preds2"
      ],
      "execution_count": 40,
      "outputs": [
        {
          "output_type": "execute_result",
          "data": {
            "text/plain": [
              "array([0, 1, 1, 1, 0, 0, 0, 1, 0, 0, 1, 1, 1, 1, 1, 0, 0, 0, 0, 0, 0, 0,\n",
              "       0, 0, 1, 0, 0, 1, 0, 0, 0, 0, 0, 1, 0, 0, 1, 1, 1, 1, 0, 1, 1, 1,\n",
              "       1, 0, 0, 0, 1, 1, 0])"
            ]
          },
          "metadata": {},
          "execution_count": 40
        }
      ]
    },
    {
      "cell_type": "code",
      "metadata": {
        "colab": {
          "base_uri": "https://localhost:8080/"
        },
        "outputId": "aa4988ca-a1ba-4ab3-8c40-530344c8cae4",
        "id": "x_YXboonx7Kh"
      },
      "source": [
        "cf_matrix2 = confusion_matrix(Y_test, preds2)\n",
        "print(cf_matrix2)"
      ],
      "execution_count": 41,
      "outputs": [
        {
          "output_type": "stream",
          "name": "stdout",
          "text": [
            "[[23  8]\n",
            " [ 6 14]]\n"
          ]
        }
      ]
    },
    {
      "cell_type": "code",
      "source": [
        "MCC(Y_test, preds2)"
      ],
      "metadata": {
        "colab": {
          "base_uri": "https://localhost:8080/"
        },
        "outputId": "62e2d974-4ecc-4b8c-c2f4-78c4cadd727a",
        "id": "B7ku8BpLx7Ki"
      },
      "execution_count": 42,
      "outputs": [
        {
          "output_type": "execute_result",
          "data": {
            "text/plain": [
              "0.4356566811800441"
            ]
          },
          "metadata": {},
          "execution_count": 42
        }
      ]
    },
    {
      "cell_type": "code",
      "source": [
        "recall(Y_test, preds2)"
      ],
      "metadata": {
        "colab": {
          "base_uri": "https://localhost:8080/"
        },
        "outputId": "c4d34ae4-6bc9-4aa5-cab2-6ad1d09ee803",
        "id": "0-gUEv9Kx7Kj"
      },
      "execution_count": 43,
      "outputs": [
        {
          "output_type": "execute_result",
          "data": {
            "text/plain": [
              "0.7"
            ]
          },
          "metadata": {},
          "execution_count": 43
        }
      ]
    },
    {
      "cell_type": "code",
      "source": [
        "sensibilite(Y_test, preds2)"
      ],
      "metadata": {
        "colab": {
          "base_uri": "https://localhost:8080/"
        },
        "outputId": "056bba36-62a4-46b5-a867-67234e80024f",
        "id": "_Hm4Xdv3x7Kk"
      },
      "execution_count": 44,
      "outputs": [
        {
          "output_type": "execute_result",
          "data": {
            "text/plain": [
              "0.7"
            ]
          },
          "metadata": {},
          "execution_count": 44
        }
      ]
    },
    {
      "cell_type": "code",
      "source": [
        "specifite(Y_test, preds2)"
      ],
      "metadata": {
        "colab": {
          "base_uri": "https://localhost:8080/"
        },
        "outputId": "f4b16985-dc4d-4582-a28f-8add6974432f",
        "id": "rS3voaC9x7Kk"
      },
      "execution_count": 45,
      "outputs": [
        {
          "output_type": "execute_result",
          "data": {
            "text/plain": [
              "0.7419354838709677"
            ]
          },
          "metadata": {},
          "execution_count": 45
        }
      ]
    },
    {
      "cell_type": "code",
      "source": [
        "présicion_négative(Y_test, preds2)"
      ],
      "metadata": {
        "colab": {
          "base_uri": "https://localhost:8080/"
        },
        "outputId": "ffb5e403-0148-4c37-a69e-1b3f38b89255",
        "id": "aqcCGISAx7Kl"
      },
      "execution_count": 46,
      "outputs": [
        {
          "output_type": "execute_result",
          "data": {
            "text/plain": [
              "0.7931034482758621"
            ]
          },
          "metadata": {},
          "execution_count": 46
        }
      ]
    },
    {
      "cell_type": "code",
      "source": [
        "présicion_positive(Y_test, preds2)"
      ],
      "metadata": {
        "colab": {
          "base_uri": "https://localhost:8080/"
        },
        "outputId": "d090a401-a1ff-4d7f-c45d-570492eb2aac",
        "id": "7pbTegOYx7Km"
      },
      "execution_count": 47,
      "outputs": [
        {
          "output_type": "execute_result",
          "data": {
            "text/plain": [
              "0.6363636363636364"
            ]
          },
          "metadata": {},
          "execution_count": 47
        }
      ]
    },
    {
      "cell_type": "code",
      "source": [
        "balancedacc(Y_test, preds2)"
      ],
      "metadata": {
        "colab": {
          "base_uri": "https://localhost:8080/"
        },
        "outputId": "c6b8554f-371e-4146-f27a-453c3b5cf045",
        "id": "2svuWaynx7Kn"
      },
      "execution_count": 48,
      "outputs": [
        {
          "output_type": "execute_result",
          "data": {
            "text/plain": [
              "0.7209677419354839"
            ]
          },
          "metadata": {},
          "execution_count": 48
        }
      ]
    },
    {
      "cell_type": "code",
      "source": [
        "kappa(Y_test, preds2)"
      ],
      "metadata": {
        "colab": {
          "base_uri": "https://localhost:8080/"
        },
        "outputId": "ffc73f89-69b0-4b2d-c7ce-4600c07e6002",
        "id": "_fj8QvtYx7Kn"
      },
      "execution_count": 49,
      "outputs": [
        {
          "output_type": "execute_result",
          "data": {
            "text/plain": [
              "0.43423137876386686"
            ]
          },
          "metadata": {},
          "execution_count": 49
        }
      ]
    },
    {
      "cell_type": "code",
      "source": [
        "y_pred_proba = Classifier2.predict_proba(X_test)[::,1]\n",
        "fpr, tpr, _ = metrics.roc_curve(Y_test,  y_pred_proba)\n",
        "auc = metrics.roc_auc_score(Y_test, y_pred_proba)\n",
        "plt.plot(fpr,tpr,label=\"random_forest, auc=\"+str(auc))\n",
        "plt.legend(loc=4)\n",
        "plt.show()"
      ],
      "metadata": {
        "colab": {
          "base_uri": "https://localhost:8080/",
          "height": 265
        },
        "outputId": "38474b28-e187-4fe4-a153-1bc92396261d",
        "id": "m_3yw9xWx7Ko"
      },
      "execution_count": 50,
      "outputs": [
        {
          "output_type": "display_data",
          "data": {
            "image/png": "[encoded data removed]",
            "text/plain": [
              "<Figure size 432x288 with 1 Axes>"
            ]
          },
          "metadata": {
            "needs_background": "light"
          }
        }
      ]
    },
    {
      "cell_type": "markdown",
      "source": [
        "# Gradient_Boostnig"
      ],
      "metadata": {
        "id": "JI7145L2uHrL"
      }
    },
    {
      "cell_type": "code",
      "source": [
        "Classifier3 = GradientBoostingClassifier(n_estimators=225, learning_rate=0.1, max_features=2, max_depth=2, random_state=0,min_samples_leaf=2,subsample=1 )"
      ],
      "metadata": {
        "id": "qVCjVU68uGBZ"
      },
      "execution_count": 51,
      "outputs": []
    },
    {
      "cell_type": "code",
      "source": [
        "Classifier3.fit(X_app,Y_app)"
      ],
      "metadata": {
        "colab": {
          "base_uri": "https://localhost:8080/"
        },
        "outputId": "38a5f836-139a-4550-931e-ddafea3058c6",
        "id": "BIMZEAdVuGBb"
      },
      "execution_count": 52,
      "outputs": [
        {
          "output_type": "execute_result",
          "data": {
            "text/plain": [
              "GradientBoostingClassifier(max_depth=2, max_features=2, min_samples_leaf=2,\n",
              "                           n_estimators=225, random_state=0, subsample=1)"
            ]
          },
          "metadata": {},
          "execution_count": 52
        }
      ]
    },
    {
      "cell_type": "code",
      "metadata": {
        "id": "7hG6F5ZyuGBc"
      },
      "source": [
        "preds3 = Classifier3.predict(X_test)"
      ],
      "execution_count": 53,
      "outputs": []
    },
    {
      "cell_type": "code",
      "metadata": {
        "colab": {
          "base_uri": "https://localhost:8080/"
        },
        "outputId": "ee922292-790f-4b7c-8f58-09d40b463d66",
        "id": "4k9JFc37uGBc"
      },
      "source": [
        "preds3"
      ],
      "execution_count": 54,
      "outputs": [
        {
          "output_type": "execute_result",
          "data": {
            "text/plain": [
              "array([0, 1, 1, 1, 0, 0, 0, 1, 0, 0, 1, 1, 1, 1, 1, 0, 0, 0, 0, 1, 0, 0,\n",
              "       0, 1, 1, 0, 0, 1, 0, 1, 0, 0, 0, 1, 0, 0, 1, 1, 1, 1, 1, 1, 1, 1,\n",
              "       1, 0, 0, 0, 1, 1, 1])"
            ]
          },
          "metadata": {},
          "execution_count": 54
        }
      ]
    },
    {
      "cell_type": "code",
      "metadata": {
        "colab": {
          "base_uri": "https://localhost:8080/"
        },
        "outputId": "bf33d50f-b9df-421f-e2a3-cba581cbcae5",
        "id": "fVfK5rx0uGBd"
      },
      "source": [
        "cf_matrix3 = confusion_matrix(Y_test, preds3)\n",
        "print(cf_matrix3)"
      ],
      "execution_count": 55,
      "outputs": [
        {
          "output_type": "stream",
          "name": "stdout",
          "text": [
            "[[20 11]\n",
            " [ 4 16]]\n"
          ]
        }
      ]
    },
    {
      "cell_type": "code",
      "source": [
        "MCC(Y_test, preds3)"
      ],
      "metadata": {
        "colab": {
          "base_uri": "https://localhost:8080/"
        },
        "outputId": "32aeccad-356d-4cf5-c6c4-d748b923dd5f",
        "id": "vbOeDj1BuGBe"
      },
      "execution_count": 56,
      "outputs": [
        {
          "output_type": "execute_result",
          "data": {
            "text/plain": [
              "0.435437406256083"
            ]
          },
          "metadata": {},
          "execution_count": 56
        }
      ]
    },
    {
      "cell_type": "code",
      "source": [
        "recall(Y_test, preds3)"
      ],
      "metadata": {
        "colab": {
          "base_uri": "https://localhost:8080/"
        },
        "outputId": "3a044f44-c6b0-4480-b87d-3c00433c4777",
        "id": "C9aawbDzuGBe"
      },
      "execution_count": 57,
      "outputs": [
        {
          "output_type": "execute_result",
          "data": {
            "text/plain": [
              "0.8"
            ]
          },
          "metadata": {},
          "execution_count": 57
        }
      ]
    },
    {
      "cell_type": "code",
      "source": [
        "sensibilite(Y_test, preds3)"
      ],
      "metadata": {
        "colab": {
          "base_uri": "https://localhost:8080/"
        },
        "outputId": "367f3db0-c479-4561-f6d7-ac076d8dd6da",
        "id": "MQOsFFQ6uGBf"
      },
      "execution_count": 58,
      "outputs": [
        {
          "output_type": "execute_result",
          "data": {
            "text/plain": [
              "0.8"
            ]
          },
          "metadata": {},
          "execution_count": 58
        }
      ]
    },
    {
      "cell_type": "code",
      "source": [
        "specifite(Y_test, preds3)"
      ],
      "metadata": {
        "colab": {
          "base_uri": "https://localhost:8080/"
        },
        "outputId": "0c7253a2-865f-4467-ecf1-890d9a6e0f8b",
        "id": "mM4JBuWiuGBf"
      },
      "execution_count": 59,
      "outputs": [
        {
          "output_type": "execute_result",
          "data": {
            "text/plain": [
              "0.6451612903225806"
            ]
          },
          "metadata": {},
          "execution_count": 59
        }
      ]
    },
    {
      "cell_type": "code",
      "source": [
        "présicion_négative(Y_test, preds3)"
      ],
      "metadata": {
        "colab": {
          "base_uri": "https://localhost:8080/"
        },
        "outputId": "4c20e2ef-3f6d-4da5-c5c8-7fc80de75881",
        "id": "6_VmQRhwuGBg"
      },
      "execution_count": 60,
      "outputs": [
        {
          "output_type": "execute_result",
          "data": {
            "text/plain": [
              "0.8333333333333334"
            ]
          },
          "metadata": {},
          "execution_count": 60
        }
      ]
    },
    {
      "cell_type": "code",
      "source": [
        "présicion_positive(Y_test, preds3)"
      ],
      "metadata": {
        "colab": {
          "base_uri": "https://localhost:8080/"
        },
        "outputId": "ce54c894-4ceb-4a1c-e288-515bffb32a4e",
        "id": "WaWhbVz0uGBh"
      },
      "execution_count": 61,
      "outputs": [
        {
          "output_type": "execute_result",
          "data": {
            "text/plain": [
              "0.5925925925925926"
            ]
          },
          "metadata": {},
          "execution_count": 61
        }
      ]
    },
    {
      "cell_type": "code",
      "source": [
        "balancedacc(Y_test, preds3)"
      ],
      "metadata": {
        "colab": {
          "base_uri": "https://localhost:8080/"
        },
        "outputId": "77ba307b-90c9-4da2-81dd-bf76cec8f278",
        "id": "vD0WviqluGBi"
      },
      "execution_count": 62,
      "outputs": [
        {
          "output_type": "execute_result",
          "data": {
            "text/plain": [
              "0.7225806451612904"
            ]
          },
          "metadata": {},
          "execution_count": 62
        }
      ]
    },
    {
      "cell_type": "code",
      "source": [
        "kappa(Y_test, preds3)"
      ],
      "metadata": {
        "colab": {
          "base_uri": "https://localhost:8080/"
        },
        "outputId": "b8a7680b-e829-485c-fab0-76aae59d9cff",
        "id": "fkjFRlqVuGBj"
      },
      "execution_count": 63,
      "outputs": [
        {
          "output_type": "execute_result",
          "data": {
            "text/plain": [
              "0.419134396355353"
            ]
          },
          "metadata": {},
          "execution_count": 63
        }
      ]
    },
    {
      "cell_type": "code",
      "source": [
        "y_pred_proba = Classifier3.predict_proba(X_test)[::,1]\n",
        "fpr, tpr, _ = metrics.roc_curve(Y_test,  y_pred_proba)\n",
        "auc = metrics.roc_auc_score(Y_test, y_pred_proba)\n",
        "plt.plot(fpr,tpr,label=\"gradient_boosting, auc=\"+str(auc))\n",
        "plt.legend(loc=4)\n",
        "plt.show()"
      ],
      "metadata": {
        "colab": {
          "base_uri": "https://localhost:8080/",
          "height": 265
        },
        "outputId": "8321e550-e61d-43fa-c530-832e621d2999",
        "id": "AIZJ2moWuGBj"
      },
      "execution_count": 64,
      "outputs": [
        {
          "output_type": "display_data",
          "data": {
            "image/png": "[encoded data removed]",
            "text/plain": [
              "<Figure size 432x288 with 1 Axes>"
            ]
          },
          "metadata": {
            "needs_background": "light"
          }
        }
      ]
    },
    {
      "cell_type": "markdown",
      "source": [
        "# Gaussian"
      ],
      "metadata": {
        "id": "M_oLoKwYyQ5r"
      }
    },
    {
      "cell_type": "code",
      "source": [
        "Classifier4 = GaussianNB()"
      ],
      "metadata": {
        "id": "R3n-YXTPyOrL"
      },
      "execution_count": 65,
      "outputs": []
    },
    {
      "cell_type": "code",
      "source": [
        "Classifier4.fit(X_app,Y_app)"
      ],
      "metadata": {
        "colab": {
          "base_uri": "https://localhost:8080/"
        },
        "outputId": "68c01faa-df40-4f32-a761-1b746aa1a305",
        "id": "CqAOx3ZxyOrM"
      },
      "execution_count": 66,
      "outputs": [
        {
          "output_type": "execute_result",
          "data": {
            "text/plain": [
              "GaussianNB()"
            ]
          },
          "metadata": {},
          "execution_count": 66
        }
      ]
    },
    {
      "cell_type": "code",
      "metadata": {
        "id": "sUQwDdgHyOrN"
      },
      "source": [
        "preds4 = Classifier4.predict(X_test)"
      ],
      "execution_count": 67,
      "outputs": []
    },
    {
      "cell_type": "code",
      "metadata": {
        "colab": {
          "base_uri": "https://localhost:8080/"
        },
        "outputId": "301ee80c-7d26-41b7-aed5-c85bf244cc91",
        "id": "wgNGL6VZyOrN"
      },
      "source": [
        "preds4"
      ],
      "execution_count": 68,
      "outputs": [
        {
          "output_type": "execute_result",
          "data": {
            "text/plain": [
              "array([0, 1, 1, 1, 0, 0, 0, 0, 0, 0, 1, 1, 1, 0, 0, 0, 0, 0, 0, 0, 0, 0,\n",
              "       0, 0, 0, 0, 0, 1, 0, 0, 0, 0, 0, 0, 0, 0, 1, 1, 1, 1, 1, 1, 1, 1,\n",
              "       1, 0, 0, 0, 1, 1, 1])"
            ]
          },
          "metadata": {},
          "execution_count": 68
        }
      ]
    },
    {
      "cell_type": "code",
      "metadata": {
        "colab": {
          "base_uri": "https://localhost:8080/"
        },
        "outputId": "90e99902-7af1-4f7c-90e0-63f2d33b5ecf",
        "id": "lrM0H5CtyOrO"
      },
      "source": [
        "cf_matrix4 = confusion_matrix(Y_test, preds4)\n",
        "print(cf_matrix4)"
      ],
      "execution_count": 69,
      "outputs": [
        {
          "output_type": "stream",
          "name": "stdout",
          "text": [
            "[[27  4]\n",
            " [ 5 15]]\n"
          ]
        }
      ]
    },
    {
      "cell_type": "code",
      "source": [
        "MCC(Y_test, preds4)"
      ],
      "metadata": {
        "colab": {
          "base_uri": "https://localhost:8080/"
        },
        "outputId": "1688dfef-b09b-4045-efae-129562c60c1c",
        "id": "saxhWxoLyOrP"
      },
      "execution_count": 70,
      "outputs": [
        {
          "output_type": "execute_result",
          "data": {
            "text/plain": [
              "0.6270657711311297"
            ]
          },
          "metadata": {},
          "execution_count": 70
        }
      ]
    },
    {
      "cell_type": "code",
      "source": [
        "recall(Y_test, preds4)"
      ],
      "metadata": {
        "colab": {
          "base_uri": "https://localhost:8080/"
        },
        "outputId": "830b7452-33b7-4d11-dc4d-50706cc55536",
        "id": "x3ajiHmiyOrP"
      },
      "execution_count": 71,
      "outputs": [
        {
          "output_type": "execute_result",
          "data": {
            "text/plain": [
              "0.75"
            ]
          },
          "metadata": {},
          "execution_count": 71
        }
      ]
    },
    {
      "cell_type": "code",
      "source": [
        "sensibilite(Y_test, preds4)"
      ],
      "metadata": {
        "colab": {
          "base_uri": "https://localhost:8080/"
        },
        "outputId": "e51ee976-6f9f-473a-fa61-59f4457cc14b",
        "id": "rhznxgVNyOrQ"
      },
      "execution_count": 72,
      "outputs": [
        {
          "output_type": "execute_result",
          "data": {
            "text/plain": [
              "0.75"
            ]
          },
          "metadata": {},
          "execution_count": 72
        }
      ]
    },
    {
      "cell_type": "code",
      "source": [
        "specifite(Y_test, preds4)"
      ],
      "metadata": {
        "colab": {
          "base_uri": "https://localhost:8080/"
        },
        "outputId": "1fbfc16f-cbe7-4ffe-fab0-da4d32c767ff",
        "id": "wH2MIF2XyOrR"
      },
      "execution_count": 73,
      "outputs": [
        {
          "output_type": "execute_result",
          "data": {
            "text/plain": [
              "0.8709677419354839"
            ]
          },
          "metadata": {},
          "execution_count": 73
        }
      ]
    },
    {
      "cell_type": "code",
      "source": [
        "présicion_négative(Y_test, preds4)"
      ],
      "metadata": {
        "colab": {
          "base_uri": "https://localhost:8080/"
        },
        "outputId": "264ed879-355e-4e71-c759-d7b8b1b12229",
        "id": "jDbUhczcyOrS"
      },
      "execution_count": 74,
      "outputs": [
        {
          "output_type": "execute_result",
          "data": {
            "text/plain": [
              "0.84375"
            ]
          },
          "metadata": {},
          "execution_count": 74
        }
      ]
    },
    {
      "cell_type": "code",
      "source": [
        "présicion_positive(Y_test, preds4)"
      ],
      "metadata": {
        "colab": {
          "base_uri": "https://localhost:8080/"
        },
        "outputId": "27db60cf-d98f-48b6-c29b-2a73d1f8a05b",
        "id": "LT4yf35CyOrT"
      },
      "execution_count": 75,
      "outputs": [
        {
          "output_type": "execute_result",
          "data": {
            "text/plain": [
              "0.7894736842105263"
            ]
          },
          "metadata": {},
          "execution_count": 75
        }
      ]
    },
    {
      "cell_type": "code",
      "source": [
        "balancedacc(Y_test, preds4)"
      ],
      "metadata": {
        "colab": {
          "base_uri": "https://localhost:8080/"
        },
        "outputId": "207d8a8e-a77b-4392-cf0e-43ba04d2c0e7",
        "id": "y9KqoG0eyOrU"
      },
      "execution_count": 76,
      "outputs": [
        {
          "output_type": "execute_result",
          "data": {
            "text/plain": [
              "0.810483870967742"
            ]
          },
          "metadata": {},
          "execution_count": 76
        }
      ]
    },
    {
      "cell_type": "code",
      "source": [
        "kappa(Y_test, preds4)"
      ],
      "metadata": {
        "colab": {
          "base_uri": "https://localhost:8080/"
        },
        "outputId": "080f68e5-1dba-4897-be1f-eebed216763d",
        "id": "4MwUWhdByOrU"
      },
      "execution_count": 77,
      "outputs": [
        {
          "output_type": "execute_result",
          "data": {
            "text/plain": [
              "0.6265256305939788"
            ]
          },
          "metadata": {},
          "execution_count": 77
        }
      ]
    },
    {
      "cell_type": "code",
      "source": [
        "y_pred_proba = Classifier4.predict_proba(X_test)[::,1]\n",
        "fpr, tpr, _ = metrics.roc_curve(Y_test,  y_pred_proba)\n",
        "auc = metrics.roc_auc_score(Y_test, y_pred_proba)\n",
        "plt.plot(fpr,tpr,label=\"gaussian, auc=\"+str(auc))\n",
        "plt.legend(loc=4)\n",
        "plt.show()"
      ],
      "metadata": {
        "colab": {
          "base_uri": "https://localhost:8080/",
          "height": 265
        },
        "outputId": "8ab80176-9784-4057-8710-b0728f776337",
        "id": "8no7Z5gvyOrV"
      },
      "execution_count": 78,
      "outputs": [
        {
          "output_type": "display_data",
          "data": {
            "image/png": "[encoded data removed]",
            "text/plain": [
              "<Figure size 432x288 with 1 Axes>"
            ]
          },
          "metadata": {
            "needs_background": "light"
          }
        }
      ]
    },
    {
      "cell_type": "markdown",
      "source": [
        "# KNN"
      ],
      "metadata": {
        "id": "MjRfnmXjz57x"
      }
    },
    {
      "cell_type": "code",
      "source": [
        "Classifier5 = KNeighborsClassifier(n_neighbors=5)"
      ],
      "metadata": {
        "id": "OsjObBSfz4IN"
      },
      "execution_count": 79,
      "outputs": []
    },
    {
      "cell_type": "code",
      "source": [
        "Classifier5.fit(X_app,Y_app)"
      ],
      "metadata": {
        "colab": {
          "base_uri": "https://localhost:8080/"
        },
        "outputId": "afac24de-d024-4e6d-ca8d-faf487cd776d",
        "id": "nB069cUFz4IP"
      },
      "execution_count": 80,
      "outputs": [
        {
          "output_type": "execute_result",
          "data": {
            "text/plain": [
              "KNeighborsClassifier()"
            ]
          },
          "metadata": {},
          "execution_count": 80
        }
      ]
    },
    {
      "cell_type": "code",
      "metadata": {
        "id": "ubEW3-dVz4IQ"
      },
      "source": [
        "preds5 = Classifier5.predict(X_test)"
      ],
      "execution_count": 81,
      "outputs": []
    },
    {
      "cell_type": "code",
      "metadata": {
        "colab": {
          "base_uri": "https://localhost:8080/"
        },
        "outputId": "a130c353-6da8-40fb-8a62-6a24db56b552",
        "id": "Jt1k3-_iz4IQ"
      },
      "source": [
        "preds5"
      ],
      "execution_count": 82,
      "outputs": [
        {
          "output_type": "execute_result",
          "data": {
            "text/plain": [
              "array([1, 1, 1, 1, 0, 0, 0, 1, 0, 1, 0, 1, 1, 1, 1, 0, 0, 0, 0, 1, 1, 1,\n",
              "       0, 1, 0, 1, 0, 1, 0, 0, 1, 1, 0, 0, 0, 0, 0, 1, 1, 0, 0, 1, 1, 1,\n",
              "       0, 0, 0, 0, 1, 1, 1])"
            ]
          },
          "metadata": {},
          "execution_count": 82
        }
      ]
    },
    {
      "cell_type": "code",
      "metadata": {
        "colab": {
          "base_uri": "https://localhost:8080/"
        },
        "outputId": "66d4fd38-8ef9-483b-ae9f-ac57a8dd20a8",
        "id": "Cur8wap4z4IR"
      },
      "source": [
        "cf_matrix5 = confusion_matrix(Y_test, preds5)\n",
        "print(cf_matrix5)"
      ],
      "execution_count": 83,
      "outputs": [
        {
          "output_type": "stream",
          "name": "stdout",
          "text": [
            "[[18 13]\n",
            " [ 7 13]]\n"
          ]
        }
      ]
    },
    {
      "cell_type": "code",
      "source": [
        "MCC(Y_test, preds5)"
      ],
      "metadata": {
        "colab": {
          "base_uri": "https://localhost:8080/"
        },
        "outputId": "efb95216-10b0-4b4b-d99e-6220b2d75420",
        "id": "CCCChR6jz4IS"
      },
      "execution_count": 84,
      "outputs": [
        {
          "output_type": "execute_result",
          "data": {
            "text/plain": [
              "0.22525970674728088"
            ]
          },
          "metadata": {},
          "execution_count": 84
        }
      ]
    },
    {
      "cell_type": "code",
      "source": [
        "recall(Y_test, preds5)"
      ],
      "metadata": {
        "colab": {
          "base_uri": "https://localhost:8080/"
        },
        "outputId": "8f405c52-85b6-4389-e25d-93903cb6b766",
        "id": "7hSSJP_Dz4IS"
      },
      "execution_count": 85,
      "outputs": [
        {
          "output_type": "execute_result",
          "data": {
            "text/plain": [
              "0.65"
            ]
          },
          "metadata": {},
          "execution_count": 85
        }
      ]
    },
    {
      "cell_type": "code",
      "source": [
        "sensibilite(Y_test, preds5)"
      ],
      "metadata": {
        "colab": {
          "base_uri": "https://localhost:8080/"
        },
        "outputId": "30d82f57-a86a-4943-a906-19af5b750da5",
        "id": "AlNCQlajz4IT"
      },
      "execution_count": 86,
      "outputs": [
        {
          "output_type": "execute_result",
          "data": {
            "text/plain": [
              "0.65"
            ]
          },
          "metadata": {},
          "execution_count": 86
        }
      ]
    },
    {
      "cell_type": "code",
      "source": [
        "specifite(Y_test, preds5)"
      ],
      "metadata": {
        "colab": {
          "base_uri": "https://localhost:8080/"
        },
        "outputId": "f1c47c6b-9eea-4dc3-dd7a-5e70e30901f0",
        "id": "fQZd8sYbz4IU"
      },
      "execution_count": 87,
      "outputs": [
        {
          "output_type": "execute_result",
          "data": {
            "text/plain": [
              "0.5806451612903226"
            ]
          },
          "metadata": {},
          "execution_count": 87
        }
      ]
    },
    {
      "cell_type": "code",
      "source": [
        "présicion_négative(Y_test, preds5)"
      ],
      "metadata": {
        "colab": {
          "base_uri": "https://localhost:8080/"
        },
        "outputId": "c694056d-bcf8-4c98-afa3-da232d4d9974",
        "id": "eiy_lIEAz4IV"
      },
      "execution_count": 88,
      "outputs": [
        {
          "output_type": "execute_result",
          "data": {
            "text/plain": [
              "0.72"
            ]
          },
          "metadata": {},
          "execution_count": 88
        }
      ]
    },
    {
      "cell_type": "code",
      "source": [
        "présicion_positive(Y_test, preds5)"
      ],
      "metadata": {
        "colab": {
          "base_uri": "https://localhost:8080/"
        },
        "outputId": "f98bbb0c-b8c2-456e-a936-b895647e0bd1",
        "id": "yDxiQZ1oz4IW"
      },
      "execution_count": 89,
      "outputs": [
        {
          "output_type": "execute_result",
          "data": {
            "text/plain": [
              "0.5"
            ]
          },
          "metadata": {},
          "execution_count": 89
        }
      ]
    },
    {
      "cell_type": "code",
      "source": [
        "balancedacc(Y_test, preds5)"
      ],
      "metadata": {
        "colab": {
          "base_uri": "https://localhost:8080/"
        },
        "outputId": "d2afa30d-1a1a-43ab-bf3a-b47ed9477d6e",
        "id": "4lrr3y6jz4IW"
      },
      "execution_count": 90,
      "outputs": [
        {
          "output_type": "execute_result",
          "data": {
            "text/plain": [
              "0.6153225806451613"
            ]
          },
          "metadata": {},
          "execution_count": 90
        }
      ]
    },
    {
      "cell_type": "code",
      "source": [
        "kappa(Y_test, preds5)"
      ],
      "metadata": {
        "colab": {
          "base_uri": "https://localhost:8080/"
        },
        "outputId": "a0466141-1333-43a5-fcbe-07e68a650fb7",
        "id": "r0uSmog4z4IX"
      },
      "execution_count": 91,
      "outputs": [
        {
          "output_type": "execute_result",
          "data": {
            "text/plain": [
              "0.21898928024502307"
            ]
          },
          "metadata": {},
          "execution_count": 91
        }
      ]
    },
    {
      "cell_type": "code",
      "source": [
        "y_pred_proba = Classifier5.predict_proba(X_test)[::,1]\n",
        "fpr, tpr, _ = metrics.roc_curve(Y_test,  y_pred_proba)\n",
        "auc = metrics.roc_auc_score(Y_test, y_pred_proba)\n",
        "plt.plot(fpr,tpr,label=\"KNN, auc=\"+str(auc))\n",
        "plt.legend(loc=4)\n",
        "plt.show()"
      ],
      "metadata": {
        "colab": {
          "base_uri": "https://localhost:8080/",
          "height": 265
        },
        "outputId": "b80e8987-b656-4840-8d02-ba32832becc2",
        "id": "iQ65_5xLz4IX"
      },
      "execution_count": 92,
      "outputs": [
        {
          "output_type": "display_data",
          "data": {
            "image/png": "[encoded data removed]",
            "text/plain": [
              "<Figure size 432x288 with 1 Axes>"
            ]
          },
          "metadata": {
            "needs_background": "light"
          }
        }
      ]
    },
    {
      "cell_type": "markdown",
      "source": [
        "# MLPC"
      ],
      "metadata": {
        "id": "JSOjmzRT48EB"
      }
    },
    {
      "cell_type": "code",
      "source": [
        "from sklearn.neural_network import MLPClassifier"
      ],
      "metadata": {
        "id": "kTrWiH8BgHUe"
      },
      "execution_count": 93,
      "outputs": []
    },
    {
      "cell_type": "code",
      "source": [
        "Classifier6 = MLPClassifier(hidden_layer_sizes=100,max_iter=300)"
      ],
      "metadata": {
        "id": "u8ZCVkyH7au6"
      },
      "execution_count": 94,
      "outputs": []
    },
    {
      "cell_type": "code",
      "source": [
        "Classifier6.fit(X_app,Y_app)"
      ],
      "metadata": {
        "colab": {
          "base_uri": "https://localhost:8080/"
        },
        "outputId": "e7e52863-3cca-4d3d-9bf9-efb32a2b871f",
        "id": "3q96K7k_7au7"
      },
      "execution_count": 95,
      "outputs": [
        {
          "output_type": "execute_result",
          "data": {
            "text/plain": [
              "MLPClassifier(hidden_layer_sizes=100, max_iter=300)"
            ]
          },
          "metadata": {},
          "execution_count": 95
        }
      ]
    },
    {
      "cell_type": "code",
      "metadata": {
        "id": "bmwFgVgZ7au9"
      },
      "source": [
        "preds6 = Classifier6.predict(X_test)"
      ],
      "execution_count": 96,
      "outputs": []
    },
    {
      "cell_type": "code",
      "metadata": {
        "colab": {
          "base_uri": "https://localhost:8080/"
        },
        "outputId": "63d22b7f-6b43-4b07-ecdf-0ce045fb0c95",
        "id": "fw-in7Pn7au_"
      },
      "source": [
        "preds6"
      ],
      "execution_count": 97,
      "outputs": [
        {
          "output_type": "execute_result",
          "data": {
            "text/plain": [
              "array([1, 1, 1, 1, 0, 0, 0, 0, 0, 0, 1, 1, 1, 1, 1, 0, 0, 0, 0, 0, 0, 0,\n",
              "       0, 0, 1, 1, 1, 0, 0, 1, 0, 0, 1, 0, 0, 0, 0, 1, 1, 1, 0, 1, 0, 0,\n",
              "       0, 0, 1, 0, 1, 1, 1])"
            ]
          },
          "metadata": {},
          "execution_count": 97
        }
      ]
    },
    {
      "cell_type": "code",
      "metadata": {
        "colab": {
          "base_uri": "https://localhost:8080/"
        },
        "outputId": "357741bc-e849-4c95-fb34-98e5d2d83d40",
        "id": "_lfXsjfr7avA"
      },
      "source": [
        "cf_matrix6 = confusion_matrix(Y_test, preds6)\n",
        "print(cf_matrix6)"
      ],
      "execution_count": 98,
      "outputs": [
        {
          "output_type": "stream",
          "name": "stdout",
          "text": [
            "[[22  9]\n",
            " [ 7 13]]\n"
          ]
        }
      ]
    },
    {
      "cell_type": "code",
      "source": [
        "MCC(Y_test, preds6)"
      ],
      "metadata": {
        "colab": {
          "base_uri": "https://localhost:8080/"
        },
        "outputId": "f3763d75-6add-4525-fd92-656a77e40a7d",
        "id": "7pu_dMGr7avB"
      },
      "execution_count": 99,
      "outputs": [
        {
          "output_type": "execute_result",
          "data": {
            "text/plain": [
              "0.3545672989166052"
            ]
          },
          "metadata": {},
          "execution_count": 99
        }
      ]
    },
    {
      "cell_type": "code",
      "source": [
        "recall(Y_test, preds6)"
      ],
      "metadata": {
        "colab": {
          "base_uri": "https://localhost:8080/"
        },
        "outputId": "656e8a5f-eaba-4dd4-ff6e-2be846fdf550",
        "id": "q910vxIg7avC"
      },
      "execution_count": 100,
      "outputs": [
        {
          "output_type": "execute_result",
          "data": {
            "text/plain": [
              "0.65"
            ]
          },
          "metadata": {},
          "execution_count": 100
        }
      ]
    },
    {
      "cell_type": "code",
      "source": [
        "sensibilite(Y_test, preds6)"
      ],
      "metadata": {
        "colab": {
          "base_uri": "https://localhost:8080/"
        },
        "outputId": "b2278cc5-9662-4103-a448-58a22608a826",
        "id": "-EHzWArf7avC"
      },
      "execution_count": 101,
      "outputs": [
        {
          "output_type": "execute_result",
          "data": {
            "text/plain": [
              "0.65"
            ]
          },
          "metadata": {},
          "execution_count": 101
        }
      ]
    },
    {
      "cell_type": "code",
      "source": [
        "specifite(Y_test, preds6)"
      ],
      "metadata": {
        "colab": {
          "base_uri": "https://localhost:8080/"
        },
        "outputId": "18a202b6-97ed-47c5-ce57-3895ddbf2bbf",
        "id": "Dht6FOif7avD"
      },
      "execution_count": 102,
      "outputs": [
        {
          "output_type": "execute_result",
          "data": {
            "text/plain": [
              "0.7096774193548387"
            ]
          },
          "metadata": {},
          "execution_count": 102
        }
      ]
    },
    {
      "cell_type": "code",
      "source": [
        "présicion_négative(Y_test, preds6)"
      ],
      "metadata": {
        "colab": {
          "base_uri": "https://localhost:8080/"
        },
        "outputId": "ed7f4942-4ecb-4bb7-b89b-e391b7f95181",
        "id": "EvET3j2E7avD"
      },
      "execution_count": 103,
      "outputs": [
        {
          "output_type": "execute_result",
          "data": {
            "text/plain": [
              "0.7586206896551724"
            ]
          },
          "metadata": {},
          "execution_count": 103
        }
      ]
    },
    {
      "cell_type": "code",
      "source": [
        "présicion_positive(Y_test, preds6)"
      ],
      "metadata": {
        "colab": {
          "base_uri": "https://localhost:8080/"
        },
        "outputId": "e2420767-f080-47ff-d646-ebdbccba86ac",
        "id": "swTtPanh7avE"
      },
      "execution_count": 104,
      "outputs": [
        {
          "output_type": "execute_result",
          "data": {
            "text/plain": [
              "0.5909090909090909"
            ]
          },
          "metadata": {},
          "execution_count": 104
        }
      ]
    },
    {
      "cell_type": "code",
      "source": [
        "balancedacc(Y_test, preds6)"
      ],
      "metadata": {
        "colab": {
          "base_uri": "https://localhost:8080/"
        },
        "outputId": "981bf974-599c-4efd-df5f-f8a37ef236fd",
        "id": "sjrSKyAD7avF"
      },
      "execution_count": 105,
      "outputs": [
        {
          "output_type": "execute_result",
          "data": {
            "text/plain": [
              "0.6798387096774194"
            ]
          },
          "metadata": {},
          "execution_count": 105
        }
      ]
    },
    {
      "cell_type": "code",
      "source": [
        "kappa(Y_test, preds6)"
      ],
      "metadata": {
        "colab": {
          "base_uri": "https://localhost:8080/"
        },
        "outputId": "c25b3738-2525-4e63-d9fa-53d46ba34881",
        "id": "yuImLPCt7avG"
      },
      "execution_count": 106,
      "outputs": [
        {
          "output_type": "execute_result",
          "data": {
            "text/plain": [
              "0.3534072900158479"
            ]
          },
          "metadata": {},
          "execution_count": 106
        }
      ]
    },
    {
      "cell_type": "code",
      "source": [
        "y_pred_proba = Classifier6.predict_proba(X_test)[::,1]\n",
        "fpr, tpr, _ = metrics.roc_curve(Y_test,  y_pred_proba)\n",
        "auc = metrics.roc_auc_score(Y_test, y_pred_proba)\n",
        "plt.plot(fpr,tpr,label=\"MLPC, auc=\"+str(auc))\n",
        "plt.legend(loc=4)\n",
        "plt.show()"
      ],
      "metadata": {
        "colab": {
          "base_uri": "https://localhost:8080/",
          "height": 265
        },
        "outputId": "c5eb7d07-f99f-48f7-ae98-d6ab8da6b5c8",
        "id": "axoaIvAd7avG"
      },
      "execution_count": 107,
      "outputs": [
        {
          "output_type": "display_data",
          "data": {
            "image/png": "[encoded data removed]",
            "text/plain": [
              "<Figure size 432x288 with 1 Axes>"
            ]
          },
          "metadata": {
            "needs_background": "light"
          }
        }
      ]
    },
    {
      "cell_type": "markdown",
      "source": [
        "# SVM"
      ],
      "metadata": {
        "id": "ZrStCapd-xfv"
      }
    },
    {
      "cell_type": "code",
      "source": [
        "Classifier7 = svm.SVC(kernel='rbf',gamma=0.05,C=12)"
      ],
      "metadata": {
        "id": "bL7fPd6m-xfx"
      },
      "execution_count": 108,
      "outputs": []
    },
    {
      "cell_type": "code",
      "source": [
        "Classifier7.fit(X_app,Y_app)"
      ],
      "metadata": {
        "colab": {
          "base_uri": "https://localhost:8080/"
        },
        "outputId": "ba5c3329-fa47-49ed-e639-c82d1ea258e4",
        "id": "-6xFLeXo-xfz"
      },
      "execution_count": 109,
      "outputs": [
        {
          "output_type": "execute_result",
          "data": {
            "text/plain": [
              "SVC(C=12, gamma=0.05)"
            ]
          },
          "metadata": {},
          "execution_count": 109
        }
      ]
    },
    {
      "cell_type": "code",
      "metadata": {
        "id": "RgkyEzm5-xf0"
      },
      "source": [
        "preds7 = Classifier7.predict(X_test)"
      ],
      "execution_count": 110,
      "outputs": []
    },
    {
      "cell_type": "code",
      "metadata": {
        "colab": {
          "base_uri": "https://localhost:8080/"
        },
        "outputId": "9062b2c9-c1bd-4127-b328-a7f33307481c",
        "id": "NFvKopxU-xf0"
      },
      "source": [
        "preds7"
      ],
      "execution_count": 111,
      "outputs": [
        {
          "output_type": "execute_result",
          "data": {
            "text/plain": [
              "array([1, 1, 1, 1, 0, 0, 0, 1, 0, 1, 1, 1, 1, 1, 1, 0, 1, 1, 0, 1, 1, 1,\n",
              "       1, 1, 1, 0, 1, 1, 1, 1, 1, 1, 0, 1, 0, 1, 0, 1, 1, 0, 1, 0, 0, 1,\n",
              "       1, 1, 1, 1, 1, 1, 0])"
            ]
          },
          "metadata": {},
          "execution_count": 111
        }
      ]
    },
    {
      "cell_type": "code",
      "metadata": {
        "colab": {
          "base_uri": "https://localhost:8080/"
        },
        "outputId": "51bd9e17-14b6-4ff9-c4e2-6ab57199ec56",
        "id": "-M83HpkZ-xf1"
      },
      "source": [
        "cf_matrix7 = confusion_matrix(Y_test, preds7)\n",
        "print(cf_matrix7)"
      ],
      "execution_count": 112,
      "outputs": [
        {
          "output_type": "stream",
          "name": "stdout",
          "text": [
            "[[ 9 22]\n",
            " [ 5 15]]\n"
          ]
        }
      ]
    },
    {
      "cell_type": "code",
      "source": [
        "MCC(Y_test, preds7)"
      ],
      "metadata": {
        "colab": {
          "base_uri": "https://localhost:8080/"
        },
        "outputId": "752c5ac8-fcd2-4591-8c53-b97e13dd82ce",
        "id": "ANDDZOPd-xf2"
      },
      "execution_count": 113,
      "outputs": [
        {
          "output_type": "execute_result",
          "data": {
            "text/plain": [
              "0.04411428900546388"
            ]
          },
          "metadata": {},
          "execution_count": 113
        }
      ]
    },
    {
      "cell_type": "code",
      "source": [
        "recall(Y_test, preds7)"
      ],
      "metadata": {
        "colab": {
          "base_uri": "https://localhost:8080/"
        },
        "outputId": "b3c475f9-9a4d-4d9c-f8c0-1c6b15502825",
        "id": "lg9p7hmj-xf3"
      },
      "execution_count": 114,
      "outputs": [
        {
          "output_type": "execute_result",
          "data": {
            "text/plain": [
              "0.75"
            ]
          },
          "metadata": {},
          "execution_count": 114
        }
      ]
    },
    {
      "cell_type": "code",
      "source": [
        "sensibilite(Y_test, preds7)"
      ],
      "metadata": {
        "colab": {
          "base_uri": "https://localhost:8080/"
        },
        "outputId": "36f03977-b655-4ace-b503-77b67cd6879f",
        "id": "_WPsB_k_-xf3"
      },
      "execution_count": 115,
      "outputs": [
        {
          "output_type": "execute_result",
          "data": {
            "text/plain": [
              "0.75"
            ]
          },
          "metadata": {},
          "execution_count": 115
        }
      ]
    },
    {
      "cell_type": "code",
      "source": [
        "specifite(Y_test, preds7)"
      ],
      "metadata": {
        "id": "LD3aqdbx-xf4",
        "outputId": "64801e86-09fd-4ab5-eb47-8a97723e69f7",
        "colab": {
          "base_uri": "https://localhost:8080/"
        }
      },
      "execution_count": 116,
      "outputs": [
        {
          "output_type": "execute_result",
          "data": {
            "text/plain": [
              "0.2903225806451613"
            ]
          },
          "metadata": {},
          "execution_count": 116
        }
      ]
    },
    {
      "cell_type": "code",
      "source": [
        "présicion_négative(Y_test, preds7)"
      ],
      "metadata": {
        "colab": {
          "base_uri": "https://localhost:8080/"
        },
        "outputId": "60ef27e7-9d66-4bd3-c6e8-720ced55e73b",
        "id": "oq8CHk5h-xf4"
      },
      "execution_count": 117,
      "outputs": [
        {
          "output_type": "execute_result",
          "data": {
            "text/plain": [
              "0.6428571428571429"
            ]
          },
          "metadata": {},
          "execution_count": 117
        }
      ]
    },
    {
      "cell_type": "code",
      "source": [
        "présicion_positive(Y_test, preds7)"
      ],
      "metadata": {
        "colab": {
          "base_uri": "https://localhost:8080/"
        },
        "outputId": "cf2b80fd-5f1f-4557-8bbc-9824d61f0bd2",
        "id": "7ExhWirz-xf5"
      },
      "execution_count": 118,
      "outputs": [
        {
          "output_type": "execute_result",
          "data": {
            "text/plain": [
              "0.40540540540540543"
            ]
          },
          "metadata": {},
          "execution_count": 118
        }
      ]
    },
    {
      "cell_type": "code",
      "source": [
        "balancedacc(Y_test, preds7)"
      ],
      "metadata": {
        "colab": {
          "base_uri": "https://localhost:8080/"
        },
        "outputId": "f71f2b07-3f11-43c4-ed26-837f564217a3",
        "id": "3O2CWE-V-xf6"
      },
      "execution_count": 119,
      "outputs": [
        {
          "output_type": "execute_result",
          "data": {
            "text/plain": [
              "0.5201612903225806"
            ]
          },
          "metadata": {},
          "execution_count": 119
        }
      ]
    },
    {
      "cell_type": "code",
      "source": [
        "kappa(Y_test, preds7)"
      ],
      "metadata": {
        "colab": {
          "base_uri": "https://localhost:8080/"
        },
        "outputId": "2dd270c3-ab7d-4f55-b937-9b103b14cb93",
        "id": "qa5wm9Y2-xf6"
      },
      "execution_count": 120,
      "outputs": [
        {
          "output_type": "execute_result",
          "data": {
            "text/plain": [
              "0.035038542396636174"
            ]
          },
          "metadata": {},
          "execution_count": 120
        }
      ]
    },
    {
      "cell_type": "code",
      "source": [
        "from sklearn.metrics import roc_auc_score"
      ],
      "metadata": {
        "id": "5gE_Ahhf5Wi2"
      },
      "execution_count": 121,
      "outputs": []
    },
    {
      "cell_type": "code",
      "source": [
        "roc_auc_score(Y_test, Classifier7.decision_function(X_test))"
      ],
      "metadata": {
        "id": "U3TC1DQW5Wmf",
        "outputId": "f0e32d40-57cc-44ca-f1e0-694e5f6c7246",
        "colab": {
          "base_uri": "https://localhost:8080/"
        }
      },
      "execution_count": 122,
      "outputs": [
        {
          "output_type": "execute_result",
          "data": {
            "text/plain": [
              "0.632258064516129"
            ]
          },
          "metadata": {},
          "execution_count": 122
        }
      ]
    }
  ]
}