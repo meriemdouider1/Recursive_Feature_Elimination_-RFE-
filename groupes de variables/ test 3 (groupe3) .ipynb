{
  "nbformat": 4,
  "nbformat_minor": 0,
  "metadata": {
    "colab": {
      "name": "Untitled79.ipynb",
      "provenance": [],
      "authorship_tag": "ABX9TyMHoYK0byIAW0MPYskqnPm7",
      "include_colab_link": true
    },
    "kernelspec": {
      "name": "python3",
      "display_name": "Python 3"
    },
    "language_info": {
      "name": "python"
    }
  },
  "cells": [
    {
      "cell_type": "markdown",
      "metadata": {
        "id": "view-in-github",
        "colab_type": "text"
      },
      "source": [
        "<a href=\"https://colab.research.google.com/github/meriemdouider1/mois1-mois2/blob/main/groupes%20de%20variables/%20test%203%20(groupe3)%20.ipynb\" target=\"_parent\"><img src=\"https://colab.research.google.com/assets/colab-badge.svg\" alt=\"Open In Colab\"/></a>"
      ]
    },
    {
      "cell_type": "code",
      "metadata": {
        "id": "RlmUgAkuFdId"
      },
      "source": [
        "import sklearn\n",
        "import pandas as pd\n",
        "import numpy as np\n",
        "import matplotlib.pyplot as plt\n",
        "import seaborn as sns\n",
        "from sklearn.model_selection import train_test_split\n",
        "from sklearn.ensemble import RandomForestRegressor, RandomForestClassifier\n",
        "from sklearn.metrics import roc_auc_score, r2_score\n",
        "import sklearn\n",
        "import pandas as pd\n",
        "import numpy as np\n",
        "import matplotlib.pyplot as plt\n",
        "import seaborn as sns\n",
        "from sklearn.naive_bayes import GaussianNB\n",
        "from sklearn.ensemble import BaggingClassifier\n",
        "from sklearn.tree import DecisionTreeClassifier\n",
        "from xgboost import XGBClassifier\n",
        "from sklearn.metrics import accuracy_score\n",
        "from sklearn.metrics import precision_score\n",
        "from sklearn.metrics import recall_score\n",
        "from sklearn.metrics import f1_score\n",
        "from sklearn.metrics import confusion_matrix\n",
        "import numpy\n",
        "import sklearn.metrics as metrics\n",
        "from sklearn.ensemble import RandomForestClassifier\n",
        "from sklearn.neighbors import KNeighborsClassifier\n",
        "from sklearn import svm\n",
        "from sklearn.model_selection import StratifiedKFold\n",
        "from sklearn.model_selection import cross_val_score\n",
        "from sklearn.model_selection import LeaveOneOut\n",
        "from numpy import mean\n",
        "from numpy import std\n",
        "from sklearn.datasets import make_classification\n",
        "from sklearn.model_selection import KFold\n",
        "from sklearn.model_selection import cross_val_score\n",
        "from sklearn.linear_model import LogisticRegression\n",
        "from sklearn.metrics import make_scorer\n",
        "import matplotlib.pyplot as plt\n",
        "from sklearn.model_selection import LeaveOneOut\n",
        "from sklearn.datasets import make_classification\n",
        "from sklearn.ensemble import RandomForestClassifier\n",
        "from sklearn import datasets, metrics, model_selection, svm\n",
        "import numpy as np\n",
        "from sklearn import svm, datasets\n",
        "from sklearn.metrics import auc\n",
        "from sklearn.metrics import plot_roc_curve\n",
        "from sklearn.model_selection import StratifiedKFold\n",
        "from sklearn.datasets import make_classification\n",
        "from sklearn.ensemble import RandomForestClassifier\n",
        "from sklearn import datasets, metrics, model_selection, svm\n",
        "from sklearn.metrics import matthews_corrcoef\n",
        "from sklearn.svm import SVC\n",
        "from sklearn.metrics import cohen_kappa_score\n",
        "from sklearn.ensemble import GradientBoostingClassifier\n",
        "from sklearn.feature_selection import RFE\n",
        "from sklearn.pipeline import Pipeline\n",
        "from matplotlib import pyplot\n",
        "from sklearn.metrics import recall_score\n"
      ],
      "execution_count": 312,
      "outputs": []
    },
    {
      "cell_type": "code",
      "metadata": {
        "id": "eZpW8fsXFrh3"
      },
      "source": [
        "Cl = '/content/axe_APP_P2.xlsx' \n",
        "apprentissage= pd.read_excel(Cl, sheet_name=0,header=0,index_col=False, keep_default_na=True)"
      ],
      "execution_count": 313,
      "outputs": []
    },
    {
      "cell_type": "code",
      "source": [
        "apprentissage"
      ],
      "metadata": {
        "colab": {
          "base_uri": "https://localhost:8080/",
          "height": 487
        },
        "id": "vLoByxZ1jqnm",
        "outputId": "afc886f6-1930-42a3-d19f-aaa8152cb8d6"
      },
      "execution_count": 314,
      "outputs": [
        {
          "output_type": "execute_result",
          "data": {
            "text/html": [
              "\n",
              "  <div id=\"df-40e88838-cd6a-4979-8eb9-1ebaf3035b0c\">\n",
              "    <div class=\"colab-df-container\">\n",
              "      <div>\n",
              "<style scoped>\n",
              "    .dataframe tbody tr th:only-of-type {\n",
              "        vertical-align: middle;\n",
              "    }\n",
              "\n",
              "    .dataframe tbody tr th {\n",
              "        vertical-align: top;\n",
              "    }\n",
              "\n",
              "    .dataframe thead th {\n",
              "        text-align: right;\n",
              "    }\n",
              "</style>\n",
              "<table border=\"1\" class=\"dataframe\">\n",
              "  <thead>\n",
              "    <tr style=\"text-align: right;\">\n",
              "      <th></th>\n",
              "      <th>Distributiondesanimaux</th>\n",
              "      <th>indicesdevegetation</th>\n",
              "      <th>indicesdevegetationg2</th>\n",
              "      <th>irm</th>\n",
              "      <th>irmg2</th>\n",
              "      <th>axeOccupationduSol</th>\n",
              "      <th>Precipitation</th>\n",
              "      <th>precipitationg2</th>\n",
              "      <th>Rad</th>\n",
              "      <th>Temperature</th>\n",
              "      <th>temperatureg2</th>\n",
              "      <th>Sol</th>\n",
              "      <th>Topographique</th>\n",
              "      <th>vap</th>\n",
              "      <th>vent</th>\n",
              "      <th>Cs_longia</th>\n",
              "    </tr>\n",
              "  </thead>\n",
              "  <tbody>\n",
              "    <tr>\n",
              "      <th>0</th>\n",
              "      <td>-2.321794</td>\n",
              "      <td>5.197272</td>\n",
              "      <td>22.609369</td>\n",
              "      <td>0.150247</td>\n",
              "      <td>-27.512315</td>\n",
              "      <td>0.724789</td>\n",
              "      <td>0.401111</td>\n",
              "      <td>226.029556</td>\n",
              "      <td>-206.693527</td>\n",
              "      <td>0.017691</td>\n",
              "      <td>0.140031</td>\n",
              "      <td>2.161217</td>\n",
              "      <td>-0.000714</td>\n",
              "      <td>-0.034906</td>\n",
              "      <td>-0.388808</td>\n",
              "      <td>1</td>\n",
              "    </tr>\n",
              "    <tr>\n",
              "      <th>1</th>\n",
              "      <td>-2.867319</td>\n",
              "      <td>4.577529</td>\n",
              "      <td>16.836780</td>\n",
              "      <td>-1.296295</td>\n",
              "      <td>-1.512315</td>\n",
              "      <td>0.651971</td>\n",
              "      <td>0.383420</td>\n",
              "      <td>235.992067</td>\n",
              "      <td>-96.371429</td>\n",
              "      <td>0.026570</td>\n",
              "      <td>0.051358</td>\n",
              "      <td>1.860189</td>\n",
              "      <td>-0.000167</td>\n",
              "      <td>0.003787</td>\n",
              "      <td>-0.257363</td>\n",
              "      <td>1</td>\n",
              "    </tr>\n",
              "    <tr>\n",
              "      <th>2</th>\n",
              "      <td>-2.867319</td>\n",
              "      <td>4.577529</td>\n",
              "      <td>16.836780</td>\n",
              "      <td>-1.296295</td>\n",
              "      <td>-1.512315</td>\n",
              "      <td>0.651971</td>\n",
              "      <td>0.383420</td>\n",
              "      <td>235.992067</td>\n",
              "      <td>-96.371429</td>\n",
              "      <td>0.026570</td>\n",
              "      <td>0.051358</td>\n",
              "      <td>1.860189</td>\n",
              "      <td>-0.000167</td>\n",
              "      <td>0.003787</td>\n",
              "      <td>-0.257363</td>\n",
              "      <td>1</td>\n",
              "    </tr>\n",
              "    <tr>\n",
              "      <th>3</th>\n",
              "      <td>-2.547017</td>\n",
              "      <td>4.792380</td>\n",
              "      <td>23.460606</td>\n",
              "      <td>1.837637</td>\n",
              "      <td>-56.512315</td>\n",
              "      <td>0.651971</td>\n",
              "      <td>0.426090</td>\n",
              "      <td>237.767741</td>\n",
              "      <td>-99.787354</td>\n",
              "      <td>-0.030156</td>\n",
              "      <td>0.011394</td>\n",
              "      <td>0.857919</td>\n",
              "      <td>-0.000411</td>\n",
              "      <td>0.005402</td>\n",
              "      <td>-0.254525</td>\n",
              "      <td>0</td>\n",
              "    </tr>\n",
              "    <tr>\n",
              "      <th>4</th>\n",
              "      <td>-2.620316</td>\n",
              "      <td>-4.055716</td>\n",
              "      <td>19.460684</td>\n",
              "      <td>2.152867</td>\n",
              "      <td>-30.512315</td>\n",
              "      <td>0.472991</td>\n",
              "      <td>0.444080</td>\n",
              "      <td>236.263102</td>\n",
              "      <td>-108.942622</td>\n",
              "      <td>-0.053430</td>\n",
              "      <td>0.148616</td>\n",
              "      <td>3.265398</td>\n",
              "      <td>-0.000064</td>\n",
              "      <td>0.001216</td>\n",
              "      <td>-0.138054</td>\n",
              "      <td>0</td>\n",
              "    </tr>\n",
              "    <tr>\n",
              "      <th>...</th>\n",
              "      <td>...</td>\n",
              "      <td>...</td>\n",
              "      <td>...</td>\n",
              "      <td>...</td>\n",
              "      <td>...</td>\n",
              "      <td>...</td>\n",
              "      <td>...</td>\n",
              "      <td>...</td>\n",
              "      <td>...</td>\n",
              "      <td>...</td>\n",
              "      <td>...</td>\n",
              "      <td>...</td>\n",
              "      <td>...</td>\n",
              "      <td>...</td>\n",
              "      <td>...</td>\n",
              "      <td>...</td>\n",
              "    </tr>\n",
              "    <tr>\n",
              "      <th>198</th>\n",
              "      <td>-4.559007</td>\n",
              "      <td>-3.252774</td>\n",
              "      <td>-12.679076</td>\n",
              "      <td>0.065121</td>\n",
              "      <td>3.487685</td>\n",
              "      <td>0.322407</td>\n",
              "      <td>0.257797</td>\n",
              "      <td>-276.547861</td>\n",
              "      <td>39.053289</td>\n",
              "      <td>0.083341</td>\n",
              "      <td>0.109177</td>\n",
              "      <td>1.430412</td>\n",
              "      <td>-0.000780</td>\n",
              "      <td>-0.005571</td>\n",
              "      <td>-0.297145</td>\n",
              "      <td>1</td>\n",
              "    </tr>\n",
              "    <tr>\n",
              "      <th>199</th>\n",
              "      <td>-1.311407</td>\n",
              "      <td>-0.010366</td>\n",
              "      <td>7.134461</td>\n",
              "      <td>-1.150864</td>\n",
              "      <td>17.487685</td>\n",
              "      <td>-0.036415</td>\n",
              "      <td>0.044145</td>\n",
              "      <td>-301.483070</td>\n",
              "      <td>-23.278399</td>\n",
              "      <td>0.046807</td>\n",
              "      <td>0.280314</td>\n",
              "      <td>1.643435</td>\n",
              "      <td>0.000064</td>\n",
              "      <td>0.004136</td>\n",
              "      <td>-0.168777</td>\n",
              "      <td>1</td>\n",
              "    </tr>\n",
              "    <tr>\n",
              "      <th>200</th>\n",
              "      <td>-3.766470</td>\n",
              "      <td>1.352079</td>\n",
              "      <td>-20.026007</td>\n",
              "      <td>-2.264725</td>\n",
              "      <td>9.487685</td>\n",
              "      <td>-0.219881</td>\n",
              "      <td>0.229938</td>\n",
              "      <td>-275.015327</td>\n",
              "      <td>102.891674</td>\n",
              "      <td>0.039194</td>\n",
              "      <td>0.079395</td>\n",
              "      <td>2.755469</td>\n",
              "      <td>-0.000110</td>\n",
              "      <td>-0.000774</td>\n",
              "      <td>-0.274955</td>\n",
              "      <td>1</td>\n",
              "    </tr>\n",
              "    <tr>\n",
              "      <th>201</th>\n",
              "      <td>-3.641378</td>\n",
              "      <td>0.639436</td>\n",
              "      <td>6.084900</td>\n",
              "      <td>0.454767</td>\n",
              "      <td>-7.512315</td>\n",
              "      <td>-0.296282</td>\n",
              "      <td>-0.321261</td>\n",
              "      <td>-319.191936</td>\n",
              "      <td>5.203596</td>\n",
              "      <td>-0.036637</td>\n",
              "      <td>-0.234275</td>\n",
              "      <td>0.659265</td>\n",
              "      <td>0.000210</td>\n",
              "      <td>-0.003457</td>\n",
              "      <td>-0.029365</td>\n",
              "      <td>1</td>\n",
              "    </tr>\n",
              "    <tr>\n",
              "      <th>202</th>\n",
              "      <td>-3.170156</td>\n",
              "      <td>8.707442</td>\n",
              "      <td>-3.034698</td>\n",
              "      <td>-0.514727</td>\n",
              "      <td>8.487685</td>\n",
              "      <td>0.699962</td>\n",
              "      <td>-0.144510</td>\n",
              "      <td>-320.425541</td>\n",
              "      <td>12.627139</td>\n",
              "      <td>0.055092</td>\n",
              "      <td>0.051908</td>\n",
              "      <td>2.096776</td>\n",
              "      <td>-0.000379</td>\n",
              "      <td>-0.000377</td>\n",
              "      <td>-0.149439</td>\n",
              "      <td>1</td>\n",
              "    </tr>\n",
              "  </tbody>\n",
              "</table>\n",
              "<p>203 rows × 16 columns</p>\n",
              "</div>\n",
              "      <button class=\"colab-df-convert\" onclick=\"convertToInteractive('df-40e88838-cd6a-4979-8eb9-1ebaf3035b0c')\"\n",
              "              title=\"Convert this dataframe to an interactive table.\"\n",
              "              style=\"display:none;\">\n",
              "        \n",
              "  <svg xmlns=\"http://www.w3.org/2000/svg\" height=\"24px\"viewBox=\"0 0 24 24\"\n",
              "       width=\"24px\">\n",
              "    <path d=\"M0 0h24v24H0V0z\" fill=\"none\"/>\n",
              "    <path d=\"M18.56 5.44l.94 2.06.94-2.06 2.06-.94-2.06-.94-.94-2.06-.94 2.06-2.06.94zm-11 1L8.5 8.5l.94-2.06 2.06-.94-2.06-.94L8.5 2.5l-.94 2.06-2.06.94zm10 10l.94 2.06.94-2.06 2.06-.94-2.06-.94-.94-2.06-.94 2.06-2.06.94z\"/><path d=\"M17.41 7.96l-1.37-1.37c-.4-.4-.92-.59-1.43-.59-.52 0-1.04.2-1.43.59L10.3 9.45l-7.72 7.72c-.78.78-.78 2.05 0 2.83L4 21.41c.39.39.9.59 1.41.59.51 0 1.02-.2 1.41-.59l7.78-7.78 2.81-2.81c.8-.78.8-2.07 0-2.86zM5.41 20L4 18.59l7.72-7.72 1.47 1.35L5.41 20z\"/>\n",
              "  </svg>\n",
              "      </button>\n",
              "      \n",
              "  <style>\n",
              "    .colab-df-container {\n",
              "      display:flex;\n",
              "      flex-wrap:wrap;\n",
              "      gap: 12px;\n",
              "    }\n",
              "\n",
              "    .colab-df-convert {\n",
              "      background-color: #E8F0FE;\n",
              "      border: none;\n",
              "      border-radius: 50%;\n",
              "      cursor: pointer;\n",
              "      display: none;\n",
              "      fill: #1967D2;\n",
              "      height: 32px;\n",
              "      padding: 0 0 0 0;\n",
              "      width: 32px;\n",
              "    }\n",
              "\n",
              "    .colab-df-convert:hover {\n",
              "      background-color: #E2EBFA;\n",
              "      box-shadow: 0px 1px 2px rgba(60, 64, 67, 0.3), 0px 1px 3px 1px rgba(60, 64, 67, 0.15);\n",
              "      fill: #174EA6;\n",
              "    }\n",
              "\n",
              "    [theme=dark] .colab-df-convert {\n",
              "      background-color: #3B4455;\n",
              "      fill: #D2E3FC;\n",
              "    }\n",
              "\n",
              "    [theme=dark] .colab-df-convert:hover {\n",
              "      background-color: #434B5C;\n",
              "      box-shadow: 0px 1px 3px 1px rgba(0, 0, 0, 0.15);\n",
              "      filter: drop-shadow(0px 1px 2px rgba(0, 0, 0, 0.3));\n",
              "      fill: #FFFFFF;\n",
              "    }\n",
              "  </style>\n",
              "\n",
              "      <script>\n",
              "        const buttonEl =\n",
              "          document.querySelector('#df-40e88838-cd6a-4979-8eb9-1ebaf3035b0c button.colab-df-convert');\n",
              "        buttonEl.style.display =\n",
              "          google.colab.kernel.accessAllowed ? 'block' : 'none';\n",
              "\n",
              "        async function convertToInteractive(key) {\n",
              "          const element = document.querySelector('#df-40e88838-cd6a-4979-8eb9-1ebaf3035b0c');\n",
              "          const dataTable =\n",
              "            await google.colab.kernel.invokeFunction('convertToInteractive',\n",
              "                                                     [key], {});\n",
              "          if (!dataTable) return;\n",
              "\n",
              "          const docLinkHtml = 'Like what you see? Visit the ' +\n",
              "            '<a target=\"_blank\" href=https://colab.research.google.com/notebooks/data_table.ipynb>data table notebook</a>'\n",
              "            + ' to learn more about interactive tables.';\n",
              "          element.innerHTML = '';\n",
              "          dataTable['output_type'] = 'display_data';\n",
              "          await google.colab.output.renderOutput(dataTable, element);\n",
              "          const docLink = document.createElement('div');\n",
              "          docLink.innerHTML = docLinkHtml;\n",
              "          element.appendChild(docLink);\n",
              "        }\n",
              "      </script>\n",
              "    </div>\n",
              "  </div>\n",
              "  "
            ],
            "text/plain": [
              "     Distributiondesanimaux  indicesdevegetation  ...      vent  Cs_longia\n",
              "0                 -2.321794             5.197272  ... -0.388808          1\n",
              "1                 -2.867319             4.577529  ... -0.257363          1\n",
              "2                 -2.867319             4.577529  ... -0.257363          1\n",
              "3                 -2.547017             4.792380  ... -0.254525          0\n",
              "4                 -2.620316            -4.055716  ... -0.138054          0\n",
              "..                      ...                  ...  ...       ...        ...\n",
              "198               -4.559007            -3.252774  ... -0.297145          1\n",
              "199               -1.311407            -0.010366  ... -0.168777          1\n",
              "200               -3.766470             1.352079  ... -0.274955          1\n",
              "201               -3.641378             0.639436  ... -0.029365          1\n",
              "202               -3.170156             8.707442  ... -0.149439          1\n",
              "\n",
              "[203 rows x 16 columns]"
            ]
          },
          "metadata": {},
          "execution_count": 314
        }
      ]
    },
    {
      "cell_type": "code",
      "metadata": {
        "id": "sp6M2-Shj8tx"
      },
      "source": [
        "Cl2 = '/content/axe_Test_P2.xlsx' \n",
        "test= pd.read_excel(Cl2, sheet_name=0,header=0,index_col=False, keep_default_na=True)"
      ],
      "execution_count": 315,
      "outputs": []
    },
    {
      "cell_type": "code",
      "source": [
        "test"
      ],
      "metadata": {
        "colab": {
          "base_uri": "https://localhost:8080/",
          "height": 1000
        },
        "outputId": "171b05f7-2bee-4ec2-db18-6daf89394f93",
        "id": "wzKdYPPMj8ty"
      },
      "execution_count": 316,
      "outputs": [
        {
          "output_type": "execute_result",
          "data": {
            "text/html": [
              "\n",
              "  <div id=\"df-8b81ddd2-0256-48a5-879d-f331efef4ad3\">\n",
              "    <div class=\"colab-df-container\">\n",
              "      <div>\n",
              "<style scoped>\n",
              "    .dataframe tbody tr th:only-of-type {\n",
              "        vertical-align: middle;\n",
              "    }\n",
              "\n",
              "    .dataframe tbody tr th {\n",
              "        vertical-align: top;\n",
              "    }\n",
              "\n",
              "    .dataframe thead th {\n",
              "        text-align: right;\n",
              "    }\n",
              "</style>\n",
              "<table border=\"1\" class=\"dataframe\">\n",
              "  <thead>\n",
              "    <tr style=\"text-align: right;\">\n",
              "      <th></th>\n",
              "      <th>Distributiondesanimaux</th>\n",
              "      <th>indicesdevegetation</th>\n",
              "      <th>indicesdevegetationg2</th>\n",
              "      <th>irm</th>\n",
              "      <th>irmg2</th>\n",
              "      <th>axeOccupationduSol</th>\n",
              "      <th>Precipitation</th>\n",
              "      <th>precipitationg2</th>\n",
              "      <th>Rad</th>\n",
              "      <th>Temperature</th>\n",
              "      <th>temperatureg2</th>\n",
              "      <th>Sol</th>\n",
              "      <th>Topographique</th>\n",
              "      <th>vap</th>\n",
              "      <th>vent</th>\n",
              "      <th>Cs_longia</th>\n",
              "    </tr>\n",
              "  </thead>\n",
              "  <tbody>\n",
              "    <tr>\n",
              "      <th>0</th>\n",
              "      <td>-2.647724</td>\n",
              "      <td>-0.230968</td>\n",
              "      <td>20.311921</td>\n",
              "      <td>1.244304</td>\n",
              "      <td>-26.512315</td>\n",
              "      <td>0.651971</td>\n",
              "      <td>0.731714</td>\n",
              "      <td>236.534137</td>\n",
              "      <td>-124.540514</td>\n",
              "      <td>-0.182604</td>\n",
              "      <td>0.144766</td>\n",
              "      <td>2.822586</td>\n",
              "      <td>-0.000045</td>\n",
              "      <td>0.002403</td>\n",
              "      <td>-0.190374</td>\n",
              "      <td>0</td>\n",
              "    </tr>\n",
              "    <tr>\n",
              "      <th>1</th>\n",
              "      <td>-2.600074</td>\n",
              "      <td>0.913816</td>\n",
              "      <td>22.609369</td>\n",
              "      <td>1.204043</td>\n",
              "      <td>-55.512315</td>\n",
              "      <td>0.369733</td>\n",
              "      <td>0.417888</td>\n",
              "      <td>237.496706</td>\n",
              "      <td>-135.917255</td>\n",
              "      <td>0.000632</td>\n",
              "      <td>0.112977</td>\n",
              "      <td>1.453176</td>\n",
              "      <td>-0.000163</td>\n",
              "      <td>0.003688</td>\n",
              "      <td>-0.075983</td>\n",
              "      <td>1</td>\n",
              "    </tr>\n",
              "    <tr>\n",
              "      <th>2</th>\n",
              "      <td>-2.600074</td>\n",
              "      <td>0.913816</td>\n",
              "      <td>22.609369</td>\n",
              "      <td>1.204043</td>\n",
              "      <td>-55.512315</td>\n",
              "      <td>0.369733</td>\n",
              "      <td>0.417888</td>\n",
              "      <td>237.496706</td>\n",
              "      <td>-135.917255</td>\n",
              "      <td>0.000632</td>\n",
              "      <td>0.112977</td>\n",
              "      <td>1.453176</td>\n",
              "      <td>-0.000163</td>\n",
              "      <td>0.003688</td>\n",
              "      <td>-0.075983</td>\n",
              "      <td>1</td>\n",
              "    </tr>\n",
              "    <tr>\n",
              "      <th>3</th>\n",
              "      <td>-2.827135</td>\n",
              "      <td>3.575519</td>\n",
              "      <td>10.936059</td>\n",
              "      <td>-2.522697</td>\n",
              "      <td>10.487685</td>\n",
              "      <td>0.370334</td>\n",
              "      <td>-1.109566</td>\n",
              "      <td>141.227686</td>\n",
              "      <td>-51.080330</td>\n",
              "      <td>0.048900</td>\n",
              "      <td>0.169605</td>\n",
              "      <td>1.033547</td>\n",
              "      <td>-0.000362</td>\n",
              "      <td>0.024104</td>\n",
              "      <td>-0.305661</td>\n",
              "      <td>1</td>\n",
              "    </tr>\n",
              "    <tr>\n",
              "      <th>4</th>\n",
              "      <td>-2.379458</td>\n",
              "      <td>-1.150738</td>\n",
              "      <td>12.055812</td>\n",
              "      <td>0.354219</td>\n",
              "      <td>3.487685</td>\n",
              "      <td>-0.118170</td>\n",
              "      <td>-0.281966</td>\n",
              "      <td>91.463010</td>\n",
              "      <td>27.926214</td>\n",
              "      <td>-0.003721</td>\n",
              "      <td>0.075320</td>\n",
              "      <td>-1.019538</td>\n",
              "      <td>0.000169</td>\n",
              "      <td>-0.000768</td>\n",
              "      <td>-0.009398</td>\n",
              "      <td>0</td>\n",
              "    </tr>\n",
              "    <tr>\n",
              "      <th>5</th>\n",
              "      <td>-2.379458</td>\n",
              "      <td>-1.150738</td>\n",
              "      <td>12.055812</td>\n",
              "      <td>0.354219</td>\n",
              "      <td>3.487685</td>\n",
              "      <td>-0.118170</td>\n",
              "      <td>-0.281966</td>\n",
              "      <td>91.463010</td>\n",
              "      <td>27.926214</td>\n",
              "      <td>-0.003721</td>\n",
              "      <td>0.075320</td>\n",
              "      <td>-0.510742</td>\n",
              "      <td>0.000170</td>\n",
              "      <td>-0.000768</td>\n",
              "      <td>-0.009398</td>\n",
              "      <td>0</td>\n",
              "    </tr>\n",
              "    <tr>\n",
              "      <th>6</th>\n",
              "      <td>-2.526384</td>\n",
              "      <td>-3.853817</td>\n",
              "      <td>9.688173</td>\n",
              "      <td>1.141346</td>\n",
              "      <td>-11.512315</td>\n",
              "      <td>-0.036415</td>\n",
              "      <td>-0.282783</td>\n",
              "      <td>93.238684</td>\n",
              "      <td>86.230779</td>\n",
              "      <td>-0.051543</td>\n",
              "      <td>0.084592</td>\n",
              "      <td>0.154979</td>\n",
              "      <td>0.000279</td>\n",
              "      <td>0.003605</td>\n",
              "      <td>0.001238</td>\n",
              "      <td>0</td>\n",
              "    </tr>\n",
              "    <tr>\n",
              "      <th>7</th>\n",
              "      <td>-2.444617</td>\n",
              "      <td>0.239881</td>\n",
              "      <td>-1.133899</td>\n",
              "      <td>-0.646694</td>\n",
              "      <td>2.487685</td>\n",
              "      <td>-0.199856</td>\n",
              "      <td>-0.277023</td>\n",
              "      <td>91.463010</td>\n",
              "      <td>53.370259</td>\n",
              "      <td>-0.022922</td>\n",
              "      <td>-0.037964</td>\n",
              "      <td>-0.515781</td>\n",
              "      <td>0.000250</td>\n",
              "      <td>0.007066</td>\n",
              "      <td>0.007151</td>\n",
              "      <td>0</td>\n",
              "    </tr>\n",
              "    <tr>\n",
              "      <th>8</th>\n",
              "      <td>-3.824134</td>\n",
              "      <td>-3.073904</td>\n",
              "      <td>13.361639</td>\n",
              "      <td>1.421861</td>\n",
              "      <td>-32.512315</td>\n",
              "      <td>-0.759769</td>\n",
              "      <td>0.609257</td>\n",
              "      <td>53.697563</td>\n",
              "      <td>49.847845</td>\n",
              "      <td>-0.061430</td>\n",
              "      <td>-0.051474</td>\n",
              "      <td>-0.733478</td>\n",
              "      <td>0.000247</td>\n",
              "      <td>-0.003505</td>\n",
              "      <td>0.172419</td>\n",
              "      <td>1</td>\n",
              "    </tr>\n",
              "    <tr>\n",
              "      <th>9</th>\n",
              "      <td>-0.781471</td>\n",
              "      <td>-2.973301</td>\n",
              "      <td>10.737735</td>\n",
              "      <td>-0.096036</td>\n",
              "      <td>-21.512315</td>\n",
              "      <td>-0.091033</td>\n",
              "      <td>0.645177</td>\n",
              "      <td>54.538563</td>\n",
              "      <td>62.467914</td>\n",
              "      <td>-0.039834</td>\n",
              "      <td>-0.053477</td>\n",
              "      <td>-0.821854</td>\n",
              "      <td>0.000157</td>\n",
              "      <td>-0.003658</td>\n",
              "      <td>0.024988</td>\n",
              "      <td>0</td>\n",
              "    </tr>\n",
              "    <tr>\n",
              "      <th>10</th>\n",
              "      <td>-3.098300</td>\n",
              "      <td>-0.656537</td>\n",
              "      <td>7.915507</td>\n",
              "      <td>-0.030259</td>\n",
              "      <td>-0.512315</td>\n",
              "      <td>-0.681831</td>\n",
              "      <td>-0.225907</td>\n",
              "      <td>142.919676</td>\n",
              "      <td>-111.345146</td>\n",
              "      <td>0.013794</td>\n",
              "      <td>0.076995</td>\n",
              "      <td>1.319013</td>\n",
              "      <td>-0.000144</td>\n",
              "      <td>0.013015</td>\n",
              "      <td>-0.396208</td>\n",
              "      <td>0</td>\n",
              "    </tr>\n",
              "    <tr>\n",
              "      <th>11</th>\n",
              "      <td>-1.749523</td>\n",
              "      <td>1.378373</td>\n",
              "      <td>9.688173</td>\n",
              "      <td>-0.804141</td>\n",
              "      <td>-8.512315</td>\n",
              "      <td>0.631832</td>\n",
              "      <td>-0.335287</td>\n",
              "      <td>126.761249</td>\n",
              "      <td>-136.704298</td>\n",
              "      <td>0.032457</td>\n",
              "      <td>-0.004152</td>\n",
              "      <td>1.416765</td>\n",
              "      <td>-0.000890</td>\n",
              "      <td>0.006932</td>\n",
              "      <td>-0.332457</td>\n",
              "      <td>1</td>\n",
              "    </tr>\n",
              "    <tr>\n",
              "      <th>12</th>\n",
              "      <td>-2.465885</td>\n",
              "      <td>3.279425</td>\n",
              "      <td>2.667699</td>\n",
              "      <td>-0.554885</td>\n",
              "      <td>11.487685</td>\n",
              "      <td>0.185844</td>\n",
              "      <td>-0.008093</td>\n",
              "      <td>57.183131</td>\n",
              "      <td>-4.592342</td>\n",
              "      <td>0.036505</td>\n",
              "      <td>-0.026686</td>\n",
              "      <td>1.428297</td>\n",
              "      <td>-0.002696</td>\n",
              "      <td>0.008452</td>\n",
              "      <td>0.176059</td>\n",
              "      <td>0</td>\n",
              "    </tr>\n",
              "    <tr>\n",
              "      <th>13</th>\n",
              "      <td>2.951375</td>\n",
              "      <td>-0.754835</td>\n",
              "      <td>-3.687611</td>\n",
              "      <td>-0.881847</td>\n",
              "      <td>6.487685</td>\n",
              "      <td>-2.283244</td>\n",
              "      <td>0.149542</td>\n",
              "      <td>50.480953</td>\n",
              "      <td>-26.788362</td>\n",
              "      <td>-0.004295</td>\n",
              "      <td>-0.040321</td>\n",
              "      <td>-1.038944</td>\n",
              "      <td>0.000067</td>\n",
              "      <td>-0.009687</td>\n",
              "      <td>0.209824</td>\n",
              "      <td>1</td>\n",
              "    </tr>\n",
              "    <tr>\n",
              "      <th>14</th>\n",
              "      <td>5.265723</td>\n",
              "      <td>2.208923</td>\n",
              "      <td>-5.133821</td>\n",
              "      <td>0.306923</td>\n",
              "      <td>-2.512315</td>\n",
              "      <td>-0.071846</td>\n",
              "      <td>-0.052953</td>\n",
              "      <td>27.817689</td>\n",
              "      <td>-35.735566</td>\n",
              "      <td>0.015669</td>\n",
              "      <td>-0.039555</td>\n",
              "      <td>0.358672</td>\n",
              "      <td>-0.001152</td>\n",
              "      <td>-0.010477</td>\n",
              "      <td>0.168731</td>\n",
              "      <td>0</td>\n",
              "    </tr>\n",
              "    <tr>\n",
              "      <th>15</th>\n",
              "      <td>3.149862</td>\n",
              "      <td>-3.854005</td>\n",
              "      <td>-14.650066</td>\n",
              "      <td>2.148869</td>\n",
              "      <td>3.487685</td>\n",
              "      <td>-0.779638</td>\n",
              "      <td>-0.097301</td>\n",
              "      <td>-87.056986</td>\n",
              "      <td>136.223264</td>\n",
              "      <td>-0.063205</td>\n",
              "      <td>-0.119564</td>\n",
              "      <td>-0.506321</td>\n",
              "      <td>0.000706</td>\n",
              "      <td>-0.006801</td>\n",
              "      <td>-0.006565</td>\n",
              "      <td>0</td>\n",
              "    </tr>\n",
              "    <tr>\n",
              "      <th>16</th>\n",
              "      <td>17.743217</td>\n",
              "      <td>-2.832225</td>\n",
              "      <td>-16.678998</td>\n",
              "      <td>2.289648</td>\n",
              "      <td>9.487685</td>\n",
              "      <td>-0.779638</td>\n",
              "      <td>-0.196128</td>\n",
              "      <td>-78.692790</td>\n",
              "      <td>91.839060</td>\n",
              "      <td>-0.016547</td>\n",
              "      <td>-0.240769</td>\n",
              "      <td>-1.103656</td>\n",
              "      <td>0.000374</td>\n",
              "      <td>-0.002421</td>\n",
              "      <td>0.077840</td>\n",
              "      <td>0</td>\n",
              "    </tr>\n",
              "    <tr>\n",
              "      <th>17</th>\n",
              "      <td>16.727813</td>\n",
              "      <td>-6.745497</td>\n",
              "      <td>-18.579797</td>\n",
              "      <td>4.038852</td>\n",
              "      <td>8.487685</td>\n",
              "      <td>-0.683019</td>\n",
              "      <td>-0.203811</td>\n",
              "      <td>-79.926394</td>\n",
              "      <td>50.032377</td>\n",
              "      <td>-0.020841</td>\n",
              "      <td>-0.160299</td>\n",
              "      <td>-0.688640</td>\n",
              "      <td>0.000313</td>\n",
              "      <td>-0.002326</td>\n",
              "      <td>0.010095</td>\n",
              "      <td>0</td>\n",
              "    </tr>\n",
              "    <tr>\n",
              "      <th>18</th>\n",
              "      <td>-1.101351</td>\n",
              "      <td>-1.678294</td>\n",
              "      <td>-10.253496</td>\n",
              "      <td>2.052955</td>\n",
              "      <td>10.487685</td>\n",
              "      <td>0.057054</td>\n",
              "      <td>0.518327</td>\n",
              "      <td>-163.616230</td>\n",
              "      <td>157.364759</td>\n",
              "      <td>-0.033420</td>\n",
              "      <td>-0.077277</td>\n",
              "      <td>-1.090374</td>\n",
              "      <td>-0.000084</td>\n",
              "      <td>-0.003066</td>\n",
              "      <td>0.262788</td>\n",
              "      <td>0</td>\n",
              "    </tr>\n",
              "    <tr>\n",
              "      <th>19</th>\n",
              "      <td>6.574780</td>\n",
              "      <td>-2.650824</td>\n",
              "      <td>-10.579953</td>\n",
              "      <td>1.699826</td>\n",
              "      <td>9.487685</td>\n",
              "      <td>1.525229</td>\n",
              "      <td>-0.132116</td>\n",
              "      <td>-80.253219</td>\n",
              "      <td>57.678729</td>\n",
              "      <td>-0.036191</td>\n",
              "      <td>-0.111315</td>\n",
              "      <td>0.527389</td>\n",
              "      <td>-0.000119</td>\n",
              "      <td>-0.007807</td>\n",
              "      <td>-0.010256</td>\n",
              "      <td>0</td>\n",
              "    </tr>\n",
              "    <tr>\n",
              "      <th>20</th>\n",
              "      <td>10.135452</td>\n",
              "      <td>-0.403515</td>\n",
              "      <td>-19.757491</td>\n",
              "      <td>1.746799</td>\n",
              "      <td>11.487685</td>\n",
              "      <td>-0.779638</td>\n",
              "      <td>-0.035077</td>\n",
              "      <td>-50.553038</td>\n",
              "      <td>174.569493</td>\n",
              "      <td>-0.042416</td>\n",
              "      <td>-0.219641</td>\n",
              "      <td>-1.155224</td>\n",
              "      <td>-0.000532</td>\n",
              "      <td>-0.005117</td>\n",
              "      <td>-0.008849</td>\n",
              "      <td>0</td>\n",
              "    </tr>\n",
              "    <tr>\n",
              "      <th>21</th>\n",
              "      <td>3.969502</td>\n",
              "      <td>-3.395074</td>\n",
              "      <td>-16.352541</td>\n",
              "      <td>2.456379</td>\n",
              "      <td>3.487685</td>\n",
              "      <td>-0.779638</td>\n",
              "      <td>0.119388</td>\n",
              "      <td>-101.533414</td>\n",
              "      <td>101.837966</td>\n",
              "      <td>-0.074867</td>\n",
              "      <td>-0.106051</td>\n",
              "      <td>-0.516492</td>\n",
              "      <td>0.000418</td>\n",
              "      <td>-0.003425</td>\n",
              "      <td>-0.111147</td>\n",
              "      <td>0</td>\n",
              "    </tr>\n",
              "    <tr>\n",
              "      <th>22</th>\n",
              "      <td>4.066407</td>\n",
              "      <td>-4.069237</td>\n",
              "      <td>-20.340212</td>\n",
              "      <td>0.644238</td>\n",
              "      <td>6.487685</td>\n",
              "      <td>-0.355742</td>\n",
              "      <td>0.680125</td>\n",
              "      <td>21.603868</td>\n",
              "      <td>251.565824</td>\n",
              "      <td>-0.109333</td>\n",
              "      <td>-0.323477</td>\n",
              "      <td>-0.725585</td>\n",
              "      <td>0.000365</td>\n",
              "      <td>-0.015132</td>\n",
              "      <td>-0.071061</td>\n",
              "      <td>0</td>\n",
              "    </tr>\n",
              "    <tr>\n",
              "      <th>23</th>\n",
              "      <td>10.101128</td>\n",
              "      <td>-1.601496</td>\n",
              "      <td>-10.241245</td>\n",
              "      <td>-0.447577</td>\n",
              "      <td>-4.512315</td>\n",
              "      <td>-0.302085</td>\n",
              "      <td>0.575704</td>\n",
              "      <td>-2.143536</td>\n",
              "      <td>61.408984</td>\n",
              "      <td>-0.008252</td>\n",
              "      <td>-0.092555</td>\n",
              "      <td>-1.120729</td>\n",
              "      <td>-0.000231</td>\n",
              "      <td>-0.012315</td>\n",
              "      <td>0.302346</td>\n",
              "      <td>0</td>\n",
              "    </tr>\n",
              "    <tr>\n",
              "      <th>24</th>\n",
              "      <td>8.414571</td>\n",
              "      <td>-9.138427</td>\n",
              "      <td>-16.550865</td>\n",
              "      <td>0.721969</td>\n",
              "      <td>4.487685</td>\n",
              "      <td>-0.779638</td>\n",
              "      <td>-0.262077</td>\n",
              "      <td>-30.536419</td>\n",
              "      <td>-0.490714</td>\n",
              "      <td>0.008918</td>\n",
              "      <td>0.000768</td>\n",
              "      <td>-1.749538</td>\n",
              "      <td>-0.000447</td>\n",
              "      <td>-0.007415</td>\n",
              "      <td>0.113183</td>\n",
              "      <td>0</td>\n",
              "    </tr>\n",
              "    <tr>\n",
              "      <th>25</th>\n",
              "      <td>7.345657</td>\n",
              "      <td>0.344316</td>\n",
              "      <td>-24.724532</td>\n",
              "      <td>2.232338</td>\n",
              "      <td>-7.512315</td>\n",
              "      <td>-0.029362</td>\n",
              "      <td>-0.176097</td>\n",
              "      <td>63.891147</td>\n",
              "      <td>-36.070611</td>\n",
              "      <td>-0.015423</td>\n",
              "      <td>0.113986</td>\n",
              "      <td>-0.083549</td>\n",
              "      <td>0.001056</td>\n",
              "      <td>-0.000702</td>\n",
              "      <td>0.206349</td>\n",
              "      <td>0</td>\n",
              "    </tr>\n",
              "    <tr>\n",
              "      <th>26</th>\n",
              "      <td>8.678994</td>\n",
              "      <td>-4.247201</td>\n",
              "      <td>13.758287</td>\n",
              "      <td>6.070589</td>\n",
              "      <td>-59.512315</td>\n",
              "      <td>-1.154777</td>\n",
              "      <td>-0.436862</td>\n",
              "      <td>66.479925</td>\n",
              "      <td>-100.546011</td>\n",
              "      <td>0.049609</td>\n",
              "      <td>0.141853</td>\n",
              "      <td>4.095260</td>\n",
              "      <td>0.001039</td>\n",
              "      <td>0.000580</td>\n",
              "      <td>0.134912</td>\n",
              "      <td>0</td>\n",
              "    </tr>\n",
              "    <tr>\n",
              "      <th>27</th>\n",
              "      <td>0.872063</td>\n",
              "      <td>3.495743</td>\n",
              "      <td>-6.976679</td>\n",
              "      <td>0.041701</td>\n",
              "      <td>9.487685</td>\n",
              "      <td>0.136329</td>\n",
              "      <td>0.807119</td>\n",
              "      <td>54.817512</td>\n",
              "      <td>182.176070</td>\n",
              "      <td>0.002567</td>\n",
              "      <td>-0.033223</td>\n",
              "      <td>2.222992</td>\n",
              "      <td>-0.003111</td>\n",
              "      <td>-0.013330</td>\n",
              "      <td>-0.017956</td>\n",
              "      <td>0</td>\n",
              "    </tr>\n",
              "    <tr>\n",
              "      <th>28</th>\n",
              "      <td>4.681425</td>\n",
              "      <td>2.410451</td>\n",
              "      <td>-2.381784</td>\n",
              "      <td>-0.072327</td>\n",
              "      <td>-3.512315</td>\n",
              "      <td>-0.087781</td>\n",
              "      <td>0.715134</td>\n",
              "      <td>54.883292</td>\n",
              "      <td>379.777328</td>\n",
              "      <td>-0.025243</td>\n",
              "      <td>-0.069031</td>\n",
              "      <td>-0.927702</td>\n",
              "      <td>0.001287</td>\n",
              "      <td>-0.024617</td>\n",
              "      <td>0.239043</td>\n",
              "      <td>0</td>\n",
              "    </tr>\n",
              "    <tr>\n",
              "      <th>29</th>\n",
              "      <td>-4.556856</td>\n",
              "      <td>-20.200926</td>\n",
              "      <td>-42.856783</td>\n",
              "      <td>2.399037</td>\n",
              "      <td>6.487685</td>\n",
              "      <td>1.560389</td>\n",
              "      <td>-1.171279</td>\n",
              "      <td>-275.465798</td>\n",
              "      <td>-120.320898</td>\n",
              "      <td>-0.088255</td>\n",
              "      <td>0.135909</td>\n",
              "      <td>2.759858</td>\n",
              "      <td>-0.001456</td>\n",
              "      <td>0.014453</td>\n",
              "      <td>0.220653</td>\n",
              "      <td>0</td>\n",
              "    </tr>\n",
              "    <tr>\n",
              "      <th>30</th>\n",
              "      <td>1.221216</td>\n",
              "      <td>-3.616995</td>\n",
              "      <td>-16.154217</td>\n",
              "      <td>2.727416</td>\n",
              "      <td>6.487685</td>\n",
              "      <td>-0.779638</td>\n",
              "      <td>0.976784</td>\n",
              "      <td>-150.570747</td>\n",
              "      <td>63.369938</td>\n",
              "      <td>-0.059993</td>\n",
              "      <td>-0.212155</td>\n",
              "      <td>-1.608169</td>\n",
              "      <td>0.000355</td>\n",
              "      <td>-0.004411</td>\n",
              "      <td>0.336051</td>\n",
              "      <td>0</td>\n",
              "    </tr>\n",
              "    <tr>\n",
              "      <th>31</th>\n",
              "      <td>1.221216</td>\n",
              "      <td>-3.616995</td>\n",
              "      <td>-16.154217</td>\n",
              "      <td>2.727416</td>\n",
              "      <td>6.487685</td>\n",
              "      <td>-0.779638</td>\n",
              "      <td>0.976784</td>\n",
              "      <td>-150.570747</td>\n",
              "      <td>63.369938</td>\n",
              "      <td>-0.059993</td>\n",
              "      <td>-0.212155</td>\n",
              "      <td>-1.608169</td>\n",
              "      <td>0.000355</td>\n",
              "      <td>-0.004411</td>\n",
              "      <td>0.336051</td>\n",
              "      <td>0</td>\n",
              "    </tr>\n",
              "    <tr>\n",
              "      <th>32</th>\n",
              "      <td>-2.368437</td>\n",
              "      <td>-6.312216</td>\n",
              "      <td>22.411045</td>\n",
              "      <td>3.753146</td>\n",
              "      <td>-13.512315</td>\n",
              "      <td>0.155793</td>\n",
              "      <td>0.663417</td>\n",
              "      <td>-182.662366</td>\n",
              "      <td>-10.265948</td>\n",
              "      <td>-0.033238</td>\n",
              "      <td>-0.271294</td>\n",
              "      <td>3.012515</td>\n",
              "      <td>0.000116</td>\n",
              "      <td>-0.005919</td>\n",
              "      <td>-0.257810</td>\n",
              "      <td>0</td>\n",
              "    </tr>\n",
              "    <tr>\n",
              "      <th>33</th>\n",
              "      <td>77.064348</td>\n",
              "      <td>8.409605</td>\n",
              "      <td>-10.625643</td>\n",
              "      <td>0.609685</td>\n",
              "      <td>-0.512315</td>\n",
              "      <td>-0.335855</td>\n",
              "      <td>-1.152635</td>\n",
              "      <td>60.190333</td>\n",
              "      <td>102.839354</td>\n",
              "      <td>0.130675</td>\n",
              "      <td>0.089586</td>\n",
              "      <td>0.361453</td>\n",
              "      <td>-0.001439</td>\n",
              "      <td>0.002657</td>\n",
              "      <td>-0.171046</td>\n",
              "      <td>0</td>\n",
              "    </tr>\n",
              "    <tr>\n",
              "      <th>34</th>\n",
              "      <td>-3.008598</td>\n",
              "      <td>2.762936</td>\n",
              "      <td>16.113675</td>\n",
              "      <td>-0.445856</td>\n",
              "      <td>-19.512315</td>\n",
              "      <td>0.651971</td>\n",
              "      <td>0.754294</td>\n",
              "      <td>209.627989</td>\n",
              "      <td>46.690379</td>\n",
              "      <td>-0.130990</td>\n",
              "      <td>-0.072822</td>\n",
              "      <td>-0.971832</td>\n",
              "      <td>0.000167</td>\n",
              "      <td>0.010739</td>\n",
              "      <td>0.117154</td>\n",
              "      <td>0</td>\n",
              "    </tr>\n",
              "    <tr>\n",
              "      <th>35</th>\n",
              "      <td>-3.106740</td>\n",
              "      <td>-0.464252</td>\n",
              "      <td>16.311999</td>\n",
              "      <td>0.664722</td>\n",
              "      <td>-14.512315</td>\n",
              "      <td>-0.001291</td>\n",
              "      <td>0.912371</td>\n",
              "      <td>203.216827</td>\n",
              "      <td>186.674597</td>\n",
              "      <td>-0.072338</td>\n",
              "      <td>-0.111352</td>\n",
              "      <td>-1.895577</td>\n",
              "      <td>0.000911</td>\n",
              "      <td>0.005667</td>\n",
              "      <td>0.035780</td>\n",
              "      <td>0</td>\n",
              "    </tr>\n",
              "    <tr>\n",
              "      <th>36</th>\n",
              "      <td>-2.919832</td>\n",
              "      <td>1.821493</td>\n",
              "      <td>17.828401</td>\n",
              "      <td>-1.671908</td>\n",
              "      <td>9.487685</td>\n",
              "      <td>-0.421927</td>\n",
              "      <td>0.344679</td>\n",
              "      <td>191.207608</td>\n",
              "      <td>38.599483</td>\n",
              "      <td>0.046111</td>\n",
              "      <td>-0.071944</td>\n",
              "      <td>1.240791</td>\n",
              "      <td>0.000486</td>\n",
              "      <td>0.002168</td>\n",
              "      <td>-0.022357</td>\n",
              "      <td>0</td>\n",
              "    </tr>\n",
              "    <tr>\n",
              "      <th>37</th>\n",
              "      <td>-2.912104</td>\n",
              "      <td>2.578033</td>\n",
              "      <td>16.836780</td>\n",
              "      <td>-3.264390</td>\n",
              "      <td>-5.512315</td>\n",
              "      <td>0.651971</td>\n",
              "      <td>-0.664185</td>\n",
              "      <td>204.936711</td>\n",
              "      <td>-117.641856</td>\n",
              "      <td>0.197069</td>\n",
              "      <td>0.245715</td>\n",
              "      <td>3.065578</td>\n",
              "      <td>0.000418</td>\n",
              "      <td>0.014951</td>\n",
              "      <td>-0.196587</td>\n",
              "      <td>1</td>\n",
              "    </tr>\n",
              "    <tr>\n",
              "      <th>38</th>\n",
              "      <td>-3.315568</td>\n",
              "      <td>5.019857</td>\n",
              "      <td>14.411200</td>\n",
              "      <td>-3.433913</td>\n",
              "      <td>-7.512315</td>\n",
              "      <td>0.651971</td>\n",
              "      <td>-0.510456</td>\n",
              "      <td>192.600667</td>\n",
              "      <td>-190.627145</td>\n",
              "      <td>0.036059</td>\n",
              "      <td>0.286992</td>\n",
              "      <td>0.535484</td>\n",
              "      <td>0.000163</td>\n",
              "      <td>0.015370</td>\n",
              "      <td>-0.263177</td>\n",
              "      <td>1</td>\n",
              "    </tr>\n",
              "    <tr>\n",
              "      <th>39</th>\n",
              "      <td>-2.922441</td>\n",
              "      <td>2.274618</td>\n",
              "      <td>19.787141</td>\n",
              "      <td>-3.994404</td>\n",
              "      <td>13.487685</td>\n",
              "      <td>0.651971</td>\n",
              "      <td>-0.103287</td>\n",
              "      <td>204.544107</td>\n",
              "      <td>-61.325975</td>\n",
              "      <td>0.048444</td>\n",
              "      <td>0.312832</td>\n",
              "      <td>1.343734</td>\n",
              "      <td>0.000033</td>\n",
              "      <td>0.023389</td>\n",
              "      <td>-0.326240</td>\n",
              "      <td>1</td>\n",
              "    </tr>\n",
              "    <tr>\n",
              "      <th>40</th>\n",
              "      <td>-2.923537</td>\n",
              "      <td>4.002772</td>\n",
              "      <td>17.688018</td>\n",
              "      <td>-2.272830</td>\n",
              "      <td>9.487685</td>\n",
              "      <td>0.648031</td>\n",
              "      <td>0.556318</td>\n",
              "      <td>131.237281</td>\n",
              "      <td>78.801061</td>\n",
              "      <td>-0.062442</td>\n",
              "      <td>0.068245</td>\n",
              "      <td>-2.513930</td>\n",
              "      <td>-0.000057</td>\n",
              "      <td>0.011541</td>\n",
              "      <td>-0.567874</td>\n",
              "      <td>1</td>\n",
              "    </tr>\n",
              "    <tr>\n",
              "      <th>41</th>\n",
              "      <td>3.700329</td>\n",
              "      <td>2.805315</td>\n",
              "      <td>3.985777</td>\n",
              "      <td>-0.591110</td>\n",
              "      <td>-11.512315</td>\n",
              "      <td>0.388896</td>\n",
              "      <td>0.205621</td>\n",
              "      <td>50.640409</td>\n",
              "      <td>-7.307742</td>\n",
              "      <td>0.050228</td>\n",
              "      <td>-0.128461</td>\n",
              "      <td>2.715249</td>\n",
              "      <td>0.000061</td>\n",
              "      <td>-0.007163</td>\n",
              "      <td>0.349036</td>\n",
              "      <td>1</td>\n",
              "    </tr>\n",
              "    <tr>\n",
              "      <th>42</th>\n",
              "      <td>0.304631</td>\n",
              "      <td>-0.077832</td>\n",
              "      <td>-1.844753</td>\n",
              "      <td>0.688875</td>\n",
              "      <td>-5.512315</td>\n",
              "      <td>0.761204</td>\n",
              "      <td>-0.614393</td>\n",
              "      <td>-18.078805</td>\n",
              "      <td>69.930684</td>\n",
              "      <td>0.022608</td>\n",
              "      <td>-0.029263</td>\n",
              "      <td>-0.478915</td>\n",
              "      <td>0.000039</td>\n",
              "      <td>0.000511</td>\n",
              "      <td>-0.094331</td>\n",
              "      <td>1</td>\n",
              "    </tr>\n",
              "    <tr>\n",
              "      <th>43</th>\n",
              "      <td>4.260038</td>\n",
              "      <td>1.215878</td>\n",
              "      <td>-15.150346</td>\n",
              "      <td>-2.032596</td>\n",
              "      <td>-11.512315</td>\n",
              "      <td>-0.064217</td>\n",
              "      <td>0.088084</td>\n",
              "      <td>110.628640</td>\n",
              "      <td>26.906315</td>\n",
              "      <td>0.033832</td>\n",
              "      <td>0.178713</td>\n",
              "      <td>0.209463</td>\n",
              "      <td>0.000056</td>\n",
              "      <td>0.008982</td>\n",
              "      <td>0.243726</td>\n",
              "      <td>1</td>\n",
              "    </tr>\n",
              "    <tr>\n",
              "      <th>44</th>\n",
              "      <td>3.877299</td>\n",
              "      <td>2.519020</td>\n",
              "      <td>-9.576081</td>\n",
              "      <td>-0.092320</td>\n",
              "      <td>-7.512315</td>\n",
              "      <td>-0.028897</td>\n",
              "      <td>-0.983990</td>\n",
              "      <td>144.693274</td>\n",
              "      <td>13.776360</td>\n",
              "      <td>0.059580</td>\n",
              "      <td>0.304467</td>\n",
              "      <td>-0.832159</td>\n",
              "      <td>-0.002102</td>\n",
              "      <td>0.003001</td>\n",
              "      <td>0.170970</td>\n",
              "      <td>1</td>\n",
              "    </tr>\n",
              "    <tr>\n",
              "      <th>45</th>\n",
              "      <td>23.138065</td>\n",
              "      <td>-4.419983</td>\n",
              "      <td>-16.410482</td>\n",
              "      <td>2.332937</td>\n",
              "      <td>6.487685</td>\n",
              "      <td>-0.779638</td>\n",
              "      <td>-0.010013</td>\n",
              "      <td>-58.684085</td>\n",
              "      <td>153.461346</td>\n",
              "      <td>0.013019</td>\n",
              "      <td>-0.309722</td>\n",
              "      <td>-1.302367</td>\n",
              "      <td>0.000373</td>\n",
              "      <td>0.001676</td>\n",
              "      <td>-0.127255</td>\n",
              "      <td>1</td>\n",
              "    </tr>\n",
              "    <tr>\n",
              "      <th>46</th>\n",
              "      <td>15.654456</td>\n",
              "      <td>-4.014839</td>\n",
              "      <td>-12.550943</td>\n",
              "      <td>0.285610</td>\n",
              "      <td>2.487685</td>\n",
              "      <td>0.372259</td>\n",
              "      <td>0.252995</td>\n",
              "      <td>-78.198596</td>\n",
              "      <td>-73.101336</td>\n",
              "      <td>-0.020093</td>\n",
              "      <td>-0.052687</td>\n",
              "      <td>-1.213693</td>\n",
              "      <td>0.000385</td>\n",
              "      <td>-0.011365</td>\n",
              "      <td>-0.011407</td>\n",
              "      <td>1</td>\n",
              "    </tr>\n",
              "    <tr>\n",
              "      <th>47</th>\n",
              "      <td>7.733651</td>\n",
              "      <td>-4.513298</td>\n",
              "      <td>-17.728559</td>\n",
              "      <td>-1.957329</td>\n",
              "      <td>1.487685</td>\n",
              "      <td>-0.626977</td>\n",
              "      <td>-0.173223</td>\n",
              "      <td>-146.224198</td>\n",
              "      <td>163.037819</td>\n",
              "      <td>-0.008456</td>\n",
              "      <td>-0.106854</td>\n",
              "      <td>-1.229405</td>\n",
              "      <td>-0.000012</td>\n",
              "      <td>-0.005661</td>\n",
              "      <td>0.024848</td>\n",
              "      <td>1</td>\n",
              "    </tr>\n",
              "    <tr>\n",
              "      <th>48</th>\n",
              "      <td>-8.807864</td>\n",
              "      <td>3.766902</td>\n",
              "      <td>-19.431034</td>\n",
              "      <td>-0.510591</td>\n",
              "      <td>6.487685</td>\n",
              "      <td>-0.334756</td>\n",
              "      <td>0.757743</td>\n",
              "      <td>-583.073777</td>\n",
              "      <td>-121.192206</td>\n",
              "      <td>0.038858</td>\n",
              "      <td>0.107180</td>\n",
              "      <td>0.217336</td>\n",
              "      <td>0.000157</td>\n",
              "      <td>0.014261</td>\n",
              "      <td>0.184200</td>\n",
              "      <td>1</td>\n",
              "    </tr>\n",
              "    <tr>\n",
              "      <th>49</th>\n",
              "      <td>-12.198457</td>\n",
              "      <td>3.083452</td>\n",
              "      <td>-7.629592</td>\n",
              "      <td>-2.450743</td>\n",
              "      <td>8.487685</td>\n",
              "      <td>0.136329</td>\n",
              "      <td>-0.440718</td>\n",
              "      <td>-144.281155</td>\n",
              "      <td>-78.033238</td>\n",
              "      <td>0.017516</td>\n",
              "      <td>0.207861</td>\n",
              "      <td>-0.598893</td>\n",
              "      <td>-0.000286</td>\n",
              "      <td>0.005495</td>\n",
              "      <td>-0.492023</td>\n",
              "      <td>1</td>\n",
              "    </tr>\n",
              "    <tr>\n",
              "      <th>50</th>\n",
              "      <td>-8.324202</td>\n",
              "      <td>-1.662265</td>\n",
              "      <td>-16.550865</td>\n",
              "      <td>-2.290818</td>\n",
              "      <td>4.487685</td>\n",
              "      <td>1.187209</td>\n",
              "      <td>-0.481954</td>\n",
              "      <td>-313.360729</td>\n",
              "      <td>-58.734285</td>\n",
              "      <td>-0.085638</td>\n",
              "      <td>0.084454</td>\n",
              "      <td>-0.129414</td>\n",
              "      <td>0.000137</td>\n",
              "      <td>0.011801</td>\n",
              "      <td>-0.394005</td>\n",
              "      <td>1</td>\n",
              "    </tr>\n",
              "  </tbody>\n",
              "</table>\n",
              "</div>\n",
              "      <button class=\"colab-df-convert\" onclick=\"convertToInteractive('df-8b81ddd2-0256-48a5-879d-f331efef4ad3')\"\n",
              "              title=\"Convert this dataframe to an interactive table.\"\n",
              "              style=\"display:none;\">\n",
              "        \n",
              "  <svg xmlns=\"http://www.w3.org/2000/svg\" height=\"24px\"viewBox=\"0 0 24 24\"\n",
              "       width=\"24px\">\n",
              "    <path d=\"M0 0h24v24H0V0z\" fill=\"none\"/>\n",
              "    <path d=\"M18.56 5.44l.94 2.06.94-2.06 2.06-.94-2.06-.94-.94-2.06-.94 2.06-2.06.94zm-11 1L8.5 8.5l.94-2.06 2.06-.94-2.06-.94L8.5 2.5l-.94 2.06-2.06.94zm10 10l.94 2.06.94-2.06 2.06-.94-2.06-.94-.94-2.06-.94 2.06-2.06.94z\"/><path d=\"M17.41 7.96l-1.37-1.37c-.4-.4-.92-.59-1.43-.59-.52 0-1.04.2-1.43.59L10.3 9.45l-7.72 7.72c-.78.78-.78 2.05 0 2.83L4 21.41c.39.39.9.59 1.41.59.51 0 1.02-.2 1.41-.59l7.78-7.78 2.81-2.81c.8-.78.8-2.07 0-2.86zM5.41 20L4 18.59l7.72-7.72 1.47 1.35L5.41 20z\"/>\n",
              "  </svg>\n",
              "      </button>\n",
              "      \n",
              "  <style>\n",
              "    .colab-df-container {\n",
              "      display:flex;\n",
              "      flex-wrap:wrap;\n",
              "      gap: 12px;\n",
              "    }\n",
              "\n",
              "    .colab-df-convert {\n",
              "      background-color: #E8F0FE;\n",
              "      border: none;\n",
              "      border-radius: 50%;\n",
              "      cursor: pointer;\n",
              "      display: none;\n",
              "      fill: #1967D2;\n",
              "      height: 32px;\n",
              "      padding: 0 0 0 0;\n",
              "      width: 32px;\n",
              "    }\n",
              "\n",
              "    .colab-df-convert:hover {\n",
              "      background-color: #E2EBFA;\n",
              "      box-shadow: 0px 1px 2px rgba(60, 64, 67, 0.3), 0px 1px 3px 1px rgba(60, 64, 67, 0.15);\n",
              "      fill: #174EA6;\n",
              "    }\n",
              "\n",
              "    [theme=dark] .colab-df-convert {\n",
              "      background-color: #3B4455;\n",
              "      fill: #D2E3FC;\n",
              "    }\n",
              "\n",
              "    [theme=dark] .colab-df-convert:hover {\n",
              "      background-color: #434B5C;\n",
              "      box-shadow: 0px 1px 3px 1px rgba(0, 0, 0, 0.15);\n",
              "      filter: drop-shadow(0px 1px 2px rgba(0, 0, 0, 0.3));\n",
              "      fill: #FFFFFF;\n",
              "    }\n",
              "  </style>\n",
              "\n",
              "      <script>\n",
              "        const buttonEl =\n",
              "          document.querySelector('#df-8b81ddd2-0256-48a5-879d-f331efef4ad3 button.colab-df-convert');\n",
              "        buttonEl.style.display =\n",
              "          google.colab.kernel.accessAllowed ? 'block' : 'none';\n",
              "\n",
              "        async function convertToInteractive(key) {\n",
              "          const element = document.querySelector('#df-8b81ddd2-0256-48a5-879d-f331efef4ad3');\n",
              "          const dataTable =\n",
              "            await google.colab.kernel.invokeFunction('convertToInteractive',\n",
              "                                                     [key], {});\n",
              "          if (!dataTable) return;\n",
              "\n",
              "          const docLinkHtml = 'Like what you see? Visit the ' +\n",
              "            '<a target=\"_blank\" href=https://colab.research.google.com/notebooks/data_table.ipynb>data table notebook</a>'\n",
              "            + ' to learn more about interactive tables.';\n",
              "          element.innerHTML = '';\n",
              "          dataTable['output_type'] = 'display_data';\n",
              "          await google.colab.output.renderOutput(dataTable, element);\n",
              "          const docLink = document.createElement('div');\n",
              "          docLink.innerHTML = docLinkHtml;\n",
              "          element.appendChild(docLink);\n",
              "        }\n",
              "      </script>\n",
              "    </div>\n",
              "  </div>\n",
              "  "
            ],
            "text/plain": [
              "    Distributiondesanimaux  indicesdevegetation  ...      vent  Cs_longia\n",
              "0                -2.647724            -0.230968  ... -0.190374          0\n",
              "1                -2.600074             0.913816  ... -0.075983          1\n",
              "2                -2.600074             0.913816  ... -0.075983          1\n",
              "3                -2.827135             3.575519  ... -0.305661          1\n",
              "4                -2.379458            -1.150738  ... -0.009398          0\n",
              "5                -2.379458            -1.150738  ... -0.009398          0\n",
              "6                -2.526384            -3.853817  ...  0.001238          0\n",
              "7                -2.444617             0.239881  ...  0.007151          0\n",
              "8                -3.824134            -3.073904  ...  0.172419          1\n",
              "9                -0.781471            -2.973301  ...  0.024988          0\n",
              "10               -3.098300            -0.656537  ... -0.396208          0\n",
              "11               -1.749523             1.378373  ... -0.332457          1\n",
              "12               -2.465885             3.279425  ...  0.176059          0\n",
              "13                2.951375            -0.754835  ...  0.209824          1\n",
              "14                5.265723             2.208923  ...  0.168731          0\n",
              "15                3.149862            -3.854005  ... -0.006565          0\n",
              "16               17.743217            -2.832225  ...  0.077840          0\n",
              "17               16.727813            -6.745497  ...  0.010095          0\n",
              "18               -1.101351            -1.678294  ...  0.262788          0\n",
              "19                6.574780            -2.650824  ... -0.010256          0\n",
              "20               10.135452            -0.403515  ... -0.008849          0\n",
              "21                3.969502            -3.395074  ... -0.111147          0\n",
              "22                4.066407            -4.069237  ... -0.071061          0\n",
              "23               10.101128            -1.601496  ...  0.302346          0\n",
              "24                8.414571            -9.138427  ...  0.113183          0\n",
              "25                7.345657             0.344316  ...  0.206349          0\n",
              "26                8.678994            -4.247201  ...  0.134912          0\n",
              "27                0.872063             3.495743  ... -0.017956          0\n",
              "28                4.681425             2.410451  ...  0.239043          0\n",
              "29               -4.556856           -20.200926  ...  0.220653          0\n",
              "30                1.221216            -3.616995  ...  0.336051          0\n",
              "31                1.221216            -3.616995  ...  0.336051          0\n",
              "32               -2.368437            -6.312216  ... -0.257810          0\n",
              "33               77.064348             8.409605  ... -0.171046          0\n",
              "34               -3.008598             2.762936  ...  0.117154          0\n",
              "35               -3.106740            -0.464252  ...  0.035780          0\n",
              "36               -2.919832             1.821493  ... -0.022357          0\n",
              "37               -2.912104             2.578033  ... -0.196587          1\n",
              "38               -3.315568             5.019857  ... -0.263177          1\n",
              "39               -2.922441             2.274618  ... -0.326240          1\n",
              "40               -2.923537             4.002772  ... -0.567874          1\n",
              "41                3.700329             2.805315  ...  0.349036          1\n",
              "42                0.304631            -0.077832  ... -0.094331          1\n",
              "43                4.260038             1.215878  ...  0.243726          1\n",
              "44                3.877299             2.519020  ...  0.170970          1\n",
              "45               23.138065            -4.419983  ... -0.127255          1\n",
              "46               15.654456            -4.014839  ... -0.011407          1\n",
              "47                7.733651            -4.513298  ...  0.024848          1\n",
              "48               -8.807864             3.766902  ...  0.184200          1\n",
              "49              -12.198457             3.083452  ... -0.492023          1\n",
              "50               -8.324202            -1.662265  ... -0.394005          1\n",
              "\n",
              "[51 rows x 16 columns]"
            ]
          },
          "metadata": {},
          "execution_count": 316
        }
      ]
    },
    {
      "cell_type": "code",
      "metadata": {
        "id": "WlXmEfpym-Hm"
      },
      "source": [
        "X_app = apprentissage.loc[:, apprentissage.columns != 'Cs_longia']\n",
        "Y_app = apprentissage.Cs_longia\n",
        "X_test = test.loc[:, test.columns != 'Cs_longia']\n",
        "Y_test = test.Cs_longia"
      ],
      "execution_count": 317,
      "outputs": []
    },
    {
      "cell_type": "markdown",
      "source": [
        "# XGBOOST"
      ],
      "metadata": {
        "id": "THsA6X7josns"
      }
    },
    {
      "cell_type": "code",
      "source": [
        "Classifier = XGBClassifier(scale_pos_weight=1,learning_rate=0.5,max_depth=5,n_estimators=150,objective=\"binary:logistic\")"
      ],
      "metadata": {
        "id": "LvZVQSVTx91X"
      },
      "execution_count": 318,
      "outputs": []
    },
    {
      "cell_type": "code",
      "source": [
        "Classifier.fit(X_app,Y_app)"
      ],
      "metadata": {
        "colab": {
          "base_uri": "https://localhost:8080/"
        },
        "id": "kzx4dBDMx93d",
        "outputId": "8d46f3a2-d831-401b-f4eb-b4f707025f12"
      },
      "execution_count": 319,
      "outputs": [
        {
          "output_type": "execute_result",
          "data": {
            "text/plain": [
              "XGBClassifier(learning_rate=0.5, max_depth=5, n_estimators=150)"
            ]
          },
          "metadata": {},
          "execution_count": 319
        }
      ]
    },
    {
      "cell_type": "code",
      "metadata": {
        "id": "mpZMF-EhTV0N"
      },
      "source": [
        "preds = Classifier.predict(X_test)"
      ],
      "execution_count": 320,
      "outputs": []
    },
    {
      "cell_type": "code",
      "metadata": {
        "id": "wfCXrkA0TV0O",
        "colab": {
          "base_uri": "https://localhost:8080/"
        },
        "outputId": "198178fb-1209-4a97-ab65-ea9fbdbeb7b6"
      },
      "source": [
        "preds"
      ],
      "execution_count": 321,
      "outputs": [
        {
          "output_type": "execute_result",
          "data": {
            "text/plain": [
              "array([0, 0, 0, 1, 0, 0, 0, 0, 0, 0, 1, 1, 1, 1, 1, 0, 0, 0, 0, 0, 0, 0,\n",
              "       0, 1, 1, 0, 0, 1, 0, 0, 0, 0, 0, 1, 0, 0, 1, 1, 1, 1, 0, 1, 1, 1,\n",
              "       1, 1, 0, 1, 1, 1, 0])"
            ]
          },
          "metadata": {},
          "execution_count": 321
        }
      ]
    },
    {
      "cell_type": "code",
      "metadata": {
        "colab": {
          "base_uri": "https://localhost:8080/"
        },
        "outputId": "a27ccee6-d126-4eeb-a197-7bd4853a6167",
        "id": "-kxBDaKxzO2e"
      },
      "source": [
        "cf_matrix = confusion_matrix(Y_test, preds)\n",
        "print(cf_matrix)"
      ],
      "execution_count": 322,
      "outputs": [
        {
          "output_type": "stream",
          "name": "stdout",
          "text": [
            "[[23  8]\n",
            " [ 6 14]]\n"
          ]
        }
      ]
    },
    {
      "cell_type": "code",
      "source": [
        "###Recall\n",
        "def recall(y_test, preds):\n",
        "  recall=recall_score(y_test, preds)\n",
        "  return recall\n",
        "def MCC(y_test, preds):\n",
        "  MCC= matthews_corrcoef(y_test, preds) \n",
        "  return MCC\n",
        "### MCC\n",
        "def MCC(y_test, preds):\n",
        "  MCC= matthews_corrcoef(y_test, preds) \n",
        "  return MCC\n",
        "### sensibilite\n",
        "def sensibilite(y_test, preds):\n",
        "  cf_matrix = confusion_matrix(y_test, preds)\n",
        "  sensibilite =  (cf_matrix[1,1])/(cf_matrix[1,1]+cf_matrix[1,0])\n",
        "  return sensibilite\n",
        "### specifite \n",
        "def specifite(y_test, preds):\n",
        "  cf_matrix = confusion_matrix(y_test, preds)\n",
        "  specifite =  (cf_matrix[0,0])/(cf_matrix[0,0]+cf_matrix[0,1])\n",
        "  return specifite \n",
        "### kappa\n",
        "def kappa(y_test, preds):\n",
        "  value = cohen_kappa_score(y_test, preds)\n",
        "  return value\n",
        "### balancedacc\n",
        "def balancedacc(y_test, preds):\n",
        "  cf_matrix = confusion_matrix(y_test, preds)\n",
        "  sen = (cf_matrix[1,1])/(cf_matrix[1,1]+cf_matrix[0,1])\n",
        "  spe = (cf_matrix[0,0])/(cf_matrix[0,0]+cf_matrix[1,0])\n",
        "  value = (sen + spe)/2\n",
        "  return value\n",
        "def présicion_positive(y_test, preds):\n",
        "  cf_matrix = confusion_matrix(y_test, preds)\n",
        "  pre_pos =  (cf_matrix[1,1])/(cf_matrix[1,1]+cf_matrix[0,1])\n",
        "  return pre_pos\n",
        "def présicion_négative(y_test, preds):\n",
        "  cf_matrix = confusion_matrix(y_test, preds)\n",
        "  pre_pos =  (cf_matrix[0,0])/(cf_matrix[0,0]+cf_matrix[1,0])\n",
        "  return pre_pos\n",
        "  \n",
        "### courbe roc\n",
        "def plot_roc_curve(fper, tper):\n",
        "    plt.plot(fper, tper, color='red', label='ROC')\n",
        "    plt.plot([0, 1], [0, 1], color='green', linestyle='--')\n",
        "    plt.xlabel('False Positive Rate')\n",
        "    plt.ylabel('True Positive Rate')\n",
        "    plt.title('Receiver Operating Characteristic Curve')\n",
        "    plt.legend()\n",
        "    plt.show()"
      ],
      "metadata": {
        "id": "PT7afKHWJD6b"
      },
      "execution_count": 323,
      "outputs": []
    },
    {
      "cell_type": "code",
      "source": [
        "MCC(Y_test, preds)"
      ],
      "metadata": {
        "colab": {
          "base_uri": "https://localhost:8080/"
        },
        "id": "0YKjN3KXIaz7",
        "outputId": "865b183c-023c-429e-dc03-42bc45d07f60"
      },
      "execution_count": 324,
      "outputs": [
        {
          "output_type": "execute_result",
          "data": {
            "text/plain": [
              "0.4356566811800441"
            ]
          },
          "metadata": {},
          "execution_count": 324
        }
      ]
    },
    {
      "cell_type": "code",
      "source": [
        "recall(Y_test, preds)"
      ],
      "metadata": {
        "colab": {
          "base_uri": "https://localhost:8080/"
        },
        "id": "y5XZY6B2JD9D",
        "outputId": "2b489264-b9e1-4077-bc1f-5f43e2604836"
      },
      "execution_count": 325,
      "outputs": [
        {
          "output_type": "execute_result",
          "data": {
            "text/plain": [
              "0.7"
            ]
          },
          "metadata": {},
          "execution_count": 325
        }
      ]
    },
    {
      "cell_type": "code",
      "source": [
        "sensibilite(Y_test, preds)"
      ],
      "metadata": {
        "colab": {
          "base_uri": "https://localhost:8080/"
        },
        "id": "kqSk6bUfJD_T",
        "outputId": "13dde2e7-19b6-4fbe-98e8-fe833d284901"
      },
      "execution_count": 326,
      "outputs": [
        {
          "output_type": "execute_result",
          "data": {
            "text/plain": [
              "0.7"
            ]
          },
          "metadata": {},
          "execution_count": 326
        }
      ]
    },
    {
      "cell_type": "code",
      "source": [
        "specifite(Y_test, preds)"
      ],
      "metadata": {
        "colab": {
          "base_uri": "https://localhost:8080/"
        },
        "id": "pNQ0SMEcJEBk",
        "outputId": "122937d3-2c81-4da9-b70b-37eaf6d7f31f"
      },
      "execution_count": 327,
      "outputs": [
        {
          "output_type": "execute_result",
          "data": {
            "text/plain": [
              "0.7419354838709677"
            ]
          },
          "metadata": {},
          "execution_count": 327
        }
      ]
    },
    {
      "cell_type": "code",
      "source": [
        "présicion_négative(Y_test, preds)"
      ],
      "metadata": {
        "colab": {
          "base_uri": "https://localhost:8080/"
        },
        "id": "H2OR9PEknpHB",
        "outputId": "c653a57f-f42a-4e60-b5c2-9cd1c125af8a"
      },
      "execution_count": 328,
      "outputs": [
        {
          "output_type": "execute_result",
          "data": {
            "text/plain": [
              "0.7931034482758621"
            ]
          },
          "metadata": {},
          "execution_count": 328
        }
      ]
    },
    {
      "cell_type": "code",
      "source": [
        "présicion_positive(Y_test, preds)"
      ],
      "metadata": {
        "colab": {
          "base_uri": "https://localhost:8080/"
        },
        "id": "5F8mvboxno-8",
        "outputId": "5c211aa0-7a47-4e64-bc82-98f72bfa48a4"
      },
      "execution_count": 329,
      "outputs": [
        {
          "output_type": "execute_result",
          "data": {
            "text/plain": [
              "0.6363636363636364"
            ]
          },
          "metadata": {},
          "execution_count": 329
        }
      ]
    },
    {
      "cell_type": "code",
      "source": [
        "balancedacc(Y_test, preds)"
      ],
      "metadata": {
        "colab": {
          "base_uri": "https://localhost:8080/"
        },
        "id": "ZBb1_XQDnxip",
        "outputId": "c9c5dbe3-6de7-41c2-ce22-38083112e32e"
      },
      "execution_count": 330,
      "outputs": [
        {
          "output_type": "execute_result",
          "data": {
            "text/plain": [
              "0.7147335423197492"
            ]
          },
          "metadata": {},
          "execution_count": 330
        }
      ]
    },
    {
      "cell_type": "code",
      "source": [
        "kappa(Y_test, preds)"
      ],
      "metadata": {
        "colab": {
          "base_uri": "https://localhost:8080/"
        },
        "id": "Oov8iFSGop2F",
        "outputId": "e37d0c47-c63e-4c22-f5ed-52687d6c1061"
      },
      "execution_count": 331,
      "outputs": [
        {
          "output_type": "execute_result",
          "data": {
            "text/plain": [
              "0.43423137876386686"
            ]
          },
          "metadata": {},
          "execution_count": 331
        }
      ]
    },
    {
      "cell_type": "code",
      "source": [
        "y_pred_proba = Classifier.predict_proba(X_test)[::,1]\n",
        "fpr, tpr, _ = metrics.roc_curve(Y_test,  y_pred_proba)\n",
        "auc = metrics.roc_auc_score(Y_test, y_pred_proba)\n",
        "plt.plot(fpr,tpr,label=\"xgboost, auc=\"+str(auc))\n",
        "plt.legend(loc=4)\n",
        "plt.show()"
      ],
      "metadata": {
        "colab": {
          "base_uri": "https://localhost:8080/",
          "height": 265
        },
        "id": "eOzFa818Ia2R",
        "outputId": "b05f063e-1e48-4d1a-cc61-a8f4df0d27b9"
      },
      "execution_count": 332,
      "outputs": [
        {
          "output_type": "display_data",
          "data": {
            "image/png": "[encoded data removed]",
            "text/plain": [
              "<Figure size 432x288 with 1 Axes>"
            ]
          },
          "metadata": {
            "needs_background": "light"
          }
        }
      ]
    },
    {
      "cell_type": "markdown",
      "source": [
        "# Logistic"
      ],
      "metadata": {
        "id": "y9aeHkxsorEv"
      }
    },
    {
      "cell_type": "code",
      "source": [
        "Classifier1 = LogisticRegression(max_iter=100, solver='lbfgs', class_weight='balanced')"
      ],
      "metadata": {
        "id": "BqdBNQ8OtRBK"
      },
      "execution_count": 333,
      "outputs": []
    },
    {
      "cell_type": "code",
      "source": [
        "Classifier1.fit(X_app,Y_app)"
      ],
      "metadata": {
        "colab": {
          "base_uri": "https://localhost:8080/"
        },
        "outputId": "887ff7c1-45fd-44d1-c70b-35f7ef442067",
        "id": "cFamN3t7tRBN"
      },
      "execution_count": 334,
      "outputs": [
        {
          "output_type": "stream",
          "name": "stderr",
          "text": [
            "/usr/local/lib/python3.7/dist-packages/sklearn/linear_model/_logistic.py:818: ConvergenceWarning: lbfgs failed to converge (status=1):\n",
            "STOP: TOTAL NO. of ITERATIONS REACHED LIMIT.\n",
            "\n",
            "Increase the number of iterations (max_iter) or scale the data as shown in:\n",
            "    https://scikit-learn.org/stable/modules/preprocessing.html\n",
            "Please also refer to the documentation for alternative solver options:\n",
            "    https://scikit-learn.org/stable/modules/linear_model.html#logistic-regression\n",
            "  extra_warning_msg=_LOGISTIC_SOLVER_CONVERGENCE_MSG,\n"
          ]
        },
        {
          "output_type": "execute_result",
          "data": {
            "text/plain": [
              "LogisticRegression(class_weight='balanced')"
            ]
          },
          "metadata": {},
          "execution_count": 334
        }
      ]
    },
    {
      "cell_type": "code",
      "metadata": {
        "id": "WWCUVz41tRBN"
      },
      "source": [
        "preds1 = Classifier1.predict(X_test)"
      ],
      "execution_count": 335,
      "outputs": []
    },
    {
      "cell_type": "code",
      "metadata": {
        "colab": {
          "base_uri": "https://localhost:8080/"
        },
        "outputId": "3e35abce-76fe-47a3-fc4d-199d6e2bea13",
        "id": "cLbQ1a3ytRBO"
      },
      "source": [
        "preds1"
      ],
      "execution_count": 336,
      "outputs": [
        {
          "output_type": "execute_result",
          "data": {
            "text/plain": [
              "array([0, 0, 0, 1, 0, 0, 0, 1, 0, 0, 1, 1, 1, 0, 1, 0, 0, 0, 0, 1, 0, 0,\n",
              "       0, 0, 0, 1, 0, 0, 0, 1, 0, 0, 0, 1, 0, 0, 1, 1, 1, 1, 1, 1, 1, 1,\n",
              "       1, 0, 1, 1, 1, 1, 1])"
            ]
          },
          "metadata": {},
          "execution_count": 336
        }
      ]
    },
    {
      "cell_type": "code",
      "metadata": {
        "colab": {
          "base_uri": "https://localhost:8080/"
        },
        "outputId": "a2f445a7-5687-4a6f-bb90-50ce91f496b1",
        "id": "jYdLZtC2tRBP"
      },
      "source": [
        "cf_matrix1 = confusion_matrix(Y_test, preds1)\n",
        "print(cf_matrix1)"
      ],
      "execution_count": 337,
      "outputs": [
        {
          "output_type": "stream",
          "name": "stdout",
          "text": [
            "[[22  9]\n",
            " [ 5 15]]\n"
          ]
        }
      ]
    },
    {
      "cell_type": "code",
      "source": [
        "MCC(Y_test, preds1)"
      ],
      "metadata": {
        "colab": {
          "base_uri": "https://localhost:8080/"
        },
        "outputId": "bde17ca7-967d-409e-ddc2-a0f18f703653",
        "id": "r9gihGeYtxi3"
      },
      "execution_count": 338,
      "outputs": [
        {
          "output_type": "execute_result",
          "data": {
            "text/plain": [
              "0.4496364521122596"
            ]
          },
          "metadata": {},
          "execution_count": 338
        }
      ]
    },
    {
      "cell_type": "code",
      "source": [
        "recall(Y_test, preds1)"
      ],
      "metadata": {
        "colab": {
          "base_uri": "https://localhost:8080/"
        },
        "outputId": "e9696e72-f30b-4fa9-f67a-33b3455c203e",
        "id": "nEBoze-Ptxi6"
      },
      "execution_count": 339,
      "outputs": [
        {
          "output_type": "execute_result",
          "data": {
            "text/plain": [
              "0.75"
            ]
          },
          "metadata": {},
          "execution_count": 339
        }
      ]
    },
    {
      "cell_type": "code",
      "source": [
        "sensibilite(Y_test, preds1)"
      ],
      "metadata": {
        "colab": {
          "base_uri": "https://localhost:8080/"
        },
        "outputId": "b2c7fe56-aec9-41dc-8526-9579e10c85eb",
        "id": "FeSUU13Dtxi6"
      },
      "execution_count": 340,
      "outputs": [
        {
          "output_type": "execute_result",
          "data": {
            "text/plain": [
              "0.75"
            ]
          },
          "metadata": {},
          "execution_count": 340
        }
      ]
    },
    {
      "cell_type": "code",
      "source": [
        "specifite(Y_test, preds1)"
      ],
      "metadata": {
        "colab": {
          "base_uri": "https://localhost:8080/"
        },
        "outputId": "d5615331-38b5-4057-8454-305e84f38e93",
        "id": "dwQpig7Htxi6"
      },
      "execution_count": 341,
      "outputs": [
        {
          "output_type": "execute_result",
          "data": {
            "text/plain": [
              "0.7096774193548387"
            ]
          },
          "metadata": {},
          "execution_count": 341
        }
      ]
    },
    {
      "cell_type": "code",
      "source": [
        "présicion_négative(Y_test, preds1)"
      ],
      "metadata": {
        "colab": {
          "base_uri": "https://localhost:8080/"
        },
        "outputId": "dc7ab1bd-462b-4f6b-cf7d-eafb1a757961",
        "id": "6H7Fh0xYtxi8"
      },
      "execution_count": 342,
      "outputs": [
        {
          "output_type": "execute_result",
          "data": {
            "text/plain": [
              "0.8148148148148148"
            ]
          },
          "metadata": {},
          "execution_count": 342
        }
      ]
    },
    {
      "cell_type": "code",
      "source": [
        "présicion_positive(Y_test, preds1)"
      ],
      "metadata": {
        "colab": {
          "base_uri": "https://localhost:8080/"
        },
        "outputId": "3487adf7-fd4d-424e-91c2-fc2d516f0327",
        "id": "76_2PqsYtxi9"
      },
      "execution_count": 343,
      "outputs": [
        {
          "output_type": "execute_result",
          "data": {
            "text/plain": [
              "0.625"
            ]
          },
          "metadata": {},
          "execution_count": 343
        }
      ]
    },
    {
      "cell_type": "code",
      "source": [
        "balancedacc(Y_test, preds1)"
      ],
      "metadata": {
        "colab": {
          "base_uri": "https://localhost:8080/"
        },
        "outputId": "67b399f2-1ce4-417e-fbe9-683b322ef9c2",
        "id": "GnAaGf7Ftxi9"
      },
      "execution_count": 344,
      "outputs": [
        {
          "output_type": "execute_result",
          "data": {
            "text/plain": [
              "0.7199074074074074"
            ]
          },
          "metadata": {},
          "execution_count": 344
        }
      ]
    },
    {
      "cell_type": "code",
      "source": [
        "kappa(Y_test, preds1)"
      ],
      "metadata": {
        "colab": {
          "base_uri": "https://localhost:8080/"
        },
        "outputId": "5022be6b-a213-4536-808f-19a80b6b39c9",
        "id": "qET4Gk3Jtxi-"
      },
      "execution_count": 345,
      "outputs": [
        {
          "output_type": "execute_result",
          "data": {
            "text/plain": [
              "0.4439252336448598"
            ]
          },
          "metadata": {},
          "execution_count": 345
        }
      ]
    },
    {
      "cell_type": "code",
      "source": [
        "y_pred_proba = Classifier1.predict_proba(X_test)[::,1]\n",
        "fpr, tpr, _ = metrics.roc_curve(Y_test,  y_pred_proba)\n",
        "auc = metrics.roc_auc_score(Y_test, y_pred_proba)\n",
        "plt.plot(fpr,tpr,label=\"logistique, auc=\"+str(auc))\n",
        "plt.legend(loc=4)\n",
        "plt.show()"
      ],
      "metadata": {
        "colab": {
          "base_uri": "https://localhost:8080/",
          "height": 265
        },
        "outputId": "b3f264ca-41ce-4ead-fef3-acce6d51c471",
        "id": "7KQf8mPRtxi-"
      },
      "execution_count": 346,
      "outputs": [
        {
          "output_type": "display_data",
          "data": {
            "image/png": "[encoded data removed]",
            "text/plain": [
              "<Figure size 432x288 with 1 Axes>"
            ]
          },
          "metadata": {
            "needs_background": "light"
          }
        }
      ]
    },
    {
      "cell_type": "markdown",
      "source": [
        "# Random_forest"
      ],
      "metadata": {
        "id": "zGlIAvl7x7Kc"
      }
    },
    {
      "cell_type": "code",
      "source": [
        "Classifier2 = RandomForestClassifier(n_estimators=100, criterion='gini', max_depth=5 ,min_samples_split=3)"
      ],
      "metadata": {
        "id": "OnTVCOaQx7Ke"
      },
      "execution_count": 347,
      "outputs": []
    },
    {
      "cell_type": "code",
      "source": [
        "Classifier2.fit(X_app,Y_app)"
      ],
      "metadata": {
        "colab": {
          "base_uri": "https://localhost:8080/"
        },
        "outputId": "eaa5a858-544b-4f1a-b56b-5e150d4b3964",
        "id": "DXZaUbAOx7Kf"
      },
      "execution_count": 348,
      "outputs": [
        {
          "output_type": "execute_result",
          "data": {
            "text/plain": [
              "RandomForestClassifier(max_depth=5, min_samples_split=3)"
            ]
          },
          "metadata": {},
          "execution_count": 348
        }
      ]
    },
    {
      "cell_type": "code",
      "metadata": {
        "id": "gZ5dhlTJx7Kg"
      },
      "source": [
        "preds2 = Classifier2.predict(X_test)"
      ],
      "execution_count": 349,
      "outputs": []
    },
    {
      "cell_type": "code",
      "metadata": {
        "colab": {
          "base_uri": "https://localhost:8080/"
        },
        "outputId": "ceb954e7-f923-4079-db81-bac8fa6fee9c",
        "id": "3xri6EYkx7Kh"
      },
      "source": [
        "preds2"
      ],
      "execution_count": 350,
      "outputs": [
        {
          "output_type": "execute_result",
          "data": {
            "text/plain": [
              "array([0, 1, 1, 1, 0, 0, 0, 1, 0, 0, 1, 1, 1, 1, 1, 0, 0, 0, 0, 0, 0, 0,\n",
              "       0, 0, 1, 0, 0, 1, 0, 0, 0, 0, 0, 1, 0, 0, 1, 1, 1, 1, 0, 1, 1, 1,\n",
              "       1, 0, 0, 0, 1, 1, 1])"
            ]
          },
          "metadata": {},
          "execution_count": 350
        }
      ]
    },
    {
      "cell_type": "code",
      "metadata": {
        "colab": {
          "base_uri": "https://localhost:8080/"
        },
        "outputId": "eba5c16c-06ae-4acf-d745-ef5c53b338ea",
        "id": "x_YXboonx7Kh"
      },
      "source": [
        "cf_matrix2 = confusion_matrix(Y_test, preds2)\n",
        "print(cf_matrix2)"
      ],
      "execution_count": 351,
      "outputs": [
        {
          "output_type": "stream",
          "name": "stdout",
          "text": [
            "[[23  8]\n",
            " [ 5 15]]\n"
          ]
        }
      ]
    },
    {
      "cell_type": "code",
      "source": [
        "MCC(Y_test, preds2)"
      ],
      "metadata": {
        "colab": {
          "base_uri": "https://localhost:8080/"
        },
        "outputId": "284ad143-703d-4b62-c91d-ccdf59b10894",
        "id": "B7ku8BpLx7Ki"
      },
      "execution_count": 352,
      "outputs": [
        {
          "output_type": "execute_result",
          "data": {
            "text/plain": [
              "0.4826819525953402"
            ]
          },
          "metadata": {},
          "execution_count": 352
        }
      ]
    },
    {
      "cell_type": "code",
      "source": [
        "recall(Y_test, preds2)"
      ],
      "metadata": {
        "colab": {
          "base_uri": "https://localhost:8080/"
        },
        "outputId": "b91697a6-a173-4407-bddf-b534a25746a9",
        "id": "0-gUEv9Kx7Kj"
      },
      "execution_count": 353,
      "outputs": [
        {
          "output_type": "execute_result",
          "data": {
            "text/plain": [
              "0.75"
            ]
          },
          "metadata": {},
          "execution_count": 353
        }
      ]
    },
    {
      "cell_type": "code",
      "source": [
        "sensibilite(Y_test, preds2)"
      ],
      "metadata": {
        "colab": {
          "base_uri": "https://localhost:8080/"
        },
        "outputId": "62e1c9ff-addc-4775-aa2b-6f3ad44fa870",
        "id": "_Hm4Xdv3x7Kk"
      },
      "execution_count": 354,
      "outputs": [
        {
          "output_type": "execute_result",
          "data": {
            "text/plain": [
              "0.75"
            ]
          },
          "metadata": {},
          "execution_count": 354
        }
      ]
    },
    {
      "cell_type": "code",
      "source": [
        "specifite(Y_test, preds2)"
      ],
      "metadata": {
        "colab": {
          "base_uri": "https://localhost:8080/"
        },
        "outputId": "0c09171c-8e58-47c6-8bf8-70feb867490b",
        "id": "rS3voaC9x7Kk"
      },
      "execution_count": 355,
      "outputs": [
        {
          "output_type": "execute_result",
          "data": {
            "text/plain": [
              "0.7419354838709677"
            ]
          },
          "metadata": {},
          "execution_count": 355
        }
      ]
    },
    {
      "cell_type": "code",
      "source": [
        "présicion_négative(Y_test, preds2)"
      ],
      "metadata": {
        "colab": {
          "base_uri": "https://localhost:8080/"
        },
        "outputId": "faa7d135-9193-4ab6-ad13-bee3a75c8fec",
        "id": "aqcCGISAx7Kl"
      },
      "execution_count": 356,
      "outputs": [
        {
          "output_type": "execute_result",
          "data": {
            "text/plain": [
              "0.8214285714285714"
            ]
          },
          "metadata": {},
          "execution_count": 356
        }
      ]
    },
    {
      "cell_type": "code",
      "source": [
        "présicion_positive(Y_test, preds2)"
      ],
      "metadata": {
        "colab": {
          "base_uri": "https://localhost:8080/"
        },
        "outputId": "cc69ff33-a378-4152-d3e1-64144a6437bc",
        "id": "7pbTegOYx7Km"
      },
      "execution_count": 357,
      "outputs": [
        {
          "output_type": "execute_result",
          "data": {
            "text/plain": [
              "0.6521739130434783"
            ]
          },
          "metadata": {},
          "execution_count": 357
        }
      ]
    },
    {
      "cell_type": "code",
      "source": [
        "balancedacc(Y_test, preds2)"
      ],
      "metadata": {
        "colab": {
          "base_uri": "https://localhost:8080/"
        },
        "outputId": "e6331a19-45e8-45ac-8235-4cdf45914aab",
        "id": "2svuWaynx7Kn"
      },
      "execution_count": 358,
      "outputs": [
        {
          "output_type": "execute_result",
          "data": {
            "text/plain": [
              "0.7368012422360248"
            ]
          },
          "metadata": {},
          "execution_count": 358
        }
      ]
    },
    {
      "cell_type": "code",
      "source": [
        "kappa(Y_test, preds2)"
      ],
      "metadata": {
        "colab": {
          "base_uri": "https://localhost:8080/"
        },
        "outputId": "f76d4136-8828-4795-d643-12006a5277be",
        "id": "_fj8QvtYx7Kn"
      },
      "execution_count": 359,
      "outputs": [
        {
          "output_type": "execute_result",
          "data": {
            "text/plain": [
              "0.4791830322073841"
            ]
          },
          "metadata": {},
          "execution_count": 359
        }
      ]
    },
    {
      "cell_type": "code",
      "source": [
        "y_pred_proba = Classifier2.predict_proba(X_test)[::,1]\n",
        "fpr, tpr, _ = metrics.roc_curve(Y_test,  y_pred_proba)\n",
        "auc = metrics.roc_auc_score(Y_test, y_pred_proba)\n",
        "plt.plot(fpr,tpr,label=\"random_forest, auc=\"+str(auc))\n",
        "plt.legend(loc=4)\n",
        "plt.show()"
      ],
      "metadata": {
        "colab": {
          "base_uri": "https://localhost:8080/",
          "height": 265
        },
        "outputId": "3de777f4-0592-41f4-80dc-05baac1f2199",
        "id": "m_3yw9xWx7Ko"
      },
      "execution_count": 360,
      "outputs": [
        {
          "output_type": "display_data",
          "data": {
            "image/png": "[encoded data removed]",
            "text/plain": [
              "<Figure size 432x288 with 1 Axes>"
            ]
          },
          "metadata": {
            "needs_background": "light"
          }
        }
      ]
    },
    {
      "cell_type": "markdown",
      "source": [
        "# Gradient_Boostnig"
      ],
      "metadata": {
        "id": "JI7145L2uHrL"
      }
    },
    {
      "cell_type": "code",
      "source": [
        "Classifier3 = GradientBoostingClassifier(n_estimators=225, learning_rate=0.1, max_features=2, max_depth=2, random_state=0,min_samples_leaf=2,subsample=1 )"
      ],
      "metadata": {
        "id": "qVCjVU68uGBZ"
      },
      "execution_count": 361,
      "outputs": []
    },
    {
      "cell_type": "code",
      "source": [
        "Classifier3.fit(X_app,Y_app)"
      ],
      "metadata": {
        "colab": {
          "base_uri": "https://localhost:8080/"
        },
        "outputId": "37508c7c-833a-43a9-f8ce-973558a2d39d",
        "id": "BIMZEAdVuGBb"
      },
      "execution_count": 362,
      "outputs": [
        {
          "output_type": "execute_result",
          "data": {
            "text/plain": [
              "GradientBoostingClassifier(max_depth=2, max_features=2, min_samples_leaf=2,\n",
              "                           n_estimators=225, random_state=0, subsample=1)"
            ]
          },
          "metadata": {},
          "execution_count": 362
        }
      ]
    },
    {
      "cell_type": "code",
      "metadata": {
        "id": "7hG6F5ZyuGBc"
      },
      "source": [
        "preds3 = Classifier3.predict(X_test)"
      ],
      "execution_count": 363,
      "outputs": []
    },
    {
      "cell_type": "code",
      "metadata": {
        "colab": {
          "base_uri": "https://localhost:8080/"
        },
        "outputId": "d3457c85-834d-4ea7-8b7c-e5888899a46b",
        "id": "4k9JFc37uGBc"
      },
      "source": [
        "preds3"
      ],
      "execution_count": 364,
      "outputs": [
        {
          "output_type": "execute_result",
          "data": {
            "text/plain": [
              "array([0, 0, 0, 1, 0, 0, 0, 1, 0, 0, 1, 1, 1, 0, 1, 0, 0, 0, 0, 1, 0, 0,\n",
              "       0, 1, 1, 0, 0, 1, 0, 0, 0, 0, 0, 1, 0, 0, 1, 1, 1, 1, 1, 1, 1, 1,\n",
              "       1, 0, 0, 0, 1, 1, 1])"
            ]
          },
          "metadata": {},
          "execution_count": 364
        }
      ]
    },
    {
      "cell_type": "code",
      "metadata": {
        "colab": {
          "base_uri": "https://localhost:8080/"
        },
        "outputId": "a0f3e511-64fa-4b51-ade0-b73d76dd7e0f",
        "id": "fVfK5rx0uGBd"
      },
      "source": [
        "cf_matrix3 = confusion_matrix(Y_test, preds3)\n",
        "print(cf_matrix3)"
      ],
      "execution_count": 365,
      "outputs": [
        {
          "output_type": "stream",
          "name": "stdout",
          "text": [
            "[[21 10]\n",
            " [ 7 13]]\n"
          ]
        }
      ]
    },
    {
      "cell_type": "code",
      "source": [
        "MCC(Y_test, preds3)"
      ],
      "metadata": {
        "colab": {
          "base_uri": "https://localhost:8080/"
        },
        "outputId": "c1745899-3708-460d-c6b8-efb5c6c3e25e",
        "id": "vbOeDj1BuGBe"
      },
      "execution_count": 366,
      "outputs": [
        {
          "output_type": "execute_result",
          "data": {
            "text/plain": [
              "0.3212604471372264"
            ]
          },
          "metadata": {},
          "execution_count": 366
        }
      ]
    },
    {
      "cell_type": "code",
      "source": [
        "recall(Y_test, preds3)"
      ],
      "metadata": {
        "colab": {
          "base_uri": "https://localhost:8080/"
        },
        "outputId": "fd04ef31-3678-4b77-cd4e-bea1b48b7eea",
        "id": "C9aawbDzuGBe"
      },
      "execution_count": 367,
      "outputs": [
        {
          "output_type": "execute_result",
          "data": {
            "text/plain": [
              "0.65"
            ]
          },
          "metadata": {},
          "execution_count": 367
        }
      ]
    },
    {
      "cell_type": "code",
      "source": [
        "sensibilite(Y_test, preds3)"
      ],
      "metadata": {
        "colab": {
          "base_uri": "https://localhost:8080/"
        },
        "outputId": "43fd48d9-ec99-4973-ef69-13faad0a991a",
        "id": "MQOsFFQ6uGBf"
      },
      "execution_count": 368,
      "outputs": [
        {
          "output_type": "execute_result",
          "data": {
            "text/plain": [
              "0.65"
            ]
          },
          "metadata": {},
          "execution_count": 368
        }
      ]
    },
    {
      "cell_type": "code",
      "source": [
        "specifite(Y_test, preds3)"
      ],
      "metadata": {
        "colab": {
          "base_uri": "https://localhost:8080/"
        },
        "outputId": "8cb1114e-a998-4761-891c-00e3eb7484bf",
        "id": "mM4JBuWiuGBf"
      },
      "execution_count": 369,
      "outputs": [
        {
          "output_type": "execute_result",
          "data": {
            "text/plain": [
              "0.6774193548387096"
            ]
          },
          "metadata": {},
          "execution_count": 369
        }
      ]
    },
    {
      "cell_type": "code",
      "source": [
        "présicion_négative(Y_test, preds3)"
      ],
      "metadata": {
        "colab": {
          "base_uri": "https://localhost:8080/"
        },
        "outputId": "b8787556-286f-4f8a-a0da-244c05d75231",
        "id": "6_VmQRhwuGBg"
      },
      "execution_count": 370,
      "outputs": [
        {
          "output_type": "execute_result",
          "data": {
            "text/plain": [
              "0.75"
            ]
          },
          "metadata": {},
          "execution_count": 370
        }
      ]
    },
    {
      "cell_type": "code",
      "source": [
        "présicion_positive(Y_test, preds3)"
      ],
      "metadata": {
        "colab": {
          "base_uri": "https://localhost:8080/"
        },
        "outputId": "b69d02b9-b3e9-4ce3-c358-17282215f617",
        "id": "WaWhbVz0uGBh"
      },
      "execution_count": 371,
      "outputs": [
        {
          "output_type": "execute_result",
          "data": {
            "text/plain": [
              "0.5652173913043478"
            ]
          },
          "metadata": {},
          "execution_count": 371
        }
      ]
    },
    {
      "cell_type": "code",
      "source": [
        "balancedacc(Y_test, preds3)"
      ],
      "metadata": {
        "colab": {
          "base_uri": "https://localhost:8080/"
        },
        "outputId": "3ae43303-84ef-4496-de8b-ab0b57b383d4",
        "id": "vD0WviqluGBi"
      },
      "execution_count": 372,
      "outputs": [
        {
          "output_type": "execute_result",
          "data": {
            "text/plain": [
              "0.6576086956521738"
            ]
          },
          "metadata": {},
          "execution_count": 372
        }
      ]
    },
    {
      "cell_type": "code",
      "source": [
        "kappa(Y_test, preds3)"
      ],
      "metadata": {
        "colab": {
          "base_uri": "https://localhost:8080/"
        },
        "outputId": "0f7dcf34-ca8c-4c95-80a7-609a06e981b5",
        "id": "fkjFRlqVuGBj"
      },
      "execution_count": 373,
      "outputs": [
        {
          "output_type": "execute_result",
          "data": {
            "text/plain": [
              "0.31893165750196384"
            ]
          },
          "metadata": {},
          "execution_count": 373
        }
      ]
    },
    {
      "cell_type": "code",
      "source": [
        "y_pred_proba = Classifier3.predict_proba(X_test)[::,1]\n",
        "fpr, tpr, _ = metrics.roc_curve(Y_test,  y_pred_proba)\n",
        "auc = metrics.roc_auc_score(Y_test, y_pred_proba)\n",
        "plt.plot(fpr,tpr,label=\"gradient_boosting, auc=\"+str(auc))\n",
        "plt.legend(loc=4)\n",
        "plt.show()"
      ],
      "metadata": {
        "colab": {
          "base_uri": "https://localhost:8080/",
          "height": 265
        },
        "outputId": "1e743acd-b39a-45d6-cdaa-2fc194befb0a",
        "id": "AIZJ2moWuGBj"
      },
      "execution_count": 374,
      "outputs": [
        {
          "output_type": "display_data",
          "data": {
            "image/png": "[encoded data removed]",
            "text/plain": [
              "<Figure size 432x288 with 1 Axes>"
            ]
          },
          "metadata": {
            "needs_background": "light"
          }
        }
      ]
    },
    {
      "cell_type": "markdown",
      "source": [
        "# Gaussian"
      ],
      "metadata": {
        "id": "M_oLoKwYyQ5r"
      }
    },
    {
      "cell_type": "code",
      "source": [
        "Classifier4 = GaussianNB()"
      ],
      "metadata": {
        "id": "R3n-YXTPyOrL"
      },
      "execution_count": 375,
      "outputs": []
    },
    {
      "cell_type": "code",
      "source": [
        "Classifier4.fit(X_app,Y_app)"
      ],
      "metadata": {
        "colab": {
          "base_uri": "https://localhost:8080/"
        },
        "outputId": "fefefd2f-fb46-4ac7-bf78-bf6a8afe90a2",
        "id": "CqAOx3ZxyOrM"
      },
      "execution_count": 376,
      "outputs": [
        {
          "output_type": "execute_result",
          "data": {
            "text/plain": [
              "GaussianNB()"
            ]
          },
          "metadata": {},
          "execution_count": 376
        }
      ]
    },
    {
      "cell_type": "code",
      "metadata": {
        "id": "sUQwDdgHyOrN"
      },
      "source": [
        "preds4 = Classifier4.predict(X_test)"
      ],
      "execution_count": 377,
      "outputs": []
    },
    {
      "cell_type": "code",
      "metadata": {
        "colab": {
          "base_uri": "https://localhost:8080/"
        },
        "outputId": "66483fa7-0c2e-4239-bd64-e9782b1b5ae8",
        "id": "wgNGL6VZyOrN"
      },
      "source": [
        "preds4"
      ],
      "execution_count": 378,
      "outputs": [
        {
          "output_type": "execute_result",
          "data": {
            "text/plain": [
              "array([0, 0, 0, 1, 0, 1, 0, 0, 0, 0, 1, 1, 1, 0, 0, 0, 0, 0, 0, 0, 0, 0,\n",
              "       0, 0, 0, 0, 0, 1, 0, 0, 0, 0, 0, 0, 0, 0, 1, 1, 1, 1, 1, 1, 1, 1,\n",
              "       1, 0, 0, 0, 1, 1, 1])"
            ]
          },
          "metadata": {},
          "execution_count": 378
        }
      ]
    },
    {
      "cell_type": "code",
      "metadata": {
        "colab": {
          "base_uri": "https://localhost:8080/"
        },
        "outputId": "6f6df3b3-8deb-4ea0-b1e5-4b40004137c7",
        "id": "lrM0H5CtyOrO"
      },
      "source": [
        "cf_matrix4 = confusion_matrix(Y_test, preds4)\n",
        "print(cf_matrix4)"
      ],
      "execution_count": 379,
      "outputs": [
        {
          "output_type": "stream",
          "name": "stdout",
          "text": [
            "[[26  5]\n",
            " [ 7 13]]\n"
          ]
        }
      ]
    },
    {
      "cell_type": "code",
      "source": [
        "MCC(Y_test, preds4)"
      ],
      "metadata": {
        "colab": {
          "base_uri": "https://localhost:8080/"
        },
        "outputId": "a7373c42-4f68-458d-dacd-2488771b36eb",
        "id": "saxhWxoLyOrP"
      },
      "execution_count": 380,
      "outputs": [
        {
          "output_type": "execute_result",
          "data": {
            "text/plain": [
              "0.4992907971290395"
            ]
          },
          "metadata": {},
          "execution_count": 380
        }
      ]
    },
    {
      "cell_type": "code",
      "source": [
        "recall(Y_test, preds4)"
      ],
      "metadata": {
        "colab": {
          "base_uri": "https://localhost:8080/"
        },
        "outputId": "99200b4e-254d-4daf-8962-ac874e5481d4",
        "id": "x3ajiHmiyOrP"
      },
      "execution_count": 381,
      "outputs": [
        {
          "output_type": "execute_result",
          "data": {
            "text/plain": [
              "0.65"
            ]
          },
          "metadata": {},
          "execution_count": 381
        }
      ]
    },
    {
      "cell_type": "code",
      "source": [
        "sensibilite(Y_test, preds4)"
      ],
      "metadata": {
        "colab": {
          "base_uri": "https://localhost:8080/"
        },
        "outputId": "0bde36e3-dff3-4d12-a9ae-b988dab81b27",
        "id": "rhznxgVNyOrQ"
      },
      "execution_count": 382,
      "outputs": [
        {
          "output_type": "execute_result",
          "data": {
            "text/plain": [
              "0.65"
            ]
          },
          "metadata": {},
          "execution_count": 382
        }
      ]
    },
    {
      "cell_type": "code",
      "source": [
        "specifite(Y_test, preds4)"
      ],
      "metadata": {
        "colab": {
          "base_uri": "https://localhost:8080/"
        },
        "outputId": "0f9dd2a7-d289-42da-e4a1-e70aa704b744",
        "id": "wH2MIF2XyOrR"
      },
      "execution_count": 383,
      "outputs": [
        {
          "output_type": "execute_result",
          "data": {
            "text/plain": [
              "0.8387096774193549"
            ]
          },
          "metadata": {},
          "execution_count": 383
        }
      ]
    },
    {
      "cell_type": "code",
      "source": [
        "présicion_négative(Y_test, preds4)"
      ],
      "metadata": {
        "colab": {
          "base_uri": "https://localhost:8080/"
        },
        "outputId": "7c1e4a70-bad4-4e71-cf6a-2f826cd140b3",
        "id": "jDbUhczcyOrS"
      },
      "execution_count": 384,
      "outputs": [
        {
          "output_type": "execute_result",
          "data": {
            "text/plain": [
              "0.7878787878787878"
            ]
          },
          "metadata": {},
          "execution_count": 384
        }
      ]
    },
    {
      "cell_type": "code",
      "source": [
        "présicion_positive(Y_test, preds4)"
      ],
      "metadata": {
        "colab": {
          "base_uri": "https://localhost:8080/"
        },
        "outputId": "b6d662ae-3910-4a77-b9a1-bc382327e2bb",
        "id": "LT4yf35CyOrT"
      },
      "execution_count": 385,
      "outputs": [
        {
          "output_type": "execute_result",
          "data": {
            "text/plain": [
              "0.7222222222222222"
            ]
          },
          "metadata": {},
          "execution_count": 385
        }
      ]
    },
    {
      "cell_type": "code",
      "source": [
        "balancedacc(Y_test, preds4)"
      ],
      "metadata": {
        "colab": {
          "base_uri": "https://localhost:8080/"
        },
        "outputId": "bf5476e1-71aa-489d-834f-9ba17878f406",
        "id": "y9KqoG0eyOrU"
      },
      "execution_count": 386,
      "outputs": [
        {
          "output_type": "execute_result",
          "data": {
            "text/plain": [
              "0.755050505050505"
            ]
          },
          "metadata": {},
          "execution_count": 386
        }
      ]
    },
    {
      "cell_type": "code",
      "source": [
        "kappa(Y_test, preds4)"
      ],
      "metadata": {
        "colab": {
          "base_uri": "https://localhost:8080/"
        },
        "outputId": "996f3ead-40a0-4523-87eb-2e9fdbb9a9c6",
        "id": "4MwUWhdByOrU"
      },
      "execution_count": 387,
      "outputs": [
        {
          "output_type": "execute_result",
          "data": {
            "text/plain": [
              "0.49753694581280794"
            ]
          },
          "metadata": {},
          "execution_count": 387
        }
      ]
    },
    {
      "cell_type": "code",
      "source": [
        "y_pred_proba = Classifier4.predict_proba(X_test)[::,1]\n",
        "fpr, tpr, _ = metrics.roc_curve(Y_test,  y_pred_proba)\n",
        "auc = metrics.roc_auc_score(Y_test, y_pred_proba)\n",
        "plt.plot(fpr,tpr,label=\"gaussian, auc=\"+str(auc))\n",
        "plt.legend(loc=4)\n",
        "plt.show()"
      ],
      "metadata": {
        "colab": {
          "base_uri": "https://localhost:8080/",
          "height": 265
        },
        "outputId": "cd5d910d-71d4-400c-9de6-6cb96e73f22f",
        "id": "8no7Z5gvyOrV"
      },
      "execution_count": 388,
      "outputs": [
        {
          "output_type": "display_data",
          "data": {
            "image/png": "[encoded data removed]",
            "text/plain": [
              "<Figure size 432x288 with 1 Axes>"
            ]
          },
          "metadata": {
            "needs_background": "light"
          }
        }
      ]
    },
    {
      "cell_type": "markdown",
      "source": [
        "# KNN"
      ],
      "metadata": {
        "id": "MjRfnmXjz57x"
      }
    },
    {
      "cell_type": "code",
      "source": [
        "Classifier5 = KNeighborsClassifier(n_neighbors=5)"
      ],
      "metadata": {
        "id": "OsjObBSfz4IN"
      },
      "execution_count": 389,
      "outputs": []
    },
    {
      "cell_type": "code",
      "source": [
        "Classifier5.fit(X_app,Y_app)"
      ],
      "metadata": {
        "colab": {
          "base_uri": "https://localhost:8080/"
        },
        "outputId": "668c3be5-abb9-424e-bac9-bdea26dc54fb",
        "id": "nB069cUFz4IP"
      },
      "execution_count": 390,
      "outputs": [
        {
          "output_type": "execute_result",
          "data": {
            "text/plain": [
              "KNeighborsClassifier()"
            ]
          },
          "metadata": {},
          "execution_count": 390
        }
      ]
    },
    {
      "cell_type": "code",
      "metadata": {
        "id": "ubEW3-dVz4IQ"
      },
      "source": [
        "preds5 = Classifier5.predict(X_test)"
      ],
      "execution_count": 391,
      "outputs": []
    },
    {
      "cell_type": "code",
      "metadata": {
        "colab": {
          "base_uri": "https://localhost:8080/"
        },
        "outputId": "3eea6e84-a187-41a6-8c56-0f91f10576d9",
        "id": "Jt1k3-_iz4IQ"
      },
      "source": [
        "preds5"
      ],
      "execution_count": 392,
      "outputs": [
        {
          "output_type": "execute_result",
          "data": {
            "text/plain": [
              "array([0, 0, 0, 1, 0, 0, 0, 0, 0, 0, 1, 1, 1, 1, 1, 0, 0, 0, 0, 0, 1, 0,\n",
              "       0, 1, 1, 1, 0, 0, 0, 1, 0, 0, 1, 0, 0, 1, 0, 0, 1, 1, 0, 1, 0, 1,\n",
              "       0, 0, 1, 0, 1, 1, 0])"
            ]
          },
          "metadata": {},
          "execution_count": 392
        }
      ]
    },
    {
      "cell_type": "code",
      "metadata": {
        "colab": {
          "base_uri": "https://localhost:8080/"
        },
        "outputId": "008fa488-3c9c-4fdc-af5c-9cd03781c147",
        "id": "Cur8wap4z4IR"
      },
      "source": [
        "cf_matrix5 = confusion_matrix(Y_test, preds5)\n",
        "print(cf_matrix5)"
      ],
      "execution_count": 393,
      "outputs": [
        {
          "output_type": "stream",
          "name": "stdout",
          "text": [
            "[[21 10]\n",
            " [10 10]]\n"
          ]
        }
      ]
    },
    {
      "cell_type": "code",
      "source": [
        "MCC(Y_test, preds5)"
      ],
      "metadata": {
        "colab": {
          "base_uri": "https://localhost:8080/"
        },
        "outputId": "9a246f55-8fe8-46ea-f5c7-e01bb01c8e68",
        "id": "CCCChR6jz4IS"
      },
      "execution_count": 394,
      "outputs": [
        {
          "output_type": "execute_result",
          "data": {
            "text/plain": [
              "0.1774193548387097"
            ]
          },
          "metadata": {},
          "execution_count": 394
        }
      ]
    },
    {
      "cell_type": "code",
      "source": [
        "recall(Y_test, preds5)"
      ],
      "metadata": {
        "colab": {
          "base_uri": "https://localhost:8080/"
        },
        "outputId": "9fe42aa3-f103-44de-886f-39f640e4d9a3",
        "id": "7hSSJP_Dz4IS"
      },
      "execution_count": 395,
      "outputs": [
        {
          "output_type": "execute_result",
          "data": {
            "text/plain": [
              "0.5"
            ]
          },
          "metadata": {},
          "execution_count": 395
        }
      ]
    },
    {
      "cell_type": "code",
      "source": [
        "sensibilite(Y_test, preds5)"
      ],
      "metadata": {
        "colab": {
          "base_uri": "https://localhost:8080/"
        },
        "outputId": "61e2110f-bfba-4292-aaf9-802148a04b50",
        "id": "AlNCQlajz4IT"
      },
      "execution_count": 396,
      "outputs": [
        {
          "output_type": "execute_result",
          "data": {
            "text/plain": [
              "0.5"
            ]
          },
          "metadata": {},
          "execution_count": 396
        }
      ]
    },
    {
      "cell_type": "code",
      "source": [
        "specifite(Y_test, preds5)"
      ],
      "metadata": {
        "colab": {
          "base_uri": "https://localhost:8080/"
        },
        "outputId": "2252f342-8076-4bb8-e25e-221e0ef3993c",
        "id": "fQZd8sYbz4IU"
      },
      "execution_count": 397,
      "outputs": [
        {
          "output_type": "execute_result",
          "data": {
            "text/plain": [
              "0.6774193548387096"
            ]
          },
          "metadata": {},
          "execution_count": 397
        }
      ]
    },
    {
      "cell_type": "code",
      "source": [
        "présicion_négative(Y_test, preds5)"
      ],
      "metadata": {
        "colab": {
          "base_uri": "https://localhost:8080/"
        },
        "outputId": "1c454adf-c819-434a-b300-273034bf5164",
        "id": "eiy_lIEAz4IV"
      },
      "execution_count": 398,
      "outputs": [
        {
          "output_type": "execute_result",
          "data": {
            "text/plain": [
              "0.6774193548387096"
            ]
          },
          "metadata": {},
          "execution_count": 398
        }
      ]
    },
    {
      "cell_type": "code",
      "source": [
        "présicion_positive(Y_test, preds5)"
      ],
      "metadata": {
        "colab": {
          "base_uri": "https://localhost:8080/"
        },
        "outputId": "9033360e-3768-4c8c-f452-d4564f995f57",
        "id": "yDxiQZ1oz4IW"
      },
      "execution_count": 399,
      "outputs": [
        {
          "output_type": "execute_result",
          "data": {
            "text/plain": [
              "0.5"
            ]
          },
          "metadata": {},
          "execution_count": 399
        }
      ]
    },
    {
      "cell_type": "code",
      "source": [
        "balancedacc(Y_test, preds5)"
      ],
      "metadata": {
        "colab": {
          "base_uri": "https://localhost:8080/"
        },
        "outputId": "ad2c963a-6186-4d60-8ffa-8df4353ee5fc",
        "id": "4lrr3y6jz4IW"
      },
      "execution_count": 400,
      "outputs": [
        {
          "output_type": "execute_result",
          "data": {
            "text/plain": [
              "0.5887096774193548"
            ]
          },
          "metadata": {},
          "execution_count": 400
        }
      ]
    },
    {
      "cell_type": "code",
      "source": [
        "kappa(Y_test, preds5)"
      ],
      "metadata": {
        "colab": {
          "base_uri": "https://localhost:8080/"
        },
        "outputId": "b3d3b4e0-dd66-42c5-a3f5-37318f28ff47",
        "id": "r0uSmog4z4IX"
      },
      "execution_count": 401,
      "outputs": [
        {
          "output_type": "execute_result",
          "data": {
            "text/plain": [
              "0.17741935483870963"
            ]
          },
          "metadata": {},
          "execution_count": 401
        }
      ]
    },
    {
      "cell_type": "code",
      "source": [
        "y_pred_proba = Classifier5.predict_proba(X_test)[::,1]\n",
        "fpr, tpr, _ = metrics.roc_curve(Y_test,  y_pred_proba)\n",
        "auc = metrics.roc_auc_score(Y_test, y_pred_proba)\n",
        "plt.plot(fpr,tpr,label=\"KNN, auc=\"+str(auc))\n",
        "plt.legend(loc=4)\n",
        "plt.show()"
      ],
      "metadata": {
        "colab": {
          "base_uri": "https://localhost:8080/",
          "height": 265
        },
        "outputId": "d136136d-7cc8-43ad-cd39-8f9bc92ab979",
        "id": "iQ65_5xLz4IX"
      },
      "execution_count": 402,
      "outputs": [
        {
          "output_type": "display_data",
          "data": {
            "image/png": "[encoded data removed]",
            "text/plain": [
              "<Figure size 432x288 with 1 Axes>"
            ]
          },
          "metadata": {
            "needs_background": "light"
          }
        }
      ]
    },
    {
      "cell_type": "markdown",
      "source": [
        "# MLPC"
      ],
      "metadata": {
        "id": "JSOjmzRT48EB"
      }
    },
    {
      "cell_type": "code",
      "source": [
        "from sklearn.neural_network import MLPClassifier"
      ],
      "metadata": {
        "id": "kTrWiH8BgHUe"
      },
      "execution_count": 403,
      "outputs": []
    },
    {
      "cell_type": "code",
      "source": [
        "Classifier6 = MLPClassifier(hidden_layer_sizes=100,max_iter=300)"
      ],
      "metadata": {
        "id": "u8ZCVkyH7au6"
      },
      "execution_count": 404,
      "outputs": []
    },
    {
      "cell_type": "code",
      "source": [
        "Classifier6.fit(X_app,Y_app)"
      ],
      "metadata": {
        "colab": {
          "base_uri": "https://localhost:8080/"
        },
        "outputId": "cd410baa-8e85-4002-9ad5-09074e3d0e03",
        "id": "3q96K7k_7au7"
      },
      "execution_count": 405,
      "outputs": [
        {
          "output_type": "execute_result",
          "data": {
            "text/plain": [
              "MLPClassifier(hidden_layer_sizes=100, max_iter=300)"
            ]
          },
          "metadata": {},
          "execution_count": 405
        }
      ]
    },
    {
      "cell_type": "code",
      "metadata": {
        "id": "bmwFgVgZ7au9"
      },
      "source": [
        "preds6 = Classifier6.predict(X_test)"
      ],
      "execution_count": 406,
      "outputs": []
    },
    {
      "cell_type": "code",
      "metadata": {
        "colab": {
          "base_uri": "https://localhost:8080/"
        },
        "outputId": "a2dd62fa-3263-4201-a178-b7a6d5908dec",
        "id": "fw-in7Pn7au_"
      },
      "source": [
        "preds6"
      ],
      "execution_count": 407,
      "outputs": [
        {
          "output_type": "execute_result",
          "data": {
            "text/plain": [
              "array([1, 0, 0, 1, 0, 0, 0, 0, 0, 0, 1, 1, 1, 0, 1, 1, 0, 0, 1, 1, 1, 0,\n",
              "       0, 0, 0, 1, 0, 1, 0, 0, 1, 1, 0, 0, 0, 0, 0, 1, 1, 1, 0, 1, 1, 1,\n",
              "       1, 0, 0, 1, 1, 1, 1])"
            ]
          },
          "metadata": {},
          "execution_count": 407
        }
      ]
    },
    {
      "cell_type": "code",
      "metadata": {
        "colab": {
          "base_uri": "https://localhost:8080/"
        },
        "outputId": "78dc0c4e-ffbd-4d0e-c47a-a8baa8fef02b",
        "id": "_lfXsjfr7avA"
      },
      "source": [
        "cf_matrix6 = confusion_matrix(Y_test, preds6)\n",
        "print(cf_matrix6)"
      ],
      "execution_count": 408,
      "outputs": [
        {
          "output_type": "stream",
          "name": "stdout",
          "text": [
            "[[19 12]\n",
            " [ 7 13]]\n"
          ]
        }
      ]
    },
    {
      "cell_type": "code",
      "source": [
        "MCC(Y_test, preds6)"
      ],
      "metadata": {
        "colab": {
          "base_uri": "https://localhost:8080/"
        },
        "outputId": "b5d63cc5-31d0-4ba0-8736-59368ce2496d",
        "id": "7pu_dMGr7avB"
      },
      "execution_count": 409,
      "outputs": [
        {
          "output_type": "execute_result",
          "data": {
            "text/plain": [
              "0.2567645608378097"
            ]
          },
          "metadata": {},
          "execution_count": 409
        }
      ]
    },
    {
      "cell_type": "code",
      "source": [
        "recall(Y_test, preds6)"
      ],
      "metadata": {
        "colab": {
          "base_uri": "https://localhost:8080/"
        },
        "outputId": "17098446-1c92-4553-8220-adde83df5ce1",
        "id": "q910vxIg7avC"
      },
      "execution_count": 410,
      "outputs": [
        {
          "output_type": "execute_result",
          "data": {
            "text/plain": [
              "0.65"
            ]
          },
          "metadata": {},
          "execution_count": 410
        }
      ]
    },
    {
      "cell_type": "code",
      "source": [
        "sensibilite(Y_test, preds6)"
      ],
      "metadata": {
        "colab": {
          "base_uri": "https://localhost:8080/"
        },
        "outputId": "e6f3d467-66ae-4582-aca0-3673b2d04e15",
        "id": "-EHzWArf7avC"
      },
      "execution_count": 411,
      "outputs": [
        {
          "output_type": "execute_result",
          "data": {
            "text/plain": [
              "0.65"
            ]
          },
          "metadata": {},
          "execution_count": 411
        }
      ]
    },
    {
      "cell_type": "code",
      "source": [
        "specifite(Y_test, preds6)"
      ],
      "metadata": {
        "colab": {
          "base_uri": "https://localhost:8080/"
        },
        "outputId": "17b914d9-166f-4a55-bcce-4573e2c6b97d",
        "id": "Dht6FOif7avD"
      },
      "execution_count": 412,
      "outputs": [
        {
          "output_type": "execute_result",
          "data": {
            "text/plain": [
              "0.6129032258064516"
            ]
          },
          "metadata": {},
          "execution_count": 412
        }
      ]
    },
    {
      "cell_type": "code",
      "source": [
        "présicion_négative(Y_test, preds6)"
      ],
      "metadata": {
        "colab": {
          "base_uri": "https://localhost:8080/"
        },
        "outputId": "dc2b82ef-4a0e-43e1-b0ef-0c67d8d9e2dc",
        "id": "EvET3j2E7avD"
      },
      "execution_count": 413,
      "outputs": [
        {
          "output_type": "execute_result",
          "data": {
            "text/plain": [
              "0.7307692307692307"
            ]
          },
          "metadata": {},
          "execution_count": 413
        }
      ]
    },
    {
      "cell_type": "code",
      "source": [
        "présicion_positive(Y_test, preds6)"
      ],
      "metadata": {
        "colab": {
          "base_uri": "https://localhost:8080/"
        },
        "outputId": "2590b56a-0cae-4071-e546-24543d38c22a",
        "id": "swTtPanh7avE"
      },
      "execution_count": 414,
      "outputs": [
        {
          "output_type": "execute_result",
          "data": {
            "text/plain": [
              "0.52"
            ]
          },
          "metadata": {},
          "execution_count": 414
        }
      ]
    },
    {
      "cell_type": "code",
      "source": [
        "balancedacc(Y_test, preds6)"
      ],
      "metadata": {
        "colab": {
          "base_uri": "https://localhost:8080/"
        },
        "outputId": "4ed371b9-877d-4524-fc42-77a10db01a11",
        "id": "sjrSKyAD7avF"
      },
      "execution_count": 415,
      "outputs": [
        {
          "output_type": "execute_result",
          "data": {
            "text/plain": [
              "0.6253846153846154"
            ]
          },
          "metadata": {},
          "execution_count": 415
        }
      ]
    },
    {
      "cell_type": "code",
      "source": [
        "kappa(Y_test, preds6)"
      ],
      "metadata": {
        "colab": {
          "base_uri": "https://localhost:8080/"
        },
        "outputId": "74a34ed5-3784-4e74-e5e9-5508b2d36708",
        "id": "yuImLPCt7avG"
      },
      "execution_count": 416,
      "outputs": [
        {
          "output_type": "execute_result",
          "data": {
            "text/plain": [
              "0.25173745173745166"
            ]
          },
          "metadata": {},
          "execution_count": 416
        }
      ]
    },
    {
      "cell_type": "code",
      "source": [
        "y_pred_proba = Classifier6.predict_proba(X_test)[::,1]\n",
        "fpr, tpr, _ = metrics.roc_curve(Y_test,  y_pred_proba)\n",
        "auc = metrics.roc_auc_score(Y_test, y_pred_proba)\n",
        "plt.plot(fpr,tpr,label=\"MLPC, auc=\"+str(auc))\n",
        "plt.legend(loc=4)\n",
        "plt.show()"
      ],
      "metadata": {
        "colab": {
          "base_uri": "https://localhost:8080/",
          "height": 265
        },
        "outputId": "c53ef713-a0d6-4841-ef35-fd26d1cebe47",
        "id": "axoaIvAd7avG"
      },
      "execution_count": 417,
      "outputs": [
        {
          "output_type": "display_data",
          "data": {
            "image/png": "[encoded data removed]",
            "text/plain": [
              "<Figure size 432x288 with 1 Axes>"
            ]
          },
          "metadata": {
            "needs_background": "light"
          }
        }
      ]
    },
    {
      "cell_type": "markdown",
      "source": [
        "# SVM"
      ],
      "metadata": {
        "id": "ZrStCapd-xfv"
      }
    },
    {
      "cell_type": "code",
      "source": [
        "Classifier7 = svm.SVC(kernel='rbf',gamma=0.05,C=12)"
      ],
      "metadata": {
        "id": "bL7fPd6m-xfx"
      },
      "execution_count": 418,
      "outputs": []
    },
    {
      "cell_type": "code",
      "source": [
        "Classifier7.fit(X_app,Y_app)"
      ],
      "metadata": {
        "colab": {
          "base_uri": "https://localhost:8080/"
        },
        "outputId": "824dfa60-2c8c-4341-cabb-6daac6045016",
        "id": "-6xFLeXo-xfz"
      },
      "execution_count": 419,
      "outputs": [
        {
          "output_type": "execute_result",
          "data": {
            "text/plain": [
              "SVC(C=12, gamma=0.05)"
            ]
          },
          "metadata": {},
          "execution_count": 419
        }
      ]
    },
    {
      "cell_type": "code",
      "metadata": {
        "id": "RgkyEzm5-xf0"
      },
      "source": [
        "preds7 = Classifier7.predict(X_test)"
      ],
      "execution_count": 420,
      "outputs": []
    },
    {
      "cell_type": "code",
      "metadata": {
        "colab": {
          "base_uri": "https://localhost:8080/"
        },
        "outputId": "56903f54-4eae-4f53-dc89-5b9a252da202",
        "id": "NFvKopxU-xf0"
      },
      "source": [
        "preds7"
      ],
      "execution_count": 421,
      "outputs": [
        {
          "output_type": "execute_result",
          "data": {
            "text/plain": [
              "array([1, 1, 1, 1, 0, 0, 1, 1, 1, 1, 1, 1, 1, 1, 1, 1, 1, 1, 0, 1, 1, 1,\n",
              "       1, 1, 1, 1, 1, 1, 1, 1, 1, 1, 1, 1, 1, 1, 1, 1, 1, 1, 1, 1, 1, 1,\n",
              "       1, 1, 1, 1, 1, 1, 1])"
            ]
          },
          "metadata": {},
          "execution_count": 421
        }
      ]
    },
    {
      "cell_type": "code",
      "metadata": {
        "colab": {
          "base_uri": "https://localhost:8080/"
        },
        "outputId": "e90e7004-e92f-4b7b-cccd-b4d7f0a2dd9c",
        "id": "-M83HpkZ-xf1"
      },
      "source": [
        "cf_matrix7 = confusion_matrix(Y_test, preds7)\n",
        "print(cf_matrix7)"
      ],
      "execution_count": 422,
      "outputs": [
        {
          "output_type": "stream",
          "name": "stdout",
          "text": [
            "[[ 3 28]\n",
            " [ 0 20]]\n"
          ]
        }
      ]
    },
    {
      "cell_type": "code",
      "source": [
        "MCC(Y_test, preds7)"
      ],
      "metadata": {
        "colab": {
          "base_uri": "https://localhost:8080/"
        },
        "outputId": "0dec0074-42b5-4fae-b203-e0d6b28b84a9",
        "id": "ANDDZOPd-xf2"
      },
      "execution_count": 423,
      "outputs": [
        {
          "output_type": "execute_result",
          "data": {
            "text/plain": [
              "0.2008048322256247"
            ]
          },
          "metadata": {},
          "execution_count": 423
        }
      ]
    },
    {
      "cell_type": "code",
      "source": [
        "recall(Y_test, preds7)"
      ],
      "metadata": {
        "colab": {
          "base_uri": "https://localhost:8080/"
        },
        "outputId": "c49ed63c-7ed6-49de-a27c-a8f9b5e0351f",
        "id": "lg9p7hmj-xf3"
      },
      "execution_count": 424,
      "outputs": [
        {
          "output_type": "execute_result",
          "data": {
            "text/plain": [
              "1.0"
            ]
          },
          "metadata": {},
          "execution_count": 424
        }
      ]
    },
    {
      "cell_type": "code",
      "source": [
        "sensibilite(Y_test, preds7)"
      ],
      "metadata": {
        "colab": {
          "base_uri": "https://localhost:8080/"
        },
        "outputId": "fa08967c-daf4-418f-b862-b222a6461ae7",
        "id": "_WPsB_k_-xf3"
      },
      "execution_count": 425,
      "outputs": [
        {
          "output_type": "execute_result",
          "data": {
            "text/plain": [
              "1.0"
            ]
          },
          "metadata": {},
          "execution_count": 425
        }
      ]
    },
    {
      "cell_type": "code",
      "source": [
        "specifite(Y_test, preds7)"
      ],
      "metadata": {
        "id": "LD3aqdbx-xf4",
        "outputId": "f3a8a0a1-ef38-47de-e87a-55457c4b6bdf",
        "colab": {
          "base_uri": "https://localhost:8080/"
        }
      },
      "execution_count": 426,
      "outputs": [
        {
          "output_type": "execute_result",
          "data": {
            "text/plain": [
              "0.0967741935483871"
            ]
          },
          "metadata": {},
          "execution_count": 426
        }
      ]
    },
    {
      "cell_type": "code",
      "source": [
        "présicion_négative(Y_test, preds7)"
      ],
      "metadata": {
        "colab": {
          "base_uri": "https://localhost:8080/"
        },
        "outputId": "89bc2bc2-8be6-421e-ee8b-5c6b86d210c0",
        "id": "oq8CHk5h-xf4"
      },
      "execution_count": 427,
      "outputs": [
        {
          "output_type": "execute_result",
          "data": {
            "text/plain": [
              "1.0"
            ]
          },
          "metadata": {},
          "execution_count": 427
        }
      ]
    },
    {
      "cell_type": "code",
      "source": [
        "présicion_positive(Y_test, preds7)"
      ],
      "metadata": {
        "colab": {
          "base_uri": "https://localhost:8080/"
        },
        "outputId": "5726ede2-214f-408a-fa48-6f70b3a6647c",
        "id": "7ExhWirz-xf5"
      },
      "execution_count": 428,
      "outputs": [
        {
          "output_type": "execute_result",
          "data": {
            "text/plain": [
              "0.4166666666666667"
            ]
          },
          "metadata": {},
          "execution_count": 428
        }
      ]
    },
    {
      "cell_type": "code",
      "source": [
        "balancedacc(Y_test, preds7)"
      ],
      "metadata": {
        "colab": {
          "base_uri": "https://localhost:8080/"
        },
        "outputId": "e5f2aee2-9e87-4d16-c483-301d408e4c8f",
        "id": "3O2CWE-V-xf6"
      },
      "execution_count": 429,
      "outputs": [
        {
          "output_type": "execute_result",
          "data": {
            "text/plain": [
              "0.7083333333333334"
            ]
          },
          "metadata": {},
          "execution_count": 429
        }
      ]
    },
    {
      "cell_type": "code",
      "source": [
        "kappa(Y_test, preds7)"
      ],
      "metadata": {
        "colab": {
          "base_uri": "https://localhost:8080/"
        },
        "outputId": "bfce2726-13d9-4b3a-9d1f-de9255a1ec66",
        "id": "qa5wm9Y2-xf6"
      },
      "execution_count": 430,
      "outputs": [
        {
          "output_type": "execute_result",
          "data": {
            "text/plain": [
              "0.07751937984496116"
            ]
          },
          "metadata": {},
          "execution_count": 430
        }
      ]
    },
    {
      "cell_type": "code",
      "source": [
        "from sklearn.metrics import roc_auc_score"
      ],
      "metadata": {
        "id": "5gE_Ahhf5Wi2"
      },
      "execution_count": 431,
      "outputs": []
    },
    {
      "cell_type": "code",
      "source": [
        "roc_auc_score(Y_test, Classifier7.decision_function(X_test))"
      ],
      "metadata": {
        "id": "U3TC1DQW5Wmf",
        "outputId": "f5a94785-e66d-48c3-c172-9a15ec6237a1",
        "colab": {
          "base_uri": "https://localhost:8080/"
        }
      },
      "execution_count": 432,
      "outputs": [
        {
          "output_type": "execute_result",
          "data": {
            "text/plain": [
              "0.7161290322580645"
            ]
          },
          "metadata": {},
          "execution_count": 432
        }
      ]
    }
  ]
}